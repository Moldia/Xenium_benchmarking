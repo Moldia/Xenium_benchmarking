{
 "cells": [
  {
   "cell_type": "code",
   "execution_count": 108,
   "id": "99be5c6b",
   "metadata": {},
   "outputs": [],
   "source": [
    "# NOTEBOOK FOR BATCH PROCESSING SEGMENTATION"
   ]
  },
  {
   "cell_type": "code",
   "execution_count": 1,
   "id": "3ac1a322",
   "metadata": {},
   "outputs": [],
   "source": [
    "import numpy as np\n",
    "import pandas as pd\n",
    "import tifffile as tf\n",
    "from cellpose import models\n",
    "from cellpose import utils\n",
    "from skimage.measure import label, regionprops\n",
    "import os\n",
    "from tqdm import tqdm\n",
    "from scipy.spatial.distance import cdist\n",
    "from skimage.segmentation import expand_labels, watershed\n",
    "import matplotlib.pyplot as plt"
   ]
  },
  {
   "cell_type": "code",
   "execution_count": 2,
   "id": "9ecda372",
   "metadata": {},
   "outputs": [],
   "source": [
    "path_unsegmented_datasets='../../figures/2.comparison_between_datasets/input_for_segmentation/'\n",
    "datasets=os.listdir(path_unsegmented_datasets)"
   ]
  },
  {
   "cell_type": "code",
   "execution_count": 3,
   "id": "b75a4ede",
   "metadata": {},
   "outputs": [],
   "source": [
    "ds='Vizgen'"
   ]
  },
  {
   "cell_type": "code",
   "execution_count": 6,
   "id": "5392abe3",
   "metadata": {},
   "outputs": [],
   "source": [
    "## COSMX DATASET BREAKS TO SEGMENT\n",
    "## VIZGEN DATASET DOESN'T HAVE A GOOD CORRESPONDANCE TO READS. WE NEED TO APPLY A TRANSFORMATION (MAYBE?)"
   ]
  },
  {
   "cell_type": "code",
   "execution_count": 5,
   "id": "871ad20a",
   "metadata": {},
   "outputs": [
    {
     "name": "stderr",
     "output_type": "stream",
     "text": [
      "\n",
      "KeyboardInterrupt\n",
      "\n"
     ]
    }
   ],
   "source": [
    "#########this is the formatting\n",
    "read_positions = pd.read_csv(path_unsegmented_datasets+ds+'/datasets_mouse_brain_map_BrainReceptorShowcase_Slice2_Replicate3_detected_transcripts_S2R3.csv',index_col=0)\n",
    "read_positions['x']=read_positions['global_x']*9.205861091613769531\n",
    "read_positions['y']=read_positions['global_y']*9.205861091613769531\n",
    "read_positions=read_positions.loc[:,['x','y','gene']]\n",
    "read_positions.to_csv(path_unsegmented_datasets+ds+'/transcripts.csv')"
   ]
  },
  {
   "cell_type": "code",
   "execution_count": 4,
   "id": "884ac392",
   "metadata": {},
   "outputs": [],
   "source": [
    "# everything is already converted, no need to do it again\n",
    "read_positions=pd.read_csv(path_unsegmented_datasets+ds+'/transcripts.csv',index_col=0)"
   ]
  },
  {
   "cell_type": "code",
   "execution_count": 9,
   "id": "4b8f5ff1",
   "metadata": {},
   "outputs": [],
   "source": [
    "dapi_image = tf.imread(path_unsegmented_datasets+ds+'/DAPI.tif')\n",
    "tile_size=[2000,2000]\n",
    "overlap=100\n",
    "tile_positions = []\n",
    "segmented_masks = []\n",
    "from tqdm import tqdm"
   ]
  },
  {
   "cell_type": "code",
   "execution_count": null,
   "id": "af940529",
   "metadata": {},
   "outputs": [
    {
     "data": {
      "text/plain": [
       "<matplotlib.collections.PathCollection at 0x7faed61f0790>"
      ]
     },
     "execution_count": 24,
     "metadata": {},
     "output_type": "execute_result"
    }
   ],
   "source": [
    "# Display the final mask (for visualization purposes)\n",
    "plt.figure(figsize=(10,10))\n",
    "plt.imshow(dapi_image,vmax=2700)\n",
    "plt.scatter(read_positions.x,read_positions.y,s=0.001,c='red')"
   ]
  },
  {
   "cell_type": "code",
   "execution_count": null,
   "id": "a46c4ea3",
   "metadata": {},
   "outputs": [
    {
     "name": "stderr",
     "output_type": "stream",
     "text": [
      "  0%|                                                                                            | 0/37 [00:00<?, ?it/s]\n",
      "  0%|                                                                                            | 0/49 [00:00<?, ?it/s]\u001b[A/home/sergio/.local/lib/python3.8/site-packages/numpy/core/fromnumeric.py:3440: RuntimeWarning: Mean of empty slice.\n",
      "  return _methods._mean(a, axis=axis, dtype=dtype,\n",
      "/home/sergio/.local/lib/python3.8/site-packages/numpy/core/_methods.py:189: RuntimeWarning: invalid value encountered in double_scalars\n",
      "  ret = ret.dtype.type(ret / rcount)\n",
      "\n",
      "  2%|█▋                                                                                | 1/49 [01:20<1:04:35, 80.74s/it]\u001b[A\n",
      "  4%|███▎                                                                             | 2/49 [03:22<1:22:06, 104.81s/it]\u001b[A\n",
      "  6%|█████                                                                             | 3/49 [04:46<1:13:11, 95.47s/it]\u001b[A\n",
      "  8%|██████▋                                                                           | 4/49 [06:10<1:08:02, 90.73s/it]\u001b[A\n",
      " 10%|████████▎                                                                         | 5/49 [07:36<1:05:13, 88.95s/it]\u001b[A\n",
      " 12%|██████████                                                                        | 6/49 [08:52<1:00:42, 84.72s/it]\u001b[A\n",
      " 14%|████████████                                                                        | 7/49 [10:14<58:40, 83.83s/it]\u001b[A\n",
      " 16%|█████████████▋                                                                      | 8/49 [11:38<57:22, 83.96s/it]\u001b[A\n",
      " 18%|███████████████▍                                                                    | 9/49 [12:58<55:04, 82.61s/it]\u001b[A\n",
      " 20%|████████████████▉                                                                  | 10/49 [14:23<54:08, 83.30s/it]\u001b[A\n",
      " 22%|██████████████████▋                                                                | 11/49 [15:47<53:01, 83.72s/it]\u001b[A\n",
      " 24%|████████████████████▎                                                              | 12/49 [17:11<51:39, 83.77s/it]\u001b[A\n",
      " 27%|██████████████████████                                                             | 13/49 [18:36<50:21, 83.92s/it]\u001b[A\n",
      " 29%|███████████████████████▋                                                           | 14/49 [20:04<49:45, 85.29s/it]\u001b[A\n",
      " 31%|█████████████████████████▍                                                         | 15/49 [21:15<45:57, 81.09s/it]\u001b[A\n",
      " 33%|██████████████████████████▊                                                       | 16/49 [24:05<59:19, 107.87s/it]\u001b[A\n",
      " 35%|███████████████████████████▊                                                    | 17/49 [26:29<1:03:11, 118.50s/it]\u001b[A\n",
      " 37%|█████████████████████████████▍                                                  | 18/49 [28:56<1:05:39, 127.08s/it]\u001b[A\n",
      " 39%|███████████████████████████████                                                 | 19/49 [31:35<1:08:23, 136.77s/it]\u001b[A\n",
      " 41%|████████████████████████████████▋                                               | 20/49 [34:21<1:10:23, 145.64s/it]\u001b[A\n",
      " 43%|██████████████████████████████████▎                                             | 21/49 [36:53<1:08:44, 147.29s/it]\u001b[A\n",
      " 45%|███████████████████████████████████▉                                            | 22/49 [39:17<1:05:51, 146.35s/it]\u001b[A\n",
      " 47%|█████████████████████████████████████▌                                          | 23/49 [41:19<1:00:16, 139.11s/it]\u001b[A\n",
      " 49%|████████████████████████████████████████▏                                         | 24/49 [43:44<58:45, 141.02s/it]\u001b[A\n",
      " 51%|█████████████████████████████████████████▊                                        | 25/49 [46:29<59:14, 148.10s/it]\u001b[A\n",
      " 53%|███████████████████████████████████████████▌                                      | 26/49 [49:07<57:54, 151.08s/it]\u001b[A\n",
      " 55%|█████████████████████████████████████████████▏                                    | 27/49 [52:02<57:59, 158.18s/it]\u001b[A\n",
      " 57%|██████████████████████████████████████████████▊                                   | 28/49 [55:00<57:29, 164.26s/it]\u001b[A\n",
      " 59%|████████████████████████████████████████████████▌                                 | 29/49 [57:28<53:04, 159.21s/it]\u001b[A\n",
      " 61%|████████████████████████████████████████████████▉                               | 30/49 [1:00:07<50:28, 159.39s/it]\u001b[A\n",
      " 63%|██████████████████████████████████████████████████▌                             | 31/49 [1:02:55<48:32, 161.82s/it]\u001b[A\n",
      " 65%|████████████████████████████████████████████████████▏                           | 32/49 [1:05:48<46:50, 165.31s/it]\u001b[A\n",
      " 67%|█████████████████████████████████████████████████████▉                          | 33/49 [1:08:21<43:02, 161.39s/it]\u001b[A\n",
      " 69%|███████████████████████████████████████████████████████▌                        | 34/49 [1:10:59<40:05, 160.35s/it]\u001b[A\n",
      " 71%|█████████████████████████████████████████████████████████▏                      | 35/49 [1:13:34<37:05, 158.96s/it]\u001b[A\n",
      " 73%|██████████████████████████████████████████████████████████▊                     | 36/49 [1:16:10<34:13, 157.98s/it]\u001b[A\n",
      " 76%|████████████████████████████████████████████████████████████▍                   | 37/49 [1:18:37<30:57, 154.82s/it]\u001b[A\n",
      " 78%|██████████████████████████████████████████████████████████████                  | 38/49 [1:21:28<29:13, 159.44s/it]\u001b[A\n",
      " 80%|███████████████████████████████████████████████████████████████▋                | 39/49 [1:23:54<25:55, 155.55s/it]\u001b[A\n",
      " 82%|█████████████████████████████████████████████████████████████████▎              | 40/49 [1:26:14<22:36, 150.77s/it]\u001b[A\n",
      " 84%|██████████████████████████████████████████████████████████████████▉             | 41/49 [1:28:36<19:45, 148.16s/it]\u001b[A\n",
      " 86%|████████████████████████████████████████████████████████████████████▌           | 42/49 [1:31:13<17:36, 150.98s/it]\u001b[A\n",
      " 88%|██████████████████████████████████████████████████████████████████████▏         | 43/49 [1:33:07<13:59, 139.86s/it]\u001b[A\n",
      " 90%|███████████████████████████████████████████████████████████████████████▊        | 44/49 [1:34:15<09:50, 118.18s/it]\u001b[A\n",
      " 92%|█████████████████████████████████████████████████████████████████████████▍      | 45/49 [1:35:22<06:51, 102.87s/it]\u001b[A\n",
      " 94%|████████████████████████████████████████████████████████████████████████████     | 46/49 [1:36:29<04:36, 92.03s/it]\u001b[A\n",
      " 96%|█████████████████████████████████████████████████████████████████████████████▋   | 47/49 [1:37:35<02:48, 84.39s/it]\u001b[A\n",
      " 98%|███████████████████████████████████████████████████████████████████████████████▎ | 48/49 [1:38:42<01:19, 79.23s/it]\u001b[A\n",
      "100%|████████████████████████████████████████████████████████████████████████████████| 49/49 [1:39:32<00:00, 121.89s/it]\u001b[A\n",
      "  3%|██                                                                           | 1/37 [1:39:32<59:43:38, 5972.74s/it]\n",
      "  0%|                                                                                            | 0/49 [00:00<?, ?it/s]\u001b[A\n",
      "  2%|█▋                                                                                  | 1/49 [00:59<47:34, 59.47s/it]\u001b[A\n",
      "  4%|███▍                                                                                | 2/49 [01:58<46:17, 59.09s/it]\u001b[A\n",
      "  6%|█████▏                                                                              | 3/49 [02:56<44:55, 58.60s/it]\u001b[A\n",
      "  8%|██████▊                                                                             | 4/49 [03:54<43:56, 58.60s/it]\u001b[A\n",
      " 10%|████████▌                                                                           | 5/49 [04:53<42:52, 58.47s/it]\u001b[A\n",
      " 12%|██████████▎                                                                         | 6/49 [05:50<41:44, 58.24s/it]\u001b[A\n",
      " 14%|████████████                                                                        | 7/49 [06:49<40:48, 58.30s/it]\u001b[A\n",
      " 16%|█████████████▋                                                                      | 8/49 [07:47<39:52, 58.35s/it]\u001b[A\n",
      " 18%|███████████████▍                                                                    | 9/49 [08:45<38:47, 58.19s/it]\u001b[A\n",
      " 20%|████████████████▉                                                                  | 10/49 [09:44<37:54, 58.33s/it]\u001b[A\n",
      " 22%|██████████████████▋                                                                | 11/49 [10:43<37:01, 58.45s/it]\u001b[A\n",
      " 24%|████████████████████▎                                                              | 12/49 [11:41<36:03, 58.49s/it]\u001b[A\n",
      " 27%|██████████████████████                                                             | 13/49 [12:41<35:16, 58.80s/it]\u001b[A\n",
      " 29%|███████████████████████▋                                                           | 14/49 [14:30<43:09, 74.00s/it]\u001b[A\n",
      " 31%|█████████████████████████▍                                                         | 15/49 [16:12<46:41, 82.41s/it]\u001b[A\n",
      " 33%|███████████████████████████                                                        | 16/49 [18:28<54:14, 98.61s/it]\u001b[A\n",
      " 35%|████████████████████████████▍                                                     | 17/49 [20:14<53:46, 100.84s/it]\u001b[A\n",
      " 37%|██████████████████████████████                                                    | 18/49 [22:09<54:14, 104.99s/it]\u001b[A\n",
      " 39%|███████████████████████████████▊                                                  | 19/49 [24:15<55:42, 111.41s/it]\u001b[A\n",
      " 41%|█████████████████████████████████▍                                                | 20/49 [26:04<53:33, 110.80s/it]\u001b[A\n",
      " 43%|███████████████████████████████████▏                                              | 21/49 [28:13<54:13, 116.21s/it]\u001b[A\n",
      " 45%|█████████████████████████████████████▎                                             | 22/49 [29:15<44:54, 99.81s/it]\u001b[A\n",
      " 47%|██████████████████████████████████████▍                                           | 23/49 [31:08<45:00, 103.85s/it]\u001b[A\n",
      " 49%|████████████████████████████████████████▏                                         | 24/49 [32:43<42:06, 101.07s/it]\u001b[A\n",
      " 51%|██████████████████████████████████████████▎                                        | 25/49 [34:16<39:30, 98.77s/it]\u001b[A\n",
      " 53%|████████████████████████████████████████████                                       | 26/49 [35:50<37:17, 97.29s/it]\u001b[A\n",
      " 55%|█████████████████████████████████████████████▋                                     | 27/49 [37:25<35:24, 96.58s/it]\u001b[A\n",
      " 57%|███████████████████████████████████████████████▍                                   | 28/49 [39:03<34:02, 97.24s/it]\u001b[A\n",
      " 59%|█████████████████████████████████████████████████                                  | 29/49 [40:40<32:19, 96.97s/it]\u001b[A\n",
      " 61%|██████████████████████████████████████████████████▊                                | 30/49 [42:12<30:15, 95.57s/it]\u001b[A\n",
      " 63%|████████████████████████████████████████████████████▌                              | 31/49 [43:41<28:03, 93.55s/it]\u001b[A\n",
      " 65%|██████████████████████████████████████████████████████▏                            | 32/49 [45:11<26:13, 92.55s/it]\u001b[A\n",
      " 67%|███████████████████████████████████████████████████████▉                           | 33/49 [46:44<24:43, 92.75s/it]\u001b[A\n",
      " 69%|█████████████████████████████████████████████████████████▌                         | 34/49 [48:18<23:15, 93.03s/it]\u001b[A\n",
      " 71%|███████████████████████████████████████████████████████████▎                       | 35/49 [50:11<23:06, 99.03s/it]\u001b[A\n",
      " 73%|████████████████████████████████████████████████████████████▏                     | 36/49 [52:13<22:55, 105.77s/it]\u001b[A\n",
      " 76%|█████████████████████████████████████████████████████████████▉                    | 37/49 [54:45<23:55, 119.63s/it]\u001b[A\n",
      " 78%|███████████████████████████████████████████████████████████████▌                  | 38/49 [57:27<24:15, 132.36s/it]\u001b[A\n",
      " 80%|█████████████████████████████████████████████████████████████████▎                | 39/49 [59:21<21:08, 126.83s/it]\u001b[A\n",
      " 82%|█████████████████████████████████████████████████████████████████▎              | 40/49 [1:01:19<18:38, 124.30s/it]\u001b[A\n",
      " 84%|██████████████████████████████████████████████████████████████████▉             | 41/49 [1:03:24<16:36, 124.52s/it]\u001b[A\n",
      " 86%|████████████████████████████████████████████████████████████████████▌           | 42/49 [1:05:25<14:23, 123.33s/it]\u001b[A\n",
      " 88%|██████████████████████████████████████████████████████████████████████▏         | 43/49 [1:07:07<11:41, 116.96s/it]\u001b[A\n",
      " 90%|███████████████████████████████████████████████████████████████████████▊        | 44/49 [1:08:41<09:11, 110.30s/it]\u001b[A\n",
      " 92%|██████████████████████████████████████████████████████████████████████████▍      | 45/49 [1:09:42<06:21, 95.46s/it]\u001b[A\n",
      " 94%|████████████████████████████████████████████████████████████████████████████     | 46/49 [1:10:43<04:14, 84.94s/it]\u001b[A\n",
      " 96%|█████████████████████████████████████████████████████████████████████████████▋   | 47/49 [1:11:44<02:35, 77.87s/it]\u001b[A\n",
      " 98%|███████████████████████████████████████████████████████████████████████████████▎ | 48/49 [1:12:45<01:12, 72.68s/it]\u001b[A\n",
      "100%|█████████████████████████████████████████████████████████████████████████████████| 49/49 [1:13:34<00:00, 90.09s/it]\u001b[A\n",
      "  5%|████▏                                                                        | 2/37 [2:53:07<49:09:25, 5056.16s/it]\n",
      "  0%|                                                                                            | 0/49 [00:00<?, ?it/s]\u001b[A\n",
      "  2%|█▋                                                                                  | 1/49 [01:04<51:19, 64.15s/it]\u001b[A\n",
      "  4%|███▍                                                                                | 2/49 [02:10<51:02, 65.17s/it]\u001b[A\n",
      "  6%|█████▏                                                                              | 3/49 [03:33<56:14, 73.35s/it]\u001b[A\n",
      "  8%|██████▊                                                                             | 4/49 [05:03<59:55, 79.90s/it]\u001b[A\n",
      " 10%|████████▎                                                                         | 5/49 [06:50<1:05:45, 89.66s/it]\u001b[A"
     ]
    }
   ],
   "source": [
    "height, width = dapi_image.shape[:2]\n",
    "\n",
    "for y in tqdm(range(0, height, tile_size[1] - overlap)):\n",
    "    for x in tqdm(range(0, width, tile_size[0] - overlap)):\n",
    "        # Calculate tile boundaries\n",
    "        x1, x2 = x, min(x + tile_size[0], width)\n",
    "        y1, y2 = y, min(y + tile_size[1], height)\n",
    "\n",
    "        # Extract the tile\n",
    "        tile = dapi_image[y1:y2, x1:x2]\n",
    "\n",
    "        # Store the tile position\n",
    "        tile_positions.append((x1, y1))\n",
    "\n",
    "        # Step 2: Segment each tile with Cellpose\n",
    "        # Initialize Cellpose model\n",
    "        model = models.Cellpose(gpu=False)  # You can set GPU to True if available\n",
    "\n",
    "        # Run Cellpose on each tile\n",
    "        masks, _, _, _ = model.eval(tile, channels=[0, 0], diameter=None)  # Modify channels and diameter as needed\n",
    "        \n",
    "        segmented_masks.append(masks)"
   ]
  },
  {
   "cell_type": "code",
   "execution_count": null,
   "id": "7267b0a3",
   "metadata": {},
   "outputs": [],
   "source": []
  },
  {
   "cell_type": "code",
   "execution_count": null,
   "id": "b224dd44",
   "metadata": {},
   "outputs": [],
   "source": [
    "# Step 3: Recompose the segmented masks into a single mask\n",
    "full_mask = np.zeros((height, width), dtype=np.uint8)\n",
    "\n",
    "for mask, position in tqdm(zip(segmented_masks, tile_positions)):\n",
    "    x, y = position\n",
    "    h, w = mask.shape[:2]\n",
    "    full_mask[y:y + h, x:x + w] = mask # Assuming you want only one channel of the mask"
   ]
  },
  {
   "cell_type": "code",
   "execution_count": 17,
   "id": "3028b3b3",
   "metadata": {},
   "outputs": [
    {
     "data": {
      "text/plain": [
       "array([[0, 0, 0, ..., 0, 0, 0],\n",
       "       [0, 0, 0, ..., 0, 0, 0],\n",
       "       [0, 0, 0, ..., 0, 0, 0],\n",
       "       ...,\n",
       "       [0, 0, 0, ..., 0, 0, 0],\n",
       "       [0, 0, 0, ..., 0, 0, 0],\n",
       "       [0, 0, 0, ..., 0, 0, 0]], dtype=uint8)"
      ]
     },
     "execution_count": 17,
     "metadata": {},
     "output_type": "execute_result"
    }
   ],
   "source": [
    "full_mask"
   ]
  },
  {
   "cell_type": "code",
   "execution_count": 18,
   "id": "1854bf53",
   "metadata": {},
   "outputs": [],
   "source": [
    "# Optional: Save the full mask to a file\n",
    "tf.imwrite(path_unsegmented_datasets+ds+\"/segmented_mask.tif\", full_mask)"
   ]
  },
  {
   "cell_type": "code",
   "execution_count": 12,
   "id": "2e9fc333",
   "metadata": {},
   "outputs": [
    {
     "data": {
      "text/plain": [
       "255"
      ]
     },
     "execution_count": 12,
     "metadata": {},
     "output_type": "execute_result"
    }
   ],
   "source": [
    "np.max(full_mask)"
   ]
  },
  {
   "cell_type": "code",
   "execution_count": null,
   "id": "fccc5ece",
   "metadata": {},
   "outputs": [],
   "source": [
    "# Optional: Save the full mask to a file\n",
    "tf.imwrite(path_unsegmented_datasets+ds+\"/segmented_mask.tif\", full_mask)"
   ]
  },
  {
   "cell_type": "code",
   "execution_count": 4,
   "id": "f7df0304",
   "metadata": {},
   "outputs": [],
   "source": [
    "#read_positions = pd.read_csv(path_unsegmented_datasets+ds+'/transcripts.csv',index_col=0)"
   ]
  },
  {
   "cell_type": "code",
   "execution_count": 11,
   "id": "41f71500",
   "metadata": {},
   "outputs": [],
   "source": [
    "# Optional: Save the full mask to a file\n",
    "full_mask=tf.imread(path_unsegmented_datasets+ds+\"/segmented_mask.tif\")\n",
    "# everything is already converted, no need to do it again\n",
    "read_positions=pd.read_csv(path_unsegmented_datasets+ds+'/transcripts.csv',index_col=0)"
   ]
  },
  {
   "cell_type": "code",
   "execution_count": 5,
   "id": "732e55df",
   "metadata": {},
   "outputs": [],
   "source": [
    "# this is for xenium\n",
    "#from tqdm import tqdm\n",
    "#read_positions['x']=read_positions['x']*4.70588\n",
    "#read_positions['y']=read_positions['y']*4.70588"
   ]
  },
  {
   "cell_type": "code",
   "execution_count": 6,
   "id": "1404227b",
   "metadata": {},
   "outputs": [],
   "source": [
    "#this is for nanostring\n",
    "#read_positions['x']=read_positions['y_global_px']\n",
    "#read_positions['y']=read_positions['x_global_px']\n",
    "#read_positions['x']=np.max(read_positions['x'])-read_positions['x']\n",
    "#read_positions['y']=np.max(read_positions['y'])-read_positions['y']"
   ]
  },
  {
   "cell_type": "code",
   "execution_count": null,
   "id": "237a05db",
   "metadata": {},
   "outputs": [],
   "source": [
    "# Display the final mask (for visualization purposes)\n",
    "plt.figure(figsize=(10,10))\n",
    "plt.imshow(full_mask,vmax=100)\n",
    "plt.scatter(read_positions.x,read_positions.y,s=0.00001,c='red')"
   ]
  },
  {
   "cell_type": "code",
   "execution_count": 7,
   "id": "d5d890e5",
   "metadata": {},
   "outputs": [],
   "source": [
    "bin_mask=(full_mask>0)*1\n",
    "del full_mask"
   ]
  },
  {
   "cell_type": "code",
   "execution_count": 8,
   "id": "5ec32c2d",
   "metadata": {},
   "outputs": [],
   "source": [
    "labeled_nuclei = label(bin_mask)"
   ]
  },
  {
   "cell_type": "code",
   "execution_count": 9,
   "id": "1bfd6231",
   "metadata": {},
   "outputs": [],
   "source": [
    "del bin_mask\n",
    "#del full_mask"
   ]
  },
  {
   "cell_type": "code",
   "execution_count": 10,
   "id": "4c8eb0fc",
   "metadata": {},
   "outputs": [],
   "source": [
    "tf.imwrite(path_unsegmented_datasets+ds+\"/labeled_nuclei.tif\", labeled_nuclei)"
   ]
  },
  {
   "cell_type": "code",
   "execution_count": null,
   "id": "2010621a",
   "metadata": {},
   "outputs": [],
   "source": [
    "tf.imwrite(path_unsegmented_datasets+ds+\"/labeled_nuclei.tif\", labeled_nuclei)"
   ]
  },
  {
   "cell_type": "code",
   "execution_count": null,
   "id": "1a7ca459",
   "metadata": {},
   "outputs": [],
   "source": []
  },
  {
   "cell_type": "code",
   "execution_count": null,
   "id": "0dffcbd0",
   "metadata": {},
   "outputs": [],
   "source": [
    "from tqdm import tqdm"
   ]
  },
  {
   "cell_type": "code",
   "execution_count": 6,
   "id": "de8f6907",
   "metadata": {},
   "outputs": [],
   "source": [
    "mid1=labeled_nuclei.shape[0]/3"
   ]
  },
  {
   "cell_type": "code",
   "execution_count": 10,
   "id": "317b5b65",
   "metadata": {},
   "outputs": [],
   "source": []
  },
  {
   "cell_type": "code",
   "execution_count": 7,
   "id": "d8cb2545",
   "metadata": {},
   "outputs": [],
   "source": [
    "labeled_nuclei1=labeled_nuclei[:int(mid1),:]"
   ]
  },
  {
   "cell_type": "code",
   "execution_count": 8,
   "id": "4570cfce",
   "metadata": {},
   "outputs": [],
   "source": [
    "#labeled_nuclei = label(masks)\n",
    "expanded_nuclei1 = expand_labels(labeled_nuclei1, distance=400)"
   ]
  },
  {
   "cell_type": "code",
   "execution_count": 9,
   "id": "207ee5ef",
   "metadata": {},
   "outputs": [],
   "source": [
    "tf.imwrite(path_unsegmented_datasets+ds+\"/expanded_nuclei1.tif\", expanded_nuclei1)"
   ]
  },
  {
   "cell_type": "code",
   "execution_count": null,
   "id": "e5c359bd",
   "metadata": {},
   "outputs": [],
   "source": [
    "mid2=(labeled_nuclei.shape[0]/3)+(labeled_nuclei.shape[0]/3)"
   ]
  },
  {
   "cell_type": "code",
   "execution_count": 12,
   "id": "e3fecd96",
   "metadata": {},
   "outputs": [],
   "source": [
    "labeled_nuclei2=labeled_nuclei[int(mid1):int(mid2),:]"
   ]
  },
  {
   "cell_type": "code",
   "execution_count": null,
   "id": "5ae61b4b",
   "metadata": {},
   "outputs": [],
   "source": [
    "#labeled_nuclei = label(masks)\n",
    "expanded_nuclei2 = expand_labels(labeled_nuclei2, distance=400)"
   ]
  },
  {
   "cell_type": "code",
   "execution_count": null,
   "id": "96965790",
   "metadata": {},
   "outputs": [],
   "source": [
    "tf.imwrite(path_unsegmented_datasets+ds+\"/expanded_nuclei2.tif\", expanded_nuclei2)"
   ]
  },
  {
   "cell_type": "code",
   "execution_count": null,
   "id": "d5014fe7",
   "metadata": {},
   "outputs": [],
   "source": [
    "labeled_nuclei3=labeled_nuclei[int(mid2):,:]"
   ]
  },
  {
   "cell_type": "code",
   "execution_count": null,
   "id": "b63b4ea8",
   "metadata": {},
   "outputs": [],
   "source": [
    "#labeled_nuclei = label(masks)\n",
    "expanded_nuclei3 = expand_labels(labeled_nuclei3, distance=400)"
   ]
  },
  {
   "cell_type": "code",
   "execution_count": null,
   "id": "00456dea",
   "metadata": {},
   "outputs": [],
   "source": [
    "tf.imwrite(path_unsegmented_datasets+ds+\"/expanded_nuclei3.tif\", expanded_nuclei3)"
   ]
  },
  {
   "cell_type": "code",
   "execution_count": 6,
   "id": "81e10dda",
   "metadata": {},
   "outputs": [],
   "source": [
    "expanded_nuclei3=tf.imread(path_unsegmented_datasets+ds+\"/expanded_nuclei3.tif\")\n",
    "expanded_nuclei2=tf.imread(path_unsegmented_datasets+ds+\"/expanded_nuclei2.tif\")\n",
    "expanded_nuclei1=tf.imread(path_unsegmented_datasets+ds+\"/expanded_nuclei1.tif\")"
   ]
  },
  {
   "cell_type": "code",
   "execution_count": 7,
   "id": "071352f6",
   "metadata": {},
   "outputs": [],
   "source": [
    "expanded_nuclei12=np.vstack((expanded_nuclei1,expanded_nuclei2))"
   ]
  },
  {
   "cell_type": "code",
   "execution_count": 8,
   "id": "3d7f979f",
   "metadata": {},
   "outputs": [],
   "source": [
    "del expanded_nuclei1\n",
    "del expanded_nuclei2"
   ]
  },
  {
   "cell_type": "code",
   "execution_count": 9,
   "id": "202bc268",
   "metadata": {},
   "outputs": [],
   "source": [
    "expanded_nuclei=np.vstack((expanded_nuclei12,expanded_nuclei3))\n",
    "del expanded_nuclei3\n",
    "del expanded_nuclei12"
   ]
  },
  {
   "cell_type": "code",
   "execution_count": 10,
   "id": "14d8d68f",
   "metadata": {},
   "outputs": [],
   "source": [
    "tf.imwrite(path_unsegmented_datasets+ds+\"/expanded_nuclei.tif\", expanded_nuclei)"
   ]
  },
  {
   "cell_type": "code",
   "execution_count": 17,
   "id": "a0d81f01",
   "metadata": {},
   "outputs": [],
   "source": [
    "expanded_nuclei=tf.imread(path_unsegmented_datasets+ds+\"/expanded_nuclei.tif\")"
   ]
  },
  {
   "cell_type": "code",
   "execution_count": 18,
   "id": "1b161312",
   "metadata": {},
   "outputs": [],
   "source": [
    "labeled_nuclei=tf.imread(path_unsegmented_datasets+ds+\"/labeled_nuclei.tif\")\n",
    "read_positions=pd.read_csv(path_unsegmented_datasets+ds+'/transcripts.csv',index_col=0)"
   ]
  },
  {
   "cell_type": "code",
   "execution_count": 19,
   "id": "0377052f",
   "metadata": {},
   "outputs": [],
   "source": [
    "read_positions['in_cell']=0\n",
    "read_positions['closest_cell']=0\n",
    "centroid_dictx={}\n",
    "centroid_dicty={}\n",
    "for nucleus_props in regionprops(labeled_nuclei):\n",
    "    centroid_dictx[nucleus_props.label]=nucleus_props.centroid[0]\n",
    "    centroid_dicty[nucleus_props.label]=nucleus_props.centroid[1]\n",
    "closest_cell=[]\n",
    "in_cell=[]"
   ]
  },
  {
   "cell_type": "code",
   "execution_count": 20,
   "id": "2a3688b6",
   "metadata": {},
   "outputs": [
    {
     "name": "stdout",
     "output_type": "stream",
     "text": [
      "starting with assignment\n"
     ]
    },
    {
     "name": "stderr",
     "output_type": "stream",
     "text": [
      "100%|████████████████████████████████████████████████████████████████████| 68716021/68716021 [43:19<00:00, 26435.43it/s]\n"
     ]
    }
   ],
   "source": [
    "print('starting with assignment')\n",
    "for ind in tqdm(read_positions.index):\n",
    "    try:\n",
    "        in_cell.append(labeled_nuclei[int(read_positions.loc[ind,'y']),int(read_positions.loc[ind,'x'])])\n",
    "        closest_cell.append(expanded_nuclei[int(read_positions.loc[ind,'y']),int(read_positions.loc[ind,'x'])])\n",
    "    except:\n",
    "        in_cell.append(0)\n",
    "        closest_cell.append(0)"
   ]
  },
  {
   "cell_type": "code",
   "execution_count": 21,
   "id": "35cff5e7",
   "metadata": {},
   "outputs": [],
   "source": [
    "del labeled_nuclei\n",
    "del expanded_nuclei"
   ]
  },
  {
   "cell_type": "code",
   "execution_count": 22,
   "id": "606d3712",
   "metadata": {},
   "outputs": [
    {
     "name": "stderr",
     "output_type": "stream",
     "text": [
      "/tmp/ipykernel_480094/1592245671.py:10: FutureWarning: X.dtype being converted to np.float32 from int64. In the next version of anndata (0.9) conversion will not be automatic. Pass dtype explicitly to avoid this warning. Pass `AnnData(X, dtype=X.dtype, ...)` to get the future behavour.\n",
      "  adata=sc.AnnData(cellxgene)\n",
      "/home/sergio/.local/lib/python3.8/site-packages/anndata/_core/anndata.py:121: ImplicitModificationWarning: Transforming to str index.\n",
      "  warnings.warn(\"Transforming to str index.\", ImplicitModificationWarning)\n"
     ]
    }
   ],
   "source": [
    "read_positions['in_cell']=in_cell\n",
    "read_positions['closest_cell']=closest_cell\n",
    "read_positions['closest_cell_x']=read_positions['closest_cell'].map(centroid_dictx)\n",
    "read_positions['closest_cell_y']=read_positions['closest_cell'].map(centroid_dicty)\n",
    "read_positions['distance_to_centroid']=np.sqrt((read_positions['closest_cell_x']-read_positions['y'])**2 +(read_positions['closest_cell_y']-read_positions['x'])**2)\n",
    "cellxgene=pd.crosstab(read_positions['in_cell'],read_positions['gene'])\n",
    "cellxgene=cellxgene.loc[~cellxgene.index.isin([0]),:]\n",
    "read_positions.to_csv(path_unsegmented_datasets+ds+'/transcripts_with_cell_assignment.csv')\n",
    "import scanpy as sc\n",
    "adata=sc.AnnData(cellxgene)\n",
    "adata.obs['x_centroid']=adata.obs.index.astype(int).map(centroid_dictx)\n",
    "adata.obs['y_centroid']=adata.obs.index.astype(int).map(centroid_dicty)\n",
    "adata.write(path_unsegmented_datasets+ds+'/adata.h5ad')"
   ]
  },
  {
   "cell_type": "code",
   "execution_count": 25,
   "id": "edf7d01a",
   "metadata": {},
   "outputs": [
    {
     "data": {
      "text/html": [
       "<div>\n",
       "<style scoped>\n",
       "    .dataframe tbody tr th:only-of-type {\n",
       "        vertical-align: middle;\n",
       "    }\n",
       "\n",
       "    .dataframe tbody tr th {\n",
       "        vertical-align: top;\n",
       "    }\n",
       "\n",
       "    .dataframe thead th {\n",
       "        text-align: right;\n",
       "    }\n",
       "</style>\n",
       "<table border=\"1\" class=\"dataframe\">\n",
       "  <thead>\n",
       "    <tr style=\"text-align: right;\">\n",
       "      <th></th>\n",
       "      <th>x</th>\n",
       "      <th>y</th>\n",
       "      <th>gene</th>\n",
       "      <th>in_cell</th>\n",
       "      <th>closest_cell</th>\n",
       "      <th>closest_cell_x</th>\n",
       "      <th>closest_cell_y</th>\n",
       "      <th>distance_to_centroid</th>\n",
       "    </tr>\n",
       "  </thead>\n",
       "  <tbody>\n",
       "    <tr>\n",
       "      <th>0</th>\n",
       "      <td>912.798926</td>\n",
       "      <td>20638.492940</td>\n",
       "      <td>Mc4r</td>\n",
       "      <td>0</td>\n",
       "      <td>115810</td>\n",
       "      <td>20642.685512</td>\n",
       "      <td>880.671378</td>\n",
       "      <td>32.399954</td>\n",
       "    </tr>\n",
       "    <tr>\n",
       "      <th>1</th>\n",
       "      <td>703.914017</td>\n",
       "      <td>21366.091060</td>\n",
       "      <td>Csf1r</td>\n",
       "      <td>0</td>\n",
       "      <td>118339</td>\n",
       "      <td>21330.785714</td>\n",
       "      <td>739.142857</td>\n",
       "      <td>49.875231</td>\n",
       "    </tr>\n",
       "    <tr>\n",
       "      <th>2</th>\n",
       "      <td>583.721558</td>\n",
       "      <td>22757.459382</td>\n",
       "      <td>Gpr22</td>\n",
       "      <td>0</td>\n",
       "      <td>123178</td>\n",
       "      <td>22794.066265</td>\n",
       "      <td>556.710843</td>\n",
       "      <td>45.493325</td>\n",
       "    </tr>\n",
       "    <tr>\n",
       "      <th>3</th>\n",
       "      <td>1299.980818</td>\n",
       "      <td>24007.155025</td>\n",
       "      <td>Agtr1a</td>\n",
       "      <td>0</td>\n",
       "      <td>127045</td>\n",
       "      <td>24020.344828</td>\n",
       "      <td>1255.637931</td>\n",
       "      <td>46.262972</td>\n",
       "    </tr>\n",
       "    <tr>\n",
       "      <th>4</th>\n",
       "      <td>195.099980</td>\n",
       "      <td>25273.608097</td>\n",
       "      <td>Gpr22</td>\n",
       "      <td>0</td>\n",
       "      <td>130615</td>\n",
       "      <td>25243.520958</td>\n",
       "      <td>197.838323</td>\n",
       "      <td>30.211496</td>\n",
       "    </tr>\n",
       "    <tr>\n",
       "      <th>...</th>\n",
       "      <td>...</td>\n",
       "      <td>...</td>\n",
       "      <td>...</td>\n",
       "      <td>...</td>\n",
       "      <td>...</td>\n",
       "      <td>...</td>\n",
       "      <td>...</td>\n",
       "      <td>...</td>\n",
       "    </tr>\n",
       "    <tr>\n",
       "      <th>68716016</th>\n",
       "      <td>91570.773925</td>\n",
       "      <td>26820.788380</td>\n",
       "      <td>Gpr22</td>\n",
       "      <td>0</td>\n",
       "      <td>134633</td>\n",
       "      <td>26833.000000</td>\n",
       "      <td>91562.000000</td>\n",
       "      <td>15.036803</td>\n",
       "    </tr>\n",
       "    <tr>\n",
       "      <th>68716017</th>\n",
       "      <td>90423.999809</td>\n",
       "      <td>25810.685398</td>\n",
       "      <td>Gpr22</td>\n",
       "      <td>0</td>\n",
       "      <td>131982</td>\n",
       "      <td>25834.467532</td>\n",
       "      <td>90471.534323</td>\n",
       "      <td>53.151857</td>\n",
       "    </tr>\n",
       "    <tr>\n",
       "      <th>68716018</th>\n",
       "      <td>92127.166964</td>\n",
       "      <td>25831.504453</td>\n",
       "      <td>Gpr22</td>\n",
       "      <td>0</td>\n",
       "      <td>132014</td>\n",
       "      <td>25842.860465</td>\n",
       "      <td>92125.406977</td>\n",
       "      <td>11.491587</td>\n",
       "    </tr>\n",
       "    <tr>\n",
       "      <th>68716019</th>\n",
       "      <td>92143.958454</td>\n",
       "      <td>25865.916882</td>\n",
       "      <td>Gpr22</td>\n",
       "      <td>0</td>\n",
       "      <td>132014</td>\n",
       "      <td>25842.860465</td>\n",
       "      <td>92125.406977</td>\n",
       "      <td>29.593170</td>\n",
       "    </tr>\n",
       "    <tr>\n",
       "      <th>68716020</th>\n",
       "      <td>91681.359332</td>\n",
       "      <td>25155.296212</td>\n",
       "      <td>Pdgfra</td>\n",
       "      <td>0</td>\n",
       "      <td>130378</td>\n",
       "      <td>25142.928571</td>\n",
       "      <td>91649.428571</td>\n",
       "      <td>34.242254</td>\n",
       "    </tr>\n",
       "  </tbody>\n",
       "</table>\n",
       "<p>68716021 rows × 8 columns</p>\n",
       "</div>"
      ],
      "text/plain": [
       "                     x             y    gene  in_cell  closest_cell   \n",
       "0           912.798926  20638.492940    Mc4r        0        115810  \\\n",
       "1           703.914017  21366.091060   Csf1r        0        118339   \n",
       "2           583.721558  22757.459382   Gpr22        0        123178   \n",
       "3          1299.980818  24007.155025  Agtr1a        0        127045   \n",
       "4           195.099980  25273.608097   Gpr22        0        130615   \n",
       "...                ...           ...     ...      ...           ...   \n",
       "68716016  91570.773925  26820.788380   Gpr22        0        134633   \n",
       "68716017  90423.999809  25810.685398   Gpr22        0        131982   \n",
       "68716018  92127.166964  25831.504453   Gpr22        0        132014   \n",
       "68716019  92143.958454  25865.916882   Gpr22        0        132014   \n",
       "68716020  91681.359332  25155.296212  Pdgfra        0        130378   \n",
       "\n",
       "          closest_cell_x  closest_cell_y  distance_to_centroid  \n",
       "0           20642.685512      880.671378             32.399954  \n",
       "1           21330.785714      739.142857             49.875231  \n",
       "2           22794.066265      556.710843             45.493325  \n",
       "3           24020.344828     1255.637931             46.262972  \n",
       "4           25243.520958      197.838323             30.211496  \n",
       "...                  ...             ...                   ...  \n",
       "68716016    26833.000000    91562.000000             15.036803  \n",
       "68716017    25834.467532    90471.534323             53.151857  \n",
       "68716018    25842.860465    92125.406977             11.491587  \n",
       "68716019    25842.860465    92125.406977             29.593170  \n",
       "68716020    25142.928571    91649.428571             34.242254  \n",
       "\n",
       "[68716021 rows x 8 columns]"
      ]
     },
     "execution_count": 25,
     "metadata": {},
     "output_type": "execute_result"
    }
   ],
   "source": [
    "read_positions"
   ]
  },
  {
   "cell_type": "code",
   "execution_count": 23,
   "id": "9336e370",
   "metadata": {},
   "outputs": [
    {
     "data": {
      "text/plain": [
       "<matplotlib.collections.PathCollection at 0x7fbdfc41b460>"
      ]
     },
     "execution_count": 23,
     "metadata": {},
     "output_type": "execute_result"
    },
    {
     "data": {
      "image/png": "[encoded data removed]",
      "text/plain": [
       "<Figure size 432x288 with 1 Axes>"
      ]
     },
     "metadata": {
      "needs_background": "light"
     },
     "output_type": "display_data"
    }
   ],
   "source": [
    "plt.scatter(adata.obs.x_centroid,adata.obs.y_centroid,s=0.1)"
   ]
  },
  {
   "cell_type": "code",
   "execution_count": 12,
   "id": "712c297e",
   "metadata": {},
   "outputs": [
    {
     "ename": "KeyError",
     "evalue": "\"Could not find 'spatial' or 'X_spatial' in .obsm\"",
     "output_type": "error",
     "traceback": [
      "\u001b[0;31m---------------------------------------------------------------------------\u001b[0m",
      "\u001b[0;31mKeyError\u001b[0m                                  Traceback (most recent call last)",
      "Input \u001b[0;32mIn [12]\u001b[0m, in \u001b[0;36m<cell line: 1>\u001b[0;34m()\u001b[0m\n\u001b[0;32m----> 1\u001b[0m \u001b[43msc\u001b[49m\u001b[38;5;241;43m.\u001b[39;49m\u001b[43mpl\u001b[49m\u001b[38;5;241;43m.\u001b[39;49m\u001b[43mspatial\u001b[49m\u001b[43m(\u001b[49m\u001b[43madata\u001b[49m\u001b[43m,\u001b[49m\u001b[43mspot_size\u001b[49m\u001b[38;5;241;43m=\u001b[39;49m\u001b[38;5;241;43m400\u001b[39;49m\u001b[43m)\u001b[49m\n",
      "File \u001b[0;32m~/.local/lib/python3.8/site-packages/scanpy/plotting/_tools/scatterplots.py:1003\u001b[0m, in \u001b[0;36mspatial\u001b[0;34m(adata, basis, img, img_key, library_id, crop_coord, alpha_img, bw, size, scale_factor, spot_size, na_color, show, return_fig, save, **kwargs)\u001b[0m\n\u001b[1;32m   1000\u001b[0m     cmap_img \u001b[38;5;241m=\u001b[39m \u001b[38;5;28;01mNone\u001b[39;00m\n\u001b[1;32m   1001\u001b[0m circle_radius \u001b[38;5;241m=\u001b[39m size \u001b[38;5;241m*\u001b[39m scale_factor \u001b[38;5;241m*\u001b[39m spot_size \u001b[38;5;241m*\u001b[39m \u001b[38;5;241m0.5\u001b[39m\n\u001b[0;32m-> 1003\u001b[0m axs \u001b[38;5;241m=\u001b[39m \u001b[43membedding\u001b[49m\u001b[43m(\u001b[49m\n\u001b[1;32m   1004\u001b[0m \u001b[43m    \u001b[49m\u001b[43madata\u001b[49m\u001b[43m,\u001b[49m\n\u001b[1;32m   1005\u001b[0m \u001b[43m    \u001b[49m\u001b[43mbasis\u001b[49m\u001b[38;5;241;43m=\u001b[39;49m\u001b[43mbasis\u001b[49m\u001b[43m,\u001b[49m\n\u001b[1;32m   1006\u001b[0m \u001b[43m    \u001b[49m\u001b[43mscale_factor\u001b[49m\u001b[38;5;241;43m=\u001b[39;49m\u001b[43mscale_factor\u001b[49m\u001b[43m,\u001b[49m\n\u001b[1;32m   1007\u001b[0m \u001b[43m    \u001b[49m\u001b[43msize\u001b[49m\u001b[38;5;241;43m=\u001b[39;49m\u001b[43mcircle_radius\u001b[49m\u001b[43m,\u001b[49m\n\u001b[1;32m   1008\u001b[0m \u001b[43m    \u001b[49m\u001b[43mna_color\u001b[49m\u001b[38;5;241;43m=\u001b[39;49m\u001b[43mna_color\u001b[49m\u001b[43m,\u001b[49m\n\u001b[1;32m   1009\u001b[0m \u001b[43m    \u001b[49m\u001b[43mshow\u001b[49m\u001b[38;5;241;43m=\u001b[39;49m\u001b[38;5;28;43;01mFalse\u001b[39;49;00m\u001b[43m,\u001b[49m\n\u001b[1;32m   1010\u001b[0m \u001b[43m    \u001b[49m\u001b[43msave\u001b[49m\u001b[38;5;241;43m=\u001b[39;49m\u001b[38;5;28;43;01mFalse\u001b[39;49;00m\u001b[43m,\u001b[49m\n\u001b[1;32m   1011\u001b[0m \u001b[43m    \u001b[49m\u001b[38;5;241;43m*\u001b[39;49m\u001b[38;5;241;43m*\u001b[39;49m\u001b[43mkwargs\u001b[49m\u001b[43m,\u001b[49m\n\u001b[1;32m   1012\u001b[0m \u001b[43m\u001b[49m\u001b[43m)\u001b[49m\n\u001b[1;32m   1013\u001b[0m \u001b[38;5;28;01mif\u001b[39;00m \u001b[38;5;129;01mnot\u001b[39;00m \u001b[38;5;28misinstance\u001b[39m(axs, \u001b[38;5;28mlist\u001b[39m):\n\u001b[1;32m   1014\u001b[0m     axs \u001b[38;5;241m=\u001b[39m [axs]\n",
      "File \u001b[0;32m~/.local/lib/python3.8/site-packages/scanpy/plotting/_tools/scatterplots.py:133\u001b[0m, in \u001b[0;36membedding\u001b[0;34m(adata, basis, color, gene_symbols, use_raw, sort_order, edges, edges_width, edges_color, neighbors_key, arrows, arrows_kwds, groups, components, dimensions, layer, projection, scale_factor, color_map, cmap, palette, na_color, na_in_legend, size, frameon, legend_fontsize, legend_fontweight, legend_loc, legend_fontoutline, colorbar_loc, vmax, vmin, vcenter, norm, add_outline, outline_width, outline_color, ncols, hspace, wspace, title, show, save, ax, return_fig, **kwargs)\u001b[0m\n\u001b[1;32m    130\u001b[0m check_projection(projection)\n\u001b[1;32m    131\u001b[0m sanitize_anndata(adata)\n\u001b[0;32m--> 133\u001b[0m basis_values \u001b[38;5;241m=\u001b[39m \u001b[43m_get_basis\u001b[49m\u001b[43m(\u001b[49m\u001b[43madata\u001b[49m\u001b[43m,\u001b[49m\u001b[43m \u001b[49m\u001b[43mbasis\u001b[49m\u001b[43m)\u001b[49m\n\u001b[1;32m    134\u001b[0m dimensions \u001b[38;5;241m=\u001b[39m _components_to_dimensions(\n\u001b[1;32m    135\u001b[0m     components, dimensions, projection\u001b[38;5;241m=\u001b[39mprojection, total_dims\u001b[38;5;241m=\u001b[39mbasis_values\u001b[38;5;241m.\u001b[39mshape[\u001b[38;5;241m1\u001b[39m]\n\u001b[1;32m    136\u001b[0m )\n\u001b[1;32m    137\u001b[0m args_3d \u001b[38;5;241m=\u001b[39m \u001b[38;5;28mdict\u001b[39m(projection\u001b[38;5;241m=\u001b[39m\u001b[38;5;124m'\u001b[39m\u001b[38;5;124m3d\u001b[39m\u001b[38;5;124m'\u001b[39m) \u001b[38;5;28;01mif\u001b[39;00m projection \u001b[38;5;241m==\u001b[39m \u001b[38;5;124m'\u001b[39m\u001b[38;5;124m3d\u001b[39m\u001b[38;5;124m'\u001b[39m \u001b[38;5;28;01melse\u001b[39;00m {}\n",
      "File \u001b[0;32m~/.local/lib/python3.8/site-packages/scanpy/plotting/_tools/scatterplots.py:1142\u001b[0m, in \u001b[0;36m_get_basis\u001b[0;34m(adata, basis)\u001b[0m\n\u001b[1;32m   1140\u001b[0m     \u001b[38;5;28;01mreturn\u001b[39;00m adata\u001b[38;5;241m.\u001b[39mobsm[\u001b[38;5;124mf\u001b[39m\u001b[38;5;124m\"\u001b[39m\u001b[38;5;124mX_\u001b[39m\u001b[38;5;132;01m{\u001b[39;00mbasis\u001b[38;5;132;01m}\u001b[39;00m\u001b[38;5;124m\"\u001b[39m]\n\u001b[1;32m   1141\u001b[0m \u001b[38;5;28;01melse\u001b[39;00m:\n\u001b[0;32m-> 1142\u001b[0m     \u001b[38;5;28;01mraise\u001b[39;00m \u001b[38;5;167;01mKeyError\u001b[39;00m(\u001b[38;5;124mf\u001b[39m\u001b[38;5;124m\"\u001b[39m\u001b[38;5;124mCould not find \u001b[39m\u001b[38;5;124m'\u001b[39m\u001b[38;5;132;01m{\u001b[39;00mbasis\u001b[38;5;132;01m}\u001b[39;00m\u001b[38;5;124m'\u001b[39m\u001b[38;5;124m or \u001b[39m\u001b[38;5;124m'\u001b[39m\u001b[38;5;124mX_\u001b[39m\u001b[38;5;132;01m{\u001b[39;00mbasis\u001b[38;5;132;01m}\u001b[39;00m\u001b[38;5;124m'\u001b[39m\u001b[38;5;124m in .obsm\u001b[39m\u001b[38;5;124m\"\u001b[39m)\n",
      "\u001b[0;31mKeyError\u001b[0m: \"Could not find 'spatial' or 'X_spatial' in .obsm\""
     ]
    }
   ],
   "source": [
    "sc.pl.spatial(adata,spot_size=400)"
   ]
  },
  {
   "cell_type": "code",
   "execution_count": 24,
   "id": "75491af7",
   "metadata": {},
   "outputs": [],
   "source": [
    "coords=pd.DataFrame([centroid_dictx.values(),centroid_dicty.values()],columns=centroid_dictx.keys()).transpose()"
   ]
  },
  {
   "cell_type": "code",
   "execution_count": 28,
   "id": "696173c0",
   "metadata": {},
   "outputs": [],
   "source": [
    "rp1=read_positions[read_positions['in_cell']==0]"
   ]
  },
  {
   "cell_type": "code",
   "execution_count": 31,
   "id": "c4951e63",
   "metadata": {},
   "outputs": [],
   "source": [
    "coords.columns=['x','y']"
   ]
  },
  {
   "cell_type": "code",
   "execution_count": 33,
   "id": "a022d66f",
   "metadata": {},
   "outputs": [
    {
     "data": {
      "text/plain": [
       "<matplotlib.collections.PathCollection at 0x7f55f2b204f0>"
      ]
     },
     "execution_count": 33,
     "metadata": {},
     "output_type": "execute_result"
    },
    {
     "data": {
      "image/png": "[encoded data removed]",
      "text/plain": [
       "<Figure size 432x288 with 1 Axes>"
      ]
     },
     "metadata": {
      "needs_background": "light"
     },
     "output_type": "display_data"
    }
   ],
   "source": [
    "plt.scatter(coords.x,coords.y,s=0.01)\n",
    "plt.scatter(rp1.x,rp1.y,s=0.01)"
   ]
  },
  {
   "cell_type": "code",
   "execution_count": 34,
   "id": "51c5e094",
   "metadata": {},
   "outputs": [
    {
     "name": "stdout",
     "output_type": "stream",
     "text": [
      "caclulating distance to vessel...\n"
     ]
    },
    {
     "name": "stderr",
     "output_type": "stream",
     "text": [
      "  0%|                                                                        | 43/62366216 [00:18<7570:14:43,  2.29it/s]\n",
      "\n",
      "KeyboardInterrupt\n",
      "\n"
     ]
    }
   ],
   "source": [
    "from tqdm import tqdm\n",
    "#['closest_cell']='nan'\n",
    "print('caclulating distance to vessel...')\n",
    "for rd in tqdm(rp1.index):\n",
    "        meas=((coords['x']-rp1.loc[rd,'y'])**2)+((coords['y']-rp1.loc[rd,'x'])**2)\n",
    "        rp1.loc[rd,'closest_cell']=meas.idxmin()"
   ]
  },
  {
   "cell_type": "code",
   "execution_count": 13,
   "id": "fc44c3de",
   "metadata": {},
   "outputs": [
    {
     "data": {
      "text/html": [
       "<div>\n",
       "<style scoped>\n",
       "    .dataframe tbody tr th:only-of-type {\n",
       "        vertical-align: middle;\n",
       "    }\n",
       "\n",
       "    .dataframe tbody tr th {\n",
       "        vertical-align: top;\n",
       "    }\n",
       "\n",
       "    .dataframe thead th {\n",
       "        text-align: right;\n",
       "    }\n",
       "</style>\n",
       "<table border=\"1\" class=\"dataframe\">\n",
       "  <thead>\n",
       "    <tr style=\"text-align: right;\">\n",
       "      <th></th>\n",
       "      <th>x</th>\n",
       "      <th>y</th>\n",
       "      <th>gene</th>\n",
       "      <th>in_cell</th>\n",
       "      <th>closest_cell</th>\n",
       "    </tr>\n",
       "  </thead>\n",
       "  <tbody>\n",
       "    <tr>\n",
       "      <th>0</th>\n",
       "      <td>912.798926</td>\n",
       "      <td>20638.492940</td>\n",
       "      <td>Mc4r</td>\n",
       "      <td>0</td>\n",
       "      <td>0</td>\n",
       "    </tr>\n",
       "    <tr>\n",
       "      <th>1</th>\n",
       "      <td>703.914017</td>\n",
       "      <td>21366.091060</td>\n",
       "      <td>Csf1r</td>\n",
       "      <td>0</td>\n",
       "      <td>0</td>\n",
       "    </tr>\n",
       "    <tr>\n",
       "      <th>2</th>\n",
       "      <td>583.721558</td>\n",
       "      <td>22757.459382</td>\n",
       "      <td>Gpr22</td>\n",
       "      <td>0</td>\n",
       "      <td>0</td>\n",
       "    </tr>\n",
       "    <tr>\n",
       "      <th>3</th>\n",
       "      <td>1299.980818</td>\n",
       "      <td>24007.155025</td>\n",
       "      <td>Agtr1a</td>\n",
       "      <td>0</td>\n",
       "      <td>0</td>\n",
       "    </tr>\n",
       "    <tr>\n",
       "      <th>4</th>\n",
       "      <td>195.099980</td>\n",
       "      <td>25273.608097</td>\n",
       "      <td>Gpr22</td>\n",
       "      <td>0</td>\n",
       "      <td>0</td>\n",
       "    </tr>\n",
       "    <tr>\n",
       "      <th>...</th>\n",
       "      <td>...</td>\n",
       "      <td>...</td>\n",
       "      <td>...</td>\n",
       "      <td>...</td>\n",
       "      <td>...</td>\n",
       "    </tr>\n",
       "    <tr>\n",
       "      <th>68716016</th>\n",
       "      <td>91570.773925</td>\n",
       "      <td>26820.788380</td>\n",
       "      <td>Gpr22</td>\n",
       "      <td>0</td>\n",
       "      <td>0</td>\n",
       "    </tr>\n",
       "    <tr>\n",
       "      <th>68716017</th>\n",
       "      <td>90423.999809</td>\n",
       "      <td>25810.685398</td>\n",
       "      <td>Gpr22</td>\n",
       "      <td>0</td>\n",
       "      <td>0</td>\n",
       "    </tr>\n",
       "    <tr>\n",
       "      <th>68716018</th>\n",
       "      <td>92127.166964</td>\n",
       "      <td>25831.504453</td>\n",
       "      <td>Gpr22</td>\n",
       "      <td>0</td>\n",
       "      <td>0</td>\n",
       "    </tr>\n",
       "    <tr>\n",
       "      <th>68716019</th>\n",
       "      <td>92143.958454</td>\n",
       "      <td>25865.916882</td>\n",
       "      <td>Gpr22</td>\n",
       "      <td>0</td>\n",
       "      <td>0</td>\n",
       "    </tr>\n",
       "    <tr>\n",
       "      <th>68716020</th>\n",
       "      <td>91681.359332</td>\n",
       "      <td>25155.296212</td>\n",
       "      <td>Pdgfra</td>\n",
       "      <td>0</td>\n",
       "      <td>0</td>\n",
       "    </tr>\n",
       "  </tbody>\n",
       "</table>\n",
       "<p>68716021 rows × 5 columns</p>\n",
       "</div>"
      ],
      "text/plain": [
       "                     x             y    gene  in_cell  closest_cell\n",
       "0           912.798926  20638.492940    Mc4r        0             0\n",
       "1           703.914017  21366.091060   Csf1r        0             0\n",
       "2           583.721558  22757.459382   Gpr22        0             0\n",
       "3          1299.980818  24007.155025  Agtr1a        0             0\n",
       "4           195.099980  25273.608097   Gpr22        0             0\n",
       "...                ...           ...     ...      ...           ...\n",
       "68716016  91570.773925  26820.788380   Gpr22        0             0\n",
       "68716017  90423.999809  25810.685398   Gpr22        0             0\n",
       "68716018  92127.166964  25831.504453   Gpr22        0             0\n",
       "68716019  92143.958454  25865.916882   Gpr22        0             0\n",
       "68716020  91681.359332  25155.296212  Pdgfra        0             0\n",
       "\n",
       "[68716021 rows x 5 columns]"
      ]
     },
     "execution_count": 13,
     "metadata": {},
     "output_type": "execute_result"
    }
   ],
   "source": [
    "\n",
    "        \n",
    "        \n",
    "dican=dict(zip(annotatedcells.obs.index,annotatedcells.obs['region_annotation']))\n",
    "nancells.obs['new_domain']=nancells.obs['new_domain'].map(dican)\n",
    "new_assignment=dict(zip(nancells.obs.index,nancells.obs['new_domain']))\n",
    "for indi in nancells.obs.index:\n",
    "    adatar1.obs.loc[indi,'region_annotation']=new_assignment[indi]"
   ]
  },
  {
   "cell_type": "code",
   "execution_count": 14,
   "id": "7dcaa3df",
   "metadata": {},
   "outputs": [],
   "source": [
    "read_positions.to_csv(path_unsegmented_datasets+ds+'/transcripts_with_cell_assignment.csv')"
   ]
  },
  {
   "cell_type": "code",
   "execution_count": null,
   "id": "2df10b6c",
   "metadata": {},
   "outputs": [],
   "source": []
  },
  {
   "cell_type": "code",
   "execution_count": null,
   "id": "2ab31ba9",
   "metadata": {},
   "outputs": [],
   "source": []
  },
  {
   "cell_type": "code",
   "execution_count": null,
   "id": "6455baa8",
   "metadata": {},
   "outputs": [],
   "source": [
    "\n",
    "\n",
    "# Step 2: Segment each tile with Cellpose\n",
    "segmented_masks = []\n",
    "\n",
    "# Initialize Cellpose model\n",
    "model = models.Cellpose(gpu=False)  # You can set GPU to True if available\n",
    "\n",
    "for tile in tiles:\n",
    "    # Run Cellpose on each tile\n",
    "    masks, _, _, _ = model.eval(tile, channels=[0, 0], diameter=30)  # Modify channels and diameter as needed\n",
    "    segmented_masks.append(masks)\n",
    "\n",
    "# Step 3: Recompose the segmented masks into a single mask\n",
    "original_image_shape = large_image.shape[:2]\n",
    "\n",
    "full_mask = np.zeros(original_image_shape, dtype=np.uint8)\n",
    "\n",
    "for mask, position in zip(segmented_masks, tile_positions):\n",
    "    x, y = position\n",
    "    h, w = mask.shape[:2]\n",
    "    full_mask[y:y + h, x:x + w] = mask[..., 0]  # Assuming you want only one channel of the mask\n",
    "\n",
    "# 'full_mask' now contains the segmentation mask for the entire image\n",
    "\n",
    "# Optional: Save the full mask to a file\n",
    "cv2.imwrite(\"segmented_mask.jpg\", full_mask)\n",
    "\n",
    "# Optional: Perform post-processing on the 'full_mask' if needed\n",
    "\n",
    "# Display the final mask (for visualization purposes)\n",
    "cv2.imshow(\"Segmented Mask\", full_mask)\n",
    "cv2.waitKey(0)\n",
    "cv2.destroyAllWindows()\n"
   ]
  },
  {
   "cell_type": "code",
   "execution_count": null,
   "id": "13340b8e",
   "metadata": {},
   "outputs": [],
   "source": [
    "import numpy as np\n",
    "\n",
    "# Assuming 'segmented_masks' is a list of segmented masks for each tile\n",
    "# and 'tile_positions' is a list of the positions of each tile in the original image\n",
    "\n",
    "# Determine the shape of the original image\n",
    "original_image_shape = (height, width)\n",
    "\n",
    "# Create an empty mask of the same shape as the original image\n",
    "full_mask = np.zeros(original_image_shape, dtype=np.uint8)\n",
    "\n",
    "# Iterate through the segmented masks and tile positions\n",
    "for mask, position in zip(segmented_masks, tile_positions):\n",
    "    x, y = position  # Position of the top-left corner of the tile\n",
    "    h, w = mask.shape  # Height and width of the tile\n",
    "    full_mask[y:y + h, x:x + w] = mask\n",
    "\n",
    "# 'full_mask' now contains the segmentation mask for the entire image\n"
   ]
  },
  {
   "cell_type": "code",
   "execution_count": 8,
   "id": "ef368720",
   "metadata": {},
   "outputs": [],
   "source": [
    "datasets=['CosMx','Vizgen','Xenium']"
   ]
  },
  {
   "cell_type": "code",
   "execution_count": 6,
   "id": "ce1a78f9",
   "metadata": {},
   "outputs": [
    {
     "name": "stdout",
     "output_type": "stream",
     "text": [
      "HybrISS\n",
      "MERFISH_ABI\n",
      "ResolvedBiosciences\n"
     ]
    }
   ],
   "source": [
    "for ds in datasets:\n",
    "    if os.path.exists(path_unsegmented_datasets+ds+'/transcripts_with_cell_assignment.csv'):\n",
    "        print(ds)\n",
    "   "
   ]
  }
 ],
 "metadata": {
  "kernelspec": {
   "display_name": "segmentation",
   "language": "python",
   "name": "segmentation"
  },
  "language_info": {
   "codemirror_mode": {
    "name": "ipython",
    "version": 3
   },
   "file_extension": ".py",
   "mimetype": "text/x-python",
   "name": "python",
   "nbconvert_exporter": "python",
   "pygments_lexer": "ipython3",
   "version": "3.8.10"
  }
 },
 "nbformat": 4,
 "nbformat_minor": 5
}
