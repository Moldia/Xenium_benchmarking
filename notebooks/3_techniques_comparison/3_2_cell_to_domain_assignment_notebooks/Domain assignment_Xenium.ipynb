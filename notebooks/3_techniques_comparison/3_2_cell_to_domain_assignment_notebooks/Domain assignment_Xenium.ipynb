{
 "cells": [
  {
   "cell_type": "code",
   "execution_count": 2,
   "id": "78181dbd",
   "metadata": {},
   "outputs": [],
   "source": [
    "import scanpy as sc\n",
    "import pandas as pd\n",
    "import numpy as np"
   ]
  },
  {
   "cell_type": "code",
   "execution_count": null,
   "id": "af8a5d60",
   "metadata": {},
   "outputs": [],
   "source": [
    "adata.layers['raw']=adata.raw.X\n",
    "adatar1=adata[adata.obs['replicate']=='1']"
   ]
  },
  {
   "cell_type": "code",
   "execution_count": 1,
   "id": "21469634",
   "metadata": {},
   "outputs": [
    {
     "ename": "FileNotFoundError",
     "evalue": "[Errno 2] No such file or directory: '/media/sergio/xenium_b_and_heart/Xenium_benchmarking-main/figures/polygons/regions_multisection_1.json'",
     "output_type": "error",
     "traceback": [
      "\u001b[0;31m---------------------------------------------------------------------------\u001b[0m",
      "\u001b[0;31mFileNotFoundError\u001b[0m                         Traceback (most recent call last)",
      "\u001b[0;32m/tmp/ipykernel_3423040/4144980801.py\u001b[0m in \u001b[0;36m<module>\u001b[0;34m\u001b[0m\n\u001b[1;32m      1\u001b[0m \u001b[0;32mimport\u001b[0m \u001b[0mjson\u001b[0m\u001b[0;34m\u001b[0m\u001b[0;34m\u001b[0m\u001b[0m\n\u001b[0;32m----> 2\u001b[0;31m \u001b[0mob\u001b[0m\u001b[0;34m=\u001b[0m\u001b[0mopen\u001b[0m\u001b[0;34m(\u001b[0m\u001b[0;34m'/media/sergio/xenium_b_and_heart/Xenium_benchmarking-main/figures/polygons/regions_multisection_1.json'\u001b[0m\u001b[0;34m)\u001b[0m\u001b[0;34m\u001b[0m\u001b[0;34m\u001b[0m\u001b[0m\n\u001b[0m\u001b[1;32m      3\u001b[0m \u001b[0mjs\u001b[0m\u001b[0;34m=\u001b[0m\u001b[0mjson\u001b[0m\u001b[0;34m.\u001b[0m\u001b[0mload\u001b[0m\u001b[0;34m(\u001b[0m\u001b[0mob\u001b[0m\u001b[0;34m)\u001b[0m\u001b[0;34m\u001b[0m\u001b[0;34m\u001b[0m\u001b[0m\n\u001b[1;32m      4\u001b[0m \u001b[0moutput\u001b[0m\u001b[0;34m=\u001b[0m\u001b[0mpd\u001b[0m\u001b[0;34m.\u001b[0m\u001b[0mDataFrame\u001b[0m\u001b[0;34m(\u001b[0m\u001b[0mcolumns\u001b[0m\u001b[0;34m=\u001b[0m\u001b[0;34m[\u001b[0m\u001b[0;34m'y'\u001b[0m\u001b[0;34m,\u001b[0m\u001b[0;34m'x'\u001b[0m\u001b[0;34m,\u001b[0m\u001b[0;34m'region_annotation'\u001b[0m\u001b[0;34m,\u001b[0m\u001b[0;34m'region_general'\u001b[0m\u001b[0;34m]\u001b[0m\u001b[0;34m)\u001b[0m\u001b[0;34m\u001b[0m\u001b[0;34m\u001b[0m\u001b[0m\n\u001b[1;32m      5\u001b[0m \u001b[0mnu\u001b[0m\u001b[0;34m=\u001b[0m\u001b[0;36m0\u001b[0m\u001b[0;34m\u001b[0m\u001b[0;34m\u001b[0m\u001b[0m\n",
      "\u001b[0;31mFileNotFoundError\u001b[0m: [Errno 2] No such file or directory: '/media/sergio/xenium_b_and_heart/Xenium_benchmarking-main/figures/polygons/regions_multisection_1.json'"
     ]
    }
   ],
   "source": [
    "import json\n",
    "ob=open('/media/sergio/xenium_b_and_heart/Xenium_benchmarking-main/figures/polygons/regions_multisection_1.json')\n",
    "js=json.load(ob)\n",
    "output=pd.DataFrame(columns=['y','x','region_annotation','region_general'])\n",
    "nu=0\n",
    "for ob in js:\n",
    "    for num in range(0,len(ob['coordinates'][0])):\n",
    "        output.loc[nu,:]=list([ob['coordinates'][0][num][0],ob['coordinates'][0][num][1],ob['name'],ob['name'].replace(' [1]','').replace('D: ','')])\n",
    "        nu=nu+1\n",
    "\n",
    "from shapely.geometry import Point, Polygon\n",
    "def domainassign(plsin,adatadom):\n",
    "    adatadom.obs['region_annotation']='None'\n",
    "    plt.figure()\n",
    "    for sel in plsin['region_annotation'].unique():\n",
    "        plsub=plsin[plsin['region_annotation']==sel]\n",
    "        if plsub.shape[0]>2:\n",
    "    #        plt.figure()\n",
    "            coord = np.array(plsub[['y','x']]).tolist()\n",
    "            coord.append(coord[0])\n",
    "            poli=Polygon(coord)\n",
    "            xs, ys = zip(*coord) #create lists of x and y values\n",
    "            plt.plot(xs,ys,color='black') \n",
    "            plt.title(sel)\n",
    "            for n in adatadom.obs.index:\n",
    "                pnt=Point(adatadom.obs.loc[n,'y_centroid'],adatadom.obs.loc[n,'x_centroid'])\n",
    "                if pnt.within(poli)==True:\n",
    "                    adatadom.obs.loc[n,'region_annotation']=sel\n",
    "    plt.scatter(adatadom.obs['y_centroid'],adatadom.obs['x_centroid'],s=0.5)\n",
    "    plt.show() # if you need...\n",
    "    return adatadom\n",
    "\n",
    "dictio_region=dict(zip(output['region_annotation'],output['region_general']))\n",
    "dictio_region['D: vl [2]']='vl'"
   ]
  },
  {
   "cell_type": "code",
   "execution_count": null,
   "id": "3fa17209",
   "metadata": {},
   "outputs": [],
   "source": [
    "nancells=adatar1[adatar1.obs['region_annotation']=='None']\n",
    "annotatedcells=adatar1[adatar1.obs['region_annotation']!='None']\n",
    "from tqdm import tqdm\n",
    "nancells.obs['new_domain']='nan'\n",
    "print('caclulating distance to vessel...')\n",
    "for rd in tqdm(nancells.obs.index):\n",
    "        meas=((annotatedcells.obs.X-nancells.obs.loc[rd,'X'])**2)+((annotatedcells.obs.Y-nancells.obs.loc[rd,'Y'])**2)\n",
    "        nancells.obs.loc[rd,'new_domain']=meas.idxmin()\n",
    "dican=dict(zip(annotatedcells.obs.index,annotatedcells.obs['region_annotation']))\n",
    "nancells.obs['new_domain']=nancells.obs['new_domain'].map(dican)\n",
    "new_assignment=dict(zip(nancells.obs.index,nancells.obs['new_domain']))\n",
    "for indi in nancells.obs.index:\n",
    "    adatar1.obs.loc[indi,'region_annotation']=new_assignment[indi]"
   ]
  }
 ],
 "metadata": {
  "kernelspec": {
   "display_name": "xb",
   "language": "python",
   "name": "xb"
  },
  "language_info": {
   "codemirror_mode": {
    "name": "ipython",
    "version": 3
   },
   "file_extension": ".py",
   "mimetype": "text/x-python",
   "name": "python",
   "nbconvert_exporter": "python",
   "pygments_lexer": "ipython3",
   "version": "3.7.13"
  }
 },
 "nbformat": 4,
 "nbformat_minor": 5
}
