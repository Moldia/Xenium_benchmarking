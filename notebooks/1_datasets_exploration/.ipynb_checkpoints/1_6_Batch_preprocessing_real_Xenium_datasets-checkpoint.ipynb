{
 "cells": [
  {
   "cell_type": "markdown",
   "id": "b20684ac",
   "metadata": {},
   "source": [
    "# Purpose of the notebook"
   ]
  },
  {
   "cell_type": "markdown",
   "id": "849faae6",
   "metadata": {},
   "source": [
    "This notebook is used to preprocess different xenium datasets using several preprocessing pipelines and analyze the effect of parameter tuning, based on a predefined top performer pipeline that was identified using simulated datasets. The best stategy is defined using simulated data in **6.1-4**"
   ]
  },
  {
   "cell_type": "markdown",
   "id": "a80c635b",
   "metadata": {},
   "source": [
    "# Import packages"
   ]
  },
  {
   "cell_type": "code",
   "execution_count": 1,
   "id": "1ea4c166",
   "metadata": {},
   "outputs": [],
   "source": [
    "import scanpy as sc\n",
    "import os\n",
    "import pandas as pd\n",
    "from anndata import AnnData\n",
    "import numpy as np\n",
    "import xb.formatting as xf\n",
    "import seaborn as sns\n",
    "import random \n",
    "import matplotlib.pyplot as plt\n",
    "from xb.preprocessing import main_preprocessing\n",
    "from sklearn.metrics import mutual_info_score\n",
    "from xb.formatting import keep_nuclei_and_quality\n",
    "from xb.calculating import entropy, compute_vi,compute_fmi,dispersion\n",
    "from scipy.spatial import ConvexHull, convex_hull_plot_2d\n",
    "from xb.simulating import allcombs"
   ]
  },
  {
   "cell_type": "markdown",
   "id": "633498cb",
   "metadata": {},
   "source": [
    "# Input main paths where data is stored"
   ]
  },
  {
   "cell_type": "markdown",
   "id": "21907dd9",
   "metadata": {},
   "source": [
    "For this notebook we will use unprocessed datasets"
   ]
  },
  {
   "cell_type": "code",
   "execution_count": 7,
   "id": "b16c8fcd",
   "metadata": {},
   "outputs": [],
   "source": [
    "maindir='../../data/unprocessed_adata/'\n",
    "files=os.listdir(maindir)\n",
    "files=['ms_brain_multisection1.h5ad',  'human_brain.h5ad', 'ms_brain_multisection2.h5ad', 'ms_brain_multisection3.h5ad','realmouse_1.h5ad','realmouse_2.h5ad',\n",
    " 'realmouse_3.h5ad', 'realmouse_4.h5ad',    'hbreast_idc_addon_set1.h5ad', 'hbreast_idc_addon_set2.h5ad','hbreast_idc_addon_set4.h5ad', 'hbreast_idc_entiresample_set3.h5ad',\n",
    " 'hbreast_ilc_addon_set2.h5ad', 'hbreast_ilc_addon_set4.h5ad', 'hbreast_ilc_entiresample_set3.h5ad', 'healthy_lung.h5ad',\n",
    " 'human_alzheimers.h5ad','human_gbm.h5ad', 'human_spinal_chord_active.h5ad', 'human_spinal_chord_inactive.h5ad', 'h_breast_1.h5ad',\n",
    " 'h_breast_2.h5ad', 'lung_cancer.h5ad', 'ms_brain_fullcoronal.h5ad', 'ms_brain_partialcoronal.h5ad']"
   ]
  },
  {
   "cell_type": "markdown",
   "id": "254798dc",
   "metadata": {},
   "source": [
    "# Caclulating all different preprocessing strategies"
   ]
  },
  {
   "cell_type": "code",
   "execution_count": null,
   "id": "2d9d12a3",
   "metadata": {
    "scrolled": true
   },
   "outputs": [
    {
     "name": "stdout",
     "output_type": "stream",
     "text": [
      "ms_brain_multisection1.h5ad\n"
     ]
    },
    {
     "name": "stderr",
     "output_type": "stream",
     "text": [
      "/home/sergio/anaconda3/envs/xb/lib/python3.7/site-packages/anndata/compat/_overloaded_dict.py:106: ImplicitModificationWarning: Trying to modify attribute `._uns` of view, initializing view as actual.\n",
      "  self.data[key] = value\n"
     ]
    },
    {
     "name": "stdout",
     "output_type": "stream",
     "text": [
      "first run\n"
     ]
    },
    {
     "name": "stderr",
     "output_type": "stream",
     "text": [
      "/home/sergio/anaconda3/envs/xb/lib/python3.7/site-packages/ipykernel_launcher.py:14: FutureWarning: X.dtype being converted to np.float32 from int64. In the next version of anndata (0.9) conversion will not be automatic. Pass dtype explicitly to avoid this warning. Pass `AnnData(X, dtype=X.dtype, ...)` to get the future behavour.\n",
      "  \n",
      "/home/sergio/anaconda3/envs/xb/lib/python3.7/site-packages/anndata/_core/anndata.py:121: ImplicitModificationWarning: Transforming to str index.\n",
      "  warnings.warn(\"Transforming to str index.\", ImplicitModificationWarning)\n"
     ]
    },
    {
     "name": "stdout",
     "output_type": "stream",
     "text": [
      "DEFAULT\n",
      "(4925, 541)\n",
      "28\n",
      "nuc_qv0_neighs16_npc0_ts100_hvg_True_scale_True\n",
      "(4925, 81)\n"
     ]
    },
    {
     "name": "stderr",
     "output_type": "stream",
     "text": [
      "/home/sergio/anaconda3/envs/xb/lib/python3.7/site-packages/scanpy/preprocessing/_simple.py:843: UserWarning: Received a view of an AnnData. Making a copy.\n",
      "  view_to_actual(adata)\n"
     ]
    },
    {
     "name": "stdout",
     "output_type": "stream",
     "text": [
      "30\n",
      "nuc_qv0_neighs16_npc0_ts100_hvg_False_scale_True\n",
      "(4925, 541)\n",
      "31\n",
      "nuc_qv0_neighs16_npc0_ts100_hvg_False_scale_False\n",
      "(4925, 541)\n",
      "31\n",
      "nuc_qv0_neighs16_npc15_ts100_hvg_False_scale_True\n",
      "(4925, 541)\n",
      "25\n",
      "nuc_qv0_neighs16_npc25_ts100_hvg_False_scale_True\n",
      "(4925, 541)\n",
      "26\n",
      "nuc_qv0_neighs16_npc0_ts100_hvg_False_scale_True\n",
      "(4925, 541)\n",
      "33\n",
      "iter 0\n",
      "nuc_qv0_neighs12_npc0_ts100_hvg_False_scale_True\n",
      "(4925, 541)\n",
      "29\n",
      "nuc_qv0_neighs6_npc0_ts100_hvg_False_scale_True\n",
      "(4925, 541)\n",
      "37\n",
      "iter 0\n",
      "iter 1\n",
      "iter 2\n",
      "iter 3\n",
      "iter 0\n",
      "iter 1\n",
      "iter 2\n",
      "iter 3\n",
      "nuc_qv0_neighs20_npc0_ts100_hvg_False_scale_True\n",
      "(4925, 541)\n",
      "25\n",
      "nuc_qv0_neighs16_npc0_ts10_hvg_False_scale_True\n",
      "(4925, 541)\n",
      "29\n",
      "nuc_qv0_neighs16_npc0_ts1000_hvg_False_scale_True\n",
      "(4925, 541)\n",
      "29\n",
      "nuc_qv0_neighs16_npc0_tsNone_hvg_False_scale_True\n",
      "(4925, 541)\n",
      "27\n"
     ]
    },
    {
     "name": "stderr",
     "output_type": "stream",
     "text": [
      "/home/sergio/anaconda3/envs/xb/lib/python3.7/site-packages/ipykernel_launcher.py:14: FutureWarning: X.dtype being converted to np.float32 from int64. In the next version of anndata (0.9) conversion will not be automatic. Pass dtype explicitly to avoid this warning. Pass `AnnData(X, dtype=X.dtype, ...)` to get the future behavour.\n",
      "  \n",
      "/home/sergio/anaconda3/envs/xb/lib/python3.7/site-packages/anndata/_core/anndata.py:121: ImplicitModificationWarning: Transforming to str index.\n",
      "  warnings.warn(\"Transforming to str index.\", ImplicitModificationWarning)\n"
     ]
    },
    {
     "name": "stdout",
     "output_type": "stream",
     "text": [
      "cell_qv0_neighs16_npc0_ts100_hvg_False_scale_True\n",
      "(4995, 541)\n",
      "23\n"
     ]
    },
    {
     "name": "stderr",
     "output_type": "stream",
     "text": [
      "/home/sergio/anaconda3/envs/xb/lib/python3.7/site-packages/ipykernel_launcher.py:14: FutureWarning: X.dtype being converted to np.float32 from int64. In the next version of anndata (0.9) conversion will not be automatic. Pass dtype explicitly to avoid this warning. Pass `AnnData(X, dtype=X.dtype, ...)` to get the future behavour.\n",
      "  \n",
      "/home/sergio/anaconda3/envs/xb/lib/python3.7/site-packages/anndata/_core/anndata.py:121: ImplicitModificationWarning: Transforming to str index.\n",
      "  warnings.warn(\"Transforming to str index.\", ImplicitModificationWarning)\n"
     ]
    },
    {
     "name": "stdout",
     "output_type": "stream",
     "text": [
      "nuc_qv20_neighs16_npc0_ts100_hvg_False_scale_True\n",
      "(4886, 433)\n",
      "29\n"
     ]
    },
    {
     "name": "stderr",
     "output_type": "stream",
     "text": [
      "/home/sergio/anaconda3/envs/xb/lib/python3.7/site-packages/ipykernel_launcher.py:14: FutureWarning: X.dtype being converted to np.float32 from int64. In the next version of anndata (0.9) conversion will not be automatic. Pass dtype explicitly to avoid this warning. Pass `AnnData(X, dtype=X.dtype, ...)` to get the future behavour.\n",
      "  \n",
      "/home/sergio/anaconda3/envs/xb/lib/python3.7/site-packages/anndata/_core/anndata.py:121: ImplicitModificationWarning: Transforming to str index.\n",
      "  warnings.warn(\"Transforming to str index.\", ImplicitModificationWarning)\n"
     ]
    },
    {
     "name": "stdout",
     "output_type": "stream",
     "text": [
      "nuc_qv30_neighs16_npc0_ts100_hvg_False_scale_True\n",
      "(4856, 340)\n",
      "30\n"
     ]
    },
    {
     "name": "stderr",
     "output_type": "stream",
     "text": [
      "/home/sergio/anaconda3/envs/xb/lib/python3.7/site-packages/ipykernel_launcher.py:14: FutureWarning: X.dtype being converted to np.float32 from int64. In the next version of anndata (0.9) conversion will not be automatic. Pass dtype explicitly to avoid this warning. Pass `AnnData(X, dtype=X.dtype, ...)` to get the future behavour.\n",
      "  \n",
      "/home/sergio/anaconda3/envs/xb/lib/python3.7/site-packages/anndata/_core/anndata.py:121: ImplicitModificationWarning: Transforming to str index.\n",
      "  warnings.warn(\"Transforming to str index.\", ImplicitModificationWarning)\n"
     ]
    },
    {
     "name": "stdout",
     "output_type": "stream",
     "text": [
      "human_brain.h5ad\n"
     ]
    },
    {
     "name": "stderr",
     "output_type": "stream",
     "text": [
      "/home/sergio/anaconda3/envs/xb/lib/python3.7/site-packages/anndata/compat/_overloaded_dict.py:106: ImplicitModificationWarning: Trying to modify attribute `._uns` of view, initializing view as actual.\n",
      "  self.data[key] = value\n"
     ]
    },
    {
     "name": "stdout",
     "output_type": "stream",
     "text": [
      "first run\n"
     ]
    },
    {
     "name": "stderr",
     "output_type": "stream",
     "text": [
      "/home/sergio/anaconda3/envs/xb/lib/python3.7/site-packages/ipykernel_launcher.py:14: FutureWarning: X.dtype being converted to np.float32 from int64. In the next version of anndata (0.9) conversion will not be automatic. Pass dtype explicitly to avoid this warning. Pass `AnnData(X, dtype=X.dtype, ...)` to get the future behavour.\n",
      "  \n"
     ]
    },
    {
     "name": "stdout",
     "output_type": "stream",
     "text": [
      "DEFAULT\n",
      "(4534, 531)\n",
      "35\n",
      "nuc_qv0_neighs16_npc0_ts100_hvg_True_scale_True\n",
      "(4534, 126)\n"
     ]
    },
    {
     "name": "stderr",
     "output_type": "stream",
     "text": [
      "/home/sergio/anaconda3/envs/xb/lib/python3.7/site-packages/scanpy/preprocessing/_simple.py:843: UserWarning: Received a view of an AnnData. Making a copy.\n",
      "  view_to_actual(adata)\n"
     ]
    },
    {
     "name": "stdout",
     "output_type": "stream",
     "text": [
      "38\n",
      "nuc_qv0_neighs16_npc0_ts100_hvg_False_scale_True\n",
      "(4534, 531)\n",
      "32\n",
      "nuc_qv0_neighs16_npc0_ts100_hvg_False_scale_False\n",
      "(4534, 531)\n",
      "12\n",
      "nuc_qv0_neighs16_npc15_ts100_hvg_False_scale_True\n",
      "(4534, 531)\n",
      "17\n",
      "nuc_qv0_neighs16_npc25_ts100_hvg_False_scale_True\n",
      "(4534, 531)\n",
      "19\n",
      "nuc_qv0_neighs16_npc0_ts100_hvg_False_scale_True\n",
      "(4534, 531)\n",
      "37\n",
      "nuc_qv0_neighs12_npc0_ts100_hvg_False_scale_True\n",
      "(4534, 531)\n",
      "38\n",
      "nuc_qv0_neighs6_npc0_ts100_hvg_False_scale_True\n",
      "(4534, 531)\n",
      "54\n",
      "iter 0\n",
      "iter 1\n",
      "iter 2\n",
      "iter 3\n",
      "iter 4\n",
      "iter 5\n",
      "iter 6\n",
      "iter 7\n",
      "iter 8\n",
      "iter 0\n",
      "iter 1\n",
      "iter 2\n",
      "iter 3\n",
      "iter 4\n",
      "iter 5\n",
      "iter 6\n",
      "iter 7\n",
      "iter 8\n",
      "nuc_qv0_neighs20_npc0_ts100_hvg_False_scale_True\n",
      "(4534, 531)\n",
      "32\n",
      "nuc_qv0_neighs16_npc0_ts10_hvg_False_scale_True\n",
      "(4534, 531)\n",
      "36\n",
      "nuc_qv0_neighs16_npc0_ts1000_hvg_False_scale_True\n",
      "(4534, 531)\n",
      "38\n",
      "nuc_qv0_neighs16_npc0_tsNone_hvg_False_scale_True\n",
      "(4534, 531)\n",
      "32\n"
     ]
    },
    {
     "name": "stderr",
     "output_type": "stream",
     "text": [
      "/home/sergio/anaconda3/envs/xb/lib/python3.7/site-packages/ipykernel_launcher.py:14: FutureWarning: X.dtype being converted to np.float32 from int64. In the next version of anndata (0.9) conversion will not be automatic. Pass dtype explicitly to avoid this warning. Pass `AnnData(X, dtype=X.dtype, ...)` to get the future behavour.\n",
      "  \n"
     ]
    },
    {
     "name": "stdout",
     "output_type": "stream",
     "text": [
      "cell_qv0_neighs16_npc0_ts100_hvg_False_scale_True\n",
      "(4993, 539)\n",
      "43\n",
      "iter 0\n",
      "iter 1\n"
     ]
    },
    {
     "name": "stderr",
     "output_type": "stream",
     "text": [
      "/home/sergio/anaconda3/envs/xb/lib/python3.7/site-packages/ipykernel_launcher.py:14: FutureWarning: X.dtype being converted to np.float32 from int64. In the next version of anndata (0.9) conversion will not be automatic. Pass dtype explicitly to avoid this warning. Pass `AnnData(X, dtype=X.dtype, ...)` to get the future behavour.\n",
      "  \n"
     ]
    },
    {
     "name": "stdout",
     "output_type": "stream",
     "text": [
      "nuc_qv20_neighs16_npc0_ts100_hvg_False_scale_True\n",
      "(4458, 355)\n",
      "25\n"
     ]
    },
    {
     "name": "stderr",
     "output_type": "stream",
     "text": [
      "/home/sergio/anaconda3/envs/xb/lib/python3.7/site-packages/ipykernel_launcher.py:14: FutureWarning: X.dtype being converted to np.float32 from int64. In the next version of anndata (0.9) conversion will not be automatic. Pass dtype explicitly to avoid this warning. Pass `AnnData(X, dtype=X.dtype, ...)` to get the future behavour.\n",
      "  \n"
     ]
    },
    {
     "name": "stdout",
     "output_type": "stream",
     "text": [
      "nuc_qv30_neighs16_npc0_ts100_hvg_False_scale_True\n",
      "(4387, 333)\n",
      "28\n"
     ]
    },
    {
     "name": "stderr",
     "output_type": "stream",
     "text": [
      "/home/sergio/anaconda3/envs/xb/lib/python3.7/site-packages/ipykernel_launcher.py:14: FutureWarning: X.dtype being converted to np.float32 from int64. In the next version of anndata (0.9) conversion will not be automatic. Pass dtype explicitly to avoid this warning. Pass `AnnData(X, dtype=X.dtype, ...)` to get the future behavour.\n",
      "  \n"
     ]
    },
    {
     "name": "stdout",
     "output_type": "stream",
     "text": [
      "ms_brain_multisection2.h5ad\n"
     ]
    },
    {
     "name": "stderr",
     "output_type": "stream",
     "text": [
      "/home/sergio/anaconda3/envs/xb/lib/python3.7/site-packages/anndata/compat/_overloaded_dict.py:106: ImplicitModificationWarning: Trying to modify attribute `._uns` of view, initializing view as actual.\n",
      "  self.data[key] = value\n"
     ]
    },
    {
     "name": "stdout",
     "output_type": "stream",
     "text": [
      "first run\n"
     ]
    },
    {
     "name": "stderr",
     "output_type": "stream",
     "text": [
      "/home/sergio/anaconda3/envs/xb/lib/python3.7/site-packages/ipykernel_launcher.py:14: FutureWarning: X.dtype being converted to np.float32 from int64. In the next version of anndata (0.9) conversion will not be automatic. Pass dtype explicitly to avoid this warning. Pass `AnnData(X, dtype=X.dtype, ...)` to get the future behavour.\n",
      "  \n",
      "/home/sergio/anaconda3/envs/xb/lib/python3.7/site-packages/anndata/_core/anndata.py:121: ImplicitModificationWarning: Transforming to str index.\n",
      "  warnings.warn(\"Transforming to str index.\", ImplicitModificationWarning)\n"
     ]
    },
    {
     "name": "stdout",
     "output_type": "stream",
     "text": [
      "DEFAULT\n",
      "(4899, 541)\n",
      "33\n",
      "nuc_qv0_neighs16_npc0_ts100_hvg_True_scale_True\n",
      "(4899, 81)\n"
     ]
    },
    {
     "name": "stderr",
     "output_type": "stream",
     "text": [
      "/home/sergio/anaconda3/envs/xb/lib/python3.7/site-packages/scanpy/preprocessing/_simple.py:843: UserWarning: Received a view of an AnnData. Making a copy.\n",
      "  view_to_actual(adata)\n"
     ]
    },
    {
     "name": "stdout",
     "output_type": "stream",
     "text": [
      "29\n",
      "nuc_qv0_neighs16_npc0_ts100_hvg_False_scale_True\n",
      "(4899, 541)\n",
      "33\n",
      "nuc_qv0_neighs16_npc0_ts100_hvg_False_scale_False\n",
      "(4899, 541)\n",
      "31\n",
      "nuc_qv0_neighs16_npc15_ts100_hvg_False_scale_True\n",
      "(4899, 541)\n",
      "22\n",
      "nuc_qv0_neighs16_npc25_ts100_hvg_False_scale_True\n",
      "(4899, 541)\n",
      "28\n",
      "nuc_qv0_neighs16_npc0_ts100_hvg_False_scale_True\n",
      "(4899, 541)\n",
      "32\n",
      "nuc_qv0_neighs12_npc0_ts100_hvg_False_scale_True\n",
      "(4899, 541)\n",
      "35\n",
      "nuc_qv0_neighs6_npc0_ts100_hvg_False_scale_True\n",
      "(4899, 541)\n",
      "45\n",
      "iter 0\n",
      "iter 1\n",
      "iter 2\n",
      "iter 3\n",
      "iter 4\n",
      "nuc_qv0_neighs20_npc0_ts100_hvg_False_scale_True\n",
      "(4899, 541)\n",
      "29\n",
      "nuc_qv0_neighs16_npc0_ts10_hvg_False_scale_True\n",
      "(4899, 541)\n",
      "30\n",
      "nuc_qv0_neighs16_npc0_ts1000_hvg_False_scale_True\n",
      "(4899, 541)\n",
      "33\n",
      "nuc_qv0_neighs16_npc0_tsNone_hvg_False_scale_True\n",
      "(4899, 541)\n",
      "32\n"
     ]
    },
    {
     "name": "stderr",
     "output_type": "stream",
     "text": [
      "/home/sergio/anaconda3/envs/xb/lib/python3.7/site-packages/ipykernel_launcher.py:14: FutureWarning: X.dtype being converted to np.float32 from int64. In the next version of anndata (0.9) conversion will not be automatic. Pass dtype explicitly to avoid this warning. Pass `AnnData(X, dtype=X.dtype, ...)` to get the future behavour.\n",
      "  \n",
      "/home/sergio/anaconda3/envs/xb/lib/python3.7/site-packages/anndata/_core/anndata.py:121: ImplicitModificationWarning: Transforming to str index.\n",
      "  warnings.warn(\"Transforming to str index.\", ImplicitModificationWarning)\n"
     ]
    },
    {
     "name": "stdout",
     "output_type": "stream",
     "text": [
      "cell_qv0_neighs16_npc0_ts100_hvg_False_scale_True\n",
      "(4999, 541)\n",
      "27\n"
     ]
    },
    {
     "name": "stderr",
     "output_type": "stream",
     "text": [
      "/home/sergio/anaconda3/envs/xb/lib/python3.7/site-packages/ipykernel_launcher.py:14: FutureWarning: X.dtype being converted to np.float32 from int64. In the next version of anndata (0.9) conversion will not be automatic. Pass dtype explicitly to avoid this warning. Pass `AnnData(X, dtype=X.dtype, ...)` to get the future behavour.\n",
      "  \n",
      "/home/sergio/anaconda3/envs/xb/lib/python3.7/site-packages/anndata/_core/anndata.py:121: ImplicitModificationWarning: Transforming to str index.\n",
      "  warnings.warn(\"Transforming to str index.\", ImplicitModificationWarning)\n"
     ]
    },
    {
     "name": "stdout",
     "output_type": "stream",
     "text": [
      "nuc_qv20_neighs16_npc0_ts100_hvg_False_scale_True\n",
      "(4872, 418)\n",
      "29\n"
     ]
    },
    {
     "name": "stderr",
     "output_type": "stream",
     "text": [
      "/home/sergio/anaconda3/envs/xb/lib/python3.7/site-packages/ipykernel_launcher.py:14: FutureWarning: X.dtype being converted to np.float32 from int64. In the next version of anndata (0.9) conversion will not be automatic. Pass dtype explicitly to avoid this warning. Pass `AnnData(X, dtype=X.dtype, ...)` to get the future behavour.\n",
      "  \n",
      "/home/sergio/anaconda3/envs/xb/lib/python3.7/site-packages/anndata/_core/anndata.py:121: ImplicitModificationWarning: Transforming to str index.\n",
      "  warnings.warn(\"Transforming to str index.\", ImplicitModificationWarning)\n"
     ]
    },
    {
     "name": "stdout",
     "output_type": "stream",
     "text": [
      "nuc_qv30_neighs16_npc0_ts100_hvg_False_scale_True\n",
      "(4836, 314)\n",
      "31\n"
     ]
    },
    {
     "name": "stderr",
     "output_type": "stream",
     "text": [
      "/home/sergio/anaconda3/envs/xb/lib/python3.7/site-packages/ipykernel_launcher.py:14: FutureWarning: X.dtype being converted to np.float32 from int64. In the next version of anndata (0.9) conversion will not be automatic. Pass dtype explicitly to avoid this warning. Pass `AnnData(X, dtype=X.dtype, ...)` to get the future behavour.\n",
      "  \n",
      "/home/sergio/anaconda3/envs/xb/lib/python3.7/site-packages/anndata/_core/anndata.py:121: ImplicitModificationWarning: Transforming to str index.\n",
      "  warnings.warn(\"Transforming to str index.\", ImplicitModificationWarning)\n"
     ]
    },
    {
     "name": "stdout",
     "output_type": "stream",
     "text": [
      "ms_brain_multisection3.h5ad\n"
     ]
    },
    {
     "name": "stderr",
     "output_type": "stream",
     "text": [
      "/home/sergio/anaconda3/envs/xb/lib/python3.7/site-packages/anndata/compat/_overloaded_dict.py:106: ImplicitModificationWarning: Trying to modify attribute `._uns` of view, initializing view as actual.\n",
      "  self.data[key] = value\n"
     ]
    },
    {
     "name": "stdout",
     "output_type": "stream",
     "text": [
      "first run\n"
     ]
    },
    {
     "name": "stderr",
     "output_type": "stream",
     "text": [
      "/home/sergio/anaconda3/envs/xb/lib/python3.7/site-packages/ipykernel_launcher.py:14: FutureWarning: X.dtype being converted to np.float32 from int64. In the next version of anndata (0.9) conversion will not be automatic. Pass dtype explicitly to avoid this warning. Pass `AnnData(X, dtype=X.dtype, ...)` to get the future behavour.\n",
      "  \n",
      "/home/sergio/anaconda3/envs/xb/lib/python3.7/site-packages/anndata/_core/anndata.py:121: ImplicitModificationWarning: Transforming to str index.\n",
      "  warnings.warn(\"Transforming to str index.\", ImplicitModificationWarning)\n"
     ]
    },
    {
     "name": "stdout",
     "output_type": "stream",
     "text": [
      "DEFAULT\n",
      "(4929, 541)\n",
      "34\n",
      "nuc_qv0_neighs16_npc0_ts100_hvg_True_scale_True\n",
      "(4929, 78)\n"
     ]
    },
    {
     "name": "stderr",
     "output_type": "stream",
     "text": [
      "/home/sergio/anaconda3/envs/xb/lib/python3.7/site-packages/scanpy/preprocessing/_simple.py:843: UserWarning: Received a view of an AnnData. Making a copy.\n",
      "  view_to_actual(adata)\n"
     ]
    },
    {
     "name": "stdout",
     "output_type": "stream",
     "text": [
      "27\n",
      "nuc_qv0_neighs16_npc0_ts100_hvg_False_scale_True\n",
      "(4929, 541)\n",
      "34\n",
      "nuc_qv0_neighs16_npc0_ts100_hvg_False_scale_False\n",
      "(4929, 541)\n",
      "26\n",
      "nuc_qv0_neighs16_npc15_ts100_hvg_False_scale_True\n",
      "(4929, 541)\n",
      "24\n",
      "nuc_qv0_neighs16_npc25_ts100_hvg_False_scale_True\n",
      "(4929, 541)\n",
      "28\n",
      "nuc_qv0_neighs16_npc0_ts100_hvg_False_scale_True\n",
      "(4929, 541)\n",
      "32\n",
      "nuc_qv0_neighs12_npc0_ts100_hvg_False_scale_True\n",
      "(4929, 541)\n",
      "37\n",
      "nuc_qv0_neighs6_npc0_ts100_hvg_False_scale_True\n",
      "(4929, 541)\n",
      "49\n",
      "iter 0\n",
      "iter 1\n",
      "iter 2\n",
      "iter 3\n",
      "nuc_qv0_neighs20_npc0_ts100_hvg_False_scale_True\n",
      "(4929, 541)\n",
      "33\n",
      "nuc_qv0_neighs16_npc0_ts10_hvg_False_scale_True\n",
      "(4929, 541)\n",
      "34\n",
      "nuc_qv0_neighs16_npc0_ts1000_hvg_False_scale_True\n",
      "(4929, 541)\n",
      "32\n",
      "nuc_qv0_neighs16_npc0_tsNone_hvg_False_scale_True\n",
      "(4929, 541)\n",
      "32\n"
     ]
    },
    {
     "name": "stderr",
     "output_type": "stream",
     "text": [
      "/home/sergio/anaconda3/envs/xb/lib/python3.7/site-packages/ipykernel_launcher.py:14: FutureWarning: X.dtype being converted to np.float32 from int64. In the next version of anndata (0.9) conversion will not be automatic. Pass dtype explicitly to avoid this warning. Pass `AnnData(X, dtype=X.dtype, ...)` to get the future behavour.\n",
      "  \n",
      "/home/sergio/anaconda3/envs/xb/lib/python3.7/site-packages/anndata/_core/anndata.py:121: ImplicitModificationWarning: Transforming to str index.\n",
      "  warnings.warn(\"Transforming to str index.\", ImplicitModificationWarning)\n"
     ]
    },
    {
     "name": "stdout",
     "output_type": "stream",
     "text": [
      "cell_qv0_neighs16_npc0_ts100_hvg_False_scale_True\n",
      "(5000, 541)\n",
      "30\n"
     ]
    },
    {
     "name": "stderr",
     "output_type": "stream",
     "text": [
      "/home/sergio/anaconda3/envs/xb/lib/python3.7/site-packages/ipykernel_launcher.py:14: FutureWarning: X.dtype being converted to np.float32 from int64. In the next version of anndata (0.9) conversion will not be automatic. Pass dtype explicitly to avoid this warning. Pass `AnnData(X, dtype=X.dtype, ...)` to get the future behavour.\n",
      "  \n",
      "/home/sergio/anaconda3/envs/xb/lib/python3.7/site-packages/anndata/_core/anndata.py:121: ImplicitModificationWarning: Transforming to str index.\n",
      "  warnings.warn(\"Transforming to str index.\", ImplicitModificationWarning)\n"
     ]
    },
    {
     "name": "stdout",
     "output_type": "stream",
     "text": [
      "nuc_qv20_neighs16_npc0_ts100_hvg_False_scale_True\n",
      "(4895, 454)\n",
      "28\n"
     ]
    },
    {
     "name": "stderr",
     "output_type": "stream",
     "text": [
      "/home/sergio/anaconda3/envs/xb/lib/python3.7/site-packages/ipykernel_launcher.py:14: FutureWarning: X.dtype being converted to np.float32 from int64. In the next version of anndata (0.9) conversion will not be automatic. Pass dtype explicitly to avoid this warning. Pass `AnnData(X, dtype=X.dtype, ...)` to get the future behavour.\n",
      "  \n",
      "/home/sergio/anaconda3/envs/xb/lib/python3.7/site-packages/anndata/_core/anndata.py:121: ImplicitModificationWarning: Transforming to str index.\n",
      "  warnings.warn(\"Transforming to str index.\", ImplicitModificationWarning)\n"
     ]
    },
    {
     "name": "stdout",
     "output_type": "stream",
     "text": [
      "nuc_qv30_neighs16_npc0_ts100_hvg_False_scale_True\n",
      "(4850, 332)\n",
      "27\n"
     ]
    },
    {
     "name": "stderr",
     "output_type": "stream",
     "text": [
      "/home/sergio/anaconda3/envs/xb/lib/python3.7/site-packages/ipykernel_launcher.py:14: FutureWarning: X.dtype being converted to np.float32 from int64. In the next version of anndata (0.9) conversion will not be automatic. Pass dtype explicitly to avoid this warning. Pass `AnnData(X, dtype=X.dtype, ...)` to get the future behavour.\n",
      "  \n",
      "/home/sergio/anaconda3/envs/xb/lib/python3.7/site-packages/anndata/_core/anndata.py:121: ImplicitModificationWarning: Transforming to str index.\n",
      "  warnings.warn(\"Transforming to str index.\", ImplicitModificationWarning)\n"
     ]
    },
    {
     "name": "stdout",
     "output_type": "stream",
     "text": [
      "realmouse_1.h5ad\n"
     ]
    },
    {
     "name": "stderr",
     "output_type": "stream",
     "text": [
      "/home/sergio/anaconda3/envs/xb/lib/python3.7/site-packages/anndata/compat/_overloaded_dict.py:106: ImplicitModificationWarning: Trying to modify attribute `._uns` of view, initializing view as actual.\n",
      "  self.data[key] = value\n"
     ]
    },
    {
     "name": "stdout",
     "output_type": "stream",
     "text": [
      "first run\n"
     ]
    },
    {
     "name": "stderr",
     "output_type": "stream",
     "text": [
      "/home/sergio/anaconda3/envs/xb/lib/python3.7/site-packages/ipykernel_launcher.py:14: FutureWarning: X.dtype being converted to np.float32 from int64. In the next version of anndata (0.9) conversion will not be automatic. Pass dtype explicitly to avoid this warning. Pass `AnnData(X, dtype=X.dtype, ...)` to get the future behavour.\n",
      "  \n",
      "/home/sergio/anaconda3/envs/xb/lib/python3.7/site-packages/anndata/_core/anndata.py:121: ImplicitModificationWarning: Transforming to str index.\n",
      "  warnings.warn(\"Transforming to str index.\", ImplicitModificationWarning)\n"
     ]
    },
    {
     "name": "stdout",
     "output_type": "stream",
     "text": [
      "DEFAULT\n",
      "(4802, 541)\n",
      "25\n",
      "nuc_qv0_neighs16_npc0_ts100_hvg_True_scale_True\n",
      "(4802, 84)\n"
     ]
    },
    {
     "name": "stderr",
     "output_type": "stream",
     "text": [
      "/home/sergio/anaconda3/envs/xb/lib/python3.7/site-packages/scanpy/preprocessing/_simple.py:843: UserWarning: Received a view of an AnnData. Making a copy.\n",
      "  view_to_actual(adata)\n"
     ]
    },
    {
     "name": "stdout",
     "output_type": "stream",
     "text": [
      "31\n",
      "iter 0\n",
      "iter 1\n",
      "nuc_qv0_neighs16_npc0_ts100_hvg_False_scale_True\n",
      "(4802, 541)\n",
      "28\n",
      "nuc_qv0_neighs16_npc0_ts100_hvg_False_scale_False\n",
      "(4802, 541)\n",
      "28\n",
      "nuc_qv0_neighs16_npc15_ts100_hvg_False_scale_True\n",
      "(4802, 541)\n",
      "25\n",
      "nuc_qv0_neighs16_npc25_ts100_hvg_False_scale_True\n",
      "(4802, 541)\n",
      "27\n",
      "nuc_qv0_neighs16_npc0_ts100_hvg_False_scale_True\n",
      "(4802, 541)\n",
      "31\n",
      "iter 0\n",
      "iter 1\n",
      "nuc_qv0_neighs12_npc0_ts100_hvg_False_scale_True\n",
      "(4802, 541)\n",
      "29\n",
      "iter 0\n",
      "nuc_qv0_neighs6_npc0_ts100_hvg_False_scale_True\n",
      "(4802, 541)\n",
      "42\n",
      "iter 0\n",
      "iter 1\n",
      "iter 2\n",
      "iter 3\n",
      "iter 4\n",
      "iter 0\n",
      "iter 1\n",
      "iter 2\n",
      "iter 3\n",
      "iter 4\n",
      "nuc_qv0_neighs20_npc0_ts100_hvg_False_scale_True\n",
      "(4802, 541)\n",
      "23\n",
      "nuc_qv0_neighs16_npc0_ts10_hvg_False_scale_True\n",
      "(4802, 541)\n",
      "27\n",
      "nuc_qv0_neighs16_npc0_ts1000_hvg_False_scale_True\n",
      "(4802, 541)\n",
      "27\n",
      "nuc_qv0_neighs16_npc0_tsNone_hvg_False_scale_True\n",
      "(4802, 541)\n",
      "25\n"
     ]
    },
    {
     "name": "stderr",
     "output_type": "stream",
     "text": [
      "/home/sergio/anaconda3/envs/xb/lib/python3.7/site-packages/ipykernel_launcher.py:14: FutureWarning: X.dtype being converted to np.float32 from int64. In the next version of anndata (0.9) conversion will not be automatic. Pass dtype explicitly to avoid this warning. Pass `AnnData(X, dtype=X.dtype, ...)` to get the future behavour.\n",
      "  \n",
      "/home/sergio/anaconda3/envs/xb/lib/python3.7/site-packages/anndata/_core/anndata.py:121: ImplicitModificationWarning: Transforming to str index.\n",
      "  warnings.warn(\"Transforming to str index.\", ImplicitModificationWarning)\n"
     ]
    },
    {
     "name": "stdout",
     "output_type": "stream",
     "text": [
      "cell_qv0_neighs16_npc0_ts100_hvg_False_scale_True\n",
      "(4979, 541)\n",
      "25\n"
     ]
    },
    {
     "name": "stderr",
     "output_type": "stream",
     "text": [
      "/home/sergio/anaconda3/envs/xb/lib/python3.7/site-packages/ipykernel_launcher.py:14: FutureWarning: X.dtype being converted to np.float32 from int64. In the next version of anndata (0.9) conversion will not be automatic. Pass dtype explicitly to avoid this warning. Pass `AnnData(X, dtype=X.dtype, ...)` to get the future behavour.\n",
      "  \n",
      "/home/sergio/anaconda3/envs/xb/lib/python3.7/site-packages/anndata/_core/anndata.py:121: ImplicitModificationWarning: Transforming to str index.\n",
      "  warnings.warn(\"Transforming to str index.\", ImplicitModificationWarning)\n"
     ]
    },
    {
     "name": "stdout",
     "output_type": "stream",
     "text": [
      "nuc_qv20_neighs16_npc0_ts100_hvg_False_scale_True\n",
      "(4745, 415)\n",
      "28\n"
     ]
    },
    {
     "name": "stderr",
     "output_type": "stream",
     "text": [
      "/home/sergio/anaconda3/envs/xb/lib/python3.7/site-packages/ipykernel_launcher.py:14: FutureWarning: X.dtype being converted to np.float32 from int64. In the next version of anndata (0.9) conversion will not be automatic. Pass dtype explicitly to avoid this warning. Pass `AnnData(X, dtype=X.dtype, ...)` to get the future behavour.\n",
      "  \n",
      "/home/sergio/anaconda3/envs/xb/lib/python3.7/site-packages/anndata/_core/anndata.py:121: ImplicitModificationWarning: Transforming to str index.\n",
      "  warnings.warn(\"Transforming to str index.\", ImplicitModificationWarning)\n"
     ]
    },
    {
     "name": "stdout",
     "output_type": "stream",
     "text": [
      "nuc_qv30_neighs16_npc0_ts100_hvg_False_scale_True\n",
      "(4675, 321)\n",
      "26\n"
     ]
    },
    {
     "name": "stderr",
     "output_type": "stream",
     "text": [
      "/home/sergio/anaconda3/envs/xb/lib/python3.7/site-packages/ipykernel_launcher.py:14: FutureWarning: X.dtype being converted to np.float32 from int64. In the next version of anndata (0.9) conversion will not be automatic. Pass dtype explicitly to avoid this warning. Pass `AnnData(X, dtype=X.dtype, ...)` to get the future behavour.\n",
      "  \n",
      "/home/sergio/anaconda3/envs/xb/lib/python3.7/site-packages/anndata/_core/anndata.py:121: ImplicitModificationWarning: Transforming to str index.\n",
      "  warnings.warn(\"Transforming to str index.\", ImplicitModificationWarning)\n"
     ]
    },
    {
     "name": "stdout",
     "output_type": "stream",
     "text": [
      "realmouse_2.h5ad\n"
     ]
    },
    {
     "name": "stderr",
     "output_type": "stream",
     "text": [
      "/home/sergio/anaconda3/envs/xb/lib/python3.7/site-packages/anndata/compat/_overloaded_dict.py:106: ImplicitModificationWarning: Trying to modify attribute `._uns` of view, initializing view as actual.\n",
      "  self.data[key] = value\n"
     ]
    },
    {
     "name": "stdout",
     "output_type": "stream",
     "text": [
      "first run\n"
     ]
    },
    {
     "name": "stderr",
     "output_type": "stream",
     "text": [
      "/home/sergio/anaconda3/envs/xb/lib/python3.7/site-packages/ipykernel_launcher.py:14: FutureWarning: X.dtype being converted to np.float32 from int64. In the next version of anndata (0.9) conversion will not be automatic. Pass dtype explicitly to avoid this warning. Pass `AnnData(X, dtype=X.dtype, ...)` to get the future behavour.\n",
      "  \n",
      "/home/sergio/anaconda3/envs/xb/lib/python3.7/site-packages/anndata/_core/anndata.py:121: ImplicitModificationWarning: Transforming to str index.\n",
      "  warnings.warn(\"Transforming to str index.\", ImplicitModificationWarning)\n"
     ]
    },
    {
     "name": "stdout",
     "output_type": "stream",
     "text": [
      "DEFAULT\n",
      "(4872, 541)\n",
      "27\n",
      "nuc_qv0_neighs16_npc0_ts100_hvg_True_scale_True\n"
     ]
    },
    {
     "name": "stderr",
     "output_type": "stream",
     "text": [
      "/home/sergio/anaconda3/envs/xb/lib/python3.7/site-packages/scanpy/preprocessing/_simple.py:843: UserWarning: Received a view of an AnnData. Making a copy.\n",
      "  view_to_actual(adata)\n"
     ]
    },
    {
     "name": "stdout",
     "output_type": "stream",
     "text": [
      "(4872, 83)\n",
      "31\n",
      "iter 0\n",
      "iter 1\n",
      "nuc_qv0_neighs16_npc0_ts100_hvg_False_scale_True\n",
      "(4872, 541)\n",
      "28\n",
      "nuc_qv0_neighs16_npc0_ts100_hvg_False_scale_False\n",
      "(4872, 541)\n",
      "28\n",
      "nuc_qv0_neighs16_npc15_ts100_hvg_False_scale_True\n",
      "(4872, 541)\n",
      "21\n",
      "nuc_qv0_neighs16_npc25_ts100_hvg_False_scale_True\n",
      "(4872, 541)\n",
      "26\n",
      "nuc_qv0_neighs16_npc0_ts100_hvg_False_scale_True\n",
      "(4872, 541)\n",
      "31\n",
      "iter 0\n",
      "nuc_qv0_neighs12_npc0_ts100_hvg_False_scale_True\n",
      "(4872, 541)\n",
      "29\n",
      "nuc_qv0_neighs6_npc0_ts100_hvg_False_scale_True\n",
      "(4872, 541)\n",
      "45\n",
      "iter 0\n",
      "iter 1\n",
      "iter 2\n",
      "iter 3\n",
      "iter 4\n",
      "iter 5\n",
      "nuc_qv0_neighs20_npc0_ts100_hvg_False_scale_True\n",
      "(4872, 541)\n",
      "22\n",
      "nuc_qv0_neighs16_npc0_ts10_hvg_False_scale_True\n",
      "(4872, 541)\n",
      "28\n",
      "nuc_qv0_neighs16_npc0_ts1000_hvg_False_scale_True\n",
      "(4872, 541)\n",
      "27\n",
      "nuc_qv0_neighs16_npc0_tsNone_hvg_False_scale_True\n",
      "(4872, 541)\n",
      "27\n"
     ]
    },
    {
     "name": "stderr",
     "output_type": "stream",
     "text": [
      "/home/sergio/anaconda3/envs/xb/lib/python3.7/site-packages/ipykernel_launcher.py:14: FutureWarning: X.dtype being converted to np.float32 from int64. In the next version of anndata (0.9) conversion will not be automatic. Pass dtype explicitly to avoid this warning. Pass `AnnData(X, dtype=X.dtype, ...)` to get the future behavour.\n",
      "  \n",
      "/home/sergio/anaconda3/envs/xb/lib/python3.7/site-packages/anndata/_core/anndata.py:121: ImplicitModificationWarning: Transforming to str index.\n",
      "  warnings.warn(\"Transforming to str index.\", ImplicitModificationWarning)\n"
     ]
    },
    {
     "name": "stdout",
     "output_type": "stream",
     "text": [
      "cell_qv0_neighs16_npc0_ts100_hvg_False_scale_True\n",
      "(4997, 541)\n",
      "27\n"
     ]
    },
    {
     "name": "stderr",
     "output_type": "stream",
     "text": [
      "/home/sergio/anaconda3/envs/xb/lib/python3.7/site-packages/ipykernel_launcher.py:14: FutureWarning: X.dtype being converted to np.float32 from int64. In the next version of anndata (0.9) conversion will not be automatic. Pass dtype explicitly to avoid this warning. Pass `AnnData(X, dtype=X.dtype, ...)` to get the future behavour.\n",
      "  \n",
      "/home/sergio/anaconda3/envs/xb/lib/python3.7/site-packages/anndata/_core/anndata.py:121: ImplicitModificationWarning: Transforming to str index.\n",
      "  warnings.warn(\"Transforming to str index.\", ImplicitModificationWarning)\n"
     ]
    },
    {
     "name": "stdout",
     "output_type": "stream",
     "text": [
      "nuc_qv20_neighs16_npc0_ts100_hvg_False_scale_True\n",
      "(4801, 405)\n",
      "29\n"
     ]
    },
    {
     "name": "stderr",
     "output_type": "stream",
     "text": [
      "/home/sergio/anaconda3/envs/xb/lib/python3.7/site-packages/ipykernel_launcher.py:14: FutureWarning: X.dtype being converted to np.float32 from int64. In the next version of anndata (0.9) conversion will not be automatic. Pass dtype explicitly to avoid this warning. Pass `AnnData(X, dtype=X.dtype, ...)` to get the future behavour.\n",
      "  \n",
      "/home/sergio/anaconda3/envs/xb/lib/python3.7/site-packages/anndata/_core/anndata.py:121: ImplicitModificationWarning: Transforming to str index.\n",
      "  warnings.warn(\"Transforming to str index.\", ImplicitModificationWarning)\n"
     ]
    },
    {
     "name": "stdout",
     "output_type": "stream",
     "text": [
      "nuc_qv30_neighs16_npc0_ts100_hvg_False_scale_True\n",
      "(4733, 318)\n",
      "28\n"
     ]
    },
    {
     "name": "stderr",
     "output_type": "stream",
     "text": [
      "/home/sergio/anaconda3/envs/xb/lib/python3.7/site-packages/ipykernel_launcher.py:14: FutureWarning: X.dtype being converted to np.float32 from int64. In the next version of anndata (0.9) conversion will not be automatic. Pass dtype explicitly to avoid this warning. Pass `AnnData(X, dtype=X.dtype, ...)` to get the future behavour.\n",
      "  \n",
      "/home/sergio/anaconda3/envs/xb/lib/python3.7/site-packages/anndata/_core/anndata.py:121: ImplicitModificationWarning: Transforming to str index.\n",
      "  warnings.warn(\"Transforming to str index.\", ImplicitModificationWarning)\n"
     ]
    },
    {
     "name": "stdout",
     "output_type": "stream",
     "text": [
      "realmouse_3.h5ad\n"
     ]
    },
    {
     "name": "stderr",
     "output_type": "stream",
     "text": [
      "/home/sergio/anaconda3/envs/xb/lib/python3.7/site-packages/anndata/compat/_overloaded_dict.py:106: ImplicitModificationWarning: Trying to modify attribute `._uns` of view, initializing view as actual.\n",
      "  self.data[key] = value\n"
     ]
    },
    {
     "name": "stdout",
     "output_type": "stream",
     "text": [
      "first run\n"
     ]
    },
    {
     "name": "stderr",
     "output_type": "stream",
     "text": [
      "/home/sergio/anaconda3/envs/xb/lib/python3.7/site-packages/ipykernel_launcher.py:14: FutureWarning: X.dtype being converted to np.float32 from int64. In the next version of anndata (0.9) conversion will not be automatic. Pass dtype explicitly to avoid this warning. Pass `AnnData(X, dtype=X.dtype, ...)` to get the future behavour.\n",
      "  \n",
      "/home/sergio/anaconda3/envs/xb/lib/python3.7/site-packages/anndata/_core/anndata.py:121: ImplicitModificationWarning: Transforming to str index.\n",
      "  warnings.warn(\"Transforming to str index.\", ImplicitModificationWarning)\n"
     ]
    },
    {
     "name": "stdout",
     "output_type": "stream",
     "text": [
      "DEFAULT\n",
      "(4897, 540)\n",
      "29\n",
      "nuc_qv0_neighs16_npc0_ts100_hvg_True_scale_True\n",
      "(4897, 81)\n"
     ]
    },
    {
     "name": "stderr",
     "output_type": "stream",
     "text": [
      "/home/sergio/anaconda3/envs/xb/lib/python3.7/site-packages/scanpy/preprocessing/_simple.py:843: UserWarning: Received a view of an AnnData. Making a copy.\n",
      "  view_to_actual(adata)\n"
     ]
    },
    {
     "name": "stdout",
     "output_type": "stream",
     "text": [
      "30\n",
      "nuc_qv0_neighs16_npc0_ts100_hvg_False_scale_True\n",
      "(4897, 540)\n",
      "30\n",
      "nuc_qv0_neighs16_npc0_ts100_hvg_False_scale_False\n",
      "(4897, 540)\n",
      "31\n",
      "nuc_qv0_neighs16_npc15_ts100_hvg_False_scale_True\n",
      "(4897, 540)\n",
      "22\n",
      "nuc_qv0_neighs16_npc25_ts100_hvg_False_scale_True\n",
      "(4897, 540)\n",
      "26\n",
      "nuc_qv0_neighs16_npc0_ts100_hvg_False_scale_True\n",
      "(4897, 540)\n",
      "28\n",
      "nuc_qv0_neighs12_npc0_ts100_hvg_False_scale_True\n",
      "(4897, 540)\n",
      "33\n",
      "iter 0\n",
      "iter 1\n",
      "nuc_qv0_neighs6_npc0_ts100_hvg_False_scale_True\n",
      "(4897, 540)\n",
      "50\n",
      "iter 0\n",
      "iter 1\n",
      "iter 2\n",
      "iter 3\n",
      "iter 4\n",
      "iter 5\n",
      "iter 0\n",
      "iter 1\n",
      "iter 2\n",
      "iter 3\n",
      "iter 4\n",
      "iter 5\n",
      "nuc_qv0_neighs20_npc0_ts100_hvg_False_scale_True\n",
      "(4897, 540)\n",
      "30\n",
      "nuc_qv0_neighs16_npc0_ts10_hvg_False_scale_True\n",
      "(4897, 540)\n",
      "28\n",
      "nuc_qv0_neighs16_npc0_ts1000_hvg_False_scale_True\n",
      "(4897, 540)\n",
      "34\n",
      "iter 0\n",
      "nuc_qv0_neighs16_npc0_tsNone_hvg_False_scale_True\n",
      "(4897, 540)\n",
      "29\n"
     ]
    },
    {
     "name": "stderr",
     "output_type": "stream",
     "text": [
      "/home/sergio/anaconda3/envs/xb/lib/python3.7/site-packages/ipykernel_launcher.py:14: FutureWarning: X.dtype being converted to np.float32 from int64. In the next version of anndata (0.9) conversion will not be automatic. Pass dtype explicitly to avoid this warning. Pass `AnnData(X, dtype=X.dtype, ...)` to get the future behavour.\n",
      "  \n",
      "/home/sergio/anaconda3/envs/xb/lib/python3.7/site-packages/anndata/_core/anndata.py:121: ImplicitModificationWarning: Transforming to str index.\n",
      "  warnings.warn(\"Transforming to str index.\", ImplicitModificationWarning)\n"
     ]
    },
    {
     "name": "stdout",
     "output_type": "stream",
     "text": [
      "cell_qv0_neighs16_npc0_ts100_hvg_False_scale_True\n",
      "(4996, 541)\n",
      "27\n"
     ]
    },
    {
     "name": "stderr",
     "output_type": "stream",
     "text": [
      "/home/sergio/anaconda3/envs/xb/lib/python3.7/site-packages/ipykernel_launcher.py:14: FutureWarning: X.dtype being converted to np.float32 from int64. In the next version of anndata (0.9) conversion will not be automatic. Pass dtype explicitly to avoid this warning. Pass `AnnData(X, dtype=X.dtype, ...)` to get the future behavour.\n",
      "  \n",
      "/home/sergio/anaconda3/envs/xb/lib/python3.7/site-packages/anndata/_core/anndata.py:121: ImplicitModificationWarning: Transforming to str index.\n",
      "  warnings.warn(\"Transforming to str index.\", ImplicitModificationWarning)\n"
     ]
    },
    {
     "name": "stdout",
     "output_type": "stream",
     "text": [
      "nuc_qv20_neighs16_npc0_ts100_hvg_False_scale_True\n",
      "(4845, 414)\n",
      "28\n"
     ]
    },
    {
     "name": "stderr",
     "output_type": "stream",
     "text": [
      "/home/sergio/anaconda3/envs/xb/lib/python3.7/site-packages/ipykernel_launcher.py:14: FutureWarning: X.dtype being converted to np.float32 from int64. In the next version of anndata (0.9) conversion will not be automatic. Pass dtype explicitly to avoid this warning. Pass `AnnData(X, dtype=X.dtype, ...)` to get the future behavour.\n",
      "  \n",
      "/home/sergio/anaconda3/envs/xb/lib/python3.7/site-packages/anndata/_core/anndata.py:121: ImplicitModificationWarning: Transforming to str index.\n",
      "  warnings.warn(\"Transforming to str index.\", ImplicitModificationWarning)\n"
     ]
    },
    {
     "name": "stdout",
     "output_type": "stream",
     "text": [
      "nuc_qv30_neighs16_npc0_ts100_hvg_False_scale_True\n",
      "(4776, 316)\n",
      "26\n"
     ]
    },
    {
     "name": "stderr",
     "output_type": "stream",
     "text": [
      "/home/sergio/anaconda3/envs/xb/lib/python3.7/site-packages/ipykernel_launcher.py:14: FutureWarning: X.dtype being converted to np.float32 from int64. In the next version of anndata (0.9) conversion will not be automatic. Pass dtype explicitly to avoid this warning. Pass `AnnData(X, dtype=X.dtype, ...)` to get the future behavour.\n",
      "  \n",
      "/home/sergio/anaconda3/envs/xb/lib/python3.7/site-packages/anndata/_core/anndata.py:121: ImplicitModificationWarning: Transforming to str index.\n",
      "  warnings.warn(\"Transforming to str index.\", ImplicitModificationWarning)\n"
     ]
    },
    {
     "name": "stdout",
     "output_type": "stream",
     "text": [
      "realmouse_4.h5ad\n"
     ]
    },
    {
     "name": "stderr",
     "output_type": "stream",
     "text": [
      "/home/sergio/anaconda3/envs/xb/lib/python3.7/site-packages/anndata/compat/_overloaded_dict.py:106: ImplicitModificationWarning: Trying to modify attribute `._uns` of view, initializing view as actual.\n",
      "  self.data[key] = value\n"
     ]
    },
    {
     "name": "stdout",
     "output_type": "stream",
     "text": [
      "first run\n"
     ]
    },
    {
     "name": "stderr",
     "output_type": "stream",
     "text": [
      "/home/sergio/anaconda3/envs/xb/lib/python3.7/site-packages/ipykernel_launcher.py:14: FutureWarning: X.dtype being converted to np.float32 from int64. In the next version of anndata (0.9) conversion will not be automatic. Pass dtype explicitly to avoid this warning. Pass `AnnData(X, dtype=X.dtype, ...)` to get the future behavour.\n",
      "  \n",
      "/home/sergio/anaconda3/envs/xb/lib/python3.7/site-packages/anndata/_core/anndata.py:121: ImplicitModificationWarning: Transforming to str index.\n",
      "  warnings.warn(\"Transforming to str index.\", ImplicitModificationWarning)\n"
     ]
    },
    {
     "name": "stdout",
     "output_type": "stream",
     "text": [
      "DEFAULT\n",
      "(4881, 541)\n",
      "28\n",
      "nuc_qv0_neighs16_npc0_ts100_hvg_True_scale_True\n",
      "(4881, 82)\n"
     ]
    },
    {
     "name": "stderr",
     "output_type": "stream",
     "text": [
      "/home/sergio/anaconda3/envs/xb/lib/python3.7/site-packages/scanpy/preprocessing/_simple.py:843: UserWarning: Received a view of an AnnData. Making a copy.\n",
      "  view_to_actual(adata)\n"
     ]
    },
    {
     "name": "stdout",
     "output_type": "stream",
     "text": [
      "31\n",
      "nuc_qv0_neighs16_npc0_ts100_hvg_False_scale_True\n",
      "(4881, 541)\n",
      "29\n",
      "nuc_qv0_neighs16_npc0_ts100_hvg_False_scale_False\n",
      "(4881, 541)\n",
      "26\n",
      "nuc_qv0_neighs16_npc15_ts100_hvg_False_scale_True\n",
      "(4881, 541)\n",
      "24\n",
      "nuc_qv0_neighs16_npc25_ts100_hvg_False_scale_True\n",
      "(4881, 541)\n",
      "24\n",
      "nuc_qv0_neighs16_npc0_ts100_hvg_False_scale_True\n",
      "(4881, 541)\n",
      "28\n",
      "nuc_qv0_neighs12_npc0_ts100_hvg_False_scale_True\n",
      "(4881, 541)\n",
      "30\n",
      "nuc_qv0_neighs6_npc0_ts100_hvg_False_scale_True\n",
      "(4881, 541)\n",
      "47\n",
      "iter 0\n",
      "iter 1\n",
      "iter 2\n",
      "iter 3\n",
      "iter 4\n",
      "iter 0\n",
      "iter 1\n",
      "iter 2\n",
      "iter 3\n",
      "iter 4\n",
      "nuc_qv0_neighs20_npc0_ts100_hvg_False_scale_True\n",
      "(4881, 541)\n",
      "25\n",
      "nuc_qv0_neighs16_npc0_ts10_hvg_False_scale_True\n",
      "(4881, 541)\n",
      "29\n",
      "nuc_qv0_neighs16_npc0_ts1000_hvg_False_scale_True\n",
      "(4881, 541)\n",
      "30\n",
      "nuc_qv0_neighs16_npc0_tsNone_hvg_False_scale_True\n",
      "(4881, 541)\n",
      "31\n"
     ]
    },
    {
     "name": "stderr",
     "output_type": "stream",
     "text": [
      "/home/sergio/anaconda3/envs/xb/lib/python3.7/site-packages/ipykernel_launcher.py:14: FutureWarning: X.dtype being converted to np.float32 from int64. In the next version of anndata (0.9) conversion will not be automatic. Pass dtype explicitly to avoid this warning. Pass `AnnData(X, dtype=X.dtype, ...)` to get the future behavour.\n",
      "  \n",
      "/home/sergio/anaconda3/envs/xb/lib/python3.7/site-packages/anndata/_core/anndata.py:121: ImplicitModificationWarning: Transforming to str index.\n",
      "  warnings.warn(\"Transforming to str index.\", ImplicitModificationWarning)\n"
     ]
    },
    {
     "name": "stdout",
     "output_type": "stream",
     "text": [
      "cell_qv0_neighs16_npc0_ts100_hvg_False_scale_True\n",
      "(4998, 541)\n",
      "28\n"
     ]
    },
    {
     "name": "stderr",
     "output_type": "stream",
     "text": [
      "/home/sergio/anaconda3/envs/xb/lib/python3.7/site-packages/ipykernel_launcher.py:14: FutureWarning: X.dtype being converted to np.float32 from int64. In the next version of anndata (0.9) conversion will not be automatic. Pass dtype explicitly to avoid this warning. Pass `AnnData(X, dtype=X.dtype, ...)` to get the future behavour.\n",
      "  \n",
      "/home/sergio/anaconda3/envs/xb/lib/python3.7/site-packages/anndata/_core/anndata.py:121: ImplicitModificationWarning: Transforming to str index.\n",
      "  warnings.warn(\"Transforming to str index.\", ImplicitModificationWarning)\n"
     ]
    },
    {
     "name": "stdout",
     "output_type": "stream",
     "text": [
      "nuc_qv20_neighs16_npc0_ts100_hvg_False_scale_True\n",
      "(4802, 415)\n",
      "29\n"
     ]
    },
    {
     "name": "stderr",
     "output_type": "stream",
     "text": [
      "/home/sergio/anaconda3/envs/xb/lib/python3.7/site-packages/ipykernel_launcher.py:14: FutureWarning: X.dtype being converted to np.float32 from int64. In the next version of anndata (0.9) conversion will not be automatic. Pass dtype explicitly to avoid this warning. Pass `AnnData(X, dtype=X.dtype, ...)` to get the future behavour.\n",
      "  \n",
      "/home/sergio/anaconda3/envs/xb/lib/python3.7/site-packages/anndata/_core/anndata.py:121: ImplicitModificationWarning: Transforming to str index.\n",
      "  warnings.warn(\"Transforming to str index.\", ImplicitModificationWarning)\n"
     ]
    },
    {
     "name": "stdout",
     "output_type": "stream",
     "text": [
      "nuc_qv30_neighs16_npc0_ts100_hvg_False_scale_True\n",
      "(4715, 321)\n",
      "27\n"
     ]
    },
    {
     "name": "stderr",
     "output_type": "stream",
     "text": [
      "/home/sergio/anaconda3/envs/xb/lib/python3.7/site-packages/ipykernel_launcher.py:14: FutureWarning: X.dtype being converted to np.float32 from int64. In the next version of anndata (0.9) conversion will not be automatic. Pass dtype explicitly to avoid this warning. Pass `AnnData(X, dtype=X.dtype, ...)` to get the future behavour.\n",
      "  \n",
      "/home/sergio/anaconda3/envs/xb/lib/python3.7/site-packages/anndata/_core/anndata.py:121: ImplicitModificationWarning: Transforming to str index.\n",
      "  warnings.warn(\"Transforming to str index.\", ImplicitModificationWarning)\n"
     ]
    },
    {
     "name": "stdout",
     "output_type": "stream",
     "text": [
      "hbreast_idc_addon_set1.h5ad\n"
     ]
    }
   ],
   "source": [
    "ARI=None\n",
    "VI=None\n",
    "fmi=None\n",
    "for f in files[:]:\n",
    "    print(f)\n",
    "    adata=sc.read(maindir+f)\n",
    "    adata.var.index=adata.var['gene_id']\n",
    "    perc=0.05\n",
    "    maxcell=100000\n",
    "    adata=adata[0:int(maxcell*perc),:]\n",
    "    selected_cells=adata.obs['cell_id']\n",
    "    adata.uns['spots']=adata.uns['spots'][adata.uns['spots']['cell_id'].isin(selected_cells)]\n",
    "    allres=allcombs(adata) # in this steps we perform all preprocessing strategies\n",
    "    import sklearn.metrics as sk\n",
    "    from tqdm import tqdm\n",
    "    if ARI is None:\n",
    "        ARI=pd.DataFrame(index=files,columns=allres.columns)\n",
    "    if VI is None:\n",
    "        VI=pd.DataFrame(index=files,columns=allres.columns)\n",
    "    if fmi is None:\n",
    "        fmi=pd.DataFrame(index=files,columns=allres.columns)\n",
    "\n",
    "    for col in ARI.columns:\n",
    "        ARI.loc[f,col]=sk.adjusted_rand_score(allres.loc[:,'DEFAULT_louv'],allres.loc[:,col])\n",
    "        VI.loc[f,col]=compute_vi(allres.loc[:,'DEFAULT_louv'],allres.loc[:,col])\n",
    "        fmi.loc[f,col]=compute_fmi(allres.loc[:,'DEFAULT_louv'],allres.loc[:,col])"
   ]
  },
  {
   "cell_type": "markdown",
   "id": "932e6f44",
   "metadata": {},
   "source": [
    "We save the output in figures/simulations"
   ]
  },
  {
   "cell_type": "code",
   "execution_count": 176,
   "id": "ab5feab0",
   "metadata": {},
   "outputs": [],
   "source": [
    "ARI.to_csv('../../figures/simulations/ARI_xenium_datasets.csv')\n",
    "VI.to_csv('../../figures/simulations/VI_xenium_datasets.csv')\n",
    "fmi.to_csv('../../figures/simulations/fmi_xenium_datasets.csv')"
   ]
  },
  {
   "cell_type": "markdown",
   "id": "e0d3ba2f",
   "metadata": {},
   "source": [
    "For plotting, we format the score to to facilitate its interpetation"
   ]
  },
  {
   "cell_type": "code",
   "execution_count": 2,
   "id": "e1e3bbda",
   "metadata": {},
   "outputs": [],
   "source": [
    "def formatting_scores(ARI): \n",
    "    \"\"\" Format the similarity to reference scores from simulated preprocessing strategies to fit the plotting requirements\n",
    "    Parameters:\n",
    "    ARI(DataFrame): Dataframe containing ARI values for all simulated conditions in all datasets\n",
    "    Returns:\n",
    "    ARISUB(DataFrame): formated ARI\n",
    "\n",
    "   \"\"\"\n",
    "    ARI2=ARI.iloc[:,1:]\n",
    "    trm=ARI2.transpose()\n",
    "    performance=pd.DataFrame(np.mean(trm,axis=1)).sort_values(by=0)\n",
    "    trm=trm.loc[performance.index,:]\n",
    "    ARI2.columns=[col.replace('hvg_','hvg') for col in ARI2.columns]\n",
    "    ARI2.columns=[col.replace('log_','log') for col in ARI2.columns]\n",
    "    ARI2.columns=[col.replace('norm_','norm') for col in ARI2.columns]\n",
    "    ARI2.columns=[col.replace('scale_','scale') for col in ARI2.columns]\n",
    "    ARI3=ARI2.iloc[:,1:]\n",
    "    options=pd.DataFrame([c.split('_') for c in ARI3.columns])\n",
    "    default=pd.DataFrame(options.loc[0,:]).transpose()\n",
    "    default[5]='hvgFalse'\n",
    "    default[9]='louv'\n",
    "    allnew=[]\n",
    "    for ind in options.index:\n",
    "        newn=''\n",
    "        for cl in options.columns:\n",
    "            if options.loc[ind,cl]!=str(default.loc[0,cl]):\n",
    "                if options.loc[ind,cl]=='leid':\n",
    "                        newn=newn+'EXCLUDE'\n",
    "                else:\n",
    "                    newn=newn+str(options.loc[ind,cl])\n",
    "        allnew.append(newn)\n",
    "    ARI2.columns=['leid']+ allnew\n",
    "    ARI2.index=[indi.replace('.h5ad','') for indi in ARI2.index]\n",
    "    ARI2=ARI2.loc[ARI2.mean(axis=1).sort_values().index,ARI2.mean(axis=0).sort_values().index]\n",
    "    ARISUB=ARI2.loc[:,['EXCLUDE' not in c for c in ARI2.columns]]\n",
    "    return ARISUB"
   ]
  },
  {
   "cell_type": "markdown",
   "id": "2094528e",
   "metadata": {},
   "source": [
    "# We format all scores to fit the plotting requirements"
   ]
  },
  {
   "cell_type": "code",
   "execution_count": 181,
   "id": "e5c93ba8",
   "metadata": {},
   "outputs": [],
   "source": [
    "ARISUB=formatting_scores(ARI.copy())\n",
    "fmisub=formatting_scores(fmi.copy())\n",
    "VISUB=formatting_scores(VI.copy())"
   ]
  },
  {
   "cell_type": "markdown",
   "id": "aae4546a",
   "metadata": {},
   "source": [
    "We now plot according to the mean scores obtained when modifying each parameter"
   ]
  },
  {
   "cell_type": "code",
   "execution_count": 201,
   "id": "c4df56c8",
   "metadata": {},
   "outputs": [
    {
     "data": {
      "image/png": "[encoded data removed]",
      "text/plain": [
       "<Figure size 432x288 with 1 Axes>"
      ]
     },
     "metadata": {
      "needs_background": "light"
     },
     "output_type": "display_data"
    }
   ],
   "source": [
    "meanvar=pd.DataFrame(np.mean(ARISUB,axis=0))\n",
    "sns.barplot(x=meanvar[0],y=meanvar.index,palette='Blues')\n",
    "plt.xlim(0.3,1)\n",
    "plt.savefig('../../figures/simulations/mean_ari_variations_real_datasets.pdf')"
   ]
  },
  {
   "cell_type": "markdown",
   "id": "06e55284",
   "metadata": {},
   "source": [
    "Finally, for every score we plot it in the form of a Heatmap"
   ]
  },
  {
   "cell_type": "code",
   "execution_count": 189,
   "id": "aeacae8f",
   "metadata": {},
   "outputs": [
    {
     "data": {
      "text/plain": [
       "<Figure size 720x720 with 0 Axes>"
      ]
     },
     "metadata": {},
     "output_type": "display_data"
    },
    {
     "data": {
      "image/png": "[encoded data removed]",
      "text/plain": [
       "<Figure size 432x432 with 2 Axes>"
      ]
     },
     "metadata": {
      "needs_background": "light"
     },
     "output_type": "display_data"
    }
   ],
   "source": [
    "plt.figure(figsize=(10,10))\n",
    "import matplotlib\n",
    "matplotlib.rcParams['pdf.fonttype'] = 42\n",
    "matplotlib.rcParams['ps.fonttype'] = 42\n",
    "plt.figure(figsize=(6,6))\n",
    "sns.heatmap(ARISUB.astype(float))\n",
    "plt.savefig('../../figures/simulations/variations_real_datasets_ari.pdf')"
   ]
  },
  {
   "cell_type": "code",
   "execution_count": 190,
   "id": "290cae9b",
   "metadata": {},
   "outputs": [
    {
     "data": {
      "text/plain": [
       "<Figure size 720x720 with 0 Axes>"
      ]
     },
     "metadata": {},
     "output_type": "display_data"
    },
    {
     "data": {
      "image/png": "[encoded data removed]",
      "text/plain": [
       "<Figure size 432x432 with 2 Axes>"
      ]
     },
     "metadata": {
      "needs_background": "light"
     },
     "output_type": "display_data"
    }
   ],
   "source": [
    "plt.figure(figsize=(10,10))\n",
    "import matplotlib\n",
    "matplotlib.rcParams['pdf.fonttype'] = 42\n",
    "matplotlib.rcParams['ps.fonttype'] = 42\n",
    "plt.figure(figsize=(6,6))\n",
    "sns.heatmap(VISUB.astype(float))\n",
    "plt.savefig('../../figures/simulations/variations_real_datasets_vi.pdf')"
   ]
  },
  {
   "cell_type": "code",
   "execution_count": 191,
   "id": "6bfd4be4",
   "metadata": {},
   "outputs": [
    {
     "data": {
      "image/png": "[encoded data removed]",
      "text/plain": [
       "<Figure size 432x432 with 2 Axes>"
      ]
     },
     "metadata": {
      "needs_background": "light"
     },
     "output_type": "display_data"
    }
   ],
   "source": [
    "import matplotlib\n",
    "matplotlib.rcParams['pdf.fonttype'] = 42\n",
    "matplotlib.rcParams['ps.fonttype'] = 42\n",
    "plt.figure(figsize=(6,6))\n",
    "sns.heatmap(fmisub.astype(float))\n",
    "plt.savefig('../../figures/simulations/variations_real_datasets_fmi.pdf')"
   ]
  }
 ],
 "metadata": {
  "kernelspec": {
   "display_name": "xb",
   "language": "python",
   "name": "xb"
  },
  "language_info": {
   "codemirror_mode": {
    "name": "ipython",
    "version": 3
   },
   "file_extension": ".py",
   "mimetype": "text/x-python",
   "name": "python",
   "nbconvert_exporter": "python",
   "pygments_lexer": "ipython3",
   "version": "3.7.13"
  }
 },
 "nbformat": 4,
 "nbformat_minor": 5
}
