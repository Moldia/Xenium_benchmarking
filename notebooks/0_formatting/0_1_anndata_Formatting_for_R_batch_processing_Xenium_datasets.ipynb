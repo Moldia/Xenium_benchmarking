{
 "cells": [
  {
   "cell_type": "markdown",
   "id": "231d1b8d",
   "metadata": {},
   "source": [
    "# Purpose of the notebook"
   ]
  },
  {
   "cell_type": "markdown",
   "id": "520179a9",
   "metadata": {},
   "source": [
    "In this notebook we format the adata formatted xenium datasets to csv's that we will later use as an input for the tasks that require R (i.e. Seurat pipelines)"
   ]
  },
  {
   "cell_type": "markdown",
   "id": "cfe4efae",
   "metadata": {},
   "source": [
    "# Import packages"
   ]
  },
  {
   "cell_type": "code",
   "execution_count": 16,
   "id": "bfe92667",
   "metadata": {},
   "outputs": [],
   "source": [
    "import numpy as np\n",
    "import pandas as pd\n",
    "import scanpy as sc\n",
    "import seaborn as sns\n",
    "import matplotlib.pyplot as plt\n",
    "import xb.plotting as xp\n",
    "import os"
   ]
  },
  {
   "cell_type": "markdown",
   "id": "a17faa6a",
   "metadata": {},
   "source": [
    "## Define main paths"
   ]
  },
  {
   "cell_type": "code",
   "execution_count": 17,
   "id": "63ebfd9a",
   "metadata": {},
   "outputs": [],
   "source": [
    "maindir='../../data/unprocessed_adata/'\n",
    "output_dir='../../data/unprocessed_adata_nuclei/'\n",
    "files=os.listdir(maindir)\n",
    "files=['ms_brain_multisection1.h5ad', 'human_brain.h5ad','ms_brain_multisection2.h5ad',\n",
    " 'ms_brain_multisection3.h5ad','realmouse_1.h5ad', 'realmouse_2.h5ad', 'realmouse_3.h5ad',\n",
    " 'realmouse_4.h5ad', 'hbreast_ilc_addon_set2.h5ad', 'hbreast_ilc_addon_set4.h5ad','hbreast_ilc_entiresample_set3.h5ad',\n",
    " 'healthy_lung.h5ad', 'human_alzheimers.h5ad', 'human_gbm.h5ad','human_spinal_chord_active.h5ad',\n",
    " 'human_spinal_chord_inactive.h5ad','h_breast_1.h5ad','h_breast_2.h5ad','lung_cancer.h5ad',\n",
    " 'ms_brain_fullcoronal.h5ad','ms_brain_partialcoronal.h5ad']"
   ]
  },
  {
   "cell_type": "markdown",
   "id": "2c6bfa12",
   "metadata": {},
   "source": [
    "## main loop"
   ]
  },
  {
   "cell_type": "code",
   "execution_count": 21,
   "id": "7a0e22dc",
   "metadata": {},
   "outputs": [
    {
     "name": "stdout",
     "output_type": "stream",
     "text": [
      "ms_brain_multisection1.h5ad\n",
      "human_brain.h5ad\n",
      "ms_brain_multisection2.h5ad\n",
      "ms_brain_multisection3.h5ad\n",
      "realmouse_1.h5ad\n",
      "realmouse_2.h5ad\n",
      "realmouse_3.h5ad\n",
      "realmouse_4.h5ad\n",
      "hbreast_ilc_addon_set2.h5ad\n",
      "hbreast_ilc_addon_set4.h5ad\n",
      "hbreast_ilc_entiresample_set3.h5ad\n",
      "healthy_lung.h5ad\n",
      "human_alzheimers.h5ad\n",
      "human_gbm.h5ad\n",
      "human_spinal_chord_active.h5ad\n",
      "human_spinal_chord_inactive.h5ad\n",
      "h_breast_1.h5ad\n",
      "h_breast_2.h5ad\n",
      "lung_cancer.h5ad\n",
      "ms_brain_fullcoronal.h5ad\n",
      "ms_brain_partialcoronal.h5ad\n"
     ]
    }
   ],
   "source": [
    "for f in files[:]:\n",
    "    print(f)\n",
    "    adata=sc.read(output_dir+f)\n",
    "    tag=f.split('.')[0]\n",
    "    if not os.path.exists('../../data/formatted_for_R/unprocessed_adata_nuclei/'+str(tag)):\n",
    "        os.mkdir('../../data/formatted_for_R/unprocessed_adata_nuclei/'+str(tag))\n",
    "    adata.obs.to_csv('../../data/formatted_for_R/unprocessed_adata_nuclei/'+str(tag)+'/obs.csv')\n",
    "    adata.var.to_csv('../../data/formatted_for_R/unprocessed_adata_nuclei/'+str(tag)+'/var.csv')\n",
    "    adata.to_df().to_csv('../../data/formatted_for_R/unprocessed_adata_nuclei/'+str(tag)+'/exp.csv')"
   ]
  }
 ],
 "metadata": {
  "kernelspec": {
   "display_name": "xb",
   "language": "python",
   "name": "xb"
  },
  "language_info": {
   "codemirror_mode": {
    "name": "ipython",
    "version": 3
   },
   "file_extension": ".py",
   "mimetype": "text/x-python",
   "name": "python",
   "nbconvert_exporter": "python",
   "pygments_lexer": "ipython3",
   "version": "3.7.13"
  }
 },
 "nbformat": 4,
 "nbformat_minor": 5
}
