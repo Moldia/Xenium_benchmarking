{
 "cells": [
  {
   "cell_type": "markdown",
   "metadata": {},
   "source": [
    "This notebook is used to transform expanded \"default\" anndata to solely nuclear data, taking as an input the adata generated in 0_0"
   ]
  },
  {
   "cell_type": "code",
   "execution_count": 1,
   "metadata": {},
   "outputs": [
    {
     "ename": "ImportError",
     "evalue": "cannot import name 'keep_nuclei_and_quality' from 'xb.formatting' (/home/sergio/Documents/Xenium_benchmarking/xb/formatting.py)",
     "output_type": "error",
     "traceback": [
      "\u001b[0;31m---------------------------------------------------------------------------\u001b[0m",
      "\u001b[0;31mImportError\u001b[0m                               Traceback (most recent call last)",
      "Input \u001b[0;32mIn [1]\u001b[0m, in \u001b[0;36m<cell line: 7>\u001b[0;34m()\u001b[0m\n\u001b[1;32m      5\u001b[0m \u001b[38;5;28;01mimport\u001b[39;00m \u001b[38;5;21;01mmatplotlib\u001b[39;00m\u001b[38;5;21;01m.\u001b[39;00m\u001b[38;5;21;01mpyplot\u001b[39;00m \u001b[38;5;28;01mas\u001b[39;00m \u001b[38;5;21;01mplt\u001b[39;00m\n\u001b[1;32m      6\u001b[0m \u001b[38;5;28;01mimport\u001b[39;00m \u001b[38;5;21;01mos\u001b[39;00m\n\u001b[0;32m----> 7\u001b[0m \u001b[38;5;28;01mfrom\u001b[39;00m \u001b[38;5;21;01mxb\u001b[39;00m\u001b[38;5;21;01m.\u001b[39;00m\u001b[38;5;21;01mformatting\u001b[39;00m \u001b[38;5;28;01mimport\u001b[39;00m keep_nuclei_and_quality\n",
      "\u001b[0;31mImportError\u001b[0m: cannot import name 'keep_nuclei_and_quality' from 'xb.formatting' (/home/sergio/Documents/Xenium_benchmarking/xb/formatting.py)"
     ]
    }
   ],
   "source": [
    "import numpy as np\n",
    "import pandas as pd\n",
    "import scanpy as sc\n",
    "import seaborn as sns\n",
    "import matplotlib.pyplot as plt\n",
    "import os\n",
    "from xb.formatting import keep_nuclei_and_quality"
   ]
  },
  {
   "cell_type": "code",
   "execution_count": 12,
   "metadata": {},
   "outputs": [],
   "source": [
    "def keep_nuclei_and_quality(adata1,overlaps_nucleus=1,qvmin=20):\n",
    "    if overlaps_nucleus==1:\n",
    "        subset1=adata1.uns['spots'].loc[adata1.uns['spots']['overlaps_nucleus']==overlaps_nucleus,:]\n",
    "    if overlaps_nucleus==0:\n",
    "        subset1=adata1.uns['spots']\n",
    "    subset1=subset1[subset1['qv']>qvmin]\n",
    "    ct1=pd.crosstab(subset1['cell_id'],subset1['feature_name'])\n",
    "    adataobs=adata1.obs.loc[adata1.obs['cell_id'].isin(ct1.index),:]\n",
    "    av=adata1.var.index[adata1.var.index.isin(ct1.columns)]#.isin(adata1.var.index)\n",
    "    ct1=ct1.loc[:,av]\n",
    "    adataobs.index=adataobs['cell_id']\n",
    "    adataobs.index.name='ind'\n",
    "    ct1=ct1.loc[ct1.index.isin(adataobs['cell_id']),:]\n",
    "    adata1nuc=sc.AnnData(np.array(ct1),obs=adataobs)#,var=adata1.var)\n",
    "    adata1nuc.var.index=ct1.columns\n",
    "    return adata1nuc"
   ]
  },
  {
   "cell_type": "code",
   "execution_count": 13,
   "metadata": {},
   "outputs": [],
   "source": [
    "maindir='../../data/unprocessed_adata/'\n",
    "output_dir='../../data/unprocessed_adata_nuclei/'\n",
    "files=os.listdir(maindir)\n",
    "files=['ms_brain_multisection1.h5ad',\n",
    "       'human_brain.h5ad',\n",
    " 'ms_brain_multisection2.h5ad',\n",
    " 'ms_brain_multisection3.h5ad',\n",
    "'realmouse_1.h5ad',\n",
    " 'realmouse_2.h5ad',\n",
    " 'realmouse_3.h5ad',\n",
    " 'realmouse_4.h5ad',\n",
    "#    'hbreast_idc_addon_set1.h5ad',\n",
    "# 'hbreast_idc_addon_set2.h5ad',\n",
    "# 'hbreast_idc_addon_set4.h5ad',\n",
    "# 'hbreast_idc_entiresample_set3.h5ad',\n",
    " 'hbreast_ilc_addon_set2.h5ad',\n",
    " 'hbreast_ilc_addon_set4.h5ad',\n",
    " 'hbreast_ilc_entiresample_set3.h5ad',\n",
    " 'healthy_lung.h5ad',\n",
    " 'human_alzheimers.h5ad',\n",
    " 'human_gbm.h5ad',\n",
    " 'human_spinal_chord_active.h5ad',\n",
    " 'human_spinal_chord_inactive.h5ad',\n",
    " 'h_breast_1.h5ad',\n",
    " 'h_breast_2.h5ad',\n",
    " 'lung_cancer.h5ad',\n",
    " 'ms_brain_fullcoronal.h5ad',\n",
    " 'ms_brain_partialcoronal.h5ad',\n",
    " ]"
   ]
  },
  {
   "cell_type": "code",
   "execution_count": 14,
   "metadata": {},
   "outputs": [
    {
     "name": "stdout",
     "output_type": "stream",
     "text": [
      "ms_brain_multisection1.h5ad\n",
      "Dataset read, starting extraction of nuclei info\n"
     ]
    },
    {
     "name": "stderr",
     "output_type": "stream",
     "text": [
      "/tmp/ipykernel_2546972/3292778224.py:14: FutureWarning: X.dtype being converted to np.float32 from int64. In the next version of anndata (0.9) conversion will not be automatic. Pass dtype explicitly to avoid this warning. Pass `AnnData(X, dtype=X.dtype, ...)` to get the future behavour.\n",
      "  adata1nuc=sc.AnnData(np.array(ct1),obs=adataobs)#,var=adata1.var)\n",
      "/home/sergio/.local/lib/python3.8/site-packages/anndata/_core/anndata.py:121: ImplicitModificationWarning: Transforming to str index.\n",
      "  warnings.warn(\"Transforming to str index.\", ImplicitModificationWarning)\n"
     ]
    },
    {
     "name": "stdout",
     "output_type": "stream",
     "text": [
      "human_brain.h5ad\n",
      "Dataset read, starting extraction of nuclei info\n"
     ]
    },
    {
     "name": "stderr",
     "output_type": "stream",
     "text": [
      "/tmp/ipykernel_2546972/3292778224.py:14: FutureWarning: X.dtype being converted to np.float32 from int64. In the next version of anndata (0.9) conversion will not be automatic. Pass dtype explicitly to avoid this warning. Pass `AnnData(X, dtype=X.dtype, ...)` to get the future behavour.\n",
      "  adata1nuc=sc.AnnData(np.array(ct1),obs=adataobs)#,var=adata1.var)\n"
     ]
    },
    {
     "name": "stdout",
     "output_type": "stream",
     "text": [
      "ms_brain_multisection2.h5ad\n",
      "Dataset read, starting extraction of nuclei info\n"
     ]
    },
    {
     "name": "stderr",
     "output_type": "stream",
     "text": [
      "/tmp/ipykernel_2546972/3292778224.py:14: FutureWarning: X.dtype being converted to np.float32 from int64. In the next version of anndata (0.9) conversion will not be automatic. Pass dtype explicitly to avoid this warning. Pass `AnnData(X, dtype=X.dtype, ...)` to get the future behavour.\n",
      "  adata1nuc=sc.AnnData(np.array(ct1),obs=adataobs)#,var=adata1.var)\n",
      "/home/sergio/.local/lib/python3.8/site-packages/anndata/_core/anndata.py:121: ImplicitModificationWarning: Transforming to str index.\n",
      "  warnings.warn(\"Transforming to str index.\", ImplicitModificationWarning)\n"
     ]
    },
    {
     "name": "stdout",
     "output_type": "stream",
     "text": [
      "ms_brain_multisection3.h5ad\n",
      "Dataset read, starting extraction of nuclei info\n"
     ]
    },
    {
     "name": "stderr",
     "output_type": "stream",
     "text": [
      "/tmp/ipykernel_2546972/3292778224.py:14: FutureWarning: X.dtype being converted to np.float32 from int64. In the next version of anndata (0.9) conversion will not be automatic. Pass dtype explicitly to avoid this warning. Pass `AnnData(X, dtype=X.dtype, ...)` to get the future behavour.\n",
      "  adata1nuc=sc.AnnData(np.array(ct1),obs=adataobs)#,var=adata1.var)\n",
      "/home/sergio/.local/lib/python3.8/site-packages/anndata/_core/anndata.py:121: ImplicitModificationWarning: Transforming to str index.\n",
      "  warnings.warn(\"Transforming to str index.\", ImplicitModificationWarning)\n"
     ]
    },
    {
     "name": "stdout",
     "output_type": "stream",
     "text": [
      "realmouse_1.h5ad\n",
      "Dataset read, starting extraction of nuclei info\n"
     ]
    },
    {
     "name": "stderr",
     "output_type": "stream",
     "text": [
      "/tmp/ipykernel_2546972/3292778224.py:14: FutureWarning: X.dtype being converted to np.float32 from int64. In the next version of anndata (0.9) conversion will not be automatic. Pass dtype explicitly to avoid this warning. Pass `AnnData(X, dtype=X.dtype, ...)` to get the future behavour.\n",
      "  adata1nuc=sc.AnnData(np.array(ct1),obs=adataobs)#,var=adata1.var)\n",
      "/home/sergio/.local/lib/python3.8/site-packages/anndata/_core/anndata.py:121: ImplicitModificationWarning: Transforming to str index.\n",
      "  warnings.warn(\"Transforming to str index.\", ImplicitModificationWarning)\n"
     ]
    },
    {
     "name": "stdout",
     "output_type": "stream",
     "text": [
      "realmouse_2.h5ad\n",
      "Dataset read, starting extraction of nuclei info\n"
     ]
    },
    {
     "name": "stderr",
     "output_type": "stream",
     "text": [
      "/tmp/ipykernel_2546972/3292778224.py:14: FutureWarning: X.dtype being converted to np.float32 from int64. In the next version of anndata (0.9) conversion will not be automatic. Pass dtype explicitly to avoid this warning. Pass `AnnData(X, dtype=X.dtype, ...)` to get the future behavour.\n",
      "  adata1nuc=sc.AnnData(np.array(ct1),obs=adataobs)#,var=adata1.var)\n",
      "/home/sergio/.local/lib/python3.8/site-packages/anndata/_core/anndata.py:121: ImplicitModificationWarning: Transforming to str index.\n",
      "  warnings.warn(\"Transforming to str index.\", ImplicitModificationWarning)\n"
     ]
    },
    {
     "name": "stdout",
     "output_type": "stream",
     "text": [
      "realmouse_3.h5ad\n",
      "Dataset read, starting extraction of nuclei info\n"
     ]
    },
    {
     "name": "stderr",
     "output_type": "stream",
     "text": [
      "/tmp/ipykernel_2546972/3292778224.py:14: FutureWarning: X.dtype being converted to np.float32 from int64. In the next version of anndata (0.9) conversion will not be automatic. Pass dtype explicitly to avoid this warning. Pass `AnnData(X, dtype=X.dtype, ...)` to get the future behavour.\n",
      "  adata1nuc=sc.AnnData(np.array(ct1),obs=adataobs)#,var=adata1.var)\n",
      "/home/sergio/.local/lib/python3.8/site-packages/anndata/_core/anndata.py:121: ImplicitModificationWarning: Transforming to str index.\n",
      "  warnings.warn(\"Transforming to str index.\", ImplicitModificationWarning)\n"
     ]
    },
    {
     "name": "stdout",
     "output_type": "stream",
     "text": [
      "realmouse_4.h5ad\n",
      "Dataset read, starting extraction of nuclei info\n"
     ]
    },
    {
     "name": "stderr",
     "output_type": "stream",
     "text": [
      "/tmp/ipykernel_2546972/3292778224.py:14: FutureWarning: X.dtype being converted to np.float32 from int64. In the next version of anndata (0.9) conversion will not be automatic. Pass dtype explicitly to avoid this warning. Pass `AnnData(X, dtype=X.dtype, ...)` to get the future behavour.\n",
      "  adata1nuc=sc.AnnData(np.array(ct1),obs=adataobs)#,var=adata1.var)\n",
      "/home/sergio/.local/lib/python3.8/site-packages/anndata/_core/anndata.py:121: ImplicitModificationWarning: Transforming to str index.\n",
      "  warnings.warn(\"Transforming to str index.\", ImplicitModificationWarning)\n"
     ]
    },
    {
     "name": "stdout",
     "output_type": "stream",
     "text": [
      "hbreast_ilc_addon_set2.h5ad\n",
      "Dataset read, starting extraction of nuclei info\n"
     ]
    },
    {
     "name": "stderr",
     "output_type": "stream",
     "text": [
      "/tmp/ipykernel_2546972/3292778224.py:14: FutureWarning: X.dtype being converted to np.float32 from int64. In the next version of anndata (0.9) conversion will not be automatic. Pass dtype explicitly to avoid this warning. Pass `AnnData(X, dtype=X.dtype, ...)` to get the future behavour.\n",
      "  adata1nuc=sc.AnnData(np.array(ct1),obs=adataobs)#,var=adata1.var)\n",
      "/home/sergio/.local/lib/python3.8/site-packages/anndata/_core/anndata.py:121: ImplicitModificationWarning: Transforming to str index.\n",
      "  warnings.warn(\"Transforming to str index.\", ImplicitModificationWarning)\n"
     ]
    },
    {
     "name": "stdout",
     "output_type": "stream",
     "text": [
      "hbreast_ilc_addon_set4.h5ad\n",
      "Dataset read, starting extraction of nuclei info\n"
     ]
    },
    {
     "name": "stderr",
     "output_type": "stream",
     "text": [
      "/tmp/ipykernel_2546972/3292778224.py:14: FutureWarning: X.dtype being converted to np.float32 from int64. In the next version of anndata (0.9) conversion will not be automatic. Pass dtype explicitly to avoid this warning. Pass `AnnData(X, dtype=X.dtype, ...)` to get the future behavour.\n",
      "  adata1nuc=sc.AnnData(np.array(ct1),obs=adataobs)#,var=adata1.var)\n",
      "/home/sergio/.local/lib/python3.8/site-packages/anndata/_core/anndata.py:121: ImplicitModificationWarning: Transforming to str index.\n",
      "  warnings.warn(\"Transforming to str index.\", ImplicitModificationWarning)\n"
     ]
    },
    {
     "name": "stdout",
     "output_type": "stream",
     "text": [
      "hbreast_ilc_entiresample_set3.h5ad\n",
      "Dataset read, starting extraction of nuclei info\n"
     ]
    },
    {
     "name": "stderr",
     "output_type": "stream",
     "text": [
      "/tmp/ipykernel_2546972/3292778224.py:14: FutureWarning: X.dtype being converted to np.float32 from int64. In the next version of anndata (0.9) conversion will not be automatic. Pass dtype explicitly to avoid this warning. Pass `AnnData(X, dtype=X.dtype, ...)` to get the future behavour.\n",
      "  adata1nuc=sc.AnnData(np.array(ct1),obs=adataobs)#,var=adata1.var)\n",
      "/home/sergio/.local/lib/python3.8/site-packages/anndata/_core/anndata.py:121: ImplicitModificationWarning: Transforming to str index.\n",
      "  warnings.warn(\"Transforming to str index.\", ImplicitModificationWarning)\n"
     ]
    },
    {
     "name": "stdout",
     "output_type": "stream",
     "text": [
      "healthy_lung.h5ad\n",
      "Dataset read, starting extraction of nuclei info\n"
     ]
    },
    {
     "name": "stderr",
     "output_type": "stream",
     "text": [
      "/tmp/ipykernel_2546972/3292778224.py:14: FutureWarning: X.dtype being converted to np.float32 from int64. In the next version of anndata (0.9) conversion will not be automatic. Pass dtype explicitly to avoid this warning. Pass `AnnData(X, dtype=X.dtype, ...)` to get the future behavour.\n",
      "  adata1nuc=sc.AnnData(np.array(ct1),obs=adataobs)#,var=adata1.var)\n"
     ]
    },
    {
     "name": "stdout",
     "output_type": "stream",
     "text": [
      "human_alzheimers.h5ad\n",
      "Dataset read, starting extraction of nuclei info\n"
     ]
    },
    {
     "name": "stderr",
     "output_type": "stream",
     "text": [
      "/tmp/ipykernel_2546972/3292778224.py:14: FutureWarning: X.dtype being converted to np.float32 from int64. In the next version of anndata (0.9) conversion will not be automatic. Pass dtype explicitly to avoid this warning. Pass `AnnData(X, dtype=X.dtype, ...)` to get the future behavour.\n",
      "  adata1nuc=sc.AnnData(np.array(ct1),obs=adataobs)#,var=adata1.var)\n"
     ]
    },
    {
     "name": "stdout",
     "output_type": "stream",
     "text": [
      "human_gbm.h5ad\n",
      "Dataset read, starting extraction of nuclei info\n"
     ]
    },
    {
     "name": "stderr",
     "output_type": "stream",
     "text": [
      "/tmp/ipykernel_2546972/3292778224.py:14: FutureWarning: X.dtype being converted to np.float32 from int64. In the next version of anndata (0.9) conversion will not be automatic. Pass dtype explicitly to avoid this warning. Pass `AnnData(X, dtype=X.dtype, ...)` to get the future behavour.\n",
      "  adata1nuc=sc.AnnData(np.array(ct1),obs=adataobs)#,var=adata1.var)\n"
     ]
    },
    {
     "name": "stdout",
     "output_type": "stream",
     "text": [
      "human_spinal_chord_active.h5ad\n",
      "Dataset read, starting extraction of nuclei info\n"
     ]
    },
    {
     "name": "stderr",
     "output_type": "stream",
     "text": [
      "/tmp/ipykernel_2546972/3292778224.py:14: FutureWarning: X.dtype being converted to np.float32 from int64. In the next version of anndata (0.9) conversion will not be automatic. Pass dtype explicitly to avoid this warning. Pass `AnnData(X, dtype=X.dtype, ...)` to get the future behavour.\n",
      "  adata1nuc=sc.AnnData(np.array(ct1),obs=adataobs)#,var=adata1.var)\n"
     ]
    },
    {
     "name": "stdout",
     "output_type": "stream",
     "text": [
      "human_spinal_chord_inactive.h5ad\n",
      "Dataset read, starting extraction of nuclei info\n"
     ]
    },
    {
     "name": "stderr",
     "output_type": "stream",
     "text": [
      "/tmp/ipykernel_2546972/3292778224.py:14: FutureWarning: X.dtype being converted to np.float32 from int64. In the next version of anndata (0.9) conversion will not be automatic. Pass dtype explicitly to avoid this warning. Pass `AnnData(X, dtype=X.dtype, ...)` to get the future behavour.\n",
      "  adata1nuc=sc.AnnData(np.array(ct1),obs=adataobs)#,var=adata1.var)\n"
     ]
    },
    {
     "name": "stdout",
     "output_type": "stream",
     "text": [
      "h_breast_1.h5ad\n",
      "Dataset read, starting extraction of nuclei info\n"
     ]
    },
    {
     "name": "stderr",
     "output_type": "stream",
     "text": [
      "/tmp/ipykernel_2546972/3292778224.py:14: FutureWarning: X.dtype being converted to np.float32 from int64. In the next version of anndata (0.9) conversion will not be automatic. Pass dtype explicitly to avoid this warning. Pass `AnnData(X, dtype=X.dtype, ...)` to get the future behavour.\n",
      "  adata1nuc=sc.AnnData(np.array(ct1),obs=adataobs)#,var=adata1.var)\n",
      "/home/sergio/.local/lib/python3.8/site-packages/anndata/_core/anndata.py:121: ImplicitModificationWarning: Transforming to str index.\n",
      "  warnings.warn(\"Transforming to str index.\", ImplicitModificationWarning)\n"
     ]
    },
    {
     "name": "stdout",
     "output_type": "stream",
     "text": [
      "h_breast_2.h5ad\n",
      "Dataset read, starting extraction of nuclei info\n"
     ]
    },
    {
     "name": "stderr",
     "output_type": "stream",
     "text": [
      "/tmp/ipykernel_2546972/3292778224.py:14: FutureWarning: X.dtype being converted to np.float32 from int64. In the next version of anndata (0.9) conversion will not be automatic. Pass dtype explicitly to avoid this warning. Pass `AnnData(X, dtype=X.dtype, ...)` to get the future behavour.\n",
      "  adata1nuc=sc.AnnData(np.array(ct1),obs=adataobs)#,var=adata1.var)\n",
      "/home/sergio/.local/lib/python3.8/site-packages/anndata/_core/anndata.py:121: ImplicitModificationWarning: Transforming to str index.\n",
      "  warnings.warn(\"Transforming to str index.\", ImplicitModificationWarning)\n"
     ]
    },
    {
     "name": "stdout",
     "output_type": "stream",
     "text": [
      "lung_cancer.h5ad\n",
      "Dataset read, starting extraction of nuclei info\n"
     ]
    },
    {
     "name": "stderr",
     "output_type": "stream",
     "text": [
      "/tmp/ipykernel_2546972/3292778224.py:14: FutureWarning: X.dtype being converted to np.float32 from int64. In the next version of anndata (0.9) conversion will not be automatic. Pass dtype explicitly to avoid this warning. Pass `AnnData(X, dtype=X.dtype, ...)` to get the future behavour.\n",
      "  adata1nuc=sc.AnnData(np.array(ct1),obs=adataobs)#,var=adata1.var)\n"
     ]
    },
    {
     "name": "stdout",
     "output_type": "stream",
     "text": [
      "ms_brain_fullcoronal.h5ad\n",
      "Dataset read, starting extraction of nuclei info\n"
     ]
    },
    {
     "name": "stderr",
     "output_type": "stream",
     "text": [
      "/tmp/ipykernel_2546972/3292778224.py:14: FutureWarning: X.dtype being converted to np.float32 from int64. In the next version of anndata (0.9) conversion will not be automatic. Pass dtype explicitly to avoid this warning. Pass `AnnData(X, dtype=X.dtype, ...)` to get the future behavour.\n",
      "  adata1nuc=sc.AnnData(np.array(ct1),obs=adataobs)#,var=adata1.var)\n",
      "/home/sergio/.local/lib/python3.8/site-packages/anndata/_core/anndata.py:121: ImplicitModificationWarning: Transforming to str index.\n",
      "  warnings.warn(\"Transforming to str index.\", ImplicitModificationWarning)\n"
     ]
    },
    {
     "name": "stdout",
     "output_type": "stream",
     "text": [
      "ms_brain_partialcoronal.h5ad\n",
      "Dataset read, starting extraction of nuclei info\n"
     ]
    },
    {
     "name": "stderr",
     "output_type": "stream",
     "text": [
      "/tmp/ipykernel_2546972/3292778224.py:14: FutureWarning: X.dtype being converted to np.float32 from int64. In the next version of anndata (0.9) conversion will not be automatic. Pass dtype explicitly to avoid this warning. Pass `AnnData(X, dtype=X.dtype, ...)` to get the future behavour.\n",
      "  adata1nuc=sc.AnnData(np.array(ct1),obs=adataobs)#,var=adata1.var)\n",
      "/home/sergio/.local/lib/python3.8/site-packages/anndata/_core/anndata.py:121: ImplicitModificationWarning: Transforming to str index.\n",
      "  warnings.warn(\"Transforming to str index.\", ImplicitModificationWarning)\n"
     ]
    }
   ],
   "source": [
    "for f in files[:]:\n",
    "    print(f)\n",
    "    adata=sc.read(maindir+f)\n",
    "    adata.var.index=adata.var['gene_id']\n",
    "    perc=0.05\n",
    "    maxcell=100000#np.round(adata.shape[0])\n",
    "    selected_cells=adata.obs['cell_id']\n",
    "    adata.uns['spots']=adata.uns['spots'][adata.uns['spots']['cell_id'].isin(selected_cells)]\n",
    "    print('Dataset read, starting extraction of nuclei info')\n",
    "    adata_f1=keep_nuclei_and_quality(adata.copy(),overlaps_nucleus=1,qvmin=0)\n",
    "    adata_f1.write(output_dir+f)"
   ]
  },
  {
   "cell_type": "code",
   "execution_count": 3,
   "metadata": {},
   "outputs": [],
   "source": []
  },
  {
   "cell_type": "code",
   "execution_count": null,
   "metadata": {},
   "outputs": [],
   "source": []
  }
 ],
 "metadata": {
  "kernelspec": {
   "display_name": "xb",
   "language": "python",
   "name": "xb"
  },
  "language_info": {
   "codemirror_mode": {
    "name": "ipython",
    "version": 3
   },
   "file_extension": ".py",
   "mimetype": "text/x-python",
   "name": "python",
   "nbconvert_exporter": "python",
   "pygments_lexer": "ipython3",
   "version": "3.7.13"
  }
 },
 "nbformat": 4,
 "nbformat_minor": 4
}
