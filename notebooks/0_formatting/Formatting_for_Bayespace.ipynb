{
 "cells": [
  {
   "cell_type": "code",
   "execution_count": 6,
   "id": "bfe92667",
   "metadata": {},
   "outputs": [],
   "source": [
    "import numpy as np\n",
    "import pandas as pd\n",
    "import scanpy as sc\n",
    "import seaborn as sns\n",
    "import matplotlib.pyplot as plt\n",
    "import xb.plotting as xp"
   ]
  },
  {
   "cell_type": "code",
   "execution_count": 7,
   "id": "99b7f135",
   "metadata": {},
   "outputs": [],
   "source": [
    "adata=sc.read('../../data/processed_adata/adata_msbrain_3rep_withclusters.h5ad')"
   ]
  },
  {
   "cell_type": "code",
   "execution_count": 8,
   "id": "1197d94e",
   "metadata": {},
   "outputs": [
    {
     "data": {
      "text/plain": [
       "AnnData object with n_obs × n_vars = 85051 × 284\n",
       "    obs: 'index', 'cell_id', 'x_centroid', 'y_centroid', 'transcript_counts', 'control_probe_counts', 'control_codeword_counts', 'total_counts', 'cell_area', 'nucleus_area', 'graph_clusters', 'kmeans2_clusters', 'kmeans3_clusters', 'kmeans4_clusters', 'kmeans5_clusters', 'kmeans6_clusters', 'kmeans7_clusters', 'kmeans8_clusters', 'kmeans9_clusters', 'kmeans10_clusters', 'replicate', 'n_counts', 'leiden_2_2', 'leiden_1_8', 'leiden_1_4', 'leiden_1_0', 'leiden_0_8', 'leiden_0_6', 'Class', 'initial_annotation', 'celltype_annotation', 'cell_code', 'X', 'Y'\n",
       "    var: 'highly_variable', 'means', 'dispersions', 'dispersions_norm'\n",
       "    uns: 'hvg', 'initial_annotation_colors', 'leiden', 'leiden_1_4_colors', 'log1p', 'neighbors', 'pca', 'umap', 'wilcoxon'\n",
       "    obsm: 'X_pca', 'X_tsne', 'X_umap'\n",
       "    varm: 'PCs'\n",
       "    layers: 'raw'\n",
       "    obsp: 'connectivities', 'distances'"
      ]
     },
     "execution_count": 8,
     "metadata": {},
     "output_type": "execute_result"
    }
   ],
   "source": [
    "adata"
   ]
  },
  {
   "cell_type": "code",
   "execution_count": 13,
   "id": "6e10d308",
   "metadata": {},
   "outputs": [],
   "source": [
    "for rep in adata.obs['replicate'].unique():\n",
    "    adatasub=adata[adata.obs['replicate']==rep]\n",
    "    adatasub.obs.to_csv('../../data/formatted_for_R/obs_msbrain_'+str(rep)+'.csv')\n",
    "    adatasub.var.to_csv('../../data/formatted_for_R/var_msbrain_'+str(rep)+'.csv')\n",
    "    pd.DataFrame(adatasub.X.todense()).to_csv('../../data/formatted_for_R/exp_msbrain_'+str(rep)+'.csv')"
   ]
  },
  {
   "cell_type": "code",
   "execution_count": 12,
   "id": "dbee6f73",
   "metadata": {},
   "outputs": [
    {
     "data": {
      "text/plain": [
       "matrix([[5.2879467, 5.0380745, 0.       , ..., 0.       , 3.1303434,\n",
       "         0.       ],\n",
       "        [5.408168 , 0.       , 3.3596034, ..., 0.       , 3.3596034,\n",
       "         3.3596034],\n",
       "        [4.9477673, 4.9477673, 4.2616944, ..., 0.       , 0.       ,\n",
       "         4.2616944],\n",
       "        ...,\n",
       "        [4.301569 , 3.229691 , 0.       , ..., 0.       , 3.229691 ,\n",
       "         4.301569 ],\n",
       "        [5.705119 , 4.1089087, 0.       , ..., 0.       , 0.       ,\n",
       "         4.793809 ],\n",
       "        [4.8178544, 4.8178544, 0.       , ..., 0.       , 0.       ,\n",
       "         4.8178544]], dtype=float32)"
      ]
     },
     "execution_count": 12,
     "metadata": {},
     "output_type": "execute_result"
    }
   ],
   "source": []
  },
  {
   "cell_type": "code",
   "execution_count": null,
   "id": "f971162b",
   "metadata": {},
   "outputs": [],
   "source": []
  }
 ],
 "metadata": {
  "kernelspec": {
   "display_name": "xenium_benchmarking",
   "language": "python",
   "name": "xenium_benchmarking"
  },
  "language_info": {
   "codemirror_mode": {
    "name": "ipython",
    "version": 3
   },
   "file_extension": ".py",
   "mimetype": "text/x-python",
   "name": "python",
   "nbconvert_exporter": "python",
   "pygments_lexer": "ipython3",
   "version": "3.8.10"
  }
 },
 "nbformat": 4,
 "nbformat_minor": 5
}
