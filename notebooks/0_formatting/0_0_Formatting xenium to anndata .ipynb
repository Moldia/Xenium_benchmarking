{
 "cells": [
  {
   "cell_type": "markdown",
   "metadata": {},
   "source": [
    "# Purpose of the notebook"
   ]
  },
  {
   "cell_type": "markdown",
   "metadata": {},
   "source": [
    "This notebook is used to transform the output obtained from Xenium into anndata for all the samples used across the study.\n",
    "We have three type of inputs due to changes in the format of Xenium data from 10X: the original ones (2022), which we converted with `format_xenium_adata`, the firstly released samples(early 2023), which have the final format of Xenium output, converted with `format_xenium_adata_2023`, and the newest ones (2023-), formatted with `format_xenium_adata_mid_2023`"
   ]
  },
  {
   "cell_type": "markdown",
   "metadata": {},
   "source": [
    "Please note that the current loader, included in the end-to-end pipeline is `format_to_adata`, which works on the current Xenium format (2024, mid). Please use that function with recently processed Xenium files "
   ]
  },
  {
   "cell_type": "markdown",
   "metadata": {},
   "source": [
    "# Loading the packages"
   ]
  },
  {
   "cell_type": "code",
   "execution_count": 1,
   "metadata": {},
   "outputs": [],
   "source": [
    "import os.path\n",
    "from scipy.io import mmread\n",
    "import xb.formatting as xf"
   ]
  },
  {
   "cell_type": "markdown",
   "metadata": {},
   "source": [
    "# Example of formatting (2022)"
   ]
  },
  {
   "cell_type": "markdown",
   "metadata": {},
   "source": [
    "We input the path wher our original xenium data is and we use ```format_xenium_data``` to transform the datasets"
   ]
  },
  {
   "cell_type": "code",
   "execution_count": 68,
   "metadata": {},
   "outputs": [
    {
     "name": "stderr",
     "output_type": "stream",
     "text": [
      "/mnt/d/Xenium_benchmarking-main/Xenium_benchmarking-main/xb/formatting.py:46: FutureWarning: X.dtype being converted to np.float32 from int64. In the next version of anndata (0.9) conversion will not be automatic. Pass dtype explicitly to avoid this warning. Pass `AnnData(X, dtype=X.dtype, ...)` to get the future behavour.\n",
      "  adata=sc.AnnData(ad.transpose(),obs=cell_info,var=features)\n",
      "/home/sergioms/.local/lib/python3.8/site-packages/anndata/_core/anndata.py:121: ImplicitModificationWarning: Transforming to str index.\n",
      "  warnings.warn(\"Transforming to str index.\", ImplicitModificationWarning)\n"
     ]
    },
    {
     "data": {
      "text/plain": [
       "AnnData object with n_obs × n_vars = 26372 × 541\n",
       "    obs: 'cell_id', 'x_centroid', 'y_centroid', 'transcript_counts', 'control_probe_counts', 'control_codeword_counts', 'total_counts', 'cell_area', 'nucleus_area', 'graph_clusters', 'kmeans2_clusters', 'kmeans3_clusters', 'kmeans4_clusters', 'kmeans5_clusters', 'kmeans6_clusters', 'kmeans7_clusters', 'kmeans8_clusters', 'kmeans9_clusters', 'kmeans10_clusters'\n",
       "    var: 'gene_id', 'reason_of_inclusion', 'Annotation', 'Ensembl ID', 'in_panel'\n",
       "    uns: 'spatial', 'spots'\n",
       "    obsm: 'spatial', 'X_umap', 'X_tsne', 'X_pca'"
      ]
     },
     "execution_count": 68,
     "metadata": {},
     "output_type": "execute_result"
    }
   ],
   "source": [
    "path=r'../../data/original_data/xenium_prerelease_jun20_mBrain_replicates_updated/mBrain_ff_rep1'\n",
    "tag=r'ms_brain_rep1'\n",
    "output_path=r'../../data/unprocessed_adata/'\n",
    "xf.format_xenium_adata(path,tag,output_path)"
   ]
  },
  {
   "cell_type": "markdown",
   "metadata": {},
   "source": [
    "For every dataset, we also want to transform the original OME TIF to a simple tiff. "
   ]
  },
  {
   "cell_type": "code",
   "execution_count": 3,
   "metadata": {},
   "outputs": [],
   "source": [
    "xf.format_background(path)"
   ]
  },
  {
   "cell_type": "markdown",
   "metadata": {},
   "source": [
    "# We repeat this processin for each dataset (2022)"
   ]
  },
  {
   "cell_type": "code",
   "execution_count": 69,
   "metadata": {
    "scrolled": true
   },
   "outputs": [
    {
     "name": "stderr",
     "output_type": "stream",
     "text": [
      "/mnt/d/Xenium_benchmarking-main/Xenium_benchmarking-main/xb/formatting.py:46: FutureWarning: X.dtype being converted to np.float32 from int64. In the next version of anndata (0.9) conversion will not be automatic. Pass dtype explicitly to avoid this warning. Pass `AnnData(X, dtype=X.dtype, ...)` to get the future behavour.\n",
      "  adata=sc.AnnData(ad.transpose(),obs=cell_info,var=features)\n",
      "/home/sergioms/.local/lib/python3.8/site-packages/anndata/_core/anndata.py:121: ImplicitModificationWarning: Transforming to str index.\n",
      "  warnings.warn(\"Transforming to str index.\", ImplicitModificationWarning)\n"
     ]
    }
   ],
   "source": [
    "path=r'../../data/original_data/xenium_prerelease_jun20_mBrain_replicates_updated/mBrain_ff_rep2'\n",
    "tag=r'ms_brain_rep2'\n",
    "output_path=r'../../data/unprocessed_adata/'\n",
    "xf.format_xenium_adata(path,tag,output_path)\n",
    "xf.format_background(path)"
   ]
  },
  {
   "cell_type": "code",
   "execution_count": 70,
   "metadata": {},
   "outputs": [
    {
     "name": "stderr",
     "output_type": "stream",
     "text": [
      "/mnt/d/Xenium_benchmarking-main/Xenium_benchmarking-main/xb/formatting.py:46: FutureWarning: X.dtype being converted to np.float32 from int64. In the next version of anndata (0.9) conversion will not be automatic. Pass dtype explicitly to avoid this warning. Pass `AnnData(X, dtype=X.dtype, ...)` to get the future behavour.\n",
      "  adata=sc.AnnData(ad.transpose(),obs=cell_info,var=features)\n",
      "/home/sergioms/.local/lib/python3.8/site-packages/anndata/_core/anndata.py:121: ImplicitModificationWarning: Transforming to str index.\n",
      "  warnings.warn(\"Transforming to str index.\", ImplicitModificationWarning)\n"
     ]
    }
   ],
   "source": [
    "path=r'../../data/original_data/xenium_prerelease_jun20_mBrain_replicates_updated/mBrain_ff_rep3'\n",
    "tag=r'ms_brain_rep3'\n",
    "output_path=r'../../data/unprocessed_adata/'\n",
    "xf.format_xenium_adata(path,tag,output_path)\n",
    "xf.format_background(path)"
   ]
  },
  {
   "cell_type": "code",
   "execution_count": 71,
   "metadata": {},
   "outputs": [
    {
     "name": "stderr",
     "output_type": "stream",
     "text": [
      "/mnt/d/Xenium_benchmarking-main/Xenium_benchmarking-main/xb/formatting.py:46: FutureWarning: X.dtype being converted to np.float32 from int64. In the next version of anndata (0.9) conversion will not be automatic. Pass dtype explicitly to avoid this warning. Pass `AnnData(X, dtype=X.dtype, ...)` to get the future behavour.\n",
      "  adata=sc.AnnData(ad.transpose(),obs=cell_info,var=features)\n",
      "/home/sergioms/.local/lib/python3.8/site-packages/anndata/_core/anndata.py:121: ImplicitModificationWarning: Transforming to str index.\n",
      "  warnings.warn(\"Transforming to str index.\", ImplicitModificationWarning)\n"
     ]
    },
    {
     "name": "stdout",
     "output_type": "stream",
     "text": [
      "UMAP and clusters_could not be recovered\n"
     ]
    }
   ],
   "source": [
    "path=r'../../data/original_data/xenium_prerelease_sept15_hBreast/hBreast_ffpe_large'\n",
    "tag=r'h_breast_1'\n",
    "output_path=r'../../data/unprocessed_adata/'\n",
    "xf.format_xenium_adata(path,tag,output_path)\n",
    "xf.format_background(path)"
   ]
  },
  {
   "cell_type": "code",
   "execution_count": 72,
   "metadata": {},
   "outputs": [
    {
     "name": "stderr",
     "output_type": "stream",
     "text": [
      "/mnt/d/Xenium_benchmarking-main/Xenium_benchmarking-main/xb/formatting.py:46: FutureWarning: X.dtype being converted to np.float32 from int64. In the next version of anndata (0.9) conversion will not be automatic. Pass dtype explicitly to avoid this warning. Pass `AnnData(X, dtype=X.dtype, ...)` to get the future behavour.\n",
      "  adata=sc.AnnData(ad.transpose(),obs=cell_info,var=features)\n",
      "/home/sergioms/.local/lib/python3.8/site-packages/anndata/_core/anndata.py:121: ImplicitModificationWarning: Transforming to str index.\n",
      "  warnings.warn(\"Transforming to str index.\", ImplicitModificationWarning)\n"
     ]
    },
    {
     "name": "stdout",
     "output_type": "stream",
     "text": [
      "UMAP and clusters_could not be recovered\n"
     ]
    }
   ],
   "source": [
    "path=r'../../data/original_data/xenium_prerelease_sept15_hBreast/hBreast_ffpe_small'\n",
    "tag=r'h_breast_2'\n",
    "output_path=r'../../data/unprocessed_adata/'\n",
    "xf.format_xenium_adata(path,tag,output_path)\n",
    "xf.format_background(path)"
   ]
  },
  {
   "cell_type": "code",
   "execution_count": 73,
   "metadata": {},
   "outputs": [
    {
     "name": "stderr",
     "output_type": "stream",
     "text": [
      "/mnt/d/Xenium_benchmarking-main/Xenium_benchmarking-main/xb/formatting.py:46: FutureWarning: X.dtype being converted to np.float32 from int64. In the next version of anndata (0.9) conversion will not be automatic. Pass dtype explicitly to avoid this warning. Pass `AnnData(X, dtype=X.dtype, ...)` to get the future behavour.\n",
      "  adata=sc.AnnData(ad.transpose(),obs=cell_info,var=features)\n",
      "/home/sergioms/.local/lib/python3.8/site-packages/anndata/_core/anndata.py:121: ImplicitModificationWarning: Transforming to str index.\n",
      "  warnings.warn(\"Transforming to str index.\", ImplicitModificationWarning)\n"
     ]
    }
   ],
   "source": [
    "path=r'../../data/original_data/xenium_prerelease_sept15_mBrain/mBrain_ff_full_coronal_section'\n",
    "tag=r'ms_brain_fullcoronal'\n",
    "output_path=r'../../data/unprocessed_adata/'\n",
    "xf.format_xenium_adata(path,tag,output_path)\n",
    "xf.format_background(path)"
   ]
  },
  {
   "cell_type": "code",
   "execution_count": 74,
   "metadata": {},
   "outputs": [
    {
     "name": "stderr",
     "output_type": "stream",
     "text": [
      "/mnt/d/Xenium_benchmarking-main/Xenium_benchmarking-main/xb/formatting.py:46: FutureWarning: X.dtype being converted to np.float32 from int64. In the next version of anndata (0.9) conversion will not be automatic. Pass dtype explicitly to avoid this warning. Pass `AnnData(X, dtype=X.dtype, ...)` to get the future behavour.\n",
      "  adata=sc.AnnData(ad.transpose(),obs=cell_info,var=features)\n",
      "/home/sergioms/.local/lib/python3.8/site-packages/anndata/_core/anndata.py:121: ImplicitModificationWarning: Transforming to str index.\n",
      "  warnings.warn(\"Transforming to str index.\", ImplicitModificationWarning)\n"
     ]
    }
   ],
   "source": [
    "path=r'../../data/original_data/xenium_prerelease_sept15_mBrain/mBrain_ff_partial_coronal_section'\n",
    "tag=r'ms_brain_partialcoronal'\n",
    "output_path=r'../../data/unprocessed_adata/'\n",
    "xf.format_xenium_adata(path,tag,output_path)\n",
    "xf.format_background(path)"
   ]
  },
  {
   "cell_type": "markdown",
   "metadata": {},
   "source": [
    "# We format now the new datasets ( early 2023)"
   ]
  },
  {
   "cell_type": "code",
   "execution_count": null,
   "metadata": {},
   "outputs": [],
   "source": [
    "path=r'/mnt/e/Xenium_V1_FF_Mouse_Brain_MultiSection_2_outs'\n",
    "tag=r'ms_brain_multisection2'\n",
    "output_path=r'/mnt/e/'\n",
    "adata=xf.format_xenium_adata_2023(path,tag,output_path)\n",
    "xf.format_background(path)"
   ]
  },
  {
   "cell_type": "code",
   "execution_count": 27,
   "metadata": {},
   "outputs": [
    {
     "name": "stderr",
     "output_type": "stream",
     "text": [
      "/tmp/ipykernel_50/1979575114.py:47: FutureWarning: X.dtype being converted to np.float32 from int64. In the next version of anndata (0.9) conversion will not be automatic. Pass dtype explicitly to avoid this warning. Pass `AnnData(X, dtype=X.dtype, ...)` to get the future behavour.\n",
      "  adata=sc.AnnData(ad.transpose(),obs=cell_info,var=features)\n",
      "/home/sergioms/.local/lib/python3.8/site-packages/anndata/_core/anndata.py:121: ImplicitModificationWarning: Transforming to str index.\n",
      "  warnings.warn(\"Transforming to str index.\", ImplicitModificationWarning)\n"
     ]
    },
    {
     "name": "stdout",
     "output_type": "stream",
     "text": [
      "UMAP and clusters_could not be recovered\n"
     ]
    }
   ],
   "source": [
    "path=r'/mnt/e/Xenium_V1_FF_Mouse_Brain_MultiSection_3_outs'\n",
    "tag=r'ms_brain_multisection3'\n",
    "output_path=r'/mnt/e/'\n",
    "adata=xf.format_xenium_adata_2023(path,tag,output_path)\n",
    "xf.format_background(path)"
   ]
  },
  {
   "cell_type": "code",
   "execution_count": 29,
   "metadata": {},
   "outputs": [
    {
     "name": "stderr",
     "output_type": "stream",
     "text": [
      "/tmp/ipykernel_50/1979575114.py:47: FutureWarning: X.dtype being converted to np.float32 from int64. In the next version of anndata (0.9) conversion will not be automatic. Pass dtype explicitly to avoid this warning. Pass `AnnData(X, dtype=X.dtype, ...)` to get the future behavour.\n",
      "  adata=sc.AnnData(ad.transpose(),obs=cell_info,var=features)\n",
      "/home/sergioms/.local/lib/python3.8/site-packages/anndata/_core/anndata.py:121: ImplicitModificationWarning: Transforming to str index.\n",
      "  warnings.warn(\"Transforming to str index.\", ImplicitModificationWarning)\n"
     ]
    },
    {
     "name": "stdout",
     "output_type": "stream",
     "text": [
      "UMAP and clusters_could not be recovered\n"
     ]
    }
   ],
   "source": [
    "path=r'/mnt/e/Xenium_V1_FF_Mouse_Brain_MultiSection_1_outs'\n",
    "tag=r'ms_brain_multisection1'\n",
    "output_path=r'/mnt/e/'\n",
    "adata=xf.format_xenium_adata_2023(path,tag,output_path)\n",
    "xf.format_background(path)"
   ]
  },
  {
   "cell_type": "markdown",
   "metadata": {},
   "source": [
    "# We format now the new datasets (mid 2023-)"
   ]
  },
  {
   "cell_type": "code",
   "execution_count": 17,
   "metadata": {},
   "outputs": [
    {
     "name": "stderr",
     "output_type": "stream",
     "text": [
      "/tmp/ipykernel_8669/3954865364.py:57: FutureWarning: X.dtype being converted to np.float32 from int64. In the next version of anndata (0.9) conversion will not be automatic. Pass dtype explicitly to avoid this warning. Pass `AnnData(X, dtype=X.dtype, ...)` to get the future behavour.\n",
      "  adata=sc.AnnData(ad.transpose(),obs=cell_info,var=features)\n",
      "/home/sergioms/.local/lib/python3.8/site-packages/anndata/_core/anndata.py:121: ImplicitModificationWarning: Transforming to str index.\n",
      "  warnings.warn(\"Transforming to str index.\", ImplicitModificationWarning)\n"
     ]
    },
    {
     "name": "stdout",
     "output_type": "stream",
     "text": [
      "UMAP and clusters_could not be recovered\n"
     ]
    }
   ],
   "source": [
    "path=r'/mnt/d/Xenium_benchmarking-main/data/original_data/xenium_lung_healthy/Xenium_Preview_Human_Non_diseased_Lung_With_Add_on_FFPE_outs'\n",
    "tag=r'healthy_lung'\n",
    "output_path=r'../../data/unprocessed_adata/'\n",
    "adata=xf.format_xenium_adata_mid_2023(path,tag,output_path)\n",
    "xf.format_background(path)"
   ]
  },
  {
   "cell_type": "code",
   "execution_count": 20,
   "metadata": {},
   "outputs": [
    {
     "name": "stdout",
     "output_type": "stream",
     "text": [
      "First decompressing done\n"
     ]
    },
    {
     "name": "stderr",
     "output_type": "stream",
     "text": [
      "/tmp/ipykernel_8669/3954865364.py:57: FutureWarning: X.dtype being converted to np.float32 from int64. In the next version of anndata (0.9) conversion will not be automatic. Pass dtype explicitly to avoid this warning. Pass `AnnData(X, dtype=X.dtype, ...)` to get the future behavour.\n",
      "  adata=sc.AnnData(ad.transpose(),obs=cell_info,var=features)\n",
      "/home/sergioms/.local/lib/python3.8/site-packages/anndata/_core/anndata.py:121: ImplicitModificationWarning: Transforming to str index.\n",
      "  warnings.warn(\"Transforming to str index.\", ImplicitModificationWarning)\n"
     ]
    },
    {
     "name": "stdout",
     "output_type": "stream",
     "text": [
      "Analysis files decompressed\n",
      "UMAP and clusters_could not be recovered\n"
     ]
    }
   ],
   "source": [
    "path=r'/mnt/d/Xenium_benchmarking-main/data/original_data/xenium_human_gbm/Xenium_V1_FFPE_Human_Brain_Glioblastoma_With_Addon_outs'\n",
    "tag=r'human_gbm'\n",
    "output_path=r'../../data/unprocessed_adata/'\n",
    "adata=xf.format_xenium_adata_mid_2023(path,tag,output_path)\n",
    "xf.format_background(path)"
   ]
  },
  {
   "cell_type": "code",
   "execution_count": 21,
   "metadata": {},
   "outputs": [
    {
     "name": "stdout",
     "output_type": "stream",
     "text": [
      "First decompressing done\n"
     ]
    },
    {
     "name": "stderr",
     "output_type": "stream",
     "text": [
      "/tmp/ipykernel_8669/3954865364.py:57: FutureWarning: X.dtype being converted to np.float32 from int64. In the next version of anndata (0.9) conversion will not be automatic. Pass dtype explicitly to avoid this warning. Pass `AnnData(X, dtype=X.dtype, ...)` to get the future behavour.\n",
      "  adata=sc.AnnData(ad.transpose(),obs=cell_info,var=features)\n",
      "/home/sergioms/.local/lib/python3.8/site-packages/anndata/_core/anndata.py:121: ImplicitModificationWarning: Transforming to str index.\n",
      "  warnings.warn(\"Transforming to str index.\", ImplicitModificationWarning)\n"
     ]
    },
    {
     "name": "stdout",
     "output_type": "stream",
     "text": [
      "Analysis files decompressed\n",
      "UMAP and clusters_could not be recovered\n"
     ]
    }
   ],
   "source": [
    "path=r'/mnt/d/Xenium_benchmarking-main/data/original_data/xenium_human_brain_healthy/Xenium_V1_FFPE_Human_Brain_Healthy_With_Addon_outs'\n",
    "tag=r'human_brain'\n",
    "output_path=r'../../data/unprocessed_adata/'\n",
    "adata=xf.format_xenium_adata_mid_2023(path,tag,output_path)\n",
    "xf.format_background(path)"
   ]
  },
  {
   "cell_type": "code",
   "execution_count": 22,
   "metadata": {},
   "outputs": [
    {
     "name": "stdout",
     "output_type": "stream",
     "text": [
      "First decompressing done\n"
     ]
    },
    {
     "name": "stderr",
     "output_type": "stream",
     "text": [
      "/tmp/ipykernel_8669/3954865364.py:57: FutureWarning: X.dtype being converted to np.float32 from int64. In the next version of anndata (0.9) conversion will not be automatic. Pass dtype explicitly to avoid this warning. Pass `AnnData(X, dtype=X.dtype, ...)` to get the future behavour.\n",
      "  adata=sc.AnnData(ad.transpose(),obs=cell_info,var=features)\n",
      "/home/sergioms/.local/lib/python3.8/site-packages/anndata/_core/anndata.py:121: ImplicitModificationWarning: Transforming to str index.\n",
      "  warnings.warn(\"Transforming to str index.\", ImplicitModificationWarning)\n"
     ]
    },
    {
     "name": "stdout",
     "output_type": "stream",
     "text": [
      "Analysis files decompressed\n",
      "UMAP and clusters_could not be recovered\n"
     ]
    }
   ],
   "source": [
    "path=r'/mnt/d/Xenium_benchmarking-main/data/original_data/xenium_human_alzehimers/Xenium_V1_FFPE_Human_Brain_Alzheimers_With_Addon_outs'\n",
    "tag=r'human_alzheimers'\n",
    "output_path=r'../../data/unprocessed_adata/'\n",
    "adata=xf.format_xenium_adata_mid_2023(path,tag,output_path)\n",
    "xf.format_background(path)"
   ]
  },
  {
   "cell_type": "code",
   "execution_count": 21,
   "metadata": {},
   "outputs": [
    {
     "name": "stderr",
     "output_type": "stream",
     "text": [
      "/home/sergio/anaconda3/envs/xb/lib/python3.7/site-packages/ipykernel_launcher.py:57: FutureWarning: X.dtype being converted to np.float32 from int64. In the next version of anndata (0.9) conversion will not be automatic. Pass dtype explicitly to avoid this warning. Pass `AnnData(X, dtype=X.dtype, ...)` to get the future behavour.\n",
      "/home/sergio/anaconda3/envs/xb/lib/python3.7/site-packages/anndata/_core/anndata.py:121: ImplicitModificationWarning: Transforming to str index.\n",
      "  warnings.warn(\"Transforming to str index.\", ImplicitModificationWarning)\n"
     ]
    },
    {
     "name": "stdout",
     "output_type": "stream",
     "text": [
      "UMAP and clusters_could not be recovered\n"
     ]
    }
   ],
   "source": [
    "path=r'/media/sergio/xenium_b_and_heart/Xenium_benchmarking-main/data/original_data/xenium_breast_idc_with_addon/Xenium_V1_FFPE_Human_Breast_IDC_With_Addon_outs'\n",
    "tag=r'hbreast_idc_addon_set1'\n",
    "output_path=r'../../data/unprocessed_adata/'\n",
    "adata=xf.format_xenium_adata_mid_2023(path,tag,output_path)\n",
    "xf.format_background(path)"
   ]
  },
  {
   "cell_type": "code",
   "execution_count": 25,
   "metadata": {},
   "outputs": [
    {
     "name": "stderr",
     "output_type": "stream",
     "text": [
      "/tmp/ipykernel_8669/3954865364.py:57: FutureWarning: X.dtype being converted to np.float32 from int64. In the next version of anndata (0.9) conversion will not be automatic. Pass dtype explicitly to avoid this warning. Pass `AnnData(X, dtype=X.dtype, ...)` to get the future behavour.\n",
      "  adata=sc.AnnData(ad.transpose(),obs=cell_info,var=features)\n",
      "/home/sergioms/.local/lib/python3.8/site-packages/anndata/_core/anndata.py:121: ImplicitModificationWarning: Transforming to str index.\n",
      "  warnings.warn(\"Transforming to str index.\", ImplicitModificationWarning)\n"
     ]
    },
    {
     "name": "stdout",
     "output_type": "stream",
     "text": [
      "UMAP and clusters_could not be recovered\n"
     ]
    }
   ],
   "source": [
    "path=r'/mnt/d/Xenium_benchmarking-main/data/original_data/xenium_breast_idc_ild_with_addon/Xenium_V1_FFPE_Human_Breast_IDC_With_Addon_outs'\n",
    "tag=r'hbreast_idc_addon_set2'\n",
    "output_path=r'../../data/unprocessed_adata/'\n",
    "adata=xf.format_xenium_adata_mid_2023(path,tag,output_path)\n",
    "xf.format_background(path)"
   ]
  },
  {
   "cell_type": "code",
   "execution_count": 26,
   "metadata": {},
   "outputs": [
    {
     "name": "stderr",
     "output_type": "stream",
     "text": [
      "/tmp/ipykernel_8669/3954865364.py:57: FutureWarning: X.dtype being converted to np.float32 from int64. In the next version of anndata (0.9) conversion will not be automatic. Pass dtype explicitly to avoid this warning. Pass `AnnData(X, dtype=X.dtype, ...)` to get the future behavour.\n",
      "  adata=sc.AnnData(ad.transpose(),obs=cell_info,var=features)\n",
      "/home/sergioms/.local/lib/python3.8/site-packages/anndata/_core/anndata.py:121: ImplicitModificationWarning: Transforming to str index.\n",
      "  warnings.warn(\"Transforming to str index.\", ImplicitModificationWarning)\n"
     ]
    },
    {
     "name": "stdout",
     "output_type": "stream",
     "text": [
      "UMAP and clusters_could not be recovered\n"
     ]
    }
   ],
   "source": [
    "path=r'/mnt/d/Xenium_benchmarking-main/data/original_data/xenium_breast_idc_ild_with_addon/Xenium_V1_FFPE_Human_Breast_ILC_With_Addon_outs'\n",
    "tag=r'hbreast_ilc_addon_set2'\n",
    "output_path=r'../../data/unprocessed_adata/'\n",
    "adata=xf.format_xenium_adata_mid_2023(path,tag,output_path)\n",
    "xf.format_background(path)"
   ]
  },
  {
   "cell_type": "code",
   "execution_count": 9,
   "metadata": {},
   "outputs": [
    {
     "name": "stderr",
     "output_type": "stream",
     "text": [
      "/tmp/ipykernel_8782/3954865364.py:57: FutureWarning: X.dtype being converted to np.float32 from int64. In the next version of anndata (0.9) conversion will not be automatic. Pass dtype explicitly to avoid this warning. Pass `AnnData(X, dtype=X.dtype, ...)` to get the future behavour.\n",
      "  adata=sc.AnnData(ad.transpose(),obs=cell_info,var=features)\n",
      "/home/sergioms/.local/lib/python3.8/site-packages/anndata/_core/anndata.py:121: ImplicitModificationWarning: Transforming to str index.\n",
      "  warnings.warn(\"Transforming to str index.\", ImplicitModificationWarning)\n"
     ]
    },
    {
     "name": "stdout",
     "output_type": "stream",
     "text": [
      "UMAP and clusters_could not be recovered\n"
     ]
    }
   ],
   "source": [
    "path=r'/mnt/d/Xenium_benchmarking-main/data/original_data/xenium_breast_idc_ilc_entiresample_area/Xenium_V1_FFPE_Human_Breast_IDC_outs'\n",
    "tag=r'hbreast_idc_entiresample_set3'\n",
    "output_path=r'../../data/unprocessed_adata/'\n",
    "adata=xf.format_xenium_adata_mid_2023(path,tag,output_path)\n",
    "xf.format_background(path)"
   ]
  },
  {
   "cell_type": "code",
   "execution_count": 10,
   "metadata": {},
   "outputs": [
    {
     "name": "stderr",
     "output_type": "stream",
     "text": [
      "/tmp/ipykernel_8782/3954865364.py:57: FutureWarning: X.dtype being converted to np.float32 from int64. In the next version of anndata (0.9) conversion will not be automatic. Pass dtype explicitly to avoid this warning. Pass `AnnData(X, dtype=X.dtype, ...)` to get the future behavour.\n",
      "  adata=sc.AnnData(ad.transpose(),obs=cell_info,var=features)\n",
      "/home/sergioms/.local/lib/python3.8/site-packages/anndata/_core/anndata.py:121: ImplicitModificationWarning: Transforming to str index.\n",
      "  warnings.warn(\"Transforming to str index.\", ImplicitModificationWarning)\n"
     ]
    },
    {
     "name": "stdout",
     "output_type": "stream",
     "text": [
      "UMAP and clusters_could not be recovered\n"
     ]
    }
   ],
   "source": [
    "path=r'/mnt/d/Xenium_benchmarking-main/data/original_data/xenium_breast_idc_ilc_entiresample_area/Xenium_V1_FFPE_Human_Breast_ILC_outs'\n",
    "tag=r'hbreast_ilc_entiresample_set3'\n",
    "output_path=r'../../data/unprocessed_adata/'\n",
    "adata=xf.format_xenium_adata_mid_2023(path,tag,output_path)\n",
    "xf.format_background(path)"
   ]
  },
  {
   "cell_type": "code",
   "execution_count": 6,
   "metadata": {},
   "outputs": [
    {
     "name": "stderr",
     "output_type": "stream",
     "text": [
      "/tmp/ipykernel_8782/3954865364.py:57: FutureWarning: X.dtype being converted to np.float32 from int64. In the next version of anndata (0.9) conversion will not be automatic. Pass dtype explicitly to avoid this warning. Pass `AnnData(X, dtype=X.dtype, ...)` to get the future behavour.\n",
      "  adata=sc.AnnData(ad.transpose(),obs=cell_info,var=features)\n",
      "/home/sergioms/.local/lib/python3.8/site-packages/anndata/_core/anndata.py:121: ImplicitModificationWarning: Transforming to str index.\n",
      "  warnings.warn(\"Transforming to str index.\", ImplicitModificationWarning)\n"
     ]
    },
    {
     "name": "stdout",
     "output_type": "stream",
     "text": [
      "UMAP and clusters_could not be recovered\n"
     ]
    }
   ],
   "source": [
    "path=r'/mnt/d/Xenium_benchmarking-main/data/original_data/xenium_breast_idc_ilc/Xenium_V1_FFPE_Human_Breast_IDC_outs'\n",
    "tag=r'hbreast_idc_addon_set4'\n",
    "output_path=r'../../data/unprocessed_adata/'\n",
    "adata=xf.format_xenium_adata_mid_2023(path,tag,output_path)\n",
    "xf.format_background(path)"
   ]
  },
  {
   "cell_type": "code",
   "execution_count": 7,
   "metadata": {},
   "outputs": [
    {
     "name": "stderr",
     "output_type": "stream",
     "text": [
      "/tmp/ipykernel_8782/3954865364.py:57: FutureWarning: X.dtype being converted to np.float32 from int64. In the next version of anndata (0.9) conversion will not be automatic. Pass dtype explicitly to avoid this warning. Pass `AnnData(X, dtype=X.dtype, ...)` to get the future behavour.\n",
      "  adata=sc.AnnData(ad.transpose(),obs=cell_info,var=features)\n",
      "/home/sergioms/.local/lib/python3.8/site-packages/anndata/_core/anndata.py:121: ImplicitModificationWarning: Transforming to str index.\n",
      "  warnings.warn(\"Transforming to str index.\", ImplicitModificationWarning)\n"
     ]
    },
    {
     "name": "stdout",
     "output_type": "stream",
     "text": [
      "UMAP and clusters_could not be recovered\n"
     ]
    }
   ],
   "source": [
    "path=r'/mnt/d/Xenium_benchmarking-main/data/original_data/xenium_breast_idc_ilc/Xenium_V1_FFPE_Human_Breast_ILC_outs'\n",
    "tag=r'hbreast_ilc_addon_set4'\n",
    "output_path=r'../../data/unprocessed_adata/'\n",
    "adata=xf.format_xenium_adata_mid_2023(path,tag,output_path)\n",
    "xf.format_background(path)"
   ]
  },
  {
   "cell_type": "code",
   "execution_count": 8,
   "metadata": {},
   "outputs": [
    {
     "name": "stderr",
     "output_type": "stream",
     "text": [
      "/tmp/ipykernel_8782/3954865364.py:57: FutureWarning: X.dtype being converted to np.float32 from int64. In the next version of anndata (0.9) conversion will not be automatic. Pass dtype explicitly to avoid this warning. Pass `AnnData(X, dtype=X.dtype, ...)` to get the future behavour.\n",
      "  adata=sc.AnnData(ad.transpose(),obs=cell_info,var=features)\n",
      "/home/sergioms/.local/lib/python3.8/site-packages/anndata/_core/anndata.py:121: ImplicitModificationWarning: Transforming to str index.\n",
      "  warnings.warn(\"Transforming to str index.\", ImplicitModificationWarning)\n"
     ]
    },
    {
     "name": "stdout",
     "output_type": "stream",
     "text": [
      "UMAP and clusters_could not be recovered\n"
     ]
    }
   ],
   "source": [
    "path=r'/mnt/d/Xenium_benchmarking-main/data/original_data/xenium_lung_healthy/Xenium_Preview_Human_Non_diseased_Lung_With_Add_on_FFPE_outs'\n",
    "tag=r'lung_cancer'\n",
    "output_path=r'../../data/unprocessed_adata/'\n",
    "adata=xf.format_xenium_adata_mid_2023(path,tag,output_path)\n",
    "xf.format_background(path)"
   ]
  },
  {
   "cell_type": "code",
   "execution_count": 4,
   "metadata": {},
   "outputs": [
    {
     "name": "stderr",
     "output_type": "stream",
     "text": [
      "/home/sergio/anaconda3/envs/xb/lib/python3.7/site-packages/ipykernel_launcher.py:57: FutureWarning: X.dtype being converted to np.float32 from int64. In the next version of anndata (0.9) conversion will not be automatic. Pass dtype explicitly to avoid this warning. Pass `AnnData(X, dtype=X.dtype, ...)` to get the future behavour.\n",
      "/home/sergio/anaconda3/envs/xb/lib/python3.7/site-packages/anndata/_core/anndata.py:121: ImplicitModificationWarning: Transforming to str index.\n",
      "  warnings.warn(\"Transforming to str index.\", ImplicitModificationWarning)\n"
     ]
    },
    {
     "name": "stdout",
     "output_type": "stream",
     "text": [
      "UMAP and clusters_could not be recovered\n"
     ]
    }
   ],
   "source": [
    "path=r'/media/sergio/xenium_b_and_heart/xenium_datasets/output-XETG00045__0003524__active__20230510__111824-20230725T092912Z-001/output-XETG00045__0003524__active__20230510__111824'\n",
    "tag=r'human_spinal_chord_active'\n",
    "output_path=r'../../data/unprocessed_adata/'\n",
    "adata=xf.format_xenium_adata_mid_2023(path,tag,output_path)\n",
    "xf.format_background(path)"
   ]
  },
  {
   "cell_type": "code",
   "execution_count": 5,
   "metadata": {},
   "outputs": [
    {
     "name": "stderr",
     "output_type": "stream",
     "text": [
      "/home/sergio/anaconda3/envs/xb/lib/python3.7/site-packages/ipykernel_launcher.py:57: FutureWarning: X.dtype being converted to np.float32 from int64. In the next version of anndata (0.9) conversion will not be automatic. Pass dtype explicitly to avoid this warning. Pass `AnnData(X, dtype=X.dtype, ...)` to get the future behavour.\n"
     ]
    },
    {
     "name": "stdout",
     "output_type": "stream",
     "text": [
      "UMAP and clusters_could not be recovered\n"
     ]
    }
   ],
   "source": [
    "path=r'/media/sergio/xenium_b_and_heart/xenium_datasets/output-XETG00045__0003385__inactive__20230510__111824-20230725T094731Z-001/output-XETG00045__0003385__inactive__20230510__111824'\n",
    "tag=r'human_spinal_chord_inactive'\n",
    "output_path=r'../../data/unprocessed_adata/'\n",
    "adata=xf.format_xenium_adata_mid_2023(path,tag,output_path)\n",
    "xf.format_background(path)"
   ]
  }
 ],
 "metadata": {
  "kernelspec": {
   "display_name": "xb",
   "language": "python",
   "name": "xb"
  },
  "language_info": {
   "codemirror_mode": {
    "name": "ipython",
    "version": 3
   },
   "file_extension": ".py",
   "mimetype": "text/x-python",
   "name": "python",
   "nbconvert_exporter": "python",
   "pygments_lexer": "ipython3",
   "version": "3.7.13"
  }
 },
 "nbformat": 4,
 "nbformat_minor": 4
}
