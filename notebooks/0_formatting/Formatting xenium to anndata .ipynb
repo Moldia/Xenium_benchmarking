{
 "cells": [
  {
   "cell_type": "markdown",
   "metadata": {},
   "source": [
    "# Loading the packages"
   ]
  },
  {
   "cell_type": "code",
   "execution_count": 1,
   "metadata": {},
   "outputs": [],
   "source": [
    "import os.path\n",
    "from scipy.io import mmread\n",
    "import xb.formatting as xf"
   ]
  },
  {
   "cell_type": "markdown",
   "metadata": {},
   "source": [
    "# Example of formatting"
   ]
  },
  {
   "cell_type": "markdown",
   "metadata": {},
   "source": [
    "We input the path wher our original xenium data is and we use ```format_xenium_data``` to transform the datasets"
   ]
  },
  {
   "cell_type": "code",
   "execution_count": 68,
   "metadata": {},
   "outputs": [
    {
     "name": "stderr",
     "output_type": "stream",
     "text": [
      "/mnt/d/Xenium_benchmarking-main/Xenium_benchmarking-main/xb/formatting.py:46: FutureWarning: X.dtype being converted to np.float32 from int64. In the next version of anndata (0.9) conversion will not be automatic. Pass dtype explicitly to avoid this warning. Pass `AnnData(X, dtype=X.dtype, ...)` to get the future behavour.\n",
      "  adata=sc.AnnData(ad.transpose(),obs=cell_info,var=features)\n",
      "/home/sergioms/.local/lib/python3.8/site-packages/anndata/_core/anndata.py:121: ImplicitModificationWarning: Transforming to str index.\n",
      "  warnings.warn(\"Transforming to str index.\", ImplicitModificationWarning)\n"
     ]
    },
    {
     "data": {
      "text/plain": [
       "AnnData object with n_obs × n_vars = 26372 × 541\n",
       "    obs: 'cell_id', 'x_centroid', 'y_centroid', 'transcript_counts', 'control_probe_counts', 'control_codeword_counts', 'total_counts', 'cell_area', 'nucleus_area', 'graph_clusters', 'kmeans2_clusters', 'kmeans3_clusters', 'kmeans4_clusters', 'kmeans5_clusters', 'kmeans6_clusters', 'kmeans7_clusters', 'kmeans8_clusters', 'kmeans9_clusters', 'kmeans10_clusters'\n",
       "    var: 'gene_id', 'reason_of_inclusion', 'Annotation', 'Ensembl ID', 'in_panel'\n",
       "    uns: 'spatial', 'spots'\n",
       "    obsm: 'spatial', 'X_umap', 'X_tsne', 'X_pca'"
      ]
     },
     "execution_count": 68,
     "metadata": {},
     "output_type": "execute_result"
    }
   ],
   "source": [
    "path=r'../../data/original_data/xenium_prerelease_jun20_mBrain_replicates_updated/mBrain_ff_rep1'\n",
    "tag=r'ms_brain_rep1'\n",
    "output_path=r'../../data/unprocessed_adata/'\n",
    "xf.format_xenium_adata(path,tag,output_path)"
   ]
  },
  {
   "cell_type": "markdown",
   "metadata": {},
   "source": [
    "For every dataset, we also want to transform the original OME TIF to a simple tiff. "
   ]
  },
  {
   "cell_type": "code",
   "execution_count": 2,
   "metadata": {},
   "outputs": [],
   "source": [
    "xf?"
   ]
  },
  {
   "cell_type": "code",
   "execution_count": 3,
   "metadata": {},
   "outputs": [],
   "source": [
    "xf.format_background(path)"
   ]
  },
  {
   "cell_type": "markdown",
   "metadata": {},
   "source": [
    "# We repeat this processin for each dataset"
   ]
  },
  {
   "cell_type": "code",
   "execution_count": 69,
   "metadata": {
    "scrolled": true
   },
   "outputs": [
    {
     "name": "stderr",
     "output_type": "stream",
     "text": [
      "/mnt/d/Xenium_benchmarking-main/Xenium_benchmarking-main/xb/formatting.py:46: FutureWarning: X.dtype being converted to np.float32 from int64. In the next version of anndata (0.9) conversion will not be automatic. Pass dtype explicitly to avoid this warning. Pass `AnnData(X, dtype=X.dtype, ...)` to get the future behavour.\n",
      "  adata=sc.AnnData(ad.transpose(),obs=cell_info,var=features)\n",
      "/home/sergioms/.local/lib/python3.8/site-packages/anndata/_core/anndata.py:121: ImplicitModificationWarning: Transforming to str index.\n",
      "  warnings.warn(\"Transforming to str index.\", ImplicitModificationWarning)\n"
     ]
    }
   ],
   "source": [
    "path=r'../../data/original_data/xenium_prerelease_jun20_mBrain_replicates_updated/mBrain_ff_rep2'\n",
    "tag=r'ms_brain_rep2'\n",
    "output_path=r'../../data/unprocessed_adata/'\n",
    "xf.format_xenium_adata(path,tag,output_path)\n",
    "xf.format_background(path)"
   ]
  },
  {
   "cell_type": "code",
   "execution_count": 70,
   "metadata": {},
   "outputs": [
    {
     "name": "stderr",
     "output_type": "stream",
     "text": [
      "/mnt/d/Xenium_benchmarking-main/Xenium_benchmarking-main/xb/formatting.py:46: FutureWarning: X.dtype being converted to np.float32 from int64. In the next version of anndata (0.9) conversion will not be automatic. Pass dtype explicitly to avoid this warning. Pass `AnnData(X, dtype=X.dtype, ...)` to get the future behavour.\n",
      "  adata=sc.AnnData(ad.transpose(),obs=cell_info,var=features)\n",
      "/home/sergioms/.local/lib/python3.8/site-packages/anndata/_core/anndata.py:121: ImplicitModificationWarning: Transforming to str index.\n",
      "  warnings.warn(\"Transforming to str index.\", ImplicitModificationWarning)\n"
     ]
    }
   ],
   "source": [
    "path=r'../../data/original_data/xenium_prerelease_jun20_mBrain_replicates_updated/mBrain_ff_rep3'\n",
    "tag=r'ms_brain_rep3'\n",
    "output_path=r'../../data/unprocessed_adata/'\n",
    "xf.format_xenium_adata(path,tag,output_path)\n",
    "xf.format_background(path)"
   ]
  },
  {
   "cell_type": "code",
   "execution_count": 71,
   "metadata": {},
   "outputs": [
    {
     "name": "stderr",
     "output_type": "stream",
     "text": [
      "/mnt/d/Xenium_benchmarking-main/Xenium_benchmarking-main/xb/formatting.py:46: FutureWarning: X.dtype being converted to np.float32 from int64. In the next version of anndata (0.9) conversion will not be automatic. Pass dtype explicitly to avoid this warning. Pass `AnnData(X, dtype=X.dtype, ...)` to get the future behavour.\n",
      "  adata=sc.AnnData(ad.transpose(),obs=cell_info,var=features)\n",
      "/home/sergioms/.local/lib/python3.8/site-packages/anndata/_core/anndata.py:121: ImplicitModificationWarning: Transforming to str index.\n",
      "  warnings.warn(\"Transforming to str index.\", ImplicitModificationWarning)\n"
     ]
    },
    {
     "name": "stdout",
     "output_type": "stream",
     "text": [
      "UMAP and clusters_could not be recovered\n"
     ]
    }
   ],
   "source": [
    "path=r'../../data/original_data/xenium_prerelease_sept15_hBreast/hBreast_ffpe_large'\n",
    "tag=r'h_breast_1'\n",
    "output_path=r'../../data/unprocessed_adata/'\n",
    "xf.format_xenium_adata(path,tag,output_path)\n",
    "xf.format_background(path)"
   ]
  },
  {
   "cell_type": "code",
   "execution_count": 72,
   "metadata": {},
   "outputs": [
    {
     "name": "stderr",
     "output_type": "stream",
     "text": [
      "/mnt/d/Xenium_benchmarking-main/Xenium_benchmarking-main/xb/formatting.py:46: FutureWarning: X.dtype being converted to np.float32 from int64. In the next version of anndata (0.9) conversion will not be automatic. Pass dtype explicitly to avoid this warning. Pass `AnnData(X, dtype=X.dtype, ...)` to get the future behavour.\n",
      "  adata=sc.AnnData(ad.transpose(),obs=cell_info,var=features)\n",
      "/home/sergioms/.local/lib/python3.8/site-packages/anndata/_core/anndata.py:121: ImplicitModificationWarning: Transforming to str index.\n",
      "  warnings.warn(\"Transforming to str index.\", ImplicitModificationWarning)\n"
     ]
    },
    {
     "name": "stdout",
     "output_type": "stream",
     "text": [
      "UMAP and clusters_could not be recovered\n"
     ]
    }
   ],
   "source": [
    "path=r'../../data/original_data/xenium_prerelease_sept15_hBreast/hBreast_ffpe_small'\n",
    "tag=r'h_breast_2'\n",
    "output_path=r'../../data/unprocessed_adata/'\n",
    "xf.format_xenium_adata(path,tag,output_path)\n",
    "xf.format_background(path)"
   ]
  },
  {
   "cell_type": "code",
   "execution_count": 73,
   "metadata": {},
   "outputs": [
    {
     "name": "stderr",
     "output_type": "stream",
     "text": [
      "/mnt/d/Xenium_benchmarking-main/Xenium_benchmarking-main/xb/formatting.py:46: FutureWarning: X.dtype being converted to np.float32 from int64. In the next version of anndata (0.9) conversion will not be automatic. Pass dtype explicitly to avoid this warning. Pass `AnnData(X, dtype=X.dtype, ...)` to get the future behavour.\n",
      "  adata=sc.AnnData(ad.transpose(),obs=cell_info,var=features)\n",
      "/home/sergioms/.local/lib/python3.8/site-packages/anndata/_core/anndata.py:121: ImplicitModificationWarning: Transforming to str index.\n",
      "  warnings.warn(\"Transforming to str index.\", ImplicitModificationWarning)\n"
     ]
    }
   ],
   "source": [
    "path=r'../../data/original_data/xenium_prerelease_sept15_mBrain/mBrain_ff_full_coronal_section'\n",
    "tag=r'ms_brain_fullcoronal'\n",
    "output_path=r'../../data/unprocessed_adata/'\n",
    "xf.format_xenium_adata(path,tag,output_path)\n",
    "xf.format_background(path)"
   ]
  },
  {
   "cell_type": "code",
   "execution_count": 74,
   "metadata": {},
   "outputs": [
    {
     "name": "stderr",
     "output_type": "stream",
     "text": [
      "/mnt/d/Xenium_benchmarking-main/Xenium_benchmarking-main/xb/formatting.py:46: FutureWarning: X.dtype being converted to np.float32 from int64. In the next version of anndata (0.9) conversion will not be automatic. Pass dtype explicitly to avoid this warning. Pass `AnnData(X, dtype=X.dtype, ...)` to get the future behavour.\n",
      "  adata=sc.AnnData(ad.transpose(),obs=cell_info,var=features)\n",
      "/home/sergioms/.local/lib/python3.8/site-packages/anndata/_core/anndata.py:121: ImplicitModificationWarning: Transforming to str index.\n",
      "  warnings.warn(\"Transforming to str index.\", ImplicitModificationWarning)\n"
     ]
    }
   ],
   "source": [
    "path=r'../../data/original_data/xenium_prerelease_sept15_mBrain/mBrain_ff_partial_coronal_section'\n",
    "tag=r'ms_brain_partialcoronal'\n",
    "output_path=r'../../data/unprocessed_adata/'\n",
    "xf.format_xenium_adata(path,tag,output_path)\n",
    "xf.format_background(path)"
   ]
  },
  {
   "cell_type": "markdown",
   "metadata": {},
   "source": [
    "# We add the new datasets provided by 10X genomics"
   ]
  },
  {
   "cell_type": "code",
   "execution_count": 30,
   "metadata": {},
   "outputs": [
    {
     "data": {
      "text/plain": [
       "'2010300C02Rik'"
      ]
     },
     "execution_count": 30,
     "metadata": {},
     "output_type": "execute_result"
    }
   ],
   "source": [
    "data['payload']['targets'][0]['type']['data']['name']"
   ]
  },
  {
   "cell_type": "code",
   "execution_count": null,
   "metadata": {},
   "outputs": [],
   "source": [
    "import numpy as np\n",
    "import pandas as pd\n",
    "import scanpy as sc\n",
    "import seaborn as sns\n",
    "import matplotlib.pyplot as plt\n",
    "import gzip\n",
    "import shutil\n",
    "import os.path\n",
    "from scipy.io import mmread\n",
    "import tifffile as tf\n",
    "from scipy.spatial import ConvexHull, convex_hull_plot_2d\n",
    "from anndata import AnnData\n"
   ]
  },
  {
   "cell_type": "code",
   "execution_count": 24,
   "metadata": {},
   "outputs": [],
   "source": [
    "import numpy as np\n",
    "import pandas as pd\n",
    "import scanpy as sc\n",
    "import seaborn as sns\n",
    "import scipy as sp\n",
    "import matplotlib.pyplot as plt\n",
    "import gzip\n",
    "import shutil\n",
    "import os.path\n",
    "from scipy.io import mmread\n",
    "import tifffile as tf\n",
    "from scipy.spatial import ConvexHull, convex_hull_plot_2d\n",
    "from anndata import AnnData\n",
    "import json\n",
    "\n",
    "def format_xenium_adata_2023(path,tag,output_path):\n",
    "    #decompress\n",
    "    if os.path.isfile(path+'/transcripts.csv')==False:\n",
    "        with gzip.open(path+'/transcripts.csv.gz', 'rb') as f_in:\n",
    "            with open(path+'/transcripts.csv', 'wb') as f_out:\n",
    "                shutil.copyfileobj(f_in, f_out)\n",
    "\n",
    "    if os.path.isfile(path+'/cell_feature_matrix/barcodes.tsv')==False:\n",
    "        with gzip.open(path+'/cell_feature_matrix/barcodes.tsv.gz', 'rb') as f_in:\n",
    "            with open(path+'/cell_feature_matrix/barcodes.tsv', 'wb') as f_out:\n",
    "                shutil.copyfileobj(f_in, f_out)\n",
    "\n",
    "    if os.path.isfile(path+'/cell_feature_matrix/features.tsv')==False:\n",
    "        with gzip.open(path+'/cell_feature_matrix/features.tsv.gz', 'rb') as f_in:\n",
    "            with open(path+'/cell_feature_matrix/features.tsv', 'wb') as f_out:\n",
    "                shutil.copyfileobj(f_in, f_out)\n",
    "\n",
    "    if os.path.isfile(path+'/cell_feature_matrix/matrix.mtx')==False:\n",
    "        with gzip.open(path+'/cell_feature_matrix/matrix.mtx.gz', 'rb') as f_in:\n",
    "            with open(path+'/cell_feature_matrix/matrix.mtx', 'wb') as f_out:\n",
    "                shutil.copyfileobj(f_in, f_out)\n",
    "\n",
    "    if os.path.isfile(path+'/cells.csv')==False:\n",
    "        with gzip.open(path+'/cells.csv.gz', 'rb') as f_in:\n",
    "            with open(path+'/cells.csv', 'wb') as f_out:\n",
    "                shutil.copyfileobj(f_in, f_out)\n",
    "    a = mmread(path+'/cell_feature_matrix/matrix.mtx')\n",
    "    ad=a.todense()\n",
    "    cell_info=pd.read_csv(path+r\"/cells.csv\")\n",
    "    features=pd.read_csv(path+'/cell_feature_matrix/features.tsv',sep='\\t',header=None,index_col=0)\n",
    "    barcodes=pd.read_csv(path+'/cell_feature_matrix/barcodes.tsv',header=None,index_col=0)\n",
    "    adata=sc.AnnData(ad.transpose(),obs=cell_info,var=features)\n",
    "    adata.var.index.name='index'\n",
    "    adata.var.columns=['gene_id','reason_of_inclusion']\n",
    "    import json\n",
    "    # Opening JSON file\n",
    "    f = open(path+'/gene_panel.json')\n",
    "    # returns JSON object as \n",
    "    # a dictionary\n",
    "    data = json.load(f)\n",
    "    # Iterating through the json\n",
    "    # list\n",
    "    geness=[]\n",
    "    idss=[]\n",
    "    descriptorss=[]\n",
    "    for r in range(len(data['payload']['targets'])):\n",
    "        geness.append(data['payload']['targets'][r]['type']['data']['name'])\n",
    "        try:\n",
    "            idss.append(data['payload']['targets'][r]['type']['data']['id'])\n",
    "        except:\n",
    "            idss.append('newid_'+str(r)) \n",
    "        try:\n",
    "            descriptorss.append(data['payload']['targets'][r]['type']['descriptor'])\n",
    "        except:\n",
    "            descriptorss.append('other')\n",
    "    # Closing file\n",
    "    f.close()\n",
    "\n",
    "    dict_inpanel=dict(zip(geness,descriptorss))\n",
    "    dict_ENSEMBL=dict(zip(geness,idss))\n",
    "    adata.var['Ensembl ID']=adata.var['gene_id'].map(dict_ENSEMBL)\n",
    "    adata.var['in_panel']=adata.var['gene_id'].map(dict_inpanel)\n",
    "    transcripts=pd.read_csv(path+'/transcripts.csv',index_col=0)\n",
    "    adata.uns['spots']=transcripts\n",
    "    try:\n",
    "        UMAP=pd.read_csv(path+'/analysis/umap/gene_expression_2_components/projection.csv',index_col=0)\n",
    "        adata.obsm['X_umap']=np.array(UMAP)\n",
    "        TSNE=pd.read_csv(path+'/analysis/tsne/gene_expression_2_components/projection.csv',index_col=0)\n",
    "        adata.obsm['X_tsne']=np.array(TSNE)\n",
    "        PCA=pd.read_csv(path+'/analysis/PCA/gene_expression_10_components/projection.csv',index_col=0)\n",
    "        adata.obsm['X_pca']=np.array(PCA)\n",
    "        clusters=pd.read_csv(path+'/analysis/clustering/gene_expression_graphclust/clusters.csv',index_col=0)\n",
    "        adata.obs['graph_clusters']=list(clusters['Cluster'].astype(str))\n",
    "        kmeans2=pd.read_csv(path+'/analysis/clustering/gene_expression_kmeans_2_clusters/clusters.csv',index_col=0)\n",
    "        adata.obs['kmeans2_clusters']=list(kmeans2['Cluster'].astype(str))\n",
    "        kmeans3=pd.read_csv(path+'/analysis/clustering/gene_expression_kmeans_2_clusters/clusters.csv',index_col=0)\n",
    "        adata.obs['kmeans3_clusters']=list(kmeans3['Cluster'].astype(str))\n",
    "        kmeans4=pd.read_csv(path+'/analysis/clustering/gene_expression_kmeans_2_clusters/clusters.csv',index_col=0)\n",
    "        adata.obs['kmeans4_clusters']=list(kmeans4['Cluster'].astype(str))\n",
    "        kmeans5=pd.read_csv(path+'/analysis/clustering/gene_expression_kmeans_2_clusters/clusters.csv',index_col=0)\n",
    "        adata.obs['kmeans5_clusters']=list(kmeans5['Cluster'].astype(str))\n",
    "        kmeans6=pd.read_csv(path+'/analysis/clustering/gene_expression_kmeans_2_clusters/clusters.csv',index_col=0)\n",
    "        adata.obs['kmeans6_clusters']=list(kmeans6['Cluster'].astype(str))\n",
    "        kmeans7=pd.read_csv(path+'/analysis/clustering/gene_expression_kmeans_2_clusters/clusters.csv',index_col=0)\n",
    "        adata.obs['kmeans7_clusters']=list(kmeans7['Cluster'].astype(str))\n",
    "        kmeans8=pd.read_csv(path+'/analysis/clustering/gene_expression_kmeans_2_clusters/clusters.csv',index_col=0)\n",
    "        adata.obs['kmeans8_clusters']=list(kmeans8['Cluster'].astype(str))\n",
    "        kmeans9=pd.read_csv(path+'/analysis/clustering/gene_expression_kmeans_2_clusters/clusters.csv',index_col=0)\n",
    "        adata.obs['kmeans9_clusters']=list(kmeans9['Cluster'].astype(str))\n",
    "        kmeans10=pd.read_csv(path+'/analysis/clustering/gene_expression_kmeans_2_clusters/clusters.csv',index_col=0)\n",
    "        adata.obs['kmeans10_clusters']=list(kmeans10['Cluster'].astype(str))\n",
    "    except:\n",
    "        print('UMAP and clusters_could not be recovered')\n",
    "    adata.X=sp.sparse.csr_matrix(adata.X)\n",
    "    adata.write(output_path+tag+'.h5ad')\n",
    "    return adata"
   ]
  },
  {
   "cell_type": "code",
   "execution_count": 25,
   "metadata": {},
   "outputs": [
    {
     "name": "stderr",
     "output_type": "stream",
     "text": [
      "/tmp/ipykernel_50/1979575114.py:47: FutureWarning: X.dtype being converted to np.float32 from int64. In the next version of anndata (0.9) conversion will not be automatic. Pass dtype explicitly to avoid this warning. Pass `AnnData(X, dtype=X.dtype, ...)` to get the future behavour.\n",
      "  adata=sc.AnnData(ad.transpose(),obs=cell_info,var=features)\n",
      "/home/sergioms/.local/lib/python3.8/site-packages/anndata/_core/anndata.py:121: ImplicitModificationWarning: Transforming to str index.\n",
      "  warnings.warn(\"Transforming to str index.\", ImplicitModificationWarning)\n"
     ]
    },
    {
     "name": "stdout",
     "output_type": "stream",
     "text": [
      "UMAP and clusters_could not be recovered\n"
     ]
    }
   ],
   "source": [
    "path=r'/mnt/e/Xenium_V1_FF_Mouse_Brain_MultiSection_2_outs'\n",
    "tag=r'ms_brain_multisection2'\n",
    "output_path=r'/mnt/e/'\n",
    "adata=format_xenium_adata_2023(path,tag,output_path)\n",
    "xf.format_background(path)"
   ]
  },
  {
   "cell_type": "code",
   "execution_count": 27,
   "metadata": {},
   "outputs": [
    {
     "name": "stderr",
     "output_type": "stream",
     "text": [
      "/tmp/ipykernel_50/1979575114.py:47: FutureWarning: X.dtype being converted to np.float32 from int64. In the next version of anndata (0.9) conversion will not be automatic. Pass dtype explicitly to avoid this warning. Pass `AnnData(X, dtype=X.dtype, ...)` to get the future behavour.\n",
      "  adata=sc.AnnData(ad.transpose(),obs=cell_info,var=features)\n",
      "/home/sergioms/.local/lib/python3.8/site-packages/anndata/_core/anndata.py:121: ImplicitModificationWarning: Transforming to str index.\n",
      "  warnings.warn(\"Transforming to str index.\", ImplicitModificationWarning)\n"
     ]
    },
    {
     "name": "stdout",
     "output_type": "stream",
     "text": [
      "UMAP and clusters_could not be recovered\n"
     ]
    }
   ],
   "source": [
    "path=r'/mnt/e/Xenium_V1_FF_Mouse_Brain_MultiSection_3_outs'\n",
    "tag=r'ms_brain_multisection3'\n",
    "output_path=r'/mnt/e/'\n",
    "adata=format_xenium_adata_2023(path,tag,output_path)\n",
    "xf.format_background(path)"
   ]
  },
  {
   "cell_type": "code",
   "execution_count": 29,
   "metadata": {},
   "outputs": [
    {
     "name": "stderr",
     "output_type": "stream",
     "text": [
      "/tmp/ipykernel_50/1979575114.py:47: FutureWarning: X.dtype being converted to np.float32 from int64. In the next version of anndata (0.9) conversion will not be automatic. Pass dtype explicitly to avoid this warning. Pass `AnnData(X, dtype=X.dtype, ...)` to get the future behavour.\n",
      "  adata=sc.AnnData(ad.transpose(),obs=cell_info,var=features)\n",
      "/home/sergioms/.local/lib/python3.8/site-packages/anndata/_core/anndata.py:121: ImplicitModificationWarning: Transforming to str index.\n",
      "  warnings.warn(\"Transforming to str index.\", ImplicitModificationWarning)\n"
     ]
    },
    {
     "name": "stdout",
     "output_type": "stream",
     "text": [
      "UMAP and clusters_could not be recovered\n"
     ]
    }
   ],
   "source": [
    "path=r'/mnt/e/Xenium_V1_FF_Mouse_Brain_MultiSection_1_outs'\n",
    "tag=r'ms_brain_multisection1'\n",
    "output_path=r'/mnt/e/'\n",
    "adata=format_xenium_adata_2023(path,tag,output_path)\n",
    "xf.format_background(path)"
   ]
  },
  {
   "cell_type": "code",
   "execution_count": 32,
   "metadata": {},
   "outputs": [
    {
     "data": {
      "text/plain": [
       "['gene', 'negative_control', NaN]\n",
       "Categories (2, object): ['gene', 'negative_control']"
      ]
     },
     "execution_count": 32,
     "metadata": {},
     "output_type": "execute_result"
    }
   ],
   "source": [
    "adata.var['in_panel'].unique()"
   ]
  },
  {
   "cell_type": "code",
   "execution_count": null,
   "metadata": {},
   "outputs": [],
   "source": []
  }
 ],
 "metadata": {
  "kernelspec": {
   "display_name": "xenium_benchmarking",
   "language": "python",
   "name": "xenium_benchmarking"
  },
  "language_info": {
   "codemirror_mode": {
    "name": "ipython",
    "version": 3
   },
   "file_extension": ".py",
   "mimetype": "text/x-python",
   "name": "python",
   "nbconvert_exporter": "python",
   "pygments_lexer": "ipython3",
   "version": "3.8.10"
  }
 },
 "nbformat": 4,
 "nbformat_minor": 4
}
