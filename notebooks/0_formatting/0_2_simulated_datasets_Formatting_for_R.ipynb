{
 "cells": [
  {
   "cell_type": "markdown",
   "id": "3c2ad0ac",
   "metadata": {},
   "source": [
    "# Purpose of the notebook"
   ]
  },
  {
   "cell_type": "markdown",
   "id": "21a453b8",
   "metadata": {},
   "source": [
    "In this notebook we format the simulated datasets (AnnData), to csvs, which will be used as an input for Seurat's preprocessing"
   ]
  },
  {
   "cell_type": "markdown",
   "id": "32486485",
   "metadata": {},
   "source": [
    "## Import packages"
   ]
  },
  {
   "cell_type": "code",
   "execution_count": 1,
   "id": "bfe92667",
   "metadata": {},
   "outputs": [],
   "source": [
    "import numpy as np\n",
    "import pandas as pd\n",
    "import scanpy as sc\n",
    "import seaborn as sns\n",
    "import matplotlib.pyplot as plt\n",
    "import xb.plotting as xp\n",
    "import os\n",
    "import random\n",
    "from tqdm import tqdm"
   ]
  },
  {
   "cell_type": "markdown",
   "id": "bb071d6b",
   "metadata": {},
   "source": [
    "# Specify parameters"
   ]
  },
  {
   "cell_type": "code",
   "execution_count": 3,
   "id": "fbc97033",
   "metadata": {},
   "outputs": [],
   "source": [
    "mainpath='../../data/scRNAseq_for_simulations/'\n",
    "datasets=os.listdir(mainpath)\n",
    "datasets=[d for d in datasets if d!='.ipynb_checkpoints']"
   ]
  },
  {
   "cell_type": "markdown",
   "id": "e1dd0dce",
   "metadata": {},
   "source": [
    "## Main loop\n",
    "In here, we format the simulated datasets into csv format, which will be later used as an input for Seurat preprocessing"
   ]
  },
  {
   "cell_type": "code",
   "execution_count": 5,
   "id": "39af4481",
   "metadata": {
    "scrolled": true
   },
   "outputs": [
    {
     "name": "stdout",
     "output_type": "stream",
     "text": [
      "##################################### Dataset 0\n"
     ]
    },
    {
     "name": "stderr",
     "output_type": "stream",
     "text": [
      "100%|████████████████████████████████████████████████████████████████████████████████████| 1/1 [00:00<00:00, 357.97it/s]\n"
     ]
    },
    {
     "name": "stdout",
     "output_type": "stream",
     "text": [
      "(11756, 214)\n",
      "##################################### Dataset 1\n"
     ]
    },
    {
     "name": "stderr",
     "output_type": "stream",
     "text": [
      "100%|████████████████████████████████████████████████████████████████████████████████████| 1/1 [00:00<00:00, 318.35it/s]\n"
     ]
    },
    {
     "name": "stdout",
     "output_type": "stream",
     "text": [
      "(14639, 192)\n",
      "##################################### Dataset 2\n"
     ]
    },
    {
     "name": "stderr",
     "output_type": "stream",
     "text": [
      "100%|████████████████████████████████████████████████████████████████████████████████████| 1/1 [00:00<00:00, 297.53it/s]\n"
     ]
    },
    {
     "name": "stdout",
     "output_type": "stream",
     "text": [
      "(16185, 203)\n",
      "##################################### Dataset 3\n"
     ]
    },
    {
     "name": "stderr",
     "output_type": "stream",
     "text": [
      "100%|████████████████████████████████████████████████████████████████████████████████████| 1/1 [00:00<00:00, 306.83it/s]\n"
     ]
    },
    {
     "name": "stdout",
     "output_type": "stream",
     "text": [
      "(15021, 191)\n",
      "##################################### Dataset 4\n"
     ]
    },
    {
     "name": "stderr",
     "output_type": "stream",
     "text": [
      "100%|████████████████████████████████████████████████████████████████████████████████████| 1/1 [00:00<00:00, 274.71it/s]\n"
     ]
    },
    {
     "name": "stdout",
     "output_type": "stream",
     "text": [
      "(18219, 183)\n",
      "##################################### Dataset 5\n"
     ]
    },
    {
     "name": "stderr",
     "output_type": "stream",
     "text": [
      "0it [00:00, ?it/s]\n"
     ]
    },
    {
     "name": "stdout",
     "output_type": "stream",
     "text": [
      "(8448, 189)\n",
      "##################################### Dataset 6\n"
     ]
    },
    {
     "name": "stderr",
     "output_type": "stream",
     "text": [
      "100%|████████████████████████████████████████████████████████████████████████████████████| 1/1 [00:00<00:00, 331.75it/s]\n"
     ]
    },
    {
     "name": "stdout",
     "output_type": "stream",
     "text": [
      "(13563, 197)\n",
      "##################################### Dataset 7\n",
      "Not possible 7\n",
      "##################################### Dataset 8\n"
     ]
    },
    {
     "name": "stderr",
     "output_type": "stream",
     "text": [
      "100%|████████████████████████████████████████████████████████████████████████████████████| 1/1 [00:00<00:00, 188.58it/s]\n"
     ]
    },
    {
     "name": "stdout",
     "output_type": "stream",
     "text": [
      "(18231, 148)\n",
      "##################################### Dataset 9\n"
     ]
    },
    {
     "name": "stderr",
     "output_type": "stream",
     "text": [
      "0it [00:00, ?it/s]\n"
     ]
    },
    {
     "name": "stdout",
     "output_type": "stream",
     "text": [
      "(6282, 147)\n",
      "##################################### Dataset 10\n"
     ]
    },
    {
     "name": "stderr",
     "output_type": "stream",
     "text": [
      "0it [00:00, ?it/s]\n"
     ]
    },
    {
     "name": "stdout",
     "output_type": "stream",
     "text": [
      "(7247, 162)\n",
      "##################################### Dataset 11\n"
     ]
    },
    {
     "name": "stderr",
     "output_type": "stream",
     "text": [
      "0it [00:00, ?it/s]\n"
     ]
    },
    {
     "name": "stdout",
     "output_type": "stream",
     "text": [
      "(8150, 181)\n",
      "##################################### Dataset 12\n"
     ]
    },
    {
     "name": "stderr",
     "output_type": "stream",
     "text": [
      "100%|████████████████████████████████████████████████████████████████████████████████████| 1/1 [00:00<00:00, 330.65it/s]\n"
     ]
    },
    {
     "name": "stdout",
     "output_type": "stream",
     "text": [
      "(14300, 149)\n",
      "##################################### Dataset 13\n"
     ]
    },
    {
     "name": "stderr",
     "output_type": "stream",
     "text": [
      "0it [00:00, ?it/s]\n"
     ]
    },
    {
     "name": "stdout",
     "output_type": "stream",
     "text": [
      "(3117, 196)\n",
      "##################################### Dataset 14\n"
     ]
    },
    {
     "name": "stderr",
     "output_type": "stream",
     "text": [
      "0it [00:00, ?it/s]\n"
     ]
    },
    {
     "name": "stdout",
     "output_type": "stream",
     "text": [
      "(9634, 166)\n",
      "##################################### Dataset 15\n"
     ]
    },
    {
     "name": "stderr",
     "output_type": "stream",
     "text": [
      "100%|████████████████████████████████████████████████████████████████████████████████████| 1/1 [00:00<00:00, 386.71it/s]\n"
     ]
    },
    {
     "name": "stdout",
     "output_type": "stream",
     "text": [
      "(11294, 198)\n",
      "##################################### Dataset 16\n"
     ]
    },
    {
     "name": "stderr",
     "output_type": "stream",
     "text": [
      "0it [00:00, ?it/s]\n"
     ]
    },
    {
     "name": "stdout",
     "output_type": "stream",
     "text": [
      "(8328, 213)\n",
      "##################################### Dataset 17\n"
     ]
    },
    {
     "name": "stderr",
     "output_type": "stream",
     "text": [
      "0it [00:00, ?it/s]\n"
     ]
    },
    {
     "name": "stdout",
     "output_type": "stream",
     "text": [
      "(2941, 205)\n",
      "##################################### Dataset 18\n"
     ]
    },
    {
     "name": "stderr",
     "output_type": "stream",
     "text": [
      "0it [00:00, ?it/s]\n"
     ]
    },
    {
     "name": "stdout",
     "output_type": "stream",
     "text": [
      "(7396, 192)\n",
      "##################################### Dataset 19\n"
     ]
    },
    {
     "name": "stderr",
     "output_type": "stream",
     "text": [
      "100%|████████████████████████████████████████████████████████████████████████████████████| 1/1 [00:00<00:00, 403.34it/s]\n"
     ]
    },
    {
     "name": "stdout",
     "output_type": "stream",
     "text": [
      "(10543, 226)\n",
      "##################################### Dataset 20\n"
     ]
    },
    {
     "name": "stderr",
     "output_type": "stream",
     "text": [
      "0it [00:00, ?it/s]\n"
     ]
    },
    {
     "name": "stdout",
     "output_type": "stream",
     "text": [
      "(2518, 244)\n",
      "##################################### Dataset 21\n"
     ]
    },
    {
     "name": "stderr",
     "output_type": "stream",
     "text": [
      "100%|████████████████████████████████████████████████████████████████████████████████████| 1/1 [00:00<00:00, 323.91it/s]\n"
     ]
    },
    {
     "name": "stdout",
     "output_type": "stream",
     "text": [
      "(12182, 200)\n",
      "##################################### Dataset 22\n"
     ]
    },
    {
     "name": "stderr",
     "output_type": "stream",
     "text": [
      "100%|████████████████████████████████████████████████████████████████████████████████████| 1/1 [00:00<00:00, 357.60it/s]\n"
     ]
    },
    {
     "name": "stdout",
     "output_type": "stream",
     "text": [
      "(12582, 210)\n",
      "##################################### Dataset 23\n"
     ]
    },
    {
     "name": "stderr",
     "output_type": "stream",
     "text": [
      "100%|████████████████████████████████████████████████████████████████████████████████████| 1/1 [00:00<00:00, 285.91it/s]\n"
     ]
    },
    {
     "name": "stdout",
     "output_type": "stream",
     "text": [
      "(15939, 160)\n",
      "##################################### Dataset 24\n"
     ]
    },
    {
     "name": "stderr",
     "output_type": "stream",
     "text": [
      "0it [00:00, ?it/s]\n"
     ]
    },
    {
     "name": "stdout",
     "output_type": "stream",
     "text": [
      "(7932, 167)\n",
      "##################################### Dataset 25\n"
     ]
    },
    {
     "name": "stderr",
     "output_type": "stream",
     "text": [
      "0it [00:00, ?it/s]\n"
     ]
    },
    {
     "name": "stdout",
     "output_type": "stream",
     "text": [
      "(9313, 212)\n",
      "##################################### Dataset 26\n"
     ]
    },
    {
     "name": "stderr",
     "output_type": "stream",
     "text": [
      "100%|████████████████████████████████████████████████████████████████████████████████████| 1/1 [00:00<00:00, 245.05it/s]\n"
     ]
    },
    {
     "name": "stdout",
     "output_type": "stream",
     "text": [
      "(18420, 219)\n",
      "##################################### Dataset 27\n"
     ]
    },
    {
     "name": "stderr",
     "output_type": "stream",
     "text": [
      "100%|████████████████████████████████████████████████████████████████████████████████████| 1/1 [00:00<00:00, 322.96it/s]\n"
     ]
    },
    {
     "name": "stdout",
     "output_type": "stream",
     "text": [
      "(15000, 192)\n",
      "##################################### Dataset 28\n"
     ]
    },
    {
     "name": "stderr",
     "output_type": "stream",
     "text": [
      "0it [00:00, ?it/s]\n"
     ]
    },
    {
     "name": "stdout",
     "output_type": "stream",
     "text": [
      "(8024, 160)\n",
      "##################################### Dataset 29\n"
     ]
    },
    {
     "name": "stderr",
     "output_type": "stream",
     "text": [
      "100%|████████████████████████████████████████████████████████████████████████████████████| 1/1 [00:00<00:00, 374.29it/s]\n"
     ]
    },
    {
     "name": "stdout",
     "output_type": "stream",
     "text": [
      "(10836, 175)\n",
      "##################################### Dataset 30\n"
     ]
    },
    {
     "name": "stderr",
     "output_type": "stream",
     "text": [
      "0it [00:00, ?it/s]\n"
     ]
    },
    {
     "name": "stdout",
     "output_type": "stream",
     "text": [
      "(8028, 222)\n",
      "##################################### Dataset 31\n"
     ]
    },
    {
     "name": "stderr",
     "output_type": "stream",
     "text": [
      "0it [00:00, ?it/s]\n"
     ]
    },
    {
     "name": "stdout",
     "output_type": "stream",
     "text": [
      "(8839, 174)\n",
      "##################################### Dataset 32\n"
     ]
    },
    {
     "name": "stderr",
     "output_type": "stream",
     "text": [
      "100%|████████████████████████████████████████████████████████████████████████████████████| 1/1 [00:00<00:00, 417.43it/s]\n"
     ]
    },
    {
     "name": "stdout",
     "output_type": "stream",
     "text": [
      "(11715, 143)\n",
      "##################################### Dataset 33\n"
     ]
    },
    {
     "name": "stderr",
     "output_type": "stream",
     "text": [
      "100%|████████████████████████████████████████████████████████████████████████████████████| 1/1 [00:00<00:00, 393.24it/s]\n"
     ]
    },
    {
     "name": "stdout",
     "output_type": "stream",
     "text": [
      "(10746, 192)\n",
      "##################################### Dataset 34\n"
     ]
    },
    {
     "name": "stderr",
     "output_type": "stream",
     "text": [
      "0it [00:00, ?it/s]\n"
     ]
    },
    {
     "name": "stdout",
     "output_type": "stream",
     "text": [
      "(9833, 211)\n",
      "##################################### Dataset 35\n"
     ]
    },
    {
     "name": "stderr",
     "output_type": "stream",
     "text": [
      "100%|████████████████████████████████████████████████████████████████████████████████████| 1/1 [00:00<00:00, 385.22it/s]\n"
     ]
    },
    {
     "name": "stdout",
     "output_type": "stream",
     "text": [
      "(11757, 214)\n",
      "##################################### Dataset 36\n"
     ]
    },
    {
     "name": "stderr",
     "output_type": "stream",
     "text": [
      "0it [00:00, ?it/s]\n"
     ]
    },
    {
     "name": "stdout",
     "output_type": "stream",
     "text": [
      "(4065, 230)\n",
      "##################################### Dataset 37\n"
     ]
    },
    {
     "name": "stderr",
     "output_type": "stream",
     "text": [
      "100%|████████████████████████████████████████████████████████████████████████████████████| 1/1 [00:00<00:00, 313.05it/s]\n"
     ]
    },
    {
     "name": "stdout",
     "output_type": "stream",
     "text": [
      "(15354, 196)\n",
      "##################################### Dataset 38\n"
     ]
    },
    {
     "name": "stderr",
     "output_type": "stream",
     "text": [
      "0it [00:00, ?it/s]\n"
     ]
    },
    {
     "name": "stdout",
     "output_type": "stream",
     "text": [
      "(1794, 214)\n",
      "##################################### Dataset 39\n"
     ]
    },
    {
     "name": "stderr",
     "output_type": "stream",
     "text": [
      "0it [00:00, ?it/s]\n"
     ]
    },
    {
     "name": "stdout",
     "output_type": "stream",
     "text": [
      "(2662, 187)\n",
      "##################################### Dataset 40\n"
     ]
    },
    {
     "name": "stderr",
     "output_type": "stream",
     "text": [
      "100%|████████████████████████████████████████████████████████████████████████████████████| 3/3 [00:00<00:00, 195.47it/s]\n"
     ]
    },
    {
     "name": "stdout",
     "output_type": "stream",
     "text": [
      "(30099, 233)\n",
      "##################################### Dataset 41\n"
     ]
    },
    {
     "name": "stderr",
     "output_type": "stream",
     "text": [
      "100%|████████████████████████████████████████████████████████████████████████████████████| 1/1 [00:00<00:00, 430.23it/s]\n"
     ]
    },
    {
     "name": "stdout",
     "output_type": "stream",
     "text": [
      "(10071, 201)\n",
      "##################################### Dataset 42\n"
     ]
    },
    {
     "name": "stderr",
     "output_type": "stream",
     "text": [
      "0it [00:00, ?it/s]\n"
     ]
    },
    {
     "name": "stdout",
     "output_type": "stream",
     "text": [
      "(7420, 220)\n",
      "##################################### Dataset 43\n"
     ]
    },
    {
     "name": "stderr",
     "output_type": "stream",
     "text": [
      "100%|████████████████████████████████████████████████████████████████████████████████████| 1/1 [00:00<00:00, 286.32it/s]\n"
     ]
    },
    {
     "name": "stdout",
     "output_type": "stream",
     "text": [
      "(15939, 160)\n",
      "##################################### Dataset 44\n"
     ]
    },
    {
     "name": "stderr",
     "output_type": "stream",
     "text": [
      "100%|████████████████████████████████████████████████████████████████████████████████████| 1/1 [00:00<00:00, 400.72it/s]\n"
     ]
    },
    {
     "name": "stdout",
     "output_type": "stream",
     "text": [
      "(10751, 142)\n",
      "##################################### Dataset 45\n"
     ]
    },
    {
     "name": "stderr",
     "output_type": "stream",
     "text": [
      "0it [00:00, ?it/s]\n"
     ]
    },
    {
     "name": "stdout",
     "output_type": "stream",
     "text": [
      "(417, 226)\n",
      "##################################### Dataset 46\n"
     ]
    },
    {
     "name": "stderr",
     "output_type": "stream",
     "text": [
      "100%|████████████████████████████████████████████████████████████████████████████████████| 1/1 [00:00<00:00, 386.86it/s]\n"
     ]
    },
    {
     "name": "stdout",
     "output_type": "stream",
     "text": [
      "(11291, 237)\n",
      "##################################### Dataset 47\n"
     ]
    },
    {
     "name": "stderr",
     "output_type": "stream",
     "text": [
      "0it [00:00, ?it/s]\n"
     ]
    },
    {
     "name": "stdout",
     "output_type": "stream",
     "text": [
      "(3732, 216)\n",
      "##################################### Dataset 48\n"
     ]
    },
    {
     "name": "stderr",
     "output_type": "stream",
     "text": [
      "0it [00:00, ?it/s]\n"
     ]
    },
    {
     "name": "stdout",
     "output_type": "stream",
     "text": [
      "(3175, 197)\n"
     ]
    }
   ],
   "source": [
    "for d in range(0,len(datasets)):\n",
    "    try:\n",
    "        print('##################################### Dataset '+str(d))\n",
    "        dataset_path=mainpath+datasets[d]\n",
    "        #reread single cell data since we need the updated version LUNG DEV\n",
    "        adata_sc_sub=sc.read(dataset_path+'/original_adata.h5ad')\n",
    "        adata_sc_sub.X=adata_sc_sub.X.todense()\n",
    "        markers=pd.read_csv(dataset_path+'/markers.csv',index_col=0)\n",
    "        total_genes=250\n",
    "        random_markers_perc=0\n",
    "        reads_x_cell=None\n",
    "        n_reads_x_gene=20\n",
    "        percentage_of_noise=0.01\n",
    "        misseg_percentage=0.01\n",
    "        adata_sc=subset_of_single_cell(adata_sc_sub,markers,random_markers_percentage=random_markers_perc,\n",
    "                                       reads_x_cell=reads_x_cell,number_of_markers=total_genes,\n",
    "                                      n_reads_x_gene=n_reads_x_gene,percentage_of_noise=percentage_of_noise,\n",
    "                                      ms_percentage=misseg_percentage)\n",
    "        adata_sc.layers['raw']=adata_sc.X.copy()\n",
    "        sc.pp.filter_cells(adata_sc,min_counts=10)\n",
    "        sc.pp.filter_cells(adata_sc,min_genes=3)\n",
    "        tag=datasets[d]\n",
    "        if not os.path.exists('../../data/scRNAseq_for_simulations_Xenium_like/'+str(tag)):\n",
    "            os.mkdir('../../data/scRNAseq_for_simulations_Xenium_like/'+str(tag))\n",
    "        adata_sc.obs.to_csv('../../data/scRNAseq_for_simulations_Xenium_like/'+str(tag)+'/obs.csv')\n",
    "        adata_sc.var.to_csv('../../data/scRNAseq_for_simulations_Xenium_like/'+str(tag)+'/var.csv')\n",
    "        adata_sc.to_df().to_csv('../../data/scRNAseq_for_simulations_Xenium_like/'+str(tag)+'/exp.csv')\n",
    "        adata_sc.write('../../data/scRNAseq_for_simulations_Xenium_like/'+str(tag)+'/adata.h5ad')\n",
    "    except:\n",
    "        print('Not possible '+ str(d))"
   ]
  },
  {
   "cell_type": "code",
   "execution_count": 21,
   "id": "7a0e22dc",
   "metadata": {},
   "outputs": [
    {
     "name": "stdout",
     "output_type": "stream",
     "text": [
      "ms_brain_multisection1.h5ad\n",
      "human_brain.h5ad\n",
      "ms_brain_multisection2.h5ad\n",
      "ms_brain_multisection3.h5ad\n",
      "realmouse_1.h5ad\n",
      "realmouse_2.h5ad\n",
      "realmouse_3.h5ad\n",
      "realmouse_4.h5ad\n",
      "hbreast_ilc_addon_set2.h5ad\n",
      "hbreast_ilc_addon_set4.h5ad\n",
      "hbreast_ilc_entiresample_set3.h5ad\n",
      "healthy_lung.h5ad\n",
      "human_alzheimers.h5ad\n",
      "human_gbm.h5ad\n",
      "human_spinal_chord_active.h5ad\n",
      "human_spinal_chord_inactive.h5ad\n",
      "h_breast_1.h5ad\n",
      "h_breast_2.h5ad\n",
      "lung_cancer.h5ad\n",
      "ms_brain_fullcoronal.h5ad\n",
      "ms_brain_partialcoronal.h5ad\n"
     ]
    }
   ],
   "source": [
    "for f in files[:]:\n",
    "    print(f)\n",
    "    adata=sc.read(output_dir+f)\n",
    "    tag=f.split('.')[0]\n",
    "    if not os.path.exists('../../data/formatted_for_R/unprocessed_adata_nuclei/'+str(tag)):\n",
    "        os.mkdir('../../data/formatted_for_R/unprocessed_adata_nuclei/'+str(tag))\n",
    "    adata.obs.to_csv('../../data/formatted_for_R/unprocessed_adata_nuclei/'+str(tag)+'/obs.csv')\n",
    "    adata.var.to_csv('../../data/formatted_for_R/unprocessed_adata_nuclei/'+str(tag)+'/var.csv')\n",
    "    adata.to_df().to_csv('../../data/formatted_for_R/unprocessed_adata_nuclei/'+str(tag)+'/exp.csv')"
   ]
  },
  {
   "cell_type": "code",
   "execution_count": null,
   "id": "f971162b",
   "metadata": {},
   "outputs": [],
   "source": []
  }
 ],
 "metadata": {
  "kernelspec": {
   "display_name": "xb",
   "language": "python",
   "name": "xb"
  },
  "language_info": {
   "codemirror_mode": {
    "name": "ipython",
    "version": 3
   },
   "file_extension": ".py",
   "mimetype": "text/x-python",
   "name": "python",
   "nbconvert_exporter": "python",
   "pygments_lexer": "ipython3",
   "version": "3.7.13"
  }
 },
 "nbformat": 4,
 "nbformat_minor": 5
}
