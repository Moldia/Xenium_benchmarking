{
 "cells": [
  {
   "cell_type": "code",
   "execution_count": 2,
   "id": "d0012525",
   "metadata": {},
   "outputs": [],
   "source": [
    "import matplotlib\n",
    "cmp=matplotlib.cm.get_cmap('nipy_spectral')"
   ]
  },
  {
   "cell_type": "code",
   "execution_count": 5,
   "id": "45fd1aff",
   "metadata": {},
   "outputs": [],
   "source": [
    "from mycolorpy import colorlist as mcp\n",
    "import numpy as np"
   ]
  },
  {
   "cell_type": "code",
   "execution_count": 17,
   "id": "762a52ca",
   "metadata": {},
   "outputs": [],
   "source": [
    "color1=mcp.gen_color(cmap='nipy_spectral',n=60)"
   ]
  },
  {
   "cell_type": "code",
   "execution_count": 18,
   "id": "bcded21b",
   "metadata": {},
   "outputs": [],
   "source": [
    "import random"
   ]
  },
  {
   "cell_type": "code",
   "execution_count": 19,
   "id": "415cafef",
   "metadata": {},
   "outputs": [],
   "source": [
    "random.shuffle(color1)"
   ]
  },
  {
   "cell_type": "code",
   "execution_count": 20,
   "id": "963dfd36",
   "metadata": {},
   "outputs": [],
   "source": [
    "import pandas as pd\n",
    "pd.DataFrame(color1).to_csv('/media/sergio/OLD_BORKA/Xenium_data/prerelease_2_msbrain/xenium_prerelease_jun20_mBrain_replicates/output/colormap.csv')"
   ]
  },
  {
   "cell_type": "code",
   "execution_count": null,
   "id": "f71d7878",
   "metadata": {},
   "outputs": [],
   "source": []
  }
 ],
 "metadata": {
  "kernelspec": {
   "display_name": "scanpy",
   "language": "python",
   "name": "scanpy"
  },
  "language_info": {
   "codemirror_mode": {
    "name": "ipython",
    "version": 3
   },
   "file_extension": ".py",
   "mimetype": "text/x-python",
   "name": "python",
   "nbconvert_exporter": "python",
   "pygments_lexer": "ipython3",
   "version": "3.7.11"
  }
 },
 "nbformat": 4,
 "nbformat_minor": 5
}
