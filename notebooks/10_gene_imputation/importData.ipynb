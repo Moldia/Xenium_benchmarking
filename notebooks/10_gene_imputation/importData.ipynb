{
 "cells": [
  {
   "cell_type": "markdown",
   "id": "fe12fbbc-9e41-4f3b-bb40-9cf52232629a",
   "metadata": {},
   "source": [
    "## Convert spatial data (needs updated scanpy)"
   ]
  },
  {
   "cell_type": "markdown",
   "id": "d29206fc-e4b8-4718-a22a-b0f78ee75bd9",
   "metadata": {},
   "source": [
    "### scRNAseq"
   ]
  },
  {
   "cell_type": "code",
   "execution_count": 22,
   "id": "6ec2a537-d39d-4457-b637-e2346eb5c1ed",
   "metadata": {},
   "outputs": [],
   "source": [
    "import pandas as pd\n",
    "import scanpy as sc\n",
    "import numpy as np"
   ]
  },
  {
   "cell_type": "code",
   "execution_count": 23,
   "id": "67bf4c86-1d32-4bbc-8232-bc90a6e1098e",
   "metadata": {
    "scrolled": true
   },
   "outputs": [],
   "source": [
    "RNA_data_2 = sc.read_h5ad('newData/WMB-10Xv2-subset02_ready_for_xenium_benchmark.h5ad')\n",
    "sc.pp.subsample(RNA_data_2, fraction=0.05)\n",
    "sc.pp.filter_genes(RNA_data_2, min_cells=1)\n",
    "RNA_data_2 = RNA_data_2[:, ~RNA_data_2.var['gene_symbol'].duplicated(keep='first')]"
   ]
  },
  {
   "cell_type": "code",
   "execution_count": 24,
   "id": "3c852eaf-0984-40eb-b18b-814d7710d197",
   "metadata": {},
   "outputs": [
    {
     "data": {
      "text/plain": [
       "Index(['cell_barcode', 'library_label_x', 'anatomical_division_label_x',\n",
       "       'library_label_y', 'anatomical_division_label_y', 'cluster_alias',\n",
       "       'library_method', 'region_of_interest_acronym', 'donor_label',\n",
       "       'donor_genotype', 'donor_sex', 'dataset_label', 'matrix_label', 'x',\n",
       "       'y', 'neurotransmitter', 'division', 'class', 'subclass', 'supertype',\n",
       "       'cluster', 'neurotransmitter_color', 'division_color', 'class_color',\n",
       "       'subclass_color', 'supertype_color', 'cluster_color',\n",
       "       'region_of_interest_order', 'region_of_interest_color'],\n",
       "      dtype='object')"
      ]
     },
     "execution_count": 24,
     "metadata": {},
     "output_type": "execute_result"
    }
   ],
   "source": [
    "RNA_data_2.obs.columns"
   ]
  },
  {
   "cell_type": "code",
   "execution_count": 25,
   "id": "0537c175-cd9c-4021-bc84-f81bf8061736",
   "metadata": {},
   "outputs": [
    {
     "data": {
      "text/plain": [
       "Index(['ENSMUSG00000051951', 'ENSMUSG00000089699', 'ENSMUSG00000102331',\n",
       "       'ENSMUSG00000102343', 'ENSMUSG00000025900', 'ENSMUSG00000025902',\n",
       "       'ENSMUSG00000033845', 'ENSMUSG00000025903', 'ENSMUSG00000033813',\n",
       "       'ENSMUSG00000002459',\n",
       "       ...\n",
       "       'ENSMUSG00000096808', 'ENSMUSG00000051412', 'ENSMUSG00000061654',\n",
       "       'ENSMUSG00000079834', 'ENSMUSG00000096506', 'ENSMUSG00000095552',\n",
       "       'ENSMUSG00000094350', 'ENSMUSG00000096237', 'ENSMUSG00000095742',\n",
       "       'ENSMUSG00000095041'],\n",
       "      dtype='object', name='gene_identifier', length=26474)"
      ]
     },
     "execution_count": 25,
     "metadata": {},
     "output_type": "execute_result"
    }
   ],
   "source": [
    "RNA_data_2.var.index"
   ]
  },
  {
   "cell_type": "code",
   "execution_count": 26,
   "id": "f43b12c5-2a03-4e56-841d-2854843a2e72",
   "metadata": {},
   "outputs": [
    {
     "data": {
      "text/plain": [
       "View of AnnData object with n_obs × n_vars = 13785 × 26474\n",
       "    obs: 'cell_barcode', 'library_label_x', 'anatomical_division_label_x', 'library_label_y', 'anatomical_division_label_y', 'cluster_alias', 'library_method', 'region_of_interest_acronym', 'donor_label', 'donor_genotype', 'donor_sex', 'dataset_label', 'matrix_label', 'x', 'y', 'neurotransmitter', 'division', 'class', 'subclass', 'supertype', 'cluster', 'neurotransmitter_color', 'division_color', 'class_color', 'subclass_color', 'supertype_color', 'cluster_color', 'region_of_interest_order', 'region_of_interest_color'\n",
       "    var: 'gene_symbol', 'name', 'comment', 'n_cells'"
      ]
     },
     "execution_count": 26,
     "metadata": {},
     "output_type": "execute_result"
    }
   ],
   "source": [
    "RNA_data_2"
   ]
  },
  {
   "cell_type": "code",
   "execution_count": 27,
   "id": "e05e70a7-f5f0-4d96-9d3e-541b392dca79",
   "metadata": {},
   "outputs": [],
   "source": [
    "pd.DataFrame(RNA_data_2.X.todense(), columns = list(RNA_data_2.var['gene_symbol']), index = list(RNA_data_2.obs.index)).T.to_csv('newData/scRNA_count.txt', sep='\\t', float_format='%.0f')"
   ]
  },
  {
   "cell_type": "code",
   "execution_count": 30,
   "id": "0365a074",
   "metadata": {},
   "outputs": [],
   "source": [
    "RNA_data_2.write_h5ad(filename='newData/WMB-10Xv2-subset02_ready_for_xenium_benchmark_subset.h5ad')"
   ]
  },
  {
   "cell_type": "markdown",
   "id": "4f7447b0-82a2-431e-b435-efcfafe7279d",
   "metadata": {},
   "source": [
    "### Xenium"
   ]
  },
  {
   "cell_type": "code",
   "execution_count": 31,
   "id": "817cfb29-5868-419a-8b15-df6ae26a0385",
   "metadata": {},
   "outputs": [
    {
     "name": "stdout",
     "output_type": "stream",
     "text": [
      "0.9.2\n"
     ]
    }
   ],
   "source": [
    "import pandas as pd\n",
    "import scanpy as sc\n",
    "import numpy as np\n",
    "import anndata\n",
    "print(anndata.__version__)"
   ]
  },
  {
   "cell_type": "code",
   "execution_count": 32,
   "id": "4a2d16c9-61f1-423c-afbb-bf56fe62d668",
   "metadata": {},
   "outputs": [],
   "source": [
    "Spatial_data_2 = sc.read_h5ad('newData/ms_brain_multisection1.h5ad')\n",
    "sc.pp.subsample(Spatial_data_2, fraction=0.01)"
   ]
  },
  {
   "cell_type": "code",
   "execution_count": 33,
   "id": "0050b814-ca90-4152-a409-2b8b4763e212",
   "metadata": {},
   "outputs": [
    {
     "data": {
      "text/html": [
       "<div>\n",
       "<style scoped>\n",
       "    .dataframe tbody tr th:only-of-type {\n",
       "        vertical-align: middle;\n",
       "    }\n",
       "\n",
       "    .dataframe tbody tr th {\n",
       "        vertical-align: top;\n",
       "    }\n",
       "\n",
       "    .dataframe thead th {\n",
       "        text-align: right;\n",
       "    }\n",
       "</style>\n",
       "<table border=\"1\" class=\"dataframe\">\n",
       "  <thead>\n",
       "    <tr style=\"text-align: right;\">\n",
       "      <th></th>\n",
       "      <th>cell_id</th>\n",
       "      <th>x_centroid</th>\n",
       "      <th>y_centroid</th>\n",
       "      <th>transcript_counts</th>\n",
       "      <th>control_probe_counts</th>\n",
       "      <th>control_codeword_counts</th>\n",
       "      <th>total_counts</th>\n",
       "      <th>cell_area</th>\n",
       "      <th>nucleus_area</th>\n",
       "    </tr>\n",
       "  </thead>\n",
       "  <tbody>\n",
       "    <tr>\n",
       "      <th>90832</th>\n",
       "      <td>90833</td>\n",
       "      <td>5823.691992</td>\n",
       "      <td>2712.051379</td>\n",
       "      <td>277</td>\n",
       "      <td>0</td>\n",
       "      <td>0</td>\n",
       "      <td>277</td>\n",
       "      <td>512.658906</td>\n",
       "      <td>48.046250</td>\n",
       "    </tr>\n",
       "    <tr>\n",
       "      <th>158997</th>\n",
       "      <td>158998</td>\n",
       "      <td>7517.363477</td>\n",
       "      <td>2256.782166</td>\n",
       "      <td>350</td>\n",
       "      <td>0</td>\n",
       "      <td>0</td>\n",
       "      <td>350</td>\n",
       "      <td>230.387188</td>\n",
       "      <td>69.360000</td>\n",
       "    </tr>\n",
       "    <tr>\n",
       "      <th>635</th>\n",
       "      <td>636</td>\n",
       "      <td>1653.728540</td>\n",
       "      <td>5274.607764</td>\n",
       "      <td>76</td>\n",
       "      <td>1</td>\n",
       "      <td>0</td>\n",
       "      <td>77</td>\n",
       "      <td>32.964063</td>\n",
       "      <td>15.895000</td>\n",
       "    </tr>\n",
       "    <tr>\n",
       "      <th>61504</th>\n",
       "      <td>61505</td>\n",
       "      <td>7746.951465</td>\n",
       "      <td>5547.483496</td>\n",
       "      <td>486</td>\n",
       "      <td>1</td>\n",
       "      <td>0</td>\n",
       "      <td>487</td>\n",
       "      <td>599.584687</td>\n",
       "      <td>41.182500</td>\n",
       "    </tr>\n",
       "    <tr>\n",
       "      <th>84824</th>\n",
       "      <td>84825</td>\n",
       "      <td>9201.830225</td>\n",
       "      <td>2024.420679</td>\n",
       "      <td>474</td>\n",
       "      <td>0</td>\n",
       "      <td>0</td>\n",
       "      <td>475</td>\n",
       "      <td>291.257812</td>\n",
       "      <td>77.442969</td>\n",
       "    </tr>\n",
       "    <tr>\n",
       "      <th>...</th>\n",
       "      <td>...</td>\n",
       "      <td>...</td>\n",
       "      <td>...</td>\n",
       "      <td>...</td>\n",
       "      <td>...</td>\n",
       "      <td>...</td>\n",
       "      <td>...</td>\n",
       "      <td>...</td>\n",
       "      <td>...</td>\n",
       "    </tr>\n",
       "    <tr>\n",
       "      <th>32936</th>\n",
       "      <td>32937</td>\n",
       "      <td>4468.304736</td>\n",
       "      <td>4129.319507</td>\n",
       "      <td>384</td>\n",
       "      <td>0</td>\n",
       "      <td>0</td>\n",
       "      <td>384</td>\n",
       "      <td>235.218906</td>\n",
       "      <td>77.939688</td>\n",
       "    </tr>\n",
       "    <tr>\n",
       "      <th>120787</th>\n",
       "      <td>120788</td>\n",
       "      <td>9241.787695</td>\n",
       "      <td>4487.567944</td>\n",
       "      <td>57</td>\n",
       "      <td>0</td>\n",
       "      <td>0</td>\n",
       "      <td>57</td>\n",
       "      <td>28.674219</td>\n",
       "      <td>11.469687</td>\n",
       "    </tr>\n",
       "    <tr>\n",
       "      <th>80981</th>\n",
       "      <td>80982</td>\n",
       "      <td>6382.961694</td>\n",
       "      <td>2208.255591</td>\n",
       "      <td>220</td>\n",
       "      <td>1</td>\n",
       "      <td>0</td>\n",
       "      <td>221</td>\n",
       "      <td>245.424219</td>\n",
       "      <td>40.685781</td>\n",
       "    </tr>\n",
       "    <tr>\n",
       "      <th>158489</th>\n",
       "      <td>158490</td>\n",
       "      <td>7464.743994</td>\n",
       "      <td>2402.174084</td>\n",
       "      <td>360</td>\n",
       "      <td>0</td>\n",
       "      <td>0</td>\n",
       "      <td>360</td>\n",
       "      <td>201.577500</td>\n",
       "      <td>63.309063</td>\n",
       "    </tr>\n",
       "    <tr>\n",
       "      <th>54619</th>\n",
       "      <td>54620</td>\n",
       "      <td>3815.010010</td>\n",
       "      <td>2824.826208</td>\n",
       "      <td>468</td>\n",
       "      <td>0</td>\n",
       "      <td>0</td>\n",
       "      <td>468</td>\n",
       "      <td>523.586719</td>\n",
       "      <td>35.357344</td>\n",
       "    </tr>\n",
       "  </tbody>\n",
       "</table>\n",
       "<p>1620 rows × 9 columns</p>\n",
       "</div>"
      ],
      "text/plain": [
       "        cell_id   x_centroid   y_centroid  transcript_counts  \\\n",
       "90832     90833  5823.691992  2712.051379                277   \n",
       "158997   158998  7517.363477  2256.782166                350   \n",
       "635         636  1653.728540  5274.607764                 76   \n",
       "61504     61505  7746.951465  5547.483496                486   \n",
       "84824     84825  9201.830225  2024.420679                474   \n",
       "...         ...          ...          ...                ...   \n",
       "32936     32937  4468.304736  4129.319507                384   \n",
       "120787   120788  9241.787695  4487.567944                 57   \n",
       "80981     80982  6382.961694  2208.255591                220   \n",
       "158489   158490  7464.743994  2402.174084                360   \n",
       "54619     54620  3815.010010  2824.826208                468   \n",
       "\n",
       "        control_probe_counts  control_codeword_counts  total_counts  \\\n",
       "90832                      0                        0           277   \n",
       "158997                     0                        0           350   \n",
       "635                        1                        0            77   \n",
       "61504                      1                        0           487   \n",
       "84824                      0                        0           475   \n",
       "...                      ...                      ...           ...   \n",
       "32936                      0                        0           384   \n",
       "120787                     0                        0            57   \n",
       "80981                      1                        0           221   \n",
       "158489                     0                        0           360   \n",
       "54619                      0                        0           468   \n",
       "\n",
       "         cell_area  nucleus_area  \n",
       "90832   512.658906     48.046250  \n",
       "158997  230.387188     69.360000  \n",
       "635      32.964063     15.895000  \n",
       "61504   599.584687     41.182500  \n",
       "84824   291.257812     77.442969  \n",
       "...            ...           ...  \n",
       "32936   235.218906     77.939688  \n",
       "120787   28.674219     11.469687  \n",
       "80981   245.424219     40.685781  \n",
       "158489  201.577500     63.309063  \n",
       "54619   523.586719     35.357344  \n",
       "\n",
       "[1620 rows x 9 columns]"
      ]
     },
     "execution_count": 33,
     "metadata": {},
     "output_type": "execute_result"
    }
   ],
   "source": [
    "Spatial_data_2.obs"
   ]
  },
  {
   "cell_type": "code",
   "execution_count": 34,
   "id": "89b0cd6c-0ec7-4c7b-aac5-b70a05c68cc1",
   "metadata": {},
   "outputs": [
    {
     "name": "stdout",
     "output_type": "stream",
     "text": [
      "                  X            Y\n",
      "90832   5823.691992  2712.051379\n",
      "158997  7517.363477  2256.782166\n",
      "635     1653.728540  5274.607764\n",
      "61504   7746.951465  5547.483496\n",
      "84824   9201.830225  2024.420679\n",
      "...             ...          ...\n",
      "32936   4468.304736  4129.319507\n",
      "120787  9241.787695  4487.567944\n",
      "80981   6382.961694  2208.255591\n",
      "158489  7464.743994  2402.174084\n",
      "54619   3815.010010  2824.826208\n",
      "\n",
      "[1620 rows x 2 columns]\n"
     ]
    }
   ],
   "source": [
    "locations_df = Spatial_data_2.obs[['x_centroid', 'y_centroid']]\n",
    "locations_df.columns = ['X', 'Y']\n",
    "print(locations_df)\n",
    "locations_df.to_csv('newData/Locations.txt', sep='\\t', index=False)"
   ]
  },
  {
   "cell_type": "code",
   "execution_count": 35,
   "id": "4e5910e9-b086-429f-8511-1262487bd894",
   "metadata": {},
   "outputs": [
    {
     "data": {
      "text/plain": [
       "gene                248\n",
       "negative_control     27\n",
       "Name: in_panel, dtype: int64"
      ]
     },
     "execution_count": 35,
     "metadata": {},
     "output_type": "execute_result"
    }
   ],
   "source": [
    "Spatial_data_2.var['in_panel'].value_counts()"
   ]
  },
  {
   "cell_type": "code",
   "execution_count": 37,
   "id": "e226c40c-4edf-4998-90e2-37f396fbdc4e",
   "metadata": {},
   "outputs": [],
   "source": [
    "Spatial_data_2 = Spatial_data_2[:, Spatial_data_2.var['in_panel']=='gene']"
   ]
  },
  {
   "cell_type": "code",
   "execution_count": 38,
   "id": "c22dad13-0017-4f7a-a0dd-ae04f7569ec0",
   "metadata": {
    "scrolled": true
   },
   "outputs": [],
   "source": [
    "pd.DataFrame(Spatial_data_2.X.todense(), columns = list(Spatial_data_2.var['gene_id'])).to_csv('newData/Insitu_count.txt', sep='\\t', index=False, float_format='%.0f')"
   ]
  },
  {
   "cell_type": "code",
   "execution_count": 39,
   "id": "0fec4546",
   "metadata": {},
   "outputs": [],
   "source": [
    "Spatial_data_2.write_h5ad(filename='newData/ms_brain_multisection1_subset.h5ad')"
   ]
  },
  {
   "cell_type": "markdown",
   "id": "dafa1945-a9fb-41e1-a78b-a32243b165fc",
   "metadata": {},
   "source": [
    "### Gene List"
   ]
  },
  {
   "cell_type": "code",
   "execution_count": 41,
   "id": "e09df3b5",
   "metadata": {},
   "outputs": [
    {
     "name": "stdout",
     "output_type": "stream",
     "text": [
      "Iteration 1 - Train List: ['Fezf2', 'Adgrl4', 'Cdh20', 'Cntn6', 'Kcnh5', 'Siglech', 'Pglyrp1', 'Epha4', 'Nell1', 'Kctd12', 'Gad2', 'Prox1', 'Hpcal1', 'Cort', '2010300C02Rik', 'Dner', 'Fos', 'Gad1', 'Nts', 'Garnl3', 'Slit2', 'Rasgrf2', 'Igfbp4', 'Lyz2', 'Myl4', 'Sox11', 'Sipa1l3', 'Sla', 'Vat1l', 'Vip', 'Cd24a', 'Mapk4', 'Foxp2', 'Pdzrn3', 'Kctd8', 'Slc44a5', 'Tmem163', 'Trp73', 'Gm19410', 'Pecam1', 'Aldh1a2', 'Sema5b', 'Tox', 'Nostrin', 'Cplx3', 'Arc', 'Chodl', 'Gfra2', 'Spi1', 'Pln', 'Npy2r', 'Col6a1', 'Meis2', 'Hapln1', 'Rims3', 'Rorb', 'Pkib', 'Cpne8', 'Rasl10a', 'Trpc4', 'Trbc2', 'Slc17a7', 'Eya4', 'Syndig1', 'Fibcd1', 'Ntsr2', 'Parm1', 'Syt6', 'Shisa6', 'Aqp4', 'Rprm', 'Gsg1l', 'Sox17', 'Mecom', 'Gadd45a', 'Gjb2', 'Cdh6', 'Igf2', 'Igsf21', 'Nrep', 'Cwh43', 'Slc6a3', 'Prph', 'Syt2', 'Emcn', 'Plekha2', 'Col1a1', 'Satb2', 'Cbln1', 'Prss35', 'Spp1', 'Cbln4', 'Sorcs3', 'Rfx4', 'Sdk2', 'Ndst4', 'Thsd7a', 'Arhgap12', 'Plch1', 'Pdgfra', 'Gfap', 'Cd53', 'Th', 'Laptm5', 'Car4', 'Myo16', 'Gng12', 'Zfpm2', 'Strip2', 'Kdr', 'Rbp4', 'Fn1', 'Prdm8', 'Gli3', 'Paqr5', 'Neurod6', 'Lypd6', 'Ppp1r1b', 'Zfp536', 'Slfn5', 'Arhgap25', 'Sema3e', 'Penk', 'Carmn', 'Stard5', 'Fhod3', 'Cldn5', 'Cspg4', 'Fgd5', 'Sntb1', 'Nwd2', 'Rnf152', 'Sema3d', 'Slc39a12', 'Ror1', 'Acsbg1', 'Pvalb', 'Bhlhe40', 'Tmem255a', 'Nrp2', 'Ccn2', 'Dcn', 'Cpne6', 'Bdnf', 'Cux2', 'Igfbp6', 'Pdzd2', 'Lamp5', 'Igf1', 'Dpyd', 'Dpy19l1', 'Zfp366', 'Necab1', 'Fign', 'Clmn', 'Sox10', 'Chat', 'Slc17a6', 'Gpr17', 'Ly6a', 'Galnt14', 'Igfbp5', 'Cpne4', 'Syt17', 'Prr16', 'Calb2', 'Pcsk5', 'Hs3st2', 'Plcxd2', 'Nr2f2', 'Ikzf1', 'Crh', 'Gjc3', 'Necab2', 'Cdh4', 'Gm2115', 'Pdyn', 'Inpp4b', 'Angpt1', 'Adamtsl1', 'Neto2', 'Pthlh', 'Adamts2', 'Sst', 'Mdga1', 'Arhgef28', 'Cntnap5b', 'Tle4', 'Fmod', 'Col19a1', 'Sema6a', 'Nxph3', 'Rxfp1', 'Orai2', 'Plcxd3', 'Ndst3', 'Chrm2', 'Cd93', 'Pou3f1', 'Pde7b', 'Rmst', 'Cdh9', 'Ano1', 'Cd300c2', 'Id2', 'Sncg', 'Npnt', 'Ebf3', 'Unc13c', 'Cyp1b1', 'Cdh13', 'Dkk3', 'Rspo2', 'Arhgap6', 'Hat1', 'Grik3', 'Tacr1', 'Wfs1', 'Cabp7', 'Vwc2l', 'Rab3b', 'Calb1', 'Gucy1a1'], Test List: ['Cobll1', 'Opalin', 'Cd68', 'Sema3a', 'Cacna2d2', 'Cntnap4', 'Spag16', 'Kcnmb2', 'Tanc1', 'Bhlhe22', 'Rspo1', 'Pip5k1b', 'Acvrl1', 'Acta2', 'Bcl11b', 'Htr1f', 'Cd44', 'Trem2', 'Tmem132d', 'Opn3', 'Slc13a4', 'Nrn1', 'Deptor', 'Pde11a', 'Btbd11']\n",
      "Iteration 2 - Train List: ['Cobll1', 'Opalin', 'Cd68', 'Sema3a', 'Cacna2d2', 'Cntnap4', 'Spag16', 'Kcnmb2', 'Tanc1', 'Bhlhe22', 'Rspo1', 'Pip5k1b', 'Acvrl1', 'Acta2', 'Bcl11b', 'Htr1f', 'Cd44', 'Trem2', 'Tmem132d', 'Opn3', 'Slc13a4', 'Nrn1', 'Deptor', 'Pde11a', 'Btbd11', 'Sox11', 'Sipa1l3', 'Sla', 'Vat1l', 'Vip', 'Cd24a', 'Mapk4', 'Foxp2', 'Pdzrn3', 'Kctd8', 'Slc44a5', 'Tmem163', 'Trp73', 'Gm19410', 'Pecam1', 'Aldh1a2', 'Sema5b', 'Tox', 'Nostrin', 'Cplx3', 'Arc', 'Chodl', 'Gfra2', 'Spi1', 'Pln', 'Npy2r', 'Col6a1', 'Meis2', 'Hapln1', 'Rims3', 'Rorb', 'Pkib', 'Cpne8', 'Rasl10a', 'Trpc4', 'Trbc2', 'Slc17a7', 'Eya4', 'Syndig1', 'Fibcd1', 'Ntsr2', 'Parm1', 'Syt6', 'Shisa6', 'Aqp4', 'Rprm', 'Gsg1l', 'Sox17', 'Mecom', 'Gadd45a', 'Gjb2', 'Cdh6', 'Igf2', 'Igsf21', 'Nrep', 'Cwh43', 'Slc6a3', 'Prph', 'Syt2', 'Emcn', 'Plekha2', 'Col1a1', 'Satb2', 'Cbln1', 'Prss35', 'Spp1', 'Cbln4', 'Sorcs3', 'Rfx4', 'Sdk2', 'Ndst4', 'Thsd7a', 'Arhgap12', 'Plch1', 'Pdgfra', 'Gfap', 'Cd53', 'Th', 'Laptm5', 'Car4', 'Myo16', 'Gng12', 'Zfpm2', 'Strip2', 'Kdr', 'Rbp4', 'Fn1', 'Prdm8', 'Gli3', 'Paqr5', 'Neurod6', 'Lypd6', 'Ppp1r1b', 'Zfp536', 'Slfn5', 'Arhgap25', 'Sema3e', 'Penk', 'Carmn', 'Stard5', 'Fhod3', 'Cldn5', 'Cspg4', 'Fgd5', 'Sntb1', 'Nwd2', 'Rnf152', 'Sema3d', 'Slc39a12', 'Ror1', 'Acsbg1', 'Pvalb', 'Bhlhe40', 'Tmem255a', 'Nrp2', 'Ccn2', 'Dcn', 'Cpne6', 'Bdnf', 'Cux2', 'Igfbp6', 'Pdzd2', 'Lamp5', 'Igf1', 'Dpyd', 'Dpy19l1', 'Zfp366', 'Necab1', 'Fign', 'Clmn', 'Sox10', 'Chat', 'Slc17a6', 'Gpr17', 'Ly6a', 'Galnt14', 'Igfbp5', 'Cpne4', 'Syt17', 'Prr16', 'Calb2', 'Pcsk5', 'Hs3st2', 'Plcxd2', 'Nr2f2', 'Ikzf1', 'Crh', 'Gjc3', 'Necab2', 'Cdh4', 'Gm2115', 'Pdyn', 'Inpp4b', 'Angpt1', 'Adamtsl1', 'Neto2', 'Pthlh', 'Adamts2', 'Sst', 'Mdga1', 'Arhgef28', 'Cntnap5b', 'Tle4', 'Fmod', 'Col19a1', 'Sema6a', 'Nxph3', 'Rxfp1', 'Orai2', 'Plcxd3', 'Ndst3', 'Chrm2', 'Cd93', 'Pou3f1', 'Pde7b', 'Rmst', 'Cdh9', 'Ano1', 'Cd300c2', 'Id2', 'Sncg', 'Npnt', 'Ebf3', 'Unc13c', 'Cyp1b1', 'Cdh13', 'Dkk3', 'Rspo2', 'Arhgap6', 'Hat1', 'Grik3', 'Tacr1', 'Wfs1', 'Cabp7', 'Vwc2l', 'Rab3b', 'Calb1', 'Gucy1a1'], Test List: ['Fezf2', 'Adgrl4', 'Cdh20', 'Cntn6', 'Kcnh5', 'Siglech', 'Pglyrp1', 'Epha4', 'Nell1', 'Kctd12', 'Gad2', 'Prox1', 'Hpcal1', 'Cort', '2010300C02Rik', 'Dner', 'Fos', 'Gad1', 'Nts', 'Garnl3', 'Slit2', 'Rasgrf2', 'Igfbp4', 'Lyz2', 'Myl4']\n",
      "Iteration 3 - Train List: ['Cobll1', 'Opalin', 'Cd68', 'Sema3a', 'Cacna2d2', 'Cntnap4', 'Spag16', 'Kcnmb2', 'Tanc1', 'Bhlhe22', 'Rspo1', 'Pip5k1b', 'Acvrl1', 'Acta2', 'Bcl11b', 'Htr1f', 'Cd44', 'Trem2', 'Tmem132d', 'Opn3', 'Slc13a4', 'Nrn1', 'Deptor', 'Pde11a', 'Btbd11', 'Fezf2', 'Adgrl4', 'Cdh20', 'Cntn6', 'Kcnh5', 'Siglech', 'Pglyrp1', 'Epha4', 'Nell1', 'Kctd12', 'Gad2', 'Prox1', 'Hpcal1', 'Cort', '2010300C02Rik', 'Dner', 'Fos', 'Gad1', 'Nts', 'Garnl3', 'Slit2', 'Rasgrf2', 'Igfbp4', 'Lyz2', 'Myl4', 'Npy2r', 'Col6a1', 'Meis2', 'Hapln1', 'Rims3', 'Rorb', 'Pkib', 'Cpne8', 'Rasl10a', 'Trpc4', 'Trbc2', 'Slc17a7', 'Eya4', 'Syndig1', 'Fibcd1', 'Ntsr2', 'Parm1', 'Syt6', 'Shisa6', 'Aqp4', 'Rprm', 'Gsg1l', 'Sox17', 'Mecom', 'Gadd45a', 'Gjb2', 'Cdh6', 'Igf2', 'Igsf21', 'Nrep', 'Cwh43', 'Slc6a3', 'Prph', 'Syt2', 'Emcn', 'Plekha2', 'Col1a1', 'Satb2', 'Cbln1', 'Prss35', 'Spp1', 'Cbln4', 'Sorcs3', 'Rfx4', 'Sdk2', 'Ndst4', 'Thsd7a', 'Arhgap12', 'Plch1', 'Pdgfra', 'Gfap', 'Cd53', 'Th', 'Laptm5', 'Car4', 'Myo16', 'Gng12', 'Zfpm2', 'Strip2', 'Kdr', 'Rbp4', 'Fn1', 'Prdm8', 'Gli3', 'Paqr5', 'Neurod6', 'Lypd6', 'Ppp1r1b', 'Zfp536', 'Slfn5', 'Arhgap25', 'Sema3e', 'Penk', 'Carmn', 'Stard5', 'Fhod3', 'Cldn5', 'Cspg4', 'Fgd5', 'Sntb1', 'Nwd2', 'Rnf152', 'Sema3d', 'Slc39a12', 'Ror1', 'Acsbg1', 'Pvalb', 'Bhlhe40', 'Tmem255a', 'Nrp2', 'Ccn2', 'Dcn', 'Cpne6', 'Bdnf', 'Cux2', 'Igfbp6', 'Pdzd2', 'Lamp5', 'Igf1', 'Dpyd', 'Dpy19l1', 'Zfp366', 'Necab1', 'Fign', 'Clmn', 'Sox10', 'Chat', 'Slc17a6', 'Gpr17', 'Ly6a', 'Galnt14', 'Igfbp5', 'Cpne4', 'Syt17', 'Prr16', 'Calb2', 'Pcsk5', 'Hs3st2', 'Plcxd2', 'Nr2f2', 'Ikzf1', 'Crh', 'Gjc3', 'Necab2', 'Cdh4', 'Gm2115', 'Pdyn', 'Inpp4b', 'Angpt1', 'Adamtsl1', 'Neto2', 'Pthlh', 'Adamts2', 'Sst', 'Mdga1', 'Arhgef28', 'Cntnap5b', 'Tle4', 'Fmod', 'Col19a1', 'Sema6a', 'Nxph3', 'Rxfp1', 'Orai2', 'Plcxd3', 'Ndst3', 'Chrm2', 'Cd93', 'Pou3f1', 'Pde7b', 'Rmst', 'Cdh9', 'Ano1', 'Cd300c2', 'Id2', 'Sncg', 'Npnt', 'Ebf3', 'Unc13c', 'Cyp1b1', 'Cdh13', 'Dkk3', 'Rspo2', 'Arhgap6', 'Hat1', 'Grik3', 'Tacr1', 'Wfs1', 'Cabp7', 'Vwc2l', 'Rab3b', 'Calb1', 'Gucy1a1'], Test List: ['Sox11', 'Sipa1l3', 'Sla', 'Vat1l', 'Vip', 'Cd24a', 'Mapk4', 'Foxp2', 'Pdzrn3', 'Kctd8', 'Slc44a5', 'Tmem163', 'Trp73', 'Gm19410', 'Pecam1', 'Aldh1a2', 'Sema5b', 'Tox', 'Nostrin', 'Cplx3', 'Arc', 'Chodl', 'Gfra2', 'Spi1', 'Pln']\n",
      "Iteration 4 - Train List: ['Cobll1', 'Opalin', 'Cd68', 'Sema3a', 'Cacna2d2', 'Cntnap4', 'Spag16', 'Kcnmb2', 'Tanc1', 'Bhlhe22', 'Rspo1', 'Pip5k1b', 'Acvrl1', 'Acta2', 'Bcl11b', 'Htr1f', 'Cd44', 'Trem2', 'Tmem132d', 'Opn3', 'Slc13a4', 'Nrn1', 'Deptor', 'Pde11a', 'Btbd11', 'Fezf2', 'Adgrl4', 'Cdh20', 'Cntn6', 'Kcnh5', 'Siglech', 'Pglyrp1', 'Epha4', 'Nell1', 'Kctd12', 'Gad2', 'Prox1', 'Hpcal1', 'Cort', '2010300C02Rik', 'Dner', 'Fos', 'Gad1', 'Nts', 'Garnl3', 'Slit2', 'Rasgrf2', 'Igfbp4', 'Lyz2', 'Myl4', 'Sox11', 'Sipa1l3', 'Sla', 'Vat1l', 'Vip', 'Cd24a', 'Mapk4', 'Foxp2', 'Pdzrn3', 'Kctd8', 'Slc44a5', 'Tmem163', 'Trp73', 'Gm19410', 'Pecam1', 'Aldh1a2', 'Sema5b', 'Tox', 'Nostrin', 'Cplx3', 'Arc', 'Chodl', 'Gfra2', 'Spi1', 'Pln', 'Gjb2', 'Cdh6', 'Igf2', 'Igsf21', 'Nrep', 'Cwh43', 'Slc6a3', 'Prph', 'Syt2', 'Emcn', 'Plekha2', 'Col1a1', 'Satb2', 'Cbln1', 'Prss35', 'Spp1', 'Cbln4', 'Sorcs3', 'Rfx4', 'Sdk2', 'Ndst4', 'Thsd7a', 'Arhgap12', 'Plch1', 'Pdgfra', 'Gfap', 'Cd53', 'Th', 'Laptm5', 'Car4', 'Myo16', 'Gng12', 'Zfpm2', 'Strip2', 'Kdr', 'Rbp4', 'Fn1', 'Prdm8', 'Gli3', 'Paqr5', 'Neurod6', 'Lypd6', 'Ppp1r1b', 'Zfp536', 'Slfn5', 'Arhgap25', 'Sema3e', 'Penk', 'Carmn', 'Stard5', 'Fhod3', 'Cldn5', 'Cspg4', 'Fgd5', 'Sntb1', 'Nwd2', 'Rnf152', 'Sema3d', 'Slc39a12', 'Ror1', 'Acsbg1', 'Pvalb', 'Bhlhe40', 'Tmem255a', 'Nrp2', 'Ccn2', 'Dcn', 'Cpne6', 'Bdnf', 'Cux2', 'Igfbp6', 'Pdzd2', 'Lamp5', 'Igf1', 'Dpyd', 'Dpy19l1', 'Zfp366', 'Necab1', 'Fign', 'Clmn', 'Sox10', 'Chat', 'Slc17a6', 'Gpr17', 'Ly6a', 'Galnt14', 'Igfbp5', 'Cpne4', 'Syt17', 'Prr16', 'Calb2', 'Pcsk5', 'Hs3st2', 'Plcxd2', 'Nr2f2', 'Ikzf1', 'Crh', 'Gjc3', 'Necab2', 'Cdh4', 'Gm2115', 'Pdyn', 'Inpp4b', 'Angpt1', 'Adamtsl1', 'Neto2', 'Pthlh', 'Adamts2', 'Sst', 'Mdga1', 'Arhgef28', 'Cntnap5b', 'Tle4', 'Fmod', 'Col19a1', 'Sema6a', 'Nxph3', 'Rxfp1', 'Orai2', 'Plcxd3', 'Ndst3', 'Chrm2', 'Cd93', 'Pou3f1', 'Pde7b', 'Rmst', 'Cdh9', 'Ano1', 'Cd300c2', 'Id2', 'Sncg', 'Npnt', 'Ebf3', 'Unc13c', 'Cyp1b1', 'Cdh13', 'Dkk3', 'Rspo2', 'Arhgap6', 'Hat1', 'Grik3', 'Tacr1', 'Wfs1', 'Cabp7', 'Vwc2l', 'Rab3b', 'Calb1', 'Gucy1a1'], Test List: ['Npy2r', 'Col6a1', 'Meis2', 'Hapln1', 'Rims3', 'Rorb', 'Pkib', 'Cpne8', 'Rasl10a', 'Trpc4', 'Trbc2', 'Slc17a7', 'Eya4', 'Syndig1', 'Fibcd1', 'Ntsr2', 'Parm1', 'Syt6', 'Shisa6', 'Aqp4', 'Rprm', 'Gsg1l', 'Sox17', 'Mecom', 'Gadd45a']\n",
      "Iteration 5 - Train List: ['Cobll1', 'Opalin', 'Cd68', 'Sema3a', 'Cacna2d2', 'Cntnap4', 'Spag16', 'Kcnmb2', 'Tanc1', 'Bhlhe22', 'Rspo1', 'Pip5k1b', 'Acvrl1', 'Acta2', 'Bcl11b', 'Htr1f', 'Cd44', 'Trem2', 'Tmem132d', 'Opn3', 'Slc13a4', 'Nrn1', 'Deptor', 'Pde11a', 'Btbd11', 'Fezf2', 'Adgrl4', 'Cdh20', 'Cntn6', 'Kcnh5', 'Siglech', 'Pglyrp1', 'Epha4', 'Nell1', 'Kctd12', 'Gad2', 'Prox1', 'Hpcal1', 'Cort', '2010300C02Rik', 'Dner', 'Fos', 'Gad1', 'Nts', 'Garnl3', 'Slit2', 'Rasgrf2', 'Igfbp4', 'Lyz2', 'Myl4', 'Sox11', 'Sipa1l3', 'Sla', 'Vat1l', 'Vip', 'Cd24a', 'Mapk4', 'Foxp2', 'Pdzrn3', 'Kctd8', 'Slc44a5', 'Tmem163', 'Trp73', 'Gm19410', 'Pecam1', 'Aldh1a2', 'Sema5b', 'Tox', 'Nostrin', 'Cplx3', 'Arc', 'Chodl', 'Gfra2', 'Spi1', 'Pln', 'Npy2r', 'Col6a1', 'Meis2', 'Hapln1', 'Rims3', 'Rorb', 'Pkib', 'Cpne8', 'Rasl10a', 'Trpc4', 'Trbc2', 'Slc17a7', 'Eya4', 'Syndig1', 'Fibcd1', 'Ntsr2', 'Parm1', 'Syt6', 'Shisa6', 'Aqp4', 'Rprm', 'Gsg1l', 'Sox17', 'Mecom', 'Gadd45a', 'Gfap', 'Cd53', 'Th', 'Laptm5', 'Car4', 'Myo16', 'Gng12', 'Zfpm2', 'Strip2', 'Kdr', 'Rbp4', 'Fn1', 'Prdm8', 'Gli3', 'Paqr5', 'Neurod6', 'Lypd6', 'Ppp1r1b', 'Zfp536', 'Slfn5', 'Arhgap25', 'Sema3e', 'Penk', 'Carmn', 'Stard5', 'Fhod3', 'Cldn5', 'Cspg4', 'Fgd5', 'Sntb1', 'Nwd2', 'Rnf152', 'Sema3d', 'Slc39a12', 'Ror1', 'Acsbg1', 'Pvalb', 'Bhlhe40', 'Tmem255a', 'Nrp2', 'Ccn2', 'Dcn', 'Cpne6', 'Bdnf', 'Cux2', 'Igfbp6', 'Pdzd2', 'Lamp5', 'Igf1', 'Dpyd', 'Dpy19l1', 'Zfp366', 'Necab1', 'Fign', 'Clmn', 'Sox10', 'Chat', 'Slc17a6', 'Gpr17', 'Ly6a', 'Galnt14', 'Igfbp5', 'Cpne4', 'Syt17', 'Prr16', 'Calb2', 'Pcsk5', 'Hs3st2', 'Plcxd2', 'Nr2f2', 'Ikzf1', 'Crh', 'Gjc3', 'Necab2', 'Cdh4', 'Gm2115', 'Pdyn', 'Inpp4b', 'Angpt1', 'Adamtsl1', 'Neto2', 'Pthlh', 'Adamts2', 'Sst', 'Mdga1', 'Arhgef28', 'Cntnap5b', 'Tle4', 'Fmod', 'Col19a1', 'Sema6a', 'Nxph3', 'Rxfp1', 'Orai2', 'Plcxd3', 'Ndst3', 'Chrm2', 'Cd93', 'Pou3f1', 'Pde7b', 'Rmst', 'Cdh9', 'Ano1', 'Cd300c2', 'Id2', 'Sncg', 'Npnt', 'Ebf3', 'Unc13c', 'Cyp1b1', 'Cdh13', 'Dkk3', 'Rspo2', 'Arhgap6', 'Hat1', 'Grik3', 'Tacr1', 'Wfs1', 'Cabp7', 'Vwc2l', 'Rab3b', 'Calb1', 'Gucy1a1'], Test List: ['Gjb2', 'Cdh6', 'Igf2', 'Igsf21', 'Nrep', 'Cwh43', 'Slc6a3', 'Prph', 'Syt2', 'Emcn', 'Plekha2', 'Col1a1', 'Satb2', 'Cbln1', 'Prss35', 'Spp1', 'Cbln4', 'Sorcs3', 'Rfx4', 'Sdk2', 'Ndst4', 'Thsd7a', 'Arhgap12', 'Plch1', 'Pdgfra']\n",
      "Iteration 6 - Train List: ['Cobll1', 'Opalin', 'Cd68', 'Sema3a', 'Cacna2d2', 'Cntnap4', 'Spag16', 'Kcnmb2', 'Tanc1', 'Bhlhe22', 'Rspo1', 'Pip5k1b', 'Acvrl1', 'Acta2', 'Bcl11b', 'Htr1f', 'Cd44', 'Trem2', 'Tmem132d', 'Opn3', 'Slc13a4', 'Nrn1', 'Deptor', 'Pde11a', 'Btbd11', 'Fezf2', 'Adgrl4', 'Cdh20', 'Cntn6', 'Kcnh5', 'Siglech', 'Pglyrp1', 'Epha4', 'Nell1', 'Kctd12', 'Gad2', 'Prox1', 'Hpcal1', 'Cort', '2010300C02Rik', 'Dner', 'Fos', 'Gad1', 'Nts', 'Garnl3', 'Slit2', 'Rasgrf2', 'Igfbp4', 'Lyz2', 'Myl4', 'Sox11', 'Sipa1l3', 'Sla', 'Vat1l', 'Vip', 'Cd24a', 'Mapk4', 'Foxp2', 'Pdzrn3', 'Kctd8', 'Slc44a5', 'Tmem163', 'Trp73', 'Gm19410', 'Pecam1', 'Aldh1a2', 'Sema5b', 'Tox', 'Nostrin', 'Cplx3', 'Arc', 'Chodl', 'Gfra2', 'Spi1', 'Pln', 'Npy2r', 'Col6a1', 'Meis2', 'Hapln1', 'Rims3', 'Rorb', 'Pkib', 'Cpne8', 'Rasl10a', 'Trpc4', 'Trbc2', 'Slc17a7', 'Eya4', 'Syndig1', 'Fibcd1', 'Ntsr2', 'Parm1', 'Syt6', 'Shisa6', 'Aqp4', 'Rprm', 'Gsg1l', 'Sox17', 'Mecom', 'Gadd45a', 'Gjb2', 'Cdh6', 'Igf2', 'Igsf21', 'Nrep', 'Cwh43', 'Slc6a3', 'Prph', 'Syt2', 'Emcn', 'Plekha2', 'Col1a1', 'Satb2', 'Cbln1', 'Prss35', 'Spp1', 'Cbln4', 'Sorcs3', 'Rfx4', 'Sdk2', 'Ndst4', 'Thsd7a', 'Arhgap12', 'Plch1', 'Pdgfra', 'Fhod3', 'Cldn5', 'Cspg4', 'Fgd5', 'Sntb1', 'Nwd2', 'Rnf152', 'Sema3d', 'Slc39a12', 'Ror1', 'Acsbg1', 'Pvalb', 'Bhlhe40', 'Tmem255a', 'Nrp2', 'Ccn2', 'Dcn', 'Cpne6', 'Bdnf', 'Cux2', 'Igfbp6', 'Pdzd2', 'Lamp5', 'Igf1', 'Dpyd', 'Dpy19l1', 'Zfp366', 'Necab1', 'Fign', 'Clmn', 'Sox10', 'Chat', 'Slc17a6', 'Gpr17', 'Ly6a', 'Galnt14', 'Igfbp5', 'Cpne4', 'Syt17', 'Prr16', 'Calb2', 'Pcsk5', 'Hs3st2', 'Plcxd2', 'Nr2f2', 'Ikzf1', 'Crh', 'Gjc3', 'Necab2', 'Cdh4', 'Gm2115', 'Pdyn', 'Inpp4b', 'Angpt1', 'Adamtsl1', 'Neto2', 'Pthlh', 'Adamts2', 'Sst', 'Mdga1', 'Arhgef28', 'Cntnap5b', 'Tle4', 'Fmod', 'Col19a1', 'Sema6a', 'Nxph3', 'Rxfp1', 'Orai2', 'Plcxd3', 'Ndst3', 'Chrm2', 'Cd93', 'Pou3f1', 'Pde7b', 'Rmst', 'Cdh9', 'Ano1', 'Cd300c2', 'Id2', 'Sncg', 'Npnt', 'Ebf3', 'Unc13c', 'Cyp1b1', 'Cdh13', 'Dkk3', 'Rspo2', 'Arhgap6', 'Hat1', 'Grik3', 'Tacr1', 'Wfs1', 'Cabp7', 'Vwc2l', 'Rab3b', 'Calb1', 'Gucy1a1'], Test List: ['Gfap', 'Cd53', 'Th', 'Laptm5', 'Car4', 'Myo16', 'Gng12', 'Zfpm2', 'Strip2', 'Kdr', 'Rbp4', 'Fn1', 'Prdm8', 'Gli3', 'Paqr5', 'Neurod6', 'Lypd6', 'Ppp1r1b', 'Zfp536', 'Slfn5', 'Arhgap25', 'Sema3e', 'Penk', 'Carmn', 'Stard5']\n",
      "Iteration 7 - Train List: ['Cobll1', 'Opalin', 'Cd68', 'Sema3a', 'Cacna2d2', 'Cntnap4', 'Spag16', 'Kcnmb2', 'Tanc1', 'Bhlhe22', 'Rspo1', 'Pip5k1b', 'Acvrl1', 'Acta2', 'Bcl11b', 'Htr1f', 'Cd44', 'Trem2', 'Tmem132d', 'Opn3', 'Slc13a4', 'Nrn1', 'Deptor', 'Pde11a', 'Btbd11', 'Fezf2', 'Adgrl4', 'Cdh20', 'Cntn6', 'Kcnh5', 'Siglech', 'Pglyrp1', 'Epha4', 'Nell1', 'Kctd12', 'Gad2', 'Prox1', 'Hpcal1', 'Cort', '2010300C02Rik', 'Dner', 'Fos', 'Gad1', 'Nts', 'Garnl3', 'Slit2', 'Rasgrf2', 'Igfbp4', 'Lyz2', 'Myl4', 'Sox11', 'Sipa1l3', 'Sla', 'Vat1l', 'Vip', 'Cd24a', 'Mapk4', 'Foxp2', 'Pdzrn3', 'Kctd8', 'Slc44a5', 'Tmem163', 'Trp73', 'Gm19410', 'Pecam1', 'Aldh1a2', 'Sema5b', 'Tox', 'Nostrin', 'Cplx3', 'Arc', 'Chodl', 'Gfra2', 'Spi1', 'Pln', 'Npy2r', 'Col6a1', 'Meis2', 'Hapln1', 'Rims3', 'Rorb', 'Pkib', 'Cpne8', 'Rasl10a', 'Trpc4', 'Trbc2', 'Slc17a7', 'Eya4', 'Syndig1', 'Fibcd1', 'Ntsr2', 'Parm1', 'Syt6', 'Shisa6', 'Aqp4', 'Rprm', 'Gsg1l', 'Sox17', 'Mecom', 'Gadd45a', 'Gjb2', 'Cdh6', 'Igf2', 'Igsf21', 'Nrep', 'Cwh43', 'Slc6a3', 'Prph', 'Syt2', 'Emcn', 'Plekha2', 'Col1a1', 'Satb2', 'Cbln1', 'Prss35', 'Spp1', 'Cbln4', 'Sorcs3', 'Rfx4', 'Sdk2', 'Ndst4', 'Thsd7a', 'Arhgap12', 'Plch1', 'Pdgfra', 'Gfap', 'Cd53', 'Th', 'Laptm5', 'Car4', 'Myo16', 'Gng12', 'Zfpm2', 'Strip2', 'Kdr', 'Rbp4', 'Fn1', 'Prdm8', 'Gli3', 'Paqr5', 'Neurod6', 'Lypd6', 'Ppp1r1b', 'Zfp536', 'Slfn5', 'Arhgap25', 'Sema3e', 'Penk', 'Carmn', 'Stard5', 'Dpy19l1', 'Zfp366', 'Necab1', 'Fign', 'Clmn', 'Sox10', 'Chat', 'Slc17a6', 'Gpr17', 'Ly6a', 'Galnt14', 'Igfbp5', 'Cpne4', 'Syt17', 'Prr16', 'Calb2', 'Pcsk5', 'Hs3st2', 'Plcxd2', 'Nr2f2', 'Ikzf1', 'Crh', 'Gjc3', 'Necab2', 'Cdh4', 'Gm2115', 'Pdyn', 'Inpp4b', 'Angpt1', 'Adamtsl1', 'Neto2', 'Pthlh', 'Adamts2', 'Sst', 'Mdga1', 'Arhgef28', 'Cntnap5b', 'Tle4', 'Fmod', 'Col19a1', 'Sema6a', 'Nxph3', 'Rxfp1', 'Orai2', 'Plcxd3', 'Ndst3', 'Chrm2', 'Cd93', 'Pou3f1', 'Pde7b', 'Rmst', 'Cdh9', 'Ano1', 'Cd300c2', 'Id2', 'Sncg', 'Npnt', 'Ebf3', 'Unc13c', 'Cyp1b1', 'Cdh13', 'Dkk3', 'Rspo2', 'Arhgap6', 'Hat1', 'Grik3', 'Tacr1', 'Wfs1', 'Cabp7', 'Vwc2l', 'Rab3b', 'Calb1', 'Gucy1a1'], Test List: ['Fhod3', 'Cldn5', 'Cspg4', 'Fgd5', 'Sntb1', 'Nwd2', 'Rnf152', 'Sema3d', 'Slc39a12', 'Ror1', 'Acsbg1', 'Pvalb', 'Bhlhe40', 'Tmem255a', 'Nrp2', 'Ccn2', 'Dcn', 'Cpne6', 'Bdnf', 'Cux2', 'Igfbp6', 'Pdzd2', 'Lamp5', 'Igf1', 'Dpyd']\n",
      "Iteration 8 - Train List: ['Cobll1', 'Opalin', 'Cd68', 'Sema3a', 'Cacna2d2', 'Cntnap4', 'Spag16', 'Kcnmb2', 'Tanc1', 'Bhlhe22', 'Rspo1', 'Pip5k1b', 'Acvrl1', 'Acta2', 'Bcl11b', 'Htr1f', 'Cd44', 'Trem2', 'Tmem132d', 'Opn3', 'Slc13a4', 'Nrn1', 'Deptor', 'Pde11a', 'Btbd11', 'Fezf2', 'Adgrl4', 'Cdh20', 'Cntn6', 'Kcnh5', 'Siglech', 'Pglyrp1', 'Epha4', 'Nell1', 'Kctd12', 'Gad2', 'Prox1', 'Hpcal1', 'Cort', '2010300C02Rik', 'Dner', 'Fos', 'Gad1', 'Nts', 'Garnl3', 'Slit2', 'Rasgrf2', 'Igfbp4', 'Lyz2', 'Myl4', 'Sox11', 'Sipa1l3', 'Sla', 'Vat1l', 'Vip', 'Cd24a', 'Mapk4', 'Foxp2', 'Pdzrn3', 'Kctd8', 'Slc44a5', 'Tmem163', 'Trp73', 'Gm19410', 'Pecam1', 'Aldh1a2', 'Sema5b', 'Tox', 'Nostrin', 'Cplx3', 'Arc', 'Chodl', 'Gfra2', 'Spi1', 'Pln', 'Npy2r', 'Col6a1', 'Meis2', 'Hapln1', 'Rims3', 'Rorb', 'Pkib', 'Cpne8', 'Rasl10a', 'Trpc4', 'Trbc2', 'Slc17a7', 'Eya4', 'Syndig1', 'Fibcd1', 'Ntsr2', 'Parm1', 'Syt6', 'Shisa6', 'Aqp4', 'Rprm', 'Gsg1l', 'Sox17', 'Mecom', 'Gadd45a', 'Gjb2', 'Cdh6', 'Igf2', 'Igsf21', 'Nrep', 'Cwh43', 'Slc6a3', 'Prph', 'Syt2', 'Emcn', 'Plekha2', 'Col1a1', 'Satb2', 'Cbln1', 'Prss35', 'Spp1', 'Cbln4', 'Sorcs3', 'Rfx4', 'Sdk2', 'Ndst4', 'Thsd7a', 'Arhgap12', 'Plch1', 'Pdgfra', 'Gfap', 'Cd53', 'Th', 'Laptm5', 'Car4', 'Myo16', 'Gng12', 'Zfpm2', 'Strip2', 'Kdr', 'Rbp4', 'Fn1', 'Prdm8', 'Gli3', 'Paqr5', 'Neurod6', 'Lypd6', 'Ppp1r1b', 'Zfp536', 'Slfn5', 'Arhgap25', 'Sema3e', 'Penk', 'Carmn', 'Stard5', 'Fhod3', 'Cldn5', 'Cspg4', 'Fgd5', 'Sntb1', 'Nwd2', 'Rnf152', 'Sema3d', 'Slc39a12', 'Ror1', 'Acsbg1', 'Pvalb', 'Bhlhe40', 'Tmem255a', 'Nrp2', 'Ccn2', 'Dcn', 'Cpne6', 'Bdnf', 'Cux2', 'Igfbp6', 'Pdzd2', 'Lamp5', 'Igf1', 'Dpyd', 'Gm2115', 'Pdyn', 'Inpp4b', 'Angpt1', 'Adamtsl1', 'Neto2', 'Pthlh', 'Adamts2', 'Sst', 'Mdga1', 'Arhgef28', 'Cntnap5b', 'Tle4', 'Fmod', 'Col19a1', 'Sema6a', 'Nxph3', 'Rxfp1', 'Orai2', 'Plcxd3', 'Ndst3', 'Chrm2', 'Cd93', 'Pou3f1', 'Pde7b', 'Rmst', 'Cdh9', 'Ano1', 'Cd300c2', 'Id2', 'Sncg', 'Npnt', 'Ebf3', 'Unc13c', 'Cyp1b1', 'Cdh13', 'Dkk3', 'Rspo2', 'Arhgap6', 'Hat1', 'Grik3', 'Tacr1', 'Wfs1', 'Cabp7', 'Vwc2l', 'Rab3b', 'Calb1', 'Gucy1a1'], Test List: ['Dpy19l1', 'Zfp366', 'Necab1', 'Fign', 'Clmn', 'Sox10', 'Chat', 'Slc17a6', 'Gpr17', 'Ly6a', 'Galnt14', 'Igfbp5', 'Cpne4', 'Syt17', 'Prr16', 'Calb2', 'Pcsk5', 'Hs3st2', 'Plcxd2', 'Nr2f2', 'Ikzf1', 'Crh', 'Gjc3', 'Necab2', 'Cdh4']\n",
      "Iteration 9 - Train List: ['Cobll1', 'Opalin', 'Cd68', 'Sema3a', 'Cacna2d2', 'Cntnap4', 'Spag16', 'Kcnmb2', 'Tanc1', 'Bhlhe22', 'Rspo1', 'Pip5k1b', 'Acvrl1', 'Acta2', 'Bcl11b', 'Htr1f', 'Cd44', 'Trem2', 'Tmem132d', 'Opn3', 'Slc13a4', 'Nrn1', 'Deptor', 'Pde11a', 'Btbd11', 'Fezf2', 'Adgrl4', 'Cdh20', 'Cntn6', 'Kcnh5', 'Siglech', 'Pglyrp1', 'Epha4', 'Nell1', 'Kctd12', 'Gad2', 'Prox1', 'Hpcal1', 'Cort', '2010300C02Rik', 'Dner', 'Fos', 'Gad1', 'Nts', 'Garnl3', 'Slit2', 'Rasgrf2', 'Igfbp4', 'Lyz2', 'Myl4', 'Sox11', 'Sipa1l3', 'Sla', 'Vat1l', 'Vip', 'Cd24a', 'Mapk4', 'Foxp2', 'Pdzrn3', 'Kctd8', 'Slc44a5', 'Tmem163', 'Trp73', 'Gm19410', 'Pecam1', 'Aldh1a2', 'Sema5b', 'Tox', 'Nostrin', 'Cplx3', 'Arc', 'Chodl', 'Gfra2', 'Spi1', 'Pln', 'Npy2r', 'Col6a1', 'Meis2', 'Hapln1', 'Rims3', 'Rorb', 'Pkib', 'Cpne8', 'Rasl10a', 'Trpc4', 'Trbc2', 'Slc17a7', 'Eya4', 'Syndig1', 'Fibcd1', 'Ntsr2', 'Parm1', 'Syt6', 'Shisa6', 'Aqp4', 'Rprm', 'Gsg1l', 'Sox17', 'Mecom', 'Gadd45a', 'Gjb2', 'Cdh6', 'Igf2', 'Igsf21', 'Nrep', 'Cwh43', 'Slc6a3', 'Prph', 'Syt2', 'Emcn', 'Plekha2', 'Col1a1', 'Satb2', 'Cbln1', 'Prss35', 'Spp1', 'Cbln4', 'Sorcs3', 'Rfx4', 'Sdk2', 'Ndst4', 'Thsd7a', 'Arhgap12', 'Plch1', 'Pdgfra', 'Gfap', 'Cd53', 'Th', 'Laptm5', 'Car4', 'Myo16', 'Gng12', 'Zfpm2', 'Strip2', 'Kdr', 'Rbp4', 'Fn1', 'Prdm8', 'Gli3', 'Paqr5', 'Neurod6', 'Lypd6', 'Ppp1r1b', 'Zfp536', 'Slfn5', 'Arhgap25', 'Sema3e', 'Penk', 'Carmn', 'Stard5', 'Fhod3', 'Cldn5', 'Cspg4', 'Fgd5', 'Sntb1', 'Nwd2', 'Rnf152', 'Sema3d', 'Slc39a12', 'Ror1', 'Acsbg1', 'Pvalb', 'Bhlhe40', 'Tmem255a', 'Nrp2', 'Ccn2', 'Dcn', 'Cpne6', 'Bdnf', 'Cux2', 'Igfbp6', 'Pdzd2', 'Lamp5', 'Igf1', 'Dpyd', 'Dpy19l1', 'Zfp366', 'Necab1', 'Fign', 'Clmn', 'Sox10', 'Chat', 'Slc17a6', 'Gpr17', 'Ly6a', 'Galnt14', 'Igfbp5', 'Cpne4', 'Syt17', 'Prr16', 'Calb2', 'Pcsk5', 'Hs3st2', 'Plcxd2', 'Nr2f2', 'Ikzf1', 'Crh', 'Gjc3', 'Necab2', 'Cdh4', 'Pde7b', 'Rmst', 'Cdh9', 'Ano1', 'Cd300c2', 'Id2', 'Sncg', 'Npnt', 'Ebf3', 'Unc13c', 'Cyp1b1', 'Cdh13', 'Dkk3', 'Rspo2', 'Arhgap6', 'Hat1', 'Grik3', 'Tacr1', 'Wfs1', 'Cabp7', 'Vwc2l', 'Rab3b', 'Calb1', 'Gucy1a1'], Test List: ['Gm2115', 'Pdyn', 'Inpp4b', 'Angpt1', 'Adamtsl1', 'Neto2', 'Pthlh', 'Adamts2', 'Sst', 'Mdga1', 'Arhgef28', 'Cntnap5b', 'Tle4', 'Fmod', 'Col19a1', 'Sema6a', 'Nxph3', 'Rxfp1', 'Orai2', 'Plcxd3', 'Ndst3', 'Chrm2', 'Cd93', 'Pou3f1']\n",
      "Iteration 10 - Train List: ['Cobll1', 'Opalin', 'Cd68', 'Sema3a', 'Cacna2d2', 'Cntnap4', 'Spag16', 'Kcnmb2', 'Tanc1', 'Bhlhe22', 'Rspo1', 'Pip5k1b', 'Acvrl1', 'Acta2', 'Bcl11b', 'Htr1f', 'Cd44', 'Trem2', 'Tmem132d', 'Opn3', 'Slc13a4', 'Nrn1', 'Deptor', 'Pde11a', 'Btbd11', 'Fezf2', 'Adgrl4', 'Cdh20', 'Cntn6', 'Kcnh5', 'Siglech', 'Pglyrp1', 'Epha4', 'Nell1', 'Kctd12', 'Gad2', 'Prox1', 'Hpcal1', 'Cort', '2010300C02Rik', 'Dner', 'Fos', 'Gad1', 'Nts', 'Garnl3', 'Slit2', 'Rasgrf2', 'Igfbp4', 'Lyz2', 'Myl4', 'Sox11', 'Sipa1l3', 'Sla', 'Vat1l', 'Vip', 'Cd24a', 'Mapk4', 'Foxp2', 'Pdzrn3', 'Kctd8', 'Slc44a5', 'Tmem163', 'Trp73', 'Gm19410', 'Pecam1', 'Aldh1a2', 'Sema5b', 'Tox', 'Nostrin', 'Cplx3', 'Arc', 'Chodl', 'Gfra2', 'Spi1', 'Pln', 'Npy2r', 'Col6a1', 'Meis2', 'Hapln1', 'Rims3', 'Rorb', 'Pkib', 'Cpne8', 'Rasl10a', 'Trpc4', 'Trbc2', 'Slc17a7', 'Eya4', 'Syndig1', 'Fibcd1', 'Ntsr2', 'Parm1', 'Syt6', 'Shisa6', 'Aqp4', 'Rprm', 'Gsg1l', 'Sox17', 'Mecom', 'Gadd45a', 'Gjb2', 'Cdh6', 'Igf2', 'Igsf21', 'Nrep', 'Cwh43', 'Slc6a3', 'Prph', 'Syt2', 'Emcn', 'Plekha2', 'Col1a1', 'Satb2', 'Cbln1', 'Prss35', 'Spp1', 'Cbln4', 'Sorcs3', 'Rfx4', 'Sdk2', 'Ndst4', 'Thsd7a', 'Arhgap12', 'Plch1', 'Pdgfra', 'Gfap', 'Cd53', 'Th', 'Laptm5', 'Car4', 'Myo16', 'Gng12', 'Zfpm2', 'Strip2', 'Kdr', 'Rbp4', 'Fn1', 'Prdm8', 'Gli3', 'Paqr5', 'Neurod6', 'Lypd6', 'Ppp1r1b', 'Zfp536', 'Slfn5', 'Arhgap25', 'Sema3e', 'Penk', 'Carmn', 'Stard5', 'Fhod3', 'Cldn5', 'Cspg4', 'Fgd5', 'Sntb1', 'Nwd2', 'Rnf152', 'Sema3d', 'Slc39a12', 'Ror1', 'Acsbg1', 'Pvalb', 'Bhlhe40', 'Tmem255a', 'Nrp2', 'Ccn2', 'Dcn', 'Cpne6', 'Bdnf', 'Cux2', 'Igfbp6', 'Pdzd2', 'Lamp5', 'Igf1', 'Dpyd', 'Dpy19l1', 'Zfp366', 'Necab1', 'Fign', 'Clmn', 'Sox10', 'Chat', 'Slc17a6', 'Gpr17', 'Ly6a', 'Galnt14', 'Igfbp5', 'Cpne4', 'Syt17', 'Prr16', 'Calb2', 'Pcsk5', 'Hs3st2', 'Plcxd2', 'Nr2f2', 'Ikzf1', 'Crh', 'Gjc3', 'Necab2', 'Cdh4', 'Gm2115', 'Pdyn', 'Inpp4b', 'Angpt1', 'Adamtsl1', 'Neto2', 'Pthlh', 'Adamts2', 'Sst', 'Mdga1', 'Arhgef28', 'Cntnap5b', 'Tle4', 'Fmod', 'Col19a1', 'Sema6a', 'Nxph3', 'Rxfp1', 'Orai2', 'Plcxd3', 'Ndst3', 'Chrm2', 'Cd93', 'Pou3f1'], Test List: ['Pde7b', 'Rmst', 'Cdh9', 'Ano1', 'Cd300c2', 'Id2', 'Sncg', 'Npnt', 'Ebf3', 'Unc13c', 'Cyp1b1', 'Cdh13', 'Dkk3', 'Rspo2', 'Arhgap6', 'Hat1', 'Grik3', 'Tacr1', 'Wfs1', 'Cabp7', 'Vwc2l', 'Rab3b', 'Calb1', 'Gucy1a1']\n"
     ]
    }
   ],
   "source": [
    "import random\n",
    "\n",
    "# Your original list\n",
    "original_list = list(Spatial_data_2.var['gene_id'])\n",
    "\n",
    "# Shuffle the original list randomly\n",
    "random.shuffle(original_list)\n",
    "\n",
    "# Specify the number of splits\n",
    "num_splits = 10\n",
    "\n",
    "# Calculate the size of each sublist\n",
    "sublist_size = len(original_list) // num_splits\n",
    "remainder = len(original_list) % num_splits\n",
    "\n",
    "# Slice the list into sublists\n",
    "split_lists = [original_list[i * sublist_size + min(i, remainder):(i + 1) * sublist_size + min(i + 1, remainder)] for i in range(num_splits)]\n",
    "\n",
    "# Generate all_test_lists\n",
    "all_test_lists = []\n",
    "for sublist in split_lists:\n",
    "    all_test_lists.append(sublist)\n",
    "\n",
    "# Generate all_train_lists\n",
    "all_train_lists = []\n",
    "for i, test_list in enumerate(all_test_lists):\n",
    "    train_list = [item for item in original_list if item not in test_list]\n",
    "    all_train_lists.append(train_list)\n",
    "\n",
    "# Print the train_list and test_list for each iteration\n",
    "for i, (train_list, test_list) in enumerate(zip(all_train_lists, all_test_lists)):\n",
    "    print(f\"Iteration {i + 1} - Train List: {train_list}, Test List: {test_list}\")\n",
    "\n",
    "# Save all training and testing results to the corresponding .npy files\n",
    "np.save('newData/train_list.npy', all_train_lists)\n",
    "np.save('newData/test_list.npy', all_test_lists)"
   ]
  },
  {
   "cell_type": "code",
   "execution_count": 43,
   "id": "f2c3b18b-a27a-4c85-b7d7-862777b5908a",
   "metadata": {},
   "outputs": [],
   "source": [
    "import numpy as np\n",
    "import pandas as pd\n",
    "\n",
    "# Load the 'train_list.npy' file\n",
    "data = np.load('newData/train_list.npy', allow_pickle=True)\n",
    "\n",
    "# Convert the NumPy array to a DataFrame\n",
    "df = pd.DataFrame(data)\n",
    "\n",
    "# Save the DataFrame as a CSV file\n",
    "df.to_csv('newData/train_list.csv', index=False)\n",
    "\n",
    "# Load the 'test_list.npy' file\n",
    "data = np.load('newData/test_list.npy', allow_pickle=True)\n",
    "\n",
    "# Convert the NumPy array to a DataFrame and save it as a CSV file\n",
    "pd.DataFrame(data).to_csv('newData/test_list.csv', index=False)"
   ]
  }
 ],
 "metadata": {
  "kernelspec": {
   "display_name": "Python 3",
   "language": "python",
   "name": "python3"
  },
  "language_info": {
   "codemirror_mode": {
    "name": "ipython",
    "version": 3
   },
   "file_extension": ".py",
   "mimetype": "text/x-python",
   "name": "python",
   "nbconvert_exporter": "python",
   "pygments_lexer": "ipython3",
   "version": "3.8.12"
  }
 },
 "nbformat": 4,
 "nbformat_minor": 5
}
