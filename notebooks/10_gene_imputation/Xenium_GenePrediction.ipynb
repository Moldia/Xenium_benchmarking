{
 "cells": [
  {
   "cell_type": "code",
   "execution_count": 1,
   "metadata": {
    "tags": []
   },
   "outputs": [
    {
     "name": "stderr",
     "output_type": "stream",
     "text": [
      "/home/taobo/micromamba/envs/Benchmarking/lib/python3.8/site-packages/tqdm/auto.py:21: TqdmWarning: IProgress not found. Please update jupyter and ipywidgets. See https://ipywidgets.readthedocs.io/en/stable/user_install.html\n",
      "  from .autonotebook import tqdm as notebook_tqdm\n"
     ]
    }
   ],
   "source": [
    "##import packages\n",
    "import numpy as np\n",
    "import pandas as pd\n",
    "import sys\n",
    "import os\n",
    "import time as tm\n",
    "import pickle\n",
    "from functools import partial\n",
    "import scipy.stats as st\n",
    "from scipy.stats import wasserstein_distance\n",
    "import scipy.stats\n",
    "import copy\n",
    "from sklearn.model_selection import KFold\n",
    "import pandas as pd\n",
    "import multiprocessing\n",
    "import matplotlib as mpl \n",
    "import matplotlib.pyplot as plt\n",
    "import scanpy as sc\n",
    "import warnings\n",
    "import subprocess\n",
    "import seaborn as sns\n",
    "from sklearn.metrics import mean_squared_error\n",
    "from scipy.spatial.distance import jensenshannon\n",
    "from scipy.stats import pearsonr,ttest_ind,mannwhitneyu\n",
    "import matplotlib\n",
    "import time\n"
   ]
  },
  {
   "cell_type": "code",
   "execution_count": null,
   "metadata": {
    "tags": []
   },
   "outputs": [],
   "source": [
    "###please in the SpatialBenchmarking dir.\n",
    "os.chdir('SpatialBenchmarking/')\n",
    "### please add the your SpatialBenchmarking dir into the python path \n",
    "sys.path.append('./')\n",
    "os.getcwd()"
   ]
  },
  {
   "cell_type": "code",
   "execution_count": 3,
   "metadata": {
    "tags": []
   },
   "outputs": [],
   "source": [
    "#### Predict gene spatial distribution of undetected genes\n",
    "#You can import the package \"SpatialGenes\" to directly predict the gene spatial distribution for any spatial datasets.\n",
    "\n",
    "# Before forecasting, please prepare the following files: \n",
    "#1): scRNA count files; \n",
    "#2): spatial count files; \n",
    "#3): spatial location files for novoSpaRc and SpaOTsc; \n",
    "\n",
    "# For more details, please see the Benchmarking/SpatialGenes.py and Figure Data"
   ]
  },
  {
   "cell_type": "code",
   "execution_count": null,
   "metadata": {
    "tags": []
   },
   "outputs": [],
   "source": [
    "import os\n",
    "import numpy as np\n",
    "import pandas as pd\n",
    "import Benchmarking.SpatialGenes as SpatialGenes\n",
    "import os\n",
    "\n",
    "PATH = '../DataPreparation/newData/'\n",
    "RNA_path = PATH + 'scRNA_count.txt'\n",
    "Spatial_path =  PATH + 'Insitu_count.txt'\n",
    "location_path = PATH + 'Locations.txt'\n",
    "RNA_data = pd.read_table(RNA_path,header = 0,index_col = 0)\n",
    "Spatial_data = pd.read_table(Spatial_path,sep = '\\t',header=0)\n",
    "train_list = list(RNA_data.index&Spatial_data.columns)\n",
    "print (train_list)\n",
    "test_list = list(set(RNA_data.index) - set(Spatial_data.columns))[:20]\n",
    "\n",
    "outdir =  'XeniumResults/'\n",
    "if not os.path.exists(outdir):\n",
    "    os.mkdir(outdir)\n",
    "test = SpatialGenes.GenePrediction(RNA_path, Spatial_path, location_path, train_list = train_list, test_list = test_list, outdir = outdir)\n",
    "Methods = ['SpaGE', 'Seurat', 'SpaOTsc', 'novoSpaRc', 'LIGER']\n",
    "Result = test.Imputing(Methods)\n"
   ]
  },
  {
   "cell_type": "markdown",
   "metadata": {},
   "source": [
    "# GPU Platform gimVI and Tangram"
   ]
  },
  {
   "cell_type": "code",
   "execution_count": null,
   "metadata": {
    "scrolled": true,
    "tags": []
   },
   "outputs": [],
   "source": [
    "import os\n",
    "import numpy as np\n",
    "import pandas as pd\n",
    "import Benchmarking.SpatialGenes as SpatialGenes\n",
    "import os\n",
    "\n",
    "PATH = '../DataPreparation/newData/'\n",
    "RNA_path = PATH + 'scRNA_count.txt'\n",
    "Spatial_path =  PATH + 'Insitu_count.txt'\n",
    "location_path = PATH + 'Locations.txt'\n",
    "RNA_data = pd.read_table(RNA_path,header = 0,index_col = 0)\n",
    "Spatial_data = pd.read_table(Spatial_path,sep = '\\t',header=0)\n",
    "train_list = list(RNA_data.index&Spatial_data.columns)\n",
    "print (train_list)\n",
    "test_list = list(set(RNA_data.index) - set(Spatial_data.columns))[:20]\n",
    "\n",
    "outdir =  'XeniumResults/'\n",
    "if not os.path.exists(outdir):\n",
    "    os.mkdir(outdir)\n",
    "test = SpatialGenes.GenePrediction(RNA_path, Spatial_path, location_path, train_list = train_list, test_list = test_list, outdir = outdir)\n",
    "Methods = ['Tangram', 'gimVI']\n",
    "Result = test.Imputing(Methods)\n"
   ]
  }
 ],
 "metadata": {
  "kernelspec": {
   "display_name": "Benchmarking",
   "language": "python",
   "name": "benchmarking"
  },
  "language_info": {
   "codemirror_mode": {
    "name": "ipython",
    "version": 3
   },
   "file_extension": ".py",
   "mimetype": "text/x-python",
   "name": "python",
   "nbconvert_exporter": "python",
   "pygments_lexer": "ipython3",
   "version": "3.8.12"
  }
 },
 "nbformat": 4,
 "nbformat_minor": 4
}
