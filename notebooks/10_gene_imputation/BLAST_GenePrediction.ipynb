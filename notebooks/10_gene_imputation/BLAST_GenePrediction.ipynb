{
 "cells": [
  {
   "cell_type": "markdown",
   "metadata": {},
   "source": [
    "#### This jupyter can evaluate the performance of each method with 10-X cross-validation."
   ]
  },
  {
   "cell_type": "code",
   "execution_count": 17,
   "metadata": {},
   "outputs": [],
   "source": [
    "import copy\n",
    "import multiprocessing\n",
    "import os\n",
    "import pickle\n",
    "import sys\n",
    "import time\n",
    "import time as tm\n",
    "import warnings\n",
    "from functools import partial\n",
    "from os.path import join\n",
    "\n",
    "import h5py\n",
    "import matplotlib as mpl\n",
    "import matplotlib.pyplot as plt\n",
    "import numpy as np\n",
    "import pandas as pd\n",
    "import scanpy as sc\n",
    "import scipy.stats\n",
    "import scipy.stats as st\n",
    "import seaborn as sns\n",
    "import tangram as tg\n",
    "from IPython.display import display\n",
    "from scipy import stats\n",
    "from scipy.spatial import distance_matrix\n",
    "from scipy.spatial.distance import cdist\n",
    "from scipy.stats import spearmanr, wasserstein_distance\n",
    "from sklearn.metrics import matthews_corrcoef\n",
    "from sklearn.model_selection import KFold\n",
    "\n",
    "warnings.filterwarnings(\"ignore\")"
   ]
  },
  {
   "cell_type": "code",
   "execution_count": 18,
   "metadata": {},
   "outputs": [],
   "source": [
    "def SpaGE_impute(K):\n",
    "    print(\"We run SpaGE for this data\\n\")\n",
    "    sys.path.append(\"Extenrnal/SpaGE-master/\")\n",
    "    from SpaGE.main import SpaGE\n",
    "\n",
    "    global RNA_data, Spatial_data, train_gene, predict_gene\n",
    "    RNA_data = RNA_data.loc[(RNA_data.sum(axis=1) != 0)]\n",
    "    RNA_data = RNA_data.loc[(RNA_data.var(axis=1) != 0)]\n",
    "    train = np.array(train_gene[K])\n",
    "    predict = np.array(predict_gene[K])\n",
    "    pv = len(train) / 2\n",
    "    Spatial = Spatial_data[train]\n",
    "    Img_Genes = SpaGE(Spatial, RNA_data.T, n_pv=int(pv), genes_to_predict=predict)\n",
    "    result = Img_Genes[predict]\n",
    "    return result\n",
    "\n",
    "\n",
    "def gimVI_impute(K):\n",
    "    print(\"We run gimVI for this data\\n\")\n",
    "    import scanpy as sc\n",
    "    import scvi\n",
    "    import torch\n",
    "    from scvi.external import GIMVI\n",
    "    from torch.nn.functional import cosine_similarity, sigmoid, softmax\n",
    "\n",
    "    global RNA_data_adata, Spatial_data_adata, train_gene, predict_gene\n",
    "    test_list = np.array(predict_gene[K])\n",
    "    train_list = np.array(train_gene[K])\n",
    "    Genes = list(Spatial_data_adata.var_names)\n",
    "    rand_gene_idx = [Genes.index(x) for x in test_list]\n",
    "    n_genes = len(Genes)\n",
    "    rand_train_gene_idx = sorted(set(range(n_genes)) - set(rand_gene_idx))\n",
    "    rand_train_genes = np.array(Genes)[rand_train_gene_idx]\n",
    "    rand_genes = np.array(Genes)[rand_gene_idx]\n",
    "    spatial_data_partial = Spatial_data_adata[:, rand_train_genes]\n",
    "    sc.pp.filter_cells(spatial_data_partial, min_counts=0)\n",
    "    seq_data = copy.deepcopy(RNA_data_adata)\n",
    "    seq_data = seq_data[:, Genes]\n",
    "    sc.pp.filter_cells(seq_data, min_counts=0)\n",
    "    scvi.external.GIMVI.setup_anndata(spatial_data_partial)\n",
    "    scvi.external.GIMVI.setup_anndata(seq_data)\n",
    "    model = GIMVI(seq_data, spatial_data_partial)\n",
    "    model.train(200)\n",
    "    _, imputation = model.get_imputed_values(normalized=False)\n",
    "    imputed = imputation[:, rand_gene_idx]\n",
    "    result = pd.DataFrame(imputed, columns=rand_genes)\n",
    "    print(test_list == rand_genes)\n",
    "    print(train_list == rand_train_genes)\n",
    "    return result\n",
    "\n",
    "\n",
    "def novoSpaRc_impute(K):\n",
    "    print(\"We run novoSpaRc for this data\\n\")\n",
    "    import novosparc as nc\n",
    "\n",
    "    global RNA_data, Spatial_data, locations, train_gene, predict_gene\n",
    "    test_list = np.array(predict_gene[K])\n",
    "    train_list = np.array(train_gene[K])\n",
    "    gene_names = np.array(RNA_data.index.values)\n",
    "    dge = RNA_data.values\n",
    "    dge = dge.T\n",
    "    num_cells = dge.shape[0]\n",
    "    print(\"number of cells and genes in the matrix:\", dge.shape)\n",
    "\n",
    "    hvg = np.argsort(np.divide(np.var(dge, axis=0), np.mean(dge, axis=0) + 0.0001))\n",
    "    dge_hvg = dge[:, hvg[-2000:]]\n",
    "\n",
    "    num_locations = locations.shape[0]\n",
    "\n",
    "    p_location, p_expression = nc.rc.create_space_distributions(\n",
    "        num_locations, num_cells\n",
    "    )\n",
    "    cost_expression, cost_locations = nc.rc.setup_for_OT_reconstruction(\n",
    "        dge_hvg, locations, num_neighbors_source=5, num_neighbors_target=5\n",
    "    )\n",
    "\n",
    "    insitu_matrix = np.array(Spatial_data[train_list])\n",
    "    insitu_genes = np.array(Spatial_data[train_list].columns)\n",
    "    test_genes = np.array(test_list)\n",
    "    test_matrix = np.array(Spatial_data[test_list])\n",
    "\n",
    "    markers_in_sc = np.array([], dtype=\"int\")\n",
    "    for marker in insitu_genes:\n",
    "        marker_index = np.where(gene_names == marker)[0]\n",
    "        if len(marker_index) > 0:\n",
    "            markers_in_sc = np.append(markers_in_sc, marker_index[0])\n",
    "    cost_marker_genes = cdist(\n",
    "        dge[:, markers_in_sc] / np.amax(dge[:, markers_in_sc]),\n",
    "        insitu_matrix / np.amax(insitu_matrix),\n",
    "    )\n",
    "    alpha_linear = 0.5\n",
    "    gw = nc.rc._GWadjusted.gromov_wasserstein_adjusted_norm(\n",
    "        cost_marker_genes,\n",
    "        cost_expression,\n",
    "        cost_locations,\n",
    "        alpha_linear,\n",
    "        p_expression,\n",
    "        p_location,\n",
    "        \"square_loss\",\n",
    "        epsilon=5e-3,\n",
    "        verbose=True,\n",
    "    )\n",
    "    sdge = np.dot(dge.T, gw)\n",
    "    imputed = pd.DataFrame(sdge, index=RNA_data.index)\n",
    "    result = imputed.loc[test_genes]\n",
    "    result = result.T\n",
    "    return result\n",
    "\n",
    "\n",
    "def SpaOTsc_impute(K):\n",
    "    print(\"We run SpaOTsc for this data\\n\")\n",
    "    sys.path.append(\"Extenrnal/SpaOTsc/\")\n",
    "    from spaotsc import SpaOTsc\n",
    "\n",
    "    global RNA_data, Spatial_data, locations, train_gene, predict_gene\n",
    "    test_list = np.array(predict_gene[K])\n",
    "    train_list = np.array(train_gene[K])\n",
    "    df_sc = RNA_data.T\n",
    "    df_IS = Spatial_data\n",
    "    pts = locations\n",
    "    is_dmat = distance_matrix(pts, pts)\n",
    "    df_is = df_IS.loc[:, train_list]\n",
    "\n",
    "    gene_is = df_is.columns.tolist()\n",
    "    gene_sc = df_sc.columns.tolist()\n",
    "    gene_overloap = list(set(gene_is).intersection(gene_sc))\n",
    "    a = df_is[gene_overloap]\n",
    "    b = df_sc[gene_overloap]\n",
    "\n",
    "    rho, pval = stats.spearmanr(a, b, axis=1)\n",
    "    rho[np.isnan(rho)] = 0\n",
    "    mcc = rho[-(len(df_sc)) :, 0 : len(df_is)]\n",
    "    C = np.exp(1 - mcc)\n",
    "    issc = SpaOTsc.spatial_sc(sc_data=df_sc, is_data=df_is, is_dmat=is_dmat)\n",
    "    issc.transport_plan(\n",
    "        C**2, alpha=0, rho=1.0, epsilon=0.1, cor_matrix=mcc, scaling=False\n",
    "    )\n",
    "    gamma = issc.gamma_mapping\n",
    "    for j in range(gamma.shape[1]):\n",
    "        gamma[:, j] = gamma[:, j] / np.sum(gamma[:, j])\n",
    "    X_pred = np.matmul(gamma.T, np.array(issc.sc_data.values))\n",
    "    result = pd.DataFrame(data=X_pred, columns=issc.sc_data.columns.values)\n",
    "    test_genes = test_list\n",
    "    result = result.loc[:, test_genes]\n",
    "    return result\n",
    "\n",
    "\n",
    "def stPlus_impute(K):\n",
    "    global RNA_data, Spatial_data, outdir, train_gene, predict_gene\n",
    "    test_list = np.array(predict_gene[K])\n",
    "    train_list = np.array(train_gene[K])\n",
    "    save_path_prefix = join(outdir, \"process_file/stPlus-demo\")\n",
    "    if not os.path.exists(join(outdir, \"process_file\")):\n",
    "        os.mkdir(join(outdir, \"process_file\"))\n",
    "    stPlus_res = stPlus(\n",
    "        Spatial_data[train_list], RNA_data.T, test_list, save_path_prefix\n",
    "    )\n",
    "    return stPlus_res\n",
    "\n",
    "\n",
    "def Tangram_impute(K, annotate=None, modes=\"clusters\", density=\"rna_count_based\"):\n",
    "    import tangram as tg\n",
    "    import torch\n",
    "    from torch.nn.functional import cosine_similarity, sigmoid, softmax\n",
    "\n",
    "    print(\"We run Tangram for this \\n\" + DataDir)\n",
    "    global RNA_data_adata, Spatial_data_adata, locations, train_gene, predict_gene\n",
    "    test_list = predict_gene[K]\n",
    "    test_list = [x.lower() for x in test_list]\n",
    "    train_list = train_gene[K]\n",
    "    spatial_data_partial = Spatial_data_adata[:, train_list]\n",
    "    train_list = np.array(train_list)\n",
    "    if annotate == None:\n",
    "        RNA_data_adata_label = RNA_data_adata\n",
    "        sc.pp.normalize_total(RNA_data_adata_label)\n",
    "        sc.pp.log1p(RNA_data_adata_label)\n",
    "        sc.pp.highly_variable_genes(RNA_data_adata_label)\n",
    "        RNA_data_adata_label = RNA_data_adata_label[\n",
    "            :, RNA_data_adata_label.var.highly_variable\n",
    "        ]\n",
    "        sc.pp.scale(RNA_data_adata_label, max_value=10)\n",
    "        sc.tl.pca(RNA_data_adata_label)\n",
    "        sc.pp.neighbors(RNA_data_adata_label)\n",
    "        sc.tl.leiden(RNA_data_adata_label, resolution=0.5)\n",
    "        RNA_data_adata.obs[\"leiden\"] = RNA_data_adata_label.obs.leiden\n",
    "    else:\n",
    "        global CellTypeAnnotate\n",
    "        RNA_data_adata.obs[\"leiden\"] = CellTypeAnnotate\n",
    "    tg.pp_adatas(RNA_data_adata, spatial_data_partial, genes=train_list)\n",
    "    device = torch.device(\"cuda:0\")\n",
    "    if modes == \"clusters\":\n",
    "        ad_map = tg.map_cells_to_space(\n",
    "            RNA_data_adata,\n",
    "            spatial_data_partial,\n",
    "            device=device,\n",
    "            mode=modes,\n",
    "            cluster_label=\"leiden\",\n",
    "            density_prior=density,\n",
    "        )\n",
    "        ad_ge = tg.project_genes(ad_map, RNA_data_adata, cluster_label=\"leiden\")\n",
    "    else:\n",
    "        ad_map = tg.map_cells_to_space(\n",
    "            RNA_data_adata, spatial_data_partial, device=device\n",
    "        )\n",
    "        ad_ge = tg.project_genes(ad_map, RNA_data_adata)\n",
    "    test_list = list(set(ad_ge.var_names) & set(test_list))\n",
    "    test_list = np.array(test_list)\n",
    "    pre_gene = pd.DataFrame(\n",
    "        ad_ge[:, test_list].X,\n",
    "        index=ad_ge[:, test_list].obs_names,\n",
    "        columns=ad_ge[:, test_list].var_names,\n",
    "    )\n",
    "    return pre_gene"
   ]
  },
  {
   "cell_type": "markdown",
   "metadata": {},
   "source": [
    "# Data Input"
   ]
  },
  {
   "cell_type": "code",
   "execution_count": 19,
   "metadata": {},
   "outputs": [],
   "source": [
    "\"\"\"\n",
    "This function integrates two single-cell datasets, spatial and scRNA-seq, \n",
    "and predictes the expression of the spatially unmeasured genes from the scRNA-seq data.\n",
    "\n",
    "Parameters\n",
    "-------\n",
    "RNA_file : str\n",
    "    scRNA-seq data count file with Tab-delimited (cells X genes).\n",
    "Spatial_file : str\n",
    "    spatial count data file with Tab-delimited, please note that the file has no index.\n",
    "location_file : str\n",
    "    spatial spot coordinate file name with Tab-delimited, please note that the file has no index.\n",
    "device : str\n",
    "    Option,  ['CPU','GPU'], defaults to 'CPU'\n",
    "train_gene : list\n",
    "    genes for integrations, you can support more than one train list.\n",
    "predict_gene : list\n",
    "    genes for prediction, you can support more than one test list.\n",
    "outdir : str\n",
    "    result file stored direction    \n",
    "\"\"\"\n",
    "\n",
    "DataDir = \"../DataPreparation/newData/\"\n",
    "outdir = \"XeniumResults/\"\n",
    "RNA_file = DataDir + \"scRNA_count.txt\"\n",
    "Spatial_file = DataDir + \"Insitu_count.txt\"\n",
    "location_file = DataDir + \"Locations.txt\"\n",
    "\n",
    "RNA_data = pd.read_table(RNA_file, header=0, index_col=0)\n",
    "Spatial_data = pd.read_table(Spatial_file, sep=\"\\t\", header=0)\n",
    "RNA_data_adata = sc.read(RNA_file, sep=\"\\t\", first_column_names=True).T\n",
    "Spatial_data_adata = sc.read(Spatial_file, sep=\"\\t\")\n",
    "locations = np.loadtxt(location_file, skiprows=1)\n",
    "\n",
    "train_gene = np.load(DataDir + \"train_list.npy\", allow_pickle=True).tolist()\n",
    "predict_gene = np.load(DataDir + \"test_list.npy\", allow_pickle=True).tolist()\n",
    "\n",
    "device = \"GPU\"\n",
    "if not os.path.exists(outdir):\n",
    "    os.mkdir(outdir)"
   ]
  },
  {
   "cell_type": "markdown",
   "metadata": {},
   "source": [
    "#### Predicting undetected transcripts by each method"
   ]
  },
  {
   "cell_type": "code",
   "execution_count": 20,
   "metadata": {
    "scrolled": true
   },
   "outputs": [
    {
     "name": "stdout",
     "output_type": "stream",
     "text": [
      "We run SpaGE for this data\n",
      "We run SpaGE for this data\n",
      "\n",
      "\n",
      "We run SpaGE for this data\n",
      "\n",
      "We run SpaGE for this data\n",
      "\n",
      "We run SpaGE for this data\n",
      "\n",
      "We run SpaGE for this data\n",
      "\n",
      "We run SpaGE for this data\n",
      "\n",
      "We run SpaGE for this data\n",
      "\n",
      "We run SpaGE for this data\n",
      "\n",
      "We run SpaGE for this data\n",
      "\n"
     ]
    }
   ],
   "source": [
    "KFOLD = list(range(len(train_gene)))\n",
    "with multiprocessing.Pool(2) as pool:\n",
    "    result = pd.concat(pool.map(SpaGE_impute, KFOLD), axis=1)\n",
    "result.to_csv(outdir + \"/SpaGE_impute.csv\", header=1, index=1)"
   ]
  },
  {
   "cell_type": "code",
   "execution_count": 21,
   "metadata": {
    "scrolled": true
   },
   "outputs": [
    {
     "name": "stdout",
     "output_type": "stream",
     "text": [
      "We run SpaOTsc for this data\n",
      "We run SpaOTsc for this data\n",
      "\n",
      "\n",
      "We run SpaOTsc for this data\n",
      "\n",
      "We run SpaOTsc for this data\n",
      "\n",
      "We run SpaOTsc for this data\n",
      "\n",
      "We run SpaOTsc for this data\n",
      "\n",
      "We run SpaOTsc for this data\n",
      "\n",
      "We run SpaOTsc for this data\n",
      "\n",
      "We run SpaOTsc for this data\n",
      "\n",
      "We run SpaOTsc for this data\n",
      "\n"
     ]
    }
   ],
   "source": [
    "KFOLD = list(range(len(train_gene)))\n",
    "with multiprocessing.Pool(2) as pool:\n",
    "    result = pd.concat(pool.map(SpaOTsc_impute, KFOLD), axis=1)\n",
    "result.to_csv(outdir + \"/SpaOTsc_impute.csv\", header=1, index=1)"
   ]
  },
  {
   "cell_type": "code",
   "execution_count": 22,
   "metadata": {
    "scrolled": true
   },
   "outputs": [
    {
     "name": "stdout",
     "output_type": "stream",
     "text": [
      "We run novoSpaRc for this data\n",
      "We run novoSpaRc for this data\n",
      "\n",
      "\n",
      "number of cells and genes in the matrix:number of cells and genes in the matrix:  (13785, 26474)(13785, 26474)\n",
      "\n",
      "Setting up for reconstruction ... Setting up for reconstruction ... done ( 52.65 seconds )\n",
      "done ( 52.78 seconds )\n",
      "It.  |Err         \n",
      "-------------------\n",
      "    0|1.017122e-04|It.  |Err         \n",
      "-------------------\n",
      "\n",
      "    0|1.055147e-04|\n",
      "We run novoSpaRc for this data\n",
      "\n",
      "number of cells and genes in the matrix: (13785, 26474)\n",
      "We run novoSpaRc for this data\n",
      "\n",
      "number of cells and genes in the matrix: (13785, 26474)\n",
      "Setting up for reconstruction ... Setting up for reconstruction ... done ( 50.01 seconds )\n",
      "done ( 50.09 seconds )\n",
      "It.  |Err         \n",
      "-------------------\n",
      "    0|1.118467e-04|\n",
      "It.  |Err         \n",
      "-------------------\n",
      "    0|9.479886e-05|\n",
      "We run novoSpaRc for this data\n",
      "\n",
      "number of cells and genes in the matrix: (13785, 26474)\n",
      "Setting up for reconstruction ... We run novoSpaRc for this data\n",
      "\n",
      "number of cells and genes in the matrix: (13785, 26474)\n",
      "Setting up for reconstruction ... done ( 96.55 seconds )\n",
      "It.  |Err         \n",
      "-------------------\n",
      "    0|1.023676e-04|\n",
      "done ( 92.05 seconds )\n",
      "It.  |Err         \n",
      "-------------------\n",
      "    0|1.001487e-04|\n",
      "We run novoSpaRc for this data\n",
      "\n",
      "number of cells and genes in the matrix: (13785, 26474)\n",
      "Setting up for reconstruction ... We run novoSpaRc for this data\n",
      "\n",
      "number of cells and genes in the matrix: (13785, 26474)\n",
      "Setting up for reconstruction ... done ( 86.31 seconds )\n",
      "It.  |Err         \n",
      "-------------------\n",
      "    0|1.011498e-04|\n",
      "done ( 85.06 seconds )\n",
      "It.  |Err         \n",
      "-------------------\n",
      "    0|1.075975e-04|\n",
      "We run novoSpaRc for this data\n",
      "\n",
      "number of cells and genes in the matrix: (13785, 26474)\n",
      "Setting up for reconstruction ... done ( 78.22 seconds )\n",
      "It.  |Err         \n",
      "-------------------\n",
      "    0|5.573632e-04|\n",
      "We run novoSpaRc for this data\n",
      "\n",
      "number of cells and genes in the matrix: (13785, 26474)\n",
      "Setting up for reconstruction ... done ( 43.12 seconds )\n",
      "It.  |Err         \n",
      "-------------------\n",
      "    0|1.053090e-04|\n"
     ]
    }
   ],
   "source": [
    "KFOLD = list(range(len(train_gene)))\n",
    "with multiprocessing.Pool(2) as pool:\n",
    "    result = pd.concat(pool.map(novoSpaRc_impute, KFOLD), axis=1)\n",
    "result.to_csv(outdir + \"/novoSpaRc_impute.csv\", header=1, index=1)"
   ]
  },
  {
   "cell_type": "markdown",
   "metadata": {},
   "source": [
    "# GPU Platform gimVI, Tangram, and stPlus"
   ]
  },
  {
   "cell_type": "code",
   "execution_count": 23,
   "metadata": {
    "scrolled": true
   },
   "outputs": [
    {
     "name": "stdout",
     "output_type": "stream",
     "text": [
      "We run gimVI for this data\n",
      "We run gimVI for this data\n",
      "\n",
      "\n"
     ]
    },
    {
     "name": "stderr",
     "output_type": "stream",
     "text": [
      "Global seed set to 0\n",
      "Global seed set to 0\n",
      "No GPU/TPU found, falling back to CPU. (Set TF_CPP_MIN_LOG_LEVEL=0 and rerun for more info.)\n",
      "No GPU/TPU found, falling back to CPU. (Set TF_CPP_MIN_LOG_LEVEL=0 and rerun for more info.)\n",
      "GPU available: True (cuda), used: True\n",
      "GPU available: True (cuda), used: True\n",
      "TPU available: False, using: 0 TPU cores\n",
      "TPU available: False, using: 0 TPU cores\n",
      "IPU available: False, using: 0 IPUs\n",
      "IPU available: False, using: 0 IPUs\n",
      "HPU available: False, using: 0 HPUs\n",
      "HPU available: False, using: 0 HPUs\n",
      "You are using a CUDA device ('NVIDIA RTX A4000') that has Tensor Cores. To properly utilize them, you should set `torch.set_float32_matmul_precision('medium' | 'high')` which will trade-off precision for performance. For more details, read https://pytorch.org/docs/stable/generated/torch.set_float32_matmul_precision.html#torch.set_float32_matmul_precision\n",
      "You are using a CUDA device ('NVIDIA RTX A4000') that has Tensor Cores. To properly utilize them, you should set `torch.set_float32_matmul_precision('medium' | 'high')` which will trade-off precision for performance. For more details, read https://pytorch.org/docs/stable/generated/torch.set_float32_matmul_precision.html#torch.set_float32_matmul_precision\n",
      "LOCAL_RANK: 0 - CUDA_VISIBLE_DEVICES: [0]\n",
      "LOCAL_RANK: 0 - CUDA_VISIBLE_DEVICES: [0]\n"
     ]
    },
    {
     "name": "stdout",
     "output_type": "stream",
     "text": [
      "Epoch 200/200: 100%|██████████| 200/200 [06:06<00:00,  1.80s/it, loss=103, v_num=1] "
     ]
    },
    {
     "name": "stderr",
     "output_type": "stream",
     "text": [
      "`Trainer.fit` stopped: `max_epochs=200` reached.\n"
     ]
    },
    {
     "name": "stdout",
     "output_type": "stream",
     "text": [
      "Epoch 200/200: 100%|██████████| 200/200 [06:06<00:00,  1.83s/it, loss=103, v_num=1]\n",
      "Epoch 200/200: 100%|██████████| 200/200 [06:06<00:00,  1.79s/it, loss=103, v_num=1]"
     ]
    },
    {
     "name": "stderr",
     "output_type": "stream",
     "text": [
      "`Trainer.fit` stopped: `max_epochs=200` reached.\n"
     ]
    },
    {
     "name": "stdout",
     "output_type": "stream",
     "text": [
      "Epoch 200/200: 100%|██████████| 200/200 [06:06<00:00,  1.83s/it, loss=103, v_num=1]\n",
      "[ True  True  True  True  True  True  True  True  True  True  True  True\n",
      "  True  True  True  True  True  True  True  True  True  True  True  True\n",
      "  True]\n",
      "[False False False False False False False False False False False False\n",
      " False False False False False False False False False False False False\n",
      " False False False False False False False False False False False False\n",
      " False False False False False False False False  True False False False\n",
      " False False False False False False False False False False False False\n",
      " False False False False False False False False False False False False\n",
      " False False False False False False False False False False False False\n",
      " False False False False False False False False False False False False\n",
      " False False False False False False False False False False False False\n",
      " False False False False False False False False False False False False\n",
      " False False False False False False False False False False False False\n",
      " False False False False False False False False False False False False\n",
      " False False False False False False False False False False False False\n",
      " False False False False False False False False False False False False\n",
      " False False False False False False False False False False False False\n",
      " False False False False False False False False False False False False\n",
      " False False False False False False False False False False False False\n",
      " False False False False False False False False False False False False\n",
      " False False False False False False False]\n",
      "We run gimVI for this data\n",
      "\n",
      "[ True  True  True  True  True  True  True  True  True  True  True  True\n",
      "  True  True  True  True  True  True  True  True  True  True  True  True\n",
      "  True]\n",
      "[False False False False False False False False False False False False\n",
      " False False  True False False False False False False False False False\n",
      " False False False False False False False False False False False False\n",
      " False False False False False False False False False False False False\n",
      " False False False False False False False False False False False False\n",
      " False False False False False False False False False False False False\n",
      " False False False False False False False False False False False False\n",
      " False False False False False False False False False False False False\n",
      " False False False False False False False False False False False False\n",
      " False False False False False False False False False False False False\n",
      " False False False False False False False False False False False False\n",
      " False False False False False False False False False False False False\n",
      " False False  True False False False False False False False False False\n",
      " False False False False False False False False False False False False\n",
      " False False False False False False False False False False False False\n",
      " False False False False False False False False False False False False\n",
      " False False False False False False False False False False False False\n",
      " False False False False False False False False False False False False\n",
      " False False False False False False False]\n",
      "We run gimVI for this data\n",
      "\n"
     ]
    },
    {
     "name": "stderr",
     "output_type": "stream",
     "text": [
      "GPU available: True (cuda), used: True\n",
      "TPU available: False, using: 0 TPU cores\n",
      "IPU available: False, using: 0 IPUs\n",
      "GPU available: True (cuda), used: True\n",
      "HPU available: False, using: 0 HPUs\n",
      "TPU available: False, using: 0 TPU cores\n",
      "IPU available: False, using: 0 IPUs\n",
      "HPU available: False, using: 0 HPUs\n",
      "You are using a CUDA device ('NVIDIA RTX A4000') that has Tensor Cores. To properly utilize them, you should set `torch.set_float32_matmul_precision('medium' | 'high')` which will trade-off precision for performance. For more details, read https://pytorch.org/docs/stable/generated/torch.set_float32_matmul_precision.html#torch.set_float32_matmul_precision\n",
      "You are using a CUDA device ('NVIDIA RTX A4000') that has Tensor Cores. To properly utilize them, you should set `torch.set_float32_matmul_precision('medium' | 'high')` which will trade-off precision for performance. For more details, read https://pytorch.org/docs/stable/generated/torch.set_float32_matmul_precision.html#torch.set_float32_matmul_precision\n",
      "LOCAL_RANK: 0 - CUDA_VISIBLE_DEVICES: [0]\n",
      "LOCAL_RANK: 0 - CUDA_VISIBLE_DEVICES: [0]\n"
     ]
    },
    {
     "name": "stdout",
     "output_type": "stream",
     "text": [
      "Epoch 200/200: 100%|██████████| 200/200 [06:03<00:00,  1.83s/it, loss=101, v_num=1]]"
     ]
    },
    {
     "name": "stderr",
     "output_type": "stream",
     "text": [
      "`Trainer.fit` stopped: `max_epochs=200` reached.\n"
     ]
    },
    {
     "name": "stdout",
     "output_type": "stream",
     "text": [
      "Epoch 200/200: 100%|██████████| 200/200 [06:03<00:00,  1.82s/it, loss=101, v_num=1]\n",
      "Epoch 200/200: 100%|██████████| 200/200 [06:03<00:00,  1.79s/it, loss=99.6, v_num=1]"
     ]
    },
    {
     "name": "stderr",
     "output_type": "stream",
     "text": [
      "`Trainer.fit` stopped: `max_epochs=200` reached.\n"
     ]
    },
    {
     "name": "stdout",
     "output_type": "stream",
     "text": [
      "Epoch 200/200: 100%|██████████| 200/200 [06:03<00:00,  1.82s/it, loss=99.6, v_num=1]\n",
      "[ True  True  True  True  True  True  True  True  True  True  True  True\n",
      "  True  True  True  True  True  True  True  True  True  True  True  True\n",
      "  True]\n",
      "[False False False False False False False False False False False False\n",
      " False False False False False False False False False False False False\n",
      " False False False False False False False False False False False False\n",
      " False False False False False False False False False False False False\n",
      " False False False False False False False False False False False False\n",
      " False False False False False False False False False False False False\n",
      " False False False False False False False False False False False False\n",
      " False False False False False False False False False False False False\n",
      " False False False False False False False False False False False False\n",
      " False  True False False False False False False False False False False\n",
      " False False False False False False False False False False False False\n",
      " False False False False False False False False False False False False\n",
      " False False False False False False False False False False False False\n",
      " False False False False False False False False False False False False\n",
      " False False False False False False False False False False False False\n",
      " False False False False False False False False False False False False\n",
      " False False False False False False False False False False False False\n",
      " False False False False False False False False False False False False\n",
      " False False False False False False False]\n",
      "We run gimVI for this data\n",
      "\n",
      "[ True  True  True  True  True  True  True  True  True  True  True  True\n",
      "  True  True  True  True  True  True  True  True  True  True  True  True\n",
      "  True]\n",
      "[False False False False False False False False False False False False\n",
      " False False  True False False False False False False False False False\n",
      " False False False False False False False False False False False False\n",
      " False False False False False False False False False False False False\n",
      " False False False False False False False False False False False False\n",
      " False False False False False False False False False False False False\n",
      " False False False False False False False False False False False False\n",
      " False False False False False False False False False False False False\n",
      " False False False False False False False  True False False False False\n",
      " False False False False False False False False False False False False\n",
      " False False False False False False False False False False False False\n",
      " False False False False False False False False False False False False\n",
      " False False False False False False False False False False False False\n",
      " False False False False False False False False False False False False\n",
      " False False False False False False False False False False False False\n",
      " False False False False False False False False False False False False\n",
      " False False False False False False False False False False False False\n",
      " False False False False False False False False False False False False\n",
      " False False False False False False False]\n",
      "We run gimVI for this data\n",
      "\n"
     ]
    },
    {
     "name": "stderr",
     "output_type": "stream",
     "text": [
      "GPU available: True (cuda), used: True\n",
      "GPU available: True (cuda), used: True\n",
      "TPU available: False, using: 0 TPU cores\n",
      "TPU available: False, using: 0 TPU cores\n",
      "IPU available: False, using: 0 IPUs\n",
      "IPU available: False, using: 0 IPUs\n",
      "HPU available: False, using: 0 HPUs\n",
      "HPU available: False, using: 0 HPUs\n",
      "You are using a CUDA device ('NVIDIA RTX A4000') that has Tensor Cores. To properly utilize them, you should set `torch.set_float32_matmul_precision('medium' | 'high')` which will trade-off precision for performance. For more details, read https://pytorch.org/docs/stable/generated/torch.set_float32_matmul_precision.html#torch.set_float32_matmul_precision\n",
      "You are using a CUDA device ('NVIDIA RTX A4000') that has Tensor Cores. To properly utilize them, you should set `torch.set_float32_matmul_precision('medium' | 'high')` which will trade-off precision for performance. For more details, read https://pytorch.org/docs/stable/generated/torch.set_float32_matmul_precision.html#torch.set_float32_matmul_precision\n",
      "LOCAL_RANK: 0 - CUDA_VISIBLE_DEVICES: [0]\n",
      "LOCAL_RANK: 0 - CUDA_VISIBLE_DEVICES: [0]\n"
     ]
    },
    {
     "name": "stdout",
     "output_type": "stream",
     "text": [
      "Epoch 200/200: 100%|██████████| 200/200 [06:07<00:00,  1.82s/it, loss=102, v_num=1] "
     ]
    },
    {
     "name": "stderr",
     "output_type": "stream",
     "text": [
      "`Trainer.fit` stopped: `max_epochs=200` reached.\n"
     ]
    },
    {
     "name": "stdout",
     "output_type": "stream",
     "text": [
      "Epoch 200/200: 100%|██████████| 200/200 [06:07<00:00,  1.84s/it, loss=102, v_num=1]\n",
      "Epoch 200/200: 100%|██████████| 200/200 [06:07<00:00,  1.81s/it, loss=103, v_num=1]"
     ]
    },
    {
     "name": "stderr",
     "output_type": "stream",
     "text": [
      "`Trainer.fit` stopped: `max_epochs=200` reached.\n"
     ]
    },
    {
     "name": "stdout",
     "output_type": "stream",
     "text": [
      "Epoch 200/200: 100%|██████████| 200/200 [06:07<00:00,  1.84s/it, loss=103, v_num=1]\n",
      "[ True  True  True  True  True  True  True  True  True  True  True  True\n",
      "  True  True  True  True  True  True  True  True  True  True  True  True\n",
      "  True]\n",
      "[False False False False False False False False False False False False\n",
      " False False False False False False False False False False False False\n",
      " False False False False False False False False False False False False\n",
      " False False False False False False False False False False False False\n",
      " False False False False False False False False False False False False\n",
      " False False False False False False False False False False False False\n",
      " False False False False False False False False False False False False\n",
      " False False False False False False False False False False False False\n",
      " False False False False False False False False False False False False\n",
      " False False False False False False False False False False False False\n",
      " False False False False False False False False False False False False\n",
      " False False False False False False False False False False False False\n",
      " False False False False False False False False False False False False\n",
      " False False False False False False False False False False False False\n",
      " False False False False False False False False False False False False\n",
      " False False False False False False False False False False False False\n",
      " False False False False False False False False False False False False\n",
      " False False False False False False False False False False False False\n",
      " False False False False False False False]\n",
      "We run gimVI for this data\n",
      "\n",
      "[ True  True  True  True  True  True  True  True  True  True  True  True\n",
      "  True  True  True  True  True  True  True  True  True  True  True  True\n",
      "  True]\n",
      "[False False False False False False False False False False False False\n",
      " False False False False False False False False False False False False\n",
      " False False False False False False False False False False False False\n",
      " False False False False False False False False False False False False\n",
      " False False False False False False False False False False False False\n",
      " False False False False False False False False False False False False\n",
      " False False False False False False False False False False False False\n",
      " False False False False False False False False False False False False\n",
      " False False False False False False False False False False False False\n",
      " False False False False False False False False False False False False\n",
      " False False False False False False False False False False False False\n",
      " False False False False False False False False False False False False\n",
      " False False False False False False False False False False False False\n",
      " False False False False False False False False False False False False\n",
      " False False False False False False False False False False False False\n",
      " False False False False False False False False False False False False\n",
      " False False False False False False False False False False False False\n",
      " False False False False False False False False False False False False\n",
      " False False False False False False False]\n",
      "We run gimVI for this data\n",
      "\n"
     ]
    },
    {
     "name": "stderr",
     "output_type": "stream",
     "text": [
      "GPU available: True (cuda), used: True\n",
      "GPU available: True (cuda), used: True\n",
      "TPU available: False, using: 0 TPU cores\n",
      "TPU available: False, using: 0 TPU cores\n",
      "IPU available: False, using: 0 IPUs\n",
      "IPU available: False, using: 0 IPUs\n",
      "HPU available: False, using: 0 HPUs\n",
      "HPU available: False, using: 0 HPUs\n",
      "You are using a CUDA device ('NVIDIA RTX A4000') that has Tensor Cores. To properly utilize them, you should set `torch.set_float32_matmul_precision('medium' | 'high')` which will trade-off precision for performance. For more details, read https://pytorch.org/docs/stable/generated/torch.set_float32_matmul_precision.html#torch.set_float32_matmul_precision\n",
      "You are using a CUDA device ('NVIDIA RTX A4000') that has Tensor Cores. To properly utilize them, you should set `torch.set_float32_matmul_precision('medium' | 'high')` which will trade-off precision for performance. For more details, read https://pytorch.org/docs/stable/generated/torch.set_float32_matmul_precision.html#torch.set_float32_matmul_precision\n",
      "LOCAL_RANK: 0 - CUDA_VISIBLE_DEVICES: [0]\n",
      "LOCAL_RANK: 0 - CUDA_VISIBLE_DEVICES: [0]\n"
     ]
    },
    {
     "name": "stdout",
     "output_type": "stream",
     "text": [
      "Epoch 200/200: 100%|██████████| 200/200 [06:13<00:00,  1.81s/it, loss=101, v_num=1] "
     ]
    },
    {
     "name": "stderr",
     "output_type": "stream",
     "text": [
      "`Trainer.fit` stopped: `max_epochs=200` reached.\n"
     ]
    },
    {
     "name": "stdout",
     "output_type": "stream",
     "text": [
      "Epoch 200/200: 100%|██████████| 200/200 [06:13<00:00,  1.87s/it, loss=101, v_num=1]\n",
      "[ True  True  True  True  True  True  True  True  True  True  True  True\n",
      "  True  True  True  True  True  True  True  True  True  True  True  True\n",
      "  True]\n",
      "[False False False False False False False False False False False False\n",
      " False False False False False False False False False False False False\n",
      " False False False False False False False False False False False False\n",
      " False False False False False False False False False False False False\n",
      " False False False False False False False False False False False False\n",
      " False False False False False False False False False False False False\n",
      " False False False False False False False False False False False False\n",
      " False False False False False False False False False False False False\n",
      " False False False False False False False False False False False False\n",
      " False False False False False False False False False False False False\n",
      " False False False False False False False False False False False False\n",
      " False False False False False False False False False False False False\n",
      " False False False False False False False False False False False False\n",
      " False False False False False False False False False False False False\n",
      " False False False False False False False False False False False False\n",
      " False False False False False False False False False False False False\n",
      " False False False False False False False False False False False False\n",
      " False False False False False False False False False False False False\n",
      " False False False  True False False False]\n",
      "We run gimVI for this data\n",
      "\n"
     ]
    },
    {
     "name": "stderr",
     "output_type": "stream",
     "text": [
      "GPU available: True (cuda), used: True\n",
      "TPU available: False, using: 0 TPU cores\n",
      "IPU available: False, using: 0 IPUs\n",
      "HPU available: False, using: 0 HPUs\n",
      "You are using a CUDA device ('NVIDIA RTX A4000') that has Tensor Cores. To properly utilize them, you should set `torch.set_float32_matmul_precision('medium' | 'high')` which will trade-off precision for performance. For more details, read https://pytorch.org/docs/stable/generated/torch.set_float32_matmul_precision.html#torch.set_float32_matmul_precision\n",
      "LOCAL_RANK: 0 - CUDA_VISIBLE_DEVICES: [0]\n"
     ]
    },
    {
     "name": "stdout",
     "output_type": "stream",
     "text": [
      "Epoch 200/200: 100%|██████████| 200/200 [06:14<00:00,  1.78s/it, loss=102, v_num=1]"
     ]
    },
    {
     "name": "stderr",
     "output_type": "stream",
     "text": [
      "`Trainer.fit` stopped: `max_epochs=200` reached.\n"
     ]
    },
    {
     "name": "stdout",
     "output_type": "stream",
     "text": [
      "Epoch 200/200: 100%|██████████| 200/200 [06:14<00:00,  1.87s/it, loss=102, v_num=1]\n",
      "[ True  True  True  True  True  True  True  True  True  True  True  True\n",
      "  True  True  True  True  True  True  True  True  True  True  True  True\n",
      "  True]\n",
      "[False False False False False False False False False False False False\n",
      " False False False False False False False False False False False False\n",
      " False False False False False False False False False False False False\n",
      " False False False False False False False False False False False False\n",
      " False False False False False False False False False False False False\n",
      " False False False False False False False False False False False False\n",
      " False False False False False False False False False False False False\n",
      " False False False False False False False False False False False False\n",
      " False False False False False False False False False False False False\n",
      " False False False False False False False False False False False False\n",
      " False False False False False False False False False False False False\n",
      " False False False False False False False False False False False False\n",
      " False False False False False False False False False False False False\n",
      " False False False False False False False False False False False False\n",
      " False False False False False False False False False False False False\n",
      " False False False False False False False False False False False False\n",
      " False False False False False False False False False False False False\n",
      " False False False False False False False False False False False False\n",
      " False False False False False False False]\n",
      "Epoch 200/200: 100%|██████████| 200/200 [05:08<00:00,  1.55s/it, loss=103, v_num=1]"
     ]
    },
    {
     "name": "stderr",
     "output_type": "stream",
     "text": [
      "`Trainer.fit` stopped: `max_epochs=200` reached.\n"
     ]
    },
    {
     "name": "stdout",
     "output_type": "stream",
     "text": [
      "Epoch 200/200: 100%|██████████| 200/200 [05:08<00:00,  1.54s/it, loss=103, v_num=1]\n",
      "[ True  True  True  True  True  True  True  True  True  True  True  True\n",
      "  True  True  True  True  True  True  True  True  True  True  True  True]\n",
      "[False False False False False False False False False False False False\n",
      " False False False False False False False False False False False False\n",
      " False False False False False False False False False False False False\n",
      " False False False False False False False False False False False False\n",
      " False False False False False False False False False False False False\n",
      " False False False False False False False False False False False False\n",
      " False False False False False False False False False False False False\n",
      " False False False False False False False False False False False False\n",
      " False False False False False False False False False False False False\n",
      " False False False False False False False False False False False False\n",
      " False False False False False False False False False False False False\n",
      " False False False False False False False False False False False False\n",
      " False False False False False False False False False False False False\n",
      " False False False False False False False False False False False False\n",
      " False False False False False False False False False False False False\n",
      " False False  True False False False False False False False False False\n",
      " False False False False False False False False False False False False\n",
      " False False False False False False False False False False False False\n",
      " False False False False False False False False]\n",
      "We run gimVI for this data\n",
      "\n"
     ]
    },
    {
     "name": "stderr",
     "output_type": "stream",
     "text": [
      "GPU available: True (cuda), used: True\n",
      "TPU available: False, using: 0 TPU cores\n",
      "IPU available: False, using: 0 IPUs\n",
      "HPU available: False, using: 0 HPUs\n",
      "You are using a CUDA device ('NVIDIA RTX A4000') that has Tensor Cores. To properly utilize them, you should set `torch.set_float32_matmul_precision('medium' | 'high')` which will trade-off precision for performance. For more details, read https://pytorch.org/docs/stable/generated/torch.set_float32_matmul_precision.html#torch.set_float32_matmul_precision\n",
      "LOCAL_RANK: 0 - CUDA_VISIBLE_DEVICES: [0]\n"
     ]
    },
    {
     "name": "stdout",
     "output_type": "stream",
     "text": [
      "Epoch 200/200: 100%|██████████| 200/200 [04:56<00:00,  1.46s/it, loss=101, v_num=1] "
     ]
    },
    {
     "name": "stderr",
     "output_type": "stream",
     "text": [
      "`Trainer.fit` stopped: `max_epochs=200` reached.\n"
     ]
    },
    {
     "name": "stdout",
     "output_type": "stream",
     "text": [
      "Epoch 200/200: 100%|██████████| 200/200 [04:56<00:00,  1.48s/it, loss=101, v_num=1]\n",
      "[ True  True  True  True  True  True  True  True  True  True  True  True\n",
      "  True  True  True  True  True  True  True  True  True  True  True  True]\n",
      "[False False False False False False False False False False False False\n",
      " False False  True False False False False False False False False False\n",
      " False False False False False False False False False False False False\n",
      " False False False False False False False False False False False False\n",
      " False False False False False False False False False False False False\n",
      " False False False False False False False False False False False False\n",
      " False False False False False False False False False False False False\n",
      " False False False False False False False False False False False False\n",
      " False False False False False False False False False False False False\n",
      " False False False False False False False False False False False False\n",
      " False False False False False False False False False False False False\n",
      " False False False False False False False False False False False False\n",
      " False False False False False False False False False False False False\n",
      " False False False False False  True False False False False False False\n",
      " False False False False False False False False False False False False\n",
      " False False False False False False False False False False False False\n",
      " False False False False False False False False False False False False\n",
      " False False False False False False False False False False False False\n",
      " False False False False False False False False]\n",
      "We run Tangram for this \n",
      "../DataPreparation/newData/\n",
      "We run Tangram for this \n",
      "../DataPreparation/newData/\n"
     ]
    },
    {
     "name": "stderr",
     "output_type": "stream",
     "text": [
      "INFO:root:223 training genes are saved in `uns``training_genes` of both single cell and spatial Anndatas.\n",
      "INFO:root:223 overlapped genes are saved in `uns``overlap_genes` of both single cell and spatial Anndatas.\n",
      "INFO:root:223 training genes are saved in `uns``training_genes` of both single cell and spatial Anndatas.\n",
      "INFO:root:uniform based density prior is calculated and saved in `obs``uniform_density` of the spatial Anndata.\n",
      "INFO:root:223 overlapped genes are saved in `uns``overlap_genes` of both single cell and spatial Anndatas.\n",
      "INFO:root:uniform based density prior is calculated and saved in `obs``uniform_density` of the spatial Anndata.\n",
      "INFO:root:rna count based density prior is calculated and saved in `obs``rna_count_based_density` of the spatial Anndata.\n",
      "INFO:root:rna count based density prior is calculated and saved in `obs``rna_count_based_density` of the spatial Anndata.\n",
      "INFO:numexpr.utils:Note: NumExpr detected 24 cores but \"NUMEXPR_MAX_THREADS\" not set, so enforcing safe limit of 8.\n",
      "INFO:numexpr.utils:Note: NumExpr detected 24 cores but \"NUMEXPR_MAX_THREADS\" not set, so enforcing safe limit of 8.\n",
      "INFO:numexpr.utils:NumExpr defaulting to 8 threads.\n",
      "INFO:numexpr.utils:NumExpr defaulting to 8 threads.\n",
      "INFO:root:Allocate tensors for mapping.\n",
      "INFO:root:Allocate tensors for mapping.\n",
      "INFO:root:Begin training with 223 genes and rna_count_based density_prior in clusters mode...\n",
      "INFO:root:Begin training with 223 genes and rna_count_based density_prior in clusters mode...\n",
      "INFO:root:Printing scores every 100 epochs.\n",
      "INFO:root:Printing scores every 100 epochs.\n"
     ]
    },
    {
     "name": "stdout",
     "output_type": "stream",
     "text": [
      "Score: 0.324, KL reg: 0.260\n",
      "Score: 0.322, KL reg: 0.256\n",
      "Score: 0.673, KL reg: 0.001\n",
      "Score: 0.668, KL reg: 0.001\n",
      "Score: 0.676, KL reg: 0.001\n",
      "Score: 0.671, KL reg: 0.001\n",
      "Score: 0.671, KL reg: 0.001\n",
      "Score: 0.677, KL reg: 0.001\n",
      "Score: 0.672, KL reg: 0.001\n",
      "Score: 0.677, KL reg: 0.001\n",
      "Score: 0.672, KL reg: 0.001\n",
      "Score: 0.677, KL reg: 0.001\n",
      "Score: 0.672, KL reg: 0.001\n",
      "Score: 0.677, KL reg: 0.001\n",
      "Score: 0.677, KL reg: 0.001\n",
      "Score: 0.672, KL reg: 0.001\n",
      "Score: 0.677, KL reg: 0.001\n",
      "Score: 0.672, KL reg: 0.001\n",
      "Score: 0.677, KL reg: 0.001\n",
      "Score: 0.672, KL reg: 0.001\n"
     ]
    },
    {
     "name": "stderr",
     "output_type": "stream",
     "text": [
      "INFO:root:Saving results..\n",
      "INFO:root:Saving results..\n"
     ]
    },
    {
     "name": "stdout",
     "output_type": "stream",
     "text": [
      "We run Tangram for this \n",
      "../DataPreparation/newData/\n",
      "We run Tangram for this \n",
      "../DataPreparation/newData/\n",
      "WARNING: adata.X seems to be already log-transformed.\n",
      "WARNING: adata.X seems to be already log-transformed.\n"
     ]
    },
    {
     "name": "stderr",
     "output_type": "stream",
     "text": [
      "INFO:root:223 training genes are saved in `uns``training_genes` of both single cell and spatial Anndatas.\n",
      "INFO:root:223 overlapped genes are saved in `uns``overlap_genes` of both single cell and spatial Anndatas.\n",
      "INFO:root:uniform based density prior is calculated and saved in `obs``uniform_density` of the spatial Anndata.\n",
      "INFO:root:rna count based density prior is calculated and saved in `obs``rna_count_based_density` of the spatial Anndata.\n",
      "INFO:root:223 training genes are saved in `uns``training_genes` of both single cell and spatial Anndatas.\n",
      "INFO:root:223 overlapped genes are saved in `uns``overlap_genes` of both single cell and spatial Anndatas.\n",
      "INFO:root:uniform based density prior is calculated and saved in `obs``uniform_density` of the spatial Anndata.\n",
      "INFO:root:rna count based density prior is calculated and saved in `obs``rna_count_based_density` of the spatial Anndata.\n",
      "INFO:root:Allocate tensors for mapping.\n",
      "INFO:root:Allocate tensors for mapping.\n",
      "INFO:root:Begin training with 223 genes and rna_count_based density_prior in clusters mode...\n",
      "INFO:root:Begin training with 223 genes and rna_count_based density_prior in clusters mode...\n",
      "INFO:root:Printing scores every 100 epochs.\n",
      "INFO:root:Printing scores every 100 epochs.\n"
     ]
    },
    {
     "name": "stdout",
     "output_type": "stream",
     "text": [
      "Score: 0.320, KL reg: 0.256Score: 0.324, KL reg: 0.258\n",
      "\n",
      "Score: 0.658, KL reg: 0.001\n",
      "Score: 0.660, KL reg: 0.001\n",
      "Score: 0.660, KL reg: 0.001\n",
      "Score: 0.662, KL reg: 0.001\n",
      "Score: 0.661, KL reg: 0.001\n",
      "Score: 0.663, KL reg: 0.001\n",
      "Score: 0.661, KL reg: 0.001\n",
      "Score: 0.664, KL reg: 0.001\n",
      "Score: 0.661, KL reg: 0.001\n",
      "Score: 0.664, KL reg: 0.001\n",
      "Score: 0.661, KL reg: 0.001\n",
      "Score: 0.664, KL reg: 0.001\n",
      "Score: 0.662, KL reg: 0.001\n",
      "Score: 0.664, KL reg: 0.001\n",
      "Score: 0.662, KL reg: 0.001\n",
      "Score: 0.664, KL reg: 0.001\n",
      "Score: 0.662, KL reg: 0.001\n",
      "Score: 0.664, KL reg: 0.001\n"
     ]
    },
    {
     "name": "stderr",
     "output_type": "stream",
     "text": [
      "INFO:root:Saving results..\n",
      "INFO:root:Saving results..\n"
     ]
    },
    {
     "name": "stdout",
     "output_type": "stream",
     "text": [
      "We run Tangram for this \n",
      "../DataPreparation/newData/\n",
      "We run Tangram for this \n",
      "../DataPreparation/newData/\n",
      "WARNING: adata.X seems to be already log-transformed.\n",
      "WARNING: adata.X seems to be already log-transformed.\n"
     ]
    },
    {
     "name": "stderr",
     "output_type": "stream",
     "text": [
      "INFO:root:223 training genes are saved in `uns``training_genes` of both single cell and spatial Anndatas.\n",
      "INFO:root:223 overlapped genes are saved in `uns``overlap_genes` of both single cell and spatial Anndatas.\n",
      "INFO:root:uniform based density prior is calculated and saved in `obs``uniform_density` of the spatial Anndata.\n",
      "INFO:root:rna count based density prior is calculated and saved in `obs``rna_count_based_density` of the spatial Anndata.\n",
      "INFO:root:223 training genes are saved in `uns``training_genes` of both single cell and spatial Anndatas.\n",
      "INFO:root:223 overlapped genes are saved in `uns``overlap_genes` of both single cell and spatial Anndatas.\n",
      "INFO:root:uniform based density prior is calculated and saved in `obs``uniform_density` of the spatial Anndata.\n",
      "INFO:root:rna count based density prior is calculated and saved in `obs``rna_count_based_density` of the spatial Anndata.\n",
      "INFO:root:Allocate tensors for mapping.\n",
      "INFO:root:Begin training with 223 genes and rna_count_based density_prior in clusters mode...\n",
      "INFO:root:Printing scores every 100 epochs.\n"
     ]
    },
    {
     "name": "stdout",
     "output_type": "stream",
     "text": [
      "Score: 0.326, KL reg: 0.281\n"
     ]
    },
    {
     "name": "stderr",
     "output_type": "stream",
     "text": [
      "INFO:root:Allocate tensors for mapping.\n",
      "INFO:root:Begin training with 223 genes and rna_count_based density_prior in clusters mode...\n",
      "INFO:root:Printing scores every 100 epochs.\n"
     ]
    },
    {
     "name": "stdout",
     "output_type": "stream",
     "text": [
      "Score: 0.320, KL reg: 0.279\n",
      "Score: 0.673, KL reg: 0.001\n",
      "Score: 0.657, KL reg: 0.001\n",
      "Score: 0.676, KL reg: 0.001\n",
      "Score: 0.660, KL reg: 0.001\n",
      "Score: 0.676, KL reg: 0.001\n",
      "Score: 0.661, KL reg: 0.001\n",
      "Score: 0.677, KL reg: 0.001\n",
      "Score: 0.661, KL reg: 0.001\n",
      "Score: 0.677, KL reg: 0.001\n",
      "Score: 0.661, KL reg: 0.001\n",
      "Score: 0.677, KL reg: 0.001\n",
      "Score: 0.661, KL reg: 0.001\n",
      "Score: 0.677, KL reg: 0.001\n",
      "Score: 0.661, KL reg: 0.001\n",
      "Score: 0.677, KL reg: 0.001\n",
      "Score: 0.661, KL reg: 0.001\n",
      "Score: 0.677, KL reg: 0.001\n",
      "Score: 0.661, KL reg: 0.001\n"
     ]
    },
    {
     "name": "stderr",
     "output_type": "stream",
     "text": [
      "INFO:root:Saving results..\n",
      "INFO:root:Saving results..\n"
     ]
    },
    {
     "name": "stdout",
     "output_type": "stream",
     "text": [
      "We run Tangram for this \n",
      "../DataPreparation/newData/\n",
      "We run Tangram for this \n",
      "../DataPreparation/newData/\n",
      "WARNING: adata.X seems to be already log-transformed.\n",
      "WARNING: adata.X seems to be already log-transformed.\n"
     ]
    },
    {
     "name": "stderr",
     "output_type": "stream",
     "text": [
      "INFO:root:223 training genes are saved in `uns``training_genes` of both single cell and spatial Anndatas.\n",
      "INFO:root:223 overlapped genes are saved in `uns``overlap_genes` of both single cell and spatial Anndatas.\n",
      "INFO:root:uniform based density prior is calculated and saved in `obs``uniform_density` of the spatial Anndata.\n",
      "INFO:root:rna count based density prior is calculated and saved in `obs``rna_count_based_density` of the spatial Anndata.\n",
      "INFO:root:Allocate tensors for mapping.\n",
      "INFO:root:Begin training with 223 genes and rna_count_based density_prior in clusters mode...\n",
      "INFO:root:Printing scores every 100 epochs.\n"
     ]
    },
    {
     "name": "stdout",
     "output_type": "stream",
     "text": [
      "Score: 0.325, KL reg: 0.278\n"
     ]
    },
    {
     "name": "stderr",
     "output_type": "stream",
     "text": [
      "INFO:root:223 training genes are saved in `uns``training_genes` of both single cell and spatial Anndatas.\n",
      "INFO:root:223 overlapped genes are saved in `uns``overlap_genes` of both single cell and spatial Anndatas.\n",
      "INFO:root:uniform based density prior is calculated and saved in `obs``uniform_density` of the spatial Anndata.\n",
      "INFO:root:rna count based density prior is calculated and saved in `obs``rna_count_based_density` of the spatial Anndata.\n",
      "INFO:root:Allocate tensors for mapping.\n",
      "INFO:root:Begin training with 223 genes and rna_count_based density_prior in clusters mode...\n",
      "INFO:root:Printing scores every 100 epochs.\n"
     ]
    },
    {
     "name": "stdout",
     "output_type": "stream",
     "text": [
      "Score: 0.322, KL reg: 0.278\n",
      "Score: 0.659, KL reg: 0.001\n",
      "Score: 0.650, KL reg: 0.001Score: 0.662, KL reg: 0.001\n",
      "\n",
      "Score: 0.663, KL reg: 0.001\n",
      "Score: 0.653, KL reg: 0.001\n",
      "Score: 0.663, KL reg: 0.001\n",
      "Score: 0.654, KL reg: 0.001\n",
      "Score: 0.654, KL reg: 0.001\n",
      "Score: 0.663, KL reg: 0.001\n",
      "Score: 0.654, KL reg: 0.001\n",
      "Score: 0.663, KL reg: 0.001\n",
      "Score: 0.655, KL reg: 0.001\n",
      "Score: 0.663, KL reg: 0.001\n",
      "Score: 0.655, KL reg: 0.001\n",
      "Score: 0.663, KL reg: 0.001\n",
      "Score: 0.655, KL reg: 0.001\n",
      "Score: 0.663, KL reg: 0.001\n",
      "Score: 0.655, KL reg: 0.001\n"
     ]
    },
    {
     "name": "stderr",
     "output_type": "stream",
     "text": [
      "INFO:root:Saving results..\n",
      "INFO:root:Saving results..\n"
     ]
    },
    {
     "name": "stdout",
     "output_type": "stream",
     "text": [
      "We run Tangram for this \n",
      "../DataPreparation/newData/\n",
      "WARNING: adata.X seems to be already log-transformed.\n"
     ]
    },
    {
     "name": "stderr",
     "output_type": "stream",
     "text": [
      "INFO:root:224 training genes are saved in `uns``training_genes` of both single cell and spatial Anndatas.\n",
      "INFO:root:224 overlapped genes are saved in `uns``overlap_genes` of both single cell and spatial Anndatas.\n",
      "INFO:root:uniform based density prior is calculated and saved in `obs``uniform_density` of the spatial Anndata.\n",
      "INFO:root:rna count based density prior is calculated and saved in `obs``rna_count_based_density` of the spatial Anndata.\n",
      "INFO:root:Allocate tensors for mapping.\n",
      "INFO:root:Begin training with 224 genes and rna_count_based density_prior in clusters mode...\n",
      "INFO:root:Printing scores every 100 epochs.\n"
     ]
    },
    {
     "name": "stdout",
     "output_type": "stream",
     "text": [
      "Score: 0.319, KL reg: 0.283\n",
      "Score: 0.654, KL reg: 0.001\n",
      "Score: 0.657, KL reg: 0.001\n",
      "Score: 0.657, KL reg: 0.001\n",
      "Score: 0.658, KL reg: 0.001\n",
      "Score: 0.658, KL reg: 0.001\n",
      "Score: 0.658, KL reg: 0.001\n",
      "Score: 0.658, KL reg: 0.001\n",
      "Score: 0.658, KL reg: 0.001\n",
      "Score: 0.658, KL reg: 0.001\n"
     ]
    },
    {
     "name": "stderr",
     "output_type": "stream",
     "text": [
      "INFO:root:Saving results..\n"
     ]
    },
    {
     "name": "stdout",
     "output_type": "stream",
     "text": [
      "We run Tangram for this \n",
      "../DataPreparation/newData/\n",
      "WARNING: adata.X seems to be already log-transformed.\n"
     ]
    },
    {
     "name": "stderr",
     "output_type": "stream",
     "text": [
      "INFO:root:224 training genes are saved in `uns``training_genes` of both single cell and spatial Anndatas.\n",
      "INFO:root:224 overlapped genes are saved in `uns``overlap_genes` of both single cell and spatial Anndatas.\n",
      "INFO:root:uniform based density prior is calculated and saved in `obs``uniform_density` of the spatial Anndata.\n",
      "INFO:root:rna count based density prior is calculated and saved in `obs``rna_count_based_density` of the spatial Anndata.\n",
      "INFO:root:Allocate tensors for mapping.\n",
      "INFO:root:Begin training with 224 genes and rna_count_based density_prior in clusters mode...\n",
      "INFO:root:Printing scores every 100 epochs.\n"
     ]
    },
    {
     "name": "stdout",
     "output_type": "stream",
     "text": [
      "Score: 0.317, KL reg: 0.275\n",
      "Score: 0.641, KL reg: 0.001\n",
      "Score: 0.643, KL reg: 0.001\n",
      "Score: 0.644, KL reg: 0.001\n",
      "Score: 0.644, KL reg: 0.001\n",
      "Score: 0.644, KL reg: 0.001\n",
      "Score: 0.645, KL reg: 0.001\n",
      "Score: 0.645, KL reg: 0.001\n",
      "Score: 0.645, KL reg: 0.001\n",
      "Score: 0.645, KL reg: 0.001\n"
     ]
    },
    {
     "name": "stderr",
     "output_type": "stream",
     "text": [
      "INFO:root:Saving results..\n"
     ]
    }
   ],
   "source": [
    "KFOLD = list(range(len(train_gene)))\n",
    "with multiprocessing.Pool(2) as pool:\n",
    "    result = pd.concat(pool.map(gimVI_impute, KFOLD), axis=1)\n",
    "result.to_csv(outdir + \"/gimVI_impute.csv\", header=1, index=1)\n",
    "\n",
    "KFOLD = list(range(len(train_gene)))\n",
    "with multiprocessing.Pool(2) as pool:\n",
    "    result = pd.concat(pool.map(Tangram_impute, KFOLD), axis=1)\n",
    "result.to_csv(outdir + \"/Tangram_impute.csv\", header=1, index=1)"
   ]
  },
  {
   "cell_type": "markdown",
   "metadata": {},
   "source": [
    "# Seurat impute file process"
   ]
  },
  {
   "cell_type": "code",
   "execution_count": 24,
   "metadata": {
    "scrolled": true
   },
   "outputs": [
    {
     "name": "stderr",
     "output_type": "stream",
     "text": [
      "Read 248 items\n",
      "Warning message:\n",
      "In dir.create(Args[7]) : 'XeniumResults' already exists\n"
     ]
    },
    {
     "name": "stdout",
     "output_type": "stream",
     "text": [
      "[1] \"We Used Test Genes : \"\n",
      " [1] \"Cobll1\"   \"Opalin\"   \"Cd68\"     \"Sema3a\"   \"Cacna2d2\" \"Cntnap4\" \n",
      " [7] \"Spag16\"   \"Kcnmb2\"   \"Tanc1\"    \"Bhlhe22\"  \"Rspo1\"    \"Pip5k1b\" \n",
      "[13] \"Acvrl1\"   \"Acta2\"    \"Bcl11b\"   \"Htr1f\"    \"Cd44\"     \"Trem2\"   \n",
      "[19] \"Tmem132d\" \"Opn3\"     \"Slc13a4\"  \"Nrn1\"     \"Deptor\"   \"Pde11a\"  \n",
      "[25] \"Btbd11\"  \n",
      "[1] 223\n",
      "[1]  223 1620\n"
     ]
    },
    {
     "name": "stderr",
     "output_type": "stream",
     "text": [
      "Running CCA\n",
      "Merging objects\n",
      "Finding neighborhoods\n",
      "Finding anchors\n",
      "\tFound 4690 anchors\n",
      "Running PCA on query dataset\n"
     ]
    },
    {
     "name": "stdout",
     "output_type": "stream",
     "text": [
      "[1] \"run Transfer\"\n"
     ]
    },
    {
     "name": "stderr",
     "output_type": "stream",
     "text": [
      "Finding integration vectors\n",
      "Finding integration vector weights\n",
      "0%   10   20   30   40   50   60   70   80   90   100%\n",
      "[----|----|----|----|----|----|----|----|----|----|\n",
      "**************************************************|\n",
      "Transfering 26474 features onto reference data\n"
     ]
    },
    {
     "name": "stdout",
     "output_type": "stream",
     "text": [
      "[1] \"We Used Test Genes : \"\n",
      " [1] \"Fezf2\"         \"Adgrl4\"        \"Cdh20\"         \"Cntn6\"        \n",
      " [5] \"Kcnh5\"         \"Siglech\"       \"Pglyrp1\"       \"Epha4\"        \n",
      " [9] \"Nell1\"         \"Kctd12\"        \"Gad2\"          \"Prox1\"        \n",
      "[13] \"Hpcal1\"        \"Cort\"          \"2010300C02Rik\" \"Dner\"         \n",
      "[17] \"Fos\"           \"Gad1\"          \"Nts\"           \"Garnl3\"       \n",
      "[21] \"Slit2\"         \"Rasgrf2\"       \"Igfbp4\"        \"Lyz2\"         \n",
      "[25] \"Myl4\"         \n",
      "[1] 223\n",
      "[1]  223 1620\n"
     ]
    },
    {
     "name": "stderr",
     "output_type": "stream",
     "text": [
      "Running CCA\n",
      "Merging objects\n",
      "Finding neighborhoods\n",
      "Finding anchors\n",
      "\tFound 4685 anchors\n",
      "Running PCA on query dataset\n"
     ]
    },
    {
     "name": "stdout",
     "output_type": "stream",
     "text": [
      "[1] \"run Transfer\"\n"
     ]
    },
    {
     "name": "stderr",
     "output_type": "stream",
     "text": [
      "Finding integration vectors\n",
      "Finding integration vector weights\n",
      "0%   10   20   30   40   50   60   70   80   90   100%\n",
      "[----|----|----|----|----|----|----|----|----|----|\n",
      "**************************************************|\n",
      "Transfering 26474 features onto reference data\n"
     ]
    },
    {
     "name": "stdout",
     "output_type": "stream",
     "text": [
      "[1] \"We Used Test Genes : \"\n",
      " [1] \"Sox11\"   \"Sipa1l3\" \"Sla\"     \"Vat1l\"   \"Vip\"     \"Cd24a\"   \"Mapk4\"  \n",
      " [8] \"Foxp2\"   \"Pdzrn3\"  \"Kctd8\"   \"Slc44a5\" \"Tmem163\" \"Trp73\"   \"Gm19410\"\n",
      "[15] \"Pecam1\"  \"Aldh1a2\" \"Sema5b\"  \"Tox\"     \"Nostrin\" \"Cplx3\"   \"Arc\"    \n",
      "[22] \"Chodl\"   \"Gfra2\"   \"Spi1\"    \"Pln\"    \n",
      "[1] 223\n",
      "[1]  223 1620\n"
     ]
    },
    {
     "name": "stderr",
     "output_type": "stream",
     "text": [
      "Running CCA\n",
      "Merging objects\n",
      "Finding neighborhoods\n",
      "Finding anchors\n",
      "\tFound 4894 anchors\n",
      "Running PCA on query dataset\n"
     ]
    },
    {
     "name": "stdout",
     "output_type": "stream",
     "text": [
      "[1] \"run Transfer\"\n"
     ]
    },
    {
     "name": "stderr",
     "output_type": "stream",
     "text": [
      "Finding integration vectors\n",
      "Finding integration vector weights\n",
      "0%   10   20   30   40   50   60   70   80   90   100%\n",
      "[----|----|----|----|----|----|----|----|----|----|\n",
      "**************************************************|\n",
      "Transfering 26474 features onto reference data\n"
     ]
    },
    {
     "name": "stdout",
     "output_type": "stream",
     "text": [
      "[1] \"We Used Test Genes : \"\n",
      " [1] \"Npy2r\"   \"Col6a1\"  \"Meis2\"   \"Hapln1\"  \"Rims3\"   \"Rorb\"    \"Pkib\"   \n",
      " [8] \"Cpne8\"   \"Rasl10a\" \"Trpc4\"   \"Trbc2\"   \"Slc17a7\" \"Eya4\"    \"Syndig1\"\n",
      "[15] \"Fibcd1\"  \"Ntsr2\"   \"Parm1\"   \"Syt6\"    \"Shisa6\"  \"Aqp4\"    \"Rprm\"   \n",
      "[22] \"Gsg1l\"   \"Sox17\"   \"Mecom\"   \"Gadd45a\"\n",
      "[1] 223\n",
      "[1]  223 1620\n"
     ]
    },
    {
     "name": "stderr",
     "output_type": "stream",
     "text": [
      "Running CCA\n",
      "Merging objects\n",
      "Finding neighborhoods\n",
      "Finding anchors\n",
      "\tFound 4797 anchors\n",
      "Running PCA on query dataset\n"
     ]
    },
    {
     "name": "stdout",
     "output_type": "stream",
     "text": [
      "[1] \"run Transfer\"\n"
     ]
    },
    {
     "name": "stderr",
     "output_type": "stream",
     "text": [
      "Finding integration vectors\n",
      "Finding integration vector weights\n",
      "0%   10   20   30   40   50   60   70   80   90   100%\n",
      "[----|----|----|----|----|----|----|----|----|----|\n",
      "**************************************************|\n",
      "Transfering 26474 features onto reference data\n"
     ]
    },
    {
     "name": "stdout",
     "output_type": "stream",
     "text": [
      "[1] \"We Used Test Genes : \"\n",
      " [1] \"Gjb2\"     \"Cdh6\"     \"Igf2\"     \"Igsf21\"   \"Nrep\"     \"Cwh43\"   \n",
      " [7] \"Slc6a3\"   \"Prph\"     \"Syt2\"     \"Emcn\"     \"Plekha2\"  \"Col1a1\"  \n",
      "[13] \"Satb2\"    \"Cbln1\"    \"Prss35\"   \"Spp1\"     \"Cbln4\"    \"Sorcs3\"  \n",
      "[19] \"Rfx4\"     \"Sdk2\"     \"Ndst4\"    \"Thsd7a\"   \"Arhgap12\" \"Plch1\"   \n",
      "[25] \"Pdgfra\"  \n",
      "[1] 223\n",
      "[1]  223 1620\n"
     ]
    },
    {
     "name": "stderr",
     "output_type": "stream",
     "text": [
      "Running CCA\n",
      "Merging objects\n",
      "Finding neighborhoods\n",
      "Finding anchors\n",
      "\tFound 4722 anchors\n",
      "Running PCA on query dataset\n"
     ]
    },
    {
     "name": "stdout",
     "output_type": "stream",
     "text": [
      "[1] \"run Transfer\"\n"
     ]
    },
    {
     "name": "stderr",
     "output_type": "stream",
     "text": [
      "Finding integration vectors\n",
      "Finding integration vector weights\n",
      "0%   10   20   30   40   50   60   70   80   90   100%\n",
      "[----|----|----|----|----|----|----|----|----|----|\n",
      "**************************************************|\n",
      "Transfering 26474 features onto reference data\n"
     ]
    },
    {
     "name": "stdout",
     "output_type": "stream",
     "text": [
      "[1] \"We Used Test Genes : \"\n",
      " [1] \"Gfap\"     \"Cd53\"     \"Th\"       \"Laptm5\"   \"Car4\"     \"Myo16\"   \n",
      " [7] \"Gng12\"    \"Zfpm2\"    \"Strip2\"   \"Kdr\"      \"Rbp4\"     \"Fn1\"     \n",
      "[13] \"Prdm8\"    \"Gli3\"     \"Paqr5\"    \"Neurod6\"  \"Lypd6\"    \"Ppp1r1b\" \n",
      "[19] \"Zfp536\"   \"Slfn5\"    \"Arhgap25\" \"Sema3e\"   \"Penk\"     \"Carmn\"   \n",
      "[25] \"Stard5\"  \n",
      "[1] 223\n",
      "[1]  223 1620\n"
     ]
    },
    {
     "name": "stderr",
     "output_type": "stream",
     "text": [
      "Running CCA\n",
      "Merging objects\n",
      "Finding neighborhoods\n",
      "Finding anchors\n",
      "\tFound 4700 anchors\n",
      "Running PCA on query dataset\n"
     ]
    },
    {
     "name": "stdout",
     "output_type": "stream",
     "text": [
      "[1] \"run Transfer\"\n"
     ]
    },
    {
     "name": "stderr",
     "output_type": "stream",
     "text": [
      "Finding integration vectors\n",
      "Finding integration vector weights\n",
      "0%   10   20   30   40   50   60   70   80   90   100%\n",
      "[----|----|----|----|----|----|----|----|----|----|\n",
      "**************************************************|\n",
      "Transfering 26474 features onto reference data\n"
     ]
    },
    {
     "name": "stdout",
     "output_type": "stream",
     "text": [
      "[1] \"We Used Test Genes : \"\n",
      " [1] \"Fhod3\"    \"Cldn5\"    \"Cspg4\"    \"Fgd5\"     \"Sntb1\"    \"Nwd2\"    \n",
      " [7] \"Rnf152\"   \"Sema3d\"   \"Slc39a12\" \"Ror1\"     \"Acsbg1\"   \"Pvalb\"   \n",
      "[13] \"Bhlhe40\"  \"Tmem255a\" \"Nrp2\"     \"Ccn2\"     \"Dcn\"      \"Cpne6\"   \n",
      "[19] \"Bdnf\"     \"Cux2\"     \"Igfbp6\"   \"Pdzd2\"    \"Lamp5\"    \"Igf1\"    \n",
      "[25] \"Dpyd\"    \n",
      "[1] 223\n",
      "[1]  223 1620\n"
     ]
    },
    {
     "name": "stderr",
     "output_type": "stream",
     "text": [
      "Running CCA\n",
      "Merging objects\n",
      "Finding neighborhoods\n",
      "Finding anchors\n",
      "\tFound 4798 anchors\n",
      "Running PCA on query dataset\n"
     ]
    },
    {
     "name": "stdout",
     "output_type": "stream",
     "text": [
      "[1] \"run Transfer\"\n"
     ]
    },
    {
     "name": "stderr",
     "output_type": "stream",
     "text": [
      "Finding integration vectors\n",
      "Finding integration vector weights\n",
      "0%   10   20   30   40   50   60   70   80   90   100%\n",
      "[----|----|----|----|----|----|----|----|----|----|\n",
      "**************************************************|\n",
      "Transfering 26474 features onto reference data\n"
     ]
    },
    {
     "name": "stdout",
     "output_type": "stream",
     "text": [
      "[1] \"We Used Test Genes : \"\n",
      " [1] \"Dpy19l1\" \"Zfp366\"  \"Necab1\"  \"Fign\"    \"Clmn\"    \"Sox10\"   \"Chat\"   \n",
      " [8] \"Slc17a6\" \"Gpr17\"   \"Ly6a\"    \"Galnt14\" \"Igfbp5\"  \"Cpne4\"   \"Syt17\"  \n",
      "[15] \"Prr16\"   \"Calb2\"   \"Pcsk5\"   \"Hs3st2\"  \"Plcxd2\"  \"Nr2f2\"   \"Ikzf1\"  \n",
      "[22] \"Crh\"     \"Gjc3\"    \"Necab2\"  \"Cdh4\"   \n",
      "[1] 223\n",
      "[1]  223 1620\n"
     ]
    },
    {
     "name": "stderr",
     "output_type": "stream",
     "text": [
      "Running CCA\n",
      "Merging objects\n",
      "Finding neighborhoods\n",
      "Finding anchors\n",
      "\tFound 4873 anchors\n",
      "Running PCA on query dataset\n"
     ]
    },
    {
     "name": "stdout",
     "output_type": "stream",
     "text": [
      "[1] \"run Transfer\"\n"
     ]
    },
    {
     "name": "stderr",
     "output_type": "stream",
     "text": [
      "Finding integration vectors\n",
      "Finding integration vector weights\n",
      "0%   10   20   30   40   50   60   70   80   90   100%\n",
      "[----|----|----|----|----|----|----|----|----|----|\n",
      "**************************************************|\n",
      "Transfering 26474 features onto reference data\n"
     ]
    },
    {
     "name": "stdout",
     "output_type": "stream",
     "text": [
      "[1] \"We Used Test Genes : \"\n",
      " [1] \"Gm2115\"   \"Pdyn\"     \"Inpp4b\"   \"Angpt1\"   \"Adamtsl1\" \"Neto2\"   \n",
      " [7] \"Pthlh\"    \"Adamts2\"  \"Sst\"      \"Mdga1\"    \"Arhgef28\" \"Cntnap5b\"\n",
      "[13] \"Tle4\"     \"Fmod\"     \"Col19a1\"  \"Sema6a\"   \"Nxph3\"    \"Rxfp1\"   \n",
      "[19] \"Orai2\"    \"Plcxd3\"   \"Ndst3\"    \"Chrm2\"    \"Cd93\"     \"Pou3f1\"  \n",
      "[1] 224\n",
      "[1]  224 1620\n"
     ]
    },
    {
     "name": "stderr",
     "output_type": "stream",
     "text": [
      "Running CCA\n",
      "Merging objects\n",
      "Finding neighborhoods\n",
      "Finding anchors\n",
      "\tFound 4742 anchors\n",
      "Running PCA on query dataset\n"
     ]
    },
    {
     "name": "stdout",
     "output_type": "stream",
     "text": [
      "[1] \"run Transfer\"\n"
     ]
    },
    {
     "name": "stderr",
     "output_type": "stream",
     "text": [
      "Finding integration vectors\n",
      "Finding integration vector weights\n",
      "0%   10   20   30   40   50   60   70   80   90   100%\n",
      "[----|----|----|----|----|----|----|----|----|----|\n",
      "**************************************************|\n",
      "Transfering 26474 features onto reference data\n"
     ]
    },
    {
     "name": "stdout",
     "output_type": "stream",
     "text": [
      "[1] \"We Used Test Genes : \"\n",
      " [1] \"Pde7b\"   \"Rmst\"    \"Cdh9\"    \"Ano1\"    \"Cd300c2\" \"Id2\"     \"Sncg\"   \n",
      " [8] \"Npnt\"    \"Ebf3\"    \"Unc13c\"  \"Cyp1b1\"  \"Cdh13\"   \"Dkk3\"    \"Rspo2\"  \n",
      "[15] \"Arhgap6\" \"Hat1\"    \"Grik3\"   \"Tacr1\"   \"Wfs1\"    \"Cabp7\"   \"Vwc2l\"  \n",
      "[22] \"Rab3b\"   \"Calb1\"   \"Gucy1a1\"\n",
      "[1] 224\n",
      "[1]  224 1620\n"
     ]
    },
    {
     "name": "stderr",
     "output_type": "stream",
     "text": [
      "Running CCA\n",
      "Merging objects\n",
      "Finding neighborhoods\n",
      "Finding anchors\n",
      "\tFound 4732 anchors\n",
      "Running PCA on query dataset\n"
     ]
    },
    {
     "name": "stdout",
     "output_type": "stream",
     "text": [
      "[1] \"run Transfer\"\n"
     ]
    },
    {
     "name": "stderr",
     "output_type": "stream",
     "text": [
      "Finding integration vectors\n",
      "Finding integration vector weights\n",
      "0%   10   20   30   40   50   60   70   80   90   100%\n",
      "[----|----|----|----|----|----|----|----|----|----|\n",
      "**************************************************|\n",
      "Transfering 26474 features onto reference data\n"
     ]
    },
    {
     "name": "stdout",
     "output_type": "stream",
     "text": [
      "Warning message:\n",
      "In dir.create(Args[7]) : 'XeniumResults' already exists off\n"
     ]
    },
    {
     "data": {
      "text/plain": [
       "0"
      ]
     },
     "execution_count": 24,
     "metadata": {},
     "output_type": "execute_result"
    }
   ],
   "source": [
    "input_path = \"../DataPreparation/newData/\"\n",
    "output_path = \"XeniumResults/\"\n",
    "os.system(\"Rscript RCodes/Seurat.r \" + input_path + \" \" + output_path)"
   ]
  },
  {
   "cell_type": "markdown",
   "metadata": {},
   "source": [
    "# LIGER impute file process"
   ]
  },
  {
   "cell_type": "code",
   "execution_count": 25,
   "metadata": {
    "scrolled": true
   },
   "outputs": [
    {
     "name": "stderr",
     "output_type": "stream",
     "text": [
      "Loading required package: cowplot\n",
      "Loading required package: Matrix\n",
      "Loading required package: patchwork\n",
      "\n",
      "Attaching package: ‘patchwork’\n",
      "\n",
      "The following object is masked from ‘package:cowplot’:\n",
      "\n",
      "    align_plots\n",
      "\n",
      "Read 248 items\n",
      "Warning message:\n",
      "In dir.create(Args[7]) : 'XeniumResults' already exists\n"
     ]
    },
    {
     "name": "stdout",
     "output_type": "stream",
     "text": [
      "[1] 25\n",
      "[1]  223 1620\n",
      "  |======================================================================| 100%\n",
      "Finished in 37.37114 secs, 30 iterations.\n",
      "Max iterations: 30.\n",
      "Convergence loss: 0.0009538967.\n",
      "Best results with seed 1.\n",
      "Warning:\n",
      "This function will discard the raw data previously stored in the liger object and replace the raw.data slot with the imputed data.\n",
      "\n",
      "Imputing given query datasets\n",
      " Reference dataset:\n",
      "    SMSC_RNA \n",
      " Query datasets:\n",
      "    SMSC_FISH \n",
      "[1] 25\n",
      "[1]  223 1620\n",
      "  |======================================================================| 100%\n",
      "Finished in 36.92763 secs, 30 iterations.\n",
      "Max iterations: 30.\n",
      "Convergence loss: 0.0009538967.\n",
      "Best results with seed 1.\n",
      "Warning:\n",
      "This function will discard the raw data previously stored in the liger object and replace the raw.data slot with the imputed data.\n",
      "\n",
      "Imputing given query datasets\n",
      " Reference dataset:\n",
      "    SMSC_RNA \n",
      " Query datasets:\n",
      "    SMSC_FISH \n",
      "[1] 25\n",
      "[1]  223 1620\n",
      "  |======================================================================| 100%\n",
      "Finished in 37.29175 secs, 30 iterations.\n",
      "Max iterations: 30.\n",
      "Convergence loss: 2.550459e-05.\n",
      "Best results with seed 1.\n",
      "Warning:\n",
      "This function will discard the raw data previously stored in the liger object and replace the raw.data slot with the imputed data.\n",
      "\n",
      "Imputing given query datasets\n",
      " Reference dataset:\n",
      "    SMSC_RNA \n",
      " Query datasets:\n",
      "    SMSC_FISH \n",
      "[1] 25\n",
      "[1]  223 1620\n",
      "  |======================================================================| 100%\n",
      "Finished in 37.94901 secs, 30 iterations.\n",
      "Max iterations: 30.\n",
      "Convergence loss: 2.550459e-05.\n",
      "Best results with seed 1.\n",
      "Warning:\n",
      "This function will discard the raw data previously stored in the liger object and replace the raw.data slot with the imputed data.\n",
      "\n",
      "Imputing given query datasets\n",
      " Reference dataset:\n",
      "    SMSC_RNA \n",
      " Query datasets:\n",
      "    SMSC_FISH \n",
      "[1] 25\n",
      "[1]  223 1620\n",
      "  |======================================================================| 100%\n",
      "Finished in 38.44726 secs, 30 iterations.\n",
      "Max iterations: 30.\n",
      "Convergence loss: 1.059981e-05.\n",
      "Best results with seed 1.\n",
      "Warning:\n",
      "This function will discard the raw data previously stored in the liger object and replace the raw.data slot with the imputed data.\n",
      "\n",
      "Imputing given query datasets\n",
      " Reference dataset:\n",
      "    SMSC_RNA \n",
      " Query datasets:\n",
      "    SMSC_FISH \n",
      "[1] 25\n",
      "[1]  223 1620\n",
      "  |======================================================================| 100%\n",
      "Finished in 37.57139 secs, 30 iterations.\n",
      "Max iterations: 30.\n",
      "Convergence loss: 1.059981e-05.\n",
      "Best results with seed 1.\n",
      "Warning:\n",
      "This function will discard the raw data previously stored in the liger object and replace the raw.data slot with the imputed data.\n",
      "\n",
      "Imputing given query datasets\n",
      " Reference dataset:\n",
      "    SMSC_RNA \n",
      " Query datasets:\n",
      "    SMSC_FISH \n",
      "[1] 25\n",
      "[1]  223 1620\n",
      "  |======================================================================| 100%\n",
      "Finished in 38.39758 secs, 30 iterations.\n",
      "Max iterations: 30.\n",
      "Convergence loss: 3.784694e-05.\n",
      "Best results with seed 1.\n",
      "Warning:\n",
      "This function will discard the raw data previously stored in the liger object and replace the raw.data slot with the imputed data.\n",
      "\n",
      "Imputing given query datasets\n",
      " Reference dataset:\n",
      "    SMSC_RNA \n",
      " Query datasets:\n",
      "    SMSC_FISH \n",
      "[1] 25\n",
      "[1]  223 1620\n",
      "  |======================================================================| 100%\n",
      "Finished in 39.44639 secs, 30 iterations.\n",
      "Max iterations: 30.\n",
      "Convergence loss: 3.784694e-05.\n",
      "Best results with seed 1.\n",
      "Warning:\n",
      "This function will discard the raw data previously stored in the liger object and replace the raw.data slot with the imputed data.\n",
      "\n",
      "Imputing given query datasets\n",
      " Reference dataset:\n",
      "    SMSC_RNA \n",
      " Query datasets:\n",
      "    SMSC_FISH \n",
      "[1] 25\n",
      "[1]  223 1620\n",
      "  |======================================================================| 100%\n",
      "Finished in 39.84051 secs, 30 iterations.\n",
      "Max iterations: 30.\n",
      "Convergence loss: 3.829437e-05.\n",
      "Best results with seed 1.\n",
      "Warning:\n",
      "This function will discard the raw data previously stored in the liger object and replace the raw.data slot with the imputed data.\n",
      "\n",
      "Imputing given query datasets\n",
      " Reference dataset:\n",
      "    SMSC_RNA \n",
      " Query datasets:\n",
      "    SMSC_FISH \n",
      "[1] 25\n",
      "[1]  223 1620\n",
      "  |======================================================================| 100%\n",
      "Finished in 37.86313 secs, 30 iterations.\n",
      "Max iterations: 30.\n",
      "Convergence loss: 3.829437e-05.\n",
      "Best results with seed 1.\n",
      "Warning:\n",
      "This function will discard the raw data previously stored in the liger object and replace the raw.data slot with the imputed data.\n",
      "\n",
      "Imputing given query datasets\n",
      " Reference dataset:\n",
      "    SMSC_RNA \n",
      " Query datasets:\n",
      "    SMSC_FISH \n",
      "[1] 25\n",
      "[1]  223 1620\n",
      "  |======================================================================| 100%\n",
      "Finished in 37.58972 secs, 30 iterations.\n",
      "Max iterations: 30.\n",
      "Convergence loss: 5.752069e-05.\n",
      "Best results with seed 1.\n",
      "Warning:\n",
      "This function will discard the raw data previously stored in the liger object and replace the raw.data slot with the imputed data.\n",
      "\n",
      "Imputing given query datasets\n",
      " Reference dataset:\n",
      "    SMSC_RNA \n",
      " Query datasets:\n",
      "    SMSC_FISH \n",
      "[1] 25\n",
      "[1]  223 1620\n",
      "  |======================================================================| 100%\n",
      "Finished in 40.20496 secs, 30 iterations.\n",
      "Max iterations: 30.\n",
      "Convergence loss: 5.752069e-05.\n",
      "Best results with seed 1.\n",
      "Warning:\n",
      "This function will discard the raw data previously stored in the liger object and replace the raw.data slot with the imputed data.\n",
      "\n",
      "Imputing given query datasets\n",
      " Reference dataset:\n",
      "    SMSC_RNA \n",
      " Query datasets:\n",
      "    SMSC_FISH \n",
      "[1] 25\n",
      "[1]  223 1620\n",
      "  |======================================================================| 100%\n",
      "Finished in 37.63625 secs, 30 iterations.\n",
      "Max iterations: 30.\n",
      "Convergence loss: 0.0001136379.\n",
      "Best results with seed 1.\n",
      "Warning:\n",
      "This function will discard the raw data previously stored in the liger object and replace the raw.data slot with the imputed data.\n",
      "\n",
      "Imputing given query datasets\n",
      " Reference dataset:\n",
      "    SMSC_RNA \n",
      " Query datasets:\n",
      "    SMSC_FISH \n",
      "[1] 25\n",
      "[1]  223 1620\n",
      "  |======================================================================| 100%\n",
      "Finished in 39.05497 secs, 30 iterations.\n",
      "Max iterations: 30.\n",
      "Convergence loss: 0.0001136379.\n",
      "Best results with seed 1.\n",
      "Warning:\n",
      "This function will discard the raw data previously stored in the liger object and replace the raw.data slot with the imputed data.\n",
      "\n",
      "Imputing given query datasets\n",
      " Reference dataset:\n",
      "    SMSC_RNA \n",
      " Query datasets:\n",
      "    SMSC_FISH \n",
      "[1] 25\n",
      "[1]  223 1620\n",
      "  |======================================================================| 100%\n",
      "Finished in 38.75674 secs, 30 iterations.\n",
      "Max iterations: 30.\n",
      "Convergence loss: 4.240444e-05.\n",
      "Best results with seed 1.\n",
      "Warning:\n",
      "This function will discard the raw data previously stored in the liger object and replace the raw.data slot with the imputed data.\n",
      "\n",
      "Imputing given query datasets\n",
      " Reference dataset:\n",
      "    SMSC_RNA \n",
      " Query datasets:\n",
      "    SMSC_FISH \n",
      "[1] 25\n",
      "[1]  223 1620\n",
      "  |======================================================================| 100%\n",
      "Finished in 38.21873 secs, 30 iterations.\n",
      "Max iterations: 30.\n",
      "Convergence loss: 4.240444e-05.\n",
      "Best results with seed 1.\n",
      "Warning:\n",
      "This function will discard the raw data previously stored in the liger object and replace the raw.data slot with the imputed data.\n",
      "\n",
      "Imputing given query datasets\n",
      " Reference dataset:\n",
      "    SMSC_RNA \n",
      " Query datasets:\n",
      "    SMSC_FISH \n",
      "[1] 24\n",
      "[1]  224 1620\n",
      "  |======================================================================| 100%\n",
      "Finished in 39.27706 secs, 30 iterations.\n",
      "Max iterations: 30.\n",
      "Convergence loss: 3.038141e-05.\n",
      "Best results with seed 1.\n",
      "Warning:\n",
      "This function will discard the raw data previously stored in the liger object and replace the raw.data slot with the imputed data.\n",
      "\n",
      "Imputing given query datasets\n",
      " Reference dataset:\n",
      "    SMSC_RNA \n",
      " Query datasets:\n",
      "    SMSC_FISH \n",
      "[1] 24\n",
      "[1]  224 1620\n",
      "  |======================================================================| 100%\n",
      "Finished in 37.83403 secs, 30 iterations.\n",
      "Max iterations: 30.\n",
      "Convergence loss: 3.038141e-05.\n",
      "Best results with seed 1.\n",
      "Warning:\n",
      "This function will discard the raw data previously stored in the liger object and replace the raw.data slot with the imputed data.\n",
      "\n",
      "Imputing given query datasets\n",
      " Reference dataset:\n",
      "    SMSC_RNA \n",
      " Query datasets:\n",
      "    SMSC_FISH \n",
      "[1] 24\n",
      "[1]  224 1620\n",
      "  |======================================================================| 100%\n",
      "Finished in 37.92681 secs, 30 iterations.\n",
      "Max iterations: 30.\n",
      "Convergence loss: 1.405585e-05.\n",
      "Best results with seed 1.\n",
      "Warning:\n",
      "This function will discard the raw data previously stored in the liger object and replace the raw.data slot with the imputed data.\n",
      "\n",
      "Imputing given query datasets\n",
      " Reference dataset:\n",
      "    SMSC_RNA \n",
      " Query datasets:\n",
      "    SMSC_FISH \n",
      "[1] 24\n",
      "[1]  224 1620\n",
      "  |======================================================================| 100%\n",
      "Finished in 38.01482 secs, 30 iterations.\n",
      "Max iterations: 30.\n",
      "Convergence loss: 1.405585e-05.\n",
      "Best results with seed 1.\n",
      "Warning:\n",
      "This function will discard the raw data previously stored in the liger object and replace the raw.data slot with the imputed data.\n",
      "\n",
      "Imputing given query datasets\n",
      " Reference dataset:\n",
      "    SMSC_RNA \n",
      " Query datasets:\n",
      "    SMSC_FISH \n"
     ]
    },
    {
     "name": "stderr",
     "output_type": "stream",
     "text": [
      "There were 50 or more warnings (use warnings() to see the first 50)\n"
     ]
    },
    {
     "data": {
      "text/plain": [
       "0"
      ]
     },
     "execution_count": 25,
     "metadata": {},
     "output_type": "execute_result"
    }
   ],
   "source": [
    "input_path = \"../DataPreparation/newData/\"\n",
    "output_path = \"XeniumResults/\"\n",
    "os.system(\"Rscript RCodes/LIGER.r \" + input_path + \" \" + output_path)"
   ]
  },
  {
   "cell_type": "markdown",
   "metadata": {},
   "source": [
    "# Calculated Metrics"
   ]
  },
  {
   "cell_type": "code",
   "execution_count": 26,
   "metadata": {},
   "outputs": [],
   "source": [
    "def cal_ssim(im1, im2, M):\n",
    "    assert len(im1.shape) == 2 and len(im2.shape) == 2\n",
    "    assert im1.shape == im2.shape\n",
    "    mu1 = im1.mean()\n",
    "    mu2 = im2.mean()\n",
    "    sigma1 = np.sqrt(((im1 - mu1) ** 2).mean())\n",
    "    sigma2 = np.sqrt(((im2 - mu2) ** 2).mean())\n",
    "    sigma12 = ((im1 - mu1) * (im2 - mu2)).mean()\n",
    "    k1, k2, L = 0.01, 0.03, M\n",
    "    C1 = (k1 * L) ** 2\n",
    "    C2 = (k2 * L) ** 2\n",
    "    C3 = C2 / 2\n",
    "    l12 = (2 * mu1 * mu2 + C1) / (mu1**2 + mu2**2 + C1)\n",
    "    c12 = (2 * sigma1 * sigma2 + C2) / (sigma1**2 + sigma2**2 + C2)\n",
    "    s12 = (sigma12 + C3) / (sigma1 * sigma2 + C3)\n",
    "    ssim = l12 * c12 * s12\n",
    "    return ssim\n",
    "\n",
    "\n",
    "def scale_max(df):\n",
    "    result = pd.DataFrame()\n",
    "    for label, content in df.items():\n",
    "        content = content / content.max()\n",
    "        result = pd.concat([result, content], axis=1)\n",
    "    return result\n",
    "\n",
    "\n",
    "def scale_z_score(df):\n",
    "    result = pd.DataFrame()\n",
    "    for label, content in df.items():\n",
    "        content = st.zscore(content)\n",
    "        content = pd.DataFrame(content, columns=[label])\n",
    "        result = pd.concat([result, content], axis=1)\n",
    "    return result\n",
    "\n",
    "\n",
    "def scale_plus(df):\n",
    "    result = pd.DataFrame()\n",
    "    for label, content in df.items():\n",
    "        content = content / content.sum()\n",
    "        result = pd.concat([result, content], axis=1)\n",
    "    return result\n",
    "\n",
    "\n",
    "def logNorm(df):\n",
    "    df = np.log1p(df)\n",
    "    df = st.zscore(df)\n",
    "    return df\n",
    "\n",
    "\n",
    "class CalculateMeteics:\n",
    "    def __init__(self, raw_count_file, impute_count_file, prefix, metric):\n",
    "        self.impute_count_file = impute_count_file\n",
    "        self.raw_count = pd.read_csv(raw_count_file, header=0, sep=\"\\t\")\n",
    "        self.raw_count.columns = [x.upper() for x in self.raw_count.columns]\n",
    "        self.raw_count = self.raw_count.T\n",
    "        self.raw_count = self.raw_count.loc[\n",
    "            ~self.raw_count.index.duplicated(keep=\"first\")\n",
    "        ].T\n",
    "        self.raw_count = self.raw_count.fillna(1e-20)\n",
    "\n",
    "        self.impute_count = pd.read_csv(impute_count_file, header=0, index_col=0)\n",
    "        self.impute_count.columns = [x.upper() for x in self.impute_count.columns]\n",
    "        self.impute_count = self.impute_count.T\n",
    "        self.impute_count = self.impute_count.loc[\n",
    "            ~self.impute_count.index.duplicated(keep=\"first\")\n",
    "        ].T\n",
    "        self.impute_count = self.impute_count.fillna(1e-20)\n",
    "        self.prefix = prefix\n",
    "        self.metric = metric\n",
    "\n",
    "    def SSIM(self, raw, impute, scale=\"scale_max\"):\n",
    "        if scale == \"scale_max\":\n",
    "            raw = scale_max(raw)\n",
    "            impute = scale_max(impute)\n",
    "        else:\n",
    "            print(\"Please note you do not scale data by scale max\")\n",
    "        if raw.shape[0] == impute.shape[0]:\n",
    "            result = pd.DataFrame()\n",
    "            for label in raw.columns:\n",
    "                if label not in impute.columns:\n",
    "                    ssim = 0\n",
    "                else:\n",
    "                    raw_col = raw.loc[:, label]\n",
    "                    impute_col = impute.loc[:, label]\n",
    "                    impute_col = impute_col.fillna(1e-20)\n",
    "                    raw_col = raw_col.fillna(1e-20)\n",
    "                    M = [raw_col.max(), impute_col.max()][\n",
    "                        raw_col.max() > impute_col.max()\n",
    "                    ]\n",
    "                    raw_col_2 = np.array(raw_col)\n",
    "                    raw_col_2 = raw_col_2.reshape(raw_col_2.shape[0], 1)\n",
    "                    impute_col_2 = np.array(impute_col)\n",
    "                    impute_col_2 = impute_col_2.reshape(impute_col_2.shape[0], 1)\n",
    "                    ssim = cal_ssim(raw_col_2, impute_col_2, M)\n",
    "\n",
    "                ssim_df = pd.DataFrame(ssim, index=[\"SSIM\"], columns=[label])\n",
    "                result = pd.concat([result, ssim_df], axis=1)\n",
    "        else:\n",
    "            print(\"columns error\")\n",
    "        return result\n",
    "\n",
    "    def PCC(self, raw, impute, scale=None):\n",
    "        if raw.shape[0] == impute.shape[0]:\n",
    "            result = pd.DataFrame()\n",
    "            for label in raw.columns:\n",
    "                if label not in impute.columns:\n",
    "                    pearsonr = 0\n",
    "                else:\n",
    "                    raw_col = raw.loc[:, label]\n",
    "                    impute_col = impute.loc[:, label]\n",
    "                    impute_col = impute_col.fillna(1e-20)\n",
    "                    raw_col = raw_col.fillna(1e-20)\n",
    "                    pearsonr, _ = st.pearsonr(raw_col, impute_col)\n",
    "                pearson_df = pd.DataFrame(pearsonr, index=[\"PCC\"], columns=[label])\n",
    "                result = pd.concat([result, pearson_df], axis=1)\n",
    "        else:\n",
    "            print(\"columns error\")\n",
    "        return result\n",
    "\n",
    "    def JS(self, raw, impute, scale=\"scale_plus\"):\n",
    "        if scale == \"scale_plus\":\n",
    "            raw = scale_plus(raw)\n",
    "            impute = scale_plus(impute)\n",
    "        else:\n",
    "            print(\"Please note you do not scale data by plus\")\n",
    "        if raw.shape[0] == impute.shape[0]:\n",
    "            result = pd.DataFrame()\n",
    "            for label in raw.columns:\n",
    "                if label not in impute.columns:\n",
    "                    JS = 1\n",
    "                else:\n",
    "                    raw_col = raw.loc[:, label]\n",
    "                    impute_col = impute.loc[:, label]\n",
    "                    raw_col = raw_col.fillna(1e-20)\n",
    "                    impute_col = impute_col.fillna(1e-20)\n",
    "                    M = (raw_col + impute_col) / 2\n",
    "                    JS = 0.5 * st.entropy(raw_col, M) + 0.5 * st.entropy(impute_col, M)\n",
    "                JS_df = pd.DataFrame(JS, index=[\"JS\"], columns=[label])\n",
    "                result = pd.concat([result, JS_df], axis=1)\n",
    "        else:\n",
    "            print(\"columns error\")\n",
    "        return result\n",
    "\n",
    "    def RMSE(self, raw, impute, scale=\"zscore\"):\n",
    "        if scale == \"zscore\":\n",
    "            raw = scale_z_score(raw)\n",
    "            impute = scale_z_score(impute)\n",
    "        else:\n",
    "            print(\"Please note you do not scale data by zscore\")\n",
    "        if raw.shape[0] == impute.shape[0]:\n",
    "            result = pd.DataFrame()\n",
    "            for label in raw.columns:\n",
    "                if label not in impute.columns:\n",
    "                    RMSE = 1.5\n",
    "                else:\n",
    "                    raw_col = raw.loc[:, label]\n",
    "                    impute_col = impute.loc[:, label]\n",
    "                    impute_col = impute_col.fillna(1e-20)\n",
    "                    raw_col = raw_col.fillna(1e-20)\n",
    "                    RMSE = np.sqrt(((raw_col - impute_col) ** 2).mean())\n",
    "\n",
    "                RMSE_df = pd.DataFrame(RMSE, index=[\"RMSE\"], columns=[label])\n",
    "                result = pd.concat([result, RMSE_df], axis=1)\n",
    "        else:\n",
    "            print(\"columns error\")\n",
    "        return result\n",
    "\n",
    "    def compute_all(self):\n",
    "        raw = self.raw_count\n",
    "        impute = self.impute_count\n",
    "        prefix = self.prefix\n",
    "        SSIM = self.SSIM(raw, impute)\n",
    "        Pearson = self.PCC(raw, impute)\n",
    "        JS = self.JS(raw, impute)\n",
    "        RMSE = self.RMSE(raw, impute)\n",
    "\n",
    "        result_all = pd.concat([Pearson, SSIM, RMSE, JS], axis=0)\n",
    "        result_all.T.to_csv(prefix + \"_Metrics.txt\", sep=\"\\t\", header=1, index=1)\n",
    "        self.accuracy = result_all\n",
    "        return result_all"
   ]
  },
  {
   "cell_type": "code",
   "execution_count": 27,
   "metadata": {},
   "outputs": [],
   "source": [
    "import os\n",
    "\n",
    "import seaborn as sns\n",
    "\n",
    "PATH = \"./XeniumResults\"\n",
    "DirFiles = os.listdir(PATH)\n",
    "CountInsuteDir = \"../DataPreparation/newData/\"\n",
    "\n",
    "\n",
    "def CalDataMetric(Data):\n",
    "    print(\"We are calculating the : \" + Data + \"\\n\")\n",
    "    raw_count_file = CountInsuteDir + \"/Insitu_count.txt\"\n",
    "    metric = [\"PCC\", \"SSIM\", \"RMSE\", \"JS\"]\n",
    "    impute_count_dir = PATH\n",
    "    impute_count = os.listdir(impute_count_dir)\n",
    "    impute_count = [x for x in impute_count if x[-3:] == \"csv\"]\n",
    "    if len(impute_count) != 0:\n",
    "        for impute_count_file in impute_count:\n",
    "            if \"result_Tangram.csv\" in impute_count_file:\n",
    "                os.system(\n",
    "                    \"mv \"\n",
    "                    + impute_count_dir\n",
    "                    + \"/result_Tangram.csv \"\n",
    "                    + impute_count_dir\n",
    "                    + \"/Tangram_impute.csv\"\n",
    "                )\n",
    "            prefix = impute_count_file.split(\"_\")[0]\n",
    "            prefix = impute_count_dir + \"/\" + prefix\n",
    "            impute_count_file = impute_count_dir + \"/\" + impute_count_file\n",
    "            if not os.path.isfile(prefix + \"_Metrics.txt\"):\n",
    "                print(impute_count_file)\n",
    "                CM = CalculateMeteics(\n",
    "                    raw_count_file=raw_count_file,\n",
    "                    impute_count_file=impute_count_file,\n",
    "                    prefix=prefix,\n",
    "                    metric=metric,\n",
    "                )\n",
    "                CM.compute_all()"
   ]
  },
  {
   "cell_type": "code",
   "execution_count": 28,
   "metadata": {
    "scrolled": true
   },
   "outputs": [
    {
     "name": "stdout",
     "output_type": "stream",
     "text": [
      "We are calculating the : newData\n",
      "\n",
      "./XeniumResults/novoSpaRc_impute.csv\n",
      "./XeniumResults/SpaOTsc_impute.csv\n",
      "./XeniumResults/SpaGE_impute.csv\n",
      "./XeniumResults/gimVI_impute.csv\n",
      "./XeniumResults/Tangram_impute.csv\n",
      "./XeniumResults/LIGER_impute.csv\n",
      "./XeniumResults/Seurat_impute.csv\n"
     ]
    }
   ],
   "source": [
    "DataSets = [\"newData\"]\n",
    "with multiprocessing.Pool(10) as pool:\n",
    "    pool.map(CalDataMetric, DataSets)"
   ]
  },
  {
   "cell_type": "markdown",
   "metadata": {},
   "source": [
    "# DataSet Boxplot for 4 mertrics"
   ]
  },
  {
   "cell_type": "code",
   "execution_count": 29,
   "metadata": {},
   "outputs": [],
   "source": [
    "def plot_boxplot(PATH, Data, metric, Tools, outdir):\n",
    "    palette = [\n",
    "        \"#F5A8C7\",\n",
    "        \"#F9EC31\",\n",
    "        \"#D6DE23\",\n",
    "        \"#988DC3\",\n",
    "        \"#BBA8D1\",\n",
    "        \"#A2CBCF\",\n",
    "        \"#7BD1F1\",\n",
    "        \"#79c06e\",\n",
    "    ]\n",
    "    font = {\"family\": \"DejaVu Sans\", \"weight\": \"normal\", \"size\": 18}\n",
    "    plt.figure(figsize=(14, 8), dpi=600)\n",
    "    result = pd.DataFrame()\n",
    "    metrics = metric\n",
    "    for tool in Tools:\n",
    "        result_metrics = pd.read_csv(\n",
    "            PATH + \"/\" + tool + \"_Metrics.txt\", sep=\"\\t\", header=0, index_col=0\n",
    "        )\n",
    "        result_metrics[\"tool\"] = tool\n",
    "        result = pd.concat([result, result_metrics], axis=0)\n",
    "    n = 221\n",
    "    for method in metrics:\n",
    "        ax1 = plt.subplot(n)\n",
    "        ax1 = sns.barplot(x=method, y=\"tool\", data=result, ci=95, palette=palette)\n",
    "        ax1.set_xlabel(method)\n",
    "        ax1.spines[\"top\"].set_visible(False)\n",
    "        ax1.spines[\"right\"].set_visible(False)\n",
    "        n = n + 1\n",
    "\n",
    "    OutPdf = outdir\n",
    "    if not os.path.exists(OutPdf):\n",
    "        os.mkdir(OutPdf)\n",
    "    plt.savefig(OutPdf + Data + \"_metrics.pdf\")\n",
    "    plt.show()"
   ]
  },
  {
   "cell_type": "code",
   "execution_count": 30,
   "metadata": {
    "scrolled": true
   },
   "outputs": [
    {
     "data": {
      "image/png": "[encoded data removed]",
      "text/plain": [
       "<Figure size 8400x4800 with 4 Axes>"
      ]
     },
     "metadata": {},
     "output_type": "display_data"
    }
   ],
   "source": [
    "import seaborn as sns\n",
    "\n",
    "PATH = \"./XeniumResults/\"\n",
    "metric = [\"PCC\", \"SSIM\", \"JS\", \"RMSE\"]\n",
    "Data = \"Xenium\"\n",
    "Tools = ['Tangram', 'gimVI', 'SpaGE', 'Seurat', 'SpaOTsc', 'novoSpaRc', 'LIGER']\n",
    "outdir = \"./XeniumResults/\"\n",
    "if not os.path.exists(outdir):\n",
    "    os.system(\"mkdir \" + outdir)\n",
    "plot_boxplot(PATH, Data, metric, Tools, outdir)"
   ]
  },
  {
   "cell_type": "markdown",
   "metadata": {},
   "source": [
    "# Calculated Accuracy score for every datasets of each methods"
   ]
  },
  {
   "cell_type": "code",
   "execution_count": null,
   "metadata": {},
   "outputs": [
    {
     "ename": "FileNotFoundError",
     "evalue": "[Errno 2] No such file or directory: './XeniumResults/Metrics/Accuracy_Rank/'",
     "output_type": "error",
     "traceback": [
      "\u001b[0;31m---------------------------------------------------------------------------\u001b[0m",
      "\u001b[0;31mFileNotFoundError\u001b[0m                         Traceback (most recent call last)",
      "Cell \u001b[0;32mIn[7], line 69\u001b[0m\n\u001b[1;32m     67\u001b[0m path_output \u001b[38;5;241m=\u001b[39m \u001b[38;5;124m\"\u001b[39m\u001b[38;5;124m./XeniumResults/Metrics/Accuracy_Rank/\u001b[39m\u001b[38;5;124m\"\u001b[39m\n\u001b[1;32m     68\u001b[0m \u001b[38;5;28;01mif\u001b[39;00m \u001b[38;5;129;01mnot\u001b[39;00m os\u001b[38;5;241m.\u001b[39mpath\u001b[38;5;241m.\u001b[39mexists(path_output):\n\u001b[0;32m---> 69\u001b[0m     \u001b[43mos\u001b[49m\u001b[38;5;241;43m.\u001b[39;49m\u001b[43mmkdir\u001b[49m\u001b[43m(\u001b[49m\u001b[43mpath_output\u001b[49m\u001b[43m)\u001b[49m\n\u001b[1;32m     70\u001b[0m Tools \u001b[38;5;241m=\u001b[39m [\n\u001b[1;32m     71\u001b[0m     \u001b[38;5;124m\"\u001b[39m\u001b[38;5;124mTangram\u001b[39m\u001b[38;5;124m\"\u001b[39m,\n\u001b[1;32m     72\u001b[0m     \u001b[38;5;124m\"\u001b[39m\u001b[38;5;124mgimVI\u001b[39m\u001b[38;5;124m\"\u001b[39m,\n\u001b[0;32m   (...)\u001b[0m\n\u001b[1;32m     75\u001b[0m     \u001b[38;5;124m\"\u001b[39m\u001b[38;5;124mnovoSpaRc\u001b[39m\u001b[38;5;124m\"\u001b[39m,\n\u001b[1;32m     76\u001b[0m ]\n\u001b[1;32m     77\u001b[0m DirFiles \u001b[38;5;241m=\u001b[39m os\u001b[38;5;241m.\u001b[39mlistdir(path)\n",
      "\u001b[0;31mFileNotFoundError\u001b[0m: [Errno 2] No such file or directory: './XeniumResults/Metrics/Accuracy_Rank/'"
     ]
    }
   ],
   "source": [
    "# This script is used for rank get the rank score for each method\n",
    "\n",
    "\n",
    "def get_score(Result):\n",
    "    Result = Result.fillna(0)\n",
    "    tools_num = Result.shape[0]\n",
    "    Tools_score = []\n",
    "    methods = list(Result.index)\n",
    "    score_col = []\n",
    "    list_up = list(range(1, Result.shape[1] + 1))\n",
    "    list_down = list(range(Result.shape[1], 0, -1))\n",
    "\n",
    "    for method in methods:\n",
    "        if method == \"PCC\" or method == \"SSIM\":\n",
    "            Tools_score.append(\n",
    "                pd.Series(\n",
    "                    list_down,\n",
    "                    index=Result.loc[method, :].sort_values(ascending=False).index,\n",
    "                )\n",
    "            )\n",
    "\n",
    "        if method == \"JS\" or method == \"RMSE\":\n",
    "            Tools_score.append(\n",
    "                pd.Series(\n",
    "                    list_up,\n",
    "                    index=Result.loc[method, :].sort_values(ascending=False).index,\n",
    "                )\n",
    "            )\n",
    "        score_col.append(method)\n",
    "\n",
    "    score = pd.concat([m for m in Tools_score], axis=1)\n",
    "    score.columns = score_col\n",
    "    score = score / Result.shape[1]\n",
    "    return score\n",
    "\n",
    "\n",
    "def make_score(path, dataset_all, Tools, path_output):\n",
    "    Tools_data = [x for x in range(len(Tools))]\n",
    "    for dataset in dataset_all:\n",
    "        for i in range(len(Tools)):\n",
    "            File = path + \"/\" + dataset + \"/\" + Tools[i] + \"_Metrics.txt\"\n",
    "            if os.path.isfile(File):\n",
    "                Tools_data[i] = pd.read_table(\n",
    "                    path + \"/\" + dataset + \"/\" + Tools[i] + \"_Metrics.txt\",\n",
    "                    sep=\"\\t\",\n",
    "                    index_col=0,\n",
    "                    header=0,\n",
    "                )\n",
    "                Tools_data[i] = Tools_data[i].mean()\n",
    "                Tools_data[i][\"Tool\"] = Tools[i]\n",
    "            else:\n",
    "                Tools_data[i] = pd.DataFrame(\n",
    "                    [-2, -2, 10, 10],\n",
    "                    columns=[\"Genes\"],\n",
    "                    index=[\"PCC\", \"SSIM\", \"RMSE\", \"JS\"],\n",
    "                ).T\n",
    "                Tools_data[i] = Tools_data[i].mean()\n",
    "                Tools_data[i][\"Tool\"] = Tools[i]\n",
    "        Result = pd.concat([m for m in Tools_data], axis=1)\n",
    "        Result.columns = Result.loc[[\"Tool\"], :].values.flatten()\n",
    "        Result.drop(\"Tool\", axis=0, inplace=True)\n",
    "\n",
    "        score = get_score(Result)\n",
    "        score.to_csv(path_output + dataset + \"_score.txt\", header=1, index=1)\n",
    "\n",
    "\n",
    "path = \"./XeniumResults/Metrics/\"\n",
    "path_output = \"./XeniumResults/Metrics/Accuracy_Rank/\"\n",
    "if not os.path.exists(path_output):\n",
    "    os.mkdir(path_output)\n",
    "Tools = [\n",
    "    \"Tangram\",\n",
    "    \"gimVI\",\n",
    "    \"SpaGE\",\n",
    "    \"SpaOTsc\",\n",
    "    \"novoSpaRc\",\n",
    "]\n",
    "DirFiles = os.listdir(path)\n",
    "dataset_all = [x for x in DirFiles if x[:4] == \"Data\"]\n",
    "print(len(dataset_all))\n",
    "make_score(path, dataset_all, Tools, path_output)"
   ]
  },
  {
   "cell_type": "markdown",
   "metadata": {},
   "source": [
    "# Accuracy for one datasets"
   ]
  },
  {
   "cell_type": "code",
   "execution_count": null,
   "metadata": {},
   "outputs": [],
   "source": [
    "def make_plot_one_dataset(path, Data, order, palette):\n",
    "    dataset = pd.read_csv(\n",
    "        path + \"/Accuracy_Rank/\" + Data + \"_score.txt\", header=0, index_col=0\n",
    "    )\n",
    "\n",
    "    dataset_mer = pd.concat(\n",
    "        [\n",
    "            dataset.iloc[:, 0],\n",
    "            dataset.iloc[:, 1],\n",
    "            dataset.iloc[:, 2],\n",
    "            dataset.iloc[:, 3],\n",
    "        ],\n",
    "        axis=0,\n",
    "    )\n",
    "    dataset_mer = pd.DataFrame(\n",
    "        dataset_mer, index=dataset_mer.index.values, columns=[Data]\n",
    "    )\n",
    "    axes = sns.violinplot(\n",
    "        x=Data,\n",
    "        y=dataset_mer.index.values,\n",
    "        data=dataset_mer,\n",
    "        order=order,\n",
    "        palette=palette,\n",
    "        width=0.9,\n",
    "    )\n",
    "    axes.set_xlabel(Data, fontsize=10)\n",
    "    axes.set_ylabel(\"\", fontsize=10)\n",
    "    axes.spines[\"top\"].set_visible(False)\n",
    "    axes.spines[\"right\"].set_visible(False)\n",
    "    plt.xticks(fontsize=8)\n",
    "    plt.yticks(fontsize=8)\n",
    "    plt.savefig(path + \"Accuracy_Rank/\" + Data + \"_violinplot.pdf\")\n",
    "    plt.show()\n",
    "\n",
    "\n",
    "path = \"FigureData/Figure2/Metrics/\"\n",
    "dataset = \"Data4\"\n",
    "order = [\n",
    "    \"Tangram\",\n",
    "    \"gimVI\",\n",
    "    \"SpaGE\",\n",
    "    \"Seurat\",\n",
    "    \"SpaOTsc\",\n",
    "    \"novoSpaRc\",\n",
    "    \"LIGER\",\n",
    "    \"stPlus\",\n",
    "]\n",
    "palette = [\n",
    "    \"#F5A8C7\",\n",
    "    \"#F9EC31\",\n",
    "    \"#D6DE23\",\n",
    "    \"#988DC3\",\n",
    "    \"#BBA8D1\",\n",
    "    \"#A2CBCF\",\n",
    "    \"#7BD1F1\",\n",
    "    \"#79c06e\",\n",
    "]\n",
    "make_plot_one_dataset(path, dataset, order, palette)\n",
    "\n",
    "path = \"FigureData/Figure2/Metrics/\"\n",
    "dataset = \"Data42\"\n",
    "order = [\n",
    "    \"Tangram\",\n",
    "    \"gimVI\",\n",
    "    \"SpaGE\",\n",
    "    \"Seurat\",\n",
    "    \"SpaOTsc\",\n",
    "    \"novoSpaRc\",\n",
    "    \"LIGER\",\n",
    "    \"stPlus\",\n",
    "]\n",
    "palette = [\n",
    "    \"#F5A8C7\",\n",
    "    \"#F9EC31\",\n",
    "    \"#D6DE23\",\n",
    "    \"#988DC3\",\n",
    "    \"#BBA8D1\",\n",
    "    \"#A2CBCF\",\n",
    "    \"#7BD1F1\",\n",
    "    \"#79c06e\",\n",
    "]\n",
    "make_plot_one_dataset(path, dataset, order, palette)"
   ]
  },
  {
   "cell_type": "markdown",
   "metadata": {},
   "source": [
    "# Accuracy for image, seq based"
   ]
  },
  {
   "cell_type": "code",
   "execution_count": null,
   "metadata": {},
   "outputs": [],
   "source": [
    "def make_all_score(path, dataset_all):\n",
    "    score_all = pd.DataFrame()\n",
    "    for dataset in dataset_all:\n",
    "        a = pd.read_csv(\n",
    "            path + \"/Accuracy_Rank/\" + dataset + \"_score.txt\", header=0, index_col=0\n",
    "        )\n",
    "        a[\"DataSet\"] = dataset\n",
    "        score_all = pd.concat([score_all, a], axis=0)\n",
    "    return score_all\n",
    "\n",
    "\n",
    "def plot_all(df, name, order, palette, path):\n",
    "    df = df[[\"PCC\", \"SSIM\", \"RMSE\", \"JS\"]]\n",
    "    df_all = pd.DataFrame(\n",
    "        df.sum(axis=1).values, index=df.index.values, columns=[\"merge\"]\n",
    "    )\n",
    "    df_all = df_all / 4\n",
    "\n",
    "    plt.figure(figsize=(8, 6))\n",
    "    axes = sns.boxplot(\n",
    "        x=\"merge\",\n",
    "        y=df_all.index.values,\n",
    "        data=df_all,\n",
    "        palette=palette,\n",
    "        order=order,\n",
    "        flierprops=dict(marker=\"o\", markersize=3),\n",
    "    )\n",
    "    axes.set_xlabel(name, fontsize=10)\n",
    "    axes.set_ylabel(\"\", fontsize=10)\n",
    "    axes.spines[\"top\"].set_visible(False)\n",
    "    axes.spines[\"right\"].set_visible(False)\n",
    "    plt.xticks(fontsize=8)\n",
    "    plt.yticks(fontsize=8)\n",
    "    plt.savefig(path + \"/Accuracy_Rank/\" + name + \"_boxplot.pdf\")\n",
    "    plt.show()\n",
    "\n",
    "\n",
    "path = \"FigureData/Figure2/Metrics/\"\n",
    "os.popen(\"mkdir \" + path + \"Accuracy_Rank\")\n",
    "path_output = path + \"/Accuracy_Rank/\"\n",
    "order = [\n",
    "    \"Tangram\",\n",
    "    \"gimVI\",\n",
    "    \"SpaGE\",\n",
    "    \"Seurat\",\n",
    "    \"SpaOTsc\",\n",
    "    \"novoSpaRc\",\n",
    "    \"LIGER\",\n",
    "    \"stPlus\",\n",
    "]\n",
    "Tools = [\n",
    "    \"Tangram\",\n",
    "    \"gimVI\",\n",
    "    \"SpaGE\",\n",
    "    \"Seurat\",\n",
    "    \"SpaOTsc\",\n",
    "    \"novoSpaRc\",\n",
    "    \"LIGER\",\n",
    "    \"stPlus\",\n",
    "]\n",
    "palette = [\n",
    "    \"#F5A8C7\",\n",
    "    \"#F9EC31\",\n",
    "    \"#D6DE23\",\n",
    "    \"#988DC3\",\n",
    "    \"#BBA8D1\",\n",
    "    \"#A2CBCF\",\n",
    "    \"#7BD1F1\",\n",
    "    \"#79c06e\",\n",
    "]\n",
    "\n",
    "DirFiles = os.listdir(path)\n",
    "DataSets = [x for x in DirFiles if x[:4] == \"Data\"]\n",
    "image_based_dataset = [\n",
    "    \"Data1\",\n",
    "    \"Data2\",\n",
    "    \"Data3\",\n",
    "    \"Data4\",\n",
    "    \"Data5\",\n",
    "    \"Data6\",\n",
    "    \"Data7\",\n",
    "    \"Data8\",\n",
    "    \"Data9\",\n",
    "    \"Data10\",\n",
    "    \"Data11\",\n",
    "    \"Data12\",\n",
    "    \"Data13\",\n",
    "    \"Data14\",\n",
    "    \"Data15\",\n",
    "    \"Data16\",\n",
    "    \"Data17\",\n",
    "]\n",
    "seq_based_dataset = [x for x in DataSets if x not in image_based_dataset]\n",
    "print(len(DataSets))\n",
    "print(len(seq_based_dataset))\n",
    "print(len(image_based_dataset))\n",
    "\n",
    "image_based = make_all_score(path, image_based_dataset)\n",
    "image_based.to_csv(path + \"/Accuracy_Rank/image_based_score.txt\", header=1, index=1)\n",
    "\n",
    "seq_based = make_all_score(path, seq_based_dataset)\n",
    "seq_based.to_csv(path + \"/Accuracy_Rank/seq_based_score.txt\", header=1, index=1)\n",
    "\n",
    "plot_image = pd.read_csv(\n",
    "    path + \"/Accuracy_Rank/image_based_score.txt\", header=0, index_col=0\n",
    ")\n",
    "plot_image.loc[plot_image[\"DataSet\"] == \"Data8\", \"JS\"] = 0\n",
    "plot_seq = pd.read_csv(\n",
    "    path + \"/Accuracy_Rank/seq_based_score.txt\", header=0, index_col=0\n",
    ")\n",
    "\n",
    "plot_all(plot_seq, \"seq-based\", order, palette, path)\n",
    "plot_all(plot_image, \"image-based\", order, palette, path)"
   ]
  },
  {
   "cell_type": "markdown",
   "metadata": {},
   "source": [
    "# Accuracy for all datasets"
   ]
  },
  {
   "cell_type": "code",
   "execution_count": null,
   "metadata": {},
   "outputs": [],
   "source": [
    "path = \"FigureData/Figure2/Metrics/\"\n",
    "all_based = make_all_score(path, DataSets)\n",
    "all_based.to_csv(path + \"/Accuracy_Rank/Score.txt\", header=1, index=1)\n",
    "plot_data = pd.read_csv(path + \"/Accuracy_Rank/Score.txt\", header=0, index_col=0)\n",
    "# JS of Dataset8 is Inf for all methods, because the spatial data has been scaled.\n",
    "plot_data.loc[plot_data[\"DataSet\"] == \"Data8\", \"JS\"] = 0\n",
    "plot_all(plot_data, \"Accuracy Score\", order, palette, path)"
   ]
  },
  {
   "cell_type": "markdown",
   "metadata": {},
   "source": [
    "# Accuracy for MERFISH datasets"
   ]
  },
  {
   "cell_type": "code",
   "execution_count": null,
   "metadata": {},
   "outputs": [],
   "source": [
    "def plot_all(df, name, order, palette, path):\n",
    "    df = df[[\"PCC\", \"SSIM\", \"RMSE\", \"JS\"]]\n",
    "    df_all = pd.DataFrame(\n",
    "        df.sum(axis=1).values, index=df.index.values, columns=[\"merge\"]\n",
    "    )\n",
    "    df_all = df_all / 4\n",
    "\n",
    "    plt.figure(figsize=(8, 6))\n",
    "    axes = sns.boxplot(\n",
    "        x=\"merge\",\n",
    "        y=df_all.index.values,\n",
    "        data=df_all,\n",
    "        palette=palette,\n",
    "        order=order,\n",
    "        flierprops=dict(marker=\"o\", markersize=3),\n",
    "    )\n",
    "    axes = sns.swarmplot(\n",
    "        x=\"merge\",\n",
    "        y=df_all.index.values,\n",
    "        data=df_all,\n",
    "        order=order,\n",
    "        color=\"black\",\n",
    "        size=7,\n",
    "    )\n",
    "    axes.set_xlabel(name, fontsize=10)\n",
    "    axes.set_ylabel(\"\", fontsize=10)\n",
    "    axes.spines[\"top\"].set_visible(False)\n",
    "    axes.spines[\"right\"].set_visible(False)\n",
    "    plt.xticks(fontsize=8)\n",
    "    plt.yticks(fontsize=8)\n",
    "    plt.savefig(path + \"/Accuracy_Rank/\" + name + \"_boxplot.pdf\")\n",
    "    plt.show()\n",
    "\n",
    "\n",
    "order = [\n",
    "    \"Tangram\",\n",
    "    \"gimVI\",\n",
    "    \"SpaGE\",\n",
    "    \"Seurat\",\n",
    "    \"SpaOTsc\",\n",
    "    \"novoSpaRc\",\n",
    "    \"LIGER\",\n",
    "    \"stPlus\",\n",
    "]\n",
    "palette = [\n",
    "    \"#F5A8C7\",\n",
    "    \"#F9EC31\",\n",
    "    \"#D6DE23\",\n",
    "    \"#988DC3\",\n",
    "    \"#BBA8D1\",\n",
    "    \"#A2CBCF\",\n",
    "    \"#7BD1F1\",\n",
    "    \"#79c06e\",\n",
    "]\n",
    "path = \"FigureData/Figure2/Metrics/\"\n",
    "MERFISHBased = [\"Data6\", \"Data7\", \"Data8\", \"Data9\"]\n",
    "MERFISH_based = make_all_score(path, MERFISHBased)\n",
    "MERFISH_based.to_csv(path + \"/Accuracy_Rank/MERFISH_score.txt\", header=1, index=1)\n",
    "plot_MERFISH = pd.read_csv(\n",
    "    path + \"/Accuracy_Rank/MERFISH_score.txt\", header=0, index_col=0\n",
    ")\n",
    "plot_MERFISH[\"Tool\"] = plot_MERFISH.index\n",
    "plot_MERFISH.index = plot_MERFISH[\"Tool\"] + \"_\" + plot_MERFISH[\"DataSet\"]\n",
    "\n",
    "### Removed LIGER and gimVI's scores for Data8 because an error occurred when making predictions for Dataset 8 using these two tools.\n",
    "\n",
    "plot_MERFISH = plot_MERFISH.drop(\"LIGER_Data8\", axis=0)\n",
    "plot_MERFISH = plot_MERFISH.drop(\"gimVI_Data8\", axis=0)\n",
    "\n",
    "plot_MERFISH.index = plot_MERFISH[\"Tool\"]\n",
    "plot_MERFISH = plot_MERFISH[[\"PCC\", \"SSIM\", \"RMSE\", \"JS\", \"DataSet\"]]\n",
    "plot_MERFISH.loc[plot_MERFISH[\"DataSet\"] == \"Data8\", \"JS\"] = 0\n",
    "plot_all(plot_MERFISH, \"MERFISHScore\", order, palette, path)"
   ]
  }
 ],
 "metadata": {
  "kernelspec": {
   "display_name": "Python 3",
   "language": "python",
   "name": "python3"
  },
  "language_info": {
   "codemirror_mode": {
    "name": "ipython",
    "version": 3
   },
   "file_extension": ".py",
   "mimetype": "text/x-python",
   "name": "python",
   "nbconvert_exporter": "python",
   "pygments_lexer": "ipython3",
   "version": "3.8.12"
  }
 },
 "nbformat": 4,
 "nbformat_minor": 4
}
