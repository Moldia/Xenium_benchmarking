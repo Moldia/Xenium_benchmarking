{
 "cells": [
  {
   "cell_type": "markdown",
   "id": "d7f5fc02",
   "metadata": {},
   "source": [
    "Based on the extracted single cell data, we transform it to look like xenium data and we preprocess it on many different ways. This notebook includes only the scanpy-based pipelines. There is a second workflow for the Seurat preprocessing"
   ]
  },
  {
   "cell_type": "code",
   "execution_count": 2,
   "id": "1ea4c166",
   "metadata": {},
   "outputs": [],
   "source": [
    "import txsim as tx\n",
    "import scanpy as sc\n",
    "import os\n",
    "import pandas as pd\n",
    "from anndata import AnnData\n",
    "import numpy as np\n",
    "#from scipy.spatial import ConvexHull, convex_hull_plot_2d\n",
    "import xb.formatting as xf\n",
    "import seaborn as sns\n",
    "import random \n",
    "import matplotlib.pyplot as plt\n",
    "import sklearn.metrics as sk\n",
    "from tqdm import tqdm\n",
    "import scanpy as sc\n",
    "import random\n",
    "from xb.calculating import entropy,compute_vi,compute_fmi\n",
    "from xb.formatting import keep_nuclei_and_quality\n",
    "from xb.simulating import missegmentation_simulation,noise_adder,subset_of_single_cell,main_preprocessing, allcombs_simulated"
   ]
  },
  {
   "cell_type": "markdown",
   "id": "7c0d2576",
   "metadata": {},
   "source": [
    "# Simulating_all_combinations"
   ]
  },
  {
   "cell_type": "code",
   "execution_count": null,
   "id": "eea3fe94",
   "metadata": {},
   "outputs": [
    {
     "name": "stdout",
     "output_type": "stream",
     "text": [
      "##################################### Dataset 8\n"
     ]
    },
    {
     "name": "stderr",
     "output_type": "stream",
     "text": [
      "100%|████████████████████████████████████████████████████████████████████████████████████| 9/9 [00:00<00:00, 274.69it/s]\n"
     ]
    },
    {
     "name": "stdout",
     "output_type": "stream",
     "text": [
      "(18231, 148)\n",
      "first run\n",
      "1\n",
      "(18231, 148)\n",
      "2\n"
     ]
    },
    {
     "name": "stderr",
     "output_type": "stream",
     "text": [
      "/home/sergio/anaconda3/envs/xb/lib/python3.7/site-packages/scanpy/preprocessing/_simple.py:352: RuntimeWarning: divide by zero encountered in log1p\n",
      "  np.log1p(X, out=X)\n"
     ]
    },
    {
     "name": "stdout",
     "output_type": "stream",
     "text": [
      "(18231, 148)\n",
      "3\n",
      "TrueFalseFalse[10, 100, 1000, None]\n",
      "4\n"
     ]
    },
    {
     "name": "stderr",
     "output_type": "stream",
     "text": [
      "/home/sergio/anaconda3/envs/xb/lib/python3.7/site-packages/ipykernel_launcher.py:22: ImplicitModificationWarning: Trying to modify attribute `.X` of view, initializing view as actual.\n"
     ]
    },
    {
     "name": "stdout",
     "output_type": "stream",
     "text": [
      "(18231, 27)\n",
      "5\n"
     ]
    },
    {
     "name": "stderr",
     "output_type": "stream",
     "text": [
      "/home/sergio/anaconda3/envs/xb/lib/python3.7/site-packages/scanpy/preprocessing/_simple.py:352: RuntimeWarning: divide by zero encountered in log1p\n",
      "  np.log1p(X, out=X)\n",
      "/home/sergio/anaconda3/envs/xb/lib/python3.7/site-packages/ipykernel_launcher.py:22: ImplicitModificationWarning: Trying to modify attribute `.X` of view, initializing view as actual.\n",
      "/home/sergio/anaconda3/envs/xb/lib/python3.7/contextlib.py:119: FutureWarning: X.dtype being converted to np.float32 from float64. In the next version of anndata (0.9) conversion will not be automatic. Pass dtype explicitly to avoid this warning. Pass `AnnData(X, dtype=X.dtype, ...)` to get the future behavour.\n",
      "  next(self.gen)\n"
     ]
    },
    {
     "name": "stdout",
     "output_type": "stream",
     "text": [
      "(18231, 49)\n",
      "6\n",
      "TrueFalseTrue[10, 100, 1000, None]\n",
      "7\n",
      "(18231, 148)\n",
      "8\n"
     ]
    },
    {
     "name": "stderr",
     "output_type": "stream",
     "text": [
      "/home/sergio/anaconda3/envs/xb/lib/python3.7/site-packages/scanpy/preprocessing/_simple.py:352: RuntimeWarning: divide by zero encountered in log1p\n",
      "  np.log1p(X, out=X)\n",
      "/home/sergio/anaconda3/envs/xb/lib/python3.7/site-packages/scanpy/preprocessing/_utils.py:12: RuntimeWarning: invalid value encountered in subtract\n",
      "  var = mean_sq - mean**2\n",
      "/home/sergio/anaconda3/envs/xb/lib/python3.7/site-packages/scanpy/preprocessing/_simple.py:792: RuntimeWarning: invalid value encountered in subtract\n",
      "  X -= mean\n"
     ]
    },
    {
     "name": "stdout",
     "output_type": "stream",
     "text": [
      "(18231, 148)\n",
      "9\n",
      "TrueTrueFalse[10, 100, 1000, None]\n",
      "10\n"
     ]
    },
    {
     "name": "stderr",
     "output_type": "stream",
     "text": [
      "/home/sergio/anaconda3/envs/xb/lib/python3.7/site-packages/scanpy/preprocessing/_simple.py:843: UserWarning: Received a view of an AnnData. Making a copy.\n",
      "  view_to_actual(adata)\n"
     ]
    },
    {
     "name": "stdout",
     "output_type": "stream",
     "text": [
      "(18231, 27)\n",
      "11\n"
     ]
    },
    {
     "name": "stderr",
     "output_type": "stream",
     "text": [
      "/home/sergio/anaconda3/envs/xb/lib/python3.7/site-packages/scanpy/preprocessing/_simple.py:352: RuntimeWarning: divide by zero encountered in log1p\n",
      "  np.log1p(X, out=X)\n",
      "/home/sergio/anaconda3/envs/xb/lib/python3.7/site-packages/scanpy/preprocessing/_simple.py:843: UserWarning: Received a view of an AnnData. Making a copy.\n",
      "  view_to_actual(adata)\n",
      "/home/sergio/anaconda3/envs/xb/lib/python3.7/site-packages/scanpy/preprocessing/_simple.py:843: FutureWarning: X.dtype being converted to np.float32 from float64. In the next version of anndata (0.9) conversion will not be automatic. Pass dtype explicitly to avoid this warning. Pass `AnnData(X, dtype=X.dtype, ...)` to get the future behavour.\n",
      "  view_to_actual(adata)\n",
      "/home/sergio/anaconda3/envs/xb/lib/python3.7/site-packages/scanpy/preprocessing/_utils.py:12: RuntimeWarning: invalid value encountered in subtract\n",
      "  var = mean_sq - mean**2\n",
      "/home/sergio/anaconda3/envs/xb/lib/python3.7/site-packages/scanpy/preprocessing/_simple.py:792: RuntimeWarning: invalid value encountered in subtract\n",
      "  X -= mean\n"
     ]
    },
    {
     "name": "stdout",
     "output_type": "stream",
     "text": [
      "(18231, 49)\n",
      "12\n",
      "TrueTrueTrue[10, 100, 1000, None]\n",
      "13\n",
      "(18231, 148)\n",
      "14\n"
     ]
    },
    {
     "name": "stderr",
     "output_type": "stream",
     "text": [
      "/home/sergio/anaconda3/envs/xb/lib/python3.7/site-packages/scanpy/preprocessing/_simple.py:352: RuntimeWarning: divide by zero encountered in log1p\n",
      "  np.log1p(X, out=X)\n"
     ]
    },
    {
     "name": "stdout",
     "output_type": "stream",
     "text": [
      "(18231, 148)\n",
      "15\n",
      "TrueFalseFalse[10, 100, 1000, None]\n",
      "16\n"
     ]
    },
    {
     "name": "stderr",
     "output_type": "stream",
     "text": [
      "/home/sergio/anaconda3/envs/xb/lib/python3.7/site-packages/ipykernel_launcher.py:22: ImplicitModificationWarning: Trying to modify attribute `.X` of view, initializing view as actual.\n"
     ]
    },
    {
     "name": "stdout",
     "output_type": "stream",
     "text": [
      "(18231, 27)\n",
      "17\n"
     ]
    },
    {
     "name": "stderr",
     "output_type": "stream",
     "text": [
      "/home/sergio/anaconda3/envs/xb/lib/python3.7/site-packages/scanpy/preprocessing/_simple.py:352: RuntimeWarning: divide by zero encountered in log1p\n",
      "  np.log1p(X, out=X)\n",
      "/home/sergio/anaconda3/envs/xb/lib/python3.7/site-packages/ipykernel_launcher.py:22: ImplicitModificationWarning: Trying to modify attribute `.X` of view, initializing view as actual.\n",
      "/home/sergio/anaconda3/envs/xb/lib/python3.7/contextlib.py:119: FutureWarning: X.dtype being converted to np.float32 from float64. In the next version of anndata (0.9) conversion will not be automatic. Pass dtype explicitly to avoid this warning. Pass `AnnData(X, dtype=X.dtype, ...)` to get the future behavour.\n",
      "  next(self.gen)\n"
     ]
    },
    {
     "name": "stdout",
     "output_type": "stream",
     "text": [
      "(18231, 49)\n",
      "18\n",
      "TrueFalseTrue[10, 100, 1000, None]\n",
      "19\n",
      "(18231, 148)\n",
      "20\n"
     ]
    },
    {
     "name": "stderr",
     "output_type": "stream",
     "text": [
      "/home/sergio/anaconda3/envs/xb/lib/python3.7/site-packages/scanpy/preprocessing/_simple.py:352: RuntimeWarning: divide by zero encountered in log1p\n",
      "  np.log1p(X, out=X)\n",
      "/home/sergio/anaconda3/envs/xb/lib/python3.7/site-packages/scanpy/preprocessing/_utils.py:12: RuntimeWarning: invalid value encountered in subtract\n",
      "  var = mean_sq - mean**2\n",
      "/home/sergio/anaconda3/envs/xb/lib/python3.7/site-packages/scanpy/preprocessing/_simple.py:792: RuntimeWarning: invalid value encountered in subtract\n",
      "  X -= mean\n"
     ]
    },
    {
     "name": "stdout",
     "output_type": "stream",
     "text": [
      "(18231, 148)\n",
      "21\n",
      "TrueTrueFalse[10, 100, 1000, None]\n",
      "22\n"
     ]
    },
    {
     "name": "stderr",
     "output_type": "stream",
     "text": [
      "/home/sergio/anaconda3/envs/xb/lib/python3.7/site-packages/scanpy/preprocessing/_simple.py:843: UserWarning: Received a view of an AnnData. Making a copy.\n",
      "  view_to_actual(adata)\n"
     ]
    },
    {
     "name": "stdout",
     "output_type": "stream",
     "text": [
      "(18231, 27)\n",
      "23\n"
     ]
    },
    {
     "name": "stderr",
     "output_type": "stream",
     "text": [
      "/home/sergio/anaconda3/envs/xb/lib/python3.7/site-packages/scanpy/preprocessing/_simple.py:352: RuntimeWarning: divide by zero encountered in log1p\n",
      "  np.log1p(X, out=X)\n",
      "/home/sergio/anaconda3/envs/xb/lib/python3.7/site-packages/scanpy/preprocessing/_simple.py:843: UserWarning: Received a view of an AnnData. Making a copy.\n",
      "  view_to_actual(adata)\n",
      "/home/sergio/anaconda3/envs/xb/lib/python3.7/site-packages/scanpy/preprocessing/_simple.py:843: FutureWarning: X.dtype being converted to np.float32 from float64. In the next version of anndata (0.9) conversion will not be automatic. Pass dtype explicitly to avoid this warning. Pass `AnnData(X, dtype=X.dtype, ...)` to get the future behavour.\n",
      "  view_to_actual(adata)\n",
      "/home/sergio/anaconda3/envs/xb/lib/python3.7/site-packages/scanpy/preprocessing/_utils.py:12: RuntimeWarning: invalid value encountered in subtract\n",
      "  var = mean_sq - mean**2\n",
      "/home/sergio/anaconda3/envs/xb/lib/python3.7/site-packages/scanpy/preprocessing/_simple.py:792: RuntimeWarning: invalid value encountered in subtract\n",
      "  X -= mean\n"
     ]
    },
    {
     "name": "stdout",
     "output_type": "stream",
     "text": [
      "(18231, 49)\n",
      "24\n",
      "TrueTrueTrue[10, 100, 1000, None]\n",
      "25\n",
      "(18231, 148)\n",
      "26\n"
     ]
    },
    {
     "name": "stderr",
     "output_type": "stream",
     "text": [
      "/home/sergio/anaconda3/envs/xb/lib/python3.7/site-packages/scanpy/preprocessing/_simple.py:352: RuntimeWarning: divide by zero encountered in log1p\n",
      "  np.log1p(X, out=X)\n"
     ]
    },
    {
     "name": "stdout",
     "output_type": "stream",
     "text": [
      "(18231, 148)\n",
      "27\n",
      "TrueFalseFalse[10, 100, 1000, None]\n",
      "28\n"
     ]
    },
    {
     "name": "stderr",
     "output_type": "stream",
     "text": [
      "/home/sergio/anaconda3/envs/xb/lib/python3.7/site-packages/ipykernel_launcher.py:22: ImplicitModificationWarning: Trying to modify attribute `.X` of view, initializing view as actual.\n"
     ]
    },
    {
     "name": "stdout",
     "output_type": "stream",
     "text": [
      "(18231, 27)\n",
      "29\n"
     ]
    },
    {
     "name": "stderr",
     "output_type": "stream",
     "text": [
      "/home/sergio/anaconda3/envs/xb/lib/python3.7/site-packages/scanpy/preprocessing/_simple.py:352: RuntimeWarning: divide by zero encountered in log1p\n",
      "  np.log1p(X, out=X)\n",
      "/home/sergio/anaconda3/envs/xb/lib/python3.7/site-packages/ipykernel_launcher.py:22: ImplicitModificationWarning: Trying to modify attribute `.X` of view, initializing view as actual.\n",
      "/home/sergio/anaconda3/envs/xb/lib/python3.7/contextlib.py:119: FutureWarning: X.dtype being converted to np.float32 from float64. In the next version of anndata (0.9) conversion will not be automatic. Pass dtype explicitly to avoid this warning. Pass `AnnData(X, dtype=X.dtype, ...)` to get the future behavour.\n",
      "  next(self.gen)\n"
     ]
    },
    {
     "name": "stdout",
     "output_type": "stream",
     "text": [
      "(18231, 49)\n",
      "30\n",
      "TrueFalseTrue[10, 100, 1000, None]\n",
      "31\n",
      "(18231, 148)\n",
      "32\n"
     ]
    },
    {
     "name": "stderr",
     "output_type": "stream",
     "text": [
      "/home/sergio/anaconda3/envs/xb/lib/python3.7/site-packages/scanpy/preprocessing/_simple.py:352: RuntimeWarning: divide by zero encountered in log1p\n",
      "  np.log1p(X, out=X)\n",
      "/home/sergio/anaconda3/envs/xb/lib/python3.7/site-packages/scanpy/preprocessing/_utils.py:12: RuntimeWarning: invalid value encountered in subtract\n",
      "  var = mean_sq - mean**2\n",
      "/home/sergio/anaconda3/envs/xb/lib/python3.7/site-packages/scanpy/preprocessing/_simple.py:792: RuntimeWarning: invalid value encountered in subtract\n",
      "  X -= mean\n"
     ]
    },
    {
     "name": "stdout",
     "output_type": "stream",
     "text": [
      "(18231, 148)\n",
      "33\n",
      "TrueTrueFalse[10, 100, 1000, None]\n",
      "34\n"
     ]
    },
    {
     "name": "stderr",
     "output_type": "stream",
     "text": [
      "/home/sergio/anaconda3/envs/xb/lib/python3.7/site-packages/scanpy/preprocessing/_simple.py:843: UserWarning: Received a view of an AnnData. Making a copy.\n",
      "  view_to_actual(adata)\n"
     ]
    },
    {
     "name": "stdout",
     "output_type": "stream",
     "text": [
      "(18231, 27)\n",
      "35\n"
     ]
    },
    {
     "name": "stderr",
     "output_type": "stream",
     "text": [
      "/home/sergio/anaconda3/envs/xb/lib/python3.7/site-packages/scanpy/preprocessing/_simple.py:352: RuntimeWarning: divide by zero encountered in log1p\n",
      "  np.log1p(X, out=X)\n",
      "/home/sergio/anaconda3/envs/xb/lib/python3.7/site-packages/scanpy/preprocessing/_simple.py:843: UserWarning: Received a view of an AnnData. Making a copy.\n",
      "  view_to_actual(adata)\n",
      "/home/sergio/anaconda3/envs/xb/lib/python3.7/site-packages/scanpy/preprocessing/_simple.py:843: FutureWarning: X.dtype being converted to np.float32 from float64. In the next version of anndata (0.9) conversion will not be automatic. Pass dtype explicitly to avoid this warning. Pass `AnnData(X, dtype=X.dtype, ...)` to get the future behavour.\n",
      "  view_to_actual(adata)\n",
      "/home/sergio/anaconda3/envs/xb/lib/python3.7/site-packages/scanpy/preprocessing/_utils.py:12: RuntimeWarning: invalid value encountered in subtract\n",
      "  var = mean_sq - mean**2\n",
      "/home/sergio/anaconda3/envs/xb/lib/python3.7/site-packages/scanpy/preprocessing/_simple.py:792: RuntimeWarning: invalid value encountered in subtract\n",
      "  X -= mean\n"
     ]
    },
    {
     "name": "stdout",
     "output_type": "stream",
     "text": [
      "(18231, 49)\n",
      "36\n",
      "TrueTrueTrue[10, 100, 1000, None]\n",
      "37\n",
      "(18231, 148)\n",
      "38\n"
     ]
    },
    {
     "name": "stderr",
     "output_type": "stream",
     "text": [
      "/home/sergio/anaconda3/envs/xb/lib/python3.7/site-packages/scanpy/preprocessing/_simple.py:352: RuntimeWarning: divide by zero encountered in log1p\n",
      "  np.log1p(X, out=X)\n"
     ]
    },
    {
     "name": "stdout",
     "output_type": "stream",
     "text": [
      "(18231, 148)\n",
      "39\n",
      "TrueFalseFalse[10, 100, 1000, None]\n",
      "40\n"
     ]
    },
    {
     "name": "stderr",
     "output_type": "stream",
     "text": [
      "/home/sergio/anaconda3/envs/xb/lib/python3.7/site-packages/ipykernel_launcher.py:22: ImplicitModificationWarning: Trying to modify attribute `.X` of view, initializing view as actual.\n"
     ]
    },
    {
     "name": "stdout",
     "output_type": "stream",
     "text": [
      "(18231, 27)\n",
      "41\n"
     ]
    },
    {
     "name": "stderr",
     "output_type": "stream",
     "text": [
      "/home/sergio/anaconda3/envs/xb/lib/python3.7/site-packages/scanpy/preprocessing/_simple.py:352: RuntimeWarning: divide by zero encountered in log1p\n",
      "  np.log1p(X, out=X)\n",
      "/home/sergio/anaconda3/envs/xb/lib/python3.7/site-packages/ipykernel_launcher.py:22: ImplicitModificationWarning: Trying to modify attribute `.X` of view, initializing view as actual.\n",
      "/home/sergio/anaconda3/envs/xb/lib/python3.7/contextlib.py:119: FutureWarning: X.dtype being converted to np.float32 from float64. In the next version of anndata (0.9) conversion will not be automatic. Pass dtype explicitly to avoid this warning. Pass `AnnData(X, dtype=X.dtype, ...)` to get the future behavour.\n",
      "  next(self.gen)\n"
     ]
    },
    {
     "name": "stdout",
     "output_type": "stream",
     "text": [
      "(18231, 49)\n",
      "42\n",
      "TrueFalseTrue[10, 100, 1000, None]\n",
      "43\n",
      "(18231, 148)\n",
      "44\n"
     ]
    },
    {
     "name": "stderr",
     "output_type": "stream",
     "text": [
      "/home/sergio/anaconda3/envs/xb/lib/python3.7/site-packages/scanpy/preprocessing/_simple.py:352: RuntimeWarning: divide by zero encountered in log1p\n",
      "  np.log1p(X, out=X)\n",
      "/home/sergio/anaconda3/envs/xb/lib/python3.7/site-packages/scanpy/preprocessing/_utils.py:12: RuntimeWarning: invalid value encountered in subtract\n",
      "  var = mean_sq - mean**2\n",
      "/home/sergio/anaconda3/envs/xb/lib/python3.7/site-packages/scanpy/preprocessing/_simple.py:792: RuntimeWarning: invalid value encountered in subtract\n",
      "  X -= mean\n"
     ]
    },
    {
     "name": "stdout",
     "output_type": "stream",
     "text": [
      "(18231, 148)\n",
      "45\n",
      "TrueTrueFalse[10, 100, 1000, None]\n",
      "46\n"
     ]
    },
    {
     "name": "stderr",
     "output_type": "stream",
     "text": [
      "/home/sergio/anaconda3/envs/xb/lib/python3.7/site-packages/scanpy/preprocessing/_simple.py:843: UserWarning: Received a view of an AnnData. Making a copy.\n",
      "  view_to_actual(adata)\n"
     ]
    },
    {
     "name": "stdout",
     "output_type": "stream",
     "text": [
      "(18231, 27)\n",
      "47\n"
     ]
    },
    {
     "name": "stderr",
     "output_type": "stream",
     "text": [
      "/home/sergio/anaconda3/envs/xb/lib/python3.7/site-packages/scanpy/preprocessing/_simple.py:352: RuntimeWarning: divide by zero encountered in log1p\n",
      "  np.log1p(X, out=X)\n",
      "/home/sergio/anaconda3/envs/xb/lib/python3.7/site-packages/scanpy/preprocessing/_simple.py:843: UserWarning: Received a view of an AnnData. Making a copy.\n",
      "  view_to_actual(adata)\n",
      "/home/sergio/anaconda3/envs/xb/lib/python3.7/site-packages/scanpy/preprocessing/_simple.py:843: FutureWarning: X.dtype being converted to np.float32 from float64. In the next version of anndata (0.9) conversion will not be automatic. Pass dtype explicitly to avoid this warning. Pass `AnnData(X, dtype=X.dtype, ...)` to get the future behavour.\n",
      "  view_to_actual(adata)\n",
      "/home/sergio/anaconda3/envs/xb/lib/python3.7/site-packages/scanpy/preprocessing/_utils.py:12: RuntimeWarning: invalid value encountered in subtract\n",
      "  var = mean_sq - mean**2\n",
      "/home/sergio/anaconda3/envs/xb/lib/python3.7/site-packages/scanpy/preprocessing/_simple.py:792: RuntimeWarning: invalid value encountered in subtract\n",
      "  X -= mean\n"
     ]
    },
    {
     "name": "stdout",
     "output_type": "stream",
     "text": [
      "(18231, 49)\n",
      "48\n",
      "TrueTrueTrue[10, 100, 1000, None]\n",
      "49\n",
      "(18231, 148)\n",
      "50\n"
     ]
    },
    {
     "name": "stderr",
     "output_type": "stream",
     "text": [
      "/home/sergio/anaconda3/envs/xb/lib/python3.7/site-packages/scanpy/preprocessing/_simple.py:352: RuntimeWarning: divide by zero encountered in log1p\n",
      "  np.log1p(X, out=X)\n"
     ]
    },
    {
     "name": "stdout",
     "output_type": "stream",
     "text": [
      "(18231, 148)\n",
      "51\n",
      "TrueFalseFalse[10, 100, 1000, None]\n",
      "52\n"
     ]
    },
    {
     "name": "stderr",
     "output_type": "stream",
     "text": [
      "/home/sergio/anaconda3/envs/xb/lib/python3.7/site-packages/ipykernel_launcher.py:22: ImplicitModificationWarning: Trying to modify attribute `.X` of view, initializing view as actual.\n"
     ]
    },
    {
     "name": "stdout",
     "output_type": "stream",
     "text": [
      "(18231, 27)\n",
      "53\n"
     ]
    },
    {
     "name": "stderr",
     "output_type": "stream",
     "text": [
      "/home/sergio/anaconda3/envs/xb/lib/python3.7/site-packages/scanpy/preprocessing/_simple.py:352: RuntimeWarning: divide by zero encountered in log1p\n",
      "  np.log1p(X, out=X)\n",
      "/home/sergio/anaconda3/envs/xb/lib/python3.7/site-packages/ipykernel_launcher.py:22: ImplicitModificationWarning: Trying to modify attribute `.X` of view, initializing view as actual.\n",
      "/home/sergio/anaconda3/envs/xb/lib/python3.7/contextlib.py:119: FutureWarning: X.dtype being converted to np.float32 from float64. In the next version of anndata (0.9) conversion will not be automatic. Pass dtype explicitly to avoid this warning. Pass `AnnData(X, dtype=X.dtype, ...)` to get the future behavour.\n",
      "  next(self.gen)\n"
     ]
    },
    {
     "name": "stdout",
     "output_type": "stream",
     "text": [
      "(18231, 49)\n",
      "54\n",
      "TrueFalseTrue[10, 100, 1000, None]\n",
      "55\n",
      "(18231, 148)\n",
      "56\n"
     ]
    },
    {
     "name": "stderr",
     "output_type": "stream",
     "text": [
      "/home/sergio/anaconda3/envs/xb/lib/python3.7/site-packages/scanpy/preprocessing/_simple.py:352: RuntimeWarning: divide by zero encountered in log1p\n",
      "  np.log1p(X, out=X)\n",
      "/home/sergio/anaconda3/envs/xb/lib/python3.7/site-packages/scanpy/preprocessing/_utils.py:12: RuntimeWarning: invalid value encountered in subtract\n",
      "  var = mean_sq - mean**2\n",
      "/home/sergio/anaconda3/envs/xb/lib/python3.7/site-packages/scanpy/preprocessing/_simple.py:792: RuntimeWarning: invalid value encountered in subtract\n",
      "  X -= mean\n"
     ]
    },
    {
     "name": "stdout",
     "output_type": "stream",
     "text": [
      "(18231, 148)\n",
      "57\n",
      "TrueTrueFalse[10, 100, 1000, None]\n",
      "58\n"
     ]
    },
    {
     "name": "stderr",
     "output_type": "stream",
     "text": [
      "/home/sergio/anaconda3/envs/xb/lib/python3.7/site-packages/scanpy/preprocessing/_simple.py:843: UserWarning: Received a view of an AnnData. Making a copy.\n",
      "  view_to_actual(adata)\n"
     ]
    },
    {
     "name": "stdout",
     "output_type": "stream",
     "text": [
      "(18231, 27)\n",
      "59\n"
     ]
    },
    {
     "name": "stderr",
     "output_type": "stream",
     "text": [
      "/home/sergio/anaconda3/envs/xb/lib/python3.7/site-packages/scanpy/preprocessing/_simple.py:352: RuntimeWarning: divide by zero encountered in log1p\n",
      "  np.log1p(X, out=X)\n",
      "/home/sergio/anaconda3/envs/xb/lib/python3.7/site-packages/scanpy/preprocessing/_simple.py:843: UserWarning: Received a view of an AnnData. Making a copy.\n",
      "  view_to_actual(adata)\n",
      "/home/sergio/anaconda3/envs/xb/lib/python3.7/site-packages/scanpy/preprocessing/_simple.py:843: FutureWarning: X.dtype being converted to np.float32 from float64. In the next version of anndata (0.9) conversion will not be automatic. Pass dtype explicitly to avoid this warning. Pass `AnnData(X, dtype=X.dtype, ...)` to get the future behavour.\n",
      "  view_to_actual(adata)\n",
      "/home/sergio/anaconda3/envs/xb/lib/python3.7/site-packages/scanpy/preprocessing/_utils.py:12: RuntimeWarning: invalid value encountered in subtract\n",
      "  var = mean_sq - mean**2\n",
      "/home/sergio/anaconda3/envs/xb/lib/python3.7/site-packages/scanpy/preprocessing/_simple.py:792: RuntimeWarning: invalid value encountered in subtract\n",
      "  X -= mean\n"
     ]
    },
    {
     "name": "stdout",
     "output_type": "stream",
     "text": [
      "(18231, 49)\n",
      "60\n",
      "TrueTrueTrue[10, 100, 1000, None]\n",
      "61\n",
      "(18231, 148)\n",
      "62\n"
     ]
    },
    {
     "name": "stderr",
     "output_type": "stream",
     "text": [
      "/home/sergio/anaconda3/envs/xb/lib/python3.7/site-packages/scanpy/preprocessing/_simple.py:352: RuntimeWarning: divide by zero encountered in log1p\n",
      "  np.log1p(X, out=X)\n"
     ]
    },
    {
     "name": "stdout",
     "output_type": "stream",
     "text": [
      "(18231, 148)\n",
      "63\n",
      "TrueFalseFalse[10, 100, 1000, None]\n",
      "64\n"
     ]
    },
    {
     "name": "stderr",
     "output_type": "stream",
     "text": [
      "/home/sergio/anaconda3/envs/xb/lib/python3.7/site-packages/ipykernel_launcher.py:22: ImplicitModificationWarning: Trying to modify attribute `.X` of view, initializing view as actual.\n"
     ]
    },
    {
     "name": "stdout",
     "output_type": "stream",
     "text": [
      "(18231, 27)\n",
      "65\n"
     ]
    },
    {
     "name": "stderr",
     "output_type": "stream",
     "text": [
      "/home/sergio/anaconda3/envs/xb/lib/python3.7/site-packages/scanpy/preprocessing/_simple.py:352: RuntimeWarning: divide by zero encountered in log1p\n",
      "  np.log1p(X, out=X)\n",
      "/home/sergio/anaconda3/envs/xb/lib/python3.7/site-packages/ipykernel_launcher.py:22: ImplicitModificationWarning: Trying to modify attribute `.X` of view, initializing view as actual.\n",
      "/home/sergio/anaconda3/envs/xb/lib/python3.7/contextlib.py:119: FutureWarning: X.dtype being converted to np.float32 from float64. In the next version of anndata (0.9) conversion will not be automatic. Pass dtype explicitly to avoid this warning. Pass `AnnData(X, dtype=X.dtype, ...)` to get the future behavour.\n",
      "  next(self.gen)\n"
     ]
    },
    {
     "name": "stdout",
     "output_type": "stream",
     "text": [
      "(18231, 49)\n",
      "66\n",
      "TrueFalseTrue[10, 100, 1000, None]\n",
      "67\n",
      "(18231, 148)\n",
      "68\n"
     ]
    },
    {
     "name": "stderr",
     "output_type": "stream",
     "text": [
      "/home/sergio/anaconda3/envs/xb/lib/python3.7/site-packages/scanpy/preprocessing/_simple.py:352: RuntimeWarning: divide by zero encountered in log1p\n",
      "  np.log1p(X, out=X)\n",
      "/home/sergio/anaconda3/envs/xb/lib/python3.7/site-packages/scanpy/preprocessing/_utils.py:12: RuntimeWarning: invalid value encountered in subtract\n",
      "  var = mean_sq - mean**2\n",
      "/home/sergio/anaconda3/envs/xb/lib/python3.7/site-packages/scanpy/preprocessing/_simple.py:792: RuntimeWarning: invalid value encountered in subtract\n",
      "  X -= mean\n"
     ]
    },
    {
     "name": "stdout",
     "output_type": "stream",
     "text": [
      "(18231, 148)\n",
      "69\n",
      "TrueTrueFalse[10, 100, 1000, None]\n",
      "70\n"
     ]
    },
    {
     "name": "stderr",
     "output_type": "stream",
     "text": [
      "/home/sergio/anaconda3/envs/xb/lib/python3.7/site-packages/scanpy/preprocessing/_simple.py:843: UserWarning: Received a view of an AnnData. Making a copy.\n",
      "  view_to_actual(adata)\n"
     ]
    },
    {
     "name": "stdout",
     "output_type": "stream",
     "text": [
      "(18231, 27)\n",
      "71\n"
     ]
    },
    {
     "name": "stderr",
     "output_type": "stream",
     "text": [
      "/home/sergio/anaconda3/envs/xb/lib/python3.7/site-packages/scanpy/preprocessing/_simple.py:352: RuntimeWarning: divide by zero encountered in log1p\n",
      "  np.log1p(X, out=X)\n",
      "/home/sergio/anaconda3/envs/xb/lib/python3.7/site-packages/scanpy/preprocessing/_simple.py:843: UserWarning: Received a view of an AnnData. Making a copy.\n",
      "  view_to_actual(adata)\n",
      "/home/sergio/anaconda3/envs/xb/lib/python3.7/site-packages/scanpy/preprocessing/_simple.py:843: FutureWarning: X.dtype being converted to np.float32 from float64. In the next version of anndata (0.9) conversion will not be automatic. Pass dtype explicitly to avoid this warning. Pass `AnnData(X, dtype=X.dtype, ...)` to get the future behavour.\n",
      "  view_to_actual(adata)\n",
      "/home/sergio/anaconda3/envs/xb/lib/python3.7/site-packages/scanpy/preprocessing/_utils.py:12: RuntimeWarning: invalid value encountered in subtract\n",
      "  var = mean_sq - mean**2\n",
      "/home/sergio/anaconda3/envs/xb/lib/python3.7/site-packages/scanpy/preprocessing/_simple.py:792: RuntimeWarning: invalid value encountered in subtract\n",
      "  X -= mean\n"
     ]
    },
    {
     "name": "stdout",
     "output_type": "stream",
     "text": [
      "(18231, 49)\n",
      "72\n",
      "TrueTrueTrue[10, 100, 1000, None]\n",
      "73\n",
      "(18231, 148)\n",
      "74\n"
     ]
    },
    {
     "name": "stderr",
     "output_type": "stream",
     "text": [
      "/home/sergio/anaconda3/envs/xb/lib/python3.7/site-packages/scanpy/preprocessing/_simple.py:352: RuntimeWarning: divide by zero encountered in log1p\n",
      "  np.log1p(X, out=X)\n"
     ]
    },
    {
     "name": "stdout",
     "output_type": "stream",
     "text": [
      "(18231, 148)\n",
      "75\n",
      "TrueFalseFalse[10, 100, 1000, None]\n",
      "76\n"
     ]
    },
    {
     "name": "stderr",
     "output_type": "stream",
     "text": [
      "/home/sergio/anaconda3/envs/xb/lib/python3.7/site-packages/ipykernel_launcher.py:22: ImplicitModificationWarning: Trying to modify attribute `.X` of view, initializing view as actual.\n"
     ]
    },
    {
     "name": "stdout",
     "output_type": "stream",
     "text": [
      "(18231, 39)\n",
      "77\n"
     ]
    },
    {
     "name": "stderr",
     "output_type": "stream",
     "text": [
      "/home/sergio/anaconda3/envs/xb/lib/python3.7/site-packages/scanpy/preprocessing/_simple.py:352: RuntimeWarning: divide by zero encountered in log1p\n",
      "  np.log1p(X, out=X)\n",
      "/home/sergio/anaconda3/envs/xb/lib/python3.7/site-packages/ipykernel_launcher.py:22: ImplicitModificationWarning: Trying to modify attribute `.X` of view, initializing view as actual.\n",
      "/home/sergio/anaconda3/envs/xb/lib/python3.7/contextlib.py:119: FutureWarning: X.dtype being converted to np.float32 from float64. In the next version of anndata (0.9) conversion will not be automatic. Pass dtype explicitly to avoid this warning. Pass `AnnData(X, dtype=X.dtype, ...)` to get the future behavour.\n",
      "  next(self.gen)\n"
     ]
    },
    {
     "name": "stdout",
     "output_type": "stream",
     "text": [
      "(18231, 49)\n",
      "78\n",
      "TrueFalseTrue[10, 100, 1000, None]\n",
      "79\n",
      "(18231, 148)\n",
      "80\n"
     ]
    },
    {
     "name": "stderr",
     "output_type": "stream",
     "text": [
      "/home/sergio/anaconda3/envs/xb/lib/python3.7/site-packages/scanpy/preprocessing/_simple.py:352: RuntimeWarning: divide by zero encountered in log1p\n",
      "  np.log1p(X, out=X)\n",
      "/home/sergio/anaconda3/envs/xb/lib/python3.7/site-packages/scanpy/preprocessing/_utils.py:12: RuntimeWarning: invalid value encountered in subtract\n",
      "  var = mean_sq - mean**2\n",
      "/home/sergio/anaconda3/envs/xb/lib/python3.7/site-packages/scanpy/preprocessing/_simple.py:792: RuntimeWarning: invalid value encountered in subtract\n",
      "  X -= mean\n"
     ]
    },
    {
     "name": "stdout",
     "output_type": "stream",
     "text": [
      "(18231, 148)\n",
      "81\n",
      "TrueTrueFalse[10, 100, 1000, None]\n",
      "82\n"
     ]
    },
    {
     "name": "stderr",
     "output_type": "stream",
     "text": [
      "/home/sergio/anaconda3/envs/xb/lib/python3.7/site-packages/scanpy/preprocessing/_simple.py:843: UserWarning: Received a view of an AnnData. Making a copy.\n",
      "  view_to_actual(adata)\n"
     ]
    },
    {
     "name": "stdout",
     "output_type": "stream",
     "text": [
      "(18231, 39)\n",
      "83\n"
     ]
    },
    {
     "name": "stderr",
     "output_type": "stream",
     "text": [
      "/home/sergio/anaconda3/envs/xb/lib/python3.7/site-packages/scanpy/preprocessing/_simple.py:352: RuntimeWarning: divide by zero encountered in log1p\n",
      "  np.log1p(X, out=X)\n",
      "/home/sergio/anaconda3/envs/xb/lib/python3.7/site-packages/scanpy/preprocessing/_simple.py:843: UserWarning: Received a view of an AnnData. Making a copy.\n",
      "  view_to_actual(adata)\n",
      "/home/sergio/anaconda3/envs/xb/lib/python3.7/site-packages/scanpy/preprocessing/_simple.py:843: FutureWarning: X.dtype being converted to np.float32 from float64. In the next version of anndata (0.9) conversion will not be automatic. Pass dtype explicitly to avoid this warning. Pass `AnnData(X, dtype=X.dtype, ...)` to get the future behavour.\n",
      "  view_to_actual(adata)\n",
      "/home/sergio/anaconda3/envs/xb/lib/python3.7/site-packages/scanpy/preprocessing/_utils.py:12: RuntimeWarning: invalid value encountered in subtract\n",
      "  var = mean_sq - mean**2\n",
      "/home/sergio/anaconda3/envs/xb/lib/python3.7/site-packages/scanpy/preprocessing/_simple.py:792: RuntimeWarning: invalid value encountered in subtract\n",
      "  X -= mean\n"
     ]
    },
    {
     "name": "stdout",
     "output_type": "stream",
     "text": [
      "(18231, 49)\n",
      "84\n",
      "TrueTrueTrue[10, 100, 1000, None]\n",
      "85\n",
      "(18231, 148)\n",
      "86\n"
     ]
    },
    {
     "name": "stderr",
     "output_type": "stream",
     "text": [
      "/home/sergio/anaconda3/envs/xb/lib/python3.7/site-packages/scanpy/preprocessing/_simple.py:352: RuntimeWarning: divide by zero encountered in log1p\n",
      "  np.log1p(X, out=X)\n"
     ]
    },
    {
     "name": "stdout",
     "output_type": "stream",
     "text": [
      "(18231, 148)\n",
      "87\n",
      "TrueFalseFalse[10, 100, 1000, None]\n",
      "88\n"
     ]
    },
    {
     "name": "stderr",
     "output_type": "stream",
     "text": [
      "/home/sergio/anaconda3/envs/xb/lib/python3.7/site-packages/ipykernel_launcher.py:22: ImplicitModificationWarning: Trying to modify attribute `.X` of view, initializing view as actual.\n"
     ]
    },
    {
     "name": "stdout",
     "output_type": "stream",
     "text": [
      "(18231, 39)\n",
      "89\n"
     ]
    },
    {
     "name": "stderr",
     "output_type": "stream",
     "text": [
      "/home/sergio/anaconda3/envs/xb/lib/python3.7/site-packages/scanpy/preprocessing/_simple.py:352: RuntimeWarning: divide by zero encountered in log1p\n",
      "  np.log1p(X, out=X)\n",
      "/home/sergio/anaconda3/envs/xb/lib/python3.7/site-packages/ipykernel_launcher.py:22: ImplicitModificationWarning: Trying to modify attribute `.X` of view, initializing view as actual.\n",
      "/home/sergio/anaconda3/envs/xb/lib/python3.7/contextlib.py:119: FutureWarning: X.dtype being converted to np.float32 from float64. In the next version of anndata (0.9) conversion will not be automatic. Pass dtype explicitly to avoid this warning. Pass `AnnData(X, dtype=X.dtype, ...)` to get the future behavour.\n",
      "  next(self.gen)\n"
     ]
    },
    {
     "name": "stdout",
     "output_type": "stream",
     "text": [
      "(18231, 49)\n",
      "90\n",
      "TrueFalseTrue[10, 100, 1000, None]\n",
      "91\n",
      "(18231, 148)\n",
      "92\n"
     ]
    },
    {
     "name": "stderr",
     "output_type": "stream",
     "text": [
      "/home/sergio/anaconda3/envs/xb/lib/python3.7/site-packages/scanpy/preprocessing/_simple.py:352: RuntimeWarning: divide by zero encountered in log1p\n",
      "  np.log1p(X, out=X)\n",
      "/home/sergio/anaconda3/envs/xb/lib/python3.7/site-packages/scanpy/preprocessing/_utils.py:12: RuntimeWarning: invalid value encountered in subtract\n",
      "  var = mean_sq - mean**2\n",
      "/home/sergio/anaconda3/envs/xb/lib/python3.7/site-packages/scanpy/preprocessing/_simple.py:792: RuntimeWarning: invalid value encountered in subtract\n",
      "  X -= mean\n"
     ]
    },
    {
     "name": "stdout",
     "output_type": "stream",
     "text": [
      "(18231, 148)\n",
      "93\n",
      "TrueTrueFalse[10, 100, 1000, None]\n",
      "94\n"
     ]
    },
    {
     "name": "stderr",
     "output_type": "stream",
     "text": [
      "/home/sergio/anaconda3/envs/xb/lib/python3.7/site-packages/scanpy/preprocessing/_simple.py:843: UserWarning: Received a view of an AnnData. Making a copy.\n",
      "  view_to_actual(adata)\n"
     ]
    },
    {
     "name": "stdout",
     "output_type": "stream",
     "text": [
      "(18231, 39)\n",
      "95\n"
     ]
    },
    {
     "name": "stderr",
     "output_type": "stream",
     "text": [
      "/home/sergio/anaconda3/envs/xb/lib/python3.7/site-packages/scanpy/preprocessing/_simple.py:352: RuntimeWarning: divide by zero encountered in log1p\n",
      "  np.log1p(X, out=X)\n",
      "/home/sergio/anaconda3/envs/xb/lib/python3.7/site-packages/scanpy/preprocessing/_simple.py:843: UserWarning: Received a view of an AnnData. Making a copy.\n",
      "  view_to_actual(adata)\n",
      "/home/sergio/anaconda3/envs/xb/lib/python3.7/site-packages/scanpy/preprocessing/_simple.py:843: FutureWarning: X.dtype being converted to np.float32 from float64. In the next version of anndata (0.9) conversion will not be automatic. Pass dtype explicitly to avoid this warning. Pass `AnnData(X, dtype=X.dtype, ...)` to get the future behavour.\n",
      "  view_to_actual(adata)\n",
      "/home/sergio/anaconda3/envs/xb/lib/python3.7/site-packages/scanpy/preprocessing/_utils.py:12: RuntimeWarning: invalid value encountered in subtract\n",
      "  var = mean_sq - mean**2\n",
      "/home/sergio/anaconda3/envs/xb/lib/python3.7/site-packages/scanpy/preprocessing/_simple.py:792: RuntimeWarning: invalid value encountered in subtract\n",
      "  X -= mean\n"
     ]
    },
    {
     "name": "stdout",
     "output_type": "stream",
     "text": [
      "(18231, 49)\n",
      "96\n",
      "TrueTrueTrue[10, 100, 1000, None]\n",
      "97\n",
      "(18231, 148)\n",
      "98\n"
     ]
    },
    {
     "name": "stderr",
     "output_type": "stream",
     "text": [
      "/home/sergio/anaconda3/envs/xb/lib/python3.7/site-packages/scanpy/preprocessing/_simple.py:352: RuntimeWarning: divide by zero encountered in log1p\n",
      "  np.log1p(X, out=X)\n"
     ]
    },
    {
     "name": "stdout",
     "output_type": "stream",
     "text": [
      "(18231, 148)\n",
      "99\n",
      "TrueFalseFalse[10, 100, 1000, None]\n",
      "100\n"
     ]
    },
    {
     "name": "stderr",
     "output_type": "stream",
     "text": [
      "/home/sergio/anaconda3/envs/xb/lib/python3.7/site-packages/ipykernel_launcher.py:22: ImplicitModificationWarning: Trying to modify attribute `.X` of view, initializing view as actual.\n"
     ]
    },
    {
     "name": "stdout",
     "output_type": "stream",
     "text": [
      "(18231, 39)\n",
      "101\n"
     ]
    },
    {
     "name": "stderr",
     "output_type": "stream",
     "text": [
      "/home/sergio/anaconda3/envs/xb/lib/python3.7/site-packages/scanpy/preprocessing/_simple.py:352: RuntimeWarning: divide by zero encountered in log1p\n",
      "  np.log1p(X, out=X)\n",
      "/home/sergio/anaconda3/envs/xb/lib/python3.7/site-packages/ipykernel_launcher.py:22: ImplicitModificationWarning: Trying to modify attribute `.X` of view, initializing view as actual.\n",
      "/home/sergio/anaconda3/envs/xb/lib/python3.7/contextlib.py:119: FutureWarning: X.dtype being converted to np.float32 from float64. In the next version of anndata (0.9) conversion will not be automatic. Pass dtype explicitly to avoid this warning. Pass `AnnData(X, dtype=X.dtype, ...)` to get the future behavour.\n",
      "  next(self.gen)\n"
     ]
    },
    {
     "name": "stdout",
     "output_type": "stream",
     "text": [
      "(18231, 49)\n",
      "102\n",
      "TrueFalseTrue[10, 100, 1000, None]\n",
      "103\n",
      "(18231, 148)\n",
      "104\n"
     ]
    },
    {
     "name": "stderr",
     "output_type": "stream",
     "text": [
      "/home/sergio/anaconda3/envs/xb/lib/python3.7/site-packages/scanpy/preprocessing/_simple.py:352: RuntimeWarning: divide by zero encountered in log1p\n",
      "  np.log1p(X, out=X)\n",
      "/home/sergio/anaconda3/envs/xb/lib/python3.7/site-packages/scanpy/preprocessing/_utils.py:12: RuntimeWarning: invalid value encountered in subtract\n",
      "  var = mean_sq - mean**2\n",
      "/home/sergio/anaconda3/envs/xb/lib/python3.7/site-packages/scanpy/preprocessing/_simple.py:792: RuntimeWarning: invalid value encountered in subtract\n",
      "  X -= mean\n"
     ]
    },
    {
     "name": "stdout",
     "output_type": "stream",
     "text": [
      "(18231, 148)\n",
      "105\n",
      "TrueTrueFalse[10, 100, 1000, None]\n",
      "106\n"
     ]
    },
    {
     "name": "stderr",
     "output_type": "stream",
     "text": [
      "/home/sergio/anaconda3/envs/xb/lib/python3.7/site-packages/scanpy/preprocessing/_simple.py:843: UserWarning: Received a view of an AnnData. Making a copy.\n",
      "  view_to_actual(adata)\n"
     ]
    },
    {
     "name": "stdout",
     "output_type": "stream",
     "text": [
      "(18231, 39)\n",
      "107\n"
     ]
    },
    {
     "name": "stderr",
     "output_type": "stream",
     "text": [
      "/home/sergio/anaconda3/envs/xb/lib/python3.7/site-packages/scanpy/preprocessing/_simple.py:352: RuntimeWarning: divide by zero encountered in log1p\n",
      "  np.log1p(X, out=X)\n",
      "/home/sergio/anaconda3/envs/xb/lib/python3.7/site-packages/scanpy/preprocessing/_simple.py:843: UserWarning: Received a view of an AnnData. Making a copy.\n",
      "  view_to_actual(adata)\n",
      "/home/sergio/anaconda3/envs/xb/lib/python3.7/site-packages/scanpy/preprocessing/_simple.py:843: FutureWarning: X.dtype being converted to np.float32 from float64. In the next version of anndata (0.9) conversion will not be automatic. Pass dtype explicitly to avoid this warning. Pass `AnnData(X, dtype=X.dtype, ...)` to get the future behavour.\n",
      "  view_to_actual(adata)\n",
      "/home/sergio/anaconda3/envs/xb/lib/python3.7/site-packages/scanpy/preprocessing/_utils.py:12: RuntimeWarning: invalid value encountered in subtract\n",
      "  var = mean_sq - mean**2\n",
      "/home/sergio/anaconda3/envs/xb/lib/python3.7/site-packages/scanpy/preprocessing/_simple.py:792: RuntimeWarning: invalid value encountered in subtract\n",
      "  X -= mean\n"
     ]
    },
    {
     "name": "stdout",
     "output_type": "stream",
     "text": [
      "(18231, 49)\n",
      "108\n",
      "TrueTrueTrue[10, 100, 1000, None]\n",
      "109\n",
      "(18231, 148)\n",
      "110\n"
     ]
    },
    {
     "name": "stderr",
     "output_type": "stream",
     "text": [
      "/home/sergio/anaconda3/envs/xb/lib/python3.7/site-packages/scanpy/preprocessing/_simple.py:352: RuntimeWarning: divide by zero encountered in log1p\n",
      "  np.log1p(X, out=X)\n"
     ]
    },
    {
     "name": "stdout",
     "output_type": "stream",
     "text": [
      "(18231, 148)\n",
      "111\n",
      "TrueFalseFalse[10, 100, 1000, None]\n",
      "112\n"
     ]
    },
    {
     "name": "stderr",
     "output_type": "stream",
     "text": [
      "/home/sergio/anaconda3/envs/xb/lib/python3.7/site-packages/ipykernel_launcher.py:22: ImplicitModificationWarning: Trying to modify attribute `.X` of view, initializing view as actual.\n"
     ]
    },
    {
     "name": "stdout",
     "output_type": "stream",
     "text": [
      "(18231, 39)\n",
      "113\n"
     ]
    },
    {
     "name": "stderr",
     "output_type": "stream",
     "text": [
      "/home/sergio/anaconda3/envs/xb/lib/python3.7/site-packages/scanpy/preprocessing/_simple.py:352: RuntimeWarning: divide by zero encountered in log1p\n",
      "  np.log1p(X, out=X)\n",
      "/home/sergio/anaconda3/envs/xb/lib/python3.7/site-packages/ipykernel_launcher.py:22: ImplicitModificationWarning: Trying to modify attribute `.X` of view, initializing view as actual.\n",
      "/home/sergio/anaconda3/envs/xb/lib/python3.7/contextlib.py:119: FutureWarning: X.dtype being converted to np.float32 from float64. In the next version of anndata (0.9) conversion will not be automatic. Pass dtype explicitly to avoid this warning. Pass `AnnData(X, dtype=X.dtype, ...)` to get the future behavour.\n",
      "  next(self.gen)\n"
     ]
    },
    {
     "name": "stdout",
     "output_type": "stream",
     "text": [
      "(18231, 49)\n",
      "114\n",
      "TrueFalseTrue[10, 100, 1000, None]\n",
      "115\n",
      "(18231, 148)\n",
      "116\n"
     ]
    },
    {
     "name": "stderr",
     "output_type": "stream",
     "text": [
      "/home/sergio/anaconda3/envs/xb/lib/python3.7/site-packages/scanpy/preprocessing/_simple.py:352: RuntimeWarning: divide by zero encountered in log1p\n",
      "  np.log1p(X, out=X)\n",
      "/home/sergio/anaconda3/envs/xb/lib/python3.7/site-packages/scanpy/preprocessing/_utils.py:12: RuntimeWarning: invalid value encountered in subtract\n",
      "  var = mean_sq - mean**2\n",
      "/home/sergio/anaconda3/envs/xb/lib/python3.7/site-packages/scanpy/preprocessing/_simple.py:792: RuntimeWarning: invalid value encountered in subtract\n",
      "  X -= mean\n"
     ]
    },
    {
     "name": "stdout",
     "output_type": "stream",
     "text": [
      "(18231, 148)\n",
      "117\n",
      "TrueTrueFalse[10, 100, 1000, None]\n",
      "118\n"
     ]
    },
    {
     "name": "stderr",
     "output_type": "stream",
     "text": [
      "/home/sergio/anaconda3/envs/xb/lib/python3.7/site-packages/scanpy/preprocessing/_simple.py:843: UserWarning: Received a view of an AnnData. Making a copy.\n",
      "  view_to_actual(adata)\n"
     ]
    },
    {
     "name": "stdout",
     "output_type": "stream",
     "text": [
      "(18231, 39)\n",
      "119\n"
     ]
    },
    {
     "name": "stderr",
     "output_type": "stream",
     "text": [
      "/home/sergio/anaconda3/envs/xb/lib/python3.7/site-packages/scanpy/preprocessing/_simple.py:352: RuntimeWarning: divide by zero encountered in log1p\n",
      "  np.log1p(X, out=X)\n",
      "/home/sergio/anaconda3/envs/xb/lib/python3.7/site-packages/scanpy/preprocessing/_simple.py:843: UserWarning: Received a view of an AnnData. Making a copy.\n",
      "  view_to_actual(adata)\n",
      "/home/sergio/anaconda3/envs/xb/lib/python3.7/site-packages/scanpy/preprocessing/_simple.py:843: FutureWarning: X.dtype being converted to np.float32 from float64. In the next version of anndata (0.9) conversion will not be automatic. Pass dtype explicitly to avoid this warning. Pass `AnnData(X, dtype=X.dtype, ...)` to get the future behavour.\n",
      "  view_to_actual(adata)\n",
      "/home/sergio/anaconda3/envs/xb/lib/python3.7/site-packages/scanpy/preprocessing/_utils.py:12: RuntimeWarning: invalid value encountered in subtract\n",
      "  var = mean_sq - mean**2\n",
      "/home/sergio/anaconda3/envs/xb/lib/python3.7/site-packages/scanpy/preprocessing/_simple.py:792: RuntimeWarning: invalid value encountered in subtract\n",
      "  X -= mean\n"
     ]
    },
    {
     "name": "stdout",
     "output_type": "stream",
     "text": [
      "(18231, 49)\n",
      "120\n",
      "TrueTrueTrue[10, 100, 1000, None]\n",
      "121\n",
      "(18231, 148)\n",
      "122\n"
     ]
    },
    {
     "name": "stderr",
     "output_type": "stream",
     "text": [
      "/home/sergio/anaconda3/envs/xb/lib/python3.7/site-packages/scanpy/preprocessing/_simple.py:352: RuntimeWarning: divide by zero encountered in log1p\n",
      "  np.log1p(X, out=X)\n"
     ]
    },
    {
     "name": "stdout",
     "output_type": "stream",
     "text": [
      "(18231, 148)\n",
      "123\n",
      "TrueFalseFalse[10, 100, 1000, None]\n",
      "124\n"
     ]
    },
    {
     "name": "stderr",
     "output_type": "stream",
     "text": [
      "/home/sergio/anaconda3/envs/xb/lib/python3.7/site-packages/ipykernel_launcher.py:22: ImplicitModificationWarning: Trying to modify attribute `.X` of view, initializing view as actual.\n"
     ]
    },
    {
     "name": "stdout",
     "output_type": "stream",
     "text": [
      "(18231, 39)\n",
      "125\n"
     ]
    },
    {
     "name": "stderr",
     "output_type": "stream",
     "text": [
      "/home/sergio/anaconda3/envs/xb/lib/python3.7/site-packages/scanpy/preprocessing/_simple.py:352: RuntimeWarning: divide by zero encountered in log1p\n",
      "  np.log1p(X, out=X)\n",
      "/home/sergio/anaconda3/envs/xb/lib/python3.7/site-packages/ipykernel_launcher.py:22: ImplicitModificationWarning: Trying to modify attribute `.X` of view, initializing view as actual.\n",
      "/home/sergio/anaconda3/envs/xb/lib/python3.7/contextlib.py:119: FutureWarning: X.dtype being converted to np.float32 from float64. In the next version of anndata (0.9) conversion will not be automatic. Pass dtype explicitly to avoid this warning. Pass `AnnData(X, dtype=X.dtype, ...)` to get the future behavour.\n",
      "  next(self.gen)\n"
     ]
    },
    {
     "name": "stdout",
     "output_type": "stream",
     "text": [
      "(18231, 49)\n",
      "126\n",
      "TrueFalseTrue[10, 100, 1000, None]\n",
      "127\n",
      "(18231, 148)\n",
      "128\n"
     ]
    },
    {
     "name": "stderr",
     "output_type": "stream",
     "text": [
      "/home/sergio/anaconda3/envs/xb/lib/python3.7/site-packages/scanpy/preprocessing/_simple.py:352: RuntimeWarning: divide by zero encountered in log1p\n",
      "  np.log1p(X, out=X)\n",
      "/home/sergio/anaconda3/envs/xb/lib/python3.7/site-packages/scanpy/preprocessing/_utils.py:12: RuntimeWarning: invalid value encountered in subtract\n",
      "  var = mean_sq - mean**2\n",
      "/home/sergio/anaconda3/envs/xb/lib/python3.7/site-packages/scanpy/preprocessing/_simple.py:792: RuntimeWarning: invalid value encountered in subtract\n",
      "  X -= mean\n"
     ]
    },
    {
     "name": "stdout",
     "output_type": "stream",
     "text": [
      "(18231, 148)\n",
      "129\n",
      "TrueTrueFalse[10, 100, 1000, None]\n",
      "130\n"
     ]
    },
    {
     "name": "stderr",
     "output_type": "stream",
     "text": [
      "/home/sergio/anaconda3/envs/xb/lib/python3.7/site-packages/scanpy/preprocessing/_simple.py:843: UserWarning: Received a view of an AnnData. Making a copy.\n",
      "  view_to_actual(adata)\n"
     ]
    },
    {
     "name": "stdout",
     "output_type": "stream",
     "text": [
      "(18231, 39)\n",
      "131\n"
     ]
    },
    {
     "name": "stderr",
     "output_type": "stream",
     "text": [
      "/home/sergio/anaconda3/envs/xb/lib/python3.7/site-packages/scanpy/preprocessing/_simple.py:352: RuntimeWarning: divide by zero encountered in log1p\n",
      "  np.log1p(X, out=X)\n",
      "/home/sergio/anaconda3/envs/xb/lib/python3.7/site-packages/scanpy/preprocessing/_simple.py:843: UserWarning: Received a view of an AnnData. Making a copy.\n",
      "  view_to_actual(adata)\n",
      "/home/sergio/anaconda3/envs/xb/lib/python3.7/site-packages/scanpy/preprocessing/_simple.py:843: FutureWarning: X.dtype being converted to np.float32 from float64. In the next version of anndata (0.9) conversion will not be automatic. Pass dtype explicitly to avoid this warning. Pass `AnnData(X, dtype=X.dtype, ...)` to get the future behavour.\n",
      "  view_to_actual(adata)\n",
      "/home/sergio/anaconda3/envs/xb/lib/python3.7/site-packages/scanpy/preprocessing/_utils.py:12: RuntimeWarning: invalid value encountered in subtract\n",
      "  var = mean_sq - mean**2\n",
      "/home/sergio/anaconda3/envs/xb/lib/python3.7/site-packages/scanpy/preprocessing/_simple.py:792: RuntimeWarning: invalid value encountered in subtract\n",
      "  X -= mean\n"
     ]
    },
    {
     "name": "stdout",
     "output_type": "stream",
     "text": [
      "(18231, 49)\n",
      "132\n",
      "TrueTrueTrue[10, 100, 1000, None]\n",
      "133\n",
      "(18231, 148)\n",
      "134\n"
     ]
    },
    {
     "name": "stderr",
     "output_type": "stream",
     "text": [
      "/home/sergio/anaconda3/envs/xb/lib/python3.7/site-packages/scanpy/preprocessing/_simple.py:352: RuntimeWarning: divide by zero encountered in log1p\n",
      "  np.log1p(X, out=X)\n"
     ]
    },
    {
     "name": "stdout",
     "output_type": "stream",
     "text": [
      "(18231, 148)\n",
      "135\n",
      "TrueFalseFalse[10, 100, 1000, None]\n",
      "136\n"
     ]
    },
    {
     "name": "stderr",
     "output_type": "stream",
     "text": [
      "/home/sergio/anaconda3/envs/xb/lib/python3.7/site-packages/ipykernel_launcher.py:22: ImplicitModificationWarning: Trying to modify attribute `.X` of view, initializing view as actual.\n"
     ]
    },
    {
     "name": "stdout",
     "output_type": "stream",
     "text": [
      "(18231, 39)\n",
      "137\n"
     ]
    },
    {
     "name": "stderr",
     "output_type": "stream",
     "text": [
      "/home/sergio/anaconda3/envs/xb/lib/python3.7/site-packages/scanpy/preprocessing/_simple.py:352: RuntimeWarning: divide by zero encountered in log1p\n",
      "  np.log1p(X, out=X)\n",
      "/home/sergio/anaconda3/envs/xb/lib/python3.7/site-packages/ipykernel_launcher.py:22: ImplicitModificationWarning: Trying to modify attribute `.X` of view, initializing view as actual.\n",
      "/home/sergio/anaconda3/envs/xb/lib/python3.7/contextlib.py:119: FutureWarning: X.dtype being converted to np.float32 from float64. In the next version of anndata (0.9) conversion will not be automatic. Pass dtype explicitly to avoid this warning. Pass `AnnData(X, dtype=X.dtype, ...)` to get the future behavour.\n",
      "  next(self.gen)\n"
     ]
    },
    {
     "name": "stdout",
     "output_type": "stream",
     "text": [
      "(18231, 49)\n",
      "138\n",
      "TrueFalseTrue[10, 100, 1000, None]\n",
      "139\n",
      "(18231, 148)\n",
      "140\n"
     ]
    },
    {
     "name": "stderr",
     "output_type": "stream",
     "text": [
      "/home/sergio/anaconda3/envs/xb/lib/python3.7/site-packages/scanpy/preprocessing/_simple.py:352: RuntimeWarning: divide by zero encountered in log1p\n",
      "  np.log1p(X, out=X)\n",
      "/home/sergio/anaconda3/envs/xb/lib/python3.7/site-packages/scanpy/preprocessing/_utils.py:12: RuntimeWarning: invalid value encountered in subtract\n",
      "  var = mean_sq - mean**2\n",
      "/home/sergio/anaconda3/envs/xb/lib/python3.7/site-packages/scanpy/preprocessing/_simple.py:792: RuntimeWarning: invalid value encountered in subtract\n",
      "  X -= mean\n"
     ]
    },
    {
     "name": "stdout",
     "output_type": "stream",
     "text": [
      "(18231, 148)\n",
      "141\n",
      "TrueTrueFalse[10, 100, 1000, None]\n",
      "142\n"
     ]
    },
    {
     "name": "stderr",
     "output_type": "stream",
     "text": [
      "/home/sergio/anaconda3/envs/xb/lib/python3.7/site-packages/scanpy/preprocessing/_simple.py:843: UserWarning: Received a view of an AnnData. Making a copy.\n",
      "  view_to_actual(adata)\n"
     ]
    },
    {
     "name": "stdout",
     "output_type": "stream",
     "text": [
      "(18231, 39)\n",
      "143\n"
     ]
    },
    {
     "name": "stderr",
     "output_type": "stream",
     "text": [
      "/home/sergio/anaconda3/envs/xb/lib/python3.7/site-packages/scanpy/preprocessing/_simple.py:352: RuntimeWarning: divide by zero encountered in log1p\n",
      "  np.log1p(X, out=X)\n",
      "/home/sergio/anaconda3/envs/xb/lib/python3.7/site-packages/scanpy/preprocessing/_simple.py:843: UserWarning: Received a view of an AnnData. Making a copy.\n",
      "  view_to_actual(adata)\n",
      "/home/sergio/anaconda3/envs/xb/lib/python3.7/site-packages/scanpy/preprocessing/_simple.py:843: FutureWarning: X.dtype being converted to np.float32 from float64. In the next version of anndata (0.9) conversion will not be automatic. Pass dtype explicitly to avoid this warning. Pass `AnnData(X, dtype=X.dtype, ...)` to get the future behavour.\n",
      "  view_to_actual(adata)\n",
      "/home/sergio/anaconda3/envs/xb/lib/python3.7/site-packages/scanpy/preprocessing/_utils.py:12: RuntimeWarning: invalid value encountered in subtract\n",
      "  var = mean_sq - mean**2\n",
      "/home/sergio/anaconda3/envs/xb/lib/python3.7/site-packages/scanpy/preprocessing/_simple.py:792: RuntimeWarning: invalid value encountered in subtract\n",
      "  X -= mean\n"
     ]
    },
    {
     "name": "stdout",
     "output_type": "stream",
     "text": [
      "(18231, 49)\n",
      "144\n",
      "TrueTrueTrue[10, 100, 1000, None]\n",
      "145\n"
     ]
    },
    {
     "name": "stderr",
     "output_type": "stream",
     "text": [
      "/home/sergio/anaconda3/envs/xb/lib/python3.7/site-packages/scanpy/preprocessing/_simple.py:352: RuntimeWarning: divide by zero encountered in log1p\n",
      "  np.log1p(X, out=X)\n",
      "/home/sergio/anaconda3/envs/xb/lib/python3.7/site-packages/scanpy/preprocessing/_simple.py:352: RuntimeWarning: invalid value encountered in log1p\n",
      "  np.log1p(X, out=X)\n"
     ]
    },
    {
     "name": "stdout",
     "output_type": "stream",
     "text": [
      "(18231, 148)\n",
      "146\n"
     ]
    },
    {
     "name": "stderr",
     "output_type": "stream",
     "text": [
      "/home/sergio/anaconda3/envs/xb/lib/python3.7/site-packages/scanpy/preprocessing/_simple.py:352: RuntimeWarning: divide by zero encountered in log1p\n",
      "  np.log1p(X, out=X)\n"
     ]
    },
    {
     "name": "stdout",
     "output_type": "stream",
     "text": [
      "(18231, 148)\n",
      "147\n",
      "TrueFalseFalse[10, 100, 1000, None]\n",
      "148\n"
     ]
    },
    {
     "name": "stderr",
     "output_type": "stream",
     "text": [
      "/home/sergio/anaconda3/envs/xb/lib/python3.7/site-packages/scanpy/preprocessing/_simple.py:352: RuntimeWarning: divide by zero encountered in log1p\n",
      "  np.log1p(X, out=X)\n",
      "/home/sergio/anaconda3/envs/xb/lib/python3.7/site-packages/scanpy/preprocessing/_simple.py:352: RuntimeWarning: invalid value encountered in log1p\n",
      "  np.log1p(X, out=X)\n"
     ]
    },
    {
     "name": "stdout",
     "output_type": "stream",
     "text": [
      "normTrue_lgTrue_ng12_pc0_ts1000_hvg_True_scale_False_leid lgTrue_ng12_pc0_ts1000_hvg_True_scale_False\n",
      "149\n"
     ]
    },
    {
     "name": "stderr",
     "output_type": "stream",
     "text": [
      "/home/sergio/anaconda3/envs/xb/lib/python3.7/site-packages/ipykernel_launcher.py:22: ImplicitModificationWarning: Trying to modify attribute `.X` of view, initializing view as actual.\n",
      "/home/sergio/anaconda3/envs/xb/lib/python3.7/contextlib.py:119: FutureWarning: X.dtype being converted to np.float32 from float64. In the next version of anndata (0.9) conversion will not be automatic. Pass dtype explicitly to avoid this warning. Pass `AnnData(X, dtype=X.dtype, ...)` to get the future behavour.\n",
      "  next(self.gen)\n"
     ]
    },
    {
     "name": "stdout",
     "output_type": "stream",
     "text": [
      "(18231, 49)\n",
      "150\n",
      "TrueFalseTrue[10, 100, 1000, None]\n",
      "151\n"
     ]
    },
    {
     "name": "stderr",
     "output_type": "stream",
     "text": [
      "/home/sergio/anaconda3/envs/xb/lib/python3.7/site-packages/scanpy/preprocessing/_simple.py:352: RuntimeWarning: divide by zero encountered in log1p\n",
      "  np.log1p(X, out=X)\n",
      "/home/sergio/anaconda3/envs/xb/lib/python3.7/site-packages/scanpy/preprocessing/_simple.py:352: RuntimeWarning: invalid value encountered in log1p\n",
      "  np.log1p(X, out=X)\n"
     ]
    },
    {
     "name": "stdout",
     "output_type": "stream",
     "text": [
      "(18231, 148)\n",
      "152\n"
     ]
    },
    {
     "name": "stderr",
     "output_type": "stream",
     "text": [
      "/home/sergio/anaconda3/envs/xb/lib/python3.7/site-packages/scanpy/preprocessing/_simple.py:352: RuntimeWarning: divide by zero encountered in log1p\n",
      "  np.log1p(X, out=X)\n",
      "/home/sergio/anaconda3/envs/xb/lib/python3.7/site-packages/scanpy/preprocessing/_utils.py:12: RuntimeWarning: invalid value encountered in subtract\n",
      "  var = mean_sq - mean**2\n",
      "/home/sergio/anaconda3/envs/xb/lib/python3.7/site-packages/scanpy/preprocessing/_simple.py:792: RuntimeWarning: invalid value encountered in subtract\n",
      "  X -= mean\n"
     ]
    },
    {
     "name": "stdout",
     "output_type": "stream",
     "text": [
      "(18231, 148)\n",
      "153\n",
      "TrueTrueFalse[10, 100, 1000, None]\n",
      "154\n"
     ]
    },
    {
     "name": "stderr",
     "output_type": "stream",
     "text": [
      "/home/sergio/anaconda3/envs/xb/lib/python3.7/site-packages/scanpy/preprocessing/_simple.py:352: RuntimeWarning: divide by zero encountered in log1p\n",
      "  np.log1p(X, out=X)\n",
      "/home/sergio/anaconda3/envs/xb/lib/python3.7/site-packages/scanpy/preprocessing/_simple.py:352: RuntimeWarning: invalid value encountered in log1p\n",
      "  np.log1p(X, out=X)\n"
     ]
    },
    {
     "name": "stdout",
     "output_type": "stream",
     "text": [
      "normTrue_lgTrue_ng12_pc0_ts1000_hvg_True_scale_True_leid lgTrue_ng12_pc0_ts1000_hvg_True_scale_True\n",
      "155\n"
     ]
    },
    {
     "name": "stderr",
     "output_type": "stream",
     "text": [
      "/home/sergio/anaconda3/envs/xb/lib/python3.7/site-packages/scanpy/preprocessing/_simple.py:843: UserWarning: Received a view of an AnnData. Making a copy.\n",
      "  view_to_actual(adata)\n",
      "/home/sergio/anaconda3/envs/xb/lib/python3.7/site-packages/scanpy/preprocessing/_simple.py:843: FutureWarning: X.dtype being converted to np.float32 from float64. In the next version of anndata (0.9) conversion will not be automatic. Pass dtype explicitly to avoid this warning. Pass `AnnData(X, dtype=X.dtype, ...)` to get the future behavour.\n",
      "  view_to_actual(adata)\n",
      "/home/sergio/anaconda3/envs/xb/lib/python3.7/site-packages/scanpy/preprocessing/_utils.py:12: RuntimeWarning: invalid value encountered in subtract\n",
      "  var = mean_sq - mean**2\n",
      "/home/sergio/anaconda3/envs/xb/lib/python3.7/site-packages/scanpy/preprocessing/_simple.py:792: RuntimeWarning: invalid value encountered in subtract\n",
      "  X -= mean\n"
     ]
    },
    {
     "name": "stdout",
     "output_type": "stream",
     "text": [
      "(18231, 49)\n",
      "156\n",
      "TrueTrueTrue[10, 100, 1000, None]\n",
      "157\n"
     ]
    },
    {
     "name": "stderr",
     "output_type": "stream",
     "text": [
      "/home/sergio/anaconda3/envs/xb/lib/python3.7/site-packages/scanpy/preprocessing/_simple.py:352: RuntimeWarning: divide by zero encountered in log1p\n",
      "  np.log1p(X, out=X)\n",
      "/home/sergio/anaconda3/envs/xb/lib/python3.7/site-packages/scanpy/preprocessing/_simple.py:352: RuntimeWarning: invalid value encountered in log1p\n",
      "  np.log1p(X, out=X)\n"
     ]
    },
    {
     "name": "stdout",
     "output_type": "stream",
     "text": [
      "(18231, 148)\n",
      "158\n"
     ]
    },
    {
     "name": "stderr",
     "output_type": "stream",
     "text": [
      "/home/sergio/anaconda3/envs/xb/lib/python3.7/site-packages/scanpy/preprocessing/_simple.py:352: RuntimeWarning: divide by zero encountered in log1p\n",
      "  np.log1p(X, out=X)\n"
     ]
    },
    {
     "name": "stdout",
     "output_type": "stream",
     "text": [
      "(18231, 148)\n",
      "159\n",
      "TrueFalseFalse[10, 100, 1000, None]\n",
      "160\n"
     ]
    },
    {
     "name": "stderr",
     "output_type": "stream",
     "text": [
      "/home/sergio/anaconda3/envs/xb/lib/python3.7/site-packages/scanpy/preprocessing/_simple.py:352: RuntimeWarning: divide by zero encountered in log1p\n",
      "  np.log1p(X, out=X)\n",
      "/home/sergio/anaconda3/envs/xb/lib/python3.7/site-packages/scanpy/preprocessing/_simple.py:352: RuntimeWarning: invalid value encountered in log1p\n",
      "  np.log1p(X, out=X)\n"
     ]
    },
    {
     "name": "stdout",
     "output_type": "stream",
     "text": [
      "normTrue_lgTrue_ng12_pc20_ts1000_hvg_True_scale_False_leid lgTrue_ng12_pc20_ts1000_hvg_True_scale_False\n",
      "161\n"
     ]
    },
    {
     "name": "stderr",
     "output_type": "stream",
     "text": [
      "/home/sergio/anaconda3/envs/xb/lib/python3.7/site-packages/ipykernel_launcher.py:22: ImplicitModificationWarning: Trying to modify attribute `.X` of view, initializing view as actual.\n",
      "/home/sergio/anaconda3/envs/xb/lib/python3.7/contextlib.py:119: FutureWarning: X.dtype being converted to np.float32 from float64. In the next version of anndata (0.9) conversion will not be automatic. Pass dtype explicitly to avoid this warning. Pass `AnnData(X, dtype=X.dtype, ...)` to get the future behavour.\n",
      "  next(self.gen)\n"
     ]
    },
    {
     "name": "stdout",
     "output_type": "stream",
     "text": [
      "(18231, 49)\n",
      "162\n",
      "TrueFalseTrue[10, 100, 1000, None]\n",
      "163\n"
     ]
    },
    {
     "name": "stderr",
     "output_type": "stream",
     "text": [
      "/home/sergio/anaconda3/envs/xb/lib/python3.7/site-packages/scanpy/preprocessing/_simple.py:352: RuntimeWarning: divide by zero encountered in log1p\n",
      "  np.log1p(X, out=X)\n",
      "/home/sergio/anaconda3/envs/xb/lib/python3.7/site-packages/scanpy/preprocessing/_simple.py:352: RuntimeWarning: invalid value encountered in log1p\n",
      "  np.log1p(X, out=X)\n"
     ]
    },
    {
     "name": "stdout",
     "output_type": "stream",
     "text": [
      "(18231, 148)\n",
      "164\n"
     ]
    },
    {
     "name": "stderr",
     "output_type": "stream",
     "text": [
      "/home/sergio/anaconda3/envs/xb/lib/python3.7/site-packages/scanpy/preprocessing/_simple.py:352: RuntimeWarning: divide by zero encountered in log1p\n",
      "  np.log1p(X, out=X)\n",
      "/home/sergio/anaconda3/envs/xb/lib/python3.7/site-packages/scanpy/preprocessing/_utils.py:12: RuntimeWarning: invalid value encountered in subtract\n",
      "  var = mean_sq - mean**2\n",
      "/home/sergio/anaconda3/envs/xb/lib/python3.7/site-packages/scanpy/preprocessing/_simple.py:792: RuntimeWarning: invalid value encountered in subtract\n",
      "  X -= mean\n"
     ]
    },
    {
     "name": "stdout",
     "output_type": "stream",
     "text": [
      "(18231, 148)\n",
      "165\n",
      "TrueTrueFalse[10, 100, 1000, None]\n",
      "166\n"
     ]
    },
    {
     "name": "stderr",
     "output_type": "stream",
     "text": [
      "/home/sergio/anaconda3/envs/xb/lib/python3.7/site-packages/scanpy/preprocessing/_simple.py:352: RuntimeWarning: divide by zero encountered in log1p\n",
      "  np.log1p(X, out=X)\n",
      "/home/sergio/anaconda3/envs/xb/lib/python3.7/site-packages/scanpy/preprocessing/_simple.py:352: RuntimeWarning: invalid value encountered in log1p\n",
      "  np.log1p(X, out=X)\n"
     ]
    },
    {
     "name": "stdout",
     "output_type": "stream",
     "text": [
      "normTrue_lgTrue_ng12_pc20_ts1000_hvg_True_scale_True_leid lgTrue_ng12_pc20_ts1000_hvg_True_scale_True\n",
      "167\n"
     ]
    },
    {
     "name": "stderr",
     "output_type": "stream",
     "text": [
      "/home/sergio/anaconda3/envs/xb/lib/python3.7/site-packages/scanpy/preprocessing/_simple.py:843: UserWarning: Received a view of an AnnData. Making a copy.\n",
      "  view_to_actual(adata)\n",
      "/home/sergio/anaconda3/envs/xb/lib/python3.7/site-packages/scanpy/preprocessing/_simple.py:843: FutureWarning: X.dtype being converted to np.float32 from float64. In the next version of anndata (0.9) conversion will not be automatic. Pass dtype explicitly to avoid this warning. Pass `AnnData(X, dtype=X.dtype, ...)` to get the future behavour.\n",
      "  view_to_actual(adata)\n",
      "/home/sergio/anaconda3/envs/xb/lib/python3.7/site-packages/scanpy/preprocessing/_utils.py:12: RuntimeWarning: invalid value encountered in subtract\n",
      "  var = mean_sq - mean**2\n",
      "/home/sergio/anaconda3/envs/xb/lib/python3.7/site-packages/scanpy/preprocessing/_simple.py:792: RuntimeWarning: invalid value encountered in subtract\n",
      "  X -= mean\n"
     ]
    },
    {
     "name": "stdout",
     "output_type": "stream",
     "text": [
      "(18231, 49)\n",
      "168\n",
      "TrueTrueTrue[10, 100, 1000, None]\n",
      "169\n"
     ]
    },
    {
     "name": "stderr",
     "output_type": "stream",
     "text": [
      "/home/sergio/anaconda3/envs/xb/lib/python3.7/site-packages/scanpy/preprocessing/_simple.py:352: RuntimeWarning: divide by zero encountered in log1p\n",
      "  np.log1p(X, out=X)\n",
      "/home/sergio/anaconda3/envs/xb/lib/python3.7/site-packages/scanpy/preprocessing/_simple.py:352: RuntimeWarning: invalid value encountered in log1p\n",
      "  np.log1p(X, out=X)\n"
     ]
    },
    {
     "name": "stdout",
     "output_type": "stream",
     "text": [
      "(18231, 148)\n",
      "170\n"
     ]
    },
    {
     "name": "stderr",
     "output_type": "stream",
     "text": [
      "/home/sergio/anaconda3/envs/xb/lib/python3.7/site-packages/scanpy/preprocessing/_simple.py:352: RuntimeWarning: divide by zero encountered in log1p\n",
      "  np.log1p(X, out=X)\n"
     ]
    },
    {
     "name": "stdout",
     "output_type": "stream",
     "text": [
      "(18231, 148)\n",
      "171\n",
      "TrueFalseFalse[10, 100, 1000, None]\n",
      "172\n"
     ]
    },
    {
     "name": "stderr",
     "output_type": "stream",
     "text": [
      "/home/sergio/anaconda3/envs/xb/lib/python3.7/site-packages/scanpy/preprocessing/_simple.py:352: RuntimeWarning: divide by zero encountered in log1p\n",
      "  np.log1p(X, out=X)\n",
      "/home/sergio/anaconda3/envs/xb/lib/python3.7/site-packages/scanpy/preprocessing/_simple.py:352: RuntimeWarning: invalid value encountered in log1p\n",
      "  np.log1p(X, out=X)\n"
     ]
    },
    {
     "name": "stdout",
     "output_type": "stream",
     "text": [
      "normTrue_lgTrue_ng12_pc40_ts1000_hvg_True_scale_False_leid lgTrue_ng12_pc40_ts1000_hvg_True_scale_False\n",
      "173\n"
     ]
    },
    {
     "name": "stderr",
     "output_type": "stream",
     "text": [
      "/home/sergio/anaconda3/envs/xb/lib/python3.7/site-packages/ipykernel_launcher.py:22: ImplicitModificationWarning: Trying to modify attribute `.X` of view, initializing view as actual.\n",
      "/home/sergio/anaconda3/envs/xb/lib/python3.7/contextlib.py:119: FutureWarning: X.dtype being converted to np.float32 from float64. In the next version of anndata (0.9) conversion will not be automatic. Pass dtype explicitly to avoid this warning. Pass `AnnData(X, dtype=X.dtype, ...)` to get the future behavour.\n",
      "  next(self.gen)\n"
     ]
    },
    {
     "name": "stdout",
     "output_type": "stream",
     "text": [
      "(18231, 49)\n",
      "174\n",
      "TrueFalseTrue[10, 100, 1000, None]\n",
      "175\n"
     ]
    },
    {
     "name": "stderr",
     "output_type": "stream",
     "text": [
      "/home/sergio/anaconda3/envs/xb/lib/python3.7/site-packages/scanpy/preprocessing/_simple.py:352: RuntimeWarning: divide by zero encountered in log1p\n",
      "  np.log1p(X, out=X)\n",
      "/home/sergio/anaconda3/envs/xb/lib/python3.7/site-packages/scanpy/preprocessing/_simple.py:352: RuntimeWarning: invalid value encountered in log1p\n",
      "  np.log1p(X, out=X)\n"
     ]
    },
    {
     "name": "stdout",
     "output_type": "stream",
     "text": [
      "(18231, 148)\n",
      "176\n"
     ]
    },
    {
     "name": "stderr",
     "output_type": "stream",
     "text": [
      "/home/sergio/anaconda3/envs/xb/lib/python3.7/site-packages/scanpy/preprocessing/_simple.py:352: RuntimeWarning: divide by zero encountered in log1p\n",
      "  np.log1p(X, out=X)\n",
      "/home/sergio/anaconda3/envs/xb/lib/python3.7/site-packages/scanpy/preprocessing/_utils.py:12: RuntimeWarning: invalid value encountered in subtract\n",
      "  var = mean_sq - mean**2\n",
      "/home/sergio/anaconda3/envs/xb/lib/python3.7/site-packages/scanpy/preprocessing/_simple.py:792: RuntimeWarning: invalid value encountered in subtract\n",
      "  X -= mean\n"
     ]
    },
    {
     "name": "stdout",
     "output_type": "stream",
     "text": [
      "(18231, 148)\n",
      "177\n",
      "TrueTrueFalse[10, 100, 1000, None]\n",
      "178\n"
     ]
    },
    {
     "name": "stderr",
     "output_type": "stream",
     "text": [
      "/home/sergio/anaconda3/envs/xb/lib/python3.7/site-packages/scanpy/preprocessing/_simple.py:352: RuntimeWarning: divide by zero encountered in log1p\n",
      "  np.log1p(X, out=X)\n",
      "/home/sergio/anaconda3/envs/xb/lib/python3.7/site-packages/scanpy/preprocessing/_simple.py:352: RuntimeWarning: invalid value encountered in log1p\n",
      "  np.log1p(X, out=X)\n"
     ]
    },
    {
     "name": "stdout",
     "output_type": "stream",
     "text": [
      "normTrue_lgTrue_ng12_pc40_ts1000_hvg_True_scale_True_leid lgTrue_ng12_pc40_ts1000_hvg_True_scale_True\n",
      "179\n"
     ]
    },
    {
     "name": "stderr",
     "output_type": "stream",
     "text": [
      "/home/sergio/anaconda3/envs/xb/lib/python3.7/site-packages/scanpy/preprocessing/_simple.py:843: UserWarning: Received a view of an AnnData. Making a copy.\n",
      "  view_to_actual(adata)\n",
      "/home/sergio/anaconda3/envs/xb/lib/python3.7/site-packages/scanpy/preprocessing/_simple.py:843: FutureWarning: X.dtype being converted to np.float32 from float64. In the next version of anndata (0.9) conversion will not be automatic. Pass dtype explicitly to avoid this warning. Pass `AnnData(X, dtype=X.dtype, ...)` to get the future behavour.\n",
      "  view_to_actual(adata)\n",
      "/home/sergio/anaconda3/envs/xb/lib/python3.7/site-packages/scanpy/preprocessing/_utils.py:12: RuntimeWarning: invalid value encountered in subtract\n",
      "  var = mean_sq - mean**2\n",
      "/home/sergio/anaconda3/envs/xb/lib/python3.7/site-packages/scanpy/preprocessing/_simple.py:792: RuntimeWarning: invalid value encountered in subtract\n",
      "  X -= mean\n"
     ]
    },
    {
     "name": "stdout",
     "output_type": "stream",
     "text": [
      "(18231, 49)\n",
      "180\n",
      "TrueTrueTrue[10, 100, 1000, None]\n",
      "181\n"
     ]
    },
    {
     "name": "stderr",
     "output_type": "stream",
     "text": [
      "/home/sergio/anaconda3/envs/xb/lib/python3.7/site-packages/scanpy/preprocessing/_simple.py:352: RuntimeWarning: divide by zero encountered in log1p\n",
      "  np.log1p(X, out=X)\n",
      "/home/sergio/anaconda3/envs/xb/lib/python3.7/site-packages/scanpy/preprocessing/_simple.py:352: RuntimeWarning: invalid value encountered in log1p\n",
      "  np.log1p(X, out=X)\n"
     ]
    },
    {
     "name": "stdout",
     "output_type": "stream",
     "text": [
      "(18231, 148)\n",
      "182\n"
     ]
    },
    {
     "name": "stderr",
     "output_type": "stream",
     "text": [
      "/home/sergio/anaconda3/envs/xb/lib/python3.7/site-packages/scanpy/preprocessing/_simple.py:352: RuntimeWarning: divide by zero encountered in log1p\n",
      "  np.log1p(X, out=X)\n"
     ]
    },
    {
     "name": "stdout",
     "output_type": "stream",
     "text": [
      "(18231, 148)\n",
      "183\n",
      "TrueFalseFalse[10, 100, 1000, None]\n",
      "184\n"
     ]
    },
    {
     "name": "stderr",
     "output_type": "stream",
     "text": [
      "/home/sergio/anaconda3/envs/xb/lib/python3.7/site-packages/scanpy/preprocessing/_simple.py:352: RuntimeWarning: divide by zero encountered in log1p\n",
      "  np.log1p(X, out=X)\n",
      "/home/sergio/anaconda3/envs/xb/lib/python3.7/site-packages/scanpy/preprocessing/_simple.py:352: RuntimeWarning: invalid value encountered in log1p\n",
      "  np.log1p(X, out=X)\n"
     ]
    },
    {
     "name": "stdout",
     "output_type": "stream",
     "text": [
      "normTrue_lgTrue_ng16_pc0_ts1000_hvg_True_scale_False_leid lgTrue_ng16_pc0_ts1000_hvg_True_scale_False\n",
      "185\n"
     ]
    },
    {
     "name": "stderr",
     "output_type": "stream",
     "text": [
      "/home/sergio/anaconda3/envs/xb/lib/python3.7/site-packages/ipykernel_launcher.py:22: ImplicitModificationWarning: Trying to modify attribute `.X` of view, initializing view as actual.\n",
      "/home/sergio/anaconda3/envs/xb/lib/python3.7/contextlib.py:119: FutureWarning: X.dtype being converted to np.float32 from float64. In the next version of anndata (0.9) conversion will not be automatic. Pass dtype explicitly to avoid this warning. Pass `AnnData(X, dtype=X.dtype, ...)` to get the future behavour.\n",
      "  next(self.gen)\n"
     ]
    },
    {
     "name": "stdout",
     "output_type": "stream",
     "text": [
      "(18231, 49)\n",
      "186\n",
      "TrueFalseTrue[10, 100, 1000, None]\n",
      "187\n"
     ]
    },
    {
     "name": "stderr",
     "output_type": "stream",
     "text": [
      "/home/sergio/anaconda3/envs/xb/lib/python3.7/site-packages/scanpy/preprocessing/_simple.py:352: RuntimeWarning: divide by zero encountered in log1p\n",
      "  np.log1p(X, out=X)\n",
      "/home/sergio/anaconda3/envs/xb/lib/python3.7/site-packages/scanpy/preprocessing/_simple.py:352: RuntimeWarning: invalid value encountered in log1p\n",
      "  np.log1p(X, out=X)\n"
     ]
    },
    {
     "name": "stdout",
     "output_type": "stream",
     "text": [
      "(18231, 148)\n",
      "188\n"
     ]
    },
    {
     "name": "stderr",
     "output_type": "stream",
     "text": [
      "/home/sergio/anaconda3/envs/xb/lib/python3.7/site-packages/scanpy/preprocessing/_simple.py:352: RuntimeWarning: divide by zero encountered in log1p\n",
      "  np.log1p(X, out=X)\n",
      "/home/sergio/anaconda3/envs/xb/lib/python3.7/site-packages/scanpy/preprocessing/_utils.py:12: RuntimeWarning: invalid value encountered in subtract\n",
      "  var = mean_sq - mean**2\n",
      "/home/sergio/anaconda3/envs/xb/lib/python3.7/site-packages/scanpy/preprocessing/_simple.py:792: RuntimeWarning: invalid value encountered in subtract\n",
      "  X -= mean\n"
     ]
    },
    {
     "name": "stdout",
     "output_type": "stream",
     "text": [
      "(18231, 148)\n",
      "189\n",
      "TrueTrueFalse[10, 100, 1000, None]\n",
      "190\n"
     ]
    },
    {
     "name": "stderr",
     "output_type": "stream",
     "text": [
      "/home/sergio/anaconda3/envs/xb/lib/python3.7/site-packages/scanpy/preprocessing/_simple.py:352: RuntimeWarning: divide by zero encountered in log1p\n",
      "  np.log1p(X, out=X)\n",
      "/home/sergio/anaconda3/envs/xb/lib/python3.7/site-packages/scanpy/preprocessing/_simple.py:352: RuntimeWarning: invalid value encountered in log1p\n",
      "  np.log1p(X, out=X)\n"
     ]
    },
    {
     "name": "stdout",
     "output_type": "stream",
     "text": [
      "normTrue_lgTrue_ng16_pc0_ts1000_hvg_True_scale_True_leid lgTrue_ng16_pc0_ts1000_hvg_True_scale_True\n",
      "191\n"
     ]
    },
    {
     "name": "stderr",
     "output_type": "stream",
     "text": [
      "/home/sergio/anaconda3/envs/xb/lib/python3.7/site-packages/scanpy/preprocessing/_simple.py:843: UserWarning: Received a view of an AnnData. Making a copy.\n",
      "  view_to_actual(adata)\n",
      "/home/sergio/anaconda3/envs/xb/lib/python3.7/site-packages/scanpy/preprocessing/_simple.py:843: FutureWarning: X.dtype being converted to np.float32 from float64. In the next version of anndata (0.9) conversion will not be automatic. Pass dtype explicitly to avoid this warning. Pass `AnnData(X, dtype=X.dtype, ...)` to get the future behavour.\n",
      "  view_to_actual(adata)\n",
      "/home/sergio/anaconda3/envs/xb/lib/python3.7/site-packages/scanpy/preprocessing/_utils.py:12: RuntimeWarning: invalid value encountered in subtract\n",
      "  var = mean_sq - mean**2\n",
      "/home/sergio/anaconda3/envs/xb/lib/python3.7/site-packages/scanpy/preprocessing/_simple.py:792: RuntimeWarning: invalid value encountered in subtract\n",
      "  X -= mean\n"
     ]
    },
    {
     "name": "stdout",
     "output_type": "stream",
     "text": [
      "(18231, 49)\n",
      "192\n",
      "TrueTrueTrue[10, 100, 1000, None]\n",
      "193\n"
     ]
    },
    {
     "name": "stderr",
     "output_type": "stream",
     "text": [
      "/home/sergio/anaconda3/envs/xb/lib/python3.7/site-packages/scanpy/preprocessing/_simple.py:352: RuntimeWarning: divide by zero encountered in log1p\n",
      "  np.log1p(X, out=X)\n",
      "/home/sergio/anaconda3/envs/xb/lib/python3.7/site-packages/scanpy/preprocessing/_simple.py:352: RuntimeWarning: invalid value encountered in log1p\n",
      "  np.log1p(X, out=X)\n"
     ]
    },
    {
     "name": "stdout",
     "output_type": "stream",
     "text": [
      "(18231, 148)\n",
      "194\n"
     ]
    },
    {
     "name": "stderr",
     "output_type": "stream",
     "text": [
      "/home/sergio/anaconda3/envs/xb/lib/python3.7/site-packages/scanpy/preprocessing/_simple.py:352: RuntimeWarning: divide by zero encountered in log1p\n",
      "  np.log1p(X, out=X)\n"
     ]
    },
    {
     "name": "stdout",
     "output_type": "stream",
     "text": [
      "(18231, 148)\n",
      "195\n",
      "TrueFalseFalse[10, 100, 1000, None]\n",
      "196\n"
     ]
    },
    {
     "name": "stderr",
     "output_type": "stream",
     "text": [
      "/home/sergio/anaconda3/envs/xb/lib/python3.7/site-packages/scanpy/preprocessing/_simple.py:352: RuntimeWarning: divide by zero encountered in log1p\n",
      "  np.log1p(X, out=X)\n",
      "/home/sergio/anaconda3/envs/xb/lib/python3.7/site-packages/scanpy/preprocessing/_simple.py:352: RuntimeWarning: invalid value encountered in log1p\n",
      "  np.log1p(X, out=X)\n"
     ]
    },
    {
     "name": "stdout",
     "output_type": "stream",
     "text": [
      "normTrue_lgTrue_ng16_pc20_ts1000_hvg_True_scale_False_leid lgTrue_ng16_pc20_ts1000_hvg_True_scale_False\n",
      "197\n"
     ]
    },
    {
     "name": "stderr",
     "output_type": "stream",
     "text": [
      "/home/sergio/anaconda3/envs/xb/lib/python3.7/site-packages/ipykernel_launcher.py:22: ImplicitModificationWarning: Trying to modify attribute `.X` of view, initializing view as actual.\n",
      "/home/sergio/anaconda3/envs/xb/lib/python3.7/contextlib.py:119: FutureWarning: X.dtype being converted to np.float32 from float64. In the next version of anndata (0.9) conversion will not be automatic. Pass dtype explicitly to avoid this warning. Pass `AnnData(X, dtype=X.dtype, ...)` to get the future behavour.\n",
      "  next(self.gen)\n"
     ]
    },
    {
     "name": "stdout",
     "output_type": "stream",
     "text": [
      "(18231, 49)\n"
     ]
    }
   ],
   "source": [
    "mainpath='../../data/scRNAseq_for_simulations/'\n",
    "datasets=os.listdir(mainpath)\n",
    "datasets=[d for d in datasets if d!='.ipynb_checkpoints']\n",
    "for d in range(0,len(datasets)):\n",
    "    try:\n",
    "        print('##################################### Dataset '+str(d))\n",
    "        dataset_path=mainpath+datasets[d]\n",
    "        #reread single cell data since we need the updated version LUNG DEV\n",
    "        adata_sc_sub=sc.read(dataset_path+'/original_adata.h5ad')\n",
    "        adata_sc_sub.X=adata_sc_sub.X.todense()\n",
    "        markers=pd.read_csv(dataset_path+'/markers.csv',index_col=0)\n",
    "        total_genes=250\n",
    "        random_markers_perc=0\n",
    "        reads_x_cell=None\n",
    "        n_reads_x_gene=20\n",
    "        percentage_of_noise=0.05\n",
    "        misseg_percentage=0.05\n",
    "        adata_sc=subset_of_single_cell(adata_sc_sub,markers,random_markers_percentage=random_markers_perc,\n",
    "                                       reads_x_cell=reads_x_cell,number_of_markers=total_genes,\n",
    "                                      n_reads_x_gene=n_reads_x_gene,percentage_of_noise=percentage_of_noise,\n",
    "                                      ms_percentage=misseg_percentage)\n",
    "        # calculate all simulations\n",
    "        allres=allcombs_simulated(adata_sc,default_key='cell_type')\n",
    "        allres.to_csv(dataset_path+'/final_allresults.csv')\n",
    "    except:\n",
    "        print('Dataset not possible '+ str(d))"
   ]
  },
  {
   "cell_type": "code",
   "execution_count": 14,
   "id": "67c9f75d",
   "metadata": {},
   "outputs": [
    {
     "name": "stdout",
     "output_type": "stream",
     "text": [
      "##################################### Dataset 0\n"
     ]
    },
    {
     "name": "stderr",
     "output_type": "stream",
     "text": [
      "100%|████████████████████████████████████████████████████████████████████████████████████| 5/5 [00:00<00:00, 440.41it/s]\n"
     ]
    },
    {
     "name": "stdout",
     "output_type": "stream",
     "text": [
      "(11756, 214)\n",
      "first run\n",
      "1\n",
      "(11756, 214)\n",
      "2\n"
     ]
    },
    {
     "name": "stderr",
     "output_type": "stream",
     "text": [
      "/home/sergio/anaconda3/envs/xb/lib/python3.7/site-packages/scanpy/preprocessing/_simple.py:352: RuntimeWarning: divide by zero encountered in log1p\n",
      "  np.log1p(X, out=X)\n"
     ]
    },
    {
     "name": "stdout",
     "output_type": "stream",
     "text": [
      "(11756, 214)\n",
      "3\n",
      "4\n"
     ]
    },
    {
     "name": "stderr",
     "output_type": "stream",
     "text": [
      "/home/sergio/anaconda3/envs/xb/lib/python3.7/site-packages/ipykernel_launcher.py:22: ImplicitModificationWarning: Trying to modify attribute `.X` of view, initializing view as actual.\n"
     ]
    },
    {
     "name": "stdout",
     "output_type": "stream",
     "text": [
      "(11756, 46)\n",
      "5\n"
     ]
    },
    {
     "name": "stderr",
     "output_type": "stream",
     "text": [
      "/home/sergio/anaconda3/envs/xb/lib/python3.7/site-packages/scanpy/preprocessing/_simple.py:352: RuntimeWarning: divide by zero encountered in log1p\n",
      "  np.log1p(X, out=X)\n",
      "/home/sergio/anaconda3/envs/xb/lib/python3.7/site-packages/ipykernel_launcher.py:22: ImplicitModificationWarning: Trying to modify attribute `.X` of view, initializing view as actual.\n",
      "/home/sergio/anaconda3/envs/xb/lib/python3.7/contextlib.py:119: FutureWarning: X.dtype being converted to np.float32 from float64. In the next version of anndata (0.9) conversion will not be automatic. Pass dtype explicitly to avoid this warning. Pass `AnnData(X, dtype=X.dtype, ...)` to get the future behavour.\n",
      "  next(self.gen)\n"
     ]
    },
    {
     "name": "stdout",
     "output_type": "stream",
     "text": [
      "(11756, 75)\n",
      "6\n",
      "7\n",
      "(11756, 214)\n",
      "8\n"
     ]
    },
    {
     "name": "stderr",
     "output_type": "stream",
     "text": [
      "/home/sergio/anaconda3/envs/xb/lib/python3.7/site-packages/scanpy/preprocessing/_simple.py:352: RuntimeWarning: divide by zero encountered in log1p\n",
      "  np.log1p(X, out=X)\n",
      "/home/sergio/anaconda3/envs/xb/lib/python3.7/site-packages/scanpy/preprocessing/_utils.py:12: RuntimeWarning: invalid value encountered in subtract\n",
      "  var = mean_sq - mean**2\n",
      "/home/sergio/anaconda3/envs/xb/lib/python3.7/site-packages/scanpy/preprocessing/_simple.py:792: RuntimeWarning: invalid value encountered in subtract\n",
      "  X -= mean\n"
     ]
    },
    {
     "name": "stdout",
     "output_type": "stream",
     "text": [
      "(11756, 214)\n",
      "9\n",
      "10\n"
     ]
    },
    {
     "name": "stderr",
     "output_type": "stream",
     "text": [
      "/home/sergio/anaconda3/envs/xb/lib/python3.7/site-packages/scanpy/preprocessing/_simple.py:843: UserWarning: Received a view of an AnnData. Making a copy.\n",
      "  view_to_actual(adata)\n"
     ]
    },
    {
     "name": "stdout",
     "output_type": "stream",
     "text": [
      "(11756, 46)\n",
      "11\n"
     ]
    },
    {
     "name": "stderr",
     "output_type": "stream",
     "text": [
      "/home/sergio/anaconda3/envs/xb/lib/python3.7/site-packages/scanpy/preprocessing/_simple.py:352: RuntimeWarning: divide by zero encountered in log1p\n",
      "  np.log1p(X, out=X)\n",
      "/home/sergio/anaconda3/envs/xb/lib/python3.7/site-packages/scanpy/preprocessing/_simple.py:843: UserWarning: Received a view of an AnnData. Making a copy.\n",
      "  view_to_actual(adata)\n",
      "/home/sergio/anaconda3/envs/xb/lib/python3.7/site-packages/scanpy/preprocessing/_simple.py:843: FutureWarning: X.dtype being converted to np.float32 from float64. In the next version of anndata (0.9) conversion will not be automatic. Pass dtype explicitly to avoid this warning. Pass `AnnData(X, dtype=X.dtype, ...)` to get the future behavour.\n",
      "  view_to_actual(adata)\n",
      "/home/sergio/anaconda3/envs/xb/lib/python3.7/site-packages/scanpy/preprocessing/_utils.py:12: RuntimeWarning: invalid value encountered in subtract\n",
      "  var = mean_sq - mean**2\n",
      "/home/sergio/anaconda3/envs/xb/lib/python3.7/site-packages/scanpy/preprocessing/_simple.py:792: RuntimeWarning: invalid value encountered in subtract\n",
      "  X -= mean\n"
     ]
    },
    {
     "name": "stdout",
     "output_type": "stream",
     "text": [
      "(11756, 75)\n",
      "12\n",
      "13\n",
      "(11756, 214)\n",
      "14\n"
     ]
    },
    {
     "name": "stderr",
     "output_type": "stream",
     "text": [
      "/home/sergio/anaconda3/envs/xb/lib/python3.7/site-packages/scanpy/preprocessing/_simple.py:352: RuntimeWarning: divide by zero encountered in log1p\n",
      "  np.log1p(X, out=X)\n"
     ]
    },
    {
     "name": "stdout",
     "output_type": "stream",
     "text": [
      "(11756, 214)\n",
      "15\n",
      "16\n"
     ]
    },
    {
     "name": "stderr",
     "output_type": "stream",
     "text": [
      "/home/sergio/anaconda3/envs/xb/lib/python3.7/site-packages/ipykernel_launcher.py:22: ImplicitModificationWarning: Trying to modify attribute `.X` of view, initializing view as actual.\n"
     ]
    },
    {
     "name": "stdout",
     "output_type": "stream",
     "text": [
      "(11756, 46)\n",
      "17\n"
     ]
    },
    {
     "name": "stderr",
     "output_type": "stream",
     "text": [
      "/home/sergio/anaconda3/envs/xb/lib/python3.7/site-packages/scanpy/preprocessing/_simple.py:352: RuntimeWarning: divide by zero encountered in log1p\n",
      "  np.log1p(X, out=X)\n",
      "/home/sergio/anaconda3/envs/xb/lib/python3.7/site-packages/ipykernel_launcher.py:22: ImplicitModificationWarning: Trying to modify attribute `.X` of view, initializing view as actual.\n",
      "/home/sergio/anaconda3/envs/xb/lib/python3.7/contextlib.py:119: FutureWarning: X.dtype being converted to np.float32 from float64. In the next version of anndata (0.9) conversion will not be automatic. Pass dtype explicitly to avoid this warning. Pass `AnnData(X, dtype=X.dtype, ...)` to get the future behavour.\n",
      "  next(self.gen)\n"
     ]
    },
    {
     "name": "stdout",
     "output_type": "stream",
     "text": [
      "(11756, 75)\n",
      "18\n",
      "19\n",
      "(11756, 214)\n",
      "20\n"
     ]
    },
    {
     "name": "stderr",
     "output_type": "stream",
     "text": [
      "/home/sergio/anaconda3/envs/xb/lib/python3.7/site-packages/scanpy/preprocessing/_simple.py:352: RuntimeWarning: divide by zero encountered in log1p\n",
      "  np.log1p(X, out=X)\n",
      "/home/sergio/anaconda3/envs/xb/lib/python3.7/site-packages/scanpy/preprocessing/_utils.py:12: RuntimeWarning: invalid value encountered in subtract\n",
      "  var = mean_sq - mean**2\n",
      "/home/sergio/anaconda3/envs/xb/lib/python3.7/site-packages/scanpy/preprocessing/_simple.py:792: RuntimeWarning: invalid value encountered in subtract\n",
      "  X -= mean\n"
     ]
    },
    {
     "name": "stdout",
     "output_type": "stream",
     "text": [
      "(11756, 214)\n",
      "21\n",
      "22\n"
     ]
    },
    {
     "name": "stderr",
     "output_type": "stream",
     "text": [
      "/home/sergio/anaconda3/envs/xb/lib/python3.7/site-packages/scanpy/preprocessing/_simple.py:843: UserWarning: Received a view of an AnnData. Making a copy.\n",
      "  view_to_actual(adata)\n"
     ]
    },
    {
     "name": "stdout",
     "output_type": "stream",
     "text": [
      "(11756, 46)\n",
      "23\n"
     ]
    },
    {
     "name": "stderr",
     "output_type": "stream",
     "text": [
      "/home/sergio/anaconda3/envs/xb/lib/python3.7/site-packages/scanpy/preprocessing/_simple.py:352: RuntimeWarning: divide by zero encountered in log1p\n",
      "  np.log1p(X, out=X)\n",
      "/home/sergio/anaconda3/envs/xb/lib/python3.7/site-packages/scanpy/preprocessing/_simple.py:843: UserWarning: Received a view of an AnnData. Making a copy.\n",
      "  view_to_actual(adata)\n",
      "/home/sergio/anaconda3/envs/xb/lib/python3.7/site-packages/scanpy/preprocessing/_simple.py:843: FutureWarning: X.dtype being converted to np.float32 from float64. In the next version of anndata (0.9) conversion will not be automatic. Pass dtype explicitly to avoid this warning. Pass `AnnData(X, dtype=X.dtype, ...)` to get the future behavour.\n",
      "  view_to_actual(adata)\n",
      "/home/sergio/anaconda3/envs/xb/lib/python3.7/site-packages/scanpy/preprocessing/_utils.py:12: RuntimeWarning: invalid value encountered in subtract\n",
      "  var = mean_sq - mean**2\n",
      "/home/sergio/anaconda3/envs/xb/lib/python3.7/site-packages/scanpy/preprocessing/_simple.py:792: RuntimeWarning: invalid value encountered in subtract\n",
      "  X -= mean\n"
     ]
    },
    {
     "name": "stdout",
     "output_type": "stream",
     "text": [
      "(11756, 75)\n",
      "24\n",
      "25\n",
      "(11756, 214)\n",
      "26\n"
     ]
    },
    {
     "name": "stderr",
     "output_type": "stream",
     "text": [
      "/home/sergio/anaconda3/envs/xb/lib/python3.7/site-packages/scanpy/preprocessing/_simple.py:352: RuntimeWarning: divide by zero encountered in log1p\n",
      "  np.log1p(X, out=X)\n"
     ]
    },
    {
     "name": "stdout",
     "output_type": "stream",
     "text": [
      "(11756, 214)\n",
      "27\n",
      "28\n"
     ]
    },
    {
     "name": "stderr",
     "output_type": "stream",
     "text": [
      "/home/sergio/anaconda3/envs/xb/lib/python3.7/site-packages/ipykernel_launcher.py:22: ImplicitModificationWarning: Trying to modify attribute `.X` of view, initializing view as actual.\n"
     ]
    },
    {
     "name": "stdout",
     "output_type": "stream",
     "text": [
      "(11756, 46)\n",
      "29\n"
     ]
    },
    {
     "name": "stderr",
     "output_type": "stream",
     "text": [
      "/home/sergio/anaconda3/envs/xb/lib/python3.7/site-packages/scanpy/preprocessing/_simple.py:352: RuntimeWarning: divide by zero encountered in log1p\n",
      "  np.log1p(X, out=X)\n",
      "/home/sergio/anaconda3/envs/xb/lib/python3.7/site-packages/ipykernel_launcher.py:22: ImplicitModificationWarning: Trying to modify attribute `.X` of view, initializing view as actual.\n",
      "/home/sergio/anaconda3/envs/xb/lib/python3.7/contextlib.py:119: FutureWarning: X.dtype being converted to np.float32 from float64. In the next version of anndata (0.9) conversion will not be automatic. Pass dtype explicitly to avoid this warning. Pass `AnnData(X, dtype=X.dtype, ...)` to get the future behavour.\n",
      "  next(self.gen)\n"
     ]
    },
    {
     "name": "stdout",
     "output_type": "stream",
     "text": [
      "(11756, 75)\n",
      "30\n",
      "31\n",
      "(11756, 214)\n",
      "32\n"
     ]
    },
    {
     "name": "stderr",
     "output_type": "stream",
     "text": [
      "/home/sergio/anaconda3/envs/xb/lib/python3.7/site-packages/scanpy/preprocessing/_simple.py:352: RuntimeWarning: divide by zero encountered in log1p\n",
      "  np.log1p(X, out=X)\n",
      "/home/sergio/anaconda3/envs/xb/lib/python3.7/site-packages/scanpy/preprocessing/_utils.py:12: RuntimeWarning: invalid value encountered in subtract\n",
      "  var = mean_sq - mean**2\n",
      "/home/sergio/anaconda3/envs/xb/lib/python3.7/site-packages/scanpy/preprocessing/_simple.py:792: RuntimeWarning: invalid value encountered in subtract\n",
      "  X -= mean\n"
     ]
    },
    {
     "name": "stdout",
     "output_type": "stream",
     "text": [
      "(11756, 214)\n",
      "33\n",
      "34\n"
     ]
    },
    {
     "name": "stderr",
     "output_type": "stream",
     "text": [
      "/home/sergio/anaconda3/envs/xb/lib/python3.7/site-packages/scanpy/preprocessing/_simple.py:843: UserWarning: Received a view of an AnnData. Making a copy.\n",
      "  view_to_actual(adata)\n"
     ]
    },
    {
     "name": "stdout",
     "output_type": "stream",
     "text": [
      "(11756, 46)\n",
      "35\n"
     ]
    },
    {
     "name": "stderr",
     "output_type": "stream",
     "text": [
      "/home/sergio/anaconda3/envs/xb/lib/python3.7/site-packages/scanpy/preprocessing/_simple.py:352: RuntimeWarning: divide by zero encountered in log1p\n",
      "  np.log1p(X, out=X)\n",
      "/home/sergio/anaconda3/envs/xb/lib/python3.7/site-packages/scanpy/preprocessing/_simple.py:843: UserWarning: Received a view of an AnnData. Making a copy.\n",
      "  view_to_actual(adata)\n",
      "/home/sergio/anaconda3/envs/xb/lib/python3.7/site-packages/scanpy/preprocessing/_simple.py:843: FutureWarning: X.dtype being converted to np.float32 from float64. In the next version of anndata (0.9) conversion will not be automatic. Pass dtype explicitly to avoid this warning. Pass `AnnData(X, dtype=X.dtype, ...)` to get the future behavour.\n",
      "  view_to_actual(adata)\n",
      "/home/sergio/anaconda3/envs/xb/lib/python3.7/site-packages/scanpy/preprocessing/_utils.py:12: RuntimeWarning: invalid value encountered in subtract\n",
      "  var = mean_sq - mean**2\n",
      "/home/sergio/anaconda3/envs/xb/lib/python3.7/site-packages/scanpy/preprocessing/_simple.py:792: RuntimeWarning: invalid value encountered in subtract\n",
      "  X -= mean\n"
     ]
    },
    {
     "name": "stdout",
     "output_type": "stream",
     "text": [
      "(11756, 75)\n",
      "36\n",
      "37\n",
      "(11756, 214)\n",
      "38\n"
     ]
    },
    {
     "name": "stderr",
     "output_type": "stream",
     "text": [
      "/home/sergio/anaconda3/envs/xb/lib/python3.7/site-packages/scanpy/preprocessing/_simple.py:352: RuntimeWarning: divide by zero encountered in log1p\n",
      "  np.log1p(X, out=X)\n"
     ]
    },
    {
     "name": "stdout",
     "output_type": "stream",
     "text": [
      "(11756, 214)\n",
      "39\n",
      "40\n"
     ]
    },
    {
     "name": "stderr",
     "output_type": "stream",
     "text": [
      "/home/sergio/anaconda3/envs/xb/lib/python3.7/site-packages/ipykernel_launcher.py:22: ImplicitModificationWarning: Trying to modify attribute `.X` of view, initializing view as actual.\n"
     ]
    },
    {
     "name": "stdout",
     "output_type": "stream",
     "text": [
      "(11756, 46)\n",
      "41\n"
     ]
    },
    {
     "name": "stderr",
     "output_type": "stream",
     "text": [
      "/home/sergio/anaconda3/envs/xb/lib/python3.7/site-packages/scanpy/preprocessing/_simple.py:352: RuntimeWarning: divide by zero encountered in log1p\n",
      "  np.log1p(X, out=X)\n",
      "/home/sergio/anaconda3/envs/xb/lib/python3.7/site-packages/ipykernel_launcher.py:22: ImplicitModificationWarning: Trying to modify attribute `.X` of view, initializing view as actual.\n",
      "/home/sergio/anaconda3/envs/xb/lib/python3.7/contextlib.py:119: FutureWarning: X.dtype being converted to np.float32 from float64. In the next version of anndata (0.9) conversion will not be automatic. Pass dtype explicitly to avoid this warning. Pass `AnnData(X, dtype=X.dtype, ...)` to get the future behavour.\n",
      "  next(self.gen)\n"
     ]
    },
    {
     "name": "stdout",
     "output_type": "stream",
     "text": [
      "(11756, 75)\n",
      "42\n",
      "43\n",
      "(11756, 214)\n",
      "44\n"
     ]
    },
    {
     "name": "stderr",
     "output_type": "stream",
     "text": [
      "/home/sergio/anaconda3/envs/xb/lib/python3.7/site-packages/scanpy/preprocessing/_simple.py:352: RuntimeWarning: divide by zero encountered in log1p\n",
      "  np.log1p(X, out=X)\n",
      "/home/sergio/anaconda3/envs/xb/lib/python3.7/site-packages/scanpy/preprocessing/_utils.py:12: RuntimeWarning: invalid value encountered in subtract\n",
      "  var = mean_sq - mean**2\n",
      "/home/sergio/anaconda3/envs/xb/lib/python3.7/site-packages/scanpy/preprocessing/_simple.py:792: RuntimeWarning: invalid value encountered in subtract\n",
      "  X -= mean\n"
     ]
    },
    {
     "name": "stdout",
     "output_type": "stream",
     "text": [
      "(11756, 214)\n",
      "45\n",
      "46\n"
     ]
    },
    {
     "name": "stderr",
     "output_type": "stream",
     "text": [
      "/home/sergio/anaconda3/envs/xb/lib/python3.7/site-packages/scanpy/preprocessing/_simple.py:843: UserWarning: Received a view of an AnnData. Making a copy.\n",
      "  view_to_actual(adata)\n"
     ]
    },
    {
     "name": "stdout",
     "output_type": "stream",
     "text": [
      "(11756, 46)\n",
      "47\n"
     ]
    },
    {
     "name": "stderr",
     "output_type": "stream",
     "text": [
      "/home/sergio/anaconda3/envs/xb/lib/python3.7/site-packages/scanpy/preprocessing/_simple.py:352: RuntimeWarning: divide by zero encountered in log1p\n",
      "  np.log1p(X, out=X)\n",
      "/home/sergio/anaconda3/envs/xb/lib/python3.7/site-packages/scanpy/preprocessing/_simple.py:843: UserWarning: Received a view of an AnnData. Making a copy.\n",
      "  view_to_actual(adata)\n",
      "/home/sergio/anaconda3/envs/xb/lib/python3.7/site-packages/scanpy/preprocessing/_simple.py:843: FutureWarning: X.dtype being converted to np.float32 from float64. In the next version of anndata (0.9) conversion will not be automatic. Pass dtype explicitly to avoid this warning. Pass `AnnData(X, dtype=X.dtype, ...)` to get the future behavour.\n",
      "  view_to_actual(adata)\n",
      "/home/sergio/anaconda3/envs/xb/lib/python3.7/site-packages/scanpy/preprocessing/_utils.py:12: RuntimeWarning: invalid value encountered in subtract\n",
      "  var = mean_sq - mean**2\n",
      "/home/sergio/anaconda3/envs/xb/lib/python3.7/site-packages/scanpy/preprocessing/_simple.py:792: RuntimeWarning: invalid value encountered in subtract\n",
      "  X -= mean\n"
     ]
    },
    {
     "name": "stdout",
     "output_type": "stream",
     "text": [
      "(11756, 75)\n",
      "48\n",
      "49\n",
      "(11756, 214)\n",
      "50\n"
     ]
    },
    {
     "name": "stderr",
     "output_type": "stream",
     "text": [
      "/home/sergio/anaconda3/envs/xb/lib/python3.7/site-packages/scanpy/preprocessing/_simple.py:352: RuntimeWarning: divide by zero encountered in log1p\n",
      "  np.log1p(X, out=X)\n"
     ]
    },
    {
     "name": "stdout",
     "output_type": "stream",
     "text": [
      "(11756, 214)\n",
      "51\n",
      "52\n"
     ]
    },
    {
     "name": "stderr",
     "output_type": "stream",
     "text": [
      "/home/sergio/anaconda3/envs/xb/lib/python3.7/site-packages/ipykernel_launcher.py:22: ImplicitModificationWarning: Trying to modify attribute `.X` of view, initializing view as actual.\n"
     ]
    },
    {
     "name": "stdout",
     "output_type": "stream",
     "text": [
      "(11756, 46)\n",
      "53\n"
     ]
    },
    {
     "name": "stderr",
     "output_type": "stream",
     "text": [
      "/home/sergio/anaconda3/envs/xb/lib/python3.7/site-packages/scanpy/preprocessing/_simple.py:352: RuntimeWarning: divide by zero encountered in log1p\n",
      "  np.log1p(X, out=X)\n",
      "/home/sergio/anaconda3/envs/xb/lib/python3.7/site-packages/ipykernel_launcher.py:22: ImplicitModificationWarning: Trying to modify attribute `.X` of view, initializing view as actual.\n",
      "/home/sergio/anaconda3/envs/xb/lib/python3.7/contextlib.py:119: FutureWarning: X.dtype being converted to np.float32 from float64. In the next version of anndata (0.9) conversion will not be automatic. Pass dtype explicitly to avoid this warning. Pass `AnnData(X, dtype=X.dtype, ...)` to get the future behavour.\n",
      "  next(self.gen)\n"
     ]
    },
    {
     "name": "stdout",
     "output_type": "stream",
     "text": [
      "(11756, 75)\n",
      "54\n",
      "55\n",
      "(11756, 214)\n",
      "56\n"
     ]
    },
    {
     "name": "stderr",
     "output_type": "stream",
     "text": [
      "/home/sergio/anaconda3/envs/xb/lib/python3.7/site-packages/scanpy/preprocessing/_simple.py:352: RuntimeWarning: divide by zero encountered in log1p\n",
      "  np.log1p(X, out=X)\n",
      "/home/sergio/anaconda3/envs/xb/lib/python3.7/site-packages/scanpy/preprocessing/_utils.py:12: RuntimeWarning: invalid value encountered in subtract\n",
      "  var = mean_sq - mean**2\n",
      "/home/sergio/anaconda3/envs/xb/lib/python3.7/site-packages/scanpy/preprocessing/_simple.py:792: RuntimeWarning: invalid value encountered in subtract\n",
      "  X -= mean\n"
     ]
    },
    {
     "name": "stdout",
     "output_type": "stream",
     "text": [
      "(11756, 214)\n",
      "57\n",
      "58\n",
      "(11756, 46)\n"
     ]
    },
    {
     "name": "stderr",
     "output_type": "stream",
     "text": [
      "/home/sergio/anaconda3/envs/xb/lib/python3.7/site-packages/scanpy/preprocessing/_simple.py:843: UserWarning: Received a view of an AnnData. Making a copy.\n",
      "  view_to_actual(adata)\n"
     ]
    },
    {
     "name": "stdout",
     "output_type": "stream",
     "text": [
      "59\n"
     ]
    },
    {
     "name": "stderr",
     "output_type": "stream",
     "text": [
      "/home/sergio/anaconda3/envs/xb/lib/python3.7/site-packages/scanpy/preprocessing/_simple.py:352: RuntimeWarning: divide by zero encountered in log1p\n",
      "  np.log1p(X, out=X)\n",
      "/home/sergio/anaconda3/envs/xb/lib/python3.7/site-packages/scanpy/preprocessing/_simple.py:843: UserWarning: Received a view of an AnnData. Making a copy.\n",
      "  view_to_actual(adata)\n",
      "/home/sergio/anaconda3/envs/xb/lib/python3.7/site-packages/scanpy/preprocessing/_simple.py:843: FutureWarning: X.dtype being converted to np.float32 from float64. In the next version of anndata (0.9) conversion will not be automatic. Pass dtype explicitly to avoid this warning. Pass `AnnData(X, dtype=X.dtype, ...)` to get the future behavour.\n",
      "  view_to_actual(adata)\n",
      "/home/sergio/anaconda3/envs/xb/lib/python3.7/site-packages/scanpy/preprocessing/_utils.py:12: RuntimeWarning: invalid value encountered in subtract\n",
      "  var = mean_sq - mean**2\n",
      "/home/sergio/anaconda3/envs/xb/lib/python3.7/site-packages/scanpy/preprocessing/_simple.py:792: RuntimeWarning: invalid value encountered in subtract\n",
      "  X -= mean\n"
     ]
    },
    {
     "name": "stdout",
     "output_type": "stream",
     "text": [
      "(11756, 75)\n",
      "60\n",
      "61\n",
      "(11756, 214)\n",
      "62\n"
     ]
    },
    {
     "name": "stderr",
     "output_type": "stream",
     "text": [
      "/home/sergio/anaconda3/envs/xb/lib/python3.7/site-packages/scanpy/preprocessing/_simple.py:352: RuntimeWarning: divide by zero encountered in log1p\n",
      "  np.log1p(X, out=X)\n"
     ]
    },
    {
     "name": "stdout",
     "output_type": "stream",
     "text": [
      "(11756, 214)\n",
      "63\n",
      "64\n"
     ]
    },
    {
     "name": "stderr",
     "output_type": "stream",
     "text": [
      "/home/sergio/anaconda3/envs/xb/lib/python3.7/site-packages/ipykernel_launcher.py:22: ImplicitModificationWarning: Trying to modify attribute `.X` of view, initializing view as actual.\n"
     ]
    },
    {
     "name": "stdout",
     "output_type": "stream",
     "text": [
      "(11756, 46)\n",
      "65\n"
     ]
    },
    {
     "name": "stderr",
     "output_type": "stream",
     "text": [
      "/home/sergio/anaconda3/envs/xb/lib/python3.7/site-packages/scanpy/preprocessing/_simple.py:352: RuntimeWarning: divide by zero encountered in log1p\n",
      "  np.log1p(X, out=X)\n",
      "/home/sergio/anaconda3/envs/xb/lib/python3.7/site-packages/ipykernel_launcher.py:22: ImplicitModificationWarning: Trying to modify attribute `.X` of view, initializing view as actual.\n",
      "/home/sergio/anaconda3/envs/xb/lib/python3.7/contextlib.py:119: FutureWarning: X.dtype being converted to np.float32 from float64. In the next version of anndata (0.9) conversion will not be automatic. Pass dtype explicitly to avoid this warning. Pass `AnnData(X, dtype=X.dtype, ...)` to get the future behavour.\n",
      "  next(self.gen)\n"
     ]
    },
    {
     "name": "stdout",
     "output_type": "stream",
     "text": [
      "(11756, 75)\n",
      "66\n",
      "67\n",
      "(11756, 214)\n",
      "68\n"
     ]
    },
    {
     "name": "stderr",
     "output_type": "stream",
     "text": [
      "/home/sergio/anaconda3/envs/xb/lib/python3.7/site-packages/scanpy/preprocessing/_simple.py:352: RuntimeWarning: divide by zero encountered in log1p\n",
      "  np.log1p(X, out=X)\n",
      "/home/sergio/anaconda3/envs/xb/lib/python3.7/site-packages/scanpy/preprocessing/_utils.py:12: RuntimeWarning: invalid value encountered in subtract\n",
      "  var = mean_sq - mean**2\n",
      "/home/sergio/anaconda3/envs/xb/lib/python3.7/site-packages/scanpy/preprocessing/_simple.py:792: RuntimeWarning: invalid value encountered in subtract\n",
      "  X -= mean\n"
     ]
    },
    {
     "name": "stdout",
     "output_type": "stream",
     "text": [
      "(11756, 214)\n",
      "69\n",
      "70\n"
     ]
    },
    {
     "name": "stderr",
     "output_type": "stream",
     "text": [
      "/home/sergio/anaconda3/envs/xb/lib/python3.7/site-packages/scanpy/preprocessing/_simple.py:843: UserWarning: Received a view of an AnnData. Making a copy.\n",
      "  view_to_actual(adata)\n"
     ]
    },
    {
     "name": "stdout",
     "output_type": "stream",
     "text": [
      "(11756, 46)\n",
      "71\n"
     ]
    },
    {
     "name": "stderr",
     "output_type": "stream",
     "text": [
      "/home/sergio/anaconda3/envs/xb/lib/python3.7/site-packages/scanpy/preprocessing/_simple.py:352: RuntimeWarning: divide by zero encountered in log1p\n",
      "  np.log1p(X, out=X)\n",
      "/home/sergio/anaconda3/envs/xb/lib/python3.7/site-packages/scanpy/preprocessing/_simple.py:843: UserWarning: Received a view of an AnnData. Making a copy.\n",
      "  view_to_actual(adata)\n",
      "/home/sergio/anaconda3/envs/xb/lib/python3.7/site-packages/scanpy/preprocessing/_simple.py:843: FutureWarning: X.dtype being converted to np.float32 from float64. In the next version of anndata (0.9) conversion will not be automatic. Pass dtype explicitly to avoid this warning. Pass `AnnData(X, dtype=X.dtype, ...)` to get the future behavour.\n",
      "  view_to_actual(adata)\n",
      "/home/sergio/anaconda3/envs/xb/lib/python3.7/site-packages/scanpy/preprocessing/_utils.py:12: RuntimeWarning: invalid value encountered in subtract\n",
      "  var = mean_sq - mean**2\n",
      "/home/sergio/anaconda3/envs/xb/lib/python3.7/site-packages/scanpy/preprocessing/_simple.py:792: RuntimeWarning: invalid value encountered in subtract\n",
      "  X -= mean\n"
     ]
    },
    {
     "name": "stdout",
     "output_type": "stream",
     "text": [
      "(11756, 75)\n",
      "72\n",
      "73\n"
     ]
    },
    {
     "name": "stderr",
     "output_type": "stream",
     "text": [
      "/home/sergio/anaconda3/envs/xb/lib/python3.7/site-packages/scanpy/preprocessing/_simple.py:352: RuntimeWarning: divide by zero encountered in log1p\n",
      "  np.log1p(X, out=X)\n",
      "/home/sergio/anaconda3/envs/xb/lib/python3.7/site-packages/scanpy/preprocessing/_simple.py:352: RuntimeWarning: invalid value encountered in log1p\n",
      "  np.log1p(X, out=X)\n"
     ]
    },
    {
     "name": "stdout",
     "output_type": "stream",
     "text": [
      "(11756, 214)\n",
      "74\n"
     ]
    },
    {
     "name": "stderr",
     "output_type": "stream",
     "text": [
      "/home/sergio/anaconda3/envs/xb/lib/python3.7/site-packages/scanpy/preprocessing/_simple.py:352: RuntimeWarning: divide by zero encountered in log1p\n",
      "  np.log1p(X, out=X)\n"
     ]
    },
    {
     "name": "stdout",
     "output_type": "stream",
     "text": [
      "(11756, 214)\n",
      "75\n",
      "76\n",
      "Dataset 0 not possible\n",
      "##################################### Dataset 1\n"
     ]
    },
    {
     "name": "stderr",
     "output_type": "stream",
     "text": [
      "/home/sergio/anaconda3/envs/xb/lib/python3.7/site-packages/scanpy/preprocessing/_simple.py:352: RuntimeWarning: divide by zero encountered in log1p\n",
      "  np.log1p(X, out=X)\n",
      "/home/sergio/anaconda3/envs/xb/lib/python3.7/site-packages/scanpy/preprocessing/_simple.py:352: RuntimeWarning: invalid value encountered in log1p\n",
      "  np.log1p(X, out=X)\n",
      "100%|████████████████████████████████████████████████████████████████████████████████████| 7/7 [00:00<00:00, 410.15it/s]\n"
     ]
    },
    {
     "name": "stdout",
     "output_type": "stream",
     "text": [
      "(14639, 192)\n",
      "first run\n",
      "1\n",
      "(14639, 192)\n",
      "2\n"
     ]
    },
    {
     "name": "stderr",
     "output_type": "stream",
     "text": [
      "/home/sergio/anaconda3/envs/xb/lib/python3.7/site-packages/scanpy/preprocessing/_simple.py:352: RuntimeWarning: divide by zero encountered in log1p\n",
      "  np.log1p(X, out=X)\n"
     ]
    },
    {
     "name": "stdout",
     "output_type": "stream",
     "text": [
      "(14639, 192)\n",
      "3\n",
      "4\n"
     ]
    },
    {
     "name": "stderr",
     "output_type": "stream",
     "text": [
      "/home/sergio/anaconda3/envs/xb/lib/python3.7/site-packages/ipykernel_launcher.py:22: ImplicitModificationWarning: Trying to modify attribute `.X` of view, initializing view as actual.\n"
     ]
    },
    {
     "name": "stdout",
     "output_type": "stream",
     "text": [
      "(14639, 32)\n",
      "5\n"
     ]
    },
    {
     "name": "stderr",
     "output_type": "stream",
     "text": [
      "/home/sergio/anaconda3/envs/xb/lib/python3.7/site-packages/scanpy/preprocessing/_simple.py:352: RuntimeWarning: divide by zero encountered in log1p\n",
      "  np.log1p(X, out=X)\n",
      "/home/sergio/anaconda3/envs/xb/lib/python3.7/site-packages/ipykernel_launcher.py:22: ImplicitModificationWarning: Trying to modify attribute `.X` of view, initializing view as actual.\n",
      "/home/sergio/anaconda3/envs/xb/lib/python3.7/contextlib.py:119: FutureWarning: X.dtype being converted to np.float32 from float64. In the next version of anndata (0.9) conversion will not be automatic. Pass dtype explicitly to avoid this warning. Pass `AnnData(X, dtype=X.dtype, ...)` to get the future behavour.\n",
      "  next(self.gen)\n"
     ]
    },
    {
     "name": "stdout",
     "output_type": "stream",
     "text": [
      "(14639, 61)\n",
      "6\n",
      "7\n",
      "(14639, 192)\n",
      "8\n"
     ]
    },
    {
     "name": "stderr",
     "output_type": "stream",
     "text": [
      "/home/sergio/anaconda3/envs/xb/lib/python3.7/site-packages/scanpy/preprocessing/_simple.py:352: RuntimeWarning: divide by zero encountered in log1p\n",
      "  np.log1p(X, out=X)\n",
      "/home/sergio/anaconda3/envs/xb/lib/python3.7/site-packages/scanpy/preprocessing/_utils.py:12: RuntimeWarning: invalid value encountered in subtract\n",
      "  var = mean_sq - mean**2\n",
      "/home/sergio/anaconda3/envs/xb/lib/python3.7/site-packages/scanpy/preprocessing/_simple.py:792: RuntimeWarning: invalid value encountered in subtract\n",
      "  X -= mean\n"
     ]
    },
    {
     "name": "stdout",
     "output_type": "stream",
     "text": [
      "(14639, 192)\n",
      "9\n",
      "10\n"
     ]
    },
    {
     "name": "stderr",
     "output_type": "stream",
     "text": [
      "/home/sergio/anaconda3/envs/xb/lib/python3.7/site-packages/scanpy/preprocessing/_simple.py:843: UserWarning: Received a view of an AnnData. Making a copy.\n",
      "  view_to_actual(adata)\n"
     ]
    },
    {
     "name": "stdout",
     "output_type": "stream",
     "text": [
      "(14639, 32)\n",
      "11\n"
     ]
    },
    {
     "name": "stderr",
     "output_type": "stream",
     "text": [
      "/home/sergio/anaconda3/envs/xb/lib/python3.7/site-packages/scanpy/preprocessing/_simple.py:352: RuntimeWarning: divide by zero encountered in log1p\n",
      "  np.log1p(X, out=X)\n",
      "/home/sergio/anaconda3/envs/xb/lib/python3.7/site-packages/scanpy/preprocessing/_simple.py:843: UserWarning: Received a view of an AnnData. Making a copy.\n",
      "  view_to_actual(adata)\n",
      "/home/sergio/anaconda3/envs/xb/lib/python3.7/site-packages/scanpy/preprocessing/_simple.py:843: FutureWarning: X.dtype being converted to np.float32 from float64. In the next version of anndata (0.9) conversion will not be automatic. Pass dtype explicitly to avoid this warning. Pass `AnnData(X, dtype=X.dtype, ...)` to get the future behavour.\n",
      "  view_to_actual(adata)\n",
      "/home/sergio/anaconda3/envs/xb/lib/python3.7/site-packages/scanpy/preprocessing/_utils.py:12: RuntimeWarning: invalid value encountered in subtract\n",
      "  var = mean_sq - mean**2\n",
      "/home/sergio/anaconda3/envs/xb/lib/python3.7/site-packages/scanpy/preprocessing/_simple.py:792: RuntimeWarning: invalid value encountered in subtract\n",
      "  X -= mean\n"
     ]
    },
    {
     "name": "stdout",
     "output_type": "stream",
     "text": [
      "(14639, 61)\n",
      "12\n",
      "13\n",
      "(14639, 192)\n",
      "Dataset 1 not possible\n",
      "##################################### Dataset 2\n",
      "Dataset 2 not possible\n",
      "##################################### Dataset 3\n",
      "Dataset 3 not possible\n",
      "##################################### Dataset 4\n",
      "Dataset 4 not possible\n",
      "##################################### Dataset 5\n",
      "Dataset 5 not possible\n"
     ]
    },
    {
     "ename": "KeyboardInterrupt",
     "evalue": "",
     "output_type": "error",
     "traceback": [
      "\u001b[0;31m---------------------------------------------------------------------------\u001b[0m",
      "\u001b[0;31mKeyboardInterrupt\u001b[0m                         Traceback (most recent call last)",
      "\u001b[0;32m/tmp/ipykernel_3495227/249421172.py\u001b[0m in \u001b[0;36m<module>\u001b[0;34m\u001b[0m\n\u001b[1;32m     24\u001b[0m         \u001b[0mallres\u001b[0m\u001b[0;34m.\u001b[0m\u001b[0mto_csv\u001b[0m\u001b[0;34m(\u001b[0m\u001b[0mdataset_path\u001b[0m\u001b[0;34m+\u001b[0m\u001b[0;34m'/final_allresults.csv'\u001b[0m\u001b[0;34m)\u001b[0m\u001b[0;34m\u001b[0m\u001b[0;34m\u001b[0m\u001b[0m\n\u001b[1;32m     25\u001b[0m     \u001b[0;32mexcept\u001b[0m\u001b[0;34m:\u001b[0m\u001b[0;34m\u001b[0m\u001b[0;34m\u001b[0m\u001b[0m\n\u001b[0;32m---> 26\u001b[0;31m         \u001b[0mprint\u001b[0m\u001b[0;34m(\u001b[0m\u001b[0;34m'Dataset '\u001b[0m\u001b[0;34m+\u001b[0m\u001b[0mstr\u001b[0m\u001b[0;34m(\u001b[0m\u001b[0md\u001b[0m\u001b[0;34m)\u001b[0m\u001b[0;34m+\u001b[0m\u001b[0;34m' not possible'\u001b[0m\u001b[0;34m)\u001b[0m\u001b[0;34m\u001b[0m\u001b[0;34m\u001b[0m\u001b[0m\n\u001b[0m",
      "\u001b[0;31mKeyboardInterrupt\u001b[0m: "
     ]
    }
   ],
   "source": [
    "mainpath='../../data/scRNAseq_for_simulations/'\n",
    "datasets=os.listdir(mainpath)\n",
    "datasets=[d for d in datasets if d!='.ipynb_checkpoints']\n",
    "for d in range(0,len(datasets)):\n",
    "    try:\n",
    "        print('##################################### Dataset '+str(d))\n",
    "        dataset_path=mainpath+datasets[d]\n",
    "        #reread single cell data since we need the updated version LUNG DEV\n",
    "        adata_sc_sub=sc.read(dataset_path+'/original_adata.h5ad')\n",
    "        adata_sc_sub.X=adata_sc_sub.X.todense()\n",
    "        markers=pd.read_csv(dataset_path+'/markers.csv',index_col=0)\n",
    "        total_genes=250\n",
    "        random_markers_perc=0\n",
    "        reads_x_cell=None\n",
    "        n_reads_x_gene=20\n",
    "        percentage_of_noise=0.05\n",
    "        misseg_percentage=0.05\n",
    "        adata_sc=subset_of_single_cell(adata_sc_sub,markers,random_markers_percentage=random_markers_perc,\n",
    "                                       reads_x_cell=reads_x_cell,number_of_markers=total_genes,\n",
    "                                      n_reads_x_gene=n_reads_x_gene,percentage_of_noise=percentage_of_noise,\n",
    "                                      ms_percentage=misseg_percentage)\n",
    "        # calculate all simulations\n",
    "        allres=allcombs_simulated(adata_sc,default_key='cell_type')\n",
    "        allres.to_csv(dataset_path+'/final_allresults.csv')\n",
    "    except:\n",
    "        print('Dataset '+str(d)+' not possible')"
   ]
  },
  {
   "cell_type": "markdown",
   "id": "a986af08",
   "metadata": {},
   "source": [
    "## Now we summarize all results and compute all the metrics"
   ]
  },
  {
   "cell_type": "code",
   "execution_count": 198,
   "id": "540a1acf",
   "metadata": {},
   "outputs": [],
   "source": [
    "cond=['0']\n",
    "ARI=None\n",
    "VI=None\n",
    "fmi=None\n",
    "if ARI is None:\n",
    "    ARI=pd.DataFrame(index=allres.columns,columns=cond)\n",
    "if VI is None:\n",
    "    VI=pd.DataFrame(index=allres.columns,columns=cond)\n",
    "if fmi is None:\n",
    "    fmi=pd.DataFrame(index=allres.columns,columns=cond)\n",
    "ARI.sort_values(by='0')"
   ]
  },
  {
   "cell_type": "code",
   "execution_count": 201,
   "id": "f7e4268b",
   "metadata": {},
   "outputs": [],
   "source": [
    "e=cond[0]\n",
    "for ind in ARI.index:\n",
    "    try:\n",
    "        ARI.loc[ind,e]=sk.adjusted_rand_score(allres.loc[:,ind],allres.loc[:,'RESULTS'])\n",
    "        VI.loc[ind,e]=compute_vi(allres.loc[:,ind],allres.loc[:,'RESULTS'])\n",
    "        fmi.loc[ind,e]=compute_fmi(allres.loc[:,ind],allres.loc[:,'RESULTS'])\n",
    "    except:\n",
    "        print('np')"
   ]
  },
  {
   "cell_type": "code",
   "execution_count": null,
   "id": "723bef17",
   "metadata": {},
   "outputs": [],
   "source": [
    "for e in tqdm(mk[:]):\n",
    "    allres=pd.read_csv(simpath+e,index_col=0)\n",
    "    for ind in ARI.index:\n",
    "        try:\n",
    "            ARI.loc[ind,e]=sk.adjusted_rand_score(allres.loc[:,ind],allres.loc[:,'RESULTS'])\n",
    "#            VI.loc[ind,e]=compute_vi(allres.loc[:,ind],allres.loc[:,'RESULTS'])\n",
    "#            fmi.loc[ind,e]=compute_fmi(allres.loc[:,ind],allres.loc[:,'RESULTS'])\n",
    "        except:\n",
    "            print('np')"
   ]
  },
  {
   "cell_type": "code",
   "execution_count": null,
   "id": "106d97cc",
   "metadata": {},
   "outputs": [],
   "source": [
    "ARI=None\n",
    "VI=None\n",
    "fmi=None\n",
    "if ARI is None:\n",
    "    ARI=pd.DataFrame(index=allres.columns,columns=mk)\n",
    "if VI is None:\n",
    "    VI=pd.DataFrame(index=allres.columns,columns=mk)\n",
    "if fmi is None:\n",
    "    fmi=pd.DataFrame(index=allres.columns,columns=mk)\n",
    "for e in tqdm(mk[:]):\n",
    "    allres=pd.read_csv(simpath+e,index_col=0)\n",
    "    for ind in ARI.index:\n",
    "        try:\n",
    "            ARI.loc[ind,e]=sk.adjusted_rand_score(allres.loc[:,ind],allres.loc[:,'RESULTS'])\n",
    "#            VI.loc[ind,e]=compute_vi(allres.loc[:,ind],allres.loc[:,'RESULTS'])\n",
    "#            fmi.loc[ind,e]=compute_fmi(allres.loc[:,ind],allres.loc[:,'RESULTS'])\n",
    "        except:\n",
    "            print('np')"
   ]
  },
  {
   "cell_type": "code",
   "execution_count": null,
   "id": "35509aa7",
   "metadata": {},
   "outputs": [],
   "source": [
    "appendix='nmxc_'+str(nmxc)+'_random_markers_perc'+str(random_markers_perc)+'_percentage_of_noise'+str(percentage_of_noise)+'n_reads_x_gene'+str(n_reads_x_gene)\n",
    "adata_sc.write('/media/sergio/Meninges/lung_dev_singlecell/general/sim_sc_'+appendix+'.h5ad')\n",
    "adata=adata_sc#[0:int(maxcell*perc),:]#sc.pp.subsample(adata_f2,0.05)\n",
    "allres=allcombs_simulated(adata,default_key='leiden')\n",
    "allres.to_csv('../../figures/simulations/'+appendix+'.csv')\n",
    "print(allres.shape)"
   ]
  },
  {
   "cell_type": "code",
   "execution_count": null,
   "id": "87a1e3be",
   "metadata": {},
   "outputs": [],
   "source": [
    "nmxc_options=[6,10,12,15] ### markers per cluster\n",
    "random_markers_perc_options=[0,1,5,10,50]\n",
    "reads_x_cell=None\n",
    "n_reads_x_gene_options=[20,30,40] ### this is a parameter that allows us to adjust the number of reads per gene detected\n",
    "percentage_of_noise_options=[0,0.1,0.5] ##this is percentage\n",
    "percentage_of_missegmentations=[0,0.1,1]\n",
    "\n",
    "for nmxc in nmxc_options:\n",
    "    for random_markers_perc in random_markers_perc_options:\n",
    "        for n_reads_x_gene in n_reads_x_gene_options:\n",
    "            for percentage_of_noise in percentage_of_noise_options:\n",
    "                for misseg_percentage in percentage_of_missegmentations:\n",
    "                    try:\n",
    "                        adata_sc=subset_of_single_cell(adata_sc_sub,markers,random_markers_percentage=random_markers_perc,\n",
    "                                                       reads_x_cell=reads_x_cell,number_of_markers_x_cluster=nmxc,\n",
    "                                                      n_reads_x_gene=n_reads_x_gene,percentage_of_noise=percentage_of_noise,\n",
    "                                                      ms_percentage=misseg_percentage)\n",
    "                        #reread single cell data since we need the updated version LUNG DEV\n",
    "\n",
    "                        appendix='nmxc_'+str(nmxc)+'_random_markers_perc'+str(random_markers_perc)+'_percentage_of_noise'+str(percentage_of_noise)+'n_reads_x_gene'+str(n_reads_x_gene)\n",
    "                        adata_sc.write('/media/sergio/Meninges/lung_dev_singlecell/general/sim_sc_'+appendix+'.h5ad')\n",
    "                        adata=adata_sc#[0:int(maxcell*perc),:]#sc.pp.subsample(adata_f2,0.05)\n",
    "                        allres=allcombs_simulated(adata,default_key='leiden')\n",
    "                        allres.to_csv('../../figures/simulations/'+appendix+'.csv')\n",
    "                        print(allres.shape)\n",
    "                    except:\n",
    "                        print('not possible')\n"
   ]
  },
  {
   "cell_type": "code",
   "execution_count": 3,
   "id": "a5aeca10",
   "metadata": {},
   "outputs": [],
   "source": [
    "simpath='../../figures/simulations/'\n",
    "\n",
    "mk=os.listdir(simpath)"
   ]
  },
  {
   "cell_type": "code",
   "execution_count": 4,
   "id": "c929737c",
   "metadata": {},
   "outputs": [],
   "source": [
    "mk=mk[1:]"
   ]
  },
  {
   "cell_type": "code",
   "execution_count": 11,
   "id": "5929622d",
   "metadata": {},
   "outputs": [
    {
     "name": "stderr",
     "output_type": "stream",
     "text": [
      " 50%|██████████████████████████████████████████▌                                          | 3/6 [00:00<00:00,  4.20it/s]"
     ]
    },
    {
     "name": "stdout",
     "output_type": "stream",
     "text": [
      "np\n",
      "np\n"
     ]
    },
    {
     "name": "stderr",
     "output_type": "stream",
     "text": [
      "100%|█████████████████████████████████████████████████████████████████████████████████████| 6/6 [00:01<00:00,  4.94it/s]\n"
     ]
    }
   ],
   "source": [
    "allres=pd.read_csv(simpath+mk[0],index_col=0)\n",
    "ARI=None\n",
    "VI=None\n",
    "fmi=None\n",
    "if ARI is None:\n",
    "    ARI=pd.DataFrame(index=allres.columns,columns=mk)\n",
    "if VI is None:\n",
    "    VI=pd.DataFrame(index=allres.columns,columns=mk)\n",
    "if fmi is None:\n",
    "    fmi=pd.DataFrame(index=allres.columns,columns=mk)\n",
    "for e in tqdm(mk[:]):\n",
    "    allres=pd.read_csv(simpath+e,index_col=0)\n",
    "    for ind in ARI.index:\n",
    "        try:\n",
    "            ARI.loc[ind,e]=sk.adjusted_rand_score(allres.loc[:,ind],allres.loc[:,'RESULTS'])\n",
    "            VI.loc[ind,e]=compute_vi(allres.loc[:,ind],allres.loc[:,'RESULTS'])\n",
    "            fmi.loc[ind,e]=compute_fmi(allres.loc[:,ind],allres.loc[:,'RESULTS'])\n",
    "        except:\n",
    "            print('np')"
   ]
  },
  {
   "cell_type": "markdown",
   "id": "e0d3ba2f",
   "metadata": {},
   "source": [
    "# Plotting some of the scores"
   ]
  },
  {
   "cell_type": "code",
   "execution_count": 13,
   "id": "e1e3bbda",
   "metadata": {},
   "outputs": [],
   "source": [
    "ARI=ARI.fillna(0)\n",
    "ARI2=ARI#.iloc[:,1:]#.iloc[5:11,:]"
   ]
  },
  {
   "cell_type": "code",
   "execution_count": 17,
   "id": "03b1a46b",
   "metadata": {
    "scrolled": false
   },
   "outputs": [
    {
     "data": {
      "text/plain": [
       "<seaborn.matrix.ClusterGrid at 0x7f5367ab2fd0>"
      ]
     },
     "execution_count": 17,
     "metadata": {},
     "output_type": "execute_result"
    },
    {
     "data": {
      "text/plain": [
       "<Figure size 1080x1080 with 0 Axes>"
      ]
     },
     "metadata": {},
     "output_type": "display_data"
    },
    {
     "data": {
      "image/png": "[encoded data removed]",
      "text/plain": [
       "<Figure size 720x720 with 4 Axes>"
      ]
     },
     "metadata": {
      "needs_background": "light"
     },
     "output_type": "display_data"
    }
   ],
   "source": [
    "plt.figure(figsize=(15,15))\n",
    "sns.clustermap(ARI2.astype(float),vmax=0.7)"
   ]
  },
  {
   "cell_type": "code",
   "execution_count": 135,
   "id": "8b0109a9",
   "metadata": {},
   "outputs": [
    {
     "data": {
      "text/plain": [
       "<seaborn.matrix.ClusterGrid at 0x7f1bb8cf8bd0>"
      ]
     },
     "execution_count": 135,
     "metadata": {},
     "output_type": "execute_result"
    },
    {
     "data": {
      "image/png": "[encoded data removed]",
      "text/plain": [
       "<Figure size 720x720 with 4 Axes>"
      ]
     },
     "metadata": {
      "needs_background": "light"
     },
     "output_type": "display_data"
    }
   ],
   "source": [
    "sns.clustermap(fmi.astype(float))"
   ]
  },
  {
   "cell_type": "code",
   "execution_count": 136,
   "id": "63fc2ff5",
   "metadata": {},
   "outputs": [
    {
     "data": {
      "text/plain": [
       "<seaborn.matrix.ClusterGrid at 0x7f1bb8d17c10>"
      ]
     },
     "execution_count": 136,
     "metadata": {},
     "output_type": "execute_result"
    },
    {
     "data": {
      "image/png": "[encoded data removed]",
      "text/plain": [
       "<Figure size 720x720 with 4 Axes>"
      ]
     },
     "metadata": {
      "needs_background": "light"
     },
     "output_type": "display_data"
    }
   ],
   "source": [
    "sns.clustermap(VI.astype(float))"
   ]
  }
 ],
 "metadata": {
  "kernelspec": {
   "display_name": "xb",
   "language": "python",
   "name": "xb"
  },
  "language_info": {
   "codemirror_mode": {
    "name": "ipython",
    "version": 3
   },
   "file_extension": ".py",
   "mimetype": "text/x-python",
   "name": "python",
   "nbconvert_exporter": "python",
   "pygments_lexer": "ipython3",
   "version": "3.7.13"
  }
 },
 "nbformat": 4,
 "nbformat_minor": 5
}
