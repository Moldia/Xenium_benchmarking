{
 "cells": [
  {
   "cell_type": "markdown",
   "id": "f025411e",
   "metadata": {},
   "source": [
    "# Purpose of the notebook"
   ]
  },
  {
   "cell_type": "markdown",
   "id": "d7f5fc02",
   "metadata": {},
   "source": [
    "Based on the extracted single cell data, we transform it to look like xenium data and we preprocess it on many different ways. This notebook includes only the scanpy-based pipelines. There is a second workflow for the Seurat preprocessing"
   ]
  },
  {
   "cell_type": "code",
   "execution_count": 2,
   "id": "1ea4c166",
   "metadata": {},
   "outputs": [],
   "source": [
    "import txsim as tx\n",
    "import scanpy as sc\n",
    "import os\n",
    "import pandas as pd\n",
    "from anndata import AnnData\n",
    "import numpy as np\n",
    "#from scipy.spatial import ConvexHull, convex_hull_plot_2d\n",
    "import xb.formatting as xf\n",
    "import seaborn as sns\n",
    "import random \n",
    "import matplotlib.pyplot as plt\n",
    "import sklearn.metrics as sk\n",
    "from tqdm import tqdm\n",
    "import scanpy as sc\n",
    "import random\n",
    "from xb.calculating import entropy,compute_vi,compute_fmi\n",
    "from xb.formatting import keep_nuclei_and_quality\n",
    "from xb.simulating import missegmentation_simulation,noise_adder,subset_of_single_cell,main_preprocessing, allcombs_simulated"
   ]
  },
  {
   "cell_type": "markdown",
   "id": "7c0d2576",
   "metadata": {},
   "source": [
    "# We  simulate all preprocessing possibilities"
   ]
  },
  {
   "cell_type": "code",
   "execution_count": null,
   "id": "eea3fe94",
   "metadata": {},
   "outputs": [
    {
     "name": "stdout",
     "output_type": "stream",
     "text": [
      "##################################### Dataset 8\n"
     ]
    },
    {
     "name": "stderr",
     "output_type": "stream",
     "text": [
      "100%|████████████████████████████████████████████████████████████████████████████████████| 9/9 [00:00<00:00, 274.69it/s]\n"
     ]
    },
    {
     "name": "stdout",
     "output_type": "stream",
     "text": [
      "(18231, 148)\n",
      "first run\n",
      "1\n",
      "(18231, 148)\n",
      "2\n"
     ]
    },
    {
     "name": "stderr",
     "output_type": "stream",
     "text": [
      "/home/sergio/anaconda3/envs/xb/lib/python3.7/site-packages/scanpy/preprocessing/_simple.py:352: RuntimeWarning: divide by zero encountered in log1p\n",
      "  np.log1p(X, out=X)\n"
     ]
    },
    {
     "name": "stdout",
     "output_type": "stream",
     "text": [
      "(18231, 148)\n",
      "3\n",
      "TrueFalseFalse[10, 100, 1000, None]\n",
      "4\n"
     ]
    },
    {
     "name": "stderr",
     "output_type": "stream",
     "text": [
      "/home/sergio/anaconda3/envs/xb/lib/python3.7/site-packages/ipykernel_launcher.py:22: ImplicitModificationWarning: Trying to modify attribute `.X` of view, initializing view as actual.\n"
     ]
    },
    {
     "name": "stdout",
     "output_type": "stream",
     "text": [
      "(18231, 27)\n",
      "5\n"
     ]
    },
    {
     "name": "stderr",
     "output_type": "stream",
     "text": [
      "/home/sergio/anaconda3/envs/xb/lib/python3.7/site-packages/scanpy/preprocessing/_simple.py:352: RuntimeWarning: divide by zero encountered in log1p\n",
      "  np.log1p(X, out=X)\n",
      "/home/sergio/anaconda3/envs/xb/lib/python3.7/site-packages/ipykernel_launcher.py:22: ImplicitModificationWarning: Trying to modify attribute `.X` of view, initializing view as actual.\n",
      "/home/sergio/anaconda3/envs/xb/lib/python3.7/contextlib.py:119: FutureWarning: X.dtype being converted to np.float32 from float64. In the next version of anndata (0.9) conversion will not be automatic. Pass dtype explicitly to avoid this warning. Pass `AnnData(X, dtype=X.dtype, ...)` to get the future behavour.\n",
      "  next(self.gen)\n"
     ]
    },
    {
     "name": "stdout",
     "output_type": "stream",
     "text": [
      "(18231, 49)\n",
      "6\n",
      "TrueFalseTrue[10, 100, 1000, None]\n",
      "7\n",
      "(18231, 148)\n",
      "8\n"
     ]
    },
    {
     "name": "stderr",
     "output_type": "stream",
     "text": [
      "/home/sergio/anaconda3/envs/xb/lib/python3.7/site-packages/scanpy/preprocessing/_simple.py:352: RuntimeWarning: divide by zero encountered in log1p\n",
      "  np.log1p(X, out=X)\n",
      "/home/sergio/anaconda3/envs/xb/lib/python3.7/site-packages/scanpy/preprocessing/_utils.py:12: RuntimeWarning: invalid value encountered in subtract\n",
      "  var = mean_sq - mean**2\n",
      "/home/sergio/anaconda3/envs/xb/lib/python3.7/site-packages/scanpy/preprocessing/_simple.py:792: RuntimeWarning: invalid value encountered in subtract\n",
      "  X -= mean\n"
     ]
    },
    {
     "name": "stdout",
     "output_type": "stream",
     "text": [
      "(18231, 148)\n",
      "9\n",
      "TrueTrueFalse[10, 100, 1000, None]\n",
      "10\n"
     ]
    },
    {
     "name": "stderr",
     "output_type": "stream",
     "text": [
      "/home/sergio/anaconda3/envs/xb/lib/python3.7/site-packages/scanpy/preprocessing/_simple.py:843: UserWarning: Received a view of an AnnData. Making a copy.\n",
      "  view_to_actual(adata)\n"
     ]
    },
    {
     "name": "stdout",
     "output_type": "stream",
     "text": [
      "(18231, 27)\n",
      "11\n"
     ]
    },
    {
     "name": "stderr",
     "output_type": "stream",
     "text": [
      "/home/sergio/anaconda3/envs/xb/lib/python3.7/site-packages/scanpy/preprocessing/_simple.py:352: RuntimeWarning: divide by zero encountered in log1p\n",
      "  np.log1p(X, out=X)\n",
      "/home/sergio/anaconda3/envs/xb/lib/python3.7/site-packages/scanpy/preprocessing/_simple.py:843: UserWarning: Received a view of an AnnData. Making a copy.\n",
      "  view_to_actual(adata)\n",
      "/home/sergio/anaconda3/envs/xb/lib/python3.7/site-packages/scanpy/preprocessing/_simple.py:843: FutureWarning: X.dtype being converted to np.float32 from float64. In the next version of anndata (0.9) conversion will not be automatic. Pass dtype explicitly to avoid this warning. Pass `AnnData(X, dtype=X.dtype, ...)` to get the future behavour.\n",
      "  view_to_actual(adata)\n",
      "/home/sergio/anaconda3/envs/xb/lib/python3.7/site-packages/scanpy/preprocessing/_utils.py:12: RuntimeWarning: invalid value encountered in subtract\n",
      "  var = mean_sq - mean**2\n",
      "/home/sergio/anaconda3/envs/xb/lib/python3.7/site-packages/scanpy/preprocessing/_simple.py:792: RuntimeWarning: invalid value encountered in subtract\n",
      "  X -= mean\n"
     ]
    },
    {
     "name": "stdout",
     "output_type": "stream",
     "text": [
      "(18231, 49)\n",
      "12\n",
      "TrueTrueTrue[10, 100, 1000, None]\n",
      "13\n",
      "(18231, 148)\n",
      "14\n"
     ]
    },
    {
     "name": "stderr",
     "output_type": "stream",
     "text": [
      "/home/sergio/anaconda3/envs/xb/lib/python3.7/site-packages/scanpy/preprocessing/_simple.py:352: RuntimeWarning: divide by zero encountered in log1p\n",
      "  np.log1p(X, out=X)\n"
     ]
    },
    {
     "name": "stdout",
     "output_type": "stream",
     "text": [
      "(18231, 148)\n",
      "15\n",
      "TrueFalseFalse[10, 100, 1000, None]\n",
      "16\n"
     ]
    },
    {
     "name": "stderr",
     "output_type": "stream",
     "text": [
      "/home/sergio/anaconda3/envs/xb/lib/python3.7/site-packages/ipykernel_launcher.py:22: ImplicitModificationWarning: Trying to modify attribute `.X` of view, initializing view as actual.\n"
     ]
    },
    {
     "name": "stdout",
     "output_type": "stream",
     "text": [
      "(18231, 27)\n",
      "17\n"
     ]
    },
    {
     "name": "stderr",
     "output_type": "stream",
     "text": [
      "/home/sergio/anaconda3/envs/xb/lib/python3.7/site-packages/scanpy/preprocessing/_simple.py:352: RuntimeWarning: divide by zero encountered in log1p\n",
      "  np.log1p(X, out=X)\n",
      "/home/sergio/anaconda3/envs/xb/lib/python3.7/site-packages/ipykernel_launcher.py:22: ImplicitModificationWarning: Trying to modify attribute `.X` of view, initializing view as actual.\n",
      "/home/sergio/anaconda3/envs/xb/lib/python3.7/contextlib.py:119: FutureWarning: X.dtype being converted to np.float32 from float64. In the next version of anndata (0.9) conversion will not be automatic. Pass dtype explicitly to avoid this warning. Pass `AnnData(X, dtype=X.dtype, ...)` to get the future behavour.\n",
      "  next(self.gen)\n"
     ]
    },
    {
     "name": "stdout",
     "output_type": "stream",
     "text": [
      "(18231, 49)\n",
      "18\n",
      "TrueFalseTrue[10, 100, 1000, None]\n",
      "19\n",
      "(18231, 148)\n",
      "20\n"
     ]
    },
    {
     "name": "stderr",
     "output_type": "stream",
     "text": [
      "/home/sergio/anaconda3/envs/xb/lib/python3.7/site-packages/scanpy/preprocessing/_simple.py:352: RuntimeWarning: divide by zero encountered in log1p\n",
      "  np.log1p(X, out=X)\n",
      "/home/sergio/anaconda3/envs/xb/lib/python3.7/site-packages/scanpy/preprocessing/_utils.py:12: RuntimeWarning: invalid value encountered in subtract\n",
      "  var = mean_sq - mean**2\n",
      "/home/sergio/anaconda3/envs/xb/lib/python3.7/site-packages/scanpy/preprocessing/_simple.py:792: RuntimeWarning: invalid value encountered in subtract\n",
      "  X -= mean\n"
     ]
    },
    {
     "name": "stdout",
     "output_type": "stream",
     "text": [
      "(18231, 148)\n",
      "21\n",
      "TrueTrueFalse[10, 100, 1000, None]\n",
      "22\n"
     ]
    },
    {
     "name": "stderr",
     "output_type": "stream",
     "text": [
      "/home/sergio/anaconda3/envs/xb/lib/python3.7/site-packages/scanpy/preprocessing/_simple.py:843: UserWarning: Received a view of an AnnData. Making a copy.\n",
      "  view_to_actual(adata)\n"
     ]
    },
    {
     "name": "stdout",
     "output_type": "stream",
     "text": [
      "(18231, 27)\n",
      "23\n"
     ]
    },
    {
     "name": "stderr",
     "output_type": "stream",
     "text": [
      "/home/sergio/anaconda3/envs/xb/lib/python3.7/site-packages/scanpy/preprocessing/_simple.py:352: RuntimeWarning: divide by zero encountered in log1p\n",
      "  np.log1p(X, out=X)\n",
      "/home/sergio/anaconda3/envs/xb/lib/python3.7/site-packages/scanpy/preprocessing/_simple.py:843: UserWarning: Received a view of an AnnData. Making a copy.\n",
      "  view_to_actual(adata)\n",
      "/home/sergio/anaconda3/envs/xb/lib/python3.7/site-packages/scanpy/preprocessing/_simple.py:843: FutureWarning: X.dtype being converted to np.float32 from float64. In the next version of anndata (0.9) conversion will not be automatic. Pass dtype explicitly to avoid this warning. Pass `AnnData(X, dtype=X.dtype, ...)` to get the future behavour.\n",
      "  view_to_actual(adata)\n",
      "/home/sergio/anaconda3/envs/xb/lib/python3.7/site-packages/scanpy/preprocessing/_utils.py:12: RuntimeWarning: invalid value encountered in subtract\n",
      "  var = mean_sq - mean**2\n",
      "/home/sergio/anaconda3/envs/xb/lib/python3.7/site-packages/scanpy/preprocessing/_simple.py:792: RuntimeWarning: invalid value encountered in subtract\n",
      "  X -= mean\n"
     ]
    },
    {
     "name": "stdout",
     "output_type": "stream",
     "text": [
      "(18231, 49)\n",
      "24\n",
      "TrueTrueTrue[10, 100, 1000, None]\n",
      "25\n",
      "(18231, 148)\n",
      "26\n"
     ]
    },
    {
     "name": "stderr",
     "output_type": "stream",
     "text": [
      "/home/sergio/anaconda3/envs/xb/lib/python3.7/site-packages/scanpy/preprocessing/_simple.py:352: RuntimeWarning: divide by zero encountered in log1p\n",
      "  np.log1p(X, out=X)\n"
     ]
    },
    {
     "name": "stdout",
     "output_type": "stream",
     "text": [
      "(18231, 148)\n",
      "27\n",
      "TrueFalseFalse[10, 100, 1000, None]\n",
      "28\n"
     ]
    },
    {
     "name": "stderr",
     "output_type": "stream",
     "text": [
      "/home/sergio/anaconda3/envs/xb/lib/python3.7/site-packages/ipykernel_launcher.py:22: ImplicitModificationWarning: Trying to modify attribute `.X` of view, initializing view as actual.\n"
     ]
    },
    {
     "name": "stdout",
     "output_type": "stream",
     "text": [
      "(18231, 27)\n",
      "29\n"
     ]
    },
    {
     "name": "stderr",
     "output_type": "stream",
     "text": [
      "/home/sergio/anaconda3/envs/xb/lib/python3.7/site-packages/scanpy/preprocessing/_simple.py:352: RuntimeWarning: divide by zero encountered in log1p\n",
      "  np.log1p(X, out=X)\n",
      "/home/sergio/anaconda3/envs/xb/lib/python3.7/site-packages/ipykernel_launcher.py:22: ImplicitModificationWarning: Trying to modify attribute `.X` of view, initializing view as actual.\n",
      "/home/sergio/anaconda3/envs/xb/lib/python3.7/contextlib.py:119: FutureWarning: X.dtype being converted to np.float32 from float64. In the next version of anndata (0.9) conversion will not be automatic. Pass dtype explicitly to avoid this warning. Pass `AnnData(X, dtype=X.dtype, ...)` to get the future behavour.\n",
      "  next(self.gen)\n"
     ]
    },
    {
     "name": "stdout",
     "output_type": "stream",
     "text": [
      "(18231, 49)\n",
      "30\n",
      "TrueFalseTrue[10, 100, 1000, None]\n",
      "31\n",
      "(18231, 148)\n",
      "32\n"
     ]
    },
    {
     "name": "stderr",
     "output_type": "stream",
     "text": [
      "/home/sergio/anaconda3/envs/xb/lib/python3.7/site-packages/scanpy/preprocessing/_simple.py:352: RuntimeWarning: divide by zero encountered in log1p\n",
      "  np.log1p(X, out=X)\n",
      "/home/sergio/anaconda3/envs/xb/lib/python3.7/site-packages/scanpy/preprocessing/_utils.py:12: RuntimeWarning: invalid value encountered in subtract\n",
      "  var = mean_sq - mean**2\n",
      "/home/sergio/anaconda3/envs/xb/lib/python3.7/site-packages/scanpy/preprocessing/_simple.py:792: RuntimeWarning: invalid value encountered in subtract\n",
      "  X -= mean\n"
     ]
    },
    {
     "name": "stdout",
     "output_type": "stream",
     "text": [
      "(18231, 148)\n",
      "33\n",
      "TrueTrueFalse[10, 100, 1000, None]\n",
      "34\n"
     ]
    },
    {
     "name": "stderr",
     "output_type": "stream",
     "text": [
      "/home/sergio/anaconda3/envs/xb/lib/python3.7/site-packages/scanpy/preprocessing/_simple.py:843: UserWarning: Received a view of an AnnData. Making a copy.\n",
      "  view_to_actual(adata)\n"
     ]
    },
    {
     "name": "stdout",
     "output_type": "stream",
     "text": [
      "(18231, 27)\n",
      "35\n"
     ]
    },
    {
     "name": "stderr",
     "output_type": "stream",
     "text": [
      "/home/sergio/anaconda3/envs/xb/lib/python3.7/site-packages/scanpy/preprocessing/_simple.py:352: RuntimeWarning: divide by zero encountered in log1p\n",
      "  np.log1p(X, out=X)\n",
      "/home/sergio/anaconda3/envs/xb/lib/python3.7/site-packages/scanpy/preprocessing/_simple.py:843: UserWarning: Received a view of an AnnData. Making a copy.\n",
      "  view_to_actual(adata)\n",
      "/home/sergio/anaconda3/envs/xb/lib/python3.7/site-packages/scanpy/preprocessing/_simple.py:843: FutureWarning: X.dtype being converted to np.float32 from float64. In the next version of anndata (0.9) conversion will not be automatic. Pass dtype explicitly to avoid this warning. Pass `AnnData(X, dtype=X.dtype, ...)` to get the future behavour.\n",
      "  view_to_actual(adata)\n",
      "/home/sergio/anaconda3/envs/xb/lib/python3.7/site-packages/scanpy/preprocessing/_utils.py:12: RuntimeWarning: invalid value encountered in subtract\n",
      "  var = mean_sq - mean**2\n",
      "/home/sergio/anaconda3/envs/xb/lib/python3.7/site-packages/scanpy/preprocessing/_simple.py:792: RuntimeWarning: invalid value encountered in subtract\n",
      "  X -= mean\n"
     ]
    },
    {
     "name": "stdout",
     "output_type": "stream",
     "text": [
      "(18231, 49)\n",
      "36\n",
      "TrueTrueTrue[10, 100, 1000, None]\n",
      "37\n",
      "(18231, 148)\n",
      "38\n"
     ]
    },
    {
     "name": "stderr",
     "output_type": "stream",
     "text": [
      "/home/sergio/anaconda3/envs/xb/lib/python3.7/site-packages/scanpy/preprocessing/_simple.py:352: RuntimeWarning: divide by zero encountered in log1p\n",
      "  np.log1p(X, out=X)\n"
     ]
    },
    {
     "name": "stdout",
     "output_type": "stream",
     "text": [
      "(18231, 148)\n",
      "39\n",
      "TrueFalseFalse[10, 100, 1000, None]\n",
      "40\n"
     ]
    },
    {
     "name": "stderr",
     "output_type": "stream",
     "text": [
      "/home/sergio/anaconda3/envs/xb/lib/python3.7/site-packages/ipykernel_launcher.py:22: ImplicitModificationWarning: Trying to modify attribute `.X` of view, initializing view as actual.\n"
     ]
    },
    {
     "name": "stdout",
     "output_type": "stream",
     "text": [
      "(18231, 27)\n",
      "41\n"
     ]
    },
    {
     "name": "stderr",
     "output_type": "stream",
     "text": [
      "/home/sergio/anaconda3/envs/xb/lib/python3.7/site-packages/scanpy/preprocessing/_simple.py:352: RuntimeWarning: divide by zero encountered in log1p\n",
      "  np.log1p(X, out=X)\n",
      "/home/sergio/anaconda3/envs/xb/lib/python3.7/site-packages/ipykernel_launcher.py:22: ImplicitModificationWarning: Trying to modify attribute `.X` of view, initializing view as actual.\n",
      "/home/sergio/anaconda3/envs/xb/lib/python3.7/contextlib.py:119: FutureWarning: X.dtype being converted to np.float32 from float64. In the next version of anndata (0.9) conversion will not be automatic. Pass dtype explicitly to avoid this warning. Pass `AnnData(X, dtype=X.dtype, ...)` to get the future behavour.\n",
      "  next(self.gen)\n"
     ]
    },
    {
     "name": "stdout",
     "output_type": "stream",
     "text": [
      "(18231, 49)\n",
      "42\n",
      "TrueFalseTrue[10, 100, 1000, None]\n",
      "43\n",
      "(18231, 148)\n",
      "44\n"
     ]
    },
    {
     "name": "stderr",
     "output_type": "stream",
     "text": [
      "/home/sergio/anaconda3/envs/xb/lib/python3.7/site-packages/scanpy/preprocessing/_simple.py:352: RuntimeWarning: divide by zero encountered in log1p\n",
      "  np.log1p(X, out=X)\n",
      "/home/sergio/anaconda3/envs/xb/lib/python3.7/site-packages/scanpy/preprocessing/_utils.py:12: RuntimeWarning: invalid value encountered in subtract\n",
      "  var = mean_sq - mean**2\n",
      "/home/sergio/anaconda3/envs/xb/lib/python3.7/site-packages/scanpy/preprocessing/_simple.py:792: RuntimeWarning: invalid value encountered in subtract\n",
      "  X -= mean\n"
     ]
    },
    {
     "name": "stdout",
     "output_type": "stream",
     "text": [
      "(18231, 148)\n",
      "45\n",
      "TrueTrueFalse[10, 100, 1000, None]\n",
      "46\n"
     ]
    },
    {
     "name": "stderr",
     "output_type": "stream",
     "text": [
      "/home/sergio/anaconda3/envs/xb/lib/python3.7/site-packages/scanpy/preprocessing/_simple.py:843: UserWarning: Received a view of an AnnData. Making a copy.\n",
      "  view_to_actual(adata)\n"
     ]
    },
    {
     "name": "stdout",
     "output_type": "stream",
     "text": [
      "(18231, 27)\n",
      "47\n"
     ]
    },
    {
     "name": "stderr",
     "output_type": "stream",
     "text": [
      "/home/sergio/anaconda3/envs/xb/lib/python3.7/site-packages/scanpy/preprocessing/_simple.py:352: RuntimeWarning: divide by zero encountered in log1p\n",
      "  np.log1p(X, out=X)\n",
      "/home/sergio/anaconda3/envs/xb/lib/python3.7/site-packages/scanpy/preprocessing/_simple.py:843: UserWarning: Received a view of an AnnData. Making a copy.\n",
      "  view_to_actual(adata)\n",
      "/home/sergio/anaconda3/envs/xb/lib/python3.7/site-packages/scanpy/preprocessing/_simple.py:843: FutureWarning: X.dtype being converted to np.float32 from float64. In the next version of anndata (0.9) conversion will not be automatic. Pass dtype explicitly to avoid this warning. Pass `AnnData(X, dtype=X.dtype, ...)` to get the future behavour.\n",
      "  view_to_actual(adata)\n",
      "/home/sergio/anaconda3/envs/xb/lib/python3.7/site-packages/scanpy/preprocessing/_utils.py:12: RuntimeWarning: invalid value encountered in subtract\n",
      "  var = mean_sq - mean**2\n",
      "/home/sergio/anaconda3/envs/xb/lib/python3.7/site-packages/scanpy/preprocessing/_simple.py:792: RuntimeWarning: invalid value encountered in subtract\n",
      "  X -= mean\n"
     ]
    },
    {
     "name": "stdout",
     "output_type": "stream",
     "text": [
      "(18231, 49)\n",
      "48\n",
      "TrueTrueTrue[10, 100, 1000, None]\n",
      "49\n",
      "(18231, 148)\n",
      "50\n"
     ]
    },
    {
     "name": "stderr",
     "output_type": "stream",
     "text": [
      "/home/sergio/anaconda3/envs/xb/lib/python3.7/site-packages/scanpy/preprocessing/_simple.py:352: RuntimeWarning: divide by zero encountered in log1p\n",
      "  np.log1p(X, out=X)\n"
     ]
    },
    {
     "name": "stdout",
     "output_type": "stream",
     "text": [
      "(18231, 148)\n",
      "51\n",
      "TrueFalseFalse[10, 100, 1000, None]\n",
      "52\n"
     ]
    },
    {
     "name": "stderr",
     "output_type": "stream",
     "text": [
      "/home/sergio/anaconda3/envs/xb/lib/python3.7/site-packages/ipykernel_launcher.py:22: ImplicitModificationWarning: Trying to modify attribute `.X` of view, initializing view as actual.\n"
     ]
    },
    {
     "name": "stdout",
     "output_type": "stream",
     "text": [
      "(18231, 27)\n",
      "53\n"
     ]
    },
    {
     "name": "stderr",
     "output_type": "stream",
     "text": [
      "/home/sergio/anaconda3/envs/xb/lib/python3.7/site-packages/scanpy/preprocessing/_simple.py:352: RuntimeWarning: divide by zero encountered in log1p\n",
      "  np.log1p(X, out=X)\n",
      "/home/sergio/anaconda3/envs/xb/lib/python3.7/site-packages/ipykernel_launcher.py:22: ImplicitModificationWarning: Trying to modify attribute `.X` of view, initializing view as actual.\n",
      "/home/sergio/anaconda3/envs/xb/lib/python3.7/contextlib.py:119: FutureWarning: X.dtype being converted to np.float32 from float64. In the next version of anndata (0.9) conversion will not be automatic. Pass dtype explicitly to avoid this warning. Pass `AnnData(X, dtype=X.dtype, ...)` to get the future behavour.\n",
      "  next(self.gen)\n"
     ]
    },
    {
     "name": "stdout",
     "output_type": "stream",
     "text": [
      "(18231, 49)\n",
      "54\n",
      "TrueFalseTrue[10, 100, 1000, None]\n",
      "55\n",
      "(18231, 148)\n",
      "56\n"
     ]
    },
    {
     "name": "stderr",
     "output_type": "stream",
     "text": [
      "/home/sergio/anaconda3/envs/xb/lib/python3.7/site-packages/scanpy/preprocessing/_simple.py:352: RuntimeWarning: divide by zero encountered in log1p\n",
      "  np.log1p(X, out=X)\n",
      "/home/sergio/anaconda3/envs/xb/lib/python3.7/site-packages/scanpy/preprocessing/_utils.py:12: RuntimeWarning: invalid value encountered in subtract\n",
      "  var = mean_sq - mean**2\n",
      "/home/sergio/anaconda3/envs/xb/lib/python3.7/site-packages/scanpy/preprocessing/_simple.py:792: RuntimeWarning: invalid value encountered in subtract\n",
      "  X -= mean\n"
     ]
    },
    {
     "name": "stdout",
     "output_type": "stream",
     "text": [
      "(18231, 148)\n",
      "57\n",
      "TrueTrueFalse[10, 100, 1000, None]\n",
      "58\n"
     ]
    },
    {
     "name": "stderr",
     "output_type": "stream",
     "text": [
      "/home/sergio/anaconda3/envs/xb/lib/python3.7/site-packages/scanpy/preprocessing/_simple.py:843: UserWarning: Received a view of an AnnData. Making a copy.\n",
      "  view_to_actual(adata)\n"
     ]
    },
    {
     "name": "stdout",
     "output_type": "stream",
     "text": [
      "(18231, 27)\n",
      "59\n"
     ]
    },
    {
     "name": "stderr",
     "output_type": "stream",
     "text": [
      "/home/sergio/anaconda3/envs/xb/lib/python3.7/site-packages/scanpy/preprocessing/_simple.py:352: RuntimeWarning: divide by zero encountered in log1p\n",
      "  np.log1p(X, out=X)\n",
      "/home/sergio/anaconda3/envs/xb/lib/python3.7/site-packages/scanpy/preprocessing/_simple.py:843: UserWarning: Received a view of an AnnData. Making a copy.\n",
      "  view_to_actual(adata)\n",
      "/home/sergio/anaconda3/envs/xb/lib/python3.7/site-packages/scanpy/preprocessing/_simple.py:843: FutureWarning: X.dtype being converted to np.float32 from float64. In the next version of anndata (0.9) conversion will not be automatic. Pass dtype explicitly to avoid this warning. Pass `AnnData(X, dtype=X.dtype, ...)` to get the future behavour.\n",
      "  view_to_actual(adata)\n",
      "/home/sergio/anaconda3/envs/xb/lib/python3.7/site-packages/scanpy/preprocessing/_utils.py:12: RuntimeWarning: invalid value encountered in subtract\n",
      "  var = mean_sq - mean**2\n",
      "/home/sergio/anaconda3/envs/xb/lib/python3.7/site-packages/scanpy/preprocessing/_simple.py:792: RuntimeWarning: invalid value encountered in subtract\n",
      "  X -= mean\n"
     ]
    },
    {
     "name": "stdout",
     "output_type": "stream",
     "text": [
      "(18231, 49)\n",
      "60\n",
      "TrueTrueTrue[10, 100, 1000, None]\n",
      "61\n",
      "(18231, 148)\n",
      "62\n"
     ]
    },
    {
     "name": "stderr",
     "output_type": "stream",
     "text": [
      "/home/sergio/anaconda3/envs/xb/lib/python3.7/site-packages/scanpy/preprocessing/_simple.py:352: RuntimeWarning: divide by zero encountered in log1p\n",
      "  np.log1p(X, out=X)\n"
     ]
    },
    {
     "name": "stdout",
     "output_type": "stream",
     "text": [
      "(18231, 148)\n",
      "63\n",
      "TrueFalseFalse[10, 100, 1000, None]\n",
      "64\n"
     ]
    },
    {
     "name": "stderr",
     "output_type": "stream",
     "text": [
      "/home/sergio/anaconda3/envs/xb/lib/python3.7/site-packages/ipykernel_launcher.py:22: ImplicitModificationWarning: Trying to modify attribute `.X` of view, initializing view as actual.\n"
     ]
    },
    {
     "name": "stdout",
     "output_type": "stream",
     "text": [
      "(18231, 27)\n",
      "65\n"
     ]
    },
    {
     "name": "stderr",
     "output_type": "stream",
     "text": [
      "/home/sergio/anaconda3/envs/xb/lib/python3.7/site-packages/scanpy/preprocessing/_simple.py:352: RuntimeWarning: divide by zero encountered in log1p\n",
      "  np.log1p(X, out=X)\n",
      "/home/sergio/anaconda3/envs/xb/lib/python3.7/site-packages/ipykernel_launcher.py:22: ImplicitModificationWarning: Trying to modify attribute `.X` of view, initializing view as actual.\n",
      "/home/sergio/anaconda3/envs/xb/lib/python3.7/contextlib.py:119: FutureWarning: X.dtype being converted to np.float32 from float64. In the next version of anndata (0.9) conversion will not be automatic. Pass dtype explicitly to avoid this warning. Pass `AnnData(X, dtype=X.dtype, ...)` to get the future behavour.\n",
      "  next(self.gen)\n"
     ]
    },
    {
     "name": "stdout",
     "output_type": "stream",
     "text": [
      "(18231, 49)\n",
      "66\n",
      "TrueFalseTrue[10, 100, 1000, None]\n",
      "67\n",
      "(18231, 148)\n",
      "68\n"
     ]
    },
    {
     "name": "stderr",
     "output_type": "stream",
     "text": [
      "/home/sergio/anaconda3/envs/xb/lib/python3.7/site-packages/scanpy/preprocessing/_simple.py:352: RuntimeWarning: divide by zero encountered in log1p\n",
      "  np.log1p(X, out=X)\n",
      "/home/sergio/anaconda3/envs/xb/lib/python3.7/site-packages/scanpy/preprocessing/_utils.py:12: RuntimeWarning: invalid value encountered in subtract\n",
      "  var = mean_sq - mean**2\n",
      "/home/sergio/anaconda3/envs/xb/lib/python3.7/site-packages/scanpy/preprocessing/_simple.py:792: RuntimeWarning: invalid value encountered in subtract\n",
      "  X -= mean\n"
     ]
    },
    {
     "name": "stdout",
     "output_type": "stream",
     "text": [
      "(18231, 148)\n",
      "69\n",
      "TrueTrueFalse[10, 100, 1000, None]\n",
      "70\n"
     ]
    },
    {
     "name": "stderr",
     "output_type": "stream",
     "text": [
      "/home/sergio/anaconda3/envs/xb/lib/python3.7/site-packages/scanpy/preprocessing/_simple.py:843: UserWarning: Received a view of an AnnData. Making a copy.\n",
      "  view_to_actual(adata)\n"
     ]
    },
    {
     "name": "stdout",
     "output_type": "stream",
     "text": [
      "(18231, 27)\n",
      "71\n"
     ]
    },
    {
     "name": "stderr",
     "output_type": "stream",
     "text": [
      "/home/sergio/anaconda3/envs/xb/lib/python3.7/site-packages/scanpy/preprocessing/_simple.py:352: RuntimeWarning: divide by zero encountered in log1p\n",
      "  np.log1p(X, out=X)\n",
      "/home/sergio/anaconda3/envs/xb/lib/python3.7/site-packages/scanpy/preprocessing/_simple.py:843: UserWarning: Received a view of an AnnData. Making a copy.\n",
      "  view_to_actual(adata)\n",
      "/home/sergio/anaconda3/envs/xb/lib/python3.7/site-packages/scanpy/preprocessing/_simple.py:843: FutureWarning: X.dtype being converted to np.float32 from float64. In the next version of anndata (0.9) conversion will not be automatic. Pass dtype explicitly to avoid this warning. Pass `AnnData(X, dtype=X.dtype, ...)` to get the future behavour.\n",
      "  view_to_actual(adata)\n",
      "/home/sergio/anaconda3/envs/xb/lib/python3.7/site-packages/scanpy/preprocessing/_utils.py:12: RuntimeWarning: invalid value encountered in subtract\n",
      "  var = mean_sq - mean**2\n",
      "/home/sergio/anaconda3/envs/xb/lib/python3.7/site-packages/scanpy/preprocessing/_simple.py:792: RuntimeWarning: invalid value encountered in subtract\n",
      "  X -= mean\n"
     ]
    },
    {
     "name": "stdout",
     "output_type": "stream",
     "text": [
      "(18231, 49)\n",
      "72\n",
      "TrueTrueTrue[10, 100, 1000, None]\n",
      "73\n",
      "(18231, 148)\n",
      "74\n"
     ]
    },
    {
     "name": "stderr",
     "output_type": "stream",
     "text": [
      "/home/sergio/anaconda3/envs/xb/lib/python3.7/site-packages/scanpy/preprocessing/_simple.py:352: RuntimeWarning: divide by zero encountered in log1p\n",
      "  np.log1p(X, out=X)\n"
     ]
    },
    {
     "name": "stdout",
     "output_type": "stream",
     "text": [
      "(18231, 148)\n",
      "75\n",
      "TrueFalseFalse[10, 100, 1000, None]\n",
      "76\n"
     ]
    },
    {
     "name": "stderr",
     "output_type": "stream",
     "text": [
      "/home/sergio/anaconda3/envs/xb/lib/python3.7/site-packages/ipykernel_launcher.py:22: ImplicitModificationWarning: Trying to modify attribute `.X` of view, initializing view as actual.\n"
     ]
    },
    {
     "name": "stdout",
     "output_type": "stream",
     "text": [
      "(18231, 39)\n",
      "77\n"
     ]
    },
    {
     "name": "stderr",
     "output_type": "stream",
     "text": [
      "/home/sergio/anaconda3/envs/xb/lib/python3.7/site-packages/scanpy/preprocessing/_simple.py:352: RuntimeWarning: divide by zero encountered in log1p\n",
      "  np.log1p(X, out=X)\n",
      "/home/sergio/anaconda3/envs/xb/lib/python3.7/site-packages/ipykernel_launcher.py:22: ImplicitModificationWarning: Trying to modify attribute `.X` of view, initializing view as actual.\n",
      "/home/sergio/anaconda3/envs/xb/lib/python3.7/contextlib.py:119: FutureWarning: X.dtype being converted to np.float32 from float64. In the next version of anndata (0.9) conversion will not be automatic. Pass dtype explicitly to avoid this warning. Pass `AnnData(X, dtype=X.dtype, ...)` to get the future behavour.\n",
      "  next(self.gen)\n"
     ]
    },
    {
     "name": "stdout",
     "output_type": "stream",
     "text": [
      "(18231, 49)\n",
      "78\n",
      "TrueFalseTrue[10, 100, 1000, None]\n",
      "79\n",
      "(18231, 148)\n",
      "80\n"
     ]
    },
    {
     "name": "stderr",
     "output_type": "stream",
     "text": [
      "/home/sergio/anaconda3/envs/xb/lib/python3.7/site-packages/scanpy/preprocessing/_simple.py:352: RuntimeWarning: divide by zero encountered in log1p\n",
      "  np.log1p(X, out=X)\n",
      "/home/sergio/anaconda3/envs/xb/lib/python3.7/site-packages/scanpy/preprocessing/_utils.py:12: RuntimeWarning: invalid value encountered in subtract\n",
      "  var = mean_sq - mean**2\n",
      "/home/sergio/anaconda3/envs/xb/lib/python3.7/site-packages/scanpy/preprocessing/_simple.py:792: RuntimeWarning: invalid value encountered in subtract\n",
      "  X -= mean\n"
     ]
    },
    {
     "name": "stdout",
     "output_type": "stream",
     "text": [
      "(18231, 148)\n",
      "81\n",
      "TrueTrueFalse[10, 100, 1000, None]\n",
      "82\n"
     ]
    },
    {
     "name": "stderr",
     "output_type": "stream",
     "text": [
      "/home/sergio/anaconda3/envs/xb/lib/python3.7/site-packages/scanpy/preprocessing/_simple.py:843: UserWarning: Received a view of an AnnData. Making a copy.\n",
      "  view_to_actual(adata)\n"
     ]
    },
    {
     "name": "stdout",
     "output_type": "stream",
     "text": [
      "(18231, 39)\n",
      "83\n"
     ]
    },
    {
     "name": "stderr",
     "output_type": "stream",
     "text": [
      "/home/sergio/anaconda3/envs/xb/lib/python3.7/site-packages/scanpy/preprocessing/_simple.py:352: RuntimeWarning: divide by zero encountered in log1p\n",
      "  np.log1p(X, out=X)\n",
      "/home/sergio/anaconda3/envs/xb/lib/python3.7/site-packages/scanpy/preprocessing/_simple.py:843: UserWarning: Received a view of an AnnData. Making a copy.\n",
      "  view_to_actual(adata)\n",
      "/home/sergio/anaconda3/envs/xb/lib/python3.7/site-packages/scanpy/preprocessing/_simple.py:843: FutureWarning: X.dtype being converted to np.float32 from float64. In the next version of anndata (0.9) conversion will not be automatic. Pass dtype explicitly to avoid this warning. Pass `AnnData(X, dtype=X.dtype, ...)` to get the future behavour.\n",
      "  view_to_actual(adata)\n",
      "/home/sergio/anaconda3/envs/xb/lib/python3.7/site-packages/scanpy/preprocessing/_utils.py:12: RuntimeWarning: invalid value encountered in subtract\n",
      "  var = mean_sq - mean**2\n",
      "/home/sergio/anaconda3/envs/xb/lib/python3.7/site-packages/scanpy/preprocessing/_simple.py:792: RuntimeWarning: invalid value encountered in subtract\n",
      "  X -= mean\n"
     ]
    },
    {
     "name": "stdout",
     "output_type": "stream",
     "text": [
      "(18231, 49)\n",
      "84\n",
      "TrueTrueTrue[10, 100, 1000, None]\n",
      "85\n",
      "(18231, 148)\n",
      "86\n"
     ]
    },
    {
     "name": "stderr",
     "output_type": "stream",
     "text": [
      "/home/sergio/anaconda3/envs/xb/lib/python3.7/site-packages/scanpy/preprocessing/_simple.py:352: RuntimeWarning: divide by zero encountered in log1p\n",
      "  np.log1p(X, out=X)\n"
     ]
    },
    {
     "name": "stdout",
     "output_type": "stream",
     "text": [
      "(18231, 148)\n",
      "87\n",
      "TrueFalseFalse[10, 100, 1000, None]\n",
      "88\n"
     ]
    },
    {
     "name": "stderr",
     "output_type": "stream",
     "text": [
      "/home/sergio/anaconda3/envs/xb/lib/python3.7/site-packages/ipykernel_launcher.py:22: ImplicitModificationWarning: Trying to modify attribute `.X` of view, initializing view as actual.\n"
     ]
    },
    {
     "name": "stdout",
     "output_type": "stream",
     "text": [
      "(18231, 39)\n",
      "89\n"
     ]
    },
    {
     "name": "stderr",
     "output_type": "stream",
     "text": [
      "/home/sergio/anaconda3/envs/xb/lib/python3.7/site-packages/scanpy/preprocessing/_simple.py:352: RuntimeWarning: divide by zero encountered in log1p\n",
      "  np.log1p(X, out=X)\n",
      "/home/sergio/anaconda3/envs/xb/lib/python3.7/site-packages/ipykernel_launcher.py:22: ImplicitModificationWarning: Trying to modify attribute `.X` of view, initializing view as actual.\n",
      "/home/sergio/anaconda3/envs/xb/lib/python3.7/contextlib.py:119: FutureWarning: X.dtype being converted to np.float32 from float64. In the next version of anndata (0.9) conversion will not be automatic. Pass dtype explicitly to avoid this warning. Pass `AnnData(X, dtype=X.dtype, ...)` to get the future behavour.\n",
      "  next(self.gen)\n"
     ]
    },
    {
     "name": "stdout",
     "output_type": "stream",
     "text": [
      "(18231, 49)\n",
      "90\n",
      "TrueFalseTrue[10, 100, 1000, None]\n",
      "91\n",
      "(18231, 148)\n",
      "92\n"
     ]
    },
    {
     "name": "stderr",
     "output_type": "stream",
     "text": [
      "/home/sergio/anaconda3/envs/xb/lib/python3.7/site-packages/scanpy/preprocessing/_simple.py:352: RuntimeWarning: divide by zero encountered in log1p\n",
      "  np.log1p(X, out=X)\n",
      "/home/sergio/anaconda3/envs/xb/lib/python3.7/site-packages/scanpy/preprocessing/_utils.py:12: RuntimeWarning: invalid value encountered in subtract\n",
      "  var = mean_sq - mean**2\n",
      "/home/sergio/anaconda3/envs/xb/lib/python3.7/site-packages/scanpy/preprocessing/_simple.py:792: RuntimeWarning: invalid value encountered in subtract\n",
      "  X -= mean\n"
     ]
    },
    {
     "name": "stdout",
     "output_type": "stream",
     "text": [
      "(18231, 148)\n",
      "93\n",
      "TrueTrueFalse[10, 100, 1000, None]\n",
      "94\n"
     ]
    },
    {
     "name": "stderr",
     "output_type": "stream",
     "text": [
      "/home/sergio/anaconda3/envs/xb/lib/python3.7/site-packages/scanpy/preprocessing/_simple.py:843: UserWarning: Received a view of an AnnData. Making a copy.\n",
      "  view_to_actual(adata)\n"
     ]
    },
    {
     "name": "stdout",
     "output_type": "stream",
     "text": [
      "(18231, 39)\n",
      "95\n"
     ]
    },
    {
     "name": "stderr",
     "output_type": "stream",
     "text": [
      "/home/sergio/anaconda3/envs/xb/lib/python3.7/site-packages/scanpy/preprocessing/_simple.py:352: RuntimeWarning: divide by zero encountered in log1p\n",
      "  np.log1p(X, out=X)\n",
      "/home/sergio/anaconda3/envs/xb/lib/python3.7/site-packages/scanpy/preprocessing/_simple.py:843: UserWarning: Received a view of an AnnData. Making a copy.\n",
      "  view_to_actual(adata)\n",
      "/home/sergio/anaconda3/envs/xb/lib/python3.7/site-packages/scanpy/preprocessing/_simple.py:843: FutureWarning: X.dtype being converted to np.float32 from float64. In the next version of anndata (0.9) conversion will not be automatic. Pass dtype explicitly to avoid this warning. Pass `AnnData(X, dtype=X.dtype, ...)` to get the future behavour.\n",
      "  view_to_actual(adata)\n",
      "/home/sergio/anaconda3/envs/xb/lib/python3.7/site-packages/scanpy/preprocessing/_utils.py:12: RuntimeWarning: invalid value encountered in subtract\n",
      "  var = mean_sq - mean**2\n",
      "/home/sergio/anaconda3/envs/xb/lib/python3.7/site-packages/scanpy/preprocessing/_simple.py:792: RuntimeWarning: invalid value encountered in subtract\n",
      "  X -= mean\n"
     ]
    },
    {
     "name": "stdout",
     "output_type": "stream",
     "text": [
      "(18231, 49)\n",
      "96\n",
      "TrueTrueTrue[10, 100, 1000, None]\n",
      "97\n",
      "(18231, 148)\n",
      "98\n"
     ]
    },
    {
     "name": "stderr",
     "output_type": "stream",
     "text": [
      "/home/sergio/anaconda3/envs/xb/lib/python3.7/site-packages/scanpy/preprocessing/_simple.py:352: RuntimeWarning: divide by zero encountered in log1p\n",
      "  np.log1p(X, out=X)\n"
     ]
    },
    {
     "name": "stdout",
     "output_type": "stream",
     "text": [
      "(18231, 148)\n",
      "99\n",
      "TrueFalseFalse[10, 100, 1000, None]\n",
      "100\n"
     ]
    },
    {
     "name": "stderr",
     "output_type": "stream",
     "text": [
      "/home/sergio/anaconda3/envs/xb/lib/python3.7/site-packages/ipykernel_launcher.py:22: ImplicitModificationWarning: Trying to modify attribute `.X` of view, initializing view as actual.\n"
     ]
    },
    {
     "name": "stdout",
     "output_type": "stream",
     "text": [
      "(18231, 39)\n",
      "101\n"
     ]
    },
    {
     "name": "stderr",
     "output_type": "stream",
     "text": [
      "/home/sergio/anaconda3/envs/xb/lib/python3.7/site-packages/scanpy/preprocessing/_simple.py:352: RuntimeWarning: divide by zero encountered in log1p\n",
      "  np.log1p(X, out=X)\n",
      "/home/sergio/anaconda3/envs/xb/lib/python3.7/site-packages/ipykernel_launcher.py:22: ImplicitModificationWarning: Trying to modify attribute `.X` of view, initializing view as actual.\n",
      "/home/sergio/anaconda3/envs/xb/lib/python3.7/contextlib.py:119: FutureWarning: X.dtype being converted to np.float32 from float64. In the next version of anndata (0.9) conversion will not be automatic. Pass dtype explicitly to avoid this warning. Pass `AnnData(X, dtype=X.dtype, ...)` to get the future behavour.\n",
      "  next(self.gen)\n"
     ]
    },
    {
     "name": "stdout",
     "output_type": "stream",
     "text": [
      "(18231, 49)\n",
      "102\n",
      "TrueFalseTrue[10, 100, 1000, None]\n",
      "103\n",
      "(18231, 148)\n",
      "104\n"
     ]
    },
    {
     "name": "stderr",
     "output_type": "stream",
     "text": [
      "/home/sergio/anaconda3/envs/xb/lib/python3.7/site-packages/scanpy/preprocessing/_simple.py:352: RuntimeWarning: divide by zero encountered in log1p\n",
      "  np.log1p(X, out=X)\n",
      "/home/sergio/anaconda3/envs/xb/lib/python3.7/site-packages/scanpy/preprocessing/_utils.py:12: RuntimeWarning: invalid value encountered in subtract\n",
      "  var = mean_sq - mean**2\n",
      "/home/sergio/anaconda3/envs/xb/lib/python3.7/site-packages/scanpy/preprocessing/_simple.py:792: RuntimeWarning: invalid value encountered in subtract\n",
      "  X -= mean\n"
     ]
    },
    {
     "name": "stdout",
     "output_type": "stream",
     "text": [
      "(18231, 148)\n",
      "105\n",
      "TrueTrueFalse[10, 100, 1000, None]\n",
      "106\n"
     ]
    },
    {
     "name": "stderr",
     "output_type": "stream",
     "text": [
      "/home/sergio/anaconda3/envs/xb/lib/python3.7/site-packages/scanpy/preprocessing/_simple.py:843: UserWarning: Received a view of an AnnData. Making a copy.\n",
      "  view_to_actual(adata)\n"
     ]
    },
    {
     "name": "stdout",
     "output_type": "stream",
     "text": [
      "(18231, 39)\n",
      "107\n"
     ]
    },
    {
     "name": "stderr",
     "output_type": "stream",
     "text": [
      "/home/sergio/anaconda3/envs/xb/lib/python3.7/site-packages/scanpy/preprocessing/_simple.py:352: RuntimeWarning: divide by zero encountered in log1p\n",
      "  np.log1p(X, out=X)\n",
      "/home/sergio/anaconda3/envs/xb/lib/python3.7/site-packages/scanpy/preprocessing/_simple.py:843: UserWarning: Received a view of an AnnData. Making a copy.\n",
      "  view_to_actual(adata)\n",
      "/home/sergio/anaconda3/envs/xb/lib/python3.7/site-packages/scanpy/preprocessing/_simple.py:843: FutureWarning: X.dtype being converted to np.float32 from float64. In the next version of anndata (0.9) conversion will not be automatic. Pass dtype explicitly to avoid this warning. Pass `AnnData(X, dtype=X.dtype, ...)` to get the future behavour.\n",
      "  view_to_actual(adata)\n",
      "/home/sergio/anaconda3/envs/xb/lib/python3.7/site-packages/scanpy/preprocessing/_utils.py:12: RuntimeWarning: invalid value encountered in subtract\n",
      "  var = mean_sq - mean**2\n",
      "/home/sergio/anaconda3/envs/xb/lib/python3.7/site-packages/scanpy/preprocessing/_simple.py:792: RuntimeWarning: invalid value encountered in subtract\n",
      "  X -= mean\n"
     ]
    },
    {
     "name": "stdout",
     "output_type": "stream",
     "text": [
      "(18231, 49)\n",
      "108\n",
      "TrueTrueTrue[10, 100, 1000, None]\n",
      "109\n",
      "(18231, 148)\n",
      "110\n"
     ]
    },
    {
     "name": "stderr",
     "output_type": "stream",
     "text": [
      "/home/sergio/anaconda3/envs/xb/lib/python3.7/site-packages/scanpy/preprocessing/_simple.py:352: RuntimeWarning: divide by zero encountered in log1p\n",
      "  np.log1p(X, out=X)\n"
     ]
    },
    {
     "name": "stdout",
     "output_type": "stream",
     "text": [
      "(18231, 148)\n",
      "111\n",
      "TrueFalseFalse[10, 100, 1000, None]\n",
      "112\n"
     ]
    },
    {
     "name": "stderr",
     "output_type": "stream",
     "text": [
      "/home/sergio/anaconda3/envs/xb/lib/python3.7/site-packages/ipykernel_launcher.py:22: ImplicitModificationWarning: Trying to modify attribute `.X` of view, initializing view as actual.\n"
     ]
    },
    {
     "name": "stdout",
     "output_type": "stream",
     "text": [
      "(18231, 39)\n",
      "113\n"
     ]
    },
    {
     "name": "stderr",
     "output_type": "stream",
     "text": [
      "/home/sergio/anaconda3/envs/xb/lib/python3.7/site-packages/scanpy/preprocessing/_simple.py:352: RuntimeWarning: divide by zero encountered in log1p\n",
      "  np.log1p(X, out=X)\n",
      "/home/sergio/anaconda3/envs/xb/lib/python3.7/site-packages/ipykernel_launcher.py:22: ImplicitModificationWarning: Trying to modify attribute `.X` of view, initializing view as actual.\n",
      "/home/sergio/anaconda3/envs/xb/lib/python3.7/contextlib.py:119: FutureWarning: X.dtype being converted to np.float32 from float64. In the next version of anndata (0.9) conversion will not be automatic. Pass dtype explicitly to avoid this warning. Pass `AnnData(X, dtype=X.dtype, ...)` to get the future behavour.\n",
      "  next(self.gen)\n"
     ]
    },
    {
     "name": "stdout",
     "output_type": "stream",
     "text": [
      "(18231, 49)\n",
      "114\n",
      "TrueFalseTrue[10, 100, 1000, None]\n",
      "115\n",
      "(18231, 148)\n",
      "116\n"
     ]
    },
    {
     "name": "stderr",
     "output_type": "stream",
     "text": [
      "/home/sergio/anaconda3/envs/xb/lib/python3.7/site-packages/scanpy/preprocessing/_simple.py:352: RuntimeWarning: divide by zero encountered in log1p\n",
      "  np.log1p(X, out=X)\n",
      "/home/sergio/anaconda3/envs/xb/lib/python3.7/site-packages/scanpy/preprocessing/_utils.py:12: RuntimeWarning: invalid value encountered in subtract\n",
      "  var = mean_sq - mean**2\n",
      "/home/sergio/anaconda3/envs/xb/lib/python3.7/site-packages/scanpy/preprocessing/_simple.py:792: RuntimeWarning: invalid value encountered in subtract\n",
      "  X -= mean\n"
     ]
    },
    {
     "name": "stdout",
     "output_type": "stream",
     "text": [
      "(18231, 148)\n",
      "117\n",
      "TrueTrueFalse[10, 100, 1000, None]\n",
      "118\n"
     ]
    },
    {
     "name": "stderr",
     "output_type": "stream",
     "text": [
      "/home/sergio/anaconda3/envs/xb/lib/python3.7/site-packages/scanpy/preprocessing/_simple.py:843: UserWarning: Received a view of an AnnData. Making a copy.\n",
      "  view_to_actual(adata)\n"
     ]
    },
    {
     "name": "stdout",
     "output_type": "stream",
     "text": [
      "(18231, 39)\n",
      "119\n"
     ]
    },
    {
     "name": "stderr",
     "output_type": "stream",
     "text": [
      "/home/sergio/anaconda3/envs/xb/lib/python3.7/site-packages/scanpy/preprocessing/_simple.py:352: RuntimeWarning: divide by zero encountered in log1p\n",
      "  np.log1p(X, out=X)\n",
      "/home/sergio/anaconda3/envs/xb/lib/python3.7/site-packages/scanpy/preprocessing/_simple.py:843: UserWarning: Received a view of an AnnData. Making a copy.\n",
      "  view_to_actual(adata)\n",
      "/home/sergio/anaconda3/envs/xb/lib/python3.7/site-packages/scanpy/preprocessing/_simple.py:843: FutureWarning: X.dtype being converted to np.float32 from float64. In the next version of anndata (0.9) conversion will not be automatic. Pass dtype explicitly to avoid this warning. Pass `AnnData(X, dtype=X.dtype, ...)` to get the future behavour.\n",
      "  view_to_actual(adata)\n",
      "/home/sergio/anaconda3/envs/xb/lib/python3.7/site-packages/scanpy/preprocessing/_utils.py:12: RuntimeWarning: invalid value encountered in subtract\n",
      "  var = mean_sq - mean**2\n",
      "/home/sergio/anaconda3/envs/xb/lib/python3.7/site-packages/scanpy/preprocessing/_simple.py:792: RuntimeWarning: invalid value encountered in subtract\n",
      "  X -= mean\n"
     ]
    },
    {
     "name": "stdout",
     "output_type": "stream",
     "text": [
      "(18231, 49)\n",
      "120\n",
      "TrueTrueTrue[10, 100, 1000, None]\n",
      "121\n",
      "(18231, 148)\n",
      "122\n"
     ]
    },
    {
     "name": "stderr",
     "output_type": "stream",
     "text": [
      "/home/sergio/anaconda3/envs/xb/lib/python3.7/site-packages/scanpy/preprocessing/_simple.py:352: RuntimeWarning: divide by zero encountered in log1p\n",
      "  np.log1p(X, out=X)\n"
     ]
    },
    {
     "name": "stdout",
     "output_type": "stream",
     "text": [
      "(18231, 148)\n",
      "123\n",
      "TrueFalseFalse[10, 100, 1000, None]\n",
      "124\n"
     ]
    },
    {
     "name": "stderr",
     "output_type": "stream",
     "text": [
      "/home/sergio/anaconda3/envs/xb/lib/python3.7/site-packages/ipykernel_launcher.py:22: ImplicitModificationWarning: Trying to modify attribute `.X` of view, initializing view as actual.\n"
     ]
    },
    {
     "name": "stdout",
     "output_type": "stream",
     "text": [
      "(18231, 39)\n",
      "125\n"
     ]
    },
    {
     "name": "stderr",
     "output_type": "stream",
     "text": [
      "/home/sergio/anaconda3/envs/xb/lib/python3.7/site-packages/scanpy/preprocessing/_simple.py:352: RuntimeWarning: divide by zero encountered in log1p\n",
      "  np.log1p(X, out=X)\n",
      "/home/sergio/anaconda3/envs/xb/lib/python3.7/site-packages/ipykernel_launcher.py:22: ImplicitModificationWarning: Trying to modify attribute `.X` of view, initializing view as actual.\n",
      "/home/sergio/anaconda3/envs/xb/lib/python3.7/contextlib.py:119: FutureWarning: X.dtype being converted to np.float32 from float64. In the next version of anndata (0.9) conversion will not be automatic. Pass dtype explicitly to avoid this warning. Pass `AnnData(X, dtype=X.dtype, ...)` to get the future behavour.\n",
      "  next(self.gen)\n"
     ]
    },
    {
     "name": "stdout",
     "output_type": "stream",
     "text": [
      "(18231, 49)\n",
      "126\n",
      "TrueFalseTrue[10, 100, 1000, None]\n",
      "127\n",
      "(18231, 148)\n",
      "128\n"
     ]
    },
    {
     "name": "stderr",
     "output_type": "stream",
     "text": [
      "/home/sergio/anaconda3/envs/xb/lib/python3.7/site-packages/scanpy/preprocessing/_simple.py:352: RuntimeWarning: divide by zero encountered in log1p\n",
      "  np.log1p(X, out=X)\n",
      "/home/sergio/anaconda3/envs/xb/lib/python3.7/site-packages/scanpy/preprocessing/_utils.py:12: RuntimeWarning: invalid value encountered in subtract\n",
      "  var = mean_sq - mean**2\n",
      "/home/sergio/anaconda3/envs/xb/lib/python3.7/site-packages/scanpy/preprocessing/_simple.py:792: RuntimeWarning: invalid value encountered in subtract\n",
      "  X -= mean\n"
     ]
    },
    {
     "name": "stdout",
     "output_type": "stream",
     "text": [
      "(18231, 148)\n",
      "129\n",
      "TrueTrueFalse[10, 100, 1000, None]\n",
      "130\n"
     ]
    },
    {
     "name": "stderr",
     "output_type": "stream",
     "text": [
      "/home/sergio/anaconda3/envs/xb/lib/python3.7/site-packages/scanpy/preprocessing/_simple.py:843: UserWarning: Received a view of an AnnData. Making a copy.\n",
      "  view_to_actual(adata)\n"
     ]
    },
    {
     "name": "stdout",
     "output_type": "stream",
     "text": [
      "(18231, 39)\n",
      "131\n"
     ]
    },
    {
     "name": "stderr",
     "output_type": "stream",
     "text": [
      "/home/sergio/anaconda3/envs/xb/lib/python3.7/site-packages/scanpy/preprocessing/_simple.py:352: RuntimeWarning: divide by zero encountered in log1p\n",
      "  np.log1p(X, out=X)\n",
      "/home/sergio/anaconda3/envs/xb/lib/python3.7/site-packages/scanpy/preprocessing/_simple.py:843: UserWarning: Received a view of an AnnData. Making a copy.\n",
      "  view_to_actual(adata)\n",
      "/home/sergio/anaconda3/envs/xb/lib/python3.7/site-packages/scanpy/preprocessing/_simple.py:843: FutureWarning: X.dtype being converted to np.float32 from float64. In the next version of anndata (0.9) conversion will not be automatic. Pass dtype explicitly to avoid this warning. Pass `AnnData(X, dtype=X.dtype, ...)` to get the future behavour.\n",
      "  view_to_actual(adata)\n",
      "/home/sergio/anaconda3/envs/xb/lib/python3.7/site-packages/scanpy/preprocessing/_utils.py:12: RuntimeWarning: invalid value encountered in subtract\n",
      "  var = mean_sq - mean**2\n",
      "/home/sergio/anaconda3/envs/xb/lib/python3.7/site-packages/scanpy/preprocessing/_simple.py:792: RuntimeWarning: invalid value encountered in subtract\n",
      "  X -= mean\n"
     ]
    },
    {
     "name": "stdout",
     "output_type": "stream",
     "text": [
      "(18231, 49)\n",
      "132\n",
      "TrueTrueTrue[10, 100, 1000, None]\n",
      "133\n",
      "(18231, 148)\n",
      "134\n"
     ]
    },
    {
     "name": "stderr",
     "output_type": "stream",
     "text": [
      "/home/sergio/anaconda3/envs/xb/lib/python3.7/site-packages/scanpy/preprocessing/_simple.py:352: RuntimeWarning: divide by zero encountered in log1p\n",
      "  np.log1p(X, out=X)\n"
     ]
    },
    {
     "name": "stdout",
     "output_type": "stream",
     "text": [
      "(18231, 148)\n",
      "135\n",
      "TrueFalseFalse[10, 100, 1000, None]\n",
      "136\n"
     ]
    },
    {
     "name": "stderr",
     "output_type": "stream",
     "text": [
      "/home/sergio/anaconda3/envs/xb/lib/python3.7/site-packages/ipykernel_launcher.py:22: ImplicitModificationWarning: Trying to modify attribute `.X` of view, initializing view as actual.\n"
     ]
    },
    {
     "name": "stdout",
     "output_type": "stream",
     "text": [
      "(18231, 39)\n",
      "137\n"
     ]
    },
    {
     "name": "stderr",
     "output_type": "stream",
     "text": [
      "/home/sergio/anaconda3/envs/xb/lib/python3.7/site-packages/scanpy/preprocessing/_simple.py:352: RuntimeWarning: divide by zero encountered in log1p\n",
      "  np.log1p(X, out=X)\n",
      "/home/sergio/anaconda3/envs/xb/lib/python3.7/site-packages/ipykernel_launcher.py:22: ImplicitModificationWarning: Trying to modify attribute `.X` of view, initializing view as actual.\n",
      "/home/sergio/anaconda3/envs/xb/lib/python3.7/contextlib.py:119: FutureWarning: X.dtype being converted to np.float32 from float64. In the next version of anndata (0.9) conversion will not be automatic. Pass dtype explicitly to avoid this warning. Pass `AnnData(X, dtype=X.dtype, ...)` to get the future behavour.\n",
      "  next(self.gen)\n"
     ]
    },
    {
     "name": "stdout",
     "output_type": "stream",
     "text": [
      "(18231, 49)\n",
      "138\n",
      "TrueFalseTrue[10, 100, 1000, None]\n",
      "139\n",
      "(18231, 148)\n",
      "140\n"
     ]
    },
    {
     "name": "stderr",
     "output_type": "stream",
     "text": [
      "/home/sergio/anaconda3/envs/xb/lib/python3.7/site-packages/scanpy/preprocessing/_simple.py:352: RuntimeWarning: divide by zero encountered in log1p\n",
      "  np.log1p(X, out=X)\n",
      "/home/sergio/anaconda3/envs/xb/lib/python3.7/site-packages/scanpy/preprocessing/_utils.py:12: RuntimeWarning: invalid value encountered in subtract\n",
      "  var = mean_sq - mean**2\n",
      "/home/sergio/anaconda3/envs/xb/lib/python3.7/site-packages/scanpy/preprocessing/_simple.py:792: RuntimeWarning: invalid value encountered in subtract\n",
      "  X -= mean\n"
     ]
    },
    {
     "name": "stdout",
     "output_type": "stream",
     "text": [
      "(18231, 148)\n",
      "141\n",
      "TrueTrueFalse[10, 100, 1000, None]\n",
      "142\n"
     ]
    },
    {
     "name": "stderr",
     "output_type": "stream",
     "text": [
      "/home/sergio/anaconda3/envs/xb/lib/python3.7/site-packages/scanpy/preprocessing/_simple.py:843: UserWarning: Received a view of an AnnData. Making a copy.\n",
      "  view_to_actual(adata)\n"
     ]
    },
    {
     "name": "stdout",
     "output_type": "stream",
     "text": [
      "(18231, 39)\n",
      "143\n"
     ]
    },
    {
     "name": "stderr",
     "output_type": "stream",
     "text": [
      "/home/sergio/anaconda3/envs/xb/lib/python3.7/site-packages/scanpy/preprocessing/_simple.py:352: RuntimeWarning: divide by zero encountered in log1p\n",
      "  np.log1p(X, out=X)\n",
      "/home/sergio/anaconda3/envs/xb/lib/python3.7/site-packages/scanpy/preprocessing/_simple.py:843: UserWarning: Received a view of an AnnData. Making a copy.\n",
      "  view_to_actual(adata)\n",
      "/home/sergio/anaconda3/envs/xb/lib/python3.7/site-packages/scanpy/preprocessing/_simple.py:843: FutureWarning: X.dtype being converted to np.float32 from float64. In the next version of anndata (0.9) conversion will not be automatic. Pass dtype explicitly to avoid this warning. Pass `AnnData(X, dtype=X.dtype, ...)` to get the future behavour.\n",
      "  view_to_actual(adata)\n",
      "/home/sergio/anaconda3/envs/xb/lib/python3.7/site-packages/scanpy/preprocessing/_utils.py:12: RuntimeWarning: invalid value encountered in subtract\n",
      "  var = mean_sq - mean**2\n",
      "/home/sergio/anaconda3/envs/xb/lib/python3.7/site-packages/scanpy/preprocessing/_simple.py:792: RuntimeWarning: invalid value encountered in subtract\n",
      "  X -= mean\n"
     ]
    },
    {
     "name": "stdout",
     "output_type": "stream",
     "text": [
      "(18231, 49)\n",
      "144\n",
      "TrueTrueTrue[10, 100, 1000, None]\n",
      "145\n"
     ]
    },
    {
     "name": "stderr",
     "output_type": "stream",
     "text": [
      "/home/sergio/anaconda3/envs/xb/lib/python3.7/site-packages/scanpy/preprocessing/_simple.py:352: RuntimeWarning: divide by zero encountered in log1p\n",
      "  np.log1p(X, out=X)\n",
      "/home/sergio/anaconda3/envs/xb/lib/python3.7/site-packages/scanpy/preprocessing/_simple.py:352: RuntimeWarning: invalid value encountered in log1p\n",
      "  np.log1p(X, out=X)\n"
     ]
    },
    {
     "name": "stdout",
     "output_type": "stream",
     "text": [
      "(18231, 148)\n",
      "146\n"
     ]
    },
    {
     "name": "stderr",
     "output_type": "stream",
     "text": [
      "/home/sergio/anaconda3/envs/xb/lib/python3.7/site-packages/scanpy/preprocessing/_simple.py:352: RuntimeWarning: divide by zero encountered in log1p\n",
      "  np.log1p(X, out=X)\n"
     ]
    },
    {
     "name": "stdout",
     "output_type": "stream",
     "text": [
      "(18231, 148)\n",
      "147\n",
      "TrueFalseFalse[10, 100, 1000, None]\n",
      "148\n"
     ]
    },
    {
     "name": "stderr",
     "output_type": "stream",
     "text": [
      "/home/sergio/anaconda3/envs/xb/lib/python3.7/site-packages/scanpy/preprocessing/_simple.py:352: RuntimeWarning: divide by zero encountered in log1p\n",
      "  np.log1p(X, out=X)\n",
      "/home/sergio/anaconda3/envs/xb/lib/python3.7/site-packages/scanpy/preprocessing/_simple.py:352: RuntimeWarning: invalid value encountered in log1p\n",
      "  np.log1p(X, out=X)\n"
     ]
    },
    {
     "name": "stdout",
     "output_type": "stream",
     "text": [
      "normTrue_lgTrue_ng12_pc0_ts1000_hvg_True_scale_False_leid lgTrue_ng12_pc0_ts1000_hvg_True_scale_False\n",
      "149\n"
     ]
    },
    {
     "name": "stderr",
     "output_type": "stream",
     "text": [
      "/home/sergio/anaconda3/envs/xb/lib/python3.7/site-packages/ipykernel_launcher.py:22: ImplicitModificationWarning: Trying to modify attribute `.X` of view, initializing view as actual.\n",
      "/home/sergio/anaconda3/envs/xb/lib/python3.7/contextlib.py:119: FutureWarning: X.dtype being converted to np.float32 from float64. In the next version of anndata (0.9) conversion will not be automatic. Pass dtype explicitly to avoid this warning. Pass `AnnData(X, dtype=X.dtype, ...)` to get the future behavour.\n",
      "  next(self.gen)\n"
     ]
    },
    {
     "name": "stdout",
     "output_type": "stream",
     "text": [
      "(18231, 49)\n",
      "150\n",
      "TrueFalseTrue[10, 100, 1000, None]\n",
      "151\n"
     ]
    },
    {
     "name": "stderr",
     "output_type": "stream",
     "text": [
      "/home/sergio/anaconda3/envs/xb/lib/python3.7/site-packages/scanpy/preprocessing/_simple.py:352: RuntimeWarning: divide by zero encountered in log1p\n",
      "  np.log1p(X, out=X)\n",
      "/home/sergio/anaconda3/envs/xb/lib/python3.7/site-packages/scanpy/preprocessing/_simple.py:352: RuntimeWarning: invalid value encountered in log1p\n",
      "  np.log1p(X, out=X)\n"
     ]
    },
    {
     "name": "stdout",
     "output_type": "stream",
     "text": [
      "(18231, 148)\n",
      "152\n"
     ]
    },
    {
     "name": "stderr",
     "output_type": "stream",
     "text": [
      "/home/sergio/anaconda3/envs/xb/lib/python3.7/site-packages/scanpy/preprocessing/_simple.py:352: RuntimeWarning: divide by zero encountered in log1p\n",
      "  np.log1p(X, out=X)\n",
      "/home/sergio/anaconda3/envs/xb/lib/python3.7/site-packages/scanpy/preprocessing/_utils.py:12: RuntimeWarning: invalid value encountered in subtract\n",
      "  var = mean_sq - mean**2\n",
      "/home/sergio/anaconda3/envs/xb/lib/python3.7/site-packages/scanpy/preprocessing/_simple.py:792: RuntimeWarning: invalid value encountered in subtract\n",
      "  X -= mean\n"
     ]
    },
    {
     "name": "stdout",
     "output_type": "stream",
     "text": [
      "(18231, 148)\n",
      "153\n",
      "TrueTrueFalse[10, 100, 1000, None]\n",
      "154\n"
     ]
    },
    {
     "name": "stderr",
     "output_type": "stream",
     "text": [
      "/home/sergio/anaconda3/envs/xb/lib/python3.7/site-packages/scanpy/preprocessing/_simple.py:352: RuntimeWarning: divide by zero encountered in log1p\n",
      "  np.log1p(X, out=X)\n",
      "/home/sergio/anaconda3/envs/xb/lib/python3.7/site-packages/scanpy/preprocessing/_simple.py:352: RuntimeWarning: invalid value encountered in log1p\n",
      "  np.log1p(X, out=X)\n"
     ]
    },
    {
     "name": "stdout",
     "output_type": "stream",
     "text": [
      "normTrue_lgTrue_ng12_pc0_ts1000_hvg_True_scale_True_leid lgTrue_ng12_pc0_ts1000_hvg_True_scale_True\n",
      "155\n"
     ]
    },
    {
     "name": "stderr",
     "output_type": "stream",
     "text": [
      "/home/sergio/anaconda3/envs/xb/lib/python3.7/site-packages/scanpy/preprocessing/_simple.py:843: UserWarning: Received a view of an AnnData. Making a copy.\n",
      "  view_to_actual(adata)\n",
      "/home/sergio/anaconda3/envs/xb/lib/python3.7/site-packages/scanpy/preprocessing/_simple.py:843: FutureWarning: X.dtype being converted to np.float32 from float64. In the next version of anndata (0.9) conversion will not be automatic. Pass dtype explicitly to avoid this warning. Pass `AnnData(X, dtype=X.dtype, ...)` to get the future behavour.\n",
      "  view_to_actual(adata)\n",
      "/home/sergio/anaconda3/envs/xb/lib/python3.7/site-packages/scanpy/preprocessing/_utils.py:12: RuntimeWarning: invalid value encountered in subtract\n",
      "  var = mean_sq - mean**2\n",
      "/home/sergio/anaconda3/envs/xb/lib/python3.7/site-packages/scanpy/preprocessing/_simple.py:792: RuntimeWarning: invalid value encountered in subtract\n",
      "  X -= mean\n"
     ]
    },
    {
     "name": "stdout",
     "output_type": "stream",
     "text": [
      "(18231, 49)\n",
      "156\n",
      "TrueTrueTrue[10, 100, 1000, None]\n",
      "157\n"
     ]
    },
    {
     "name": "stderr",
     "output_type": "stream",
     "text": [
      "/home/sergio/anaconda3/envs/xb/lib/python3.7/site-packages/scanpy/preprocessing/_simple.py:352: RuntimeWarning: divide by zero encountered in log1p\n",
      "  np.log1p(X, out=X)\n",
      "/home/sergio/anaconda3/envs/xb/lib/python3.7/site-packages/scanpy/preprocessing/_simple.py:352: RuntimeWarning: invalid value encountered in log1p\n",
      "  np.log1p(X, out=X)\n"
     ]
    },
    {
     "name": "stdout",
     "output_type": "stream",
     "text": [
      "(18231, 148)\n",
      "158\n"
     ]
    },
    {
     "name": "stderr",
     "output_type": "stream",
     "text": [
      "/home/sergio/anaconda3/envs/xb/lib/python3.7/site-packages/scanpy/preprocessing/_simple.py:352: RuntimeWarning: divide by zero encountered in log1p\n",
      "  np.log1p(X, out=X)\n"
     ]
    },
    {
     "name": "stdout",
     "output_type": "stream",
     "text": [
      "(18231, 148)\n",
      "159\n",
      "TrueFalseFalse[10, 100, 1000, None]\n",
      "160\n"
     ]
    },
    {
     "name": "stderr",
     "output_type": "stream",
     "text": [
      "/home/sergio/anaconda3/envs/xb/lib/python3.7/site-packages/scanpy/preprocessing/_simple.py:352: RuntimeWarning: divide by zero encountered in log1p\n",
      "  np.log1p(X, out=X)\n",
      "/home/sergio/anaconda3/envs/xb/lib/python3.7/site-packages/scanpy/preprocessing/_simple.py:352: RuntimeWarning: invalid value encountered in log1p\n",
      "  np.log1p(X, out=X)\n"
     ]
    },
    {
     "name": "stdout",
     "output_type": "stream",
     "text": [
      "normTrue_lgTrue_ng12_pc20_ts1000_hvg_True_scale_False_leid lgTrue_ng12_pc20_ts1000_hvg_True_scale_False\n",
      "161\n"
     ]
    },
    {
     "name": "stderr",
     "output_type": "stream",
     "text": [
      "/home/sergio/anaconda3/envs/xb/lib/python3.7/site-packages/ipykernel_launcher.py:22: ImplicitModificationWarning: Trying to modify attribute `.X` of view, initializing view as actual.\n",
      "/home/sergio/anaconda3/envs/xb/lib/python3.7/contextlib.py:119: FutureWarning: X.dtype being converted to np.float32 from float64. In the next version of anndata (0.9) conversion will not be automatic. Pass dtype explicitly to avoid this warning. Pass `AnnData(X, dtype=X.dtype, ...)` to get the future behavour.\n",
      "  next(self.gen)\n"
     ]
    },
    {
     "name": "stdout",
     "output_type": "stream",
     "text": [
      "(18231, 49)\n",
      "162\n",
      "TrueFalseTrue[10, 100, 1000, None]\n",
      "163\n"
     ]
    },
    {
     "name": "stderr",
     "output_type": "stream",
     "text": [
      "/home/sergio/anaconda3/envs/xb/lib/python3.7/site-packages/scanpy/preprocessing/_simple.py:352: RuntimeWarning: divide by zero encountered in log1p\n",
      "  np.log1p(X, out=X)\n",
      "/home/sergio/anaconda3/envs/xb/lib/python3.7/site-packages/scanpy/preprocessing/_simple.py:352: RuntimeWarning: invalid value encountered in log1p\n",
      "  np.log1p(X, out=X)\n"
     ]
    },
    {
     "name": "stdout",
     "output_type": "stream",
     "text": [
      "(18231, 148)\n",
      "164\n"
     ]
    },
    {
     "name": "stderr",
     "output_type": "stream",
     "text": [
      "/home/sergio/anaconda3/envs/xb/lib/python3.7/site-packages/scanpy/preprocessing/_simple.py:352: RuntimeWarning: divide by zero encountered in log1p\n",
      "  np.log1p(X, out=X)\n",
      "/home/sergio/anaconda3/envs/xb/lib/python3.7/site-packages/scanpy/preprocessing/_utils.py:12: RuntimeWarning: invalid value encountered in subtract\n",
      "  var = mean_sq - mean**2\n",
      "/home/sergio/anaconda3/envs/xb/lib/python3.7/site-packages/scanpy/preprocessing/_simple.py:792: RuntimeWarning: invalid value encountered in subtract\n",
      "  X -= mean\n"
     ]
    },
    {
     "name": "stdout",
     "output_type": "stream",
     "text": [
      "(18231, 148)\n",
      "165\n",
      "TrueTrueFalse[10, 100, 1000, None]\n",
      "166\n"
     ]
    },
    {
     "name": "stderr",
     "output_type": "stream",
     "text": [
      "/home/sergio/anaconda3/envs/xb/lib/python3.7/site-packages/scanpy/preprocessing/_simple.py:352: RuntimeWarning: divide by zero encountered in log1p\n",
      "  np.log1p(X, out=X)\n",
      "/home/sergio/anaconda3/envs/xb/lib/python3.7/site-packages/scanpy/preprocessing/_simple.py:352: RuntimeWarning: invalid value encountered in log1p\n",
      "  np.log1p(X, out=X)\n"
     ]
    },
    {
     "name": "stdout",
     "output_type": "stream",
     "text": [
      "normTrue_lgTrue_ng12_pc20_ts1000_hvg_True_scale_True_leid lgTrue_ng12_pc20_ts1000_hvg_True_scale_True\n",
      "167\n"
     ]
    },
    {
     "name": "stderr",
     "output_type": "stream",
     "text": [
      "/home/sergio/anaconda3/envs/xb/lib/python3.7/site-packages/scanpy/preprocessing/_simple.py:843: UserWarning: Received a view of an AnnData. Making a copy.\n",
      "  view_to_actual(adata)\n",
      "/home/sergio/anaconda3/envs/xb/lib/python3.7/site-packages/scanpy/preprocessing/_simple.py:843: FutureWarning: X.dtype being converted to np.float32 from float64. In the next version of anndata (0.9) conversion will not be automatic. Pass dtype explicitly to avoid this warning. Pass `AnnData(X, dtype=X.dtype, ...)` to get the future behavour.\n",
      "  view_to_actual(adata)\n",
      "/home/sergio/anaconda3/envs/xb/lib/python3.7/site-packages/scanpy/preprocessing/_utils.py:12: RuntimeWarning: invalid value encountered in subtract\n",
      "  var = mean_sq - mean**2\n",
      "/home/sergio/anaconda3/envs/xb/lib/python3.7/site-packages/scanpy/preprocessing/_simple.py:792: RuntimeWarning: invalid value encountered in subtract\n",
      "  X -= mean\n"
     ]
    },
    {
     "name": "stdout",
     "output_type": "stream",
     "text": [
      "(18231, 49)\n",
      "168\n",
      "TrueTrueTrue[10, 100, 1000, None]\n",
      "169\n"
     ]
    },
    {
     "name": "stderr",
     "output_type": "stream",
     "text": [
      "/home/sergio/anaconda3/envs/xb/lib/python3.7/site-packages/scanpy/preprocessing/_simple.py:352: RuntimeWarning: divide by zero encountered in log1p\n",
      "  np.log1p(X, out=X)\n",
      "/home/sergio/anaconda3/envs/xb/lib/python3.7/site-packages/scanpy/preprocessing/_simple.py:352: RuntimeWarning: invalid value encountered in log1p\n",
      "  np.log1p(X, out=X)\n"
     ]
    },
    {
     "name": "stdout",
     "output_type": "stream",
     "text": [
      "(18231, 148)\n",
      "170\n"
     ]
    },
    {
     "name": "stderr",
     "output_type": "stream",
     "text": [
      "/home/sergio/anaconda3/envs/xb/lib/python3.7/site-packages/scanpy/preprocessing/_simple.py:352: RuntimeWarning: divide by zero encountered in log1p\n",
      "  np.log1p(X, out=X)\n"
     ]
    },
    {
     "name": "stdout",
     "output_type": "stream",
     "text": [
      "(18231, 148)\n",
      "171\n",
      "TrueFalseFalse[10, 100, 1000, None]\n",
      "172\n"
     ]
    },
    {
     "name": "stderr",
     "output_type": "stream",
     "text": [
      "/home/sergio/anaconda3/envs/xb/lib/python3.7/site-packages/scanpy/preprocessing/_simple.py:352: RuntimeWarning: divide by zero encountered in log1p\n",
      "  np.log1p(X, out=X)\n",
      "/home/sergio/anaconda3/envs/xb/lib/python3.7/site-packages/scanpy/preprocessing/_simple.py:352: RuntimeWarning: invalid value encountered in log1p\n",
      "  np.log1p(X, out=X)\n"
     ]
    },
    {
     "name": "stdout",
     "output_type": "stream",
     "text": [
      "normTrue_lgTrue_ng12_pc40_ts1000_hvg_True_scale_False_leid lgTrue_ng12_pc40_ts1000_hvg_True_scale_False\n",
      "173\n"
     ]
    },
    {
     "name": "stderr",
     "output_type": "stream",
     "text": [
      "/home/sergio/anaconda3/envs/xb/lib/python3.7/site-packages/ipykernel_launcher.py:22: ImplicitModificationWarning: Trying to modify attribute `.X` of view, initializing view as actual.\n",
      "/home/sergio/anaconda3/envs/xb/lib/python3.7/contextlib.py:119: FutureWarning: X.dtype being converted to np.float32 from float64. In the next version of anndata (0.9) conversion will not be automatic. Pass dtype explicitly to avoid this warning. Pass `AnnData(X, dtype=X.dtype, ...)` to get the future behavour.\n",
      "  next(self.gen)\n"
     ]
    },
    {
     "name": "stdout",
     "output_type": "stream",
     "text": [
      "(18231, 49)\n",
      "174\n",
      "TrueFalseTrue[10, 100, 1000, None]\n",
      "175\n"
     ]
    },
    {
     "name": "stderr",
     "output_type": "stream",
     "text": [
      "/home/sergio/anaconda3/envs/xb/lib/python3.7/site-packages/scanpy/preprocessing/_simple.py:352: RuntimeWarning: divide by zero encountered in log1p\n",
      "  np.log1p(X, out=X)\n",
      "/home/sergio/anaconda3/envs/xb/lib/python3.7/site-packages/scanpy/preprocessing/_simple.py:352: RuntimeWarning: invalid value encountered in log1p\n",
      "  np.log1p(X, out=X)\n"
     ]
    },
    {
     "name": "stdout",
     "output_type": "stream",
     "text": [
      "(18231, 148)\n",
      "176\n"
     ]
    },
    {
     "name": "stderr",
     "output_type": "stream",
     "text": [
      "/home/sergio/anaconda3/envs/xb/lib/python3.7/site-packages/scanpy/preprocessing/_simple.py:352: RuntimeWarning: divide by zero encountered in log1p\n",
      "  np.log1p(X, out=X)\n",
      "/home/sergio/anaconda3/envs/xb/lib/python3.7/site-packages/scanpy/preprocessing/_utils.py:12: RuntimeWarning: invalid value encountered in subtract\n",
      "  var = mean_sq - mean**2\n",
      "/home/sergio/anaconda3/envs/xb/lib/python3.7/site-packages/scanpy/preprocessing/_simple.py:792: RuntimeWarning: invalid value encountered in subtract\n",
      "  X -= mean\n"
     ]
    },
    {
     "name": "stdout",
     "output_type": "stream",
     "text": [
      "(18231, 148)\n",
      "177\n",
      "TrueTrueFalse[10, 100, 1000, None]\n",
      "178\n"
     ]
    },
    {
     "name": "stderr",
     "output_type": "stream",
     "text": [
      "/home/sergio/anaconda3/envs/xb/lib/python3.7/site-packages/scanpy/preprocessing/_simple.py:352: RuntimeWarning: divide by zero encountered in log1p\n",
      "  np.log1p(X, out=X)\n",
      "/home/sergio/anaconda3/envs/xb/lib/python3.7/site-packages/scanpy/preprocessing/_simple.py:352: RuntimeWarning: invalid value encountered in log1p\n",
      "  np.log1p(X, out=X)\n"
     ]
    },
    {
     "name": "stdout",
     "output_type": "stream",
     "text": [
      "normTrue_lgTrue_ng12_pc40_ts1000_hvg_True_scale_True_leid lgTrue_ng12_pc40_ts1000_hvg_True_scale_True\n",
      "179\n"
     ]
    },
    {
     "name": "stderr",
     "output_type": "stream",
     "text": [
      "/home/sergio/anaconda3/envs/xb/lib/python3.7/site-packages/scanpy/preprocessing/_simple.py:843: UserWarning: Received a view of an AnnData. Making a copy.\n",
      "  view_to_actual(adata)\n",
      "/home/sergio/anaconda3/envs/xb/lib/python3.7/site-packages/scanpy/preprocessing/_simple.py:843: FutureWarning: X.dtype being converted to np.float32 from float64. In the next version of anndata (0.9) conversion will not be automatic. Pass dtype explicitly to avoid this warning. Pass `AnnData(X, dtype=X.dtype, ...)` to get the future behavour.\n",
      "  view_to_actual(adata)\n",
      "/home/sergio/anaconda3/envs/xb/lib/python3.7/site-packages/scanpy/preprocessing/_utils.py:12: RuntimeWarning: invalid value encountered in subtract\n",
      "  var = mean_sq - mean**2\n",
      "/home/sergio/anaconda3/envs/xb/lib/python3.7/site-packages/scanpy/preprocessing/_simple.py:792: RuntimeWarning: invalid value encountered in subtract\n",
      "  X -= mean\n"
     ]
    },
    {
     "name": "stdout",
     "output_type": "stream",
     "text": [
      "(18231, 49)\n",
      "180\n",
      "TrueTrueTrue[10, 100, 1000, None]\n",
      "181\n"
     ]
    },
    {
     "name": "stderr",
     "output_type": "stream",
     "text": [
      "/home/sergio/anaconda3/envs/xb/lib/python3.7/site-packages/scanpy/preprocessing/_simple.py:352: RuntimeWarning: divide by zero encountered in log1p\n",
      "  np.log1p(X, out=X)\n",
      "/home/sergio/anaconda3/envs/xb/lib/python3.7/site-packages/scanpy/preprocessing/_simple.py:352: RuntimeWarning: invalid value encountered in log1p\n",
      "  np.log1p(X, out=X)\n"
     ]
    },
    {
     "name": "stdout",
     "output_type": "stream",
     "text": [
      "(18231, 148)\n",
      "182\n"
     ]
    },
    {
     "name": "stderr",
     "output_type": "stream",
     "text": [
      "/home/sergio/anaconda3/envs/xb/lib/python3.7/site-packages/scanpy/preprocessing/_simple.py:352: RuntimeWarning: divide by zero encountered in log1p\n",
      "  np.log1p(X, out=X)\n"
     ]
    },
    {
     "name": "stdout",
     "output_type": "stream",
     "text": [
      "(18231, 148)\n",
      "183\n",
      "TrueFalseFalse[10, 100, 1000, None]\n",
      "184\n"
     ]
    },
    {
     "name": "stderr",
     "output_type": "stream",
     "text": [
      "/home/sergio/anaconda3/envs/xb/lib/python3.7/site-packages/scanpy/preprocessing/_simple.py:352: RuntimeWarning: divide by zero encountered in log1p\n",
      "  np.log1p(X, out=X)\n",
      "/home/sergio/anaconda3/envs/xb/lib/python3.7/site-packages/scanpy/preprocessing/_simple.py:352: RuntimeWarning: invalid value encountered in log1p\n",
      "  np.log1p(X, out=X)\n"
     ]
    },
    {
     "name": "stdout",
     "output_type": "stream",
     "text": [
      "normTrue_lgTrue_ng16_pc0_ts1000_hvg_True_scale_False_leid lgTrue_ng16_pc0_ts1000_hvg_True_scale_False\n",
      "185\n"
     ]
    },
    {
     "name": "stderr",
     "output_type": "stream",
     "text": [
      "/home/sergio/anaconda3/envs/xb/lib/python3.7/site-packages/ipykernel_launcher.py:22: ImplicitModificationWarning: Trying to modify attribute `.X` of view, initializing view as actual.\n",
      "/home/sergio/anaconda3/envs/xb/lib/python3.7/contextlib.py:119: FutureWarning: X.dtype being converted to np.float32 from float64. In the next version of anndata (0.9) conversion will not be automatic. Pass dtype explicitly to avoid this warning. Pass `AnnData(X, dtype=X.dtype, ...)` to get the future behavour.\n",
      "  next(self.gen)\n"
     ]
    },
    {
     "name": "stdout",
     "output_type": "stream",
     "text": [
      "(18231, 49)\n",
      "186\n",
      "TrueFalseTrue[10, 100, 1000, None]\n",
      "187\n"
     ]
    },
    {
     "name": "stderr",
     "output_type": "stream",
     "text": [
      "/home/sergio/anaconda3/envs/xb/lib/python3.7/site-packages/scanpy/preprocessing/_simple.py:352: RuntimeWarning: divide by zero encountered in log1p\n",
      "  np.log1p(X, out=X)\n",
      "/home/sergio/anaconda3/envs/xb/lib/python3.7/site-packages/scanpy/preprocessing/_simple.py:352: RuntimeWarning: invalid value encountered in log1p\n",
      "  np.log1p(X, out=X)\n"
     ]
    },
    {
     "name": "stdout",
     "output_type": "stream",
     "text": [
      "(18231, 148)\n",
      "188\n"
     ]
    },
    {
     "name": "stderr",
     "output_type": "stream",
     "text": [
      "/home/sergio/anaconda3/envs/xb/lib/python3.7/site-packages/scanpy/preprocessing/_simple.py:352: RuntimeWarning: divide by zero encountered in log1p\n",
      "  np.log1p(X, out=X)\n",
      "/home/sergio/anaconda3/envs/xb/lib/python3.7/site-packages/scanpy/preprocessing/_utils.py:12: RuntimeWarning: invalid value encountered in subtract\n",
      "  var = mean_sq - mean**2\n",
      "/home/sergio/anaconda3/envs/xb/lib/python3.7/site-packages/scanpy/preprocessing/_simple.py:792: RuntimeWarning: invalid value encountered in subtract\n",
      "  X -= mean\n"
     ]
    },
    {
     "name": "stdout",
     "output_type": "stream",
     "text": [
      "(18231, 148)\n",
      "189\n",
      "TrueTrueFalse[10, 100, 1000, None]\n",
      "190\n"
     ]
    },
    {
     "name": "stderr",
     "output_type": "stream",
     "text": [
      "/home/sergio/anaconda3/envs/xb/lib/python3.7/site-packages/scanpy/preprocessing/_simple.py:352: RuntimeWarning: divide by zero encountered in log1p\n",
      "  np.log1p(X, out=X)\n",
      "/home/sergio/anaconda3/envs/xb/lib/python3.7/site-packages/scanpy/preprocessing/_simple.py:352: RuntimeWarning: invalid value encountered in log1p\n",
      "  np.log1p(X, out=X)\n"
     ]
    },
    {
     "name": "stdout",
     "output_type": "stream",
     "text": [
      "normTrue_lgTrue_ng16_pc0_ts1000_hvg_True_scale_True_leid lgTrue_ng16_pc0_ts1000_hvg_True_scale_True\n",
      "191\n"
     ]
    },
    {
     "name": "stderr",
     "output_type": "stream",
     "text": [
      "/home/sergio/anaconda3/envs/xb/lib/python3.7/site-packages/scanpy/preprocessing/_simple.py:843: UserWarning: Received a view of an AnnData. Making a copy.\n",
      "  view_to_actual(adata)\n",
      "/home/sergio/anaconda3/envs/xb/lib/python3.7/site-packages/scanpy/preprocessing/_simple.py:843: FutureWarning: X.dtype being converted to np.float32 from float64. In the next version of anndata (0.9) conversion will not be automatic. Pass dtype explicitly to avoid this warning. Pass `AnnData(X, dtype=X.dtype, ...)` to get the future behavour.\n",
      "  view_to_actual(adata)\n",
      "/home/sergio/anaconda3/envs/xb/lib/python3.7/site-packages/scanpy/preprocessing/_utils.py:12: RuntimeWarning: invalid value encountered in subtract\n",
      "  var = mean_sq - mean**2\n",
      "/home/sergio/anaconda3/envs/xb/lib/python3.7/site-packages/scanpy/preprocessing/_simple.py:792: RuntimeWarning: invalid value encountered in subtract\n",
      "  X -= mean\n"
     ]
    },
    {
     "name": "stdout",
     "output_type": "stream",
     "text": [
      "(18231, 49)\n",
      "192\n",
      "TrueTrueTrue[10, 100, 1000, None]\n",
      "193\n"
     ]
    },
    {
     "name": "stderr",
     "output_type": "stream",
     "text": [
      "/home/sergio/anaconda3/envs/xb/lib/python3.7/site-packages/scanpy/preprocessing/_simple.py:352: RuntimeWarning: divide by zero encountered in log1p\n",
      "  np.log1p(X, out=X)\n",
      "/home/sergio/anaconda3/envs/xb/lib/python3.7/site-packages/scanpy/preprocessing/_simple.py:352: RuntimeWarning: invalid value encountered in log1p\n",
      "  np.log1p(X, out=X)\n"
     ]
    },
    {
     "name": "stdout",
     "output_type": "stream",
     "text": [
      "(18231, 148)\n",
      "194\n"
     ]
    },
    {
     "name": "stderr",
     "output_type": "stream",
     "text": [
      "/home/sergio/anaconda3/envs/xb/lib/python3.7/site-packages/scanpy/preprocessing/_simple.py:352: RuntimeWarning: divide by zero encountered in log1p\n",
      "  np.log1p(X, out=X)\n"
     ]
    },
    {
     "name": "stdout",
     "output_type": "stream",
     "text": [
      "(18231, 148)\n",
      "195\n",
      "TrueFalseFalse[10, 100, 1000, None]\n",
      "196\n"
     ]
    },
    {
     "name": "stderr",
     "output_type": "stream",
     "text": [
      "/home/sergio/anaconda3/envs/xb/lib/python3.7/site-packages/scanpy/preprocessing/_simple.py:352: RuntimeWarning: divide by zero encountered in log1p\n",
      "  np.log1p(X, out=X)\n",
      "/home/sergio/anaconda3/envs/xb/lib/python3.7/site-packages/scanpy/preprocessing/_simple.py:352: RuntimeWarning: invalid value encountered in log1p\n",
      "  np.log1p(X, out=X)\n"
     ]
    },
    {
     "name": "stdout",
     "output_type": "stream",
     "text": [
      "normTrue_lgTrue_ng16_pc20_ts1000_hvg_True_scale_False_leid lgTrue_ng16_pc20_ts1000_hvg_True_scale_False\n",
      "197\n"
     ]
    },
    {
     "name": "stderr",
     "output_type": "stream",
     "text": [
      "/home/sergio/anaconda3/envs/xb/lib/python3.7/site-packages/ipykernel_launcher.py:22: ImplicitModificationWarning: Trying to modify attribute `.X` of view, initializing view as actual.\n",
      "/home/sergio/anaconda3/envs/xb/lib/python3.7/contextlib.py:119: FutureWarning: X.dtype being converted to np.float32 from float64. In the next version of anndata (0.9) conversion will not be automatic. Pass dtype explicitly to avoid this warning. Pass `AnnData(X, dtype=X.dtype, ...)` to get the future behavour.\n",
      "  next(self.gen)\n"
     ]
    },
    {
     "name": "stdout",
     "output_type": "stream",
     "text": [
      "(18231, 49)\n"
     ]
    }
   ],
   "source": [
    "mainpath='../../data/scRNAseq_for_simulations/'\n",
    "datasets=os.listdir(mainpath)\n",
    "datasets=[d for d in datasets if d!='.ipynb_checkpoints']\n",
    "for d in range(0,len(datasets)):\n",
    "    try:\n",
    "        print('##################################### Dataset '+str(d))\n",
    "        dataset_path=mainpath+datasets[d]\n",
    "        #reread single cell data since we need the updated version LUNG DEV\n",
    "        adata_sc_sub=sc.read(dataset_path+'/original_adata.h5ad')\n",
    "        adata_sc_sub.X=adata_sc_sub.X.todense()\n",
    "        markers=pd.read_csv(dataset_path+'/markers.csv',index_col=0)\n",
    "        total_genes=250\n",
    "        random_markers_perc=0\n",
    "        reads_x_cell=None\n",
    "        n_reads_x_gene=20\n",
    "        percentage_of_noise=0.05\n",
    "        misseg_percentage=0.05\n",
    "        adata_sc=subset_of_single_cell(adata_sc_sub,markers,random_markers_percentage=random_markers_perc,\n",
    "                                       reads_x_cell=reads_x_cell,number_of_markers=total_genes,\n",
    "                                      n_reads_x_gene=n_reads_x_gene,percentage_of_noise=percentage_of_noise,\n",
    "                                      ms_percentage=misseg_percentage)\n",
    "        # calculate all simulations\n",
    "        allres=allcombs_simulated(adata_sc,default_key='cell_type')\n",
    "        allres.to_csv(dataset_path+'/final_allresults.csv')\n",
    "    except:\n",
    "        print('Dataset not possible '+ str(d))"
   ]
  }
 ],
 "metadata": {
  "kernelspec": {
   "display_name": "xb",
   "language": "python",
   "name": "xb"
  },
  "language_info": {
   "codemirror_mode": {
    "name": "ipython",
    "version": 3
   },
   "file_extension": ".py",
   "mimetype": "text/x-python",
   "name": "python",
   "nbconvert_exporter": "python",
   "pygments_lexer": "ipython3",
   "version": "3.7.13"
  }
 },
 "nbformat": 4,
 "nbformat_minor": 5
}
