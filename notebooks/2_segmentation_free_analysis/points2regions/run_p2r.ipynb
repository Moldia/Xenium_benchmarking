{
 "cells": [
  {
   "cell_type": "code",
   "execution_count": 1,
   "id": "62ed690c-b841-4433-b940-195dea16b6f2",
   "metadata": {},
   "outputs": [],
   "source": [
    "import scanpy as sc\n",
    "from scipy import sparse\n",
    "import tifffile\n",
    "import pandas as pd\n",
    "from Points2Regions import points2regions\n",
    "\n",
    "import pandas as pd"
   ]
  },
  {
   "cell_type": "markdown",
   "id": "07cb1ac6",
   "metadata": {},
   "source": [
    "Compute DAPI pixel intensity per transcript:"
   ]
  },
  {
   "cell_type": "code",
   "execution_count": null,
   "id": "a7cb6832-87b1-470f-a3fe-4acea536acfb",
   "metadata": {},
   "outputs": [],
   "source": [
    "adata_processed = sc.read_h5ad(\"data/adata_multisection_nuclei_3rep_withHM_withclusters.h5ad\")\n",
    "for i in [2]:\n",
    "    with tifffile.TiffFile(f'data/background_sample{i}.tiff') as tif:\n",
    "        image = tif.pages[0].asarray()\n",
    "\n",
    "    def get_pixel (row):\n",
    "        global image\n",
    "        pixels_per_micron = 4.70588\n",
    "        pixel_x, pixel_y = row['x_location'], row['y_location']\n",
    "        return image[int(pixel_y * pixels_per_micron), int(pixel_x * pixels_per_micron)]\n",
    "\n",
    "    print (f\"data/ms_brain_multisection{i}.h5ad\")\n",
    "    adata = sc.read_h5ad(f\"data/ms_brain_multisection{i}.h5ad\")\n",
    "    data = adata.uns[\"spots\"]\n",
    "    data[\"pixel_intensity\"] = data.apply (lambda row: get_pixel(row), axis=1)\n",
    "    print (adata.uns[\"spots\"])\n",
    "\n",
    "    cell_id_to_class = adata_processed.obs.query(f\"replicate=='{i}'\").set_index(\"cell_id\")[\"Class\"].to_dict()\n",
    "\n",
    "    # Update adata.uns[\"spots\"] with the merged data\n",
    "    adata.uns[\"spots\"][\"Class\"] = adata.uns[\"spots\"][\"cell_id\"].map(cell_id_to_class)\n",
    "    adata.uns[\"spots\"].fillna('Background', inplace=True)\n",
    "    adata.uns[\"spots\"][\"Class\"] = pd.Categorical(adata.uns[\"spots\"][\"Class\"])\n",
    "\n",
    "    adata.write_h5ad(f'output/ms_brain_multisection{i}_pixel_intensity.h5ad')"
   ]
  },
  {
   "cell_type": "markdown",
   "id": "31d4acdf",
   "metadata": {},
   "source": [
    "Compute Points2Region clusters with 100, 200 and 500 clusters:"
   ]
  },
  {
   "cell_type": "code",
   "execution_count": null,
   "id": "48e8bebc-3a53-47d7-aa08-d8c22af6c025",
   "metadata": {},
   "outputs": [],
   "source": [
    "# For each replicate, run points2regions with different parameters\n",
    "for i in [2]:\n",
    "    print (f\"data/ms_brain_multisection{i}_pixel_intensity.h5ad\")\n",
    "    adata = sc.read_h5ad(f\"output/ms_brain_multisection{i}_pixel_intensity.h5ad\")\n",
    "\n",
    "    data = adata.uns[\"spots\"]\n",
    "    xy = data[['x_location', 'y_location']].to_numpy()\n",
    "    genes = data['feature_name'].to_numpy()\n",
    "    sigma = 3.0\n",
    "    bin_width = 1.0\n",
    "    min_genes_per_bin = 15\n",
    "    for n_clusters in [500, 200, 100]:\n",
    "        adata_out = points2regions(xy, genes, sigma, n_clusters, bin_width, min_genes_per_bin, groupids=None, return_anndata=True)\n",
    "        adata_out.uns[\"reads\"] = pd.concat([\n",
    "            data.reset_index(drop=True, inplace=False),\n",
    "            adata_out.uns[\"reads\"][[\"points2regions\"]].reset_index(drop=True, inplace=False)\n",
    "        ], axis=1)\n",
    "        \n",
    "        print (\"Saving AnnData\")\n",
    "        adata_out.X = sparse.csc_matrix(adata_out.X)\n",
    "        adata_out.write_h5ad(f'output/ms_brain_multisection{i}_spots_sigma{sigma}_stride{bin_width}_clusters{n_clusters}.h5ad')"
   ]
  }
 ],
 "metadata": {
  "kernelspec": {
   "display_name": "Python 3 (ipykernel)",
   "language": "python",
   "name": "python3"
  },
  "language_info": {
   "codemirror_mode": {
    "name": "ipython",
    "version": 3
   },
   "file_extension": ".py",
   "mimetype": "text/x-python",
   "name": "python",
   "nbconvert_exporter": "python",
   "pygments_lexer": "ipython3",
   "version": "3.8.8"
  },
  "widgets": {
   "application/vnd.jupyter.widget-state+json": {
    "state": {},
    "version_major": 2,
    "version_minor": 0
   }
  }
 },
 "nbformat": 4,
 "nbformat_minor": 5
}
