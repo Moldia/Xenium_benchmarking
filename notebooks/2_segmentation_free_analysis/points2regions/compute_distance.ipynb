{
 "cells": [
  {
   "cell_type": "code",
   "execution_count": null,
   "id": "a804d03a-5603-41dc-9cfd-0e221ec57168",
   "metadata": {},
   "outputs": [],
   "source": [
    "import pandas as pd\n",
    "from tqdm import tqdm\n",
    "import numpy as np\n",
    "from scipy.spatial.distance import cdist"
   ]
  },
  {
   "cell_type": "code",
   "execution_count": null,
   "id": "eadedd8d-badb-4a6c-be5e-6ef38416ce78",
   "metadata": {},
   "outputs": [],
   "source": [
    "clusters = 100\n",
    "\n",
    "df = pd.read_csv(f\"./ms_brain_multisection2_spots_sigma3.0_stride1.0_clusters{clusters}-allinfo.csv\")"
   ]
  },
  {
   "cell_type": "markdown",
   "id": "1716ddd9",
   "metadata": {},
   "source": [
    "Compute distance to the nucleus membrane for each transcript, using 10x nuclei membranes and cell index of transcripts."
   ]
  },
  {
   "cell_type": "code",
   "execution_count": null,
   "id": "ae461534",
   "metadata": {},
   "outputs": [],
   "source": [
    "# import nuclei boundaries from 10x\n",
    "nuclei_boundaries = pd.read_csv('nucleus_boundaries.csv')\n",
    "\n",
    "# Create an empty list to store the data for the new dataframe\n",
    "new_data = []\n",
    "\n",
    "# Define the number of interpolated points in the nucleus boundary\n",
    "num_interpolated_points = 5\n",
    "\n",
    "# Group df by 'cell_id'\n",
    "grouped_df = df.groupby('cell_id')\n",
    "\n",
    "# Iterate over unique 'cell_id' values\n",
    "for cell_id, group in tqdm(grouped_df):\n",
    "    if cell_id == -1:\n",
    "        continue\n",
    "    # Filter the corresponding nucleus boundaries\n",
    "    nucleus_boundaries = nuclei_boundaries[nuclei_boundaries['cell_id'] == cell_id]\n",
    "\n",
    "    # Create interpolated points between nucleus boundary points\n",
    "    interpolated_points = []\n",
    "    for i in range(len(nucleus_boundaries) - 1):\n",
    "        for j in range(num_interpolated_points):\n",
    "            t = j / num_interpolated_points\n",
    "            x_interpolated = (1 - t) * nucleus_boundaries.iloc[i]['vertex_x'] + t * nucleus_boundaries.iloc[i + 1]['vertex_x']\n",
    "            y_interpolated = (1 - t) * nucleus_boundaries.iloc[i]['vertex_y'] + t * nucleus_boundaries.iloc[i + 1]['vertex_y']\n",
    "            interpolated_points.append((x_interpolated, y_interpolated))\n",
    "\n",
    "    # Combine nucleus boundary points and interpolated points\n",
    "    all_points = np.concatenate((nucleus_boundaries[['vertex_x', 'vertex_y']].values, interpolated_points), axis=0)\n",
    "\n",
    "    # Calculate the Euclidean distance for each point in 'group' to all points\n",
    "    distance_matrix = cdist(group[['x_location', 'y_location']], all_points, metric='euclidean')\n",
    "\n",
    "    # Find the minimum distance for each row in 'group'\n",
    "    min_distances = distance_matrix.min(axis=1)\n",
    "\n",
    "    # Determine whether 'overlaps_nucleus' is 0 or 1 and assign positive or negative distances\n",
    "    min_distances = np.where(group['overlaps_nucleus'] == 0, min_distances, -min_distances)\n",
    "\n",
    "    # Append the results to 'new_data'\n",
    "    new_data.extend(zip(group.index, min_distances))\n",
    "\n",
    "# Create a new dataframe from 'new_data'\n",
    "result_df = pd.DataFrame(new_data, columns=['index', 'distance_nuc_border'])\n",
    "\n",
    "# Set 'index' as the index of the resulting dataframe (if needed)\n",
    "result_df.set_index('index', inplace=True)\n",
    "\n",
    "# Combine the resulting dataframe with the original dataframe 'df'\n",
    "df = pd.concat([df, result_df], axis=1)"
   ]
  },
  {
   "cell_type": "markdown",
   "id": "35f8317e",
   "metadata": {},
   "source": [
    "Update 'distance_nuc_border' column based on 'overlaps_nucleus' column (negative inside, positive outside)"
   ]
  },
  {
   "cell_type": "code",
   "execution_count": 31,
   "id": "6d1763c6",
   "metadata": {},
   "outputs": [],
   "source": [
    "df['distance_nuc_border'] = np.where(df['overlaps_nucleus'] == 0, df['distance_nuc_border'], -df['distance_nuc_border'])"
   ]
  },
  {
   "cell_type": "markdown",
   "id": "4eea8fe0",
   "metadata": {},
   "source": [
    "Save the csv file with distance to nucleus membrane for each transcript"
   ]
  },
  {
   "cell_type": "code",
   "execution_count": 83,
   "id": "9178a272",
   "metadata": {},
   "outputs": [],
   "source": [
    "df.to_csv(\"ms_brain_multisection2_spots_sigma3.0_stride1.0_clusters100-distance.csv\", index=False)"
   ]
  }
 ],
 "metadata": {
  "kernelspec": {
   "display_name": "Python 3 (ipykernel)",
   "language": "python",
   "name": "python3"
  },
  "language_info": {
   "codemirror_mode": {
    "name": "ipython",
    "version": 3
   },
   "file_extension": ".py",
   "mimetype": "text/x-python",
   "name": "python",
   "nbconvert_exporter": "python",
   "pygments_lexer": "ipython3",
   "version": "3.8.12"
  },
  "widgets": {
   "application/vnd.jupyter.widget-state+json": {
    "state": {},
    "version_major": 2,
    "version_minor": 0
   }
  }
 },
 "nbformat": 4,
 "nbformat_minor": 5
}
