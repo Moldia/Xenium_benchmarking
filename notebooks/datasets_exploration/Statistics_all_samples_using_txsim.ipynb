{
 "cells": [
  {
   "cell_type": "code",
   "execution_count": 1,
   "id": "5bcecded",
   "metadata": {},
   "outputs": [],
   "source": [
    "import txsim as tx\n",
    "import scanpy as sc\n",
    "import os\n",
    "import pandas as pd\n",
    "from anndata import AnnData\n",
    "import numpy as np\n",
    "#from scipy.spatial import ConvexHull, convex_hull_plot_2d\n",
    "import xb.formatting as xf"
   ]
  },
  {
   "cell_type": "code",
   "execution_count": 2,
   "id": "80b7bda5",
   "metadata": {},
   "outputs": [],
   "source": [
    "maindir='../../data/unprocessed_adata'\n",
    "files=os.listdir(maindir)"
   ]
  },
  {
   "cell_type": "code",
   "execution_count": 6,
   "id": "def2909b",
   "metadata": {},
   "outputs": [],
   "source": [
    "for fl in files:\n",
    "    adata=sc.read(maindir+'/'+fl)\n",
    "    adata=adata[:,adata.var['in_panel']]\n",
    "    adata.layers['lognorm']=adata.X\n",
    "    adata.layers['raw']=adata.X\n",
    "    adata.uns['spots']['x']=adata.uns['spots']['x_location']\n",
    "    adata.uns['spots']['y']=adata.uns['spots']['y_location']\n",
    "    adata.obs['x']=list(adata.obs['x_centroid'])\n",
    "    adata.obs['y']=list(adata.obs['y_centroid'])\n",
    "    qlm1=tx.quality_metrics._combined.all_quality_metrics(adata)\n",
    "    qlm1.columns=[fl[:-5]]\n",
    "    qlm1.loc['area',fl[:-5]]=float(xf.cell_area(adata))\n",
    "    qlm1.loc['reads_prop_qv>20',fl[:-5]]=np.sum(adata.uns['spots'].loc[:,'qv']>20)/adata.uns['spots'].shape[0]\n",
    "    qlm1.loc['total_reads',fl[:-5]]=adata.uns['spots'].shape[0]\n",
    "    qlm1.loc['prop_reads_in_panel',fl[:-5]]=np.sum(adata.uns['spots']['feature_name'].isin(adata.var.index[adata.var['in_panel']]))/adata.uns['spots'].shape[0]\n",
    "    qlm1.loc['prop_reads_assigned_to_cells',fl[:-5]]=int(np.sum(adata.X))/np.sum(adata.uns['spots']['feature_name'].isin(adata.var.index[adata.var['in_panel']]))\n",
    "    try: \n",
    "        out=pd.merge(out,qlm1,right_index=True,left_index=True)\n",
    "    except:\n",
    "        out=qlm1"
   ]
  },
  {
   "cell_type": "code",
   "execution_count": 7,
   "id": "a4cc54f1",
   "metadata": {},
   "outputs": [],
   "source": [
    "out=out.round(2)"
   ]
  },
  {
   "cell_type": "code",
   "execution_count": 8,
   "id": "bdb6622c",
   "metadata": {},
   "outputs": [],
   "source": [
    "out.to_csv(r'../../figures/tables/supp1_raw_information.csv')"
   ]
  }
 ],
 "metadata": {
  "kernelspec": {
   "display_name": "xenium_benchmarking",
   "language": "python",
   "name": "xenium_benchmarking"
  },
  "language_info": {
   "codemirror_mode": {
    "name": "ipython",
    "version": 3
   },
   "file_extension": ".py",
   "mimetype": "text/x-python",
   "name": "python",
   "nbconvert_exporter": "python",
   "pygments_lexer": "ipython3",
   "version": "3.8.10"
  }
 },
 "nbformat": 4,
 "nbformat_minor": 5
}
