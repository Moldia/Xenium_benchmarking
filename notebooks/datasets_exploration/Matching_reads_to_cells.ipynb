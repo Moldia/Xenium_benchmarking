{
 "cells": [
  {
   "cell_type": "markdown",
   "id": "ff8f8d5c",
   "metadata": {},
   "source": [
    "This script is used to map individual transcripts to cell gene_identity"
   ]
  },
  {
   "cell_type": "code",
   "execution_count": 2,
   "id": "b8a2745f",
   "metadata": {},
   "outputs": [],
   "source": [
    "import numpy as np\n",
    "import pandas as pd\n",
    "import scanpy as sc\n",
    "import seaborn as sns\n",
    "import matplotlib.pyplot as plt\n",
    "import xb.plotting as xp"
   ]
  },
  {
   "cell_type": "markdown",
   "id": "dcc26584",
   "metadata": {},
   "source": [
    "# We load the original dataset"
   ]
  },
  {
   "cell_type": "code",
   "execution_count": 17,
   "id": "c3356f91",
   "metadata": {},
   "outputs": [],
   "source": [
    "repli='1'\n",
    "adata1=sc.read(r\"../../data/unprocessed_adata/ms_brain_rep1.h5ad\")\n",
    "adata1.obs['replicate']=repli"
   ]
  },
  {
   "cell_type": "markdown",
   "id": "e6c84758",
   "metadata": {},
   "source": [
    "We load the adata with annotations and subsample the replicate we aim to match"
   ]
  },
  {
   "cell_type": "code",
   "execution_count": 13,
   "id": "58115fde",
   "metadata": {},
   "outputs": [],
   "source": [
    "path=r'../../data/processed_adata/'\n",
    "adata=sc.read(path+'/adata_msbrain_3rep_withclusters.h5ad')\n",
    "adata_anno1=adata[adata.obs['replicate']==repli]"
   ]
  },
  {
   "cell_type": "code",
   "execution_count": 14,
   "id": "fdbc39c2",
   "metadata": {},
   "outputs": [],
   "source": [
    "transcript=adata1.uns['spots']\n",
    "cell_id_dictio=dictio=dict(zip(adata_anno1.obs['cell_id'],adata_anno1.obs['initial_annotation']))\n",
    "transcript['cluster']=transcript['cell_id'].map(cell_id_dictio)\n",
    "transcript['x_location']=transcript['x_location']*4.70588\n",
    "transcript['y_location']=transcript['y_location']*4.70588"
   ]
  },
  {
   "cell_type": "markdown",
   "id": "5aafdb8c",
   "metadata": {},
   "source": [
    "# We save the read_to_celltype_assignment"
   ]
  },
  {
   "cell_type": "code",
   "execution_count": 18,
   "id": "2ae04c15",
   "metadata": {},
   "outputs": [],
   "source": [
    "transcript.to_csv(r'../../data/read_to_celltype_assignment/transcript_info_with_celltype'+repli+'.csv')"
   ]
  },
  {
   "cell_type": "markdown",
   "id": "3561584b",
   "metadata": {},
   "source": [
    "# We repeat this for other replicates"
   ]
  },
  {
   "cell_type": "code",
   "execution_count": 19,
   "id": "38b7c827",
   "metadata": {},
   "outputs": [],
   "source": [
    "repli='2'\n",
    "adata1=sc.read(r\"../../data/unprocessed_adata/ms_brain_rep1.h5ad\")\n",
    "adata1.obs['replicate']=repli\n",
    "path=r'../../data/processed_adata/'\n",
    "adata=sc.read(path+'/adata_msbrain_3rep_withclusters.h5ad')\n",
    "adata_anno1=adata[adata.obs['replicate']==repli]\n",
    "transcript=adata1.uns['spots']\n",
    "cell_id_dictio=dictio=dict(zip(adata_anno1.obs['cell_id'],adata_anno1.obs['initial_annotation']))\n",
    "transcript['cluster']=transcript['cell_id'].map(cell_id_dictio)\n",
    "transcript['x_location']=transcript['x_location']*4.70588\n",
    "transcript['y_location']=transcript['y_location']*4.70588\n",
    "transcript.to_csv(r'../../data/read_to_celltype_assignment/transcript_info_with_celltype'+repli+'.csv')"
   ]
  },
  {
   "cell_type": "code",
   "execution_count": 20,
   "id": "6c3ff3b9",
   "metadata": {},
   "outputs": [],
   "source": [
    "repli='3'\n",
    "adata1=sc.read(r\"../../data/unprocessed_adata/ms_brain_rep1.h5ad\")\n",
    "adata1.obs['replicate']=repli\n",
    "path=r'../../data/processed_adata/'\n",
    "adata=sc.read(path+'/adata_msbrain_3rep_withclusters.h5ad')\n",
    "adata_anno1=adata[adata.obs['replicate']==repli]\n",
    "transcript=adata1.uns['spots']\n",
    "cell_id_dictio=dictio=dict(zip(adata_anno1.obs['cell_id'],adata_anno1.obs['initial_annotation']))\n",
    "transcript['cluster']=transcript['cell_id'].map(cell_id_dictio)\n",
    "transcript['x_location']=transcript['x_location']*4.70588\n",
    "transcript['y_location']=transcript['y_location']*4.70588\n",
    "transcript.to_csv(r'../../data/read_to_celltype_assignment/transcript_info_with_celltype'+repli+'.csv')"
   ]
  },
  {
   "cell_type": "code",
   "execution_count": null,
   "id": "db175673",
   "metadata": {},
   "outputs": [],
   "source": []
  }
 ],
 "metadata": {
  "kernelspec": {
   "display_name": "xenium_benchmarking",
   "language": "python",
   "name": "xenium_benchmarking"
  },
  "language_info": {
   "codemirror_mode": {
    "name": "ipython",
    "version": 3
   },
   "file_extension": ".py",
   "mimetype": "text/x-python",
   "name": "python",
   "nbconvert_exporter": "python",
   "pygments_lexer": "ipython3",
   "version": "3.8.10"
  }
 },
 "nbformat": 4,
 "nbformat_minor": 5
}
