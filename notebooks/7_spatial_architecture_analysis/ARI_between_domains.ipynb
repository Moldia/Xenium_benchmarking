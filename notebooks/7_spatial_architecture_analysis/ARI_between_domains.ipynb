{
 "cells": [
  {
   "cell_type": "markdown",
   "id": "b43c367a",
   "metadata": {},
   "source": [
    "# Load packages"
   ]
  },
  {
   "cell_type": "code",
   "execution_count": 14,
   "id": "027adf42",
   "metadata": {},
   "outputs": [],
   "source": [
    "import sklearn.metrics as sk\n",
    "import scanpy as sc\n",
    "import pandas as pd"
   ]
  },
  {
   "cell_type": "code",
   "execution_count": 3,
   "id": "6ab87f2f",
   "metadata": {},
   "outputs": [],
   "source": [
    "adata=sc.read('../../data/processed_adata/adata_msbrain_3rep_withclusters_only_cytoplasm.h5ad')"
   ]
  },
  {
   "cell_type": "code",
   "execution_count": 10,
   "id": "bbaa30cc",
   "metadata": {},
   "outputs": [],
   "source": [
    "adata1=adata[adata.obs['replicate']=='1']\n",
    "spagcn=sc.read('../../data/processed_adata/msbrain_spagcn_rep1.h5')"
   ]
  },
  {
   "cell_type": "code",
   "execution_count": 16,
   "id": "b8a07f6c",
   "metadata": {},
   "outputs": [],
   "source": [
    "merged=pd.merge(adata1.obs,spagcn.obs,on='cell_id')"
   ]
  },
  {
   "cell_type": "code",
   "execution_count": 22,
   "id": "9d39bd44",
   "metadata": {},
   "outputs": [
    {
     "data": {
      "text/plain": [
       "0.47599463278284887"
      ]
     },
     "execution_count": 22,
     "metadata": {},
     "output_type": "execute_result"
    }
   ],
   "source": [
    "# This is the ARI score between domains\n",
    "sk.adjusted_rand_score(merged['initial_annotation_x'], merged['spagcn_domains'])"
   ]
  },
  {
   "cell_type": "code",
   "execution_count": null,
   "id": "b0f081e6",
   "metadata": {},
   "outputs": [],
   "source": []
  }
 ],
 "metadata": {
  "kernelspec": {
   "display_name": "spatial2022",
   "language": "python",
   "name": "spatial2022"
  },
  "language_info": {
   "codemirror_mode": {
    "name": "ipython",
    "version": 3
   },
   "file_extension": ".py",
   "mimetype": "text/x-python",
   "name": "python",
   "nbconvert_exporter": "python",
   "pygments_lexer": "ipython3",
   "version": "3.9.13"
  }
 },
 "nbformat": 4,
 "nbformat_minor": 5
}
