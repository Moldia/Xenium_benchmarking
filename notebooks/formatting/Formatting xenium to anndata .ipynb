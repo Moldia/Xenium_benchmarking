{
 "cells": [
  {
   "cell_type": "markdown",
   "metadata": {},
   "source": [
    "# Loading the packages"
   ]
  },
  {
   "cell_type": "code",
   "execution_count": 1,
   "metadata": {},
   "outputs": [],
   "source": [
    "import os.path\n",
    "from scipy.io import mmread\n",
    "import xb.formatting as xf"
   ]
  },
  {
   "cell_type": "markdown",
   "metadata": {},
   "source": [
    "# Example of formatting"
   ]
  },
  {
   "cell_type": "markdown",
   "metadata": {},
   "source": [
    "We input the path wher our original xenium data is and we use ```format_xenium_data``` to transform the datasets"
   ]
  },
  {
   "cell_type": "code",
   "execution_count": 2,
   "metadata": {},
   "outputs": [
    {
     "name": "stderr",
     "output_type": "stream",
     "text": [
      "/mnt/c/Users/sergio.salas/Desktop/Xenium_benchmarking-main/Xenium_benchmarking-main/xb/formatting.py:44: FutureWarning: X.dtype being converted to np.float32 from int64. In the next version of anndata (0.9) conversion will not be automatic. Pass dtype explicitly to avoid this warning. Pass `AnnData(X, dtype=X.dtype, ...)` to get the future behavour.\n",
      "  adata=sc.AnnData(ad.transpose(),obs=cell_info,var=features)\n",
      "/home/sergioms/.local/lib/python3.8/site-packages/anndata/_core/anndata.py:121: ImplicitModificationWarning: Transforming to str index.\n",
      "  warnings.warn(\"Transforming to str index.\", ImplicitModificationWarning)\n"
     ]
    },
    {
     "data": {
      "text/plain": [
       "AnnData object with n_obs × n_vars = 26372 × 541\n",
       "    obs: 'cell_id', 'x_centroid', 'y_centroid', 'transcript_counts', 'control_probe_counts', 'control_codeword_counts', 'total_counts', 'cell_area', 'nucleus_area', 'graph_clusters', 'kmeans2_clusters', 'kmeans3_clusters', 'kmeans4_clusters', 'kmeans5_clusters', 'kmeans6_clusters', 'kmeans7_clusters', 'kmeans8_clusters', 'kmeans9_clusters', 'kmeans10_clusters'\n",
       "    var: 'gene_id', 'reason_of_inclusion', 'Annotation', 'Ensembl ID', 'in_panel'\n",
       "    uns: 'spots'\n",
       "    obsm: 'X_umap', 'X_tsne', 'X_pca'"
      ]
     },
     "execution_count": 2,
     "metadata": {},
     "output_type": "execute_result"
    }
   ],
   "source": [
    "path=r'../../data/original_data/xenium_prerelease_jun20_mBrain_replicates_updated/mBrain_ff_rep1'\n",
    "tag=r'ms_brain_rep1'\n",
    "output_path=r'../../data/unprocessed_adata/'\n",
    "xf.format_xenium_adata(path,tag,output_path)"
   ]
  },
  {
   "cell_type": "markdown",
   "metadata": {},
   "source": [
    "For every dataset, we also want to transform the original OME TIF to a simple tiff. "
   ]
  },
  {
   "cell_type": "code",
   "execution_count": 3,
   "metadata": {},
   "outputs": [],
   "source": [
    "xf.format_background(path)"
   ]
  },
  {
   "cell_type": "markdown",
   "metadata": {},
   "source": [
    "# We repeat this processin for each dataset"
   ]
  },
  {
   "cell_type": "code",
   "execution_count": 4,
   "metadata": {
    "scrolled": true
   },
   "outputs": [
    {
     "name": "stderr",
     "output_type": "stream",
     "text": [
      "/mnt/c/Users/sergio.salas/Desktop/Xenium_benchmarking-main/Xenium_benchmarking-main/xb/formatting.py:44: FutureWarning: X.dtype being converted to np.float32 from int64. In the next version of anndata (0.9) conversion will not be automatic. Pass dtype explicitly to avoid this warning. Pass `AnnData(X, dtype=X.dtype, ...)` to get the future behavour.\n",
      "  adata=sc.AnnData(ad.transpose(),obs=cell_info,var=features)\n",
      "/home/sergioms/.local/lib/python3.8/site-packages/anndata/_core/anndata.py:121: ImplicitModificationWarning: Transforming to str index.\n",
      "  warnings.warn(\"Transforming to str index.\", ImplicitModificationWarning)\n"
     ]
    }
   ],
   "source": [
    "path=r'../../data/original_data/xenium_prerelease_jun20_mBrain_replicates_updated/mBrain_ff_rep2'\n",
    "tag=r'ms_brain_rep2'\n",
    "output_path=r'../../data/unprocessed_adata/'\n",
    "xf.format_xenium_adata(path,tag,output_path)\n",
    "xf.format_background(path)"
   ]
  },
  {
   "cell_type": "code",
   "execution_count": 5,
   "metadata": {},
   "outputs": [
    {
     "name": "stderr",
     "output_type": "stream",
     "text": [
      "/mnt/c/Users/sergio.salas/Desktop/Xenium_benchmarking-main/Xenium_benchmarking-main/xb/formatting.py:44: FutureWarning: X.dtype being converted to np.float32 from int64. In the next version of anndata (0.9) conversion will not be automatic. Pass dtype explicitly to avoid this warning. Pass `AnnData(X, dtype=X.dtype, ...)` to get the future behavour.\n",
      "  adata=sc.AnnData(ad.transpose(),obs=cell_info,var=features)\n",
      "/home/sergioms/.local/lib/python3.8/site-packages/anndata/_core/anndata.py:121: ImplicitModificationWarning: Transforming to str index.\n",
      "  warnings.warn(\"Transforming to str index.\", ImplicitModificationWarning)\n"
     ]
    }
   ],
   "source": [
    "path=r'../../data/original_data/xenium_prerelease_jun20_mBrain_replicates_updated/mBrain_ff_rep3'\n",
    "tag=r'ms_brain_rep3'\n",
    "output_path=r'../../data/unprocessed_adata/'\n",
    "xf.format_xenium_adata(path,tag,output_path)\n",
    "xf.format_background(path)"
   ]
  },
  {
   "cell_type": "code",
   "execution_count": 6,
   "metadata": {},
   "outputs": [
    {
     "name": "stderr",
     "output_type": "stream",
     "text": [
      "/mnt/c/Users/sergio.salas/Desktop/Xenium_benchmarking-main/Xenium_benchmarking-main/xb/formatting.py:44: FutureWarning: X.dtype being converted to np.float32 from int64. In the next version of anndata (0.9) conversion will not be automatic. Pass dtype explicitly to avoid this warning. Pass `AnnData(X, dtype=X.dtype, ...)` to get the future behavour.\n",
      "  adata=sc.AnnData(ad.transpose(),obs=cell_info,var=features)\n",
      "/home/sergioms/.local/lib/python3.8/site-packages/anndata/_core/anndata.py:121: ImplicitModificationWarning: Transforming to str index.\n",
      "  warnings.warn(\"Transforming to str index.\", ImplicitModificationWarning)\n"
     ]
    },
    {
     "name": "stdout",
     "output_type": "stream",
     "text": [
      "UMAP and clusters_could not be recovered\n"
     ]
    }
   ],
   "source": [
    "path=r'../../data/original_data/xenium_prerelease_sept15_hBreast/hBreast_ffpe_large'\n",
    "tag=r'h_breast_1'\n",
    "output_path=r'../../data/unprocessed_adata/'\n",
    "xf.format_xenium_adata(path,tag,output_path)\n",
    "xf.format_background(path)"
   ]
  },
  {
   "cell_type": "code",
   "execution_count": 7,
   "metadata": {},
   "outputs": [
    {
     "name": "stderr",
     "output_type": "stream",
     "text": [
      "/mnt/c/Users/sergio.salas/Desktop/Xenium_benchmarking-main/Xenium_benchmarking-main/xb/formatting.py:44: FutureWarning: X.dtype being converted to np.float32 from int64. In the next version of anndata (0.9) conversion will not be automatic. Pass dtype explicitly to avoid this warning. Pass `AnnData(X, dtype=X.dtype, ...)` to get the future behavour.\n",
      "  adata=sc.AnnData(ad.transpose(),obs=cell_info,var=features)\n",
      "/home/sergioms/.local/lib/python3.8/site-packages/anndata/_core/anndata.py:121: ImplicitModificationWarning: Transforming to str index.\n",
      "  warnings.warn(\"Transforming to str index.\", ImplicitModificationWarning)\n"
     ]
    },
    {
     "name": "stdout",
     "output_type": "stream",
     "text": [
      "UMAP and clusters_could not be recovered\n"
     ]
    }
   ],
   "source": [
    "path=r'../../data/original_data/xenium_prerelease_sept15_hBreast/hBreast_ffpe_small'\n",
    "tag=r'h_breast_2'\n",
    "output_path=r'../../data/unprocessed_adata/'\n",
    "xf.format_xenium_adata(path,tag,output_path)\n",
    "xf.format_background(path)"
   ]
  },
  {
   "cell_type": "code",
   "execution_count": 8,
   "metadata": {},
   "outputs": [
    {
     "name": "stderr",
     "output_type": "stream",
     "text": [
      "/mnt/c/Users/sergio.salas/Desktop/Xenium_benchmarking-main/Xenium_benchmarking-main/xb/formatting.py:44: FutureWarning: X.dtype being converted to np.float32 from int64. In the next version of anndata (0.9) conversion will not be automatic. Pass dtype explicitly to avoid this warning. Pass `AnnData(X, dtype=X.dtype, ...)` to get the future behavour.\n",
      "  adata=sc.AnnData(ad.transpose(),obs=cell_info,var=features)\n",
      "/home/sergioms/.local/lib/python3.8/site-packages/anndata/_core/anndata.py:121: ImplicitModificationWarning: Transforming to str index.\n",
      "  warnings.warn(\"Transforming to str index.\", ImplicitModificationWarning)\n"
     ]
    }
   ],
   "source": [
    "path=r'../../data/original_data/xenium_prerelease_sept15_mBrain/mBrain_ff_full_coronal_section'\n",
    "tag=r'ms_brain_fullcoronal'\n",
    "output_path=r'../../data/unprocessed_adata/'\n",
    "xf.format_xenium_adata(path,tag,output_path)\n",
    "xf.format_background(path)"
   ]
  },
  {
   "cell_type": "code",
   "execution_count": 10,
   "metadata": {},
   "outputs": [
    {
     "name": "stderr",
     "output_type": "stream",
     "text": [
      "/mnt/c/Users/sergio.salas/Desktop/Xenium_benchmarking-main/Xenium_benchmarking-main/xb/formatting.py:44: FutureWarning: X.dtype being converted to np.float32 from int64. In the next version of anndata (0.9) conversion will not be automatic. Pass dtype explicitly to avoid this warning. Pass `AnnData(X, dtype=X.dtype, ...)` to get the future behavour.\n",
      "  adata=sc.AnnData(ad.transpose(),obs=cell_info,var=features)\n",
      "/home/sergioms/.local/lib/python3.8/site-packages/anndata/_core/anndata.py:121: ImplicitModificationWarning: Transforming to str index.\n",
      "  warnings.warn(\"Transforming to str index.\", ImplicitModificationWarning)\n"
     ]
    }
   ],
   "source": [
    "path=r'../../data/original_data/xenium_prerelease_sept15_mBrain/mBrain_ff_partial_coronal_section'\n",
    "tag=r'ms_brain_partialcoronal'\n",
    "output_path=r'../../data/unprocessed_adata/'\n",
    "xf.format_xenium_adata(path,tag,output_path)\n",
    "xf.format_background(path)"
   ]
  },
  {
   "cell_type": "code",
   "execution_count": null,
   "metadata": {},
   "outputs": [],
   "source": []
  }
 ],
 "metadata": {
  "kernelspec": {
   "display_name": "xenium_benchmarking",
   "language": "python",
   "name": "xenium_benchmarking"
  },
  "language_info": {
   "codemirror_mode": {
    "name": "ipython",
    "version": 3
   },
   "file_extension": ".py",
   "mimetype": "text/x-python",
   "name": "python",
   "nbconvert_exporter": "python",
   "pygments_lexer": "ipython3",
   "version": "3.8.10"
  }
 },
 "nbformat": 4,
 "nbformat_minor": 4
}
