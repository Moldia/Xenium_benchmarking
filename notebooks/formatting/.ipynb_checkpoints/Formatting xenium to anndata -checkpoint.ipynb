{
 "cells": [
  {
   "cell_type": "code",
   "execution_count": null,
   "metadata": {},
   "outputs": [],
   "source": []
  },
  {
   "cell_type": "code",
   "execution_count": 5,
   "metadata": {},
   "outputs": [],
   "source": [
    "import numpy as np\n",
    "import pandas as pd\n",
    "import scanpy as sc\n",
    "import seaborn as sns\n",
    "import matplotlib.pyplot as plt\n",
    "import gzip\n",
    "import shutil\n",
    "import os.path\n",
    "from scipy.io import mmread\n",
    "import xb.formatting as xf"
   ]
  },
  {
   "cell_type": "code",
   "execution_count": 6,
   "metadata": {},
   "outputs": [
    {
     "data": {
      "text/plain": [
       "<module 'xb.formatting' from '/mnt/c/Users/sergio.salas/Desktop/Xenium_benchmarking-main/Xenium_benchmarking-main/xb/formatting.py'>"
      ]
     },
     "execution_count": 6,
     "metadata": {},
     "output_type": "execute_result"
    }
   ],
   "source": [
    "xf"
   ]
  },
  {
   "cell_type": "code",
   "execution_count": 3,
   "metadata": {},
   "outputs": [],
   "source": [
    "path=r'/xenium_prerelease_jun20_mBrain_replicates_updated/mBrain_ff_rep1'\n",
    "tag=r'ms_brain_rep1'\n",
    "output_path=r'C:/Users/sergio.salas/Documents/PhD/projects/Xenium_postprocessing/formated_adata/'"
   ]
  },
  {
   "cell_type": "code",
   "execution_count": 7,
   "metadata": {},
   "outputs": [
    {
     "ename": "FileNotFoundError",
     "evalue": "[Errno 2] No such file or directory: 'C:/Users/sergio.salas/Documents/PhD/projects/Xenium_postprocessing/datasets_updated_25sept2022/xenium_prerelease_jun20_mBrain_replicates_updated/mBrain_ff_rep1/transcripts.csv.gz'",
     "output_type": "error",
     "traceback": [
      "\u001b[0;31m---------------------------------------------------------------------------\u001b[0m",
      "\u001b[0;31mFileNotFoundError\u001b[0m                         Traceback (most recent call last)",
      "Input \u001b[0;32mIn [7]\u001b[0m, in \u001b[0;36m<cell line: 1>\u001b[0;34m()\u001b[0m\n\u001b[0;32m----> 1\u001b[0m \u001b[43mxf\u001b[49m\u001b[38;5;241;43m.\u001b[39;49m\u001b[43mformat_xenium_adata\u001b[49m\u001b[43m(\u001b[49m\u001b[43mpath\u001b[49m\u001b[43m,\u001b[49m\u001b[43mtag\u001b[49m\u001b[43m,\u001b[49m\u001b[43moutput_path\u001b[49m\u001b[43m)\u001b[49m\n",
      "File \u001b[0;32m/mnt/c/Users/sergio.salas/Desktop/Xenium_benchmarking-main/Xenium_benchmarking-main/xb/formatting.py:16\u001b[0m, in \u001b[0;36mformat_xenium_adata\u001b[0;34m(path, tag, output_path)\u001b[0m\n\u001b[1;32m     13\u001b[0m \u001b[38;5;28;01mdef\u001b[39;00m \u001b[38;5;21mformat_xenium_adata\u001b[39m(path,tag,output_path):\n\u001b[1;32m     14\u001b[0m     \u001b[38;5;66;03m#decompress\u001b[39;00m\n\u001b[1;32m     15\u001b[0m     \u001b[38;5;28;01mif\u001b[39;00m os\u001b[38;5;241m.\u001b[39mpath\u001b[38;5;241m.\u001b[39misfile(path\u001b[38;5;241m+\u001b[39m\u001b[38;5;124m'\u001b[39m\u001b[38;5;124m/transcripts.csv\u001b[39m\u001b[38;5;124m'\u001b[39m)\u001b[38;5;241m==\u001b[39m\u001b[38;5;28;01mFalse\u001b[39;00m:\n\u001b[0;32m---> 16\u001b[0m         \u001b[38;5;28;01mwith\u001b[39;00m \u001b[43mgzip\u001b[49m\u001b[38;5;241;43m.\u001b[39;49m\u001b[43mopen\u001b[49m\u001b[43m(\u001b[49m\u001b[43mpath\u001b[49m\u001b[38;5;241;43m+\u001b[39;49m\u001b[38;5;124;43m'\u001b[39;49m\u001b[38;5;124;43m/transcripts.csv.gz\u001b[39;49m\u001b[38;5;124;43m'\u001b[39;49m\u001b[43m,\u001b[49m\u001b[43m \u001b[49m\u001b[38;5;124;43m'\u001b[39;49m\u001b[38;5;124;43mrb\u001b[39;49m\u001b[38;5;124;43m'\u001b[39;49m\u001b[43m)\u001b[49m \u001b[38;5;28;01mas\u001b[39;00m f_in:\n\u001b[1;32m     17\u001b[0m             \u001b[38;5;28;01mwith\u001b[39;00m \u001b[38;5;28mopen\u001b[39m(path\u001b[38;5;241m+\u001b[39m\u001b[38;5;124m'\u001b[39m\u001b[38;5;124m/transcripts.csv\u001b[39m\u001b[38;5;124m'\u001b[39m, \u001b[38;5;124m'\u001b[39m\u001b[38;5;124mwb\u001b[39m\u001b[38;5;124m'\u001b[39m) \u001b[38;5;28;01mas\u001b[39;00m f_out:\n\u001b[1;32m     18\u001b[0m                 shutil\u001b[38;5;241m.\u001b[39mcopyfileobj(f_in, f_out)\n",
      "File \u001b[0;32m/usr/lib/python3.8/gzip.py:58\u001b[0m, in \u001b[0;36mopen\u001b[0;34m(filename, mode, compresslevel, encoding, errors, newline)\u001b[0m\n\u001b[1;32m     56\u001b[0m gz_mode \u001b[38;5;241m=\u001b[39m mode\u001b[38;5;241m.\u001b[39mreplace(\u001b[38;5;124m\"\u001b[39m\u001b[38;5;124mt\u001b[39m\u001b[38;5;124m\"\u001b[39m, \u001b[38;5;124m\"\u001b[39m\u001b[38;5;124m\"\u001b[39m)\n\u001b[1;32m     57\u001b[0m \u001b[38;5;28;01mif\u001b[39;00m \u001b[38;5;28misinstance\u001b[39m(filename, (\u001b[38;5;28mstr\u001b[39m, \u001b[38;5;28mbytes\u001b[39m, os\u001b[38;5;241m.\u001b[39mPathLike)):\n\u001b[0;32m---> 58\u001b[0m     binary_file \u001b[38;5;241m=\u001b[39m \u001b[43mGzipFile\u001b[49m\u001b[43m(\u001b[49m\u001b[43mfilename\u001b[49m\u001b[43m,\u001b[49m\u001b[43m \u001b[49m\u001b[43mgz_mode\u001b[49m\u001b[43m,\u001b[49m\u001b[43m \u001b[49m\u001b[43mcompresslevel\u001b[49m\u001b[43m)\u001b[49m\n\u001b[1;32m     59\u001b[0m \u001b[38;5;28;01melif\u001b[39;00m \u001b[38;5;28mhasattr\u001b[39m(filename, \u001b[38;5;124m\"\u001b[39m\u001b[38;5;124mread\u001b[39m\u001b[38;5;124m\"\u001b[39m) \u001b[38;5;129;01mor\u001b[39;00m \u001b[38;5;28mhasattr\u001b[39m(filename, \u001b[38;5;124m\"\u001b[39m\u001b[38;5;124mwrite\u001b[39m\u001b[38;5;124m\"\u001b[39m):\n\u001b[1;32m     60\u001b[0m     binary_file \u001b[38;5;241m=\u001b[39m GzipFile(\u001b[38;5;28;01mNone\u001b[39;00m, gz_mode, compresslevel, filename)\n",
      "File \u001b[0;32m/usr/lib/python3.8/gzip.py:173\u001b[0m, in \u001b[0;36mGzipFile.__init__\u001b[0;34m(self, filename, mode, compresslevel, fileobj, mtime)\u001b[0m\n\u001b[1;32m    171\u001b[0m     mode \u001b[38;5;241m+\u001b[39m\u001b[38;5;241m=\u001b[39m \u001b[38;5;124m'\u001b[39m\u001b[38;5;124mb\u001b[39m\u001b[38;5;124m'\u001b[39m\n\u001b[1;32m    172\u001b[0m \u001b[38;5;28;01mif\u001b[39;00m fileobj \u001b[38;5;129;01mis\u001b[39;00m \u001b[38;5;28;01mNone\u001b[39;00m:\n\u001b[0;32m--> 173\u001b[0m     fileobj \u001b[38;5;241m=\u001b[39m \u001b[38;5;28mself\u001b[39m\u001b[38;5;241m.\u001b[39mmyfileobj \u001b[38;5;241m=\u001b[39m \u001b[43mbuiltins\u001b[49m\u001b[38;5;241;43m.\u001b[39;49m\u001b[43mopen\u001b[49m\u001b[43m(\u001b[49m\u001b[43mfilename\u001b[49m\u001b[43m,\u001b[49m\u001b[43m \u001b[49m\u001b[43mmode\u001b[49m\u001b[43m \u001b[49m\u001b[38;5;129;43;01mor\u001b[39;49;00m\u001b[43m \u001b[49m\u001b[38;5;124;43m'\u001b[39;49m\u001b[38;5;124;43mrb\u001b[39;49m\u001b[38;5;124;43m'\u001b[39;49m\u001b[43m)\u001b[49m\n\u001b[1;32m    174\u001b[0m \u001b[38;5;28;01mif\u001b[39;00m filename \u001b[38;5;129;01mis\u001b[39;00m \u001b[38;5;28;01mNone\u001b[39;00m:\n\u001b[1;32m    175\u001b[0m     filename \u001b[38;5;241m=\u001b[39m \u001b[38;5;28mgetattr\u001b[39m(fileobj, \u001b[38;5;124m'\u001b[39m\u001b[38;5;124mname\u001b[39m\u001b[38;5;124m'\u001b[39m, \u001b[38;5;124m'\u001b[39m\u001b[38;5;124m'\u001b[39m)\n",
      "\u001b[0;31mFileNotFoundError\u001b[0m: [Errno 2] No such file or directory: 'C:/Users/sergio.salas/Documents/PhD/projects/Xenium_postprocessing/datasets_updated_25sept2022/xenium_prerelease_jun20_mBrain_replicates_updated/mBrain_ff_rep1/transcripts.csv.gz'"
     ]
    }
   ],
   "source": [
    "xf.format_xenium_adata(path,tag,output_path)"
   ]
  },
  {
   "cell_type": "code",
   "execution_count": 154,
   "metadata": {},
   "outputs": [],
   "source": [
    "path=r'C:/Users/sergio.salas/Documents/PhD/projects/Xenium_postprocessing/datasets_updated_25sept2022/xenium_prerelease_jun20_mBrain_replicates_updated/mBrain_ff_rep2'\n",
    "tag=r'ms_brain_rep2'\n",
    "output_path=r'C:/Users/sergio.salas/Documents/PhD/projects/Xenium_postprocessing/formated_adata/'"
   ]
  },
  {
   "cell_type": "code",
   "execution_count": 155,
   "metadata": {},
   "outputs": [
    {
     "name": "stderr",
     "output_type": "stream",
     "text": [
      "... storing 'graph_clusters' as categorical\n",
      "... storing 'kmeans2_clusters' as categorical\n",
      "... storing 'kmeans3_clusters' as categorical\n",
      "... storing 'kmeans4_clusters' as categorical\n",
      "... storing 'kmeans5_clusters' as categorical\n",
      "... storing 'kmeans6_clusters' as categorical\n",
      "... storing 'kmeans7_clusters' as categorical\n",
      "... storing 'kmeans8_clusters' as categorical\n",
      "... storing 'kmeans9_clusters' as categorical\n",
      "... storing 'kmeans10_clusters' as categorical\n",
      "... storing 'reason_of_inclusion' as categorical\n",
      "... storing 'Annotation' as categorical\n",
      "... storing 'Ensembl ID' as categorical\n"
     ]
    },
    {
     "data": {
      "text/plain": [
       "AnnData object with n_obs × n_vars = 30091 × 541\n",
       "    obs: 'cell_id', 'x_centroid', 'y_centroid', 'transcript_counts', 'control_probe_counts', 'control_codeword_counts', 'total_counts', 'cell_area', 'nucleus_area', 'graph_clusters', 'kmeans2_clusters', 'kmeans3_clusters', 'kmeans4_clusters', 'kmeans5_clusters', 'kmeans6_clusters', 'kmeans7_clusters', 'kmeans8_clusters', 'kmeans9_clusters', 'kmeans10_clusters'\n",
       "    var: 'gene_id', 'reason_of_inclusion', 'Annotation', 'Ensembl ID', 'in_panel'\n",
       "    uns: 'spots'\n",
       "    obsm: 'X_umap', 'X_tsne', 'X_pca'"
      ]
     },
     "execution_count": 155,
     "metadata": {},
     "output_type": "execute_result"
    }
   ],
   "source": [
    "format_xenium_adata(path,tag,output_path)"
   ]
  },
  {
   "cell_type": "code",
   "execution_count": 156,
   "metadata": {},
   "outputs": [],
   "source": [
    "path=r'C:/Users/sergio.salas/Documents/PhD/projects/Xenium_postprocessing/datasets_updated_25sept2022/xenium_prerelease_jun20_mBrain_replicates_updated/mBrain_ff_rep3'\n",
    "tag=r'ms_brain_rep3'\n",
    "output_path=r'C:/Users/sergio.salas/Documents/PhD/projects/Xenium_postprocessing/formated_adata/'"
   ]
  },
  {
   "cell_type": "code",
   "execution_count": null,
   "metadata": {},
   "outputs": [],
   "source": []
  },
  {
   "cell_type": "code",
   "execution_count": 157,
   "metadata": {},
   "outputs": [
    {
     "name": "stderr",
     "output_type": "stream",
     "text": [
      "... storing 'graph_clusters' as categorical\n",
      "... storing 'kmeans2_clusters' as categorical\n",
      "... storing 'kmeans3_clusters' as categorical\n",
      "... storing 'kmeans4_clusters' as categorical\n",
      "... storing 'kmeans5_clusters' as categorical\n",
      "... storing 'kmeans6_clusters' as categorical\n",
      "... storing 'kmeans7_clusters' as categorical\n",
      "... storing 'kmeans8_clusters' as categorical\n",
      "... storing 'kmeans9_clusters' as categorical\n",
      "... storing 'kmeans10_clusters' as categorical\n",
      "... storing 'reason_of_inclusion' as categorical\n",
      "... storing 'Annotation' as categorical\n",
      "... storing 'Ensembl ID' as categorical\n"
     ]
    },
    {
     "data": {
      "text/plain": [
       "AnnData object with n_obs × n_vars = 28646 × 541\n",
       "    obs: 'cell_id', 'x_centroid', 'y_centroid', 'transcript_counts', 'control_probe_counts', 'control_codeword_counts', 'total_counts', 'cell_area', 'nucleus_area', 'graph_clusters', 'kmeans2_clusters', 'kmeans3_clusters', 'kmeans4_clusters', 'kmeans5_clusters', 'kmeans6_clusters', 'kmeans7_clusters', 'kmeans8_clusters', 'kmeans9_clusters', 'kmeans10_clusters'\n",
       "    var: 'gene_id', 'reason_of_inclusion', 'Annotation', 'Ensembl ID', 'in_panel'\n",
       "    uns: 'spots'\n",
       "    obsm: 'X_umap', 'X_tsne', 'X_pca'"
      ]
     },
     "execution_count": 157,
     "metadata": {},
     "output_type": "execute_result"
    }
   ],
   "source": [
    "format_xenium_adata(path,tag,output_path)"
   ]
  },
  {
   "cell_type": "code",
   "execution_count": 158,
   "metadata": {},
   "outputs": [],
   "source": [
    "path=r'C:/Users/sergio.salas/Documents/PhD/projects/Xenium_postprocessing/datasets_updated_25sept2022/xenium_prerelease_sept15_hBreast/hBreast_ffpe_large'\n",
    "tag=r'h_breast_1'\n",
    "output_path=r'C:/Users/sergio.salas/Documents/PhD/projects/Xenium_postprocessing/formated_adata/'"
   ]
  },
  {
   "cell_type": "code",
   "execution_count": 159,
   "metadata": {},
   "outputs": [
    {
     "name": "stderr",
     "output_type": "stream",
     "text": [
      "... storing 'reason_of_inclusion' as categorical\n",
      "... storing 'Annotation' as categorical\n",
      "... storing 'Ensembl ID' as categorical\n"
     ]
    },
    {
     "name": "stdout",
     "output_type": "stream",
     "text": [
      "UMAP and clusters_could not be recovered\n"
     ]
    },
    {
     "data": {
      "text/plain": [
       "AnnData object with n_obs × n_vars = 525978 × 382\n",
       "    obs: 'cell_id', 'x_centroid', 'y_centroid', 'transcript_counts', 'control_probe_counts', 'control_codeword_counts', 'total_counts', 'cell_area', 'nucleus_area'\n",
       "    var: 'gene_id', 'reason_of_inclusion', 'Annotation', 'Ensembl ID', 'in_panel'\n",
       "    uns: 'spots'"
      ]
     },
     "execution_count": 159,
     "metadata": {},
     "output_type": "execute_result"
    }
   ],
   "source": [
    "format_xenium_adata(path,tag,output_path)"
   ]
  },
  {
   "cell_type": "code",
   "execution_count": 160,
   "metadata": {
    "scrolled": true
   },
   "outputs": [],
   "source": [
    "path=r'C:/Users/sergio.salas/Documents/PhD/projects/Xenium_postprocessing/datasets_updated_25sept2022/xenium_prerelease_sept15_hBreast/hBreast_ffpe_small'\n",
    "tag=r'h_breast_2'\n",
    "output_path=r'C:/Users/sergio.salas/Documents/PhD/projects/Xenium_postprocessing/formated_adata/'"
   ]
  },
  {
   "cell_type": "code",
   "execution_count": 161,
   "metadata": {},
   "outputs": [
    {
     "name": "stderr",
     "output_type": "stream",
     "text": [
      "... storing 'reason_of_inclusion' as categorical\n",
      "... storing 'Annotation' as categorical\n",
      "... storing 'Ensembl ID' as categorical\n"
     ]
    },
    {
     "name": "stdout",
     "output_type": "stream",
     "text": [
      "UMAP and clusters_could not be recovered\n"
     ]
    },
    {
     "data": {
      "text/plain": [
       "AnnData object with n_obs × n_vars = 37321 × 541\n",
       "    obs: 'cell_id', 'x_centroid', 'y_centroid', 'transcript_counts', 'control_probe_counts', 'control_codeword_counts', 'total_counts', 'cell_area', 'nucleus_area'\n",
       "    var: 'gene_id', 'reason_of_inclusion', 'Annotation', 'Ensembl ID', 'in_panel'\n",
       "    uns: 'spots'"
      ]
     },
     "execution_count": 161,
     "metadata": {},
     "output_type": "execute_result"
    }
   ],
   "source": [
    "format_xenium_adata(path,tag,output_path)"
   ]
  },
  {
   "cell_type": "code",
   "execution_count": 3,
   "metadata": {},
   "outputs": [],
   "source": [
    "path=r'C:/Users/sergio.salas/Documents/PhD/projects/Xenium_postprocessing/datasets_updated_25sept2022/xenium_prerelease_sept15_mBrain/xenium_prerelease_sept15_mBrain/mBrain_ff_full_coronal_section'\n",
    "tag=r'ms_brain_fullcoronal'\n",
    "output_path=r'C:/Users/sergio.salas/Documents/PhD/projects/Xenium_postprocessing/formated_adata/'"
   ]
  },
  {
   "cell_type": "code",
   "execution_count": 8,
   "metadata": {},
   "outputs": [
    {
     "name": "stderr",
     "output_type": "stream",
     "text": [
      "C:\\Users\\sergio.salas\\Miniconda3\\lib\\site-packages\\anndata\\_core\\anndata.py:119: ImplicitModificationWarning: Transforming to str index.\n",
      "  warnings.warn(\"Transforming to str index.\", ImplicitModificationWarning)\n",
      "C:\\Users\\sergio.salas\\Miniconda3\\lib\\site-packages\\numpy\\lib\\arraysetops.py:580: FutureWarning: elementwise comparison failed; returning scalar instead, but in the future will perform elementwise comparison\n",
      "  mask |= (ar1 == a)\n",
      "... storing 'graph_clusters' as categorical\n",
      "... storing 'kmeans2_clusters' as categorical\n",
      "... storing 'kmeans3_clusters' as categorical\n",
      "... storing 'kmeans4_clusters' as categorical\n",
      "... storing 'kmeans5_clusters' as categorical\n",
      "... storing 'kmeans6_clusters' as categorical\n",
      "... storing 'kmeans7_clusters' as categorical\n",
      "... storing 'kmeans8_clusters' as categorical\n",
      "... storing 'kmeans9_clusters' as categorical\n",
      "... storing 'kmeans10_clusters' as categorical\n",
      "... storing 'reason_of_inclusion' as categorical\n",
      "... storing 'Annotation' as categorical\n",
      "... storing 'Ensembl ID' as categorical\n"
     ]
    },
    {
     "data": {
      "text/plain": [
       "AnnData object with n_obs × n_vars = 107665 × 541\n",
       "    obs: 'cell_id', 'x_centroid', 'y_centroid', 'transcript_counts', 'control_probe_counts', 'control_codeword_counts', 'total_counts', 'cell_area', 'nucleus_area', 'graph_clusters', 'kmeans2_clusters', 'kmeans3_clusters', 'kmeans4_clusters', 'kmeans5_clusters', 'kmeans6_clusters', 'kmeans7_clusters', 'kmeans8_clusters', 'kmeans9_clusters', 'kmeans10_clusters'\n",
       "    var: 'gene_id', 'reason_of_inclusion', 'Annotation', 'Ensembl ID', 'in_panel'\n",
       "    uns: 'spots'\n",
       "    obsm: 'X_umap', 'X_tsne', 'X_pca'"
      ]
     },
     "execution_count": 8,
     "metadata": {},
     "output_type": "execute_result"
    }
   ],
   "source": [
    "format_xenium_adata(path,tag,output_path)"
   ]
  },
  {
   "cell_type": "code",
   "execution_count": 5,
   "metadata": {},
   "outputs": [],
   "source": [
    "panel_info=pd.read_csv(path+'/panel.tsv',sep='\\t')"
   ]
  },
  {
   "cell_type": "code",
   "execution_count": 6,
   "metadata": {},
   "outputs": [
    {
     "data": {
      "text/html": [
       "<div>\n",
       "<style scoped>\n",
       "    .dataframe tbody tr th:only-of-type {\n",
       "        vertical-align: middle;\n",
       "    }\n",
       "\n",
       "    .dataframe tbody tr th {\n",
       "        vertical-align: top;\n",
       "    }\n",
       "\n",
       "    .dataframe thead th {\n",
       "        text-align: right;\n",
       "    }\n",
       "</style>\n",
       "<table border=\"1\" class=\"dataframe\">\n",
       "  <thead>\n",
       "    <tr style=\"text-align: right;\">\n",
       "      <th></th>\n",
       "      <th>Name</th>\n",
       "      <th>Ensembl ID</th>\n",
       "      <th>Annotation</th>\n",
       "    </tr>\n",
       "  </thead>\n",
       "  <tbody>\n",
       "    <tr>\n",
       "      <th>0</th>\n",
       "      <td>Acsbg1</td>\n",
       "      <td>ENSMUSG00000032281</td>\n",
       "      <td>Astrocytes</td>\n",
       "    </tr>\n",
       "    <tr>\n",
       "      <th>1</th>\n",
       "      <td>Aqp4</td>\n",
       "      <td>ENSMUSG00000024411</td>\n",
       "      <td>Astrocytes</td>\n",
       "    </tr>\n",
       "    <tr>\n",
       "      <th>2</th>\n",
       "      <td>Cdh20</td>\n",
       "      <td>ENSMUSG00000050840</td>\n",
       "      <td>Astrocytes</td>\n",
       "    </tr>\n",
       "    <tr>\n",
       "      <th>3</th>\n",
       "      <td>Clmn</td>\n",
       "      <td>ENSMUSG00000021097</td>\n",
       "      <td>Astrocytes</td>\n",
       "    </tr>\n",
       "    <tr>\n",
       "      <th>4</th>\n",
       "      <td>Gfap</td>\n",
       "      <td>ENSMUSG00000020932</td>\n",
       "      <td>Astrocytes</td>\n",
       "    </tr>\n",
       "    <tr>\n",
       "      <th>...</th>\n",
       "      <td>...</td>\n",
       "      <td>...</td>\n",
       "      <td>...</td>\n",
       "    </tr>\n",
       "    <tr>\n",
       "      <th>243</th>\n",
       "      <td>Penk</td>\n",
       "      <td>ENSMUSG00000045573</td>\n",
       "      <td>Vip interneurons</td>\n",
       "    </tr>\n",
       "    <tr>\n",
       "      <th>244</th>\n",
       "      <td>Pthlh</td>\n",
       "      <td>ENSMUSG00000048776</td>\n",
       "      <td>Vip interneurons</td>\n",
       "    </tr>\n",
       "    <tr>\n",
       "      <th>245</th>\n",
       "      <td>Sorcs3</td>\n",
       "      <td>ENSMUSG00000063434</td>\n",
       "      <td>Vip interneurons</td>\n",
       "    </tr>\n",
       "    <tr>\n",
       "      <th>246</th>\n",
       "      <td>Thsd7a</td>\n",
       "      <td>ENSMUSG00000032625</td>\n",
       "      <td>Vip interneurons</td>\n",
       "    </tr>\n",
       "    <tr>\n",
       "      <th>247</th>\n",
       "      <td>Vip</td>\n",
       "      <td>ENSMUSG00000019772</td>\n",
       "      <td>Vip interneurons</td>\n",
       "    </tr>\n",
       "  </tbody>\n",
       "</table>\n",
       "<p>248 rows × 3 columns</p>\n",
       "</div>"
      ],
      "text/plain": [
       "       Name          Ensembl ID        Annotation\n",
       "0    Acsbg1  ENSMUSG00000032281        Astrocytes\n",
       "1      Aqp4  ENSMUSG00000024411        Astrocytes\n",
       "2     Cdh20  ENSMUSG00000050840        Astrocytes\n",
       "3      Clmn  ENSMUSG00000021097        Astrocytes\n",
       "4      Gfap  ENSMUSG00000020932        Astrocytes\n",
       "..      ...                 ...               ...\n",
       "243    Penk  ENSMUSG00000045573  Vip interneurons\n",
       "244   Pthlh  ENSMUSG00000048776  Vip interneurons\n",
       "245  Sorcs3  ENSMUSG00000063434  Vip interneurons\n",
       "246  Thsd7a  ENSMUSG00000032625  Vip interneurons\n",
       "247     Vip  ENSMUSG00000019772  Vip interneurons\n",
       "\n",
       "[248 rows x 3 columns]"
      ]
     },
     "execution_count": 6,
     "metadata": {},
     "output_type": "execute_result"
    }
   ],
   "source": [
    "panel_info"
   ]
  },
  {
   "cell_type": "code",
   "execution_count": null,
   "metadata": {},
   "outputs": [],
   "source": [
    "try:\n",
    "    panel_info['Gene']\n",
    "except:\n",
    "    panel_info['Gene']=panel_info['Name']"
   ]
  },
  {
   "cell_type": "code",
   "execution_count": 163,
   "metadata": {},
   "outputs": [
    {
     "name": "stderr",
     "output_type": "stream",
     "text": [
      "... storing 'graph_clusters' as categorical\n",
      "... storing 'kmeans2_clusters' as categorical\n",
      "... storing 'kmeans3_clusters' as categorical\n",
      "... storing 'kmeans4_clusters' as categorical\n",
      "... storing 'kmeans5_clusters' as categorical\n",
      "... storing 'kmeans6_clusters' as categorical\n",
      "... storing 'kmeans7_clusters' as categorical\n",
      "... storing 'kmeans8_clusters' as categorical\n",
      "... storing 'kmeans9_clusters' as categorical\n",
      "... storing 'kmeans10_clusters' as categorical\n",
      "... storing 'reason_of_inclusion' as categorical\n",
      "... storing 'Annotation' as categorical\n",
      "... storing 'Ensembl ID' as categorical\n"
     ]
    }
   ],
   "source": [
    "\n",
    "if os.path.isfile(path+'/transcripts.csv')==False:\n",
    "    with gzip.open(path+'/transcripts.csv.gz', 'rb') as f_in:\n",
    "        with open(path+'/transcripts.csv', 'wb') as f_out:\n",
    "            shutil.copyfileobj(f_in, f_out)\n",
    "\n",
    "if os.path.isfile(path+'/cell_feature_matrix/barcodes.tsv')==False:\n",
    "    with gzip.open(path+'/cell_feature_matrix/barcodes.tsv.gz', 'rb') as f_in:\n",
    "        with open(path+'/cell_feature_matrix/barcodes.tsv', 'wb') as f_out:\n",
    "            shutil.copyfileobj(f_in, f_out)\n",
    "\n",
    "if os.path.isfile(path+'/cell_feature_matrix/features.tsv')==False:\n",
    "    with gzip.open(path+'/cell_feature_matrix/features.tsv.gz', 'rb') as f_in:\n",
    "        with open(path+'/cell_feature_matrix/features.tsv', 'wb') as f_out:\n",
    "            shutil.copyfileobj(f_in, f_out)\n",
    "\n",
    "if os.path.isfile(path+'/cell_feature_matrix/matrix.mtx')==False:\n",
    "    with gzip.open(path+'/cell_feature_matrix/matrix.mtx.gz', 'rb') as f_in:\n",
    "        with open(path+'/cell_feature_matrix/matrix.mtx', 'wb') as f_out:\n",
    "            shutil.copyfileobj(f_in, f_out)\n",
    "\n",
    "if os.path.isfile(path+'/cells.csv')==False:\n",
    "    with gzip.open(path+'/cells.csv.gz', 'rb') as f_in:\n",
    "        with open(path+'/cells.csv', 'wb') as f_out:\n",
    "            shutil.copyfileobj(f_in, f_out)\n",
    "a = mmread(path+'/cell_feature_matrix/matrix.mtx')\n",
    "ad=a.todense()\n",
    "cell_info=pd.read_csv(path+r\"/cells.csv\")\n",
    "features=pd.read_csv(path+'/cell_feature_matrix/features.tsv',sep='\\t',header=None,index_col=0)\n",
    "barcodes=pd.read_csv(path+'/cell_feature_matrix/barcodes.tsv',header=None,index_col=0)\n",
    "adata=sc.AnnData(ad.transpose(),obs=cell_info,var=features)\n",
    "adata.var.index.name='index'\n",
    "adata.var.columns=['gene_id','reason_of_inclusion']\n",
    "panel_info=pd.read_csv(path+'/panel.tsv',sep='\\t')\n",
    "dict_annotation=dict(zip(panel_info['Name'],panel_info['Annotation']))\n",
    "dict_ENSEMBL=dict(zip(panel_info['Name'],panel_info['Ensembl ID']))\n",
    "adata.var['Annotation']=adata.var.index.map(dict_annotation)\n",
    "adata.var['Ensembl ID']=adata.var.index.map(dict_ENSEMBL)\n",
    "adata.var['in_panel']=adata.var.index.isin(panel_info['Name'])\n",
    "transcripts=pd.read_csv(path+'/transcripts.csv',index_col=0)\n",
    "adata.uns['spots']=transcripts\n",
    "try:\n",
    "    UMAP=pd.read_csv(path+'/analysis/umap/gene_expression_2_components/projection.csv',index_col=0)\n",
    "    adata.obsm['X_umap']=np.array(UMAP)\n",
    "    TSNE=pd.read_csv(path+'/analysis/tsne/gene_expression_2_components/projection.csv',index_col=0)\n",
    "    adata.obsm['X_tsne']=np.array(TSNE)\n",
    "    PCA=pd.read_csv(path+'/analysis/PCA/gene_expression_10_components/projection.csv',index_col=0)\n",
    "    adata.obsm['X_pca']=np.array(PCA)\n",
    "    clusters=pd.read_csv(path+'/analysis/clustering/gene_expression_graphclust/clusters.csv',index_col=0)\n",
    "    adata.obs['graph_clusters']=list(clusters['Cluster'].astype(str))\n",
    "    kmeans2=pd.read_csv(path+'/analysis/clustering/gene_expression_kmeans_2_clusters/clusters.csv',index_col=0)\n",
    "    adata.obs['kmeans2_clusters']=list(kmeans2['Cluster'].astype(str))\n",
    "    kmeans3=pd.read_csv(path+'/analysis/clustering/gene_expression_kmeans_2_clusters/clusters.csv',index_col=0)\n",
    "    adata.obs['kmeans3_clusters']=list(kmeans3['Cluster'].astype(str))\n",
    "    kmeans4=pd.read_csv(path+'/analysis/clustering/gene_expression_kmeans_2_clusters/clusters.csv',index_col=0)\n",
    "    adata.obs['kmeans4_clusters']=list(kmeans4['Cluster'].astype(str))\n",
    "    kmeans5=pd.read_csv(path+'/analysis/clustering/gene_expression_kmeans_2_clusters/clusters.csv',index_col=0)\n",
    "    adata.obs['kmeans5_clusters']=list(kmeans5['Cluster'].astype(str))\n",
    "    kmeans6=pd.read_csv(path+'/analysis/clustering/gene_expression_kmeans_2_clusters/clusters.csv',index_col=0)\n",
    "    adata.obs['kmeans6_clusters']=list(kmeans6['Cluster'].astype(str))\n",
    "    kmeans7=pd.read_csv(path+'/analysis/clustering/gene_expression_kmeans_2_clusters/clusters.csv',index_col=0)\n",
    "    adata.obs['kmeans7_clusters']=list(kmeans7['Cluster'].astype(str))\n",
    "    kmeans8=pd.read_csv(path+'/analysis/clustering/gene_expression_kmeans_2_clusters/clusters.csv',index_col=0)\n",
    "    adata.obs['kmeans8_clusters']=list(kmeans8['Cluster'].astype(str))\n",
    "    kmeans9=pd.read_csv(path+'/analysis/clustering/gene_expression_kmeans_2_clusters/clusters.csv',index_col=0)\n",
    "    adata.obs['kmeans9_clusters']=list(kmeans9['Cluster'].astype(str))\n",
    "    kmeans10=pd.read_csv(path+'/analysis/clustering/gene_expression_kmeans_2_clusters/clusters.csv',index_col=0)\n",
    "    adata.obs['kmeans10_clusters']=list(kmeans10['Cluster'].astype(str))\n",
    "except:\n",
    "    print('UMAP and clusters_could not be recovered')\n",
    "adata.write(output_path+tag+'.h5ad')\n"
   ]
  },
  {
   "cell_type": "code",
   "execution_count": 164,
   "metadata": {},
   "outputs": [],
   "source": [
    "path=r'C:/Users/sergio.salas/Documents/PhD/projects/Xenium_postprocessing/datasets_updated_25sept2022/xenium_prerelease_sept15_mBrain/xenium_prerelease_sept15_mBrain/mBrain_ff_partial_coronal_section'\n",
    "tag=r'ms_brain_partialcoronal'\n",
    "output_path=r'C:/Users/sergio.salas/Documents/PhD/projects/Xenium_postprocessing/formated_adata/'"
   ]
  },
  {
   "cell_type": "code",
   "execution_count": 165,
   "metadata": {},
   "outputs": [
    {
     "name": "stderr",
     "output_type": "stream",
     "text": [
      "... storing 'graph_clusters' as categorical\n",
      "... storing 'kmeans2_clusters' as categorical\n",
      "... storing 'kmeans3_clusters' as categorical\n",
      "... storing 'kmeans4_clusters' as categorical\n",
      "... storing 'kmeans5_clusters' as categorical\n",
      "... storing 'kmeans6_clusters' as categorical\n",
      "... storing 'kmeans7_clusters' as categorical\n",
      "... storing 'kmeans8_clusters' as categorical\n",
      "... storing 'kmeans9_clusters' as categorical\n",
      "... storing 'kmeans10_clusters' as categorical\n",
      "... storing 'reason_of_inclusion' as categorical\n",
      "... storing 'Annotation' as categorical\n",
      "... storing 'Ensembl ID' as categorical\n"
     ]
    }
   ],
   "source": [
    "\n",
    "if os.path.isfile(path+'/transcripts.csv')==False:\n",
    "    with gzip.open(path+'/transcripts.csv.gz', 'rb') as f_in:\n",
    "        with open(path+'/transcripts.csv', 'wb') as f_out:\n",
    "            shutil.copyfileobj(f_in, f_out)\n",
    "\n",
    "if os.path.isfile(path+'/cell_feature_matrix/barcodes.tsv')==False:\n",
    "    with gzip.open(path+'/cell_feature_matrix/barcodes.tsv.gz', 'rb') as f_in:\n",
    "        with open(path+'/cell_feature_matrix/barcodes.tsv', 'wb') as f_out:\n",
    "            shutil.copyfileobj(f_in, f_out)\n",
    "\n",
    "if os.path.isfile(path+'/cell_feature_matrix/features.tsv')==False:\n",
    "    with gzip.open(path+'/cell_feature_matrix/features.tsv.gz', 'rb') as f_in:\n",
    "        with open(path+'/cell_feature_matrix/features.tsv', 'wb') as f_out:\n",
    "            shutil.copyfileobj(f_in, f_out)\n",
    "\n",
    "if os.path.isfile(path+'/cell_feature_matrix/matrix.mtx')==False:\n",
    "    with gzip.open(path+'/cell_feature_matrix/matrix.mtx.gz', 'rb') as f_in:\n",
    "        with open(path+'/cell_feature_matrix/matrix.mtx', 'wb') as f_out:\n",
    "            shutil.copyfileobj(f_in, f_out)\n",
    "\n",
    "if os.path.isfile(path+'/cells.csv')==False:\n",
    "    with gzip.open(path+'/cells.csv.gz', 'rb') as f_in:\n",
    "        with open(path+'/cells.csv', 'wb') as f_out:\n",
    "            shutil.copyfileobj(f_in, f_out)\n",
    "a = mmread(path+'/cell_feature_matrix/matrix.mtx')\n",
    "ad=a.todense()\n",
    "cell_info=pd.read_csv(path+r\"/cells.csv\")\n",
    "features=pd.read_csv(path+'/cell_feature_matrix/features.tsv',sep='\\t',header=None,index_col=0)\n",
    "barcodes=pd.read_csv(path+'/cell_feature_matrix/barcodes.tsv',header=None,index_col=0)\n",
    "adata=sc.AnnData(ad.transpose(),obs=cell_info,var=features)\n",
    "adata.var.index.name='index'\n",
    "adata.var.columns=['gene_id','reason_of_inclusion']\n",
    "panel_info=pd.read_csv(path+'/panel.tsv',sep='\\t')\n",
    "dict_annotation=dict(zip(panel_info['Name'],panel_info['Annotation']))\n",
    "dict_ENSEMBL=dict(zip(panel_info['Name'],panel_info['Ensembl ID']))\n",
    "adata.var['Annotation']=adata.var.index.map(dict_annotation)\n",
    "adata.var['Ensembl ID']=adata.var.index.map(dict_ENSEMBL)\n",
    "adata.var['in_panel']=adata.var.index.isin(panel_info['Name'])\n",
    "transcripts=pd.read_csv(path+'/transcripts.csv',index_col=0)\n",
    "adata.uns['spots']=transcripts\n",
    "try:\n",
    "    UMAP=pd.read_csv(path+'/analysis/umap/gene_expression_2_components/projection.csv',index_col=0)\n",
    "    adata.obsm['X_umap']=np.array(UMAP)\n",
    "    TSNE=pd.read_csv(path+'/analysis/tsne/gene_expression_2_components/projection.csv',index_col=0)\n",
    "    adata.obsm['X_tsne']=np.array(TSNE)\n",
    "    PCA=pd.read_csv(path+'/analysis/PCA/gene_expression_10_components/projection.csv',index_col=0)\n",
    "    adata.obsm['X_pca']=np.array(PCA)\n",
    "    clusters=pd.read_csv(path+'/analysis/clustering/gene_expression_graphclust/clusters.csv',index_col=0)\n",
    "    adata.obs['graph_clusters']=list(clusters['Cluster'].astype(str))\n",
    "    kmeans2=pd.read_csv(path+'/analysis/clustering/gene_expression_kmeans_2_clusters/clusters.csv',index_col=0)\n",
    "    adata.obs['kmeans2_clusters']=list(kmeans2['Cluster'].astype(str))\n",
    "    kmeans3=pd.read_csv(path+'/analysis/clustering/gene_expression_kmeans_2_clusters/clusters.csv',index_col=0)\n",
    "    adata.obs['kmeans3_clusters']=list(kmeans3['Cluster'].astype(str))\n",
    "    kmeans4=pd.read_csv(path+'/analysis/clustering/gene_expression_kmeans_2_clusters/clusters.csv',index_col=0)\n",
    "    adata.obs['kmeans4_clusters']=list(kmeans4['Cluster'].astype(str))\n",
    "    kmeans5=pd.read_csv(path+'/analysis/clustering/gene_expression_kmeans_2_clusters/clusters.csv',index_col=0)\n",
    "    adata.obs['kmeans5_clusters']=list(kmeans5['Cluster'].astype(str))\n",
    "    kmeans6=pd.read_csv(path+'/analysis/clustering/gene_expression_kmeans_2_clusters/clusters.csv',index_col=0)\n",
    "    adata.obs['kmeans6_clusters']=list(kmeans6['Cluster'].astype(str))\n",
    "    kmeans7=pd.read_csv(path+'/analysis/clustering/gene_expression_kmeans_2_clusters/clusters.csv',index_col=0)\n",
    "    adata.obs['kmeans7_clusters']=list(kmeans7['Cluster'].astype(str))\n",
    "    kmeans8=pd.read_csv(path+'/analysis/clustering/gene_expression_kmeans_2_clusters/clusters.csv',index_col=0)\n",
    "    adata.obs['kmeans8_clusters']=list(kmeans8['Cluster'].astype(str))\n",
    "    kmeans9=pd.read_csv(path+'/analysis/clustering/gene_expression_kmeans_2_clusters/clusters.csv',index_col=0)\n",
    "    adata.obs['kmeans9_clusters']=list(kmeans9['Cluster'].astype(str))\n",
    "    kmeans10=pd.read_csv(path+'/analysis/clustering/gene_expression_kmeans_2_clusters/clusters.csv',index_col=0)\n",
    "    adata.obs['kmeans10_clusters']=list(kmeans10['Cluster'].astype(str))\n",
    "except:\n",
    "    print('UMAP and clusters_could not be recovered')\n",
    "adata.write(output_path+tag+'.h5ad')\n"
   ]
  },
  {
   "cell_type": "code",
   "execution_count": null,
   "metadata": {},
   "outputs": [],
   "source": []
  },
  {
   "cell_type": "code",
   "execution_count": null,
   "metadata": {},
   "outputs": [],
   "source": []
  },
  {
   "cell_type": "code",
   "execution_count": null,
   "metadata": {},
   "outputs": [],
   "source": []
  },
  {
   "cell_type": "code",
   "execution_count": 38,
   "metadata": {},
   "outputs": [
    {
     "data": {
      "text/plain": [
       "(541, 3)"
      ]
     },
     "execution_count": 38,
     "metadata": {},
     "output_type": "execute_result"
    }
   ],
   "source": [
    "features.shape"
   ]
  },
  {
   "cell_type": "code",
   "execution_count": 37,
   "metadata": {},
   "outputs": [
    {
     "data": {
      "text/plain": [
       "(541, 26372)"
      ]
     },
     "execution_count": 37,
     "metadata": {},
     "output_type": "execute_result"
    }
   ],
   "source": [
    "ad.shape"
   ]
  },
  {
   "cell_type": "code",
   "execution_count": null,
   "metadata": {},
   "outputs": [],
   "source": []
  }
 ],
 "metadata": {
  "kernelspec": {
   "display_name": "xenium_benchmarking",
   "language": "python",
   "name": "xenium_benchmarking"
  },
  "language_info": {
   "codemirror_mode": {
    "name": "ipython",
    "version": 3
   },
   "file_extension": ".py",
   "mimetype": "text/x-python",
   "name": "python",
   "nbconvert_exporter": "python",
   "pygments_lexer": "ipython3",
   "version": "3.8.10"
  }
 },
 "nbformat": 4,
 "nbformat_minor": 4
}
