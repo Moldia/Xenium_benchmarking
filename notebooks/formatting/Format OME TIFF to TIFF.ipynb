{
 "cells": [
  {
   "cell_type": "code",
   "execution_count": 12,
   "metadata": {},
   "outputs": [],
   "source": [
    "# This scipt aims to convert OME-TIFF to tiff"
   ]
  },
  {
   "cell_type": "code",
   "execution_count": 1,
   "metadata": {},
   "outputs": [],
   "source": [
    "import tifffile as tf"
   ]
  },
  {
   "cell_type": "code",
   "execution_count": 2,
   "metadata": {},
   "outputs": [
    {
     "name": "stdout",
     "output_type": "stream",
     "text": [
      "^C\r\n",
      "\u001b[31mERROR: Operation cancelled by user\u001b[0m\r\n"
     ]
    }
   ],
   "source": [
    "!pip install imagecodecs"
   ]
  },
  {
   "cell_type": "code",
   "execution_count": 6,
   "metadata": {},
   "outputs": [],
   "source": [
    "path=r'/mnt/c/Users/sergio.salas/Documents/PhD/projects/Xenium_postprocessing/datasets_updated_25sept2022/xenium_prerelease_jun20_mBrain_replicates_updated/mBrain_ff_rep1'"
   ]
  },
  {
   "cell_type": "code",
   "execution_count": 3,
   "metadata": {},
   "outputs": [],
   "source": []
  },
  {
   "cell_type": "code",
   "execution_count": 4,
   "metadata": {},
   "outputs": [
    {
     "data": {
      "text/plain": [
       "'YX'"
      ]
     },
     "execution_count": 4,
     "metadata": {},
     "output_type": "execute_result"
    }
   ],
   "source": [
    "def format_background(path):\n",
    "    IM=tf.TiffFile(path+'/morphology_mip.ome.tif')\n",
    "    position1_series = IM.series[0]\n",
    "    position1_series.axes\n",
    "    position1 = position1_series.asarray()\n",
    "    tf.imwrite(path+'/background.tiff',position1)"
   ]
  },
  {
   "cell_type": "code",
   "execution_count": 5,
   "metadata": {},
   "outputs": [],
   "source": []
  },
  {
   "cell_type": "code",
   "execution_count": 6,
   "metadata": {},
   "outputs": [],
   "source": []
  },
  {
   "cell_type": "code",
   "execution_count": 13,
   "metadata": {},
   "outputs": [],
   "source": [
    "import pandas as pd\n",
    "trans=pd.read_csv(path+'/transcripts.csv')"
   ]
  },
  {
   "cell_type": "code",
   "execution_count": 14,
   "metadata": {},
   "outputs": [],
   "source": [
    "trans['x']=trans['x_location']/0.2125\n",
    "trans['y']=trans['y_location']/0.2125"
   ]
  },
  {
   "cell_type": "code",
   "execution_count": 19,
   "metadata": {},
   "outputs": [
    {
     "data": {
      "text/plain": [
       "661788"
      ]
     },
     "execution_count": 19,
     "metadata": {},
     "output_type": "execute_result"
    }
   ],
   "source": [
    "import numpy as np\n",
    "np.sum(trans['cell_id']==-1)"
   ]
  },
  {
   "cell_type": "code",
   "execution_count": 22,
   "metadata": {},
   "outputs": [
    {
     "data": {
      "text/html": [
       "<div>\n",
       "<style scoped>\n",
       "    .dataframe tbody tr th:only-of-type {\n",
       "        vertical-align: middle;\n",
       "    }\n",
       "\n",
       "    .dataframe tbody tr th {\n",
       "        vertical-align: top;\n",
       "    }\n",
       "\n",
       "    .dataframe thead th {\n",
       "        text-align: right;\n",
       "    }\n",
       "</style>\n",
       "<table border=\"1\" class=\"dataframe\">\n",
       "  <thead>\n",
       "    <tr style=\"text-align: right;\">\n",
       "      <th></th>\n",
       "      <th>transcript_id</th>\n",
       "      <th>cell_id</th>\n",
       "      <th>overlaps_nucleus</th>\n",
       "      <th>feature_name</th>\n",
       "      <th>x_location</th>\n",
       "      <th>y_location</th>\n",
       "      <th>z_location</th>\n",
       "      <th>qv</th>\n",
       "      <th>x</th>\n",
       "      <th>y</th>\n",
       "    </tr>\n",
       "  </thead>\n",
       "  <tbody>\n",
       "    <tr>\n",
       "      <th>0</th>\n",
       "      <td>281496451547136</td>\n",
       "      <td>6435</td>\n",
       "      <td>1</td>\n",
       "      <td>NegControlCodeword_0505</td>\n",
       "      <td>47.404972</td>\n",
       "      <td>2041.5103</td>\n",
       "      <td>13.592865</td>\n",
       "      <td>19.736050</td>\n",
       "      <td>223.082221</td>\n",
       "      <td>9607.107294</td>\n",
       "    </tr>\n",
       "    <tr>\n",
       "      <th>1</th>\n",
       "      <td>281496451547137</td>\n",
       "      <td>252</td>\n",
       "      <td>0</td>\n",
       "      <td>Sox10</td>\n",
       "      <td>7.492498</td>\n",
       "      <td>1074.2043</td>\n",
       "      <td>14.628445</td>\n",
       "      <td>19.876242</td>\n",
       "      <td>35.258814</td>\n",
       "      <td>5055.079059</td>\n",
       "    </tr>\n",
       "    <tr>\n",
       "      <th>2</th>\n",
       "      <td>281496451547138</td>\n",
       "      <td>5788</td>\n",
       "      <td>0</td>\n",
       "      <td>Neurod6</td>\n",
       "      <td>597.499200</td>\n",
       "      <td>1908.6559</td>\n",
       "      <td>13.913390</td>\n",
       "      <td>19.505224</td>\n",
       "      <td>2811.760941</td>\n",
       "      <td>8981.910118</td>\n",
       "    </tr>\n",
       "    <tr>\n",
       "      <th>3</th>\n",
       "      <td>281496451547139</td>\n",
       "      <td>4819</td>\n",
       "      <td>1</td>\n",
       "      <td>Neurod6</td>\n",
       "      <td>596.572800</td>\n",
       "      <td>1062.4052</td>\n",
       "      <td>15.545630</td>\n",
       "      <td>19.797620</td>\n",
       "      <td>2807.401412</td>\n",
       "      <td>4999.553882</td>\n",
       "    </tr>\n",
       "    <tr>\n",
       "      <th>4</th>\n",
       "      <td>281496451547140</td>\n",
       "      <td>5139</td>\n",
       "      <td>1</td>\n",
       "      <td>Dkk3</td>\n",
       "      <td>176.066730</td>\n",
       "      <td>1187.6486</td>\n",
       "      <td>14.824332</td>\n",
       "      <td>19.784027</td>\n",
       "      <td>828.549318</td>\n",
       "      <td>5588.934588</td>\n",
       "    </tr>\n",
       "    <tr>\n",
       "      <th>...</th>\n",
       "      <td>...</td>\n",
       "      <td>...</td>\n",
       "      <td>...</td>\n",
       "      <td>...</td>\n",
       "      <td>...</td>\n",
       "      <td>...</td>\n",
       "      <td>...</td>\n",
       "      <td>...</td>\n",
       "      <td>...</td>\n",
       "      <td>...</td>\n",
       "    </tr>\n",
       "    <tr>\n",
       "      <th>8161008</th>\n",
       "      <td>281513631826456</td>\n",
       "      <td>2248</td>\n",
       "      <td>1</td>\n",
       "      <td>Parm1</td>\n",
       "      <td>2903.128700</td>\n",
       "      <td>1953.1665</td>\n",
       "      <td>28.603460</td>\n",
       "      <td>20.588556</td>\n",
       "      <td>13661.782118</td>\n",
       "      <td>9191.371765</td>\n",
       "    </tr>\n",
       "    <tr>\n",
       "      <th>8161009</th>\n",
       "      <td>281513631826457</td>\n",
       "      <td>2231</td>\n",
       "      <td>1</td>\n",
       "      <td>Sema6a</td>\n",
       "      <td>2918.454300</td>\n",
       "      <td>1816.0531</td>\n",
       "      <td>29.642420</td>\n",
       "      <td>13.637909</td>\n",
       "      <td>13733.902588</td>\n",
       "      <td>8546.132235</td>\n",
       "    </tr>\n",
       "    <tr>\n",
       "      <th>8161010</th>\n",
       "      <td>281513631826458</td>\n",
       "      <td>2231</td>\n",
       "      <td>0</td>\n",
       "      <td>Rasgrf2</td>\n",
       "      <td>2921.778300</td>\n",
       "      <td>1818.0233</td>\n",
       "      <td>29.178177</td>\n",
       "      <td>15.616901</td>\n",
       "      <td>13749.544941</td>\n",
       "      <td>8555.403765</td>\n",
       "    </tr>\n",
       "    <tr>\n",
       "      <th>8161011</th>\n",
       "      <td>281513631826459</td>\n",
       "      <td>2234</td>\n",
       "      <td>1</td>\n",
       "      <td>Sema6a</td>\n",
       "      <td>2907.748000</td>\n",
       "      <td>1832.5303</td>\n",
       "      <td>29.274850</td>\n",
       "      <td>40.000000</td>\n",
       "      <td>13683.520000</td>\n",
       "      <td>8623.672000</td>\n",
       "    </tr>\n",
       "    <tr>\n",
       "      <th>8161012</th>\n",
       "      <td>281513631826460</td>\n",
       "      <td>24040</td>\n",
       "      <td>1</td>\n",
       "      <td>Zfp536</td>\n",
       "      <td>2884.126200</td>\n",
       "      <td>1746.9756</td>\n",
       "      <td>30.301258</td>\n",
       "      <td>40.000000</td>\n",
       "      <td>13572.358588</td>\n",
       "      <td>8221.061647</td>\n",
       "    </tr>\n",
       "  </tbody>\n",
       "</table>\n",
       "<p>8161013 rows × 10 columns</p>\n",
       "</div>"
      ],
      "text/plain": [
       "           transcript_id  cell_id  overlaps_nucleus             feature_name  \\\n",
       "0        281496451547136     6435                 1  NegControlCodeword_0505   \n",
       "1        281496451547137      252                 0                    Sox10   \n",
       "2        281496451547138     5788                 0                  Neurod6   \n",
       "3        281496451547139     4819                 1                  Neurod6   \n",
       "4        281496451547140     5139                 1                     Dkk3   \n",
       "...                  ...      ...               ...                      ...   \n",
       "8161008  281513631826456     2248                 1                    Parm1   \n",
       "8161009  281513631826457     2231                 1                   Sema6a   \n",
       "8161010  281513631826458     2231                 0                  Rasgrf2   \n",
       "8161011  281513631826459     2234                 1                   Sema6a   \n",
       "8161012  281513631826460    24040                 1                   Zfp536   \n",
       "\n",
       "          x_location  y_location  z_location         qv             x  \\\n",
       "0          47.404972   2041.5103   13.592865  19.736050    223.082221   \n",
       "1           7.492498   1074.2043   14.628445  19.876242     35.258814   \n",
       "2         597.499200   1908.6559   13.913390  19.505224   2811.760941   \n",
       "3         596.572800   1062.4052   15.545630  19.797620   2807.401412   \n",
       "4         176.066730   1187.6486   14.824332  19.784027    828.549318   \n",
       "...              ...         ...         ...        ...           ...   \n",
       "8161008  2903.128700   1953.1665   28.603460  20.588556  13661.782118   \n",
       "8161009  2918.454300   1816.0531   29.642420  13.637909  13733.902588   \n",
       "8161010  2921.778300   1818.0233   29.178177  15.616901  13749.544941   \n",
       "8161011  2907.748000   1832.5303   29.274850  40.000000  13683.520000   \n",
       "8161012  2884.126200   1746.9756   30.301258  40.000000  13572.358588   \n",
       "\n",
       "                   y  \n",
       "0        9607.107294  \n",
       "1        5055.079059  \n",
       "2        8981.910118  \n",
       "3        4999.553882  \n",
       "4        5588.934588  \n",
       "...              ...  \n",
       "8161008  9191.371765  \n",
       "8161009  8546.132235  \n",
       "8161010  8555.403765  \n",
       "8161011  8623.672000  \n",
       "8161012  8221.061647  \n",
       "\n",
       "[8161013 rows x 10 columns]"
      ]
     },
     "execution_count": 22,
     "metadata": {},
     "output_type": "execute_result"
    }
   ],
   "source": [
    "trans"
   ]
  },
  {
   "cell_type": "code",
   "execution_count": 23,
   "metadata": {},
   "outputs": [],
   "source": [
    "trans.loc[trans['cell_id']==-1,'overlaps_nucleus']=-1"
   ]
  },
  {
   "cell_type": "code",
   "execution_count": 24,
   "metadata": {},
   "outputs": [],
   "source": [
    "tr=trans.loc[:,['x','y','feature_name','overlaps_nucleus']]"
   ]
  },
  {
   "cell_type": "code",
   "execution_count": 25,
   "metadata": {},
   "outputs": [],
   "source": [
    "tr.to_csv(path+'/transcripts_transformed.csv')"
   ]
  },
  {
   "cell_type": "code",
   "execution_count": 11,
   "metadata": {},
   "outputs": [
    {
     "data": {
      "text/plain": [
       "(29051, 37106)"
      ]
     },
     "execution_count": 11,
     "metadata": {},
     "output_type": "execute_result"
    }
   ],
   "source": [
    "position1.shape"
   ]
  },
  {
   "cell_type": "code",
   "execution_count": 14,
   "metadata": {},
   "outputs": [
    {
     "data": {
      "text/plain": [
       "2290.6786127500004"
      ]
     },
     "execution_count": 14,
     "metadata": {},
     "output_type": "execute_result"
    }
   ],
   "source": [
    "(position1.shape[0]*position1.shape[1])*0.2125*10e-6"
   ]
  },
  {
   "cell_type": "code",
   "execution_count": 17,
   "metadata": {},
   "outputs": [
    {
     "data": {
      "text/plain": [
       "225"
      ]
     },
     "execution_count": 17,
     "metadata": {},
     "output_type": "execute_result"
    }
   ],
   "source": [
    "15*15"
   ]
  },
  {
   "cell_type": "code",
   "execution_count": null,
   "metadata": {},
   "outputs": [],
   "source": [
    "img = position1[t, c, ...]"
   ]
  }
 ],
 "metadata": {
  "kernelspec": {
   "display_name": "Python 3",
   "language": "python",
   "name": "python3"
  },
  "language_info": {
   "codemirror_mode": {
    "name": "ipython",
    "version": 3
   },
   "file_extension": ".py",
   "mimetype": "text/x-python",
   "name": "python",
   "nbconvert_exporter": "python",
   "pygments_lexer": "ipython3",
   "version": "3.8.5"
  }
 },
 "nbformat": 4,
 "nbformat_minor": 4
}
