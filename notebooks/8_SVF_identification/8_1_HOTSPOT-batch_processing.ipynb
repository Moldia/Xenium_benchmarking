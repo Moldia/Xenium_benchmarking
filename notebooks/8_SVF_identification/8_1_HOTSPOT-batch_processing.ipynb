{
 "cells": [
  {
   "cell_type": "markdown",
   "metadata": {},
   "source": [
    "In this notebook we apply HOTSPOT to identify SVFs across datasets"
   ]
  },
  {
   "cell_type": "code",
   "execution_count": 2,
   "metadata": {},
   "outputs": [],
   "source": [
    "import numpy as np\n",
    "import pandas as pd\n",
    "import scanpy as sc\n",
    "import seaborn as sns\n",
    "import matplotlib.pyplot as plt\n",
    "import hotspot\n",
    "import os"
   ]
  },
  {
   "cell_type": "code",
   "execution_count": 3,
   "metadata": {},
   "outputs": [],
   "source": [
    "maindir='../../data/unprocessed_adata/'\n",
    "output_dir='../../data/unprocessed_adata_nuclei/'\n",
    "files=os.listdir(maindir)\n",
    "files=['ms_brain_multisection1.h5ad',\n",
    "       'human_brain.h5ad',\n",
    " 'ms_brain_multisection2.h5ad',\n",
    " 'ms_brain_multisection3.h5ad',\n",
    "'realmouse_1.h5ad',\n",
    " 'realmouse_2.h5ad',\n",
    " 'realmouse_3.h5ad',\n",
    " 'realmouse_4.h5ad',\n",
    "    'hbreast_idc_addon_set1.h5ad',\n",
    " 'hbreast_idc_addon_set2.h5ad',\n",
    " 'hbreast_idc_addon_set4.h5ad',\n",
    " 'hbreast_idc_entiresample_set3.h5ad',\n",
    " 'hbreast_ilc_addon_set2.h5ad',\n",
    " 'hbreast_ilc_addon_set4.h5ad',\n",
    " 'hbreast_ilc_entiresample_set3.h5ad',\n",
    " 'healthy_lung.h5ad',\n",
    " 'human_alzheimers.h5ad',\n",
    " 'human_gbm.h5ad',\n",
    " 'human_spinal_chord_active.h5ad',\n",
    " 'human_spinal_chord_inactive.h5ad',\n",
    " 'h_breast_1.h5ad',\n",
    " 'h_breast_2.h5ad',\n",
    " 'lung_cancer.h5ad',\n",
    " 'ms_brain_fullcoronal.h5ad',\n",
    " 'ms_brain_partialcoronal.h5ad',\n",
    " ]"
   ]
  },
  {
   "cell_type": "markdown",
   "metadata": {},
   "source": [
    "# Run HOTSPOT ON ALL samples"
   ]
  },
  {
   "cell_type": "code",
   "execution_count": 25,
   "metadata": {},
   "outputs": [
    {
     "name": "stdout",
     "output_type": "stream",
     "text": [
      "ms_brain_multisection1.h5ad\n",
      "exists\n",
      "human_brain.h5ad\n",
      "exists\n",
      "ms_brain_multisection2.h5ad\n",
      "exists\n",
      "ms_brain_multisection3.h5ad\n",
      "exists\n",
      "realmouse_1.h5ad\n",
      "exists\n",
      "realmouse_2.h5ad\n",
      "exists\n",
      "realmouse_3.h5ad\n",
      "exists\n",
      "realmouse_4.h5ad\n",
      "exists\n",
      "hbreast_idc_addon_set1.h5ad\n",
      "not possible\n",
      "hbreast_idc_addon_set2.h5ad\n",
      "not possible\n",
      "hbreast_idc_addon_set4.h5ad\n",
      "not possible\n",
      "hbreast_idc_entiresample_set3.h5ad\n",
      "not possible\n",
      "hbreast_ilc_addon_set2.h5ad\n",
      "exists\n",
      "hbreast_ilc_addon_set4.h5ad\n",
      "exists\n",
      "hbreast_ilc_entiresample_set3.h5ad\n",
      "exists\n",
      "healthy_lung.h5ad\n",
      "exists\n",
      "human_alzheimers.h5ad\n",
      "exists\n",
      "human_gbm.h5ad\n",
      "exists\n",
      "human_spinal_chord_active.h5ad\n",
      "exists\n",
      "human_spinal_chord_inactive.h5ad\n",
      "exists\n",
      "h_breast_1.h5ad\n",
      "exists\n",
      "h_breast_2.h5ad\n",
      "exists\n",
      "lung_cancer.h5ad\n",
      "exists\n",
      "ms_brain_fullcoronal.h5ad\n",
      "exists\n",
      "ms_brain_partialcoronal.h5ad\n",
      "exists\n"
     ]
    }
   ],
   "source": [
    "for f in files[:]:\n",
    "    try:\n",
    "        print(f)\n",
    "        if not os.path.exists('../../figures/SVF/'+str(f.split('.')[0])+'__hotspot.csv'):\n",
    "            adata1=sc.read(output_dir+f)\n",
    "            adata1.obsm[\"spatial\"]=np.array([adata1.obs.x_centroid,adata1.obs.y_centroid]).transpose().astype('float64')\n",
    "            adata1.obsm['spatial']=np.array(adata1.obs.loc[:,['x_centroid','y_centroid']])\n",
    "            adata1=sc.AnnData(adata1.X,obs=adata1.obs,var=adata1.var,obsm=adata1.obsm)\n",
    "            adata1.obs['total_counts']=adata1.obs['total_counts'].astype(float)\n",
    "            adata1=adata1[adata1.obs['total_counts']!=0]\n",
    "            adata1.layers['raw']=adata1.X\n",
    "            hs = hotspot.Hotspot(\n",
    "                adata1,\n",
    "                layer_key='raw',\n",
    "                model='bernoulli',\n",
    "                latent_obsm_key=\"spatial\",\n",
    "                umi_counts_obs_key=\"total_counts\")\n",
    "            hs.create_knn_graph(\n",
    "                weighted_graph=False, n_neighbors=10,\n",
    "            )\n",
    "            hs_results = hs.compute_autocorrelations(jobs=1)\n",
    "            # We use the Z score to rank genes. C order is pretty much the same\n",
    "            hs_results['rank']=list(hs_results['Z'].rank())\n",
    "            hs_results=hs_results.loc[:,['Pval','FDR','rank']]\n",
    "            hs_results.to_csv('../../figures/SVF/'+str(f.split('.')[0])+'__hotspot.csv')\n",
    "            print('done')\n",
    "        else:\n",
    "            print('exists')\n",
    "    except:\n",
    "        print('not possible')"
   ]
  },
  {
   "cell_type": "markdown",
   "metadata": {},
   "source": [
    "# Run HOTSPOT on 5000 cells"
   ]
  },
  {
   "cell_type": "code",
   "execution_count": 49,
   "metadata": {},
   "outputs": [
    {
     "name": "stdout",
     "output_type": "stream",
     "text": [
      "ms_brain_multisection1.h5ad\n"
     ]
    },
    {
     "name": "stderr",
     "output_type": "stream",
     "text": [
      "100%|████████████████████████████████████████████████████████████████████████████████| 541/541 [00:01<00:00, 377.72it/s]\n"
     ]
    },
    {
     "name": "stdout",
     "output_type": "stream",
     "text": [
      "done\n",
      "human_brain.h5ad\n"
     ]
    },
    {
     "name": "stderr",
     "output_type": "stream",
     "text": [
      "100%|████████████████████████████████████████████████████████████████████████████████| 525/525 [00:01<00:00, 374.26it/s]\n"
     ]
    },
    {
     "name": "stdout",
     "output_type": "stream",
     "text": [
      "done\n",
      "ms_brain_multisection2.h5ad\n"
     ]
    },
    {
     "name": "stderr",
     "output_type": "stream",
     "text": [
      "100%|████████████████████████████████████████████████████████████████████████████████| 540/540 [00:01<00:00, 390.48it/s]\n"
     ]
    },
    {
     "name": "stdout",
     "output_type": "stream",
     "text": [
      "done\n",
      "ms_brain_multisection3.h5ad\n"
     ]
    },
    {
     "name": "stderr",
     "output_type": "stream",
     "text": [
      "100%|████████████████████████████████████████████████████████████████████████████████| 541/541 [00:01<00:00, 370.58it/s]\n"
     ]
    },
    {
     "name": "stdout",
     "output_type": "stream",
     "text": [
      "done\n",
      "realmouse_1.h5ad\n",
      "exists\n",
      "realmouse_2.h5ad\n"
     ]
    },
    {
     "name": "stderr",
     "output_type": "stream",
     "text": [
      "100%|████████████████████████████████████████████████████████████████████████████████| 541/541 [00:01<00:00, 366.72it/s]\n"
     ]
    },
    {
     "name": "stdout",
     "output_type": "stream",
     "text": [
      "done\n",
      "realmouse_3.h5ad\n"
     ]
    },
    {
     "name": "stderr",
     "output_type": "stream",
     "text": [
      "100%|████████████████████████████████████████████████████████████████████████████████| 541/541 [00:01<00:00, 380.65it/s]\n"
     ]
    },
    {
     "name": "stdout",
     "output_type": "stream",
     "text": [
      "done\n",
      "realmouse_4.h5ad\n"
     ]
    },
    {
     "name": "stderr",
     "output_type": "stream",
     "text": [
      "100%|████████████████████████████████████████████████████████████████████████████████| 541/541 [00:01<00:00, 363.44it/s]\n"
     ]
    },
    {
     "name": "stdout",
     "output_type": "stream",
     "text": [
      "done\n",
      "hbreast_idc_addon_set1.h5ad\n",
      "not possible\n",
      "hbreast_idc_addon_set2.h5ad\n",
      "not possible\n",
      "hbreast_idc_addon_set4.h5ad\n",
      "not possible\n",
      "hbreast_idc_entiresample_set3.h5ad\n",
      "not possible\n",
      "hbreast_ilc_addon_set2.h5ad\n"
     ]
    },
    {
     "name": "stderr",
     "output_type": "stream",
     "text": [
      "100%|████████████████████████████████████████████████████████████████████████████████| 529/529 [00:01<00:00, 374.71it/s]\n"
     ]
    },
    {
     "name": "stdout",
     "output_type": "stream",
     "text": [
      "done\n",
      "hbreast_ilc_addon_set4.h5ad\n"
     ]
    },
    {
     "name": "stderr",
     "output_type": "stream",
     "text": [
      "100%|████████████████████████████████████████████████████████████████████████████████| 520/520 [00:01<00:00, 382.05it/s]\n"
     ]
    },
    {
     "name": "stdout",
     "output_type": "stream",
     "text": [
      "done\n",
      "hbreast_ilc_entiresample_set3.h5ad\n"
     ]
    },
    {
     "name": "stderr",
     "output_type": "stream",
     "text": [
      "100%|████████████████████████████████████████████████████████████████████████████████| 525/525 [00:01<00:00, 368.55it/s]\n"
     ]
    },
    {
     "name": "stdout",
     "output_type": "stream",
     "text": [
      "done\n",
      "healthy_lung.h5ad\n"
     ]
    },
    {
     "name": "stderr",
     "output_type": "stream",
     "text": [
      "100%|████████████████████████████████████████████████████████████████████████████████| 519/519 [00:01<00:00, 422.83it/s]\n"
     ]
    },
    {
     "name": "stdout",
     "output_type": "stream",
     "text": [
      "done\n",
      "human_alzheimers.h5ad\n"
     ]
    },
    {
     "name": "stderr",
     "output_type": "stream",
     "text": [
      "100%|████████████████████████████████████████████████████████████████████████████████| 489/489 [00:01<00:00, 347.65it/s]\n"
     ]
    },
    {
     "name": "stdout",
     "output_type": "stream",
     "text": [
      "done\n",
      "human_gbm.h5ad\n"
     ]
    },
    {
     "name": "stderr",
     "output_type": "stream",
     "text": [
      "100%|████████████████████████████████████████████████████████████████████████████████| 540/540 [00:01<00:00, 342.90it/s]\n"
     ]
    },
    {
     "name": "stdout",
     "output_type": "stream",
     "text": [
      "done\n",
      "human_spinal_chord_active.h5ad\n"
     ]
    },
    {
     "name": "stderr",
     "output_type": "stream",
     "text": [
      "100%|████████████████████████████████████████████████████████████████████████████████| 528/528 [00:01<00:00, 367.60it/s]\n"
     ]
    },
    {
     "name": "stdout",
     "output_type": "stream",
     "text": [
      "done\n",
      "human_spinal_chord_inactive.h5ad\n"
     ]
    },
    {
     "name": "stderr",
     "output_type": "stream",
     "text": [
      "100%|████████████████████████████████████████████████████████████████████████████████| 536/536 [00:01<00:00, 357.13it/s]\n"
     ]
    },
    {
     "name": "stdout",
     "output_type": "stream",
     "text": [
      "done\n",
      "h_breast_1.h5ad\n"
     ]
    },
    {
     "name": "stderr",
     "output_type": "stream",
     "text": [
      "100%|████████████████████████████████████████████████████████████████████████████████| 373/373 [00:01<00:00, 355.15it/s]\n"
     ]
    },
    {
     "name": "stdout",
     "output_type": "stream",
     "text": [
      "done\n",
      "h_breast_2.h5ad\n"
     ]
    },
    {
     "name": "stderr",
     "output_type": "stream",
     "text": [
      "100%|████████████████████████████████████████████████████████████████████████████████| 521/521 [00:01<00:00, 324.91it/s]\n"
     ]
    },
    {
     "name": "stdout",
     "output_type": "stream",
     "text": [
      "done\n",
      "lung_cancer.h5ad\n"
     ]
    },
    {
     "name": "stderr",
     "output_type": "stream",
     "text": [
      "100%|████████████████████████████████████████████████████████████████████████████████| 512/512 [00:01<00:00, 360.36it/s]\n"
     ]
    },
    {
     "name": "stdout",
     "output_type": "stream",
     "text": [
      "done\n",
      "ms_brain_fullcoronal.h5ad\n"
     ]
    },
    {
     "name": "stderr",
     "output_type": "stream",
     "text": [
      "100%|████████████████████████████████████████████████████████████████████████████████| 536/536 [00:01<00:00, 358.93it/s]\n"
     ]
    },
    {
     "name": "stdout",
     "output_type": "stream",
     "text": [
      "done\n",
      "ms_brain_partialcoronal.h5ad\n"
     ]
    },
    {
     "name": "stderr",
     "output_type": "stream",
     "text": [
      "100%|████████████████████████████████████████████████████████████████████████████████| 537/537 [00:01<00:00, 342.50it/s]"
     ]
    },
    {
     "name": "stdout",
     "output_type": "stream",
     "text": [
      "done\n"
     ]
    },
    {
     "name": "stderr",
     "output_type": "stream",
     "text": [
      "\n"
     ]
    }
   ],
   "source": [
    "for f in files[:]:\n",
    "    try:\n",
    "        print(f)\n",
    "        if not os.path.exists('../../figures/SVF/'+str(f.split('.')[0])+'__hotspot5000.csv'):\n",
    "            adata1=sc.read(output_dir+f)\n",
    "            adata1.obsm[\"spatial\"]=np.array([adata1.obs.x_centroid,adata1.obs.y_centroid]).transpose().astype('float64')\n",
    "            adata1.obsm['spatial']=np.array(adata1.obs.loc[:,['x_centroid','y_centroid']])\n",
    "            adata1=sc.AnnData(adata1.X,obs=adata1.obs,var=adata1.var,obsm=adata1.obsm)\n",
    "            adata1.obs['total_counts']=adata1.obs['total_counts'].astype(float)\n",
    "            adata1=adata1[adata1.obs['total_counts']!=0]\n",
    "            adata1.layers['raw']=adata1.X\n",
    "            import random\n",
    "            some=random.sample(range(0,adata1.shape[0]),5000)\n",
    "            adata1=adata1[some,:]\n",
    "            adata1=adata1[:,np.sum(adata1.X,axis=0)>0]\n",
    "            hs = hotspot.Hotspot(\n",
    "                adata1,\n",
    "                layer_key='raw',\n",
    "                model='bernoulli',\n",
    "                latent_obsm_key=\"spatial\",\n",
    "                umi_counts_obs_key=\"total_counts\")\n",
    "            hs.create_knn_graph(\n",
    "                weighted_graph=False, n_neighbors=10,\n",
    "            )\n",
    "            hs_results = hs.compute_autocorrelations(jobs=1)\n",
    "            # We use the Z score to rank genes. C order is pretty much the same\n",
    "            hs_results['rank']=list(hs_results['Z'].rank())\n",
    "            hs_results=hs_results.loc[:,['Pval','FDR','rank']]\n",
    "            hs_results.to_csv('../../figures/SVF/'+str(f.split('.')[0])+'__hotspot5000.csv')\n",
    "            print('done')\n",
    "        else:\n",
    "            print('exists')\n",
    "    except:\n",
    "        print('not possible')"
   ]
  },
  {
   "cell_type": "code",
   "execution_count": null,
   "metadata": {},
   "outputs": [],
   "source": []
  },
  {
   "cell_type": "code",
   "execution_count": null,
   "metadata": {},
   "outputs": [],
   "source": []
  },
  {
   "cell_type": "markdown",
   "metadata": {},
   "source": [
    "# Times HOTSPOT"
   ]
  },
  {
   "cell_type": "code",
   "execution_count": 26,
   "metadata": {},
   "outputs": [],
   "source": []
  },
  {
   "cell_type": "code",
   "execution_count": 34,
   "metadata": {},
   "outputs": [
    {
     "name": "stdout",
     "output_type": "stream",
     "text": [
      "ms_brain_multisection1.h5ad\n"
     ]
    },
    {
     "name": "stderr",
     "output_type": "stream",
     "text": [
      "100%|███████████████████████████████████████████████████████████████████████████████| 449/449 [00:00<00:00, 1079.52it/s]\n"
     ]
    },
    {
     "name": "stdout",
     "output_type": "stream",
     "text": [
      "ms_brain_multisection1.h5ad\n"
     ]
    },
    {
     "name": "stderr",
     "output_type": "stream",
     "text": [
      "100%|████████████████████████████████████████████████████████████████████████████████| 521/521 [00:00<00:00, 830.22it/s]\n"
     ]
    },
    {
     "name": "stdout",
     "output_type": "stream",
     "text": [
      "ms_brain_multisection1.h5ad\n"
     ]
    },
    {
     "name": "stderr",
     "output_type": "stream",
     "text": [
      "100%|████████████████████████████████████████████████████████████████████████████████| 541/541 [00:01<00:00, 331.27it/s]\n"
     ]
    },
    {
     "name": "stdout",
     "output_type": "stream",
     "text": [
      "ms_brain_multisection1.h5ad\n"
     ]
    },
    {
     "name": "stderr",
     "output_type": "stream",
     "text": [
      "100%|████████████████████████████████████████████████████████████████████████████████| 541/541 [00:02<00:00, 193.39it/s]\n"
     ]
    },
    {
     "name": "stdout",
     "output_type": "stream",
     "text": [
      "ms_brain_multisection1.h5ad\n"
     ]
    },
    {
     "name": "stderr",
     "output_type": "stream",
     "text": [
      "100%|█████████████████████████████████████████████████████████████████████████████████| 541/541 [00:12<00:00, 44.38it/s]\n"
     ]
    },
    {
     "name": "stdout",
     "output_type": "stream",
     "text": [
      "ms_brain_multisection1.h5ad\n"
     ]
    },
    {
     "name": "stderr",
     "output_type": "stream",
     "text": [
      "100%|█████████████████████████████████████████████████████████████████████████████████| 541/541 [00:28<00:00, 19.26it/s]\n"
     ]
    }
   ],
   "source": [
    "import time\n",
    "f='ms_brain_multisection1.h5ad'\n",
    "cells=[500,1000,5000,10000,50000,100000]\n",
    "times=[]\n",
    "for cel in cells:\n",
    "    print(f)\n",
    "    start_time = time.time()\n",
    "    adata1=sc.read(output_dir+f)\n",
    "    adata1.obsm[\"spatial\"]=np.array([adata1.obs.x_centroid,adata1.obs.y_centroid]).transpose().astype('float64')\n",
    "    adata1.obsm['spatial']=np.array(adata1.obs.loc[:,['x_centroid','y_centroid']])\n",
    "    adata1=sc.AnnData(adata1.X,obs=adata1.obs,var=adata1.var,obsm=adata1.obsm)\n",
    "    adata1.obs['total_counts']=adata1.obs['total_counts'].astype(float)\n",
    "    adata1=adata1[adata1.obs['total_counts']!=0]\n",
    "    import random\n",
    "    some=random.sample(range(0,adata1.shape[0]),int(cel))\n",
    "    adata1=adata1[some,:]\n",
    "    adata1=adata1[:,np.sum(adata1.X,axis=0)>0]\n",
    "    adata1.layers['raw']=adata1.X\n",
    "    hs = hotspot.Hotspot(\n",
    "        adata1,\n",
    "        layer_key='raw',\n",
    "        model='bernoulli',\n",
    "        latent_obsm_key=\"spatial\",\n",
    "        umi_counts_obs_key=\"total_counts\")\n",
    "    hs.create_knn_graph(\n",
    "        weighted_graph=False, n_neighbors=10,\n",
    "    )\n",
    "    hs_results = hs.compute_autocorrelations(jobs=1)\n",
    "    # We use the Z score to rank genes. C order is pretty much the same\n",
    "    hs_results['rank']=list(hs_results['Z'].rank())\n",
    "    hs_results=hs_results.loc[:,['Pval','FDR','rank']]\n",
    "    end_time = time.time()\n",
    "    times.append(end_time-start_time)"
   ]
  },
  {
   "cell_type": "code",
   "execution_count": 35,
   "metadata": {},
   "outputs": [],
   "source": [
    "timesres=pd.DataFrame([cells,times],index=['cells','times_HOTSPOT']).transpose()"
   ]
  },
  {
   "cell_type": "code",
   "execution_count": 44,
   "metadata": {},
   "outputs": [
    {
     "data": {
      "text/plain": [
       "[<matplotlib.lines.Line2D at 0x7fee4067deb0>]"
      ]
     },
     "execution_count": 44,
     "metadata": {},
     "output_type": "execute_result"
    },
    {
     "data": {
      "image/png": "[encoded data removed]",
      "text/plain": [
       "<Figure size 432x288 with 1 Axes>"
      ]
     },
     "metadata": {
      "needs_background": "light"
     },
     "output_type": "display_data"
    }
   ],
   "source": [
    "plt.plot(list(timesres['cells'].astype(int)),list(timesres['times_HOTSPOT'].astype(float)))"
   ]
  },
  {
   "cell_type": "code",
   "execution_count": 45,
   "metadata": {},
   "outputs": [],
   "source": [
    "timesres.to_csv('../../figures/times_svf/hotspot_times.csv')"
   ]
  }
 ],
 "metadata": {
  "kernelspec": {
   "display_name": "hotspots",
   "language": "python",
   "name": "hotspots"
  },
  "language_info": {
   "codemirror_mode": {
    "name": "ipython",
    "version": 3
   },
   "file_extension": ".py",
   "mimetype": "text/x-python",
   "name": "python",
   "nbconvert_exporter": "python",
   "pygments_lexer": "ipython3",
   "version": "3.8.10"
  }
 },
 "nbformat": 4,
 "nbformat_minor": 4
}
