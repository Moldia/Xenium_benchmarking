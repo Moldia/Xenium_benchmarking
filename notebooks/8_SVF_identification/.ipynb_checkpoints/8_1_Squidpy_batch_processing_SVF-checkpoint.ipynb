{
 "cells": [
  {
   "cell_type": "markdown",
   "metadata": {},
   "source": [
    "# Aim of the notebook"
   ]
  },
  {
   "cell_type": "markdown",
   "metadata": {},
   "source": [
    "In this notebook we apply squidpy to identify SVFs using moransI and gearysC across datasets"
   ]
  },
  {
   "cell_type": "markdown",
   "metadata": {},
   "source": [
    "# Loading the needed packages"
   ]
  },
  {
   "cell_type": "markdown",
   "metadata": {},
   "source": [
    "The first step is to load the needed packages. If any of them fails, please go and check that they are installed in the appropiate environment"
   ]
  },
  {
   "cell_type": "code",
   "execution_count": 47,
   "metadata": {},
   "outputs": [],
   "source": [
    "import numpy as np\n",
    "import pandas as pd\n",
    "import matplotlib.pyplot as plt\n",
    "import scipy.stats as st\n",
    "import squidpy as sq\n",
    "import scanpy as sc\n",
    "import os"
   ]
  },
  {
   "cell_type": "markdown",
   "metadata": {},
   "source": [
    "## Define paths"
   ]
  },
  {
   "cell_type": "code",
   "execution_count": 48,
   "metadata": {},
   "outputs": [],
   "source": [
    "maindir='../../data/unprocessed_adata/'\n",
    "output_dir='../../data/unprocessed_adata_nuclei/'\n",
    "files=os.listdir(maindir)\n",
    "files=['ms_brain_multisection1.h5ad','human_brain.h5ad', 'ms_brain_multisection2.h5ad','ms_brain_multisection3.h5ad',\n",
    "'realmouse_1.h5ad','realmouse_2.h5ad','realmouse_3.h5ad','realmouse_4.h5ad','hbreast_ilc_addon_set2.h5ad',\n",
    " 'hbreast_ilc_addon_set4.h5ad', 'hbreast_ilc_entiresample_set3.h5ad', 'healthy_lung.h5ad',\n",
    " 'human_alzheimers.h5ad', 'human_gbm.h5ad', 'human_spinal_chord_active.h5ad', 'human_spinal_chord_inactive.h5ad',\n",
    " 'h_breast_1.h5ad', 'h_breast_2.h5ad', 'lung_cancer.h5ad', 'ms_brain_fullcoronal.h5ad', 'ms_brain_partialcoronal.h5ad' ]"
   ]
  },
  {
   "cell_type": "code",
   "execution_count": 50,
   "metadata": {},
   "outputs": [],
   "source": [
    "sq.gr.spatial_autocorr(adata1, mode=\"geary\")\n",
    "hs_results=adata1.uns['gearyC']\n",
    "hs_results['rank']=list(hs_results['C'].rank(ascending=False))\n",
    "sq.gr.spatial_autocorr(adata1, mode=\"geary\")\n",
    "hs_results=adata1.uns['gearyC']\n",
    "hs_results['rank']=list(hs_results['C'].rank())\n",
    "hs_results=hs_results.loc[:,['pval_norm','pval_norm_fdr_bh','rank']]\n",
    "hs_results.columns=['Pval','FDR','rank']"
   ]
  },
  {
   "cell_type": "code",
   "execution_count": 57,
   "metadata": {
    "scrolled": true
   },
   "outputs": [
    {
     "name": "stdout",
     "output_type": "stream",
     "text": [
      "ms_brain_multisection1.h5ad\n"
     ]
    },
    {
     "name": "stderr",
     "output_type": "stream",
     "text": [
      "/home/sergio/anaconda3/envs/xb/lib/python3.7/site-packages/scanpy/preprocessing/_utils.py:11: RuntimeWarning: overflow encountered in multiply\n",
      "  mean_sq = np.multiply(X, X).mean(axis=axis, dtype=np.float64)\n",
      "/home/sergio/anaconda3/envs/xb/lib/python3.7/site-packages/scanpy/preprocessing/_highly_variable_genes.py:240: RuntimeWarning: invalid value encountered in true_divide\n",
      "  ) / disp_std_bin[df['mean_bin'].values].values\n"
     ]
    },
    {
     "name": "stdout",
     "output_type": "stream",
     "text": [
      "human_brain.h5ad\n",
      "ms_brain_multisection2.h5ad\n"
     ]
    },
    {
     "name": "stderr",
     "output_type": "stream",
     "text": [
      "/home/sergio/anaconda3/envs/xb/lib/python3.7/site-packages/scanpy/preprocessing/_highly_variable_genes.py:200: RuntimeWarning: overflow encountered in expm1\n",
      "  X = np.expm1(X)\n",
      "/home/sergio/anaconda3/envs/xb/lib/python3.7/site-packages/scanpy/preprocessing/_utils.py:11: RuntimeWarning: overflow encountered in multiply\n",
      "  mean_sq = np.multiply(X, X).mean(axis=axis, dtype=np.float64)\n",
      "/home/sergio/anaconda3/envs/xb/lib/python3.7/site-packages/scanpy/preprocessing/_utils.py:12: RuntimeWarning: invalid value encountered in subtract\n",
      "  var = mean_sq - mean**2\n"
     ]
    },
    {
     "name": "stdout",
     "output_type": "stream",
     "text": [
      "not possible\n",
      "ms_brain_multisection3.h5ad\n"
     ]
    },
    {
     "name": "stderr",
     "output_type": "stream",
     "text": [
      "/home/sergio/anaconda3/envs/xb/lib/python3.7/site-packages/scanpy/preprocessing/_utils.py:11: RuntimeWarning: overflow encountered in multiply\n",
      "  mean_sq = np.multiply(X, X).mean(axis=axis, dtype=np.float64)\n",
      "/home/sergio/anaconda3/envs/xb/lib/python3.7/site-packages/scanpy/preprocessing/_highly_variable_genes.py:240: RuntimeWarning: invalid value encountered in true_divide\n",
      "  ) / disp_std_bin[df['mean_bin'].values].values\n"
     ]
    },
    {
     "name": "stdout",
     "output_type": "stream",
     "text": [
      "realmouse_1.h5ad\n"
     ]
    },
    {
     "name": "stderr",
     "output_type": "stream",
     "text": [
      "/home/sergio/anaconda3/envs/xb/lib/python3.7/site-packages/scanpy/preprocessing/_utils.py:11: RuntimeWarning: overflow encountered in multiply\n",
      "  mean_sq = np.multiply(X, X).mean(axis=axis, dtype=np.float64)\n",
      "/home/sergio/anaconda3/envs/xb/lib/python3.7/site-packages/scanpy/preprocessing/_highly_variable_genes.py:240: RuntimeWarning: invalid value encountered in true_divide\n",
      "  ) / disp_std_bin[df['mean_bin'].values].values\n"
     ]
    },
    {
     "name": "stdout",
     "output_type": "stream",
     "text": [
      "realmouse_2.h5ad\n"
     ]
    },
    {
     "name": "stderr",
     "output_type": "stream",
     "text": [
      "/home/sergio/anaconda3/envs/xb/lib/python3.7/site-packages/scanpy/preprocessing/_utils.py:11: RuntimeWarning: overflow encountered in multiply\n",
      "  mean_sq = np.multiply(X, X).mean(axis=axis, dtype=np.float64)\n",
      "/home/sergio/anaconda3/envs/xb/lib/python3.7/site-packages/scanpy/preprocessing/_highly_variable_genes.py:240: RuntimeWarning: invalid value encountered in true_divide\n",
      "  ) / disp_std_bin[df['mean_bin'].values].values\n"
     ]
    },
    {
     "name": "stdout",
     "output_type": "stream",
     "text": [
      "realmouse_3.h5ad\n"
     ]
    },
    {
     "name": "stderr",
     "output_type": "stream",
     "text": [
      "/home/sergio/anaconda3/envs/xb/lib/python3.7/site-packages/scanpy/preprocessing/_utils.py:11: RuntimeWarning: overflow encountered in multiply\n",
      "  mean_sq = np.multiply(X, X).mean(axis=axis, dtype=np.float64)\n",
      "/home/sergio/anaconda3/envs/xb/lib/python3.7/site-packages/scanpy/preprocessing/_highly_variable_genes.py:240: RuntimeWarning: invalid value encountered in true_divide\n",
      "  ) / disp_std_bin[df['mean_bin'].values].values\n"
     ]
    },
    {
     "name": "stdout",
     "output_type": "stream",
     "text": [
      "realmouse_4.h5ad\n"
     ]
    },
    {
     "name": "stderr",
     "output_type": "stream",
     "text": [
      "/home/sergio/anaconda3/envs/xb/lib/python3.7/site-packages/scanpy/preprocessing/_highly_variable_genes.py:200: RuntimeWarning: overflow encountered in expm1\n",
      "  X = np.expm1(X)\n",
      "/home/sergio/anaconda3/envs/xb/lib/python3.7/site-packages/scanpy/preprocessing/_utils.py:11: RuntimeWarning: overflow encountered in multiply\n",
      "  mean_sq = np.multiply(X, X).mean(axis=axis, dtype=np.float64)\n",
      "/home/sergio/anaconda3/envs/xb/lib/python3.7/site-packages/scanpy/preprocessing/_utils.py:12: RuntimeWarning: invalid value encountered in subtract\n",
      "  var = mean_sq - mean**2\n"
     ]
    },
    {
     "name": "stdout",
     "output_type": "stream",
     "text": [
      "not possible\n",
      "hbreast_ilc_addon_set2.h5ad\n"
     ]
    },
    {
     "name": "stderr",
     "output_type": "stream",
     "text": [
      "/home/sergio/anaconda3/envs/xb/lib/python3.7/site-packages/scanpy/preprocessing/_utils.py:11: RuntimeWarning: overflow encountered in multiply\n",
      "  mean_sq = np.multiply(X, X).mean(axis=axis, dtype=np.float64)\n",
      "/home/sergio/anaconda3/envs/xb/lib/python3.7/site-packages/scanpy/preprocessing/_highly_variable_genes.py:240: RuntimeWarning: invalid value encountered in true_divide\n",
      "  ) / disp_std_bin[df['mean_bin'].values].values\n"
     ]
    },
    {
     "name": "stdout",
     "output_type": "stream",
     "text": [
      "hbreast_ilc_addon_set4.h5ad\n"
     ]
    },
    {
     "name": "stderr",
     "output_type": "stream",
     "text": [
      "/home/sergio/anaconda3/envs/xb/lib/python3.7/site-packages/scanpy/preprocessing/_utils.py:11: RuntimeWarning: overflow encountered in multiply\n",
      "  mean_sq = np.multiply(X, X).mean(axis=axis, dtype=np.float64)\n",
      "/home/sergio/anaconda3/envs/xb/lib/python3.7/site-packages/scanpy/preprocessing/_highly_variable_genes.py:240: RuntimeWarning: invalid value encountered in true_divide\n",
      "  ) / disp_std_bin[df['mean_bin'].values].values\n"
     ]
    },
    {
     "name": "stdout",
     "output_type": "stream",
     "text": [
      "hbreast_ilc_entiresample_set3.h5ad\n"
     ]
    },
    {
     "name": "stderr",
     "output_type": "stream",
     "text": [
      "/home/sergio/anaconda3/envs/xb/lib/python3.7/site-packages/scanpy/preprocessing/_utils.py:11: RuntimeWarning: overflow encountered in multiply\n",
      "  mean_sq = np.multiply(X, X).mean(axis=axis, dtype=np.float64)\n",
      "/home/sergio/anaconda3/envs/xb/lib/python3.7/site-packages/scanpy/preprocessing/_highly_variable_genes.py:240: RuntimeWarning: invalid value encountered in true_divide\n",
      "  ) / disp_std_bin[df['mean_bin'].values].values\n"
     ]
    },
    {
     "name": "stdout",
     "output_type": "stream",
     "text": [
      "healthy_lung.h5ad\n",
      "human_alzheimers.h5ad\n"
     ]
    },
    {
     "name": "stderr",
     "output_type": "stream",
     "text": [
      "/home/sergio/anaconda3/envs/xb/lib/python3.7/site-packages/scanpy/preprocessing/_utils.py:11: RuntimeWarning: overflow encountered in multiply\n",
      "  mean_sq = np.multiply(X, X).mean(axis=axis, dtype=np.float64)\n",
      "/home/sergio/anaconda3/envs/xb/lib/python3.7/site-packages/scanpy/preprocessing/_highly_variable_genes.py:240: RuntimeWarning: invalid value encountered in true_divide\n",
      "  ) / disp_std_bin[df['mean_bin'].values].values\n"
     ]
    },
    {
     "name": "stdout",
     "output_type": "stream",
     "text": [
      "human_gbm.h5ad\n"
     ]
    },
    {
     "name": "stderr",
     "output_type": "stream",
     "text": [
      "/home/sergio/anaconda3/envs/xb/lib/python3.7/site-packages/scanpy/preprocessing/_utils.py:11: RuntimeWarning: overflow encountered in multiply\n",
      "  mean_sq = np.multiply(X, X).mean(axis=axis, dtype=np.float64)\n",
      "/home/sergio/anaconda3/envs/xb/lib/python3.7/site-packages/scanpy/preprocessing/_highly_variable_genes.py:240: RuntimeWarning: invalid value encountered in true_divide\n",
      "  ) / disp_std_bin[df['mean_bin'].values].values\n"
     ]
    },
    {
     "name": "stdout",
     "output_type": "stream",
     "text": [
      "human_spinal_chord_active.h5ad\n"
     ]
    },
    {
     "name": "stderr",
     "output_type": "stream",
     "text": [
      "/home/sergio/anaconda3/envs/xb/lib/python3.7/site-packages/scanpy/preprocessing/_utils.py:11: RuntimeWarning: overflow encountered in multiply\n",
      "  mean_sq = np.multiply(X, X).mean(axis=axis, dtype=np.float64)\n",
      "/home/sergio/anaconda3/envs/xb/lib/python3.7/site-packages/scanpy/preprocessing/_highly_variable_genes.py:240: RuntimeWarning: invalid value encountered in true_divide\n",
      "  ) / disp_std_bin[df['mean_bin'].values].values\n"
     ]
    },
    {
     "name": "stdout",
     "output_type": "stream",
     "text": [
      "human_spinal_chord_inactive.h5ad\n"
     ]
    },
    {
     "name": "stderr",
     "output_type": "stream",
     "text": [
      "/home/sergio/anaconda3/envs/xb/lib/python3.7/site-packages/scanpy/preprocessing/_utils.py:11: RuntimeWarning: overflow encountered in multiply\n",
      "  mean_sq = np.multiply(X, X).mean(axis=axis, dtype=np.float64)\n",
      "/home/sergio/anaconda3/envs/xb/lib/python3.7/site-packages/scanpy/preprocessing/_highly_variable_genes.py:240: RuntimeWarning: invalid value encountered in true_divide\n",
      "  ) / disp_std_bin[df['mean_bin'].values].values\n"
     ]
    },
    {
     "name": "stdout",
     "output_type": "stream",
     "text": [
      "h_breast_1.h5ad\n"
     ]
    },
    {
     "name": "stderr",
     "output_type": "stream",
     "text": [
      "/home/sergio/anaconda3/envs/xb/lib/python3.7/site-packages/scanpy/preprocessing/_utils.py:11: RuntimeWarning: overflow encountered in multiply\n",
      "  mean_sq = np.multiply(X, X).mean(axis=axis, dtype=np.float64)\n",
      "/home/sergio/anaconda3/envs/xb/lib/python3.7/site-packages/scanpy/preprocessing/_highly_variable_genes.py:240: RuntimeWarning: invalid value encountered in true_divide\n",
      "  ) / disp_std_bin[df['mean_bin'].values].values\n"
     ]
    },
    {
     "name": "stdout",
     "output_type": "stream",
     "text": [
      "h_breast_2.h5ad\n",
      "lung_cancer.h5ad\n",
      "ms_brain_fullcoronal.h5ad\n"
     ]
    },
    {
     "name": "stderr",
     "output_type": "stream",
     "text": [
      "/home/sergio/anaconda3/envs/xb/lib/python3.7/site-packages/scanpy/preprocessing/_utils.py:11: RuntimeWarning: overflow encountered in multiply\n",
      "  mean_sq = np.multiply(X, X).mean(axis=axis, dtype=np.float64)\n",
      "/home/sergio/anaconda3/envs/xb/lib/python3.7/site-packages/scanpy/preprocessing/_highly_variable_genes.py:240: RuntimeWarning: invalid value encountered in true_divide\n",
      "  ) / disp_std_bin[df['mean_bin'].values].values\n"
     ]
    },
    {
     "name": "stdout",
     "output_type": "stream",
     "text": [
      "ms_brain_partialcoronal.h5ad\n"
     ]
    },
    {
     "name": "stderr",
     "output_type": "stream",
     "text": [
      "/home/sergio/anaconda3/envs/xb/lib/python3.7/site-packages/scanpy/preprocessing/_utils.py:11: RuntimeWarning: overflow encountered in multiply\n",
      "  mean_sq = np.multiply(X, X).mean(axis=axis, dtype=np.float64)\n",
      "/home/sergio/anaconda3/envs/xb/lib/python3.7/site-packages/scanpy/preprocessing/_highly_variable_genes.py:240: RuntimeWarning: invalid value encountered in true_divide\n",
      "  ) / disp_std_bin[df['mean_bin'].values].values\n"
     ]
    }
   ],
   "source": [
    "for f in files[:]:\n",
    "    try:\n",
    "        print(f)\n",
    "        adata1=sc.read(output_dir+f)\n",
    "        adata1.obsm[\"spatial\"]=np.array([adata1.obs.x_centroid,adata1.obs.y_centroid]).transpose().astype('float64')\n",
    "        adata1.obsm['spatial']=np.array(adata1.obs.loc[:,['x_centroid','y_centroid']])\n",
    "        adata1=sc.AnnData(adata1.X,obs=adata1.obs,var=adata1.var,obsm=adata1.obsm)\n",
    "        adata1.layers['raw']=adata1.X\n",
    "        sq.gr.spatial_neighbors(adata1,radius=50.0,coord_type ='generic')\n",
    "        sq.gr.spatial_autocorr(adata1, mode=\"moran\")\n",
    "        hs_results=adata1.uns[\"moranI\"]\n",
    "        hs_results['rank']=list(hs_results['I'].rank())\n",
    "        hs_results=hs_results.loc[:,['pval_norm','pval_norm_fdr_bh','rank']]\n",
    "        hs_results.columns=['Pval','FDR','rank']\n",
    "        hs_results.to_csv('../../figures/SVF/'+str(f.split('.')[0])+'__squidpy_MoranI.csv')\n",
    "        sq.gr.spatial_autocorr(adata1, mode=\"geary\")\n",
    "        hs_results=adata1.uns['gearyC']\n",
    "        hs_results['rank']=list(hs_results['C'].rank(ascending=False))\n",
    "        hs_results=hs_results.loc[:,['pval_norm','pval_norm_fdr_bh','rank']]\n",
    "        hs_results.columns=['Pval','FDR','rank']\n",
    "        hs_results.to_csv('../../figures/SVF/'+str(f.split('.')[0])+'__squidpy_gearyC.csv')\n",
    "        sc.pp.highly_variable_genes(adata1)\n",
    "        adata1.var['rank']=adata1.var['dispersions'].rank()\n",
    "        hvg=adata1.var\n",
    "        hvg=hvg.loc[:,['highly_variable','dispersions_norm','rank']]\n",
    "        hvg.to_csv('../../figures/SVF/'+str(f.split('.')[0])+'__highly_variable_scanpy.csv')\n",
    "    except:\n",
    "        print('not possible')"
   ]
  },
  {
   "cell_type": "code",
   "execution_count": 58,
   "metadata": {
    "scrolled": true
   },
   "outputs": [
    {
     "name": "stdout",
     "output_type": "stream",
     "text": [
      "ms_brain_multisection1.h5ad\n"
     ]
    },
    {
     "name": "stderr",
     "output_type": "stream",
     "text": [
      "/home/sergio/anaconda3/envs/xb/lib/python3.7/site-packages/scanpy/metrics/_gearys_c.py:295: UserWarning: 1 variables were constant, will return nan for these.\n",
      "  f\"{len(idxer) - idxer.sum()} variables were constant, will return nan for these.\",\n",
      "/home/sergio/anaconda3/envs/xb/lib/python3.7/site-packages/scanpy/preprocessing/_utils.py:11: RuntimeWarning: overflow encountered in multiply\n",
      "  mean_sq = np.multiply(X, X).mean(axis=axis, dtype=np.float64)\n",
      "/home/sergio/anaconda3/envs/xb/lib/python3.7/site-packages/scanpy/preprocessing/_highly_variable_genes.py:240: RuntimeWarning: invalid value encountered in true_divide\n",
      "  ) / disp_std_bin[df['mean_bin'].values].values\n"
     ]
    },
    {
     "name": "stdout",
     "output_type": "stream",
     "text": [
      "human_brain.h5ad\n"
     ]
    },
    {
     "name": "stderr",
     "output_type": "stream",
     "text": [
      "/home/sergio/anaconda3/envs/xb/lib/python3.7/site-packages/scanpy/metrics/_gearys_c.py:295: UserWarning: 7 variables were constant, will return nan for these.\n",
      "  f\"{len(idxer) - idxer.sum()} variables were constant, will return nan for these.\",\n"
     ]
    },
    {
     "name": "stdout",
     "output_type": "stream",
     "text": [
      "ms_brain_multisection2.h5ad\n"
     ]
    },
    {
     "name": "stderr",
     "output_type": "stream",
     "text": [
      "/home/sergio/anaconda3/envs/xb/lib/python3.7/site-packages/scanpy/metrics/_gearys_c.py:295: UserWarning: 1 variables were constant, will return nan for these.\n",
      "  f\"{len(idxer) - idxer.sum()} variables were constant, will return nan for these.\",\n",
      "/home/sergio/anaconda3/envs/xb/lib/python3.7/site-packages/scanpy/preprocessing/_highly_variable_genes.py:200: RuntimeWarning: overflow encountered in expm1\n",
      "  X = np.expm1(X)\n",
      "/home/sergio/anaconda3/envs/xb/lib/python3.7/site-packages/scanpy/preprocessing/_utils.py:11: RuntimeWarning: overflow encountered in multiply\n",
      "  mean_sq = np.multiply(X, X).mean(axis=axis, dtype=np.float64)\n",
      "/home/sergio/anaconda3/envs/xb/lib/python3.7/site-packages/scanpy/preprocessing/_utils.py:12: RuntimeWarning: invalid value encountered in subtract\n",
      "  var = mean_sq - mean**2\n"
     ]
    },
    {
     "name": "stdout",
     "output_type": "stream",
     "text": [
      "not possible\n",
      "ms_brain_multisection3.h5ad\n"
     ]
    },
    {
     "name": "stderr",
     "output_type": "stream",
     "text": [
      "/home/sergio/anaconda3/envs/xb/lib/python3.7/site-packages/scanpy/metrics/_gearys_c.py:295: UserWarning: 2 variables were constant, will return nan for these.\n",
      "  f\"{len(idxer) - idxer.sum()} variables were constant, will return nan for these.\",\n",
      "/home/sergio/anaconda3/envs/xb/lib/python3.7/site-packages/scanpy/preprocessing/_utils.py:11: RuntimeWarning: overflow encountered in multiply\n",
      "  mean_sq = np.multiply(X, X).mean(axis=axis, dtype=np.float64)\n",
      "/home/sergio/anaconda3/envs/xb/lib/python3.7/site-packages/scanpy/preprocessing/_highly_variable_genes.py:240: RuntimeWarning: invalid value encountered in true_divide\n",
      "  ) / disp_std_bin[df['mean_bin'].values].values\n"
     ]
    },
    {
     "name": "stdout",
     "output_type": "stream",
     "text": [
      "realmouse_1.h5ad\n"
     ]
    },
    {
     "name": "stderr",
     "output_type": "stream",
     "text": [
      "/home/sergio/anaconda3/envs/xb/lib/python3.7/site-packages/scanpy/preprocessing/_utils.py:11: RuntimeWarning: overflow encountered in multiply\n",
      "  mean_sq = np.multiply(X, X).mean(axis=axis, dtype=np.float64)\n",
      "/home/sergio/anaconda3/envs/xb/lib/python3.7/site-packages/scanpy/preprocessing/_highly_variable_genes.py:240: RuntimeWarning: invalid value encountered in true_divide\n",
      "  ) / disp_std_bin[df['mean_bin'].values].values\n"
     ]
    },
    {
     "name": "stdout",
     "output_type": "stream",
     "text": [
      "realmouse_2.h5ad\n"
     ]
    },
    {
     "name": "stderr",
     "output_type": "stream",
     "text": [
      "/home/sergio/anaconda3/envs/xb/lib/python3.7/site-packages/scanpy/preprocessing/_utils.py:11: RuntimeWarning: overflow encountered in multiply\n",
      "  mean_sq = np.multiply(X, X).mean(axis=axis, dtype=np.float64)\n",
      "/home/sergio/anaconda3/envs/xb/lib/python3.7/site-packages/scanpy/preprocessing/_highly_variable_genes.py:240: RuntimeWarning: invalid value encountered in true_divide\n",
      "  ) / disp_std_bin[df['mean_bin'].values].values\n"
     ]
    },
    {
     "name": "stdout",
     "output_type": "stream",
     "text": [
      "realmouse_3.h5ad\n"
     ]
    },
    {
     "name": "stderr",
     "output_type": "stream",
     "text": [
      "/home/sergio/anaconda3/envs/xb/lib/python3.7/site-packages/scanpy/preprocessing/_utils.py:11: RuntimeWarning: overflow encountered in multiply\n",
      "  mean_sq = np.multiply(X, X).mean(axis=axis, dtype=np.float64)\n",
      "/home/sergio/anaconda3/envs/xb/lib/python3.7/site-packages/scanpy/preprocessing/_highly_variable_genes.py:240: RuntimeWarning: invalid value encountered in true_divide\n",
      "  ) / disp_std_bin[df['mean_bin'].values].values\n"
     ]
    },
    {
     "name": "stdout",
     "output_type": "stream",
     "text": [
      "realmouse_4.h5ad\n"
     ]
    },
    {
     "name": "stderr",
     "output_type": "stream",
     "text": [
      "/home/sergio/anaconda3/envs/xb/lib/python3.7/site-packages/scanpy/preprocessing/_utils.py:11: RuntimeWarning: overflow encountered in multiply\n",
      "  mean_sq = np.multiply(X, X).mean(axis=axis, dtype=np.float64)\n",
      "/home/sergio/anaconda3/envs/xb/lib/python3.7/site-packages/scanpy/preprocessing/_highly_variable_genes.py:240: RuntimeWarning: invalid value encountered in true_divide\n",
      "  ) / disp_std_bin[df['mean_bin'].values].values\n"
     ]
    },
    {
     "name": "stdout",
     "output_type": "stream",
     "text": [
      "hbreast_ilc_addon_set2.h5ad\n"
     ]
    },
    {
     "name": "stderr",
     "output_type": "stream",
     "text": [
      "/home/sergio/anaconda3/envs/xb/lib/python3.7/site-packages/scanpy/metrics/_gearys_c.py:295: UserWarning: 8 variables were constant, will return nan for these.\n",
      "  f\"{len(idxer) - idxer.sum()} variables were constant, will return nan for these.\",\n"
     ]
    },
    {
     "name": "stdout",
     "output_type": "stream",
     "text": [
      "hbreast_ilc_addon_set4.h5ad\n"
     ]
    },
    {
     "name": "stderr",
     "output_type": "stream",
     "text": [
      "/home/sergio/anaconda3/envs/xb/lib/python3.7/site-packages/scanpy/metrics/_gearys_c.py:295: UserWarning: 25 variables were constant, will return nan for these.\n",
      "  f\"{len(idxer) - idxer.sum()} variables were constant, will return nan for these.\",\n"
     ]
    },
    {
     "name": "stdout",
     "output_type": "stream",
     "text": [
      "hbreast_ilc_entiresample_set3.h5ad\n"
     ]
    },
    {
     "name": "stderr",
     "output_type": "stream",
     "text": [
      "/home/sergio/anaconda3/envs/xb/lib/python3.7/site-packages/scanpy/metrics/_gearys_c.py:295: UserWarning: 19 variables were constant, will return nan for these.\n",
      "  f\"{len(idxer) - idxer.sum()} variables were constant, will return nan for these.\",\n"
     ]
    },
    {
     "name": "stdout",
     "output_type": "stream",
     "text": [
      "healthy_lung.h5ad\n"
     ]
    },
    {
     "name": "stderr",
     "output_type": "stream",
     "text": [
      "/home/sergio/anaconda3/envs/xb/lib/python3.7/site-packages/scanpy/metrics/_gearys_c.py:295: UserWarning: 22 variables were constant, will return nan for these.\n",
      "  f\"{len(idxer) - idxer.sum()} variables were constant, will return nan for these.\",\n"
     ]
    },
    {
     "name": "stdout",
     "output_type": "stream",
     "text": [
      "human_alzheimers.h5ad\n"
     ]
    },
    {
     "name": "stderr",
     "output_type": "stream",
     "text": [
      "/home/sergio/anaconda3/envs/xb/lib/python3.7/site-packages/scanpy/metrics/_gearys_c.py:295: UserWarning: 48 variables were constant, will return nan for these.\n",
      "  f\"{len(idxer) - idxer.sum()} variables were constant, will return nan for these.\",\n",
      "/home/sergio/anaconda3/envs/xb/lib/python3.7/site-packages/scanpy/preprocessing/_utils.py:11: RuntimeWarning: overflow encountered in multiply\n",
      "  mean_sq = np.multiply(X, X).mean(axis=axis, dtype=np.float64)\n",
      "/home/sergio/anaconda3/envs/xb/lib/python3.7/site-packages/scanpy/preprocessing/_highly_variable_genes.py:240: RuntimeWarning: invalid value encountered in true_divide\n",
      "  ) / disp_std_bin[df['mean_bin'].values].values\n"
     ]
    },
    {
     "name": "stdout",
     "output_type": "stream",
     "text": [
      "human_gbm.h5ad\n"
     ]
    },
    {
     "name": "stderr",
     "output_type": "stream",
     "text": [
      "/home/sergio/anaconda3/envs/xb/lib/python3.7/site-packages/scanpy/metrics/_gearys_c.py:295: UserWarning: 2 variables were constant, will return nan for these.\n",
      "  f\"{len(idxer) - idxer.sum()} variables were constant, will return nan for these.\",\n",
      "/home/sergio/anaconda3/envs/xb/lib/python3.7/site-packages/scanpy/preprocessing/_utils.py:11: RuntimeWarning: overflow encountered in multiply\n",
      "  mean_sq = np.multiply(X, X).mean(axis=axis, dtype=np.float64)\n",
      "/home/sergio/anaconda3/envs/xb/lib/python3.7/site-packages/scanpy/preprocessing/_highly_variable_genes.py:240: RuntimeWarning: invalid value encountered in true_divide\n",
      "  ) / disp_std_bin[df['mean_bin'].values].values\n"
     ]
    },
    {
     "name": "stdout",
     "output_type": "stream",
     "text": [
      "human_spinal_chord_active.h5ad\n"
     ]
    },
    {
     "name": "stderr",
     "output_type": "stream",
     "text": [
      "/home/sergio/anaconda3/envs/xb/lib/python3.7/site-packages/scanpy/metrics/_gearys_c.py:295: UserWarning: 3 variables were constant, will return nan for these.\n",
      "  f\"{len(idxer) - idxer.sum()} variables were constant, will return nan for these.\",\n",
      "/home/sergio/anaconda3/envs/xb/lib/python3.7/site-packages/scanpy/preprocessing/_utils.py:11: RuntimeWarning: overflow encountered in multiply\n",
      "  mean_sq = np.multiply(X, X).mean(axis=axis, dtype=np.float64)\n",
      "/home/sergio/anaconda3/envs/xb/lib/python3.7/site-packages/scanpy/preprocessing/_highly_variable_genes.py:240: RuntimeWarning: invalid value encountered in true_divide\n",
      "  ) / disp_std_bin[df['mean_bin'].values].values\n"
     ]
    },
    {
     "name": "stdout",
     "output_type": "stream",
     "text": [
      "human_spinal_chord_inactive.h5ad\n"
     ]
    },
    {
     "name": "stderr",
     "output_type": "stream",
     "text": [
      "/home/sergio/anaconda3/envs/xb/lib/python3.7/site-packages/scanpy/metrics/_gearys_c.py:295: UserWarning: 6 variables were constant, will return nan for these.\n",
      "  f\"{len(idxer) - idxer.sum()} variables were constant, will return nan for these.\",\n",
      "/home/sergio/anaconda3/envs/xb/lib/python3.7/site-packages/scanpy/preprocessing/_utils.py:11: RuntimeWarning: overflow encountered in multiply\n",
      "  mean_sq = np.multiply(X, X).mean(axis=axis, dtype=np.float64)\n",
      "/home/sergio/anaconda3/envs/xb/lib/python3.7/site-packages/scanpy/preprocessing/_highly_variable_genes.py:240: RuntimeWarning: invalid value encountered in true_divide\n",
      "  ) / disp_std_bin[df['mean_bin'].values].values\n"
     ]
    },
    {
     "name": "stdout",
     "output_type": "stream",
     "text": [
      "h_breast_1.h5ad\n"
     ]
    },
    {
     "name": "stderr",
     "output_type": "stream",
     "text": [
      "/home/sergio/anaconda3/envs/xb/lib/python3.7/site-packages/scanpy/metrics/_gearys_c.py:295: UserWarning: 5 variables were constant, will return nan for these.\n",
      "  f\"{len(idxer) - idxer.sum()} variables were constant, will return nan for these.\",\n"
     ]
    },
    {
     "name": "stdout",
     "output_type": "stream",
     "text": [
      "h_breast_2.h5ad\n"
     ]
    },
    {
     "name": "stderr",
     "output_type": "stream",
     "text": [
      "/home/sergio/anaconda3/envs/xb/lib/python3.7/site-packages/scanpy/metrics/_gearys_c.py:295: UserWarning: 31 variables were constant, will return nan for these.\n",
      "  f\"{len(idxer) - idxer.sum()} variables were constant, will return nan for these.\",\n"
     ]
    },
    {
     "name": "stdout",
     "output_type": "stream",
     "text": [
      "lung_cancer.h5ad\n"
     ]
    },
    {
     "name": "stderr",
     "output_type": "stream",
     "text": [
      "/home/sergio/anaconda3/envs/xb/lib/python3.7/site-packages/scanpy/metrics/_gearys_c.py:295: UserWarning: 22 variables were constant, will return nan for these.\n",
      "  f\"{len(idxer) - idxer.sum()} variables were constant, will return nan for these.\",\n"
     ]
    },
    {
     "name": "stdout",
     "output_type": "stream",
     "text": [
      "ms_brain_fullcoronal.h5ad\n"
     ]
    },
    {
     "name": "stderr",
     "output_type": "stream",
     "text": [
      "/home/sergio/anaconda3/envs/xb/lib/python3.7/site-packages/scanpy/metrics/_gearys_c.py:295: UserWarning: 1 variables were constant, will return nan for these.\n",
      "  f\"{len(idxer) - idxer.sum()} variables were constant, will return nan for these.\",\n",
      "/home/sergio/anaconda3/envs/xb/lib/python3.7/site-packages/scanpy/preprocessing/_utils.py:11: RuntimeWarning: overflow encountered in multiply\n",
      "  mean_sq = np.multiply(X, X).mean(axis=axis, dtype=np.float64)\n"
     ]
    },
    {
     "name": "stdout",
     "output_type": "stream",
     "text": [
      "ms_brain_partialcoronal.h5ad\n"
     ]
    },
    {
     "name": "stderr",
     "output_type": "stream",
     "text": [
      "/home/sergio/anaconda3/envs/xb/lib/python3.7/site-packages/scanpy/metrics/_gearys_c.py:295: UserWarning: 5 variables were constant, will return nan for these.\n",
      "  f\"{len(idxer) - idxer.sum()} variables were constant, will return nan for these.\",\n",
      "/home/sergio/anaconda3/envs/xb/lib/python3.7/site-packages/scanpy/preprocessing/_utils.py:11: RuntimeWarning: overflow encountered in multiply\n",
      "  mean_sq = np.multiply(X, X).mean(axis=axis, dtype=np.float64)\n",
      "/home/sergio/anaconda3/envs/xb/lib/python3.7/site-packages/scanpy/preprocessing/_highly_variable_genes.py:240: RuntimeWarning: invalid value encountered in true_divide\n",
      "  ) / disp_std_bin[df['mean_bin'].values].values\n"
     ]
    }
   ],
   "source": [
    "for f in files[:]:\n",
    "    try:\n",
    "        print(f)\n",
    "        adata1=sc.read(output_dir+f)\n",
    "        adata1.obsm[\"spatial\"]=np.array([adata1.obs.x_centroid,adata1.obs.y_centroid]).transpose().astype('float64')\n",
    "        adata1.obsm['spatial']=np.array(adata1.obs.loc[:,['x_centroid','y_centroid']])\n",
    "        adata1=sc.AnnData(adata1.X,obs=adata1.obs,var=adata1.var,obsm=adata1.obsm)\n",
    "        adata1.layers['raw']=adata1.X\n",
    "        import random\n",
    "        some=random.sample(range(0,adata1.shape[0]),5000)\n",
    "        adata1=adata1[some,:]\n",
    "        sq.gr.spatial_neighbors(adata1,radius=50.0,coord_type ='generic')\n",
    "        sq.gr.spatial_autocorr(adata1, mode=\"moran\")\n",
    "        hs_results=adata1.uns[\"moranI\"]\n",
    "        hs_results['rank']=list(hs_results['I'].rank())\n",
    "        hs_results=hs_results.loc[:,['pval_norm','pval_norm_fdr_bh','rank']]\n",
    "        hs_results.columns=['Pval','FDR','rank']\n",
    "        hs_results.to_csv('../../figures/SVF/'+str(f.split('.')[0])+'__squidpy5000_MoranI.csv')\n",
    "        sq.gr.spatial_autocorr(adata1, mode=\"geary\")\n",
    "        hs_results=adata1.uns['gearyC']\n",
    "        hs_results['rank']=list(hs_results['C'].rank(ascending=False))\n",
    "        hs_results=hs_results.loc[:,['pval_norm','pval_norm_fdr_bh','rank']]\n",
    "        hs_results.columns=['Pval','FDR','rank']\n",
    "        hs_results.to_csv('../../figures/SVF/'+str(f.split('.')[0])+'__squidpy5000_gearyC.csv')\n",
    "        sc.pp.highly_variable_genes(adata1)\n",
    "        adata1.var['rank']=adata1.var['dispersions'].rank()\n",
    "        hvg=adata1.var\n",
    "        hvg=hvg.loc[:,['highly_variable','dispersions_norm','rank']]\n",
    "        hvg.to_csv('../../figures/SVF/'+str(f.split('.')[0])+'__highly_variable5000_scanpy.csv')\n",
    "    except:\n",
    "        print('not possible')"
   ]
  },
  {
   "cell_type": "markdown",
   "metadata": {},
   "source": [
    "# Compute time that it takes to run"
   ]
  },
  {
   "cell_type": "code",
   "execution_count": 30,
   "metadata": {
    "scrolled": true
   },
   "outputs": [
    {
     "name": "stdout",
     "output_type": "stream",
     "text": [
      "ms_brain_multisection1.h5ad\n"
     ]
    },
    {
     "name": "stderr",
     "output_type": "stream",
     "text": [
      "/home/sergio/anaconda3/envs/xb/lib/python3.7/site-packages/scanpy/metrics/_gearys_c.py:295: UserWarning: 69 variables were constant, will return nan for these.\n",
      "  f\"{len(idxer) - idxer.sum()} variables were constant, will return nan for these.\",\n"
     ]
    },
    {
     "name": "stdout",
     "output_type": "stream",
     "text": [
      "ms_brain_multisection1.h5ad\n"
     ]
    },
    {
     "name": "stderr",
     "output_type": "stream",
     "text": [
      "/home/sergio/anaconda3/envs/xb/lib/python3.7/site-packages/scanpy/metrics/_gearys_c.py:295: UserWarning: 72 variables were constant, will return nan for these.\n",
      "  f\"{len(idxer) - idxer.sum()} variables were constant, will return nan for these.\",\n"
     ]
    },
    {
     "name": "stdout",
     "output_type": "stream",
     "text": [
      "ms_brain_multisection1.h5ad\n"
     ]
    },
    {
     "name": "stderr",
     "output_type": "stream",
     "text": [
      "/home/sergio/anaconda3/envs/xb/lib/python3.7/site-packages/scanpy/preprocessing/_utils.py:11: RuntimeWarning: overflow encountered in multiply\n",
      "  mean_sq = np.multiply(X, X).mean(axis=axis, dtype=np.float64)\n",
      "/home/sergio/anaconda3/envs/xb/lib/python3.7/site-packages/anndata/compat/_overloaded_dict.py:106: ImplicitModificationWarning: Trying to modify attribute `._uns` of view, initializing view as actual.\n",
      "  self.data[key] = value\n"
     ]
    },
    {
     "name": "stdout",
     "output_type": "stream",
     "text": [
      "[0.37852025032043457]\n",
      "ms_brain_multisection1.h5ad\n"
     ]
    },
    {
     "name": "stderr",
     "output_type": "stream",
     "text": [
      "/home/sergio/anaconda3/envs/xb/lib/python3.7/site-packages/scanpy/metrics/_gearys_c.py:295: UserWarning: 28 variables were constant, will return nan for these.\n",
      "  f\"{len(idxer) - idxer.sum()} variables were constant, will return nan for these.\",\n"
     ]
    },
    {
     "name": "stdout",
     "output_type": "stream",
     "text": [
      "ms_brain_multisection1.h5ad\n"
     ]
    },
    {
     "name": "stderr",
     "output_type": "stream",
     "text": [
      "/home/sergio/anaconda3/envs/xb/lib/python3.7/site-packages/scanpy/metrics/_gearys_c.py:295: UserWarning: 35 variables were constant, will return nan for these.\n",
      "  f\"{len(idxer) - idxer.sum()} variables were constant, will return nan for these.\",\n"
     ]
    },
    {
     "name": "stdout",
     "output_type": "stream",
     "text": [
      "ms_brain_multisection1.h5ad\n"
     ]
    },
    {
     "name": "stderr",
     "output_type": "stream",
     "text": [
      "/home/sergio/anaconda3/envs/xb/lib/python3.7/site-packages/scanpy/preprocessing/_utils.py:11: RuntimeWarning: overflow encountered in multiply\n",
      "  mean_sq = np.multiply(X, X).mean(axis=axis, dtype=np.float64)\n",
      "/home/sergio/anaconda3/envs/xb/lib/python3.7/site-packages/scanpy/preprocessing/_highly_variable_genes.py:240: RuntimeWarning: invalid value encountered in true_divide\n",
      "  ) / disp_std_bin[df['mean_bin'].values].values\n",
      "/home/sergio/anaconda3/envs/xb/lib/python3.7/site-packages/anndata/compat/_overloaded_dict.py:106: ImplicitModificationWarning: Trying to modify attribute `._uns` of view, initializing view as actual.\n",
      "  self.data[key] = value\n"
     ]
    },
    {
     "name": "stdout",
     "output_type": "stream",
     "text": [
      "[0.37852025032043457, 0.3820958137512207]\n",
      "ms_brain_multisection1.h5ad\n",
      "ms_brain_multisection1.h5ad\n",
      "ms_brain_multisection1.h5ad\n"
     ]
    },
    {
     "name": "stderr",
     "output_type": "stream",
     "text": [
      "/home/sergio/anaconda3/envs/xb/lib/python3.7/site-packages/scanpy/preprocessing/_utils.py:11: RuntimeWarning: overflow encountered in multiply\n",
      "  mean_sq = np.multiply(X, X).mean(axis=axis, dtype=np.float64)\n",
      "/home/sergio/anaconda3/envs/xb/lib/python3.7/site-packages/scanpy/preprocessing/_highly_variable_genes.py:240: RuntimeWarning: invalid value encountered in true_divide\n",
      "  ) / disp_std_bin[df['mean_bin'].values].values\n",
      "/home/sergio/anaconda3/envs/xb/lib/python3.7/site-packages/anndata/compat/_overloaded_dict.py:106: ImplicitModificationWarning: Trying to modify attribute `._uns` of view, initializing view as actual.\n",
      "  self.data[key] = value\n"
     ]
    },
    {
     "name": "stdout",
     "output_type": "stream",
     "text": [
      "[0.37852025032043457, 0.3820958137512207, 0.4077012538909912]\n",
      "ms_brain_multisection1.h5ad\n",
      "ms_brain_multisection1.h5ad\n",
      "ms_brain_multisection1.h5ad\n"
     ]
    },
    {
     "name": "stderr",
     "output_type": "stream",
     "text": [
      "/home/sergio/anaconda3/envs/xb/lib/python3.7/site-packages/scanpy/preprocessing/_utils.py:11: RuntimeWarning: overflow encountered in multiply\n",
      "  mean_sq = np.multiply(X, X).mean(axis=axis, dtype=np.float64)\n",
      "/home/sergio/anaconda3/envs/xb/lib/python3.7/site-packages/scanpy/preprocessing/_highly_variable_genes.py:240: RuntimeWarning: invalid value encountered in true_divide\n",
      "  ) / disp_std_bin[df['mean_bin'].values].values\n",
      "/home/sergio/anaconda3/envs/xb/lib/python3.7/site-packages/anndata/compat/_overloaded_dict.py:106: ImplicitModificationWarning: Trying to modify attribute `._uns` of view, initializing view as actual.\n",
      "  self.data[key] = value\n"
     ]
    },
    {
     "name": "stdout",
     "output_type": "stream",
     "text": [
      "[0.37852025032043457, 0.3820958137512207, 0.4077012538909912, 0.5410487651824951]\n",
      "ms_brain_multisection1.h5ad\n",
      "ms_brain_multisection1.h5ad\n",
      "ms_brain_multisection1.h5ad\n"
     ]
    },
    {
     "name": "stderr",
     "output_type": "stream",
     "text": [
      "/home/sergio/anaconda3/envs/xb/lib/python3.7/site-packages/scanpy/preprocessing/_utils.py:11: RuntimeWarning: overflow encountered in multiply\n",
      "  mean_sq = np.multiply(X, X).mean(axis=axis, dtype=np.float64)\n",
      "/home/sergio/anaconda3/envs/xb/lib/python3.7/site-packages/scanpy/preprocessing/_highly_variable_genes.py:240: RuntimeWarning: invalid value encountered in true_divide\n",
      "  ) / disp_std_bin[df['mean_bin'].values].values\n",
      "/home/sergio/anaconda3/envs/xb/lib/python3.7/site-packages/anndata/compat/_overloaded_dict.py:106: ImplicitModificationWarning: Trying to modify attribute `._uns` of view, initializing view as actual.\n",
      "  self.data[key] = value\n"
     ]
    },
    {
     "name": "stdout",
     "output_type": "stream",
     "text": [
      "[0.37852025032043457, 0.3820958137512207, 0.4077012538909912, 0.5410487651824951, 0.8866968154907227]\n",
      "ms_brain_multisection1.h5ad\n",
      "ms_brain_multisection1.h5ad\n",
      "ms_brain_multisection1.h5ad\n"
     ]
    },
    {
     "name": "stderr",
     "output_type": "stream",
     "text": [
      "/home/sergio/anaconda3/envs/xb/lib/python3.7/site-packages/scanpy/preprocessing/_utils.py:11: RuntimeWarning: overflow encountered in multiply\n",
      "  mean_sq = np.multiply(X, X).mean(axis=axis, dtype=np.float64)\n",
      "/home/sergio/anaconda3/envs/xb/lib/python3.7/site-packages/scanpy/preprocessing/_highly_variable_genes.py:240: RuntimeWarning: invalid value encountered in true_divide\n",
      "  ) / disp_std_bin[df['mean_bin'].values].values\n",
      "/home/sergio/anaconda3/envs/xb/lib/python3.7/site-packages/anndata/compat/_overloaded_dict.py:106: ImplicitModificationWarning: Trying to modify attribute `._uns` of view, initializing view as actual.\n",
      "  self.data[key] = value\n"
     ]
    },
    {
     "name": "stdout",
     "output_type": "stream",
     "text": [
      "[0.37852025032043457, 0.3820958137512207, 0.4077012538909912, 0.5410487651824951, 0.8866968154907227, 1.5748357772827148]\n"
     ]
    }
   ],
   "source": [
    "import time\n",
    "f='ms_brain_multisection1.h5ad'\n",
    "cells=[500,1000,5000,10000,50000,100000]\n",
    "\n",
    "times_hvg=[]\n",
    "times_I=[]\n",
    "times_G=[]\n",
    "for cel in cells:\n",
    "    print(f)\n",
    "    start_time = time.time()\n",
    "    adata1=sc.read(output_dir+f)\n",
    "    adata1.obsm[\"spatial\"]=np.array([adata1.obs.x_centroid,adata1.obs.y_centroid]).transpose().astype('float64')\n",
    "    adata1.obsm['spatial']=np.array(adata1.obs.loc[:,['x_centroid','y_centroid']])\n",
    "    adata1=sc.AnnData(adata1.X,obs=adata1.obs,var=adata1.var,obsm=adata1.obsm)\n",
    "    adata1.layers['raw']=adata1.X\n",
    "    import random\n",
    "    some=random.sample(range(0,adata1.shape[0]),int(cel))\n",
    "    adata1=adata1[some,:]\n",
    "    sq.gr.spatial_neighbors(adata1,radius=50.0,coord_type ='generic')\n",
    "    sq.gr.spatial_autocorr(adata1, mode=\"moran\")\n",
    "    hs_results=adata1.uns[\"moranI\"]\n",
    "    hs_results['rank']=list(hs_results['I'].rank())\n",
    "    hs_results=hs_results.loc[:,['pval_norm','pval_norm_fdr_bh','rank']]\n",
    "    hs_results.columns=['Pval','FDR','rank']\n",
    "    end_time = time.time()\n",
    "    times_I.append(end_time - start_time)\n",
    "    \n",
    "    ###gearyc\n",
    "    print(f)\n",
    "    start_time = time.time()\n",
    "    adata1=sc.read(output_dir+f)\n",
    "    adata1.obsm[\"spatial\"]=np.array([adata1.obs.x_centroid,adata1.obs.y_centroid]).transpose().astype('float64')\n",
    "    adata1.obsm['spatial']=np.array(adata1.obs.loc[:,['x_centroid','y_centroid']])\n",
    "    adata1=sc.AnnData(adata1.X,obs=adata1.obs,var=adata1.var,obsm=adata1.obsm)\n",
    "    adata1.layers['raw']=adata1.X\n",
    "    import random\n",
    "    some=random.sample(range(0,adata1.shape[0]),int(cel))\n",
    "    adata1=adata1[some,:]\n",
    "    sq.gr.spatial_neighbors(adata1,radius=50.0,coord_type ='generic')\n",
    "    sq.gr.spatial_autocorr(adata1, mode=\"geary\")\n",
    "    hs_results=adata1.uns['gearyC']\n",
    "    hs_results['rank']=list(hs_results['C'].rank(ascending=False))\n",
    "    hs_results=hs_results.loc[:,['pval_norm','pval_norm_fdr_bh','rank']]\n",
    "    hs_results.columns=['Pval','FDR','rank']\n",
    "    end_time = time.time()\n",
    "    times_G.append(end_time - start_time)\n",
    "    \n",
    "    # hvg\n",
    "    print(f)\n",
    "    start_time = time.time()\n",
    "    adata1=sc.read(output_dir+f)\n",
    "    adata1.obsm[\"spatial\"]=np.array([adata1.obs.x_centroid,adata1.obs.y_centroid]).transpose().astype('float64')\n",
    "    adata1.obsm['spatial']=np.array(adata1.obs.loc[:,['x_centroid','y_centroid']])\n",
    "    adata1=sc.AnnData(adata1.X,obs=adata1.obs,var=adata1.var,obsm=adata1.obsm)\n",
    "    adata1.layers['raw']=adata1.X\n",
    "    import random\n",
    "    some=random.sample(range(0,adata1.shape[0]),int(cel))\n",
    "    adata1=adata1[some,:]\n",
    "    sc.pp.highly_variable_genes(adata1)\n",
    "    adata1.var['rank']=adata1.var['dispersions'].rank()\n",
    "    hvg=adata1.var\n",
    "    hvg=hvg.loc[:,['highly_variable','dispersions_norm','rank']]\n",
    "    end_time = time.time()\n",
    "    times_hvg.append(end_time - start_time)\n",
    "    print(times_hvg)"
   ]
  },
  {
   "cell_type": "code",
   "execution_count": 40,
   "metadata": {},
   "outputs": [],
   "source": [
    "timesres=pd.DataFrame([cells,times_hvg,times_I,times_G],index=['cells','times_hvg','times_I','times_G']).transpose()"
   ]
  },
  {
   "cell_type": "code",
   "execution_count": 41,
   "metadata": {},
   "outputs": [
    {
     "data": {
      "text/plain": [
       "[<matplotlib.lines.Line2D at 0x7fdec9772690>]"
      ]
     },
     "execution_count": 41,
     "metadata": {},
     "output_type": "execute_result"
    },
    {
     "data": {
      "image/png": "[encoded data removed]",
      "text/plain": [
       "<Figure size 432x288 with 1 Axes>"
      ]
     },
     "metadata": {
      "needs_background": "light"
     },
     "output_type": "display_data"
    }
   ],
   "source": [
    "plt.plot(timesres['cells'],timesres['times_hvg'])\n",
    "plt.plot(timesres['cells'],timesres['times_I'])\n",
    "plt.plot(timesres['cells'],timesres['times_G'])"
   ]
  },
  {
   "cell_type": "code",
   "execution_count": 43,
   "metadata": {},
   "outputs": [],
   "source": [
    "timesres.to_csv('../../figures/times_svf/squidpy_times.csv')"
   ]
  }
 ],
 "metadata": {
  "kernelspec": {
   "display_name": "xb",
   "language": "python",
   "name": "xb"
  },
  "language_info": {
   "codemirror_mode": {
    "name": "ipython",
    "version": 3
   },
   "file_extension": ".py",
   "mimetype": "text/x-python",
   "name": "python",
   "nbconvert_exporter": "python",
   "pygments_lexer": "ipython3",
   "version": "3.7.13"
  }
 },
 "nbformat": 4,
 "nbformat_minor": 2
}
