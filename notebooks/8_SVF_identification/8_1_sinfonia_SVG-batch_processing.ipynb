{
 "cells": [
  {
   "cell_type": "markdown",
   "id": "9faf20cd",
   "metadata": {},
   "source": [
    "# Aim of the notebook"
   ]
  },
  {
   "cell_type": "markdown",
   "id": "2708fcdc",
   "metadata": {},
   "source": [
    "In this notebook we apply sinfonia to identify Spatially variable genes across xenium datasets"
   ]
  },
  {
   "cell_type": "markdown",
   "id": "7a308090",
   "metadata": {},
   "source": [
    "## IMPORTANT: Please use a conda environment that you can create using sinfonia.yml"
   ]
  },
  {
   "cell_type": "markdown",
   "id": "60664f2a",
   "metadata": {},
   "source": [
    "# Import packages"
   ]
  },
  {
   "cell_type": "code",
   "execution_count": 1,
   "id": "7ef95bc1",
   "metadata": {},
   "outputs": [],
   "source": [
    "import numpy as np\n",
    "import scanpy as sc\n",
    "from scipy.sparse import csr_matrix\n",
    "import sinfonia\n",
    "import numpy as np\n",
    "import pandas as pd\n",
    "import matplotlib.pyplot as plt\n",
    "import scipy.stats as st\n",
    "import scanpy as sc\n",
    "import os"
   ]
  },
  {
   "cell_type": "markdown",
   "id": "1d7b3995",
   "metadata": {},
   "source": [
    "We next define the paths where files are stored"
   ]
  },
  {
   "cell_type": "code",
   "execution_count": 2,
   "id": "58eceebb",
   "metadata": {},
   "outputs": [],
   "source": [
    "maindir='../../data/unprocessed_adata/'\n",
    "output_dir='../../data/unprocessed_adata_nuclei/'\n",
    "files=os.listdir(maindir)\n",
    "files=['ms_brain_multisection1.h5ad', 'human_brain.h5ad','ms_brain_multisection2.h5ad',\n",
    " 'ms_brain_multisection3.h5ad','realmouse_1.h5ad', 'realmouse_2.h5ad', 'realmouse_3.h5ad',\n",
    " 'realmouse_4.h5ad', 'hbreast_ilc_addon_set2.h5ad', 'hbreast_ilc_addon_set4.h5ad', 'hbreast_ilc_entiresample_set3.h5ad',\n",
    " 'healthy_lung.h5ad','human_alzheimers.h5ad', 'human_gbm.h5ad', 'human_spinal_chord_active.h5ad',\n",
    " 'human_spinal_chord_inactive.h5ad', 'h_breast_1.h5ad','h_breast_2.h5ad','lung_cancer.h5ad',\n",
    " 'ms_brain_fullcoronal.h5ad', 'ms_brain_partialcoronal.h5ad']"
   ]
  },
  {
   "cell_type": "code",
   "execution_count": 5,
   "id": "d7cd03dc",
   "metadata": {},
   "outputs": [
    {
     "name": "stdout",
     "output_type": "stream",
     "text": [
      "ms_brain_multisection1.h5ad\n",
      "human_brain.h5ad\n",
      "ms_brain_multisection2.h5ad\n",
      "ms_brain_multisection3.h5ad\n",
      "realmouse_1.h5ad\n",
      "realmouse_2.h5ad\n",
      "realmouse_3.h5ad\n",
      "realmouse_4.h5ad\n",
      "hbreast_ilc_addon_set2.h5ad\n",
      "hbreast_ilc_addon_set4.h5ad\n",
      "hbreast_ilc_entiresample_set3.h5ad\n",
      "healthy_lung.h5ad\n",
      "human_alzheimers.h5ad\n",
      "human_gbm.h5ad\n",
      "human_spinal_chord_active.h5ad\n",
      "human_spinal_chord_inactive.h5ad\n",
      "h_breast_1.h5ad\n",
      "h_breast_2.h5ad\n",
      "lung_cancer.h5ad\n",
      "ms_brain_fullcoronal.h5ad\n",
      "not possible\n",
      "ms_brain_partialcoronal.h5ad\n",
      "not possible\n"
     ]
    }
   ],
   "source": [
    "for f in files[:]:\n",
    "    try:\n",
    "        print(f)\n",
    "        adata=sc.read(output_dir+f)\n",
    "        sc.pp.normalize_total(adata)\n",
    "        sc.pp.log1p(adata)\n",
    "        adata.obsm['spatial']=np.array(adata.obs.loc[:,['x_centroid','y_centroid']])\n",
    "        # Run SINFONIA\n",
    "        adata = sinfonia.spatially_variable_genes(adata,n_top_genes=len(adata.var.index))\n",
    "        moranI=adata.var.loc[:,['spatially_variable','moranI']]\n",
    "        moranI['rank']=moranI['moranI'].rank()\n",
    "        moranI.to_csv('../../figures/SVF/'+str(f.split('.')[0])+'__sinfonia_moranI.csv')\n",
    "        gerayC=adata.var.loc[:,[ 'spatially_variable', 'gearyC']]\n",
    "        gerayC['rank']=gerayC['gearyC'].rank()\n",
    "        gerayC.to_csv('../../figures/SVF/'+str(f.split('.')[0])+'__sinfonia_gearyC.csv')\n",
    "    except:\n",
    "        print('not possible')"
   ]
  },
  {
   "cell_type": "markdown",
   "id": "c0a2ef61",
   "metadata": {},
   "source": [
    "This is nice, but we just get the two variants. The final number of genes identified as SVGs are the interesection of both N genes for both morans I and gearyC"
   ]
  },
  {
   "cell_type": "markdown",
   "id": "44ed37e1",
   "metadata": {},
   "source": [
    "We need to implement this"
   ]
  },
  {
   "cell_type": "code",
   "execution_count": null,
   "id": "0117e1ee",
   "metadata": {},
   "outputs": [],
   "source": [
    "# run on 5000 cells"
   ]
  },
  {
   "cell_type": "code",
   "execution_count": 8,
   "id": "c6ff053a",
   "metadata": {},
   "outputs": [
    {
     "name": "stdout",
     "output_type": "stream",
     "text": [
      "ms_brain_multisection1.h5ad\n"
     ]
    },
    {
     "name": "stderr",
     "output_type": "stream",
     "text": [
      "/home/sergio/.local/lib/python3.8/site-packages/scanpy/preprocessing/_simple.py:251: ImplicitModificationWarning: Trying to modify attribute `.var` of view, initializing view as actual.\n",
      "  adata.var['n_cells'] = number\n"
     ]
    },
    {
     "name": "stdout",
     "output_type": "stream",
     "text": [
      "human_brain.h5ad\n"
     ]
    },
    {
     "name": "stderr",
     "output_type": "stream",
     "text": [
      "/home/sergio/.local/lib/python3.8/site-packages/scanpy/preprocessing/_simple.py:251: ImplicitModificationWarning: Trying to modify attribute `.var` of view, initializing view as actual.\n",
      "  adata.var['n_cells'] = number\n"
     ]
    },
    {
     "name": "stdout",
     "output_type": "stream",
     "text": [
      "ms_brain_multisection2.h5ad\n"
     ]
    },
    {
     "name": "stderr",
     "output_type": "stream",
     "text": [
      "/home/sergio/.local/lib/python3.8/site-packages/scanpy/preprocessing/_simple.py:251: ImplicitModificationWarning: Trying to modify attribute `.var` of view, initializing view as actual.\n",
      "  adata.var['n_cells'] = number\n"
     ]
    },
    {
     "name": "stdout",
     "output_type": "stream",
     "text": [
      "ms_brain_multisection3.h5ad\n"
     ]
    },
    {
     "name": "stderr",
     "output_type": "stream",
     "text": [
      "/home/sergio/.local/lib/python3.8/site-packages/scanpy/preprocessing/_simple.py:251: ImplicitModificationWarning: Trying to modify attribute `.var` of view, initializing view as actual.\n",
      "  adata.var['n_cells'] = number\n"
     ]
    },
    {
     "name": "stdout",
     "output_type": "stream",
     "text": [
      "realmouse_1.h5ad\n"
     ]
    },
    {
     "name": "stderr",
     "output_type": "stream",
     "text": [
      "/home/sergio/.local/lib/python3.8/site-packages/scanpy/preprocessing/_simple.py:251: ImplicitModificationWarning: Trying to modify attribute `.var` of view, initializing view as actual.\n",
      "  adata.var['n_cells'] = number\n"
     ]
    },
    {
     "name": "stdout",
     "output_type": "stream",
     "text": [
      "realmouse_2.h5ad\n"
     ]
    },
    {
     "name": "stderr",
     "output_type": "stream",
     "text": [
      "/home/sergio/.local/lib/python3.8/site-packages/scanpy/preprocessing/_simple.py:251: ImplicitModificationWarning: Trying to modify attribute `.var` of view, initializing view as actual.\n",
      "  adata.var['n_cells'] = number\n"
     ]
    },
    {
     "name": "stdout",
     "output_type": "stream",
     "text": [
      "realmouse_3.h5ad\n"
     ]
    },
    {
     "name": "stderr",
     "output_type": "stream",
     "text": [
      "/home/sergio/.local/lib/python3.8/site-packages/scanpy/preprocessing/_simple.py:251: ImplicitModificationWarning: Trying to modify attribute `.var` of view, initializing view as actual.\n",
      "  adata.var['n_cells'] = number\n"
     ]
    },
    {
     "name": "stdout",
     "output_type": "stream",
     "text": [
      "realmouse_4.h5ad\n"
     ]
    },
    {
     "name": "stderr",
     "output_type": "stream",
     "text": [
      "/home/sergio/.local/lib/python3.8/site-packages/scanpy/preprocessing/_simple.py:251: ImplicitModificationWarning: Trying to modify attribute `.var` of view, initializing view as actual.\n",
      "  adata.var['n_cells'] = number\n"
     ]
    },
    {
     "name": "stdout",
     "output_type": "stream",
     "text": [
      "hbreast_ilc_addon_set2.h5ad\n"
     ]
    },
    {
     "name": "stderr",
     "output_type": "stream",
     "text": [
      "/home/sergio/.local/lib/python3.8/site-packages/scanpy/preprocessing/_simple.py:251: ImplicitModificationWarning: Trying to modify attribute `.var` of view, initializing view as actual.\n",
      "  adata.var['n_cells'] = number\n"
     ]
    },
    {
     "name": "stdout",
     "output_type": "stream",
     "text": [
      "hbreast_ilc_addon_set4.h5ad\n"
     ]
    },
    {
     "name": "stderr",
     "output_type": "stream",
     "text": [
      "/home/sergio/.local/lib/python3.8/site-packages/scanpy/preprocessing/_simple.py:251: ImplicitModificationWarning: Trying to modify attribute `.var` of view, initializing view as actual.\n",
      "  adata.var['n_cells'] = number\n"
     ]
    },
    {
     "name": "stdout",
     "output_type": "stream",
     "text": [
      "hbreast_ilc_entiresample_set3.h5ad\n"
     ]
    },
    {
     "name": "stderr",
     "output_type": "stream",
     "text": [
      "/home/sergio/.local/lib/python3.8/site-packages/scanpy/preprocessing/_simple.py:251: ImplicitModificationWarning: Trying to modify attribute `.var` of view, initializing view as actual.\n",
      "  adata.var['n_cells'] = number\n"
     ]
    },
    {
     "name": "stdout",
     "output_type": "stream",
     "text": [
      "healthy_lung.h5ad\n"
     ]
    },
    {
     "name": "stderr",
     "output_type": "stream",
     "text": [
      "/home/sergio/.local/lib/python3.8/site-packages/scanpy/preprocessing/_simple.py:251: ImplicitModificationWarning: Trying to modify attribute `.var` of view, initializing view as actual.\n",
      "  adata.var['n_cells'] = number\n"
     ]
    },
    {
     "name": "stdout",
     "output_type": "stream",
     "text": [
      "human_alzheimers.h5ad\n"
     ]
    },
    {
     "name": "stderr",
     "output_type": "stream",
     "text": [
      "/home/sergio/.local/lib/python3.8/site-packages/scanpy/preprocessing/_simple.py:251: ImplicitModificationWarning: Trying to modify attribute `.var` of view, initializing view as actual.\n",
      "  adata.var['n_cells'] = number\n"
     ]
    },
    {
     "name": "stdout",
     "output_type": "stream",
     "text": [
      "human_gbm.h5ad\n"
     ]
    },
    {
     "name": "stderr",
     "output_type": "stream",
     "text": [
      "/home/sergio/.local/lib/python3.8/site-packages/scanpy/preprocessing/_simple.py:251: ImplicitModificationWarning: Trying to modify attribute `.var` of view, initializing view as actual.\n",
      "  adata.var['n_cells'] = number\n"
     ]
    },
    {
     "name": "stdout",
     "output_type": "stream",
     "text": [
      "human_spinal_chord_active.h5ad\n"
     ]
    },
    {
     "name": "stderr",
     "output_type": "stream",
     "text": [
      "/home/sergio/.local/lib/python3.8/site-packages/scanpy/preprocessing/_simple.py:251: ImplicitModificationWarning: Trying to modify attribute `.var` of view, initializing view as actual.\n",
      "  adata.var['n_cells'] = number\n"
     ]
    },
    {
     "name": "stdout",
     "output_type": "stream",
     "text": [
      "human_spinal_chord_inactive.h5ad\n"
     ]
    },
    {
     "name": "stderr",
     "output_type": "stream",
     "text": [
      "/home/sergio/.local/lib/python3.8/site-packages/scanpy/preprocessing/_simple.py:251: ImplicitModificationWarning: Trying to modify attribute `.var` of view, initializing view as actual.\n",
      "  adata.var['n_cells'] = number\n"
     ]
    },
    {
     "name": "stdout",
     "output_type": "stream",
     "text": [
      "h_breast_1.h5ad\n"
     ]
    },
    {
     "name": "stderr",
     "output_type": "stream",
     "text": [
      "/home/sergio/.local/lib/python3.8/site-packages/scanpy/preprocessing/_simple.py:251: ImplicitModificationWarning: Trying to modify attribute `.var` of view, initializing view as actual.\n",
      "  adata.var['n_cells'] = number\n"
     ]
    },
    {
     "name": "stdout",
     "output_type": "stream",
     "text": [
      "h_breast_2.h5ad\n"
     ]
    },
    {
     "name": "stderr",
     "output_type": "stream",
     "text": [
      "/home/sergio/.local/lib/python3.8/site-packages/scanpy/preprocessing/_simple.py:251: ImplicitModificationWarning: Trying to modify attribute `.var` of view, initializing view as actual.\n",
      "  adata.var['n_cells'] = number\n"
     ]
    },
    {
     "name": "stdout",
     "output_type": "stream",
     "text": [
      "lung_cancer.h5ad\n"
     ]
    },
    {
     "name": "stderr",
     "output_type": "stream",
     "text": [
      "/home/sergio/.local/lib/python3.8/site-packages/scanpy/preprocessing/_simple.py:251: ImplicitModificationWarning: Trying to modify attribute `.var` of view, initializing view as actual.\n",
      "  adata.var['n_cells'] = number\n"
     ]
    },
    {
     "name": "stdout",
     "output_type": "stream",
     "text": [
      "ms_brain_fullcoronal.h5ad\n"
     ]
    },
    {
     "name": "stderr",
     "output_type": "stream",
     "text": [
      "/home/sergio/.local/lib/python3.8/site-packages/scanpy/preprocessing/_simple.py:251: ImplicitModificationWarning: Trying to modify attribute `.var` of view, initializing view as actual.\n",
      "  adata.var['n_cells'] = number\n"
     ]
    },
    {
     "name": "stdout",
     "output_type": "stream",
     "text": [
      "ms_brain_partialcoronal.h5ad\n"
     ]
    },
    {
     "name": "stderr",
     "output_type": "stream",
     "text": [
      "/home/sergio/.local/lib/python3.8/site-packages/scanpy/preprocessing/_simple.py:251: ImplicitModificationWarning: Trying to modify attribute `.var` of view, initializing view as actual.\n",
      "  adata.var['n_cells'] = number\n"
     ]
    }
   ],
   "source": [
    "for f in files[:]:\n",
    "    try:\n",
    "        print(f)\n",
    "        adata=sc.read(output_dir+f)\n",
    "        sc.pp.normalize_total(adata)\n",
    "        sc.pp.log1p(adata)\n",
    "        adata.obsm['spatial']=np.array(adata.obs.loc[:,['x_centroid','y_centroid']])\n",
    "        import random\n",
    "        some=random.sample(range(0,adata.shape[0]),5000)\n",
    "        adata=adata[some,:]\n",
    "        # Run SINFONIA\n",
    "        adata = sinfonia.spatially_variable_genes(adata,n_top_genes=len(adata.var.index))\n",
    "        moranI=adata.var.loc[:,['spatially_variable','moranI']]\n",
    "        moranI['rank']=moranI['moranI'].rank()\n",
    "        moranI.to_csv('../../figures/SVF/'+str(f.split('.')[0])+'__sinfonia5000_moranI.csv')\n",
    "        gerayC=adata.var.loc[:,[ 'spatially_variable', 'gearyC']]\n",
    "        gerayC['rank']=gerayC['gearyC'].rank()\n",
    "        gerayC.to_csv('../../figures/SVF/'+str(f.split('.')[0])+'__sinfonia5000_gearyC.csv')\n",
    "    except:\n",
    "        print('not possible')"
   ]
  },
  {
   "cell_type": "markdown",
   "id": "01dad586",
   "metadata": {},
   "source": [
    "# Time processing"
   ]
  },
  {
   "cell_type": "code",
   "execution_count": 4,
   "id": "0a16a4d9",
   "metadata": {},
   "outputs": [
    {
     "name": "stdout",
     "output_type": "stream",
     "text": [
      "ms_brain_multisection1.h5ad\n"
     ]
    },
    {
     "name": "stderr",
     "output_type": "stream",
     "text": [
      "/home/sergio/.local/lib/python3.8/site-packages/scanpy/preprocessing/_normalization.py:170: UserWarning: Received a view of an AnnData. Making a copy.\n",
      "  view_to_actual(adata)\n"
     ]
    },
    {
     "name": "stdout",
     "output_type": "stream",
     "text": [
      "ms_brain_multisection1.h5ad\n"
     ]
    },
    {
     "name": "stderr",
     "output_type": "stream",
     "text": [
      "/home/sergio/.local/lib/python3.8/site-packages/scanpy/preprocessing/_normalization.py:170: UserWarning: Received a view of an AnnData. Making a copy.\n",
      "  view_to_actual(adata)\n"
     ]
    },
    {
     "name": "stdout",
     "output_type": "stream",
     "text": [
      "ms_brain_multisection1.h5ad\n"
     ]
    },
    {
     "name": "stderr",
     "output_type": "stream",
     "text": [
      "/home/sergio/.local/lib/python3.8/site-packages/scanpy/preprocessing/_normalization.py:170: UserWarning: Received a view of an AnnData. Making a copy.\n",
      "  view_to_actual(adata)\n"
     ]
    },
    {
     "name": "stdout",
     "output_type": "stream",
     "text": [
      "ms_brain_multisection1.h5ad\n"
     ]
    },
    {
     "name": "stderr",
     "output_type": "stream",
     "text": [
      "/home/sergio/.local/lib/python3.8/site-packages/scanpy/preprocessing/_normalization.py:170: UserWarning: Received a view of an AnnData. Making a copy.\n",
      "  view_to_actual(adata)\n"
     ]
    },
    {
     "name": "stdout",
     "output_type": "stream",
     "text": [
      "ms_brain_multisection1.h5ad\n"
     ]
    },
    {
     "name": "stderr",
     "output_type": "stream",
     "text": [
      "/home/sergio/.local/lib/python3.8/site-packages/scanpy/preprocessing/_normalization.py:170: UserWarning: Received a view of an AnnData. Making a copy.\n",
      "  view_to_actual(adata)\n"
     ]
    },
    {
     "name": "stdout",
     "output_type": "stream",
     "text": [
      "ms_brain_multisection1.h5ad\n"
     ]
    },
    {
     "name": "stderr",
     "output_type": "stream",
     "text": [
      "/home/sergio/.local/lib/python3.8/site-packages/scanpy/preprocessing/_normalization.py:170: UserWarning: Received a view of an AnnData. Making a copy.\n",
      "  view_to_actual(adata)\n"
     ]
    }
   ],
   "source": [
    "import time\n",
    "import random\n",
    "f='ms_brain_multisection1.h5ad'\n",
    "cells=[500,1000,5000,10000,50000,100000]\n",
    "times=[]\n",
    "for cel in cells:\n",
    "    print(f)\n",
    "    start_time = time.time()\n",
    "    adata=sc.read(output_dir+f)\n",
    "    some=random.sample(range(0,adata.shape[0]),int(cel))\n",
    "    adata=adata[some,:]\n",
    "    adata=adata[:,np.sum(adata.X,axis=0)>0]\n",
    "    sc.pp.normalize_total(adata)\n",
    "    sc.pp.log1p(adata)\n",
    "    adata.obsm['spatial']=np.array(adata.obs.loc[:,['x_centroid','y_centroid']])\n",
    "    # Run SINFONIA\n",
    "    adata = sinfonia.spatially_variable_genes(adata,n_top_genes=len(adata.var.index))\n",
    "    moranI=adata.var.loc[:,['spatially_variable','moranI']]\n",
    "    moranI['rank']=moranI['moranI'].rank()\n",
    "    gerayC=adata.var.loc[:,[ 'spatially_variable', 'gearyC']]\n",
    "    gerayC['rank']=gerayC['gearyC'].rank()\n",
    "    end_time = time.time()\n",
    "    times.append(end_time-start_time)"
   ]
  },
  {
   "cell_type": "code",
   "execution_count": 5,
   "id": "95b2a0b6",
   "metadata": {},
   "outputs": [
    {
     "data": {
      "image/png": "[encoded data removed]",
      "text/plain": [
       "<Figure size 432x288 with 1 Axes>"
      ]
     },
     "metadata": {
      "needs_background": "light"
     },
     "output_type": "display_data"
    }
   ],
   "source": [
    "timesres=pd.DataFrame([cells,times],index=['cells','times_sinfonia']).transpose()\n",
    "plt.plot(list(timesres['cells'].astype(int)),list(timesres['times_sinfonia'].astype(float)))\n",
    "timesres.to_csv('../../figures/times_svf/sinfonia_times.csv')"
   ]
  },
  {
   "cell_type": "code",
   "execution_count": null,
   "id": "042dba55",
   "metadata": {},
   "outputs": [],
   "source": []
  }
 ],
 "metadata": {
  "kernelspec": {
   "display_name": "sinfonia",
   "language": "python",
   "name": "sinfonia"
  },
  "language_info": {
   "codemirror_mode": {
    "name": "ipython",
    "version": 3
   },
   "file_extension": ".py",
   "mimetype": "text/x-python",
   "name": "python",
   "nbconvert_exporter": "python",
   "pygments_lexer": "ipython3",
   "version": "3.8.10"
  }
 },
 "nbformat": 4,
 "nbformat_minor": 5
}
